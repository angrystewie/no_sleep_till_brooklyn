{
 "cells": [
  {
   "cell_type": "markdown",
   "metadata": {
    "toc": true
   },
   "source": [
    "<h1>Содержание<span class=\"tocSkip\"></span></h1>\n",
    "<div class=\"toc\"><ul class=\"toc-item\"><li><span><a href=\"#Изучение-данных-из-файла\" data-toc-modified-id=\"Изучение-данных-из-файла-1\"><span class=\"toc-item-num\">1&nbsp;&nbsp;</span>Изучение данных из файла</a></span><ul class=\"toc-item\"><li><span><a href=\"#Вывод\" data-toc-modified-id=\"Вывод-1.1\"><span class=\"toc-item-num\">1.1&nbsp;&nbsp;</span>Вывод</a></span></li></ul></li><li><span><a href=\"#Предобработка-данных\" data-toc-modified-id=\"Предобработка-данных-2\"><span class=\"toc-item-num\">2&nbsp;&nbsp;</span>Предобработка данных</a></span><ul class=\"toc-item\"><li><span><a href=\"#Вывод\" data-toc-modified-id=\"Вывод-2.1\"><span class=\"toc-item-num\">2.1&nbsp;&nbsp;</span>Вывод</a></span></li></ul></li><li><span><a href=\"#Расчёты-и-добавление-результатов-в-таблицу\" data-toc-modified-id=\"Расчёты-и-добавление-результатов-в-таблицу-3\"><span class=\"toc-item-num\">3&nbsp;&nbsp;</span>Расчёты и добавление результатов в таблицу</a></span><ul class=\"toc-item\"><li><span><a href=\"#Вывод\" data-toc-modified-id=\"Вывод-3.1\"><span class=\"toc-item-num\">3.1&nbsp;&nbsp;</span>Вывод</a></span></li></ul></li><li><span><a href=\"#Исследовательский-анализ-данных\" data-toc-modified-id=\"Исследовательский-анализ-данных-4\"><span class=\"toc-item-num\">4&nbsp;&nbsp;</span>Исследовательский анализ данных</a></span><ul class=\"toc-item\"><li><span><a href=\"#Вывод\" data-toc-modified-id=\"Вывод-4.1\"><span class=\"toc-item-num\">4.1&nbsp;&nbsp;</span>Вывод</a></span></li></ul></li><li><span><a href=\"#Общий-вывод\" data-toc-modified-id=\"Общий-вывод-5\"><span class=\"toc-item-num\">5&nbsp;&nbsp;</span>Общий вывод</a></span></li><li><span><a href=\"#Чек-лист-готовности-проекта\" data-toc-modified-id=\"Чек-лист-готовности-проекта-6\"><span class=\"toc-item-num\">6&nbsp;&nbsp;</span>Чек-лист готовности проекта</a></span></li></ul></div>"
   ]
  },
  {
   "cell_type": "markdown",
   "metadata": {},
   "source": [
    "# Исследование объявлений о продаже квартир\n",
    "\n",
    "В вашем распоряжении данные аггрегатора объявлений по продаже недвижимости — архив объявлений о продаже квартир в Санкт-Петербурге и соседних населённых пунктах за несколько лет. Нужно научиться определять рыночную стоимость объектов недвижимости. Ваша задача — установить параметры. Это позволит построить автоматизированную систему: она отследит аномалии и мошенническую деятельность. \n",
    "\n",
    "По каждой квартире на продажу доступны два вида данных. Первые вписаны пользователем, вторые получены автоматически на основе картографических данных. Например, расстояние до центра, аэропорта, ближайшего парка и водоёма. "
   ]
  },
  {
   "cell_type": "markdown",
   "metadata": {},
   "source": [
    "## Изучение данных из файла"
   ]
  },
  {
   "cell_type": "code",
   "execution_count": 1,
   "metadata": {},
   "outputs": [],
   "source": [
    "#импортируем pandas\n",
    "import pandas as pd\n",
    "import matplotlib.pyplot as plt"
   ]
  },
  {
   "cell_type": "code",
   "execution_count": 2,
   "metadata": {},
   "outputs": [
    {
     "data": {
      "text/html": [
       "<div>\n",
       "<style scoped>\n",
       "    .dataframe tbody tr th:only-of-type {\n",
       "        vertical-align: middle;\n",
       "    }\n",
       "\n",
       "    .dataframe tbody tr th {\n",
       "        vertical-align: top;\n",
       "    }\n",
       "\n",
       "    .dataframe thead th {\n",
       "        text-align: right;\n",
       "    }\n",
       "</style>\n",
       "<table border=\"1\" class=\"dataframe\">\n",
       "  <thead>\n",
       "    <tr style=\"text-align: right;\">\n",
       "      <th></th>\n",
       "      <th>total_images</th>\n",
       "      <th>last_price</th>\n",
       "      <th>total_area</th>\n",
       "      <th>first_day_exposition</th>\n",
       "      <th>rooms</th>\n",
       "      <th>ceiling_height</th>\n",
       "      <th>floors_total</th>\n",
       "      <th>living_area</th>\n",
       "      <th>floor</th>\n",
       "      <th>is_apartment</th>\n",
       "      <th>...</th>\n",
       "      <th>kitchen_area</th>\n",
       "      <th>balcony</th>\n",
       "      <th>locality_name</th>\n",
       "      <th>airports_nearest</th>\n",
       "      <th>cityCenters_nearest</th>\n",
       "      <th>parks_around3000</th>\n",
       "      <th>parks_nearest</th>\n",
       "      <th>ponds_around3000</th>\n",
       "      <th>ponds_nearest</th>\n",
       "      <th>days_exposition</th>\n",
       "    </tr>\n",
       "  </thead>\n",
       "  <tbody>\n",
       "    <tr>\n",
       "      <td>0</td>\n",
       "      <td>20</td>\n",
       "      <td>13000000.0</td>\n",
       "      <td>108.00</td>\n",
       "      <td>2019-03-07T00:00:00</td>\n",
       "      <td>3</td>\n",
       "      <td>2.70</td>\n",
       "      <td>16.0</td>\n",
       "      <td>51.00</td>\n",
       "      <td>8</td>\n",
       "      <td>NaN</td>\n",
       "      <td>...</td>\n",
       "      <td>25.00</td>\n",
       "      <td>NaN</td>\n",
       "      <td>Санкт-Петербург</td>\n",
       "      <td>18863.0</td>\n",
       "      <td>16028.0</td>\n",
       "      <td>1.0</td>\n",
       "      <td>482.0</td>\n",
       "      <td>2.0</td>\n",
       "      <td>755.0</td>\n",
       "      <td>NaN</td>\n",
       "    </tr>\n",
       "    <tr>\n",
       "      <td>1</td>\n",
       "      <td>7</td>\n",
       "      <td>3350000.0</td>\n",
       "      <td>40.40</td>\n",
       "      <td>2018-12-04T00:00:00</td>\n",
       "      <td>1</td>\n",
       "      <td>NaN</td>\n",
       "      <td>11.0</td>\n",
       "      <td>18.60</td>\n",
       "      <td>1</td>\n",
       "      <td>NaN</td>\n",
       "      <td>...</td>\n",
       "      <td>11.00</td>\n",
       "      <td>2.0</td>\n",
       "      <td>посёлок Шушары</td>\n",
       "      <td>12817.0</td>\n",
       "      <td>18603.0</td>\n",
       "      <td>0.0</td>\n",
       "      <td>NaN</td>\n",
       "      <td>0.0</td>\n",
       "      <td>NaN</td>\n",
       "      <td>81.0</td>\n",
       "    </tr>\n",
       "    <tr>\n",
       "      <td>2</td>\n",
       "      <td>10</td>\n",
       "      <td>5196000.0</td>\n",
       "      <td>56.00</td>\n",
       "      <td>2015-08-20T00:00:00</td>\n",
       "      <td>2</td>\n",
       "      <td>NaN</td>\n",
       "      <td>5.0</td>\n",
       "      <td>34.30</td>\n",
       "      <td>4</td>\n",
       "      <td>NaN</td>\n",
       "      <td>...</td>\n",
       "      <td>8.30</td>\n",
       "      <td>0.0</td>\n",
       "      <td>Санкт-Петербург</td>\n",
       "      <td>21741.0</td>\n",
       "      <td>13933.0</td>\n",
       "      <td>1.0</td>\n",
       "      <td>90.0</td>\n",
       "      <td>2.0</td>\n",
       "      <td>574.0</td>\n",
       "      <td>558.0</td>\n",
       "    </tr>\n",
       "    <tr>\n",
       "      <td>3</td>\n",
       "      <td>0</td>\n",
       "      <td>64900000.0</td>\n",
       "      <td>159.00</td>\n",
       "      <td>2015-07-24T00:00:00</td>\n",
       "      <td>3</td>\n",
       "      <td>NaN</td>\n",
       "      <td>14.0</td>\n",
       "      <td>NaN</td>\n",
       "      <td>9</td>\n",
       "      <td>NaN</td>\n",
       "      <td>...</td>\n",
       "      <td>NaN</td>\n",
       "      <td>0.0</td>\n",
       "      <td>Санкт-Петербург</td>\n",
       "      <td>28098.0</td>\n",
       "      <td>6800.0</td>\n",
       "      <td>2.0</td>\n",
       "      <td>84.0</td>\n",
       "      <td>3.0</td>\n",
       "      <td>234.0</td>\n",
       "      <td>424.0</td>\n",
       "    </tr>\n",
       "    <tr>\n",
       "      <td>4</td>\n",
       "      <td>2</td>\n",
       "      <td>10000000.0</td>\n",
       "      <td>100.00</td>\n",
       "      <td>2018-06-19T00:00:00</td>\n",
       "      <td>2</td>\n",
       "      <td>3.03</td>\n",
       "      <td>14.0</td>\n",
       "      <td>32.00</td>\n",
       "      <td>13</td>\n",
       "      <td>NaN</td>\n",
       "      <td>...</td>\n",
       "      <td>41.00</td>\n",
       "      <td>NaN</td>\n",
       "      <td>Санкт-Петербург</td>\n",
       "      <td>31856.0</td>\n",
       "      <td>8098.0</td>\n",
       "      <td>2.0</td>\n",
       "      <td>112.0</td>\n",
       "      <td>1.0</td>\n",
       "      <td>48.0</td>\n",
       "      <td>121.0</td>\n",
       "    </tr>\n",
       "    <tr>\n",
       "      <td>5</td>\n",
       "      <td>10</td>\n",
       "      <td>2890000.0</td>\n",
       "      <td>30.40</td>\n",
       "      <td>2018-09-10T00:00:00</td>\n",
       "      <td>1</td>\n",
       "      <td>NaN</td>\n",
       "      <td>12.0</td>\n",
       "      <td>14.40</td>\n",
       "      <td>5</td>\n",
       "      <td>NaN</td>\n",
       "      <td>...</td>\n",
       "      <td>9.10</td>\n",
       "      <td>NaN</td>\n",
       "      <td>городской посёлок Янино-1</td>\n",
       "      <td>NaN</td>\n",
       "      <td>NaN</td>\n",
       "      <td>NaN</td>\n",
       "      <td>NaN</td>\n",
       "      <td>NaN</td>\n",
       "      <td>NaN</td>\n",
       "      <td>55.0</td>\n",
       "    </tr>\n",
       "    <tr>\n",
       "      <td>6</td>\n",
       "      <td>6</td>\n",
       "      <td>3700000.0</td>\n",
       "      <td>37.30</td>\n",
       "      <td>2017-11-02T00:00:00</td>\n",
       "      <td>1</td>\n",
       "      <td>NaN</td>\n",
       "      <td>26.0</td>\n",
       "      <td>10.60</td>\n",
       "      <td>6</td>\n",
       "      <td>NaN</td>\n",
       "      <td>...</td>\n",
       "      <td>14.40</td>\n",
       "      <td>1.0</td>\n",
       "      <td>посёлок Парголово</td>\n",
       "      <td>52996.0</td>\n",
       "      <td>19143.0</td>\n",
       "      <td>0.0</td>\n",
       "      <td>NaN</td>\n",
       "      <td>0.0</td>\n",
       "      <td>NaN</td>\n",
       "      <td>155.0</td>\n",
       "    </tr>\n",
       "    <tr>\n",
       "      <td>7</td>\n",
       "      <td>5</td>\n",
       "      <td>7915000.0</td>\n",
       "      <td>71.60</td>\n",
       "      <td>2019-04-18T00:00:00</td>\n",
       "      <td>2</td>\n",
       "      <td>NaN</td>\n",
       "      <td>24.0</td>\n",
       "      <td>NaN</td>\n",
       "      <td>22</td>\n",
       "      <td>NaN</td>\n",
       "      <td>...</td>\n",
       "      <td>18.90</td>\n",
       "      <td>2.0</td>\n",
       "      <td>Санкт-Петербург</td>\n",
       "      <td>23982.0</td>\n",
       "      <td>11634.0</td>\n",
       "      <td>0.0</td>\n",
       "      <td>NaN</td>\n",
       "      <td>0.0</td>\n",
       "      <td>NaN</td>\n",
       "      <td>NaN</td>\n",
       "    </tr>\n",
       "    <tr>\n",
       "      <td>8</td>\n",
       "      <td>20</td>\n",
       "      <td>2900000.0</td>\n",
       "      <td>33.16</td>\n",
       "      <td>2018-05-23T00:00:00</td>\n",
       "      <td>1</td>\n",
       "      <td>NaN</td>\n",
       "      <td>27.0</td>\n",
       "      <td>15.43</td>\n",
       "      <td>26</td>\n",
       "      <td>NaN</td>\n",
       "      <td>...</td>\n",
       "      <td>8.81</td>\n",
       "      <td>NaN</td>\n",
       "      <td>посёлок Мурино</td>\n",
       "      <td>NaN</td>\n",
       "      <td>NaN</td>\n",
       "      <td>NaN</td>\n",
       "      <td>NaN</td>\n",
       "      <td>NaN</td>\n",
       "      <td>NaN</td>\n",
       "      <td>189.0</td>\n",
       "    </tr>\n",
       "    <tr>\n",
       "      <td>9</td>\n",
       "      <td>18</td>\n",
       "      <td>5400000.0</td>\n",
       "      <td>61.00</td>\n",
       "      <td>2017-02-26T00:00:00</td>\n",
       "      <td>3</td>\n",
       "      <td>2.50</td>\n",
       "      <td>9.0</td>\n",
       "      <td>43.60</td>\n",
       "      <td>7</td>\n",
       "      <td>NaN</td>\n",
       "      <td>...</td>\n",
       "      <td>6.50</td>\n",
       "      <td>2.0</td>\n",
       "      <td>Санкт-Петербург</td>\n",
       "      <td>50898.0</td>\n",
       "      <td>15008.0</td>\n",
       "      <td>0.0</td>\n",
       "      <td>NaN</td>\n",
       "      <td>0.0</td>\n",
       "      <td>NaN</td>\n",
       "      <td>289.0</td>\n",
       "    </tr>\n",
       "    <tr>\n",
       "      <td>10</td>\n",
       "      <td>5</td>\n",
       "      <td>5050000.0</td>\n",
       "      <td>39.60</td>\n",
       "      <td>2017-11-16T00:00:00</td>\n",
       "      <td>1</td>\n",
       "      <td>2.67</td>\n",
       "      <td>12.0</td>\n",
       "      <td>20.30</td>\n",
       "      <td>3</td>\n",
       "      <td>NaN</td>\n",
       "      <td>...</td>\n",
       "      <td>8.50</td>\n",
       "      <td>NaN</td>\n",
       "      <td>Санкт-Петербург</td>\n",
       "      <td>38357.0</td>\n",
       "      <td>13878.0</td>\n",
       "      <td>1.0</td>\n",
       "      <td>310.0</td>\n",
       "      <td>2.0</td>\n",
       "      <td>553.0</td>\n",
       "      <td>137.0</td>\n",
       "    </tr>\n",
       "    <tr>\n",
       "      <td>11</td>\n",
       "      <td>9</td>\n",
       "      <td>3300000.0</td>\n",
       "      <td>44.00</td>\n",
       "      <td>2018-08-27T00:00:00</td>\n",
       "      <td>2</td>\n",
       "      <td>NaN</td>\n",
       "      <td>5.0</td>\n",
       "      <td>31.00</td>\n",
       "      <td>4</td>\n",
       "      <td>False</td>\n",
       "      <td>...</td>\n",
       "      <td>6.00</td>\n",
       "      <td>1.0</td>\n",
       "      <td>Ломоносов</td>\n",
       "      <td>48252.0</td>\n",
       "      <td>51677.0</td>\n",
       "      <td>0.0</td>\n",
       "      <td>NaN</td>\n",
       "      <td>0.0</td>\n",
       "      <td>NaN</td>\n",
       "      <td>7.0</td>\n",
       "    </tr>\n",
       "    <tr>\n",
       "      <td>12</td>\n",
       "      <td>10</td>\n",
       "      <td>3890000.0</td>\n",
       "      <td>54.00</td>\n",
       "      <td>2016-06-30T00:00:00</td>\n",
       "      <td>2</td>\n",
       "      <td>NaN</td>\n",
       "      <td>5.0</td>\n",
       "      <td>30.00</td>\n",
       "      <td>5</td>\n",
       "      <td>NaN</td>\n",
       "      <td>...</td>\n",
       "      <td>9.00</td>\n",
       "      <td>0.0</td>\n",
       "      <td>Сертолово</td>\n",
       "      <td>NaN</td>\n",
       "      <td>NaN</td>\n",
       "      <td>NaN</td>\n",
       "      <td>NaN</td>\n",
       "      <td>NaN</td>\n",
       "      <td>NaN</td>\n",
       "      <td>90.0</td>\n",
       "    </tr>\n",
       "    <tr>\n",
       "      <td>13</td>\n",
       "      <td>20</td>\n",
       "      <td>3550000.0</td>\n",
       "      <td>42.80</td>\n",
       "      <td>2017-07-01T00:00:00</td>\n",
       "      <td>2</td>\n",
       "      <td>2.56</td>\n",
       "      <td>5.0</td>\n",
       "      <td>27.00</td>\n",
       "      <td>5</td>\n",
       "      <td>NaN</td>\n",
       "      <td>...</td>\n",
       "      <td>5.20</td>\n",
       "      <td>1.0</td>\n",
       "      <td>Петергоф</td>\n",
       "      <td>37868.0</td>\n",
       "      <td>33058.0</td>\n",
       "      <td>1.0</td>\n",
       "      <td>294.0</td>\n",
       "      <td>3.0</td>\n",
       "      <td>298.0</td>\n",
       "      <td>366.0</td>\n",
       "    </tr>\n",
       "    <tr>\n",
       "      <td>14</td>\n",
       "      <td>1</td>\n",
       "      <td>4400000.0</td>\n",
       "      <td>36.00</td>\n",
       "      <td>2016-06-23T00:00:00</td>\n",
       "      <td>1</td>\n",
       "      <td>NaN</td>\n",
       "      <td>6.0</td>\n",
       "      <td>17.00</td>\n",
       "      <td>1</td>\n",
       "      <td>NaN</td>\n",
       "      <td>...</td>\n",
       "      <td>8.00</td>\n",
       "      <td>0.0</td>\n",
       "      <td>Пушкин</td>\n",
       "      <td>20782.0</td>\n",
       "      <td>30759.0</td>\n",
       "      <td>0.0</td>\n",
       "      <td>NaN</td>\n",
       "      <td>1.0</td>\n",
       "      <td>96.0</td>\n",
       "      <td>203.0</td>\n",
       "    </tr>\n",
       "    <tr>\n",
       "      <td>15</td>\n",
       "      <td>16</td>\n",
       "      <td>4650000.0</td>\n",
       "      <td>39.00</td>\n",
       "      <td>2017-11-18T00:00:00</td>\n",
       "      <td>1</td>\n",
       "      <td>NaN</td>\n",
       "      <td>14.0</td>\n",
       "      <td>20.50</td>\n",
       "      <td>5</td>\n",
       "      <td>NaN</td>\n",
       "      <td>...</td>\n",
       "      <td>7.60</td>\n",
       "      <td>1.0</td>\n",
       "      <td>Санкт-Петербург</td>\n",
       "      <td>12900.0</td>\n",
       "      <td>14259.0</td>\n",
       "      <td>1.0</td>\n",
       "      <td>590.0</td>\n",
       "      <td>1.0</td>\n",
       "      <td>296.0</td>\n",
       "      <td>19.0</td>\n",
       "    </tr>\n",
       "    <tr>\n",
       "      <td>16</td>\n",
       "      <td>11</td>\n",
       "      <td>6700000.0</td>\n",
       "      <td>82.00</td>\n",
       "      <td>2017-11-23T00:00:00</td>\n",
       "      <td>3</td>\n",
       "      <td>3.05</td>\n",
       "      <td>5.0</td>\n",
       "      <td>55.60</td>\n",
       "      <td>1</td>\n",
       "      <td>NaN</td>\n",
       "      <td>...</td>\n",
       "      <td>9.00</td>\n",
       "      <td>NaN</td>\n",
       "      <td>Санкт-Петербург</td>\n",
       "      <td>22108.0</td>\n",
       "      <td>10698.0</td>\n",
       "      <td>3.0</td>\n",
       "      <td>420.0</td>\n",
       "      <td>0.0</td>\n",
       "      <td>NaN</td>\n",
       "      <td>397.0</td>\n",
       "    </tr>\n",
       "    <tr>\n",
       "      <td>17</td>\n",
       "      <td>6</td>\n",
       "      <td>4180000.0</td>\n",
       "      <td>36.00</td>\n",
       "      <td>2016-09-09T00:00:00</td>\n",
       "      <td>1</td>\n",
       "      <td>NaN</td>\n",
       "      <td>17.0</td>\n",
       "      <td>16.50</td>\n",
       "      <td>7</td>\n",
       "      <td>NaN</td>\n",
       "      <td>...</td>\n",
       "      <td>11.00</td>\n",
       "      <td>1.0</td>\n",
       "      <td>Санкт-Петербург</td>\n",
       "      <td>33564.0</td>\n",
       "      <td>14616.0</td>\n",
       "      <td>0.0</td>\n",
       "      <td>NaN</td>\n",
       "      <td>1.0</td>\n",
       "      <td>859.0</td>\n",
       "      <td>571.0</td>\n",
       "    </tr>\n",
       "    <tr>\n",
       "      <td>18</td>\n",
       "      <td>8</td>\n",
       "      <td>3250000.0</td>\n",
       "      <td>31.00</td>\n",
       "      <td>2017-01-27T00:00:00</td>\n",
       "      <td>1</td>\n",
       "      <td>2.50</td>\n",
       "      <td>5.0</td>\n",
       "      <td>19.40</td>\n",
       "      <td>2</td>\n",
       "      <td>NaN</td>\n",
       "      <td>...</td>\n",
       "      <td>5.60</td>\n",
       "      <td>1.0</td>\n",
       "      <td>Санкт-Петербург</td>\n",
       "      <td>44060.0</td>\n",
       "      <td>10842.0</td>\n",
       "      <td>1.0</td>\n",
       "      <td>759.0</td>\n",
       "      <td>0.0</td>\n",
       "      <td>NaN</td>\n",
       "      <td>168.0</td>\n",
       "    </tr>\n",
       "    <tr>\n",
       "      <td>19</td>\n",
       "      <td>16</td>\n",
       "      <td>14200000.0</td>\n",
       "      <td>121.00</td>\n",
       "      <td>2019-01-09T00:00:00</td>\n",
       "      <td>3</td>\n",
       "      <td>2.75</td>\n",
       "      <td>16.0</td>\n",
       "      <td>76.00</td>\n",
       "      <td>8</td>\n",
       "      <td>NaN</td>\n",
       "      <td>...</td>\n",
       "      <td>12.00</td>\n",
       "      <td>NaN</td>\n",
       "      <td>Санкт-Петербург</td>\n",
       "      <td>38900.0</td>\n",
       "      <td>12843.0</td>\n",
       "      <td>0.0</td>\n",
       "      <td>NaN</td>\n",
       "      <td>0.0</td>\n",
       "      <td>NaN</td>\n",
       "      <td>97.0</td>\n",
       "    </tr>\n",
       "  </tbody>\n",
       "</table>\n",
       "<p>20 rows × 22 columns</p>\n",
       "</div>"
      ],
      "text/plain": [
       "    total_images  last_price  total_area first_day_exposition  rooms  \\\n",
       "0             20  13000000.0      108.00  2019-03-07T00:00:00      3   \n",
       "1              7   3350000.0       40.40  2018-12-04T00:00:00      1   \n",
       "2             10   5196000.0       56.00  2015-08-20T00:00:00      2   \n",
       "3              0  64900000.0      159.00  2015-07-24T00:00:00      3   \n",
       "4              2  10000000.0      100.00  2018-06-19T00:00:00      2   \n",
       "5             10   2890000.0       30.40  2018-09-10T00:00:00      1   \n",
       "6              6   3700000.0       37.30  2017-11-02T00:00:00      1   \n",
       "7              5   7915000.0       71.60  2019-04-18T00:00:00      2   \n",
       "8             20   2900000.0       33.16  2018-05-23T00:00:00      1   \n",
       "9             18   5400000.0       61.00  2017-02-26T00:00:00      3   \n",
       "10             5   5050000.0       39.60  2017-11-16T00:00:00      1   \n",
       "11             9   3300000.0       44.00  2018-08-27T00:00:00      2   \n",
       "12            10   3890000.0       54.00  2016-06-30T00:00:00      2   \n",
       "13            20   3550000.0       42.80  2017-07-01T00:00:00      2   \n",
       "14             1   4400000.0       36.00  2016-06-23T00:00:00      1   \n",
       "15            16   4650000.0       39.00  2017-11-18T00:00:00      1   \n",
       "16            11   6700000.0       82.00  2017-11-23T00:00:00      3   \n",
       "17             6   4180000.0       36.00  2016-09-09T00:00:00      1   \n",
       "18             8   3250000.0       31.00  2017-01-27T00:00:00      1   \n",
       "19            16  14200000.0      121.00  2019-01-09T00:00:00      3   \n",
       "\n",
       "    ceiling_height  floors_total  living_area  floor is_apartment  ...  \\\n",
       "0             2.70          16.0        51.00      8          NaN  ...   \n",
       "1              NaN          11.0        18.60      1          NaN  ...   \n",
       "2              NaN           5.0        34.30      4          NaN  ...   \n",
       "3              NaN          14.0          NaN      9          NaN  ...   \n",
       "4             3.03          14.0        32.00     13          NaN  ...   \n",
       "5              NaN          12.0        14.40      5          NaN  ...   \n",
       "6              NaN          26.0        10.60      6          NaN  ...   \n",
       "7              NaN          24.0          NaN     22          NaN  ...   \n",
       "8              NaN          27.0        15.43     26          NaN  ...   \n",
       "9             2.50           9.0        43.60      7          NaN  ...   \n",
       "10            2.67          12.0        20.30      3          NaN  ...   \n",
       "11             NaN           5.0        31.00      4        False  ...   \n",
       "12             NaN           5.0        30.00      5          NaN  ...   \n",
       "13            2.56           5.0        27.00      5          NaN  ...   \n",
       "14             NaN           6.0        17.00      1          NaN  ...   \n",
       "15             NaN          14.0        20.50      5          NaN  ...   \n",
       "16            3.05           5.0        55.60      1          NaN  ...   \n",
       "17             NaN          17.0        16.50      7          NaN  ...   \n",
       "18            2.50           5.0        19.40      2          NaN  ...   \n",
       "19            2.75          16.0        76.00      8          NaN  ...   \n",
       "\n",
       "    kitchen_area  balcony              locality_name  airports_nearest  \\\n",
       "0          25.00      NaN            Санкт-Петербург           18863.0   \n",
       "1          11.00      2.0             посёлок Шушары           12817.0   \n",
       "2           8.30      0.0            Санкт-Петербург           21741.0   \n",
       "3            NaN      0.0            Санкт-Петербург           28098.0   \n",
       "4          41.00      NaN            Санкт-Петербург           31856.0   \n",
       "5           9.10      NaN  городской посёлок Янино-1               NaN   \n",
       "6          14.40      1.0          посёлок Парголово           52996.0   \n",
       "7          18.90      2.0            Санкт-Петербург           23982.0   \n",
       "8           8.81      NaN             посёлок Мурино               NaN   \n",
       "9           6.50      2.0            Санкт-Петербург           50898.0   \n",
       "10          8.50      NaN            Санкт-Петербург           38357.0   \n",
       "11          6.00      1.0                  Ломоносов           48252.0   \n",
       "12          9.00      0.0                  Сертолово               NaN   \n",
       "13          5.20      1.0                   Петергоф           37868.0   \n",
       "14          8.00      0.0                     Пушкин           20782.0   \n",
       "15          7.60      1.0            Санкт-Петербург           12900.0   \n",
       "16          9.00      NaN            Санкт-Петербург           22108.0   \n",
       "17         11.00      1.0            Санкт-Петербург           33564.0   \n",
       "18          5.60      1.0            Санкт-Петербург           44060.0   \n",
       "19         12.00      NaN            Санкт-Петербург           38900.0   \n",
       "\n",
       "   cityCenters_nearest  parks_around3000  parks_nearest  ponds_around3000  \\\n",
       "0              16028.0               1.0          482.0               2.0   \n",
       "1              18603.0               0.0            NaN               0.0   \n",
       "2              13933.0               1.0           90.0               2.0   \n",
       "3               6800.0               2.0           84.0               3.0   \n",
       "4               8098.0               2.0          112.0               1.0   \n",
       "5                  NaN               NaN            NaN               NaN   \n",
       "6              19143.0               0.0            NaN               0.0   \n",
       "7              11634.0               0.0            NaN               0.0   \n",
       "8                  NaN               NaN            NaN               NaN   \n",
       "9              15008.0               0.0            NaN               0.0   \n",
       "10             13878.0               1.0          310.0               2.0   \n",
       "11             51677.0               0.0            NaN               0.0   \n",
       "12                 NaN               NaN            NaN               NaN   \n",
       "13             33058.0               1.0          294.0               3.0   \n",
       "14             30759.0               0.0            NaN               1.0   \n",
       "15             14259.0               1.0          590.0               1.0   \n",
       "16             10698.0               3.0          420.0               0.0   \n",
       "17             14616.0               0.0            NaN               1.0   \n",
       "18             10842.0               1.0          759.0               0.0   \n",
       "19             12843.0               0.0            NaN               0.0   \n",
       "\n",
       "    ponds_nearest  days_exposition  \n",
       "0           755.0              NaN  \n",
       "1             NaN             81.0  \n",
       "2           574.0            558.0  \n",
       "3           234.0            424.0  \n",
       "4            48.0            121.0  \n",
       "5             NaN             55.0  \n",
       "6             NaN            155.0  \n",
       "7             NaN              NaN  \n",
       "8             NaN            189.0  \n",
       "9             NaN            289.0  \n",
       "10          553.0            137.0  \n",
       "11            NaN              7.0  \n",
       "12            NaN             90.0  \n",
       "13          298.0            366.0  \n",
       "14           96.0            203.0  \n",
       "15          296.0             19.0  \n",
       "16            NaN            397.0  \n",
       "17          859.0            571.0  \n",
       "18            NaN            168.0  \n",
       "19            NaN             97.0  \n",
       "\n",
       "[20 rows x 22 columns]"
      ]
     },
     "metadata": {},
     "output_type": "display_data"
    }
   ],
   "source": [
    "#запишем датафрейм в переменную df. В качестве разделителя здесь используется '\\t' вместо классической запятой,\n",
    "#поэтому применим аргумент sep\n",
    "df = pd.read_csv('', sep='\\t')\n",
    "#посмотрим на него одним глазком\n",
    "display(df.head(20))"
   ]
  },
  {
   "cell_type": "markdown",
   "metadata": {},
   "source": [
    "Сразу бросается в глаза большое число пропусков в примерно половине столбцов. Наденем очки и посмотрим на эти данные поближе"
   ]
  },
  {
   "cell_type": "code",
   "execution_count": 3,
   "metadata": {},
   "outputs": [
    {
     "name": "stdout",
     "output_type": "stream",
     "text": [
      "<class 'pandas.core.frame.DataFrame'>\n",
      "RangeIndex: 23699 entries, 0 to 23698\n",
      "Data columns (total 22 columns):\n",
      "total_images            23699 non-null int64\n",
      "last_price              23699 non-null float64\n",
      "total_area              23699 non-null float64\n",
      "first_day_exposition    23699 non-null object\n",
      "rooms                   23699 non-null int64\n",
      "ceiling_height          14504 non-null float64\n",
      "floors_total            23613 non-null float64\n",
      "living_area             21796 non-null float64\n",
      "floor                   23699 non-null int64\n",
      "is_apartment            2775 non-null object\n",
      "studio                  23699 non-null bool\n",
      "open_plan               23699 non-null bool\n",
      "kitchen_area            21421 non-null float64\n",
      "balcony                 12180 non-null float64\n",
      "locality_name           23650 non-null object\n",
      "airports_nearest        18157 non-null float64\n",
      "cityCenters_nearest     18180 non-null float64\n",
      "parks_around3000        18181 non-null float64\n",
      "parks_nearest           8079 non-null float64\n",
      "ponds_around3000        18181 non-null float64\n",
      "ponds_nearest           9110 non-null float64\n",
      "days_exposition         20518 non-null float64\n",
      "dtypes: bool(2), float64(14), int64(3), object(3)\n",
      "memory usage: 3.7+ MB\n"
     ]
    }
   ],
   "source": [
    "df.info()"
   ]
  },
  {
   "cell_type": "markdown",
   "metadata": {},
   "source": [
    "Действительно, пропусков очень много. В ряде случаев отсутствует информация о площади комнат. Часто - об окружающей инфраструктуре, высоте потолков и наличии балкона. О том, является ли недаижимость апартаментами - вообще 2775 записей из 23699. Оценим долю пропусков."
   ]
  },
  {
   "cell_type": "code",
   "execution_count": 4,
   "metadata": {},
   "outputs": [
    {
     "data": {
      "text/plain": [
       "total_images            0.000000\n",
       "last_price              0.000000\n",
       "total_area              0.000000\n",
       "first_day_exposition    0.000000\n",
       "rooms                   0.000000\n",
       "ceiling_height          0.387991\n",
       "floors_total            0.003629\n",
       "living_area             0.080299\n",
       "floor                   0.000000\n",
       "is_apartment            0.882906\n",
       "studio                  0.000000\n",
       "open_plan               0.000000\n",
       "kitchen_area            0.096122\n",
       "balcony                 0.486054\n",
       "locality_name           0.002068\n",
       "airports_nearest        0.233850\n",
       "cityCenters_nearest     0.232879\n",
       "parks_around3000        0.232837\n",
       "parks_nearest           0.659100\n",
       "ponds_around3000        0.232837\n",
       "ponds_nearest           0.615596\n",
       "days_exposition         0.134225\n",
       "dtype: float64"
      ]
     },
     "execution_count": 4,
     "metadata": {},
     "output_type": "execute_result"
    }
   ],
   "source": [
    "df.isna().mean()"
   ]
  },
  {
   "cell_type": "markdown",
   "metadata": {},
   "source": [
    "Неутешительно. В причинах и характерах этих пропусков предстоит разобраться, а пока, достанем лупу и посмотрим на данные еще повинмательнее."
   ]
  },
  {
   "cell_type": "code",
   "execution_count": 5,
   "metadata": {},
   "outputs": [
    {
     "data": {
      "text/html": [
       "<div>\n",
       "<style scoped>\n",
       "    .dataframe tbody tr th:only-of-type {\n",
       "        vertical-align: middle;\n",
       "    }\n",
       "\n",
       "    .dataframe tbody tr th {\n",
       "        vertical-align: top;\n",
       "    }\n",
       "\n",
       "    .dataframe thead th {\n",
       "        text-align: right;\n",
       "    }\n",
       "</style>\n",
       "<table border=\"1\" class=\"dataframe\">\n",
       "  <thead>\n",
       "    <tr style=\"text-align: right;\">\n",
       "      <th></th>\n",
       "      <th>total_images</th>\n",
       "      <th>last_price</th>\n",
       "      <th>total_area</th>\n",
       "      <th>rooms</th>\n",
       "      <th>ceiling_height</th>\n",
       "      <th>floors_total</th>\n",
       "      <th>living_area</th>\n",
       "      <th>floor</th>\n",
       "      <th>kitchen_area</th>\n",
       "      <th>balcony</th>\n",
       "      <th>airports_nearest</th>\n",
       "      <th>cityCenters_nearest</th>\n",
       "      <th>parks_around3000</th>\n",
       "      <th>parks_nearest</th>\n",
       "      <th>ponds_around3000</th>\n",
       "      <th>ponds_nearest</th>\n",
       "      <th>days_exposition</th>\n",
       "    </tr>\n",
       "  </thead>\n",
       "  <tbody>\n",
       "    <tr>\n",
       "      <td>count</td>\n",
       "      <td>23699.000000</td>\n",
       "      <td>2.369900e+04</td>\n",
       "      <td>23699.000000</td>\n",
       "      <td>23699.000000</td>\n",
       "      <td>14504.000000</td>\n",
       "      <td>23613.000000</td>\n",
       "      <td>21796.000000</td>\n",
       "      <td>23699.000000</td>\n",
       "      <td>21421.000000</td>\n",
       "      <td>12180.000000</td>\n",
       "      <td>18157.000000</td>\n",
       "      <td>18180.000000</td>\n",
       "      <td>18181.000000</td>\n",
       "      <td>8079.000000</td>\n",
       "      <td>18181.000000</td>\n",
       "      <td>9110.000000</td>\n",
       "      <td>20518.000000</td>\n",
       "    </tr>\n",
       "    <tr>\n",
       "      <td>mean</td>\n",
       "      <td>9.858475</td>\n",
       "      <td>6.541549e+06</td>\n",
       "      <td>60.348651</td>\n",
       "      <td>2.070636</td>\n",
       "      <td>2.771499</td>\n",
       "      <td>10.673824</td>\n",
       "      <td>34.457852</td>\n",
       "      <td>5.892358</td>\n",
       "      <td>10.569807</td>\n",
       "      <td>1.150082</td>\n",
       "      <td>28793.672193</td>\n",
       "      <td>14191.277833</td>\n",
       "      <td>0.611408</td>\n",
       "      <td>490.804555</td>\n",
       "      <td>0.770255</td>\n",
       "      <td>517.980900</td>\n",
       "      <td>180.888634</td>\n",
       "    </tr>\n",
       "    <tr>\n",
       "      <td>std</td>\n",
       "      <td>5.682529</td>\n",
       "      <td>1.088701e+07</td>\n",
       "      <td>35.654083</td>\n",
       "      <td>1.078405</td>\n",
       "      <td>1.261056</td>\n",
       "      <td>6.597173</td>\n",
       "      <td>22.030445</td>\n",
       "      <td>4.885249</td>\n",
       "      <td>5.905438</td>\n",
       "      <td>1.071300</td>\n",
       "      <td>12630.880622</td>\n",
       "      <td>8608.386210</td>\n",
       "      <td>0.802074</td>\n",
       "      <td>342.317995</td>\n",
       "      <td>0.938346</td>\n",
       "      <td>277.720643</td>\n",
       "      <td>219.727988</td>\n",
       "    </tr>\n",
       "    <tr>\n",
       "      <td>min</td>\n",
       "      <td>0.000000</td>\n",
       "      <td>1.219000e+04</td>\n",
       "      <td>12.000000</td>\n",
       "      <td>0.000000</td>\n",
       "      <td>1.000000</td>\n",
       "      <td>1.000000</td>\n",
       "      <td>2.000000</td>\n",
       "      <td>1.000000</td>\n",
       "      <td>1.300000</td>\n",
       "      <td>0.000000</td>\n",
       "      <td>0.000000</td>\n",
       "      <td>181.000000</td>\n",
       "      <td>0.000000</td>\n",
       "      <td>1.000000</td>\n",
       "      <td>0.000000</td>\n",
       "      <td>13.000000</td>\n",
       "      <td>1.000000</td>\n",
       "    </tr>\n",
       "    <tr>\n",
       "      <td>25%</td>\n",
       "      <td>6.000000</td>\n",
       "      <td>3.400000e+06</td>\n",
       "      <td>40.000000</td>\n",
       "      <td>1.000000</td>\n",
       "      <td>2.520000</td>\n",
       "      <td>5.000000</td>\n",
       "      <td>18.600000</td>\n",
       "      <td>2.000000</td>\n",
       "      <td>7.000000</td>\n",
       "      <td>0.000000</td>\n",
       "      <td>18585.000000</td>\n",
       "      <td>9238.000000</td>\n",
       "      <td>0.000000</td>\n",
       "      <td>288.000000</td>\n",
       "      <td>0.000000</td>\n",
       "      <td>294.000000</td>\n",
       "      <td>45.000000</td>\n",
       "    </tr>\n",
       "    <tr>\n",
       "      <td>50%</td>\n",
       "      <td>9.000000</td>\n",
       "      <td>4.650000e+06</td>\n",
       "      <td>52.000000</td>\n",
       "      <td>2.000000</td>\n",
       "      <td>2.650000</td>\n",
       "      <td>9.000000</td>\n",
       "      <td>30.000000</td>\n",
       "      <td>4.000000</td>\n",
       "      <td>9.100000</td>\n",
       "      <td>1.000000</td>\n",
       "      <td>26726.000000</td>\n",
       "      <td>13098.500000</td>\n",
       "      <td>0.000000</td>\n",
       "      <td>455.000000</td>\n",
       "      <td>1.000000</td>\n",
       "      <td>502.000000</td>\n",
       "      <td>95.000000</td>\n",
       "    </tr>\n",
       "    <tr>\n",
       "      <td>75%</td>\n",
       "      <td>14.000000</td>\n",
       "      <td>6.800000e+06</td>\n",
       "      <td>69.900000</td>\n",
       "      <td>3.000000</td>\n",
       "      <td>2.800000</td>\n",
       "      <td>16.000000</td>\n",
       "      <td>42.300000</td>\n",
       "      <td>8.000000</td>\n",
       "      <td>12.000000</td>\n",
       "      <td>2.000000</td>\n",
       "      <td>37273.000000</td>\n",
       "      <td>16293.000000</td>\n",
       "      <td>1.000000</td>\n",
       "      <td>612.000000</td>\n",
       "      <td>1.000000</td>\n",
       "      <td>729.000000</td>\n",
       "      <td>232.000000</td>\n",
       "    </tr>\n",
       "    <tr>\n",
       "      <td>max</td>\n",
       "      <td>50.000000</td>\n",
       "      <td>7.630000e+08</td>\n",
       "      <td>900.000000</td>\n",
       "      <td>19.000000</td>\n",
       "      <td>100.000000</td>\n",
       "      <td>60.000000</td>\n",
       "      <td>409.700000</td>\n",
       "      <td>33.000000</td>\n",
       "      <td>112.000000</td>\n",
       "      <td>5.000000</td>\n",
       "      <td>84869.000000</td>\n",
       "      <td>65968.000000</td>\n",
       "      <td>3.000000</td>\n",
       "      <td>3190.000000</td>\n",
       "      <td>3.000000</td>\n",
       "      <td>1344.000000</td>\n",
       "      <td>1580.000000</td>\n",
       "    </tr>\n",
       "  </tbody>\n",
       "</table>\n",
       "</div>"
      ],
      "text/plain": [
       "       total_images    last_price    total_area         rooms  ceiling_height  \\\n",
       "count  23699.000000  2.369900e+04  23699.000000  23699.000000    14504.000000   \n",
       "mean       9.858475  6.541549e+06     60.348651      2.070636        2.771499   \n",
       "std        5.682529  1.088701e+07     35.654083      1.078405        1.261056   \n",
       "min        0.000000  1.219000e+04     12.000000      0.000000        1.000000   \n",
       "25%        6.000000  3.400000e+06     40.000000      1.000000        2.520000   \n",
       "50%        9.000000  4.650000e+06     52.000000      2.000000        2.650000   \n",
       "75%       14.000000  6.800000e+06     69.900000      3.000000        2.800000   \n",
       "max       50.000000  7.630000e+08    900.000000     19.000000      100.000000   \n",
       "\n",
       "       floors_total   living_area         floor  kitchen_area       balcony  \\\n",
       "count  23613.000000  21796.000000  23699.000000  21421.000000  12180.000000   \n",
       "mean      10.673824     34.457852      5.892358     10.569807      1.150082   \n",
       "std        6.597173     22.030445      4.885249      5.905438      1.071300   \n",
       "min        1.000000      2.000000      1.000000      1.300000      0.000000   \n",
       "25%        5.000000     18.600000      2.000000      7.000000      0.000000   \n",
       "50%        9.000000     30.000000      4.000000      9.100000      1.000000   \n",
       "75%       16.000000     42.300000      8.000000     12.000000      2.000000   \n",
       "max       60.000000    409.700000     33.000000    112.000000      5.000000   \n",
       "\n",
       "       airports_nearest  cityCenters_nearest  parks_around3000  parks_nearest  \\\n",
       "count      18157.000000         18180.000000      18181.000000    8079.000000   \n",
       "mean       28793.672193         14191.277833          0.611408     490.804555   \n",
       "std        12630.880622          8608.386210          0.802074     342.317995   \n",
       "min            0.000000           181.000000          0.000000       1.000000   \n",
       "25%        18585.000000          9238.000000          0.000000     288.000000   \n",
       "50%        26726.000000         13098.500000          0.000000     455.000000   \n",
       "75%        37273.000000         16293.000000          1.000000     612.000000   \n",
       "max        84869.000000         65968.000000          3.000000    3190.000000   \n",
       "\n",
       "       ponds_around3000  ponds_nearest  days_exposition  \n",
       "count      18181.000000    9110.000000     20518.000000  \n",
       "mean           0.770255     517.980900       180.888634  \n",
       "std            0.938346     277.720643       219.727988  \n",
       "min            0.000000      13.000000         1.000000  \n",
       "25%            0.000000     294.000000        45.000000  \n",
       "50%            1.000000     502.000000        95.000000  \n",
       "75%            1.000000     729.000000       232.000000  \n",
       "max            3.000000    1344.000000      1580.000000  "
      ]
     },
     "execution_count": 5,
     "metadata": {},
     "output_type": "execute_result"
    }
   ],
   "source": [
    "df.describe()"
   ]
  },
  {
   "cell_type": "markdown",
   "metadata": {},
   "source": [
    "Да тут еще и выбросы. Желаете квартиру площадью 900 м2? А повесить люстру на стометровый потолок? Если слишком высоко - есть метровый. А жилая площадь в два квадратных метра? Или кухня - 1.3 м2? Есть недвижимость на любой вкус и кошелек. Если смотреть на таблицу выше, можно заметить, что выбросы не сильно влияют на данные. Средняя не улетает в космос и в большинстве случаев не сильно отличается от медианы. Но отрицать их существование мы не можем.\n",
    "\n",
    "Со всем разберемся и все поправим.\n"
   ]
  },
  {
   "cell_type": "markdown",
   "metadata": {},
   "source": [
    "### Вывод"
   ]
  },
  {
   "cell_type": "markdown",
   "metadata": {},
   "source": [
    "В данных имеется множество пропусков, в некоторых случаях доля доходит до 88%. Кроме пропусков, есть выбросы."
   ]
  },
  {
   "cell_type": "markdown",
   "metadata": {},
   "source": [
    "## Предобработка данных"
   ]
  },
  {
   "cell_type": "markdown",
   "metadata": {},
   "source": [
    "Что же могло пойти не так, что мы имеем столько пропусков? Предлагаю рассмотреть причины и решить что с этим всем делать.\n",
    "\n",
    "\n",
    "С большой долей вероятности, причиной части пропусков является то, что пользователи просто не указывают данный параметр. Среди таких можно выделить `living_area`, `kitchen_area`, `floors_total`, однако заменив их медианными значениями, мы рискуем иметь несоответствия с общей площадью, или этажом. Пока я заменил бы значения `floors_total` на максимальное, только потому что пропусков ничтожно мало. Остальные два столбца я бы просто не трогал.\n",
    "\n",
    "Другая причина - отсутствие указанных параметров квартиры. Это означет, что пропуск в данных столбцах смело можно приравнять к нулю. Речь идет о `balcony`, `parks_around3000`, `ponds_around3000`. Подозреваю, что `is_apartment` тоже может относиться к этой категории. Заменим значения в `balcony`, `parks_around3000`, `ponds_around3000` и `is_apartment` на нули. Я бы `is_apartment` не трогал вообще, но когда я его буду превращать в булевое значение, все пропуски превратятся в True, а это чушь несусветная.\n",
    "\n",
    "Есть ситуации, когда с автоматическим внесением данных что-то идет не так. Вероятно, это случилось с `parks_nearest`, `ponds_nearest`, `cityCenters_nearest`, `airports_nearest`. Все заменим на медиану, но учтем населенный пункт. \n",
    "\n",
    "Есть еще пропуски в `locality_name`. Вряд ли когда создавали форму, решили разрешить оставлять это поле пустым, поэтому сочтем это технической ошибкой, а учитывая ничтожно малое количество строк с отсутствием значения в этом столбце, без сожаления от них избавимся.\n",
    "\n",
    "Поехали!"
   ]
  },
  {
   "cell_type": "code",
   "execution_count": 6,
   "metadata": {},
   "outputs": [
    {
     "name": "stdout",
     "output_type": "stream",
     "text": [
      "<class 'pandas.core.frame.DataFrame'>\n",
      "Int64Index: 23650 entries, 0 to 23698\n",
      "Data columns (total 22 columns):\n",
      "total_images            23650 non-null int64\n",
      "last_price              23650 non-null float64\n",
      "total_area              23650 non-null float64\n",
      "first_day_exposition    23650 non-null object\n",
      "rooms                   23650 non-null int64\n",
      "ceiling_height          14490 non-null float64\n",
      "floors_total            23650 non-null float64\n",
      "living_area             21752 non-null float64\n",
      "floor                   23650 non-null int64\n",
      "is_apartment            23650 non-null bool\n",
      "studio                  23650 non-null bool\n",
      "open_plan               23650 non-null bool\n",
      "kitchen_area            21381 non-null float64\n",
      "balcony                 23650 non-null float64\n",
      "locality_name           23650 non-null object\n",
      "airports_nearest        18264 non-null float64\n",
      "cityCenters_nearest     18264 non-null float64\n",
      "parks_around3000        23650 non-null float64\n",
      "parks_nearest           17652 non-null float64\n",
      "ponds_around3000        23650 non-null float64\n",
      "ponds_nearest           18156 non-null float64\n",
      "days_exposition         23650 non-null float64\n",
      "dtypes: bool(3), float64(14), int64(3), object(2)\n",
      "memory usage: 3.7+ MB\n"
     ]
    }
   ],
   "source": [
    "#используем поплавки для 'days_exposition'\n",
    "df['days_exposition'] = df['days_exposition'].fillna(0)\n",
    "#сходу займемся аннигиляцией строк с пропущенным 'locality_name'\n",
    "df = df.dropna(subset=['locality_name'])\n",
    "#пропуски в `floors_total` заменим на максимальное значение\n",
    "df['floors_total'] = df['floors_total'].fillna(df['floors_total'].max())\n",
    "#у следующей тройки игроков обнулим пропуски.\n",
    "df['balcony'] = df['balcony'].fillna(0)\n",
    "df['parks_around3000'] = df['parks_around3000'].fillna(0)\n",
    "df['ponds_around3000'] = df['ponds_around3000'].fillna(0)\n",
    "#разберемся с is_apartment\n",
    "df['is_apartment'] = df['is_apartment'].astype('float')\n",
    "df['is_apartment'] = df['is_apartment'].fillna(0)\n",
    "df['is_apartment'] = df['is_apartment'].astype('bool')\n",
    "#теперь заменим на медиану пропуски в расстояниях до ключевых мест с группировкой по населенному пункту\n",
    "df['parks_nearest'] = df['parks_nearest'].fillna(df.groupby('locality_name')['parks_nearest'].transform(\"median\"))\n",
    "df['ponds_nearest'] = df['ponds_nearest'].fillna(df.groupby('locality_name')['ponds_nearest'].transform(\"median\"))\n",
    "df['cityCenters_nearest'] = df['cityCenters_nearest'].fillna(df.groupby('locality_name')['cityCenters_nearest'].transform(\"median\"))\n",
    "df['airports_nearest'] = df['airports_nearest'].fillna(df.groupby('locality_name')['airports_nearest'].transform(\"median\"))\n",
    "#проверим, все ли нам удалось заполнить\n",
    "df.info()"
   ]
  },
  {
   "cell_type": "markdown",
   "metadata": {},
   "source": [
    "Кажется, в наших геоданных многие значения были изменены, но не все. Вероятно, есть населенные пункты, для которых не было указано данных значений совсем, а значит и медианное значение вычислить нельзя. Проверим так ли это"
   ]
  },
  {
   "cell_type": "code",
   "execution_count": 7,
   "metadata": {},
   "outputs": [
    {
     "data": {
      "text/html": [
       "<div>\n",
       "<style scoped>\n",
       "    .dataframe tbody tr th:only-of-type {\n",
       "        vertical-align: middle;\n",
       "    }\n",
       "\n",
       "    .dataframe tbody tr th {\n",
       "        vertical-align: top;\n",
       "    }\n",
       "\n",
       "    .dataframe thead tr th {\n",
       "        text-align: left;\n",
       "    }\n",
       "\n",
       "    .dataframe thead tr:last-of-type th {\n",
       "        text-align: right;\n",
       "    }\n",
       "</style>\n",
       "<table border=\"1\" class=\"dataframe\">\n",
       "  <thead>\n",
       "    <tr>\n",
       "      <th></th>\n",
       "      <th colspan=\"4\" halign=\"left\">parks_nearest</th>\n",
       "    </tr>\n",
       "    <tr>\n",
       "      <th></th>\n",
       "      <th>min</th>\n",
       "      <th>max</th>\n",
       "      <th>median</th>\n",
       "      <th>count</th>\n",
       "    </tr>\n",
       "    <tr>\n",
       "      <th>locality_name</th>\n",
       "      <th></th>\n",
       "      <th></th>\n",
       "      <th></th>\n",
       "      <th></th>\n",
       "    </tr>\n",
       "  </thead>\n",
       "  <tbody>\n",
       "    <tr>\n",
       "      <td>Бокситогорск</td>\n",
       "      <td>NaN</td>\n",
       "      <td>NaN</td>\n",
       "      <td>NaN</td>\n",
       "      <td>0</td>\n",
       "    </tr>\n",
       "    <tr>\n",
       "      <td>Волосово</td>\n",
       "      <td>NaN</td>\n",
       "      <td>NaN</td>\n",
       "      <td>NaN</td>\n",
       "      <td>0</td>\n",
       "    </tr>\n",
       "    <tr>\n",
       "      <td>Волхов</td>\n",
       "      <td>NaN</td>\n",
       "      <td>NaN</td>\n",
       "      <td>NaN</td>\n",
       "      <td>0</td>\n",
       "    </tr>\n",
       "    <tr>\n",
       "      <td>Всеволожск</td>\n",
       "      <td>NaN</td>\n",
       "      <td>NaN</td>\n",
       "      <td>NaN</td>\n",
       "      <td>0</td>\n",
       "    </tr>\n",
       "    <tr>\n",
       "      <td>Выборг</td>\n",
       "      <td>NaN</td>\n",
       "      <td>NaN</td>\n",
       "      <td>NaN</td>\n",
       "      <td>0</td>\n",
       "    </tr>\n",
       "    <tr>\n",
       "      <td>...</td>\n",
       "      <td>...</td>\n",
       "      <td>...</td>\n",
       "      <td>...</td>\n",
       "      <td>...</td>\n",
       "    </tr>\n",
       "    <tr>\n",
       "      <td>село Путилово</td>\n",
       "      <td>NaN</td>\n",
       "      <td>NaN</td>\n",
       "      <td>NaN</td>\n",
       "      <td>0</td>\n",
       "    </tr>\n",
       "    <tr>\n",
       "      <td>село Рождествено</td>\n",
       "      <td>NaN</td>\n",
       "      <td>NaN</td>\n",
       "      <td>NaN</td>\n",
       "      <td>0</td>\n",
       "    </tr>\n",
       "    <tr>\n",
       "      <td>село Русско-Высоцкое</td>\n",
       "      <td>NaN</td>\n",
       "      <td>NaN</td>\n",
       "      <td>NaN</td>\n",
       "      <td>0</td>\n",
       "    </tr>\n",
       "    <tr>\n",
       "      <td>село Старая Ладога</td>\n",
       "      <td>NaN</td>\n",
       "      <td>NaN</td>\n",
       "      <td>NaN</td>\n",
       "      <td>0</td>\n",
       "    </tr>\n",
       "    <tr>\n",
       "      <td>село Шум</td>\n",
       "      <td>NaN</td>\n",
       "      <td>NaN</td>\n",
       "      <td>NaN</td>\n",
       "      <td>0</td>\n",
       "    </tr>\n",
       "  </tbody>\n",
       "</table>\n",
       "<p>364 rows × 4 columns</p>\n",
       "</div>"
      ],
      "text/plain": [
       "                     parks_nearest                 \n",
       "                               min max median count\n",
       "locality_name                                      \n",
       "Бокситогорск                   NaN NaN    NaN     0\n",
       "Волосово                       NaN NaN    NaN     0\n",
       "Волхов                         NaN NaN    NaN     0\n",
       "Всеволожск                     NaN NaN    NaN     0\n",
       "Выборг                         NaN NaN    NaN     0\n",
       "...                            ...  ..    ...   ...\n",
       "село Путилово                  NaN NaN    NaN     0\n",
       "село Рождествено               NaN NaN    NaN     0\n",
       "село Русско-Высоцкое           NaN NaN    NaN     0\n",
       "село Старая Ладога             NaN NaN    NaN     0\n",
       "село Шум                       NaN NaN    NaN     0\n",
       "\n",
       "[364 rows x 4 columns]"
      ]
     },
     "execution_count": 7,
     "metadata": {},
     "output_type": "execute_result"
    }
   ],
   "source": [
    "df.groupby('locality_name').agg({'parks_nearest': ['min', 'max', 'median', 'count']})"
   ]
  },
  {
   "cell_type": "markdown",
   "metadata": {},
   "source": [
    "Что и требовалось доказать. \n",
    "\n",
    "Что смогли заполнили, остальное оставим как есть. Удалять не будем, чтобы не потерять более ценные данные, как и не будем дальше заполнять пропуски, чтобы совсем уж не искажать таблицу.\n",
    "\n",
    "Время для замены типов данных. Все замены типов, кроме одной будут косметическими. Лишь перевод данных в столбце `first_day_exposition` из object в datetime будет иметь практический смысл. Но начнем мы с превращения дробных чисел в целые.\n",
    "\n",
    "Превратим в целые числа значение в следующих столбцах:\n",
    "\n",
    "* `last_price`, потому что имеющиеся данные говорят о том, что после точки везде нули;\n",
    "\n",
    "* `floors_total`, потому что количество этажей должно быть целым числом;\n",
    "\n",
    "* `balcony`, потому что девять и три четверти бывает только платформа;\n",
    "\n",
    "* `days_exposition`, потому что удобно работать с полными днями."
   ]
  },
  {
   "cell_type": "code",
   "execution_count": 8,
   "metadata": {},
   "outputs": [
    {
     "name": "stdout",
     "output_type": "stream",
     "text": [
      "<class 'pandas.core.frame.DataFrame'>\n",
      "Int64Index: 23650 entries, 0 to 23698\n",
      "Data columns (total 22 columns):\n",
      "total_images            23650 non-null int64\n",
      "last_price              23650 non-null int64\n",
      "total_area              23650 non-null float64\n",
      "first_day_exposition    23650 non-null object\n",
      "rooms                   23650 non-null int64\n",
      "ceiling_height          14490 non-null float64\n",
      "floors_total            23650 non-null int64\n",
      "living_area             21752 non-null float64\n",
      "floor                   23650 non-null int64\n",
      "is_apartment            23650 non-null bool\n",
      "studio                  23650 non-null bool\n",
      "open_plan               23650 non-null bool\n",
      "kitchen_area            21381 non-null float64\n",
      "balcony                 23650 non-null int64\n",
      "locality_name           23650 non-null object\n",
      "airports_nearest        18264 non-null float64\n",
      "cityCenters_nearest     18264 non-null float64\n",
      "parks_around3000        23650 non-null float64\n",
      "parks_nearest           17652 non-null float64\n",
      "ponds_around3000        23650 non-null float64\n",
      "ponds_nearest           18156 non-null float64\n",
      "days_exposition         23650 non-null int64\n",
      "dtypes: bool(3), float64(10), int64(7), object(2)\n",
      "memory usage: 4.3+ MB\n"
     ]
    }
   ],
   "source": [
    "#реализуем задуманное\n",
    "df['last_price'] = df['last_price'].astype('int')\n",
    "df['floors_total'] = df['floors_total'].astype('int')\n",
    "df['balcony'] = df['balcony'].astype('int')\n",
    "df['days_exposition'] = df['days_exposition'].astype('int')\n",
    "#полюбуемся результатами\n",
    "df.info()"
   ]
  },
  {
   "cell_type": "markdown",
   "metadata": {},
   "source": [
    "Теперь займемся делом. Воспользуемся методом to_datetime и превратим кошмарные данные с нулевым временем в опрятные даты."
   ]
  },
  {
   "cell_type": "code",
   "execution_count": 9,
   "metadata": {},
   "outputs": [
    {
     "data": {
      "text/html": [
       "<div>\n",
       "<style scoped>\n",
       "    .dataframe tbody tr th:only-of-type {\n",
       "        vertical-align: middle;\n",
       "    }\n",
       "\n",
       "    .dataframe tbody tr th {\n",
       "        vertical-align: top;\n",
       "    }\n",
       "\n",
       "    .dataframe thead th {\n",
       "        text-align: right;\n",
       "    }\n",
       "</style>\n",
       "<table border=\"1\" class=\"dataframe\">\n",
       "  <thead>\n",
       "    <tr style=\"text-align: right;\">\n",
       "      <th></th>\n",
       "      <th>total_images</th>\n",
       "      <th>last_price</th>\n",
       "      <th>total_area</th>\n",
       "      <th>first_day_exposition</th>\n",
       "      <th>rooms</th>\n",
       "      <th>ceiling_height</th>\n",
       "      <th>floors_total</th>\n",
       "      <th>living_area</th>\n",
       "      <th>floor</th>\n",
       "      <th>is_apartment</th>\n",
       "      <th>...</th>\n",
       "      <th>kitchen_area</th>\n",
       "      <th>balcony</th>\n",
       "      <th>locality_name</th>\n",
       "      <th>airports_nearest</th>\n",
       "      <th>cityCenters_nearest</th>\n",
       "      <th>parks_around3000</th>\n",
       "      <th>parks_nearest</th>\n",
       "      <th>ponds_around3000</th>\n",
       "      <th>ponds_nearest</th>\n",
       "      <th>days_exposition</th>\n",
       "    </tr>\n",
       "  </thead>\n",
       "  <tbody>\n",
       "    <tr>\n",
       "      <td>0</td>\n",
       "      <td>20</td>\n",
       "      <td>13000000</td>\n",
       "      <td>108.0</td>\n",
       "      <td>2019-03-07</td>\n",
       "      <td>3</td>\n",
       "      <td>2.70</td>\n",
       "      <td>16</td>\n",
       "      <td>51.0</td>\n",
       "      <td>8</td>\n",
       "      <td>False</td>\n",
       "      <td>...</td>\n",
       "      <td>25.0</td>\n",
       "      <td>0</td>\n",
       "      <td>Санкт-Петербург</td>\n",
       "      <td>18863.0</td>\n",
       "      <td>16028.0</td>\n",
       "      <td>1.0</td>\n",
       "      <td>482.0</td>\n",
       "      <td>2.0</td>\n",
       "      <td>755.0</td>\n",
       "      <td>0</td>\n",
       "    </tr>\n",
       "    <tr>\n",
       "      <td>1</td>\n",
       "      <td>7</td>\n",
       "      <td>3350000</td>\n",
       "      <td>40.4</td>\n",
       "      <td>2018-12-04</td>\n",
       "      <td>1</td>\n",
       "      <td>NaN</td>\n",
       "      <td>11</td>\n",
       "      <td>18.6</td>\n",
       "      <td>1</td>\n",
       "      <td>False</td>\n",
       "      <td>...</td>\n",
       "      <td>11.0</td>\n",
       "      <td>2</td>\n",
       "      <td>посёлок Шушары</td>\n",
       "      <td>12817.0</td>\n",
       "      <td>18603.0</td>\n",
       "      <td>0.0</td>\n",
       "      <td>NaN</td>\n",
       "      <td>0.0</td>\n",
       "      <td>584.5</td>\n",
       "      <td>81</td>\n",
       "    </tr>\n",
       "    <tr>\n",
       "      <td>2</td>\n",
       "      <td>10</td>\n",
       "      <td>5196000</td>\n",
       "      <td>56.0</td>\n",
       "      <td>2015-08-20</td>\n",
       "      <td>2</td>\n",
       "      <td>NaN</td>\n",
       "      <td>5</td>\n",
       "      <td>34.3</td>\n",
       "      <td>4</td>\n",
       "      <td>False</td>\n",
       "      <td>...</td>\n",
       "      <td>8.3</td>\n",
       "      <td>0</td>\n",
       "      <td>Санкт-Петербург</td>\n",
       "      <td>21741.0</td>\n",
       "      <td>13933.0</td>\n",
       "      <td>1.0</td>\n",
       "      <td>90.0</td>\n",
       "      <td>2.0</td>\n",
       "      <td>574.0</td>\n",
       "      <td>558</td>\n",
       "    </tr>\n",
       "    <tr>\n",
       "      <td>3</td>\n",
       "      <td>0</td>\n",
       "      <td>64900000</td>\n",
       "      <td>159.0</td>\n",
       "      <td>2015-07-24</td>\n",
       "      <td>3</td>\n",
       "      <td>NaN</td>\n",
       "      <td>14</td>\n",
       "      <td>NaN</td>\n",
       "      <td>9</td>\n",
       "      <td>False</td>\n",
       "      <td>...</td>\n",
       "      <td>NaN</td>\n",
       "      <td>0</td>\n",
       "      <td>Санкт-Петербург</td>\n",
       "      <td>28098.0</td>\n",
       "      <td>6800.0</td>\n",
       "      <td>2.0</td>\n",
       "      <td>84.0</td>\n",
       "      <td>3.0</td>\n",
       "      <td>234.0</td>\n",
       "      <td>424</td>\n",
       "    </tr>\n",
       "    <tr>\n",
       "      <td>4</td>\n",
       "      <td>2</td>\n",
       "      <td>10000000</td>\n",
       "      <td>100.0</td>\n",
       "      <td>2018-06-19</td>\n",
       "      <td>2</td>\n",
       "      <td>3.03</td>\n",
       "      <td>14</td>\n",
       "      <td>32.0</td>\n",
       "      <td>13</td>\n",
       "      <td>False</td>\n",
       "      <td>...</td>\n",
       "      <td>41.0</td>\n",
       "      <td>0</td>\n",
       "      <td>Санкт-Петербург</td>\n",
       "      <td>31856.0</td>\n",
       "      <td>8098.0</td>\n",
       "      <td>2.0</td>\n",
       "      <td>112.0</td>\n",
       "      <td>1.0</td>\n",
       "      <td>48.0</td>\n",
       "      <td>121</td>\n",
       "    </tr>\n",
       "  </tbody>\n",
       "</table>\n",
       "<p>5 rows × 22 columns</p>\n",
       "</div>"
      ],
      "text/plain": [
       "   total_images  last_price  total_area first_day_exposition  rooms  \\\n",
       "0            20    13000000       108.0           2019-03-07      3   \n",
       "1             7     3350000        40.4           2018-12-04      1   \n",
       "2            10     5196000        56.0           2015-08-20      2   \n",
       "3             0    64900000       159.0           2015-07-24      3   \n",
       "4             2    10000000       100.0           2018-06-19      2   \n",
       "\n",
       "   ceiling_height  floors_total  living_area  floor  is_apartment  ...  \\\n",
       "0            2.70            16         51.0      8         False  ...   \n",
       "1             NaN            11         18.6      1         False  ...   \n",
       "2             NaN             5         34.3      4         False  ...   \n",
       "3             NaN            14          NaN      9         False  ...   \n",
       "4            3.03            14         32.0     13         False  ...   \n",
       "\n",
       "   kitchen_area  balcony    locality_name  airports_nearest  \\\n",
       "0          25.0        0  Санкт-Петербург           18863.0   \n",
       "1          11.0        2   посёлок Шушары           12817.0   \n",
       "2           8.3        0  Санкт-Петербург           21741.0   \n",
       "3           NaN        0  Санкт-Петербург           28098.0   \n",
       "4          41.0        0  Санкт-Петербург           31856.0   \n",
       "\n",
       "  cityCenters_nearest  parks_around3000  parks_nearest  ponds_around3000  \\\n",
       "0             16028.0               1.0          482.0               2.0   \n",
       "1             18603.0               0.0            NaN               0.0   \n",
       "2             13933.0               1.0           90.0               2.0   \n",
       "3              6800.0               2.0           84.0               3.0   \n",
       "4              8098.0               2.0          112.0               1.0   \n",
       "\n",
       "   ponds_nearest  days_exposition  \n",
       "0          755.0                0  \n",
       "1          584.5               81  \n",
       "2          574.0              558  \n",
       "3          234.0              424  \n",
       "4           48.0              121  \n",
       "\n",
       "[5 rows x 22 columns]"
      ]
     },
     "execution_count": 9,
     "metadata": {},
     "output_type": "execute_result"
    }
   ],
   "source": [
    "df['first_day_exposition'] = pd.to_datetime(df['first_day_exposition'], format='%Y-%m-%dT%H:%M:%S')\n",
    "df.head()"
   ]
  },
  {
   "cell_type": "markdown",
   "metadata": {},
   "source": [
    "Красивое\n",
    "\n",
    "Проверим на явные дубликаты еще что ли. На всякий случай."
   ]
  },
  {
   "cell_type": "code",
   "execution_count": 10,
   "metadata": {},
   "outputs": [
    {
     "data": {
      "text/plain": [
       "0"
      ]
     },
     "execution_count": 10,
     "metadata": {},
     "output_type": "execute_result"
    }
   ],
   "source": [
    "df.duplicated().sum()"
   ]
  },
  {
   "cell_type": "markdown",
   "metadata": {},
   "source": [
    "Ура, одной проблемой меньше."
   ]
  },
  {
   "cell_type": "markdown",
   "metadata": {},
   "source": [
    "### Вывод"
   ]
  },
  {
   "cell_type": "markdown",
   "metadata": {},
   "source": [
    "Почти все пропуски заполнены, там, где это возможно, не вредя данным. Исправлены типы данных по некоторым столбцам"
   ]
  },
  {
   "cell_type": "markdown",
   "metadata": {},
   "source": [
    "## Расчёты и добавление результатов в таблицу"
   ]
  },
  {
   "cell_type": "markdown",
   "metadata": {},
   "source": [
    "Пора добавить расчитать несколько полезных значений и добавить столбцы с новыми данными:\n",
    "* цену квадратного метра поместим в `sqm_price`;\n",
    "* день недели, месяц и год публикации объявления - `weekday`, `month`, `year`;\n",
    "* этаж квартиры; варианты — первый, последний, другой - `floortype` и `floortype_id`(0 - первый, 1 - другой, 2 - последний);\n",
    "* соотношение жилой и общей площади, а также отношение площади кухни к общей - `living_to_total` и `kitchen_to_total` соответственно.\n",
    "\n",
    "Начинаем с цены за квадратный метр"
   ]
  },
  {
   "cell_type": "code",
   "execution_count": 11,
   "metadata": {},
   "outputs": [
    {
     "data": {
      "text/html": [
       "<div>\n",
       "<style scoped>\n",
       "    .dataframe tbody tr th:only-of-type {\n",
       "        vertical-align: middle;\n",
       "    }\n",
       "\n",
       "    .dataframe tbody tr th {\n",
       "        vertical-align: top;\n",
       "    }\n",
       "\n",
       "    .dataframe thead th {\n",
       "        text-align: right;\n",
       "    }\n",
       "</style>\n",
       "<table border=\"1\" class=\"dataframe\">\n",
       "  <thead>\n",
       "    <tr style=\"text-align: right;\">\n",
       "      <th></th>\n",
       "      <th>total_images</th>\n",
       "      <th>last_price</th>\n",
       "      <th>total_area</th>\n",
       "      <th>first_day_exposition</th>\n",
       "      <th>rooms</th>\n",
       "      <th>ceiling_height</th>\n",
       "      <th>floors_total</th>\n",
       "      <th>living_area</th>\n",
       "      <th>floor</th>\n",
       "      <th>is_apartment</th>\n",
       "      <th>...</th>\n",
       "      <th>balcony</th>\n",
       "      <th>locality_name</th>\n",
       "      <th>airports_nearest</th>\n",
       "      <th>cityCenters_nearest</th>\n",
       "      <th>parks_around3000</th>\n",
       "      <th>parks_nearest</th>\n",
       "      <th>ponds_around3000</th>\n",
       "      <th>ponds_nearest</th>\n",
       "      <th>days_exposition</th>\n",
       "      <th>sqm_price</th>\n",
       "    </tr>\n",
       "  </thead>\n",
       "  <tbody>\n",
       "    <tr>\n",
       "      <td>0</td>\n",
       "      <td>20</td>\n",
       "      <td>13000000</td>\n",
       "      <td>108.0</td>\n",
       "      <td>2019-03-07</td>\n",
       "      <td>3</td>\n",
       "      <td>2.70</td>\n",
       "      <td>16</td>\n",
       "      <td>51.0</td>\n",
       "      <td>8</td>\n",
       "      <td>False</td>\n",
       "      <td>...</td>\n",
       "      <td>0</td>\n",
       "      <td>Санкт-Петербург</td>\n",
       "      <td>18863.0</td>\n",
       "      <td>16028.0</td>\n",
       "      <td>1.0</td>\n",
       "      <td>482.0</td>\n",
       "      <td>2.0</td>\n",
       "      <td>755.0</td>\n",
       "      <td>0</td>\n",
       "      <td>120370.370370</td>\n",
       "    </tr>\n",
       "    <tr>\n",
       "      <td>1</td>\n",
       "      <td>7</td>\n",
       "      <td>3350000</td>\n",
       "      <td>40.4</td>\n",
       "      <td>2018-12-04</td>\n",
       "      <td>1</td>\n",
       "      <td>NaN</td>\n",
       "      <td>11</td>\n",
       "      <td>18.6</td>\n",
       "      <td>1</td>\n",
       "      <td>False</td>\n",
       "      <td>...</td>\n",
       "      <td>2</td>\n",
       "      <td>посёлок Шушары</td>\n",
       "      <td>12817.0</td>\n",
       "      <td>18603.0</td>\n",
       "      <td>0.0</td>\n",
       "      <td>NaN</td>\n",
       "      <td>0.0</td>\n",
       "      <td>584.5</td>\n",
       "      <td>81</td>\n",
       "      <td>82920.792079</td>\n",
       "    </tr>\n",
       "    <tr>\n",
       "      <td>2</td>\n",
       "      <td>10</td>\n",
       "      <td>5196000</td>\n",
       "      <td>56.0</td>\n",
       "      <td>2015-08-20</td>\n",
       "      <td>2</td>\n",
       "      <td>NaN</td>\n",
       "      <td>5</td>\n",
       "      <td>34.3</td>\n",
       "      <td>4</td>\n",
       "      <td>False</td>\n",
       "      <td>...</td>\n",
       "      <td>0</td>\n",
       "      <td>Санкт-Петербург</td>\n",
       "      <td>21741.0</td>\n",
       "      <td>13933.0</td>\n",
       "      <td>1.0</td>\n",
       "      <td>90.0</td>\n",
       "      <td>2.0</td>\n",
       "      <td>574.0</td>\n",
       "      <td>558</td>\n",
       "      <td>92785.714286</td>\n",
       "    </tr>\n",
       "    <tr>\n",
       "      <td>3</td>\n",
       "      <td>0</td>\n",
       "      <td>64900000</td>\n",
       "      <td>159.0</td>\n",
       "      <td>2015-07-24</td>\n",
       "      <td>3</td>\n",
       "      <td>NaN</td>\n",
       "      <td>14</td>\n",
       "      <td>NaN</td>\n",
       "      <td>9</td>\n",
       "      <td>False</td>\n",
       "      <td>...</td>\n",
       "      <td>0</td>\n",
       "      <td>Санкт-Петербург</td>\n",
       "      <td>28098.0</td>\n",
       "      <td>6800.0</td>\n",
       "      <td>2.0</td>\n",
       "      <td>84.0</td>\n",
       "      <td>3.0</td>\n",
       "      <td>234.0</td>\n",
       "      <td>424</td>\n",
       "      <td>408176.100629</td>\n",
       "    </tr>\n",
       "    <tr>\n",
       "      <td>4</td>\n",
       "      <td>2</td>\n",
       "      <td>10000000</td>\n",
       "      <td>100.0</td>\n",
       "      <td>2018-06-19</td>\n",
       "      <td>2</td>\n",
       "      <td>3.03</td>\n",
       "      <td>14</td>\n",
       "      <td>32.0</td>\n",
       "      <td>13</td>\n",
       "      <td>False</td>\n",
       "      <td>...</td>\n",
       "      <td>0</td>\n",
       "      <td>Санкт-Петербург</td>\n",
       "      <td>31856.0</td>\n",
       "      <td>8098.0</td>\n",
       "      <td>2.0</td>\n",
       "      <td>112.0</td>\n",
       "      <td>1.0</td>\n",
       "      <td>48.0</td>\n",
       "      <td>121</td>\n",
       "      <td>100000.000000</td>\n",
       "    </tr>\n",
       "  </tbody>\n",
       "</table>\n",
       "<p>5 rows × 23 columns</p>\n",
       "</div>"
      ],
      "text/plain": [
       "   total_images  last_price  total_area first_day_exposition  rooms  \\\n",
       "0            20    13000000       108.0           2019-03-07      3   \n",
       "1             7     3350000        40.4           2018-12-04      1   \n",
       "2            10     5196000        56.0           2015-08-20      2   \n",
       "3             0    64900000       159.0           2015-07-24      3   \n",
       "4             2    10000000       100.0           2018-06-19      2   \n",
       "\n",
       "   ceiling_height  floors_total  living_area  floor  is_apartment  ...  \\\n",
       "0            2.70            16         51.0      8         False  ...   \n",
       "1             NaN            11         18.6      1         False  ...   \n",
       "2             NaN             5         34.3      4         False  ...   \n",
       "3             NaN            14          NaN      9         False  ...   \n",
       "4            3.03            14         32.0     13         False  ...   \n",
       "\n",
       "   balcony    locality_name  airports_nearest  cityCenters_nearest  \\\n",
       "0        0  Санкт-Петербург           18863.0              16028.0   \n",
       "1        2   посёлок Шушары           12817.0              18603.0   \n",
       "2        0  Санкт-Петербург           21741.0              13933.0   \n",
       "3        0  Санкт-Петербург           28098.0               6800.0   \n",
       "4        0  Санкт-Петербург           31856.0               8098.0   \n",
       "\n",
       "  parks_around3000  parks_nearest  ponds_around3000  ponds_nearest  \\\n",
       "0              1.0          482.0               2.0          755.0   \n",
       "1              0.0            NaN               0.0          584.5   \n",
       "2              1.0           90.0               2.0          574.0   \n",
       "3              2.0           84.0               3.0          234.0   \n",
       "4              2.0          112.0               1.0           48.0   \n",
       "\n",
       "   days_exposition      sqm_price  \n",
       "0                0  120370.370370  \n",
       "1               81   82920.792079  \n",
       "2              558   92785.714286  \n",
       "3              424  408176.100629  \n",
       "4              121  100000.000000  \n",
       "\n",
       "[5 rows x 23 columns]"
      ]
     },
     "execution_count": 11,
     "metadata": {},
     "output_type": "execute_result"
    }
   ],
   "source": [
    "df['sqm_price'] = df['last_price'] / df['total_area']\n",
    "df.head()"
   ]
  },
  {
   "cell_type": "markdown",
   "metadata": {},
   "source": [
    "Готово, теперь добавим `weekday`, `month` и `year`"
   ]
  },
  {
   "cell_type": "code",
   "execution_count": 12,
   "metadata": {},
   "outputs": [
    {
     "data": {
      "text/html": [
       "<div>\n",
       "<style scoped>\n",
       "    .dataframe tbody tr th:only-of-type {\n",
       "        vertical-align: middle;\n",
       "    }\n",
       "\n",
       "    .dataframe tbody tr th {\n",
       "        vertical-align: top;\n",
       "    }\n",
       "\n",
       "    .dataframe thead th {\n",
       "        text-align: right;\n",
       "    }\n",
       "</style>\n",
       "<table border=\"1\" class=\"dataframe\">\n",
       "  <thead>\n",
       "    <tr style=\"text-align: right;\">\n",
       "      <th></th>\n",
       "      <th>total_images</th>\n",
       "      <th>last_price</th>\n",
       "      <th>total_area</th>\n",
       "      <th>first_day_exposition</th>\n",
       "      <th>rooms</th>\n",
       "      <th>ceiling_height</th>\n",
       "      <th>floors_total</th>\n",
       "      <th>living_area</th>\n",
       "      <th>floor</th>\n",
       "      <th>is_apartment</th>\n",
       "      <th>...</th>\n",
       "      <th>cityCenters_nearest</th>\n",
       "      <th>parks_around3000</th>\n",
       "      <th>parks_nearest</th>\n",
       "      <th>ponds_around3000</th>\n",
       "      <th>ponds_nearest</th>\n",
       "      <th>days_exposition</th>\n",
       "      <th>sqm_price</th>\n",
       "      <th>weekday</th>\n",
       "      <th>month</th>\n",
       "      <th>year</th>\n",
       "    </tr>\n",
       "  </thead>\n",
       "  <tbody>\n",
       "    <tr>\n",
       "      <td>0</td>\n",
       "      <td>20</td>\n",
       "      <td>13000000</td>\n",
       "      <td>108.0</td>\n",
       "      <td>2019-03-07</td>\n",
       "      <td>3</td>\n",
       "      <td>2.70</td>\n",
       "      <td>16</td>\n",
       "      <td>51.0</td>\n",
       "      <td>8</td>\n",
       "      <td>False</td>\n",
       "      <td>...</td>\n",
       "      <td>16028.0</td>\n",
       "      <td>1.0</td>\n",
       "      <td>482.0</td>\n",
       "      <td>2.0</td>\n",
       "      <td>755.0</td>\n",
       "      <td>0</td>\n",
       "      <td>120370.370370</td>\n",
       "      <td>3</td>\n",
       "      <td>3</td>\n",
       "      <td>2019</td>\n",
       "    </tr>\n",
       "    <tr>\n",
       "      <td>1</td>\n",
       "      <td>7</td>\n",
       "      <td>3350000</td>\n",
       "      <td>40.4</td>\n",
       "      <td>2018-12-04</td>\n",
       "      <td>1</td>\n",
       "      <td>NaN</td>\n",
       "      <td>11</td>\n",
       "      <td>18.6</td>\n",
       "      <td>1</td>\n",
       "      <td>False</td>\n",
       "      <td>...</td>\n",
       "      <td>18603.0</td>\n",
       "      <td>0.0</td>\n",
       "      <td>NaN</td>\n",
       "      <td>0.0</td>\n",
       "      <td>584.5</td>\n",
       "      <td>81</td>\n",
       "      <td>82920.792079</td>\n",
       "      <td>1</td>\n",
       "      <td>12</td>\n",
       "      <td>2018</td>\n",
       "    </tr>\n",
       "    <tr>\n",
       "      <td>2</td>\n",
       "      <td>10</td>\n",
       "      <td>5196000</td>\n",
       "      <td>56.0</td>\n",
       "      <td>2015-08-20</td>\n",
       "      <td>2</td>\n",
       "      <td>NaN</td>\n",
       "      <td>5</td>\n",
       "      <td>34.3</td>\n",
       "      <td>4</td>\n",
       "      <td>False</td>\n",
       "      <td>...</td>\n",
       "      <td>13933.0</td>\n",
       "      <td>1.0</td>\n",
       "      <td>90.0</td>\n",
       "      <td>2.0</td>\n",
       "      <td>574.0</td>\n",
       "      <td>558</td>\n",
       "      <td>92785.714286</td>\n",
       "      <td>3</td>\n",
       "      <td>8</td>\n",
       "      <td>2015</td>\n",
       "    </tr>\n",
       "    <tr>\n",
       "      <td>3</td>\n",
       "      <td>0</td>\n",
       "      <td>64900000</td>\n",
       "      <td>159.0</td>\n",
       "      <td>2015-07-24</td>\n",
       "      <td>3</td>\n",
       "      <td>NaN</td>\n",
       "      <td>14</td>\n",
       "      <td>NaN</td>\n",
       "      <td>9</td>\n",
       "      <td>False</td>\n",
       "      <td>...</td>\n",
       "      <td>6800.0</td>\n",
       "      <td>2.0</td>\n",
       "      <td>84.0</td>\n",
       "      <td>3.0</td>\n",
       "      <td>234.0</td>\n",
       "      <td>424</td>\n",
       "      <td>408176.100629</td>\n",
       "      <td>4</td>\n",
       "      <td>7</td>\n",
       "      <td>2015</td>\n",
       "    </tr>\n",
       "    <tr>\n",
       "      <td>4</td>\n",
       "      <td>2</td>\n",
       "      <td>10000000</td>\n",
       "      <td>100.0</td>\n",
       "      <td>2018-06-19</td>\n",
       "      <td>2</td>\n",
       "      <td>3.03</td>\n",
       "      <td>14</td>\n",
       "      <td>32.0</td>\n",
       "      <td>13</td>\n",
       "      <td>False</td>\n",
       "      <td>...</td>\n",
       "      <td>8098.0</td>\n",
       "      <td>2.0</td>\n",
       "      <td>112.0</td>\n",
       "      <td>1.0</td>\n",
       "      <td>48.0</td>\n",
       "      <td>121</td>\n",
       "      <td>100000.000000</td>\n",
       "      <td>1</td>\n",
       "      <td>6</td>\n",
       "      <td>2018</td>\n",
       "    </tr>\n",
       "  </tbody>\n",
       "</table>\n",
       "<p>5 rows × 26 columns</p>\n",
       "</div>"
      ],
      "text/plain": [
       "   total_images  last_price  total_area first_day_exposition  rooms  \\\n",
       "0            20    13000000       108.0           2019-03-07      3   \n",
       "1             7     3350000        40.4           2018-12-04      1   \n",
       "2            10     5196000        56.0           2015-08-20      2   \n",
       "3             0    64900000       159.0           2015-07-24      3   \n",
       "4             2    10000000       100.0           2018-06-19      2   \n",
       "\n",
       "   ceiling_height  floors_total  living_area  floor  is_apartment  ...  \\\n",
       "0            2.70            16         51.0      8         False  ...   \n",
       "1             NaN            11         18.6      1         False  ...   \n",
       "2             NaN             5         34.3      4         False  ...   \n",
       "3             NaN            14          NaN      9         False  ...   \n",
       "4            3.03            14         32.0     13         False  ...   \n",
       "\n",
       "   cityCenters_nearest  parks_around3000  parks_nearest  ponds_around3000  \\\n",
       "0              16028.0               1.0          482.0               2.0   \n",
       "1              18603.0               0.0            NaN               0.0   \n",
       "2              13933.0               1.0           90.0               2.0   \n",
       "3               6800.0               2.0           84.0               3.0   \n",
       "4               8098.0               2.0          112.0               1.0   \n",
       "\n",
       "  ponds_nearest  days_exposition      sqm_price  weekday  month  year  \n",
       "0         755.0                0  120370.370370        3      3  2019  \n",
       "1         584.5               81   82920.792079        1     12  2018  \n",
       "2         574.0              558   92785.714286        3      8  2015  \n",
       "3         234.0              424  408176.100629        4      7  2015  \n",
       "4          48.0              121  100000.000000        1      6  2018  \n",
       "\n",
       "[5 rows x 26 columns]"
      ]
     },
     "execution_count": 12,
     "metadata": {},
     "output_type": "execute_result"
    }
   ],
   "source": [
    "df['weekday'] = df['first_day_exposition'].dt.weekday\n",
    "df['month'] = df['first_day_exposition'].dt.month\n",
    "df['year'] = df['first_day_exposition'].dt.year\n",
    "#проверяем\n",
    "df.head()"
   ]
  },
  {
   "cell_type": "markdown",
   "metadata": {},
   "source": [
    "Получилось! Беремся за `floortype`"
   ]
  },
  {
   "cell_type": "code",
   "execution_count": 13,
   "metadata": {},
   "outputs": [
    {
     "data": {
      "text/html": [
       "<div>\n",
       "<style scoped>\n",
       "    .dataframe tbody tr th:only-of-type {\n",
       "        vertical-align: middle;\n",
       "    }\n",
       "\n",
       "    .dataframe tbody tr th {\n",
       "        vertical-align: top;\n",
       "    }\n",
       "\n",
       "    .dataframe thead th {\n",
       "        text-align: right;\n",
       "    }\n",
       "</style>\n",
       "<table border=\"1\" class=\"dataframe\">\n",
       "  <thead>\n",
       "    <tr style=\"text-align: right;\">\n",
       "      <th></th>\n",
       "      <th>total_images</th>\n",
       "      <th>last_price</th>\n",
       "      <th>total_area</th>\n",
       "      <th>first_day_exposition</th>\n",
       "      <th>rooms</th>\n",
       "      <th>ceiling_height</th>\n",
       "      <th>floors_total</th>\n",
       "      <th>living_area</th>\n",
       "      <th>floor</th>\n",
       "      <th>is_apartment</th>\n",
       "      <th>...</th>\n",
       "      <th>parks_around3000</th>\n",
       "      <th>parks_nearest</th>\n",
       "      <th>ponds_around3000</th>\n",
       "      <th>ponds_nearest</th>\n",
       "      <th>days_exposition</th>\n",
       "      <th>sqm_price</th>\n",
       "      <th>weekday</th>\n",
       "      <th>month</th>\n",
       "      <th>year</th>\n",
       "      <th>floortype</th>\n",
       "    </tr>\n",
       "  </thead>\n",
       "  <tbody>\n",
       "    <tr>\n",
       "      <td>0</td>\n",
       "      <td>20</td>\n",
       "      <td>13000000</td>\n",
       "      <td>108.0</td>\n",
       "      <td>2019-03-07</td>\n",
       "      <td>3</td>\n",
       "      <td>2.70</td>\n",
       "      <td>16</td>\n",
       "      <td>51.0</td>\n",
       "      <td>8</td>\n",
       "      <td>False</td>\n",
       "      <td>...</td>\n",
       "      <td>1.0</td>\n",
       "      <td>482.0</td>\n",
       "      <td>2.0</td>\n",
       "      <td>755.0</td>\n",
       "      <td>0</td>\n",
       "      <td>120370.370370</td>\n",
       "      <td>3</td>\n",
       "      <td>3</td>\n",
       "      <td>2019</td>\n",
       "      <td>Другой</td>\n",
       "    </tr>\n",
       "    <tr>\n",
       "      <td>1</td>\n",
       "      <td>7</td>\n",
       "      <td>3350000</td>\n",
       "      <td>40.4</td>\n",
       "      <td>2018-12-04</td>\n",
       "      <td>1</td>\n",
       "      <td>NaN</td>\n",
       "      <td>11</td>\n",
       "      <td>18.6</td>\n",
       "      <td>1</td>\n",
       "      <td>False</td>\n",
       "      <td>...</td>\n",
       "      <td>0.0</td>\n",
       "      <td>NaN</td>\n",
       "      <td>0.0</td>\n",
       "      <td>584.5</td>\n",
       "      <td>81</td>\n",
       "      <td>82920.792079</td>\n",
       "      <td>1</td>\n",
       "      <td>12</td>\n",
       "      <td>2018</td>\n",
       "      <td>Первый</td>\n",
       "    </tr>\n",
       "    <tr>\n",
       "      <td>2</td>\n",
       "      <td>10</td>\n",
       "      <td>5196000</td>\n",
       "      <td>56.0</td>\n",
       "      <td>2015-08-20</td>\n",
       "      <td>2</td>\n",
       "      <td>NaN</td>\n",
       "      <td>5</td>\n",
       "      <td>34.3</td>\n",
       "      <td>4</td>\n",
       "      <td>False</td>\n",
       "      <td>...</td>\n",
       "      <td>1.0</td>\n",
       "      <td>90.0</td>\n",
       "      <td>2.0</td>\n",
       "      <td>574.0</td>\n",
       "      <td>558</td>\n",
       "      <td>92785.714286</td>\n",
       "      <td>3</td>\n",
       "      <td>8</td>\n",
       "      <td>2015</td>\n",
       "      <td>Другой</td>\n",
       "    </tr>\n",
       "    <tr>\n",
       "      <td>3</td>\n",
       "      <td>0</td>\n",
       "      <td>64900000</td>\n",
       "      <td>159.0</td>\n",
       "      <td>2015-07-24</td>\n",
       "      <td>3</td>\n",
       "      <td>NaN</td>\n",
       "      <td>14</td>\n",
       "      <td>NaN</td>\n",
       "      <td>9</td>\n",
       "      <td>False</td>\n",
       "      <td>...</td>\n",
       "      <td>2.0</td>\n",
       "      <td>84.0</td>\n",
       "      <td>3.0</td>\n",
       "      <td>234.0</td>\n",
       "      <td>424</td>\n",
       "      <td>408176.100629</td>\n",
       "      <td>4</td>\n",
       "      <td>7</td>\n",
       "      <td>2015</td>\n",
       "      <td>Другой</td>\n",
       "    </tr>\n",
       "    <tr>\n",
       "      <td>4</td>\n",
       "      <td>2</td>\n",
       "      <td>10000000</td>\n",
       "      <td>100.0</td>\n",
       "      <td>2018-06-19</td>\n",
       "      <td>2</td>\n",
       "      <td>3.03</td>\n",
       "      <td>14</td>\n",
       "      <td>32.0</td>\n",
       "      <td>13</td>\n",
       "      <td>False</td>\n",
       "      <td>...</td>\n",
       "      <td>2.0</td>\n",
       "      <td>112.0</td>\n",
       "      <td>1.0</td>\n",
       "      <td>48.0</td>\n",
       "      <td>121</td>\n",
       "      <td>100000.000000</td>\n",
       "      <td>1</td>\n",
       "      <td>6</td>\n",
       "      <td>2018</td>\n",
       "      <td>Другой</td>\n",
       "    </tr>\n",
       "  </tbody>\n",
       "</table>\n",
       "<p>5 rows × 27 columns</p>\n",
       "</div>"
      ],
      "text/plain": [
       "   total_images  last_price  total_area first_day_exposition  rooms  \\\n",
       "0            20    13000000       108.0           2019-03-07      3   \n",
       "1             7     3350000        40.4           2018-12-04      1   \n",
       "2            10     5196000        56.0           2015-08-20      2   \n",
       "3             0    64900000       159.0           2015-07-24      3   \n",
       "4             2    10000000       100.0           2018-06-19      2   \n",
       "\n",
       "   ceiling_height  floors_total  living_area  floor  is_apartment  ...  \\\n",
       "0            2.70            16         51.0      8         False  ...   \n",
       "1             NaN            11         18.6      1         False  ...   \n",
       "2             NaN             5         34.3      4         False  ...   \n",
       "3             NaN            14          NaN      9         False  ...   \n",
       "4            3.03            14         32.0     13         False  ...   \n",
       "\n",
       "   parks_around3000  parks_nearest  ponds_around3000  ponds_nearest  \\\n",
       "0               1.0          482.0               2.0          755.0   \n",
       "1               0.0            NaN               0.0          584.5   \n",
       "2               1.0           90.0               2.0          574.0   \n",
       "3               2.0           84.0               3.0          234.0   \n",
       "4               2.0          112.0               1.0           48.0   \n",
       "\n",
       "  days_exposition      sqm_price  weekday  month  year  floortype  \n",
       "0               0  120370.370370        3      3  2019     Другой  \n",
       "1              81   82920.792079        1     12  2018     Первый  \n",
       "2             558   92785.714286        3      8  2015     Другой  \n",
       "3             424  408176.100629        4      7  2015     Другой  \n",
       "4             121  100000.000000        1      6  2018     Другой  \n",
       "\n",
       "[5 rows x 27 columns]"
      ]
     },
     "execution_count": 13,
     "metadata": {},
     "output_type": "execute_result"
    }
   ],
   "source": [
    "#создадим функцию для категоризации по типам этажей\n",
    "def floortype_adding(row):\n",
    "    if row['floor'] == 1:\n",
    "        return 'Первый'\n",
    "    if row['floor'] == row['floors_total']:\n",
    "        return 'Последний'\n",
    "    return 'Другой'\n",
    "#применим ее\n",
    "df['floortype'] = df.apply(floortype_adding, axis=1)\n",
    "#проверим как все прошло\n",
    "df.head()"
   ]
  },
  {
   "cell_type": "code",
   "execution_count": 14,
   "metadata": {},
   "outputs": [
    {
     "data": {
      "text/html": [
       "<div>\n",
       "<style scoped>\n",
       "    .dataframe tbody tr th:only-of-type {\n",
       "        vertical-align: middle;\n",
       "    }\n",
       "\n",
       "    .dataframe tbody tr th {\n",
       "        vertical-align: top;\n",
       "    }\n",
       "\n",
       "    .dataframe thead th {\n",
       "        text-align: right;\n",
       "    }\n",
       "</style>\n",
       "<table border=\"1\" class=\"dataframe\">\n",
       "  <thead>\n",
       "    <tr style=\"text-align: right;\">\n",
       "      <th></th>\n",
       "      <th>total_images</th>\n",
       "      <th>last_price</th>\n",
       "      <th>total_area</th>\n",
       "      <th>first_day_exposition</th>\n",
       "      <th>rooms</th>\n",
       "      <th>ceiling_height</th>\n",
       "      <th>floors_total</th>\n",
       "      <th>living_area</th>\n",
       "      <th>floor</th>\n",
       "      <th>is_apartment</th>\n",
       "      <th>...</th>\n",
       "      <th>parks_nearest</th>\n",
       "      <th>ponds_around3000</th>\n",
       "      <th>ponds_nearest</th>\n",
       "      <th>days_exposition</th>\n",
       "      <th>sqm_price</th>\n",
       "      <th>weekday</th>\n",
       "      <th>month</th>\n",
       "      <th>year</th>\n",
       "      <th>floortype</th>\n",
       "      <th>floortype_id</th>\n",
       "    </tr>\n",
       "  </thead>\n",
       "  <tbody>\n",
       "    <tr>\n",
       "      <td>0</td>\n",
       "      <td>20</td>\n",
       "      <td>13000000</td>\n",
       "      <td>108.0</td>\n",
       "      <td>2019-03-07</td>\n",
       "      <td>3</td>\n",
       "      <td>2.70</td>\n",
       "      <td>16</td>\n",
       "      <td>51.0</td>\n",
       "      <td>8</td>\n",
       "      <td>False</td>\n",
       "      <td>...</td>\n",
       "      <td>482.0</td>\n",
       "      <td>2.0</td>\n",
       "      <td>755.0</td>\n",
       "      <td>0</td>\n",
       "      <td>120370.370370</td>\n",
       "      <td>3</td>\n",
       "      <td>3</td>\n",
       "      <td>2019</td>\n",
       "      <td>Другой</td>\n",
       "      <td>1</td>\n",
       "    </tr>\n",
       "    <tr>\n",
       "      <td>1</td>\n",
       "      <td>7</td>\n",
       "      <td>3350000</td>\n",
       "      <td>40.4</td>\n",
       "      <td>2018-12-04</td>\n",
       "      <td>1</td>\n",
       "      <td>NaN</td>\n",
       "      <td>11</td>\n",
       "      <td>18.6</td>\n",
       "      <td>1</td>\n",
       "      <td>False</td>\n",
       "      <td>...</td>\n",
       "      <td>NaN</td>\n",
       "      <td>0.0</td>\n",
       "      <td>584.5</td>\n",
       "      <td>81</td>\n",
       "      <td>82920.792079</td>\n",
       "      <td>1</td>\n",
       "      <td>12</td>\n",
       "      <td>2018</td>\n",
       "      <td>Первый</td>\n",
       "      <td>0</td>\n",
       "    </tr>\n",
       "    <tr>\n",
       "      <td>2</td>\n",
       "      <td>10</td>\n",
       "      <td>5196000</td>\n",
       "      <td>56.0</td>\n",
       "      <td>2015-08-20</td>\n",
       "      <td>2</td>\n",
       "      <td>NaN</td>\n",
       "      <td>5</td>\n",
       "      <td>34.3</td>\n",
       "      <td>4</td>\n",
       "      <td>False</td>\n",
       "      <td>...</td>\n",
       "      <td>90.0</td>\n",
       "      <td>2.0</td>\n",
       "      <td>574.0</td>\n",
       "      <td>558</td>\n",
       "      <td>92785.714286</td>\n",
       "      <td>3</td>\n",
       "      <td>8</td>\n",
       "      <td>2015</td>\n",
       "      <td>Другой</td>\n",
       "      <td>1</td>\n",
       "    </tr>\n",
       "    <tr>\n",
       "      <td>3</td>\n",
       "      <td>0</td>\n",
       "      <td>64900000</td>\n",
       "      <td>159.0</td>\n",
       "      <td>2015-07-24</td>\n",
       "      <td>3</td>\n",
       "      <td>NaN</td>\n",
       "      <td>14</td>\n",
       "      <td>NaN</td>\n",
       "      <td>9</td>\n",
       "      <td>False</td>\n",
       "      <td>...</td>\n",
       "      <td>84.0</td>\n",
       "      <td>3.0</td>\n",
       "      <td>234.0</td>\n",
       "      <td>424</td>\n",
       "      <td>408176.100629</td>\n",
       "      <td>4</td>\n",
       "      <td>7</td>\n",
       "      <td>2015</td>\n",
       "      <td>Другой</td>\n",
       "      <td>1</td>\n",
       "    </tr>\n",
       "    <tr>\n",
       "      <td>4</td>\n",
       "      <td>2</td>\n",
       "      <td>10000000</td>\n",
       "      <td>100.0</td>\n",
       "      <td>2018-06-19</td>\n",
       "      <td>2</td>\n",
       "      <td>3.03</td>\n",
       "      <td>14</td>\n",
       "      <td>32.0</td>\n",
       "      <td>13</td>\n",
       "      <td>False</td>\n",
       "      <td>...</td>\n",
       "      <td>112.0</td>\n",
       "      <td>1.0</td>\n",
       "      <td>48.0</td>\n",
       "      <td>121</td>\n",
       "      <td>100000.000000</td>\n",
       "      <td>1</td>\n",
       "      <td>6</td>\n",
       "      <td>2018</td>\n",
       "      <td>Другой</td>\n",
       "      <td>1</td>\n",
       "    </tr>\n",
       "  </tbody>\n",
       "</table>\n",
       "<p>5 rows × 28 columns</p>\n",
       "</div>"
      ],
      "text/plain": [
       "   total_images  last_price  total_area first_day_exposition  rooms  \\\n",
       "0            20    13000000       108.0           2019-03-07      3   \n",
       "1             7     3350000        40.4           2018-12-04      1   \n",
       "2            10     5196000        56.0           2015-08-20      2   \n",
       "3             0    64900000       159.0           2015-07-24      3   \n",
       "4             2    10000000       100.0           2018-06-19      2   \n",
       "\n",
       "   ceiling_height  floors_total  living_area  floor  is_apartment  ...  \\\n",
       "0            2.70            16         51.0      8         False  ...   \n",
       "1             NaN            11         18.6      1         False  ...   \n",
       "2             NaN             5         34.3      4         False  ...   \n",
       "3             NaN            14          NaN      9         False  ...   \n",
       "4            3.03            14         32.0     13         False  ...   \n",
       "\n",
       "   parks_nearest  ponds_around3000  ponds_nearest  days_exposition  \\\n",
       "0          482.0               2.0          755.0                0   \n",
       "1            NaN               0.0          584.5               81   \n",
       "2           90.0               2.0          574.0              558   \n",
       "3           84.0               3.0          234.0              424   \n",
       "4          112.0               1.0           48.0              121   \n",
       "\n",
       "       sqm_price  weekday  month  year  floortype  floortype_id  \n",
       "0  120370.370370        3      3  2019     Другой             1  \n",
       "1   82920.792079        1     12  2018     Первый             0  \n",
       "2   92785.714286        3      8  2015     Другой             1  \n",
       "3  408176.100629        4      7  2015     Другой             1  \n",
       "4  100000.000000        1      6  2018     Другой             1  \n",
       "\n",
       "[5 rows x 28 columns]"
      ]
     },
     "execution_count": 14,
     "metadata": {},
     "output_type": "execute_result"
    }
   ],
   "source": [
    "#сделаем еще столбец с floortype_id, вангую пригодится\n",
    "def floortype_idiing(row):\n",
    "    if row['floortype'] == 'Первый':\n",
    "        return 0\n",
    "    if row['floortype'] == 'Последний':\n",
    "        return 2\n",
    "    return 1\n",
    "#применим ее\n",
    "df['floortype_id'] = df.apply(floortype_idiing, axis=1)\n",
    "#проверим как все прошло\n",
    "df.head()"
   ]
  },
  {
   "cell_type": "markdown",
   "metadata": {},
   "source": [
    "Вуху, пора исследовать отношения площадей!"
   ]
  },
  {
   "cell_type": "code",
   "execution_count": 15,
   "metadata": {},
   "outputs": [
    {
     "data": {
      "text/html": [
       "<div>\n",
       "<style scoped>\n",
       "    .dataframe tbody tr th:only-of-type {\n",
       "        vertical-align: middle;\n",
       "    }\n",
       "\n",
       "    .dataframe tbody tr th {\n",
       "        vertical-align: top;\n",
       "    }\n",
       "\n",
       "    .dataframe thead th {\n",
       "        text-align: right;\n",
       "    }\n",
       "</style>\n",
       "<table border=\"1\" class=\"dataframe\">\n",
       "  <thead>\n",
       "    <tr style=\"text-align: right;\">\n",
       "      <th></th>\n",
       "      <th>total_images</th>\n",
       "      <th>last_price</th>\n",
       "      <th>total_area</th>\n",
       "      <th>first_day_exposition</th>\n",
       "      <th>rooms</th>\n",
       "      <th>ceiling_height</th>\n",
       "      <th>floors_total</th>\n",
       "      <th>living_area</th>\n",
       "      <th>floor</th>\n",
       "      <th>is_apartment</th>\n",
       "      <th>...</th>\n",
       "      <th>ponds_nearest</th>\n",
       "      <th>days_exposition</th>\n",
       "      <th>sqm_price</th>\n",
       "      <th>weekday</th>\n",
       "      <th>month</th>\n",
       "      <th>year</th>\n",
       "      <th>floortype</th>\n",
       "      <th>floortype_id</th>\n",
       "      <th>living_to_total</th>\n",
       "      <th>kitchen_to_total</th>\n",
       "    </tr>\n",
       "  </thead>\n",
       "  <tbody>\n",
       "    <tr>\n",
       "      <td>0</td>\n",
       "      <td>20</td>\n",
       "      <td>13000000</td>\n",
       "      <td>108.00</td>\n",
       "      <td>2019-03-07</td>\n",
       "      <td>3</td>\n",
       "      <td>2.70</td>\n",
       "      <td>16</td>\n",
       "      <td>51.00</td>\n",
       "      <td>8</td>\n",
       "      <td>False</td>\n",
       "      <td>...</td>\n",
       "      <td>755.0</td>\n",
       "      <td>0</td>\n",
       "      <td>120370.370370</td>\n",
       "      <td>3</td>\n",
       "      <td>3</td>\n",
       "      <td>2019</td>\n",
       "      <td>Другой</td>\n",
       "      <td>1</td>\n",
       "      <td>0.472222</td>\n",
       "      <td>0.231481</td>\n",
       "    </tr>\n",
       "    <tr>\n",
       "      <td>1</td>\n",
       "      <td>7</td>\n",
       "      <td>3350000</td>\n",
       "      <td>40.40</td>\n",
       "      <td>2018-12-04</td>\n",
       "      <td>1</td>\n",
       "      <td>NaN</td>\n",
       "      <td>11</td>\n",
       "      <td>18.60</td>\n",
       "      <td>1</td>\n",
       "      <td>False</td>\n",
       "      <td>...</td>\n",
       "      <td>584.5</td>\n",
       "      <td>81</td>\n",
       "      <td>82920.792079</td>\n",
       "      <td>1</td>\n",
       "      <td>12</td>\n",
       "      <td>2018</td>\n",
       "      <td>Первый</td>\n",
       "      <td>0</td>\n",
       "      <td>0.460396</td>\n",
       "      <td>0.272277</td>\n",
       "    </tr>\n",
       "    <tr>\n",
       "      <td>2</td>\n",
       "      <td>10</td>\n",
       "      <td>5196000</td>\n",
       "      <td>56.00</td>\n",
       "      <td>2015-08-20</td>\n",
       "      <td>2</td>\n",
       "      <td>NaN</td>\n",
       "      <td>5</td>\n",
       "      <td>34.30</td>\n",
       "      <td>4</td>\n",
       "      <td>False</td>\n",
       "      <td>...</td>\n",
       "      <td>574.0</td>\n",
       "      <td>558</td>\n",
       "      <td>92785.714286</td>\n",
       "      <td>3</td>\n",
       "      <td>8</td>\n",
       "      <td>2015</td>\n",
       "      <td>Другой</td>\n",
       "      <td>1</td>\n",
       "      <td>0.612500</td>\n",
       "      <td>0.148214</td>\n",
       "    </tr>\n",
       "    <tr>\n",
       "      <td>3</td>\n",
       "      <td>0</td>\n",
       "      <td>64900000</td>\n",
       "      <td>159.00</td>\n",
       "      <td>2015-07-24</td>\n",
       "      <td>3</td>\n",
       "      <td>NaN</td>\n",
       "      <td>14</td>\n",
       "      <td>NaN</td>\n",
       "      <td>9</td>\n",
       "      <td>False</td>\n",
       "      <td>...</td>\n",
       "      <td>234.0</td>\n",
       "      <td>424</td>\n",
       "      <td>408176.100629</td>\n",
       "      <td>4</td>\n",
       "      <td>7</td>\n",
       "      <td>2015</td>\n",
       "      <td>Другой</td>\n",
       "      <td>1</td>\n",
       "      <td>NaN</td>\n",
       "      <td>NaN</td>\n",
       "    </tr>\n",
       "    <tr>\n",
       "      <td>4</td>\n",
       "      <td>2</td>\n",
       "      <td>10000000</td>\n",
       "      <td>100.00</td>\n",
       "      <td>2018-06-19</td>\n",
       "      <td>2</td>\n",
       "      <td>3.03</td>\n",
       "      <td>14</td>\n",
       "      <td>32.00</td>\n",
       "      <td>13</td>\n",
       "      <td>False</td>\n",
       "      <td>...</td>\n",
       "      <td>48.0</td>\n",
       "      <td>121</td>\n",
       "      <td>100000.000000</td>\n",
       "      <td>1</td>\n",
       "      <td>6</td>\n",
       "      <td>2018</td>\n",
       "      <td>Другой</td>\n",
       "      <td>1</td>\n",
       "      <td>0.320000</td>\n",
       "      <td>0.410000</td>\n",
       "    </tr>\n",
       "    <tr>\n",
       "      <td>5</td>\n",
       "      <td>10</td>\n",
       "      <td>2890000</td>\n",
       "      <td>30.40</td>\n",
       "      <td>2018-09-10</td>\n",
       "      <td>1</td>\n",
       "      <td>NaN</td>\n",
       "      <td>12</td>\n",
       "      <td>14.40</td>\n",
       "      <td>5</td>\n",
       "      <td>False</td>\n",
       "      <td>...</td>\n",
       "      <td>NaN</td>\n",
       "      <td>55</td>\n",
       "      <td>95065.789474</td>\n",
       "      <td>0</td>\n",
       "      <td>9</td>\n",
       "      <td>2018</td>\n",
       "      <td>Другой</td>\n",
       "      <td>1</td>\n",
       "      <td>0.473684</td>\n",
       "      <td>0.299342</td>\n",
       "    </tr>\n",
       "    <tr>\n",
       "      <td>6</td>\n",
       "      <td>6</td>\n",
       "      <td>3700000</td>\n",
       "      <td>37.30</td>\n",
       "      <td>2017-11-02</td>\n",
       "      <td>1</td>\n",
       "      <td>NaN</td>\n",
       "      <td>26</td>\n",
       "      <td>10.60</td>\n",
       "      <td>6</td>\n",
       "      <td>False</td>\n",
       "      <td>...</td>\n",
       "      <td>593.0</td>\n",
       "      <td>155</td>\n",
       "      <td>99195.710456</td>\n",
       "      <td>3</td>\n",
       "      <td>11</td>\n",
       "      <td>2017</td>\n",
       "      <td>Другой</td>\n",
       "      <td>1</td>\n",
       "      <td>0.284182</td>\n",
       "      <td>0.386059</td>\n",
       "    </tr>\n",
       "    <tr>\n",
       "      <td>7</td>\n",
       "      <td>5</td>\n",
       "      <td>7915000</td>\n",
       "      <td>71.60</td>\n",
       "      <td>2019-04-18</td>\n",
       "      <td>2</td>\n",
       "      <td>NaN</td>\n",
       "      <td>24</td>\n",
       "      <td>NaN</td>\n",
       "      <td>22</td>\n",
       "      <td>False</td>\n",
       "      <td>...</td>\n",
       "      <td>503.0</td>\n",
       "      <td>0</td>\n",
       "      <td>110544.692737</td>\n",
       "      <td>3</td>\n",
       "      <td>4</td>\n",
       "      <td>2019</td>\n",
       "      <td>Другой</td>\n",
       "      <td>1</td>\n",
       "      <td>NaN</td>\n",
       "      <td>0.263966</td>\n",
       "    </tr>\n",
       "    <tr>\n",
       "      <td>8</td>\n",
       "      <td>20</td>\n",
       "      <td>2900000</td>\n",
       "      <td>33.16</td>\n",
       "      <td>2018-05-23</td>\n",
       "      <td>1</td>\n",
       "      <td>NaN</td>\n",
       "      <td>27</td>\n",
       "      <td>15.43</td>\n",
       "      <td>26</td>\n",
       "      <td>False</td>\n",
       "      <td>...</td>\n",
       "      <td>NaN</td>\n",
       "      <td>189</td>\n",
       "      <td>87454.764777</td>\n",
       "      <td>2</td>\n",
       "      <td>5</td>\n",
       "      <td>2018</td>\n",
       "      <td>Другой</td>\n",
       "      <td>1</td>\n",
       "      <td>0.465320</td>\n",
       "      <td>0.265682</td>\n",
       "    </tr>\n",
       "    <tr>\n",
       "      <td>9</td>\n",
       "      <td>18</td>\n",
       "      <td>5400000</td>\n",
       "      <td>61.00</td>\n",
       "      <td>2017-02-26</td>\n",
       "      <td>3</td>\n",
       "      <td>2.50</td>\n",
       "      <td>9</td>\n",
       "      <td>43.60</td>\n",
       "      <td>7</td>\n",
       "      <td>False</td>\n",
       "      <td>...</td>\n",
       "      <td>503.0</td>\n",
       "      <td>289</td>\n",
       "      <td>88524.590164</td>\n",
       "      <td>6</td>\n",
       "      <td>2</td>\n",
       "      <td>2017</td>\n",
       "      <td>Другой</td>\n",
       "      <td>1</td>\n",
       "      <td>0.714754</td>\n",
       "      <td>0.106557</td>\n",
       "    </tr>\n",
       "  </tbody>\n",
       "</table>\n",
       "<p>10 rows × 30 columns</p>\n",
       "</div>"
      ],
      "text/plain": [
       "   total_images  last_price  total_area first_day_exposition  rooms  \\\n",
       "0            20    13000000      108.00           2019-03-07      3   \n",
       "1             7     3350000       40.40           2018-12-04      1   \n",
       "2            10     5196000       56.00           2015-08-20      2   \n",
       "3             0    64900000      159.00           2015-07-24      3   \n",
       "4             2    10000000      100.00           2018-06-19      2   \n",
       "5            10     2890000       30.40           2018-09-10      1   \n",
       "6             6     3700000       37.30           2017-11-02      1   \n",
       "7             5     7915000       71.60           2019-04-18      2   \n",
       "8            20     2900000       33.16           2018-05-23      1   \n",
       "9            18     5400000       61.00           2017-02-26      3   \n",
       "\n",
       "   ceiling_height  floors_total  living_area  floor  is_apartment  ...  \\\n",
       "0            2.70            16        51.00      8         False  ...   \n",
       "1             NaN            11        18.60      1         False  ...   \n",
       "2             NaN             5        34.30      4         False  ...   \n",
       "3             NaN            14          NaN      9         False  ...   \n",
       "4            3.03            14        32.00     13         False  ...   \n",
       "5             NaN            12        14.40      5         False  ...   \n",
       "6             NaN            26        10.60      6         False  ...   \n",
       "7             NaN            24          NaN     22         False  ...   \n",
       "8             NaN            27        15.43     26         False  ...   \n",
       "9            2.50             9        43.60      7         False  ...   \n",
       "\n",
       "   ponds_nearest  days_exposition      sqm_price  weekday month  year  \\\n",
       "0          755.0                0  120370.370370        3     3  2019   \n",
       "1          584.5               81   82920.792079        1    12  2018   \n",
       "2          574.0              558   92785.714286        3     8  2015   \n",
       "3          234.0              424  408176.100629        4     7  2015   \n",
       "4           48.0              121  100000.000000        1     6  2018   \n",
       "5            NaN               55   95065.789474        0     9  2018   \n",
       "6          593.0              155   99195.710456        3    11  2017   \n",
       "7          503.0                0  110544.692737        3     4  2019   \n",
       "8            NaN              189   87454.764777        2     5  2018   \n",
       "9          503.0              289   88524.590164        6     2  2017   \n",
       "\n",
       "   floortype  floortype_id  living_to_total  kitchen_to_total  \n",
       "0     Другой             1         0.472222          0.231481  \n",
       "1     Первый             0         0.460396          0.272277  \n",
       "2     Другой             1         0.612500          0.148214  \n",
       "3     Другой             1              NaN               NaN  \n",
       "4     Другой             1         0.320000          0.410000  \n",
       "5     Другой             1         0.473684          0.299342  \n",
       "6     Другой             1         0.284182          0.386059  \n",
       "7     Другой             1              NaN          0.263966  \n",
       "8     Другой             1         0.465320          0.265682  \n",
       "9     Другой             1         0.714754          0.106557  \n",
       "\n",
       "[10 rows x 30 columns]"
      ]
     },
     "execution_count": 15,
     "metadata": {},
     "output_type": "execute_result"
    }
   ],
   "source": [
    "#отношение и отношение\n",
    "df['living_to_total'] = df['living_area'] / df['total_area']\n",
    "df['kitchen_to_total'] = df['kitchen_area'] / df['total_area']\n",
    "#чекаем результат\n",
    "df.head(10)"
   ]
  },
  {
   "cell_type": "markdown",
   "metadata": {},
   "source": [
    "Все получилось. Если значений площади не было, не появились новые значения и в столбцах с отношениями. Воспользовались всем имеющимися данными, не внося неточностей в таблицу"
   ]
  },
  {
   "cell_type": "markdown",
   "metadata": {},
   "source": [
    "### Вывод"
   ]
  },
  {
   "cell_type": "markdown",
   "metadata": {},
   "source": [
    "Добавили информацию:\n",
    "* с ценой квадратного метра;\n",
    "* днем недели, месяцем и годом публикации объявления;\n",
    "* типами этажей квартиры;\n",
    "* соотношением жилой и общей площади, а также отношением площади кухни к общей."
   ]
  },
  {
   "cell_type": "markdown",
   "metadata": {},
   "source": [
    "## Исследовательский анализ данных"
   ]
  },
  {
   "cell_type": "markdown",
   "metadata": {},
   "source": [
    "Приступим к анализу! \n",
    "\n",
    "Изучим параметры: \n",
    "* площадь\n",
    "* цена\n",
    "* число комнат\n",
    "* высота потолков"
   ]
  },
  {
   "cell_type": "code",
   "execution_count": 16,
   "metadata": {},
   "outputs": [
    {
     "data": {
      "text/plain": [
       "<matplotlib.axes._subplots.AxesSubplot at 0x7fe328fb9b10>"
      ]
     },
     "execution_count": 16,
     "metadata": {},
     "output_type": "execute_result"
    },
    {
     "data": {
      "image/png": "[encoded data removed]",
      "text/plain": [
       "<Figure size 432x288 with 1 Axes>"
      ]
     },
     "metadata": {
      "needs_background": "light"
     },
     "output_type": "display_data"
    }
   ],
   "source": [
    "#сначала построем гисторграмму площади\n",
    "df['total_area'].hist(bins=50, range=(0,350))"
   ]
  },
  {
   "cell_type": "code",
   "execution_count": 17,
   "metadata": {},
   "outputs": [
    {
     "data": {
      "text/plain": [
       "<matplotlib.axes._subplots.AxesSubplot at 0x7fe328c3c9d0>"
      ]
     },
     "execution_count": 17,
     "metadata": {},
     "output_type": "execute_result"
    },
    {
     "data": {
      "image/png": "[encoded data removed]",
      "text/plain": [
       "<Figure size 432x288 with 1 Axes>"
      ]
     },
     "metadata": {
      "needs_background": "light"
     },
     "output_type": "display_data"
    }
   ],
   "source": [
    "#выглядит не очень, посмотрим на выбросы при помощи boxplot()\n",
    "df.boxplot(column='total_area')"
   ]
  },
  {
   "cell_type": "code",
   "execution_count": 18,
   "metadata": {},
   "outputs": [
    {
     "data": {
      "text/plain": [
       "<matplotlib.axes._subplots.AxesSubplot at 0x7fe328b6a3d0>"
      ]
     },
     "execution_count": 18,
     "metadata": {},
     "output_type": "execute_result"
    },
    {
     "data": {
      "image/png": "[encoded data removed]",
      "text/plain": [
       "<Figure size 432x288 with 1 Axes>"
      ]
     },
     "metadata": {
      "needs_background": "light"
     },
     "output_type": "display_data"
    }
   ],
   "source": [
    "#плохо видно, настроим увеличение\n",
    "df.query('total_area < 200').boxplot(column='total_area')"
   ]
  },
  {
   "cell_type": "code",
   "execution_count": 19,
   "metadata": {
    "scrolled": true
   },
   "outputs": [
    {
     "data": {
      "text/plain": [
       "<matplotlib.axes._subplots.AxesSubplot at 0x7fe328b54b90>"
      ]
     },
     "execution_count": 19,
     "metadata": {},
     "output_type": "execute_result"
    },
    {
     "data": {
      "image/png": "[encoded data removed]",
      "text/plain": [
       "<Figure size 432x288 with 1 Axes>"
      ]
     },
     "metadata": {
      "needs_background": "light"
     },
     "output_type": "display_data"
    }
   ],
   "source": [
    "#теперь посмотрим на цену\n",
    "df['last_price'].hist(bins=50, range=(0,20000000))"
   ]
  },
  {
   "cell_type": "code",
   "execution_count": 20,
   "metadata": {},
   "outputs": [
    {
     "data": {
      "text/plain": [
       "<matplotlib.axes._subplots.AxesSubplot at 0x7fe328360e10>"
      ]
     },
     "execution_count": 20,
     "metadata": {},
     "output_type": "execute_result"
    },
    {
     "data": {
      "image/png": "[encoded data removed]",
      "text/plain": [
       "<Figure size 432x288 with 1 Axes>"
      ]
     },
     "metadata": {
      "needs_background": "light"
     },
     "output_type": "display_data"
    }
   ],
   "source": [
    "#здесь все выглядит еще хуже\n",
    "df.boxplot(column='last_price')"
   ]
  },
  {
   "cell_type": "code",
   "execution_count": 21,
   "metadata": {},
   "outputs": [
    {
     "data": {
      "text/plain": [
       "<matplotlib.axes._subplots.AxesSubplot at 0x7fe32827e990>"
      ]
     },
     "execution_count": 21,
     "metadata": {},
     "output_type": "execute_result"
    },
    {
     "data": {
      "image/png": "[encoded data removed]",
      "text/plain": [
       "<Figure size 432x288 with 1 Axes>"
      ]
     },
     "metadata": {
      "needs_background": "light"
     },
     "output_type": "display_data"
    }
   ],
   "source": [
    "#давайте укрупним до 20 млн\n",
    "df.query('last_price < 20000000').boxplot(column='last_price')"
   ]
  },
  {
   "cell_type": "code",
   "execution_count": 22,
   "metadata": {},
   "outputs": [
    {
     "data": {
      "text/plain": [
       "<matplotlib.axes._subplots.AxesSubplot at 0x7fe3281f7850>"
      ]
     },
     "execution_count": 22,
     "metadata": {},
     "output_type": "execute_result"
    },
    {
     "data": {
      "image/png": "[encoded data removed]",
      "text/plain": [
       "<Figure size 432x288 with 1 Axes>"
      ]
     },
     "metadata": {
      "needs_background": "light"
     },
     "output_type": "display_data"
    }
   ],
   "source": [
    "#гистограмма количества комнат\n",
    "df['rooms'].hist(bins=10, range=(0,10))"
   ]
  },
  {
   "cell_type": "code",
   "execution_count": 23,
   "metadata": {
    "scrolled": true
   },
   "outputs": [
    {
     "data": {
      "text/plain": [
       "<matplotlib.axes._subplots.AxesSubplot at 0x7fe328285c50>"
      ]
     },
     "execution_count": 23,
     "metadata": {},
     "output_type": "execute_result"
    },
    {
     "data": {
      "image/png": "[encoded data removed]",
      "text/plain": [
       "<Figure size 432x288 with 1 Axes>"
      ]
     },
     "metadata": {
      "needs_background": "light"
     },
     "output_type": "display_data"
    }
   ],
   "source": [
    "#посмотрим на выбросы\n",
    "df.boxplot(column='rooms')"
   ]
  },
  {
   "cell_type": "code",
   "execution_count": 24,
   "metadata": {},
   "outputs": [
    {
     "data": {
      "text/plain": [
       "<matplotlib.axes._subplots.AxesSubplot at 0x7fe3280fb850>"
      ]
     },
     "execution_count": 24,
     "metadata": {},
     "output_type": "execute_result"
    },
    {
     "data": {
      "image/png": "[encoded data removed]",
      "text/plain": [
       "<Figure size 432x288 with 1 Axes>"
      ]
     },
     "metadata": {
      "needs_background": "light"
     },
     "output_type": "display_data"
    }
   ],
   "source": [
    "#гистограмма высоты потолков\n",
    "df['ceiling_height'].hist(bins=30, range=(0,10))"
   ]
  },
  {
   "cell_type": "code",
   "execution_count": 25,
   "metadata": {},
   "outputs": [
    {
     "data": {
      "text/plain": [
       "<matplotlib.axes._subplots.AxesSubplot at 0x7fe3280d1c10>"
      ]
     },
     "execution_count": 25,
     "metadata": {},
     "output_type": "execute_result"
    },
    {
     "data": {
      "image/png": "[encoded data removed]",
      "text/plain": [
       "<Figure size 432x288 with 1 Axes>"
      ]
     },
     "metadata": {
      "needs_background": "light"
     },
     "output_type": "display_data"
    }
   ],
   "source": [
    "#лучше не станет\n",
    "df.boxplot(column='ceiling_height')"
   ]
  },
  {
   "cell_type": "code",
   "execution_count": 26,
   "metadata": {},
   "outputs": [
    {
     "data": {
      "text/plain": [
       "<matplotlib.axes._subplots.AxesSubplot at 0x7fe328022550>"
      ]
     },
     "execution_count": 26,
     "metadata": {},
     "output_type": "execute_result"
    },
    {
     "data": {
      "image/png": "[encoded data removed]",
      "text/plain": [
       "<Figure size 432x288 with 1 Axes>"
      ]
     },
     "metadata": {
      "needs_background": "light"
     },
     "output_type": "display_data"
    }
   ],
   "source": [
    "#укрупним до 5 метровых потолков\n",
    "df.query('ceiling_height < 5').boxplot(column='ceiling_height')"
   ]
  },
  {
   "cell_type": "markdown",
   "metadata": {},
   "source": [
    "Графики выглядят пустовато из-за наличия сильно выдающихся значений. Еще в самом начале, при использовании метода `describe()`, были видны выбросы. Гистограмма же подтвердила, что их немного, а ящик с усами показал адекватные значения. Посмотрим, что мы выявили:\n",
    "* площади основной массы квартир не превышают 115 кв. м., однако есть выбивающиеся значения - до 900 кв. м. 50% квартир имеют площадь от 40 до 70 кв. м.;\n",
    "* основная часть квартир стоит не более 12 миллионов денег, но за 800 миллионов тоже есть;\n",
    "* большая часть квартир имеет до шести комнат, но много значений и до восьми. Имеются выбросы до 19 комнат. Половина от всех квартир имеюю от одной до трех комнат;\n",
    "* высота потолков в большинстве своем от 2.4 до 3 метров, но встречается и один, и двадцать, и тридцать, и сто.\n",
    "\n",
    "\n",
    "Теперь посмотрим на скорость продажи"
   ]
  },
  {
   "cell_type": "code",
   "execution_count": 27,
   "metadata": {},
   "outputs": [
    {
     "data": {
      "text/plain": [
       "<matplotlib.axes._subplots.AxesSubplot at 0x7fe328fb9650>"
      ]
     },
     "execution_count": 27,
     "metadata": {},
     "output_type": "execute_result"
    },
    {
     "data": {
      "image/png": "[encoded data removed]",
      "text/plain": [
       "<Figure size 432x288 with 1 Axes>"
      ]
     },
     "metadata": {
      "needs_background": "light"
     },
     "output_type": "display_data"
    }
   ],
   "source": [
    "#построим гисторграмму\n",
    "df['days_exposition'].hist(bins=30, range=(1,1400))"
   ]
  },
  {
   "cell_type": "code",
   "execution_count": 28,
   "metadata": {},
   "outputs": [
    {
     "name": "stdout",
     "output_type": "stream",
     "text": [
      "среднее время продажи 156.4489640591966 дней\n",
      "медианное время продажи 73.0 дней\n"
     ]
    }
   ],
   "source": [
    "#посчитаем среднее и медиану\n",
    "print('среднее время продажи', df['days_exposition'].mean(), 'дней')\n",
    "print('медианное время продажи', df['days_exposition'].median(), 'дней')"
   ]
  },
  {
   "cell_type": "markdown",
   "metadata": {},
   "source": [
    "Большей части людей потребовалось менее года на продажу, однако есть и те, чье жилище было продано через четыре года. В среднем требуется 156 дней, однако медиана говорит о том, что половина людей управилсь в два раза быстрее - за 73 дней. \n",
    "\n",
    "Построим ящик с усами и посмотрим на выдающиеся значения."
   ]
  },
  {
   "cell_type": "code",
   "execution_count": 29,
   "metadata": {
    "scrolled": true
   },
   "outputs": [
    {
     "data": {
      "text/plain": [
       "<matplotlib.axes._subplots.AxesSubplot at 0x7fe327f68950>"
      ]
     },
     "execution_count": 29,
     "metadata": {},
     "output_type": "execute_result"
    },
    {
     "data": {
      "image/png": "[encoded data removed]",
      "text/plain": [
       "<Figure size 432x288 with 1 Axes>"
      ]
     },
     "metadata": {
      "needs_background": "light"
     },
     "output_type": "display_data"
    }
   ],
   "source": [
    "df.boxplot(column='days_exposition')"
   ]
  },
  {
   "cell_type": "markdown",
   "metadata": {},
   "source": [
    "Из этого графика видно, что продажи за несколько суток не являются чем-то выдающимся и довольно распространены, чего нельзя сказать о случаях, когда объявление висит более 420-450 дней. Это необычно долго и похоже на выброс. Примененная ранее диаграмма  это подтверждает"
   ]
  },
  {
   "cell_type": "markdown",
   "metadata": {},
   "source": [
    "По горячим следам обрежем таблицу устранив выбросы и сохраним в новой переменной `df_cropped`"
   ]
  },
  {
   "cell_type": "code",
   "execution_count": 30,
   "metadata": {},
   "outputs": [],
   "source": [
    "df_cropped = df.query('total_area <= 115 and last_price <= 12000000 and rooms <= 6').reset_index(drop=True)"
   ]
  },
  {
   "cell_type": "code",
   "execution_count": 31,
   "metadata": {
    "scrolled": true
   },
   "outputs": [
    {
     "name": "stdout",
     "output_type": "stream",
     "text": [
      "<class 'pandas.core.frame.DataFrame'>\n",
      "RangeIndex: 21522 entries, 0 to 21521\n",
      "Data columns (total 30 columns):\n",
      "total_images            21522 non-null int64\n",
      "last_price              21522 non-null int64\n",
      "total_area              21522 non-null float64\n",
      "first_day_exposition    21522 non-null datetime64[ns]\n",
      "rooms                   21522 non-null int64\n",
      "ceiling_height          13031 non-null float64\n",
      "floors_total            21522 non-null int64\n",
      "living_area             19849 non-null float64\n",
      "floor                   21522 non-null int64\n",
      "is_apartment            21522 non-null bool\n",
      "studio                  21522 non-null bool\n",
      "open_plan               21522 non-null bool\n",
      "kitchen_area            19459 non-null float64\n",
      "balcony                 21522 non-null int64\n",
      "locality_name           21522 non-null object\n",
      "airports_nearest        16169 non-null float64\n",
      "cityCenters_nearest     16169 non-null float64\n",
      "parks_around3000        21522 non-null float64\n",
      "parks_nearest           15564 non-null float64\n",
      "ponds_around3000        21522 non-null float64\n",
      "ponds_nearest           16064 non-null float64\n",
      "days_exposition         21522 non-null int64\n",
      "sqm_price               21522 non-null float64\n",
      "weekday                 21522 non-null int64\n",
      "month                   21522 non-null int64\n",
      "year                    21522 non-null int64\n",
      "floortype               21522 non-null object\n",
      "floortype_id            21522 non-null int64\n",
      "living_to_total         19849 non-null float64\n",
      "kitchen_to_total        19459 non-null float64\n",
      "dtypes: bool(3), datetime64[ns](1), float64(13), int64(11), object(2)\n",
      "memory usage: 4.5+ MB\n"
     ]
    }
   ],
   "source": [
    "df_cropped.info()"
   ]
  },
  {
   "cell_type": "code",
   "execution_count": 32,
   "metadata": {},
   "outputs": [
    {
     "data": {
      "text/plain": [
       "0.9081395839486898"
      ]
     },
     "execution_count": 32,
     "metadata": {},
     "output_type": "execute_result"
    }
   ],
   "source": [
    "### Код ревьювера ###\n",
    "\n",
    "len(df_cropped)/23699"
   ]
  },
  {
   "cell_type": "markdown",
   "metadata": {},
   "source": [
    "Таблица немного похудела, но это ей на пользу.\n",
    "\n",
    "Теперь изучим какие факторы влияют на стоимость квартиры сильнее всего. Начнем с проверки зависимости цены от площади, числа комнат, удалённости от центра."
   ]
  },
  {
   "cell_type": "code",
   "execution_count": 33,
   "metadata": {},
   "outputs": [
    {
     "name": "stdout",
     "output_type": "stream",
     "text": [
      "                     cityCenters_nearest  last_price     rooms  total_area\n",
      "cityCenters_nearest             1.000000   -0.392509 -0.044295   -0.113981\n",
      "last_price                     -0.392509    1.000000  0.362361    0.647617\n",
      "rooms                          -0.044295    0.362361  1.000000    0.796151\n",
      "total_area                     -0.113981    0.647617  0.796151    1.000000\n"
     ]
    },
    {
     "data": {
      "text/plain": [
       "array([[<matplotlib.axes._subplots.AxesSubplot object at 0x7fe327f5e8d0>,\n",
       "        <matplotlib.axes._subplots.AxesSubplot object at 0x7fe327e1cd10>,\n",
       "        <matplotlib.axes._subplots.AxesSubplot object at 0x7fe327ddbf90>,\n",
       "        <matplotlib.axes._subplots.AxesSubplot object at 0x7fe327d92c50>],\n",
       "       [<matplotlib.axes._subplots.AxesSubplot object at 0x7fe327d50fd0>,\n",
       "        <matplotlib.axes._subplots.AxesSubplot object at 0x7fe327d07c90>,\n",
       "        <matplotlib.axes._subplots.AxesSubplot object at 0x7fe327cc84d0>,\n",
       "        <matplotlib.axes._subplots.AxesSubplot object at 0x7fe31fbedcd0>],\n",
       "       [<matplotlib.axes._subplots.AxesSubplot object at 0x7fe31fbf7850>,\n",
       "        <matplotlib.axes._subplots.AxesSubplot object at 0x7fe31fbba210>,\n",
       "        <matplotlib.axes._subplots.AxesSubplot object at 0x7fe31fb26550>,\n",
       "        <matplotlib.axes._subplots.AxesSubplot object at 0x7fe31fb59d50>],\n",
       "       [<matplotlib.axes._subplots.AxesSubplot object at 0x7fe31fb19590>,\n",
       "        <matplotlib.axes._subplots.AxesSubplot object at 0x7fe31faced90>,\n",
       "        <matplotlib.axes._subplots.AxesSubplot object at 0x7fe31fa8e5d0>,\n",
       "        <matplotlib.axes._subplots.AxesSubplot object at 0x7fe31fa42e90>]],\n",
       "      dtype=object)"
      ]
     },
     "execution_count": 33,
     "metadata": {},
     "output_type": "execute_result"
    },
    {
     "data": {
      "image/png": "[encoded data removed]",
      "text/plain": [
       "<Figure size 648x648 with 16 Axes>"
      ]
     },
     "metadata": {
      "needs_background": "light"
     },
     "output_type": "display_data"
    }
   ],
   "source": [
    "#создадим сводную таблицу в переменной df_benefits\n",
    "df_benefits = df_cropped.pivot_table(index='sqm_price', values=['last_price', 'total_area', 'rooms', 'cityCenters_nearest'])\n",
    "#построим матрицу корреляции\n",
    "print(df_benefits.corr())\n",
    "#и матрицу диаграмм рассеяния\n",
    "pd.plotting.scatter_matrix(df_benefits, figsize=(9, 9))"
   ]
  },
  {
   "cell_type": "markdown",
   "metadata": {},
   "source": [
    "Сильнее всего на стоимость квартиры влияет ее общая площадь. Зависимость между количеством комнат и стоимостью, а также расстоянием до центра и стоимостью едва прослеживается.\n",
    "\n",
    "Теперь узнаем, зависит ли стоимость от даты размещения: дня недели, месяца и года. Диаграмму строить не будем, цифры скажут обо всем."
   ]
  },
  {
   "cell_type": "code",
   "execution_count": 34,
   "metadata": {},
   "outputs": [
    {
     "data": {
      "text/html": [
       "<div>\n",
       "<style scoped>\n",
       "    .dataframe tbody tr th:only-of-type {\n",
       "        vertical-align: middle;\n",
       "    }\n",
       "\n",
       "    .dataframe tbody tr th {\n",
       "        vertical-align: top;\n",
       "    }\n",
       "\n",
       "    .dataframe thead th {\n",
       "        text-align: right;\n",
       "    }\n",
       "</style>\n",
       "<table border=\"1\" class=\"dataframe\">\n",
       "  <thead>\n",
       "    <tr style=\"text-align: right;\">\n",
       "      <th></th>\n",
       "      <th>last_price</th>\n",
       "      <th>month</th>\n",
       "      <th>weekday</th>\n",
       "      <th>year</th>\n",
       "    </tr>\n",
       "  </thead>\n",
       "  <tbody>\n",
       "    <tr>\n",
       "      <td>last_price</td>\n",
       "      <td>1.000000</td>\n",
       "      <td>0.012949</td>\n",
       "      <td>-0.021508</td>\n",
       "      <td>0.007810</td>\n",
       "    </tr>\n",
       "    <tr>\n",
       "      <td>month</td>\n",
       "      <td>0.012949</td>\n",
       "      <td>1.000000</td>\n",
       "      <td>0.009627</td>\n",
       "      <td>-0.280577</td>\n",
       "    </tr>\n",
       "    <tr>\n",
       "      <td>weekday</td>\n",
       "      <td>-0.021508</td>\n",
       "      <td>0.009627</td>\n",
       "      <td>1.000000</td>\n",
       "      <td>-0.004709</td>\n",
       "    </tr>\n",
       "    <tr>\n",
       "      <td>year</td>\n",
       "      <td>0.007810</td>\n",
       "      <td>-0.280577</td>\n",
       "      <td>-0.004709</td>\n",
       "      <td>1.000000</td>\n",
       "    </tr>\n",
       "  </tbody>\n",
       "</table>\n",
       "</div>"
      ],
      "text/plain": [
       "            last_price     month   weekday      year\n",
       "last_price    1.000000  0.012949 -0.021508  0.007810\n",
       "month         0.012949  1.000000  0.009627 -0.280577\n",
       "weekday      -0.021508  0.009627  1.000000 -0.004709\n",
       "year          0.007810 -0.280577 -0.004709  1.000000"
      ]
     },
     "execution_count": 34,
     "metadata": {},
     "output_type": "execute_result"
    }
   ],
   "source": [
    "#создадим сводную таблицу в переменной df_timeline\n",
    "df_timeline = df_cropped.pivot_table(index='sqm_price', values=['last_price', 'weekday', 'month', 'year'])\n",
    "#построим матрицу корреляции\n",
    "df_timeline.corr()"
   ]
  },
  {
   "cell_type": "markdown",
   "metadata": {},
   "source": [
    "Стоимость квартиры имеет слабую линейную зависимость от даты выставления объявления, однако среди трех рассматриваемых параметров, год оказывает набольшее влияние.\n",
    "\n",
    "Нас не просят, но проверим зависимость от других параметров, почему бы и нет. Начнем с высоты потолка, количества балконов, этажа, и отношений площадей"
   ]
  },
  {
   "cell_type": "code",
   "execution_count": 35,
   "metadata": {},
   "outputs": [
    {
     "data": {
      "text/html": [
       "<div>\n",
       "<style scoped>\n",
       "    .dataframe tbody tr th:only-of-type {\n",
       "        vertical-align: middle;\n",
       "    }\n",
       "\n",
       "    .dataframe tbody tr th {\n",
       "        vertical-align: top;\n",
       "    }\n",
       "\n",
       "    .dataframe thead th {\n",
       "        text-align: right;\n",
       "    }\n",
       "</style>\n",
       "<table border=\"1\" class=\"dataframe\">\n",
       "  <thead>\n",
       "    <tr style=\"text-align: right;\">\n",
       "      <th></th>\n",
       "      <th>balcony</th>\n",
       "      <th>ceiling_height</th>\n",
       "      <th>floortype_id</th>\n",
       "      <th>kitchen_to_total</th>\n",
       "      <th>last_price</th>\n",
       "      <th>living_to_total</th>\n",
       "    </tr>\n",
       "  </thead>\n",
       "  <tbody>\n",
       "    <tr>\n",
       "      <td>balcony</td>\n",
       "      <td>1.000000</td>\n",
       "      <td>0.020491</td>\n",
       "      <td>0.067364</td>\n",
       "      <td>0.028269</td>\n",
       "      <td>0.073506</td>\n",
       "      <td>-0.063335</td>\n",
       "    </tr>\n",
       "    <tr>\n",
       "      <td>ceiling_height</td>\n",
       "      <td>0.020491</td>\n",
       "      <td>1.000000</td>\n",
       "      <td>0.009263</td>\n",
       "      <td>0.023238</td>\n",
       "      <td>0.135595</td>\n",
       "      <td>-0.017090</td>\n",
       "    </tr>\n",
       "    <tr>\n",
       "      <td>floortype_id</td>\n",
       "      <td>0.067364</td>\n",
       "      <td>0.009263</td>\n",
       "      <td>1.000000</td>\n",
       "      <td>0.013502</td>\n",
       "      <td>0.054204</td>\n",
       "      <td>-0.009047</td>\n",
       "    </tr>\n",
       "    <tr>\n",
       "      <td>kitchen_to_total</td>\n",
       "      <td>0.028269</td>\n",
       "      <td>0.023238</td>\n",
       "      <td>0.013502</td>\n",
       "      <td>1.000000</td>\n",
       "      <td>-0.045700</td>\n",
       "      <td>-0.745203</td>\n",
       "    </tr>\n",
       "    <tr>\n",
       "      <td>last_price</td>\n",
       "      <td>0.073506</td>\n",
       "      <td>0.135595</td>\n",
       "      <td>0.054204</td>\n",
       "      <td>-0.045700</td>\n",
       "      <td>1.000000</td>\n",
       "      <td>-0.034144</td>\n",
       "    </tr>\n",
       "    <tr>\n",
       "      <td>living_to_total</td>\n",
       "      <td>-0.063335</td>\n",
       "      <td>-0.017090</td>\n",
       "      <td>-0.009047</td>\n",
       "      <td>-0.745203</td>\n",
       "      <td>-0.034144</td>\n",
       "      <td>1.000000</td>\n",
       "    </tr>\n",
       "  </tbody>\n",
       "</table>\n",
       "</div>"
      ],
      "text/plain": [
       "                   balcony  ceiling_height  floortype_id  kitchen_to_total  \\\n",
       "balcony           1.000000        0.020491      0.067364          0.028269   \n",
       "ceiling_height    0.020491        1.000000      0.009263          0.023238   \n",
       "floortype_id      0.067364        0.009263      1.000000          0.013502   \n",
       "kitchen_to_total  0.028269        0.023238      0.013502          1.000000   \n",
       "last_price        0.073506        0.135595      0.054204         -0.045700   \n",
       "living_to_total  -0.063335       -0.017090     -0.009047         -0.745203   \n",
       "\n",
       "                  last_price  living_to_total  \n",
       "balcony             0.073506        -0.063335  \n",
       "ceiling_height      0.135595        -0.017090  \n",
       "floortype_id        0.054204        -0.009047  \n",
       "kitchen_to_total   -0.045700        -0.745203  \n",
       "last_price          1.000000        -0.034144  \n",
       "living_to_total    -0.034144         1.000000  "
      ]
     },
     "execution_count": 35,
     "metadata": {},
     "output_type": "execute_result"
    }
   ],
   "source": [
    "df_benefits2 = df_cropped.pivot_table(index='sqm_price', values=['last_price', 'ceiling_height', 'balcony', 'floortype_id', 'living_to_total', 'kitchen_to_total'])\n",
    "df_benefits2.corr()"
   ]
  },
  {
   "cell_type": "markdown",
   "metadata": {},
   "source": [
    "Высота потолков влияет наиболее сильно.\n",
    "\n",
    "Проверим на влияние геолокации на цену."
   ]
  },
  {
   "cell_type": "code",
   "execution_count": 36,
   "metadata": {},
   "outputs": [
    {
     "data": {
      "text/html": [
       "<div>\n",
       "<style scoped>\n",
       "    .dataframe tbody tr th:only-of-type {\n",
       "        vertical-align: middle;\n",
       "    }\n",
       "\n",
       "    .dataframe tbody tr th {\n",
       "        vertical-align: top;\n",
       "    }\n",
       "\n",
       "    .dataframe thead th {\n",
       "        text-align: right;\n",
       "    }\n",
       "</style>\n",
       "<table border=\"1\" class=\"dataframe\">\n",
       "  <thead>\n",
       "    <tr style=\"text-align: right;\">\n",
       "      <th></th>\n",
       "      <th>airports_nearest</th>\n",
       "      <th>last_price</th>\n",
       "      <th>parks_around3000</th>\n",
       "      <th>parks_nearest</th>\n",
       "      <th>ponds_around3000</th>\n",
       "      <th>ponds_nearest</th>\n",
       "    </tr>\n",
       "  </thead>\n",
       "  <tbody>\n",
       "    <tr>\n",
       "      <td>airports_nearest</td>\n",
       "      <td>1.000000</td>\n",
       "      <td>-0.056181</td>\n",
       "      <td>-0.004852</td>\n",
       "      <td>-0.019875</td>\n",
       "      <td>-0.058399</td>\n",
       "      <td>0.022624</td>\n",
       "    </tr>\n",
       "    <tr>\n",
       "      <td>last_price</td>\n",
       "      <td>-0.056181</td>\n",
       "      <td>1.000000</td>\n",
       "      <td>0.302903</td>\n",
       "      <td>0.066164</td>\n",
       "      <td>0.339687</td>\n",
       "      <td>-0.023622</td>\n",
       "    </tr>\n",
       "    <tr>\n",
       "      <td>parks_around3000</td>\n",
       "      <td>-0.004852</td>\n",
       "      <td>0.302903</td>\n",
       "      <td>1.000000</td>\n",
       "      <td>-0.058991</td>\n",
       "      <td>0.377323</td>\n",
       "      <td>-0.094141</td>\n",
       "    </tr>\n",
       "    <tr>\n",
       "      <td>parks_nearest</td>\n",
       "      <td>-0.019875</td>\n",
       "      <td>0.066164</td>\n",
       "      <td>-0.058991</td>\n",
       "      <td>1.000000</td>\n",
       "      <td>0.076624</td>\n",
       "      <td>0.018335</td>\n",
       "    </tr>\n",
       "    <tr>\n",
       "      <td>ponds_around3000</td>\n",
       "      <td>-0.058399</td>\n",
       "      <td>0.339687</td>\n",
       "      <td>0.377323</td>\n",
       "      <td>0.076624</td>\n",
       "      <td>1.000000</td>\n",
       "      <td>-0.131612</td>\n",
       "    </tr>\n",
       "    <tr>\n",
       "      <td>ponds_nearest</td>\n",
       "      <td>0.022624</td>\n",
       "      <td>-0.023622</td>\n",
       "      <td>-0.094141</td>\n",
       "      <td>0.018335</td>\n",
       "      <td>-0.131612</td>\n",
       "      <td>1.000000</td>\n",
       "    </tr>\n",
       "  </tbody>\n",
       "</table>\n",
       "</div>"
      ],
      "text/plain": [
       "                  airports_nearest  last_price  parks_around3000  \\\n",
       "airports_nearest          1.000000   -0.056181         -0.004852   \n",
       "last_price               -0.056181    1.000000          0.302903   \n",
       "parks_around3000         -0.004852    0.302903          1.000000   \n",
       "parks_nearest            -0.019875    0.066164         -0.058991   \n",
       "ponds_around3000         -0.058399    0.339687          0.377323   \n",
       "ponds_nearest             0.022624   -0.023622         -0.094141   \n",
       "\n",
       "                  parks_nearest  ponds_around3000  ponds_nearest  \n",
       "airports_nearest      -0.019875         -0.058399       0.022624  \n",
       "last_price             0.066164          0.339687      -0.023622  \n",
       "parks_around3000      -0.058991          0.377323      -0.094141  \n",
       "parks_nearest          1.000000          0.076624       0.018335  \n",
       "ponds_around3000       0.076624          1.000000      -0.131612  \n",
       "ponds_nearest          0.018335         -0.131612       1.000000  "
      ]
     },
     "execution_count": 36,
     "metadata": {},
     "output_type": "execute_result"
    }
   ],
   "source": [
    "df_geo_benefits = df_cropped.pivot_table(index='sqm_price', values=['last_price', 'parks_around3000', 'parks_nearest', 'ponds_around3000', 'ponds_nearest', 'airports_nearest'])\n",
    "df_geo_benefits.corr()"
   ]
  },
  {
   "cell_type": "markdown",
   "metadata": {},
   "source": [
    "Кроме ранее выявленной зависимости от центра, на стоимость незначительно влияет наличие поблизости парков и прудов.\n",
    "\n",
    "А влияет ли тип недвижимости на стоимость?"
   ]
  },
  {
   "cell_type": "code",
   "execution_count": 37,
   "metadata": {
    "scrolled": true
   },
   "outputs": [
    {
     "data": {
      "text/html": [
       "<div>\n",
       "<style scoped>\n",
       "    .dataframe tbody tr th:only-of-type {\n",
       "        vertical-align: middle;\n",
       "    }\n",
       "\n",
       "    .dataframe tbody tr th {\n",
       "        vertical-align: top;\n",
       "    }\n",
       "\n",
       "    .dataframe thead th {\n",
       "        text-align: right;\n",
       "    }\n",
       "</style>\n",
       "<table border=\"1\" class=\"dataframe\">\n",
       "  <thead>\n",
       "    <tr style=\"text-align: right;\">\n",
       "      <th></th>\n",
       "      <th>is_apartment</th>\n",
       "      <th>last_price</th>\n",
       "      <th>open_plan</th>\n",
       "      <th>studio</th>\n",
       "    </tr>\n",
       "  </thead>\n",
       "  <tbody>\n",
       "    <tr>\n",
       "      <td>is_apartment</td>\n",
       "      <td>1.000000</td>\n",
       "      <td>0.012103</td>\n",
       "      <td>-0.002188</td>\n",
       "      <td>-0.003654</td>\n",
       "    </tr>\n",
       "    <tr>\n",
       "      <td>last_price</td>\n",
       "      <td>0.012103</td>\n",
       "      <td>1.000000</td>\n",
       "      <td>-0.026499</td>\n",
       "      <td>-0.054623</td>\n",
       "    </tr>\n",
       "    <tr>\n",
       "      <td>open_plan</td>\n",
       "      <td>-0.002188</td>\n",
       "      <td>-0.026499</td>\n",
       "      <td>1.000000</td>\n",
       "      <td>-0.004254</td>\n",
       "    </tr>\n",
       "    <tr>\n",
       "      <td>studio</td>\n",
       "      <td>-0.003654</td>\n",
       "      <td>-0.054623</td>\n",
       "      <td>-0.004254</td>\n",
       "      <td>1.000000</td>\n",
       "    </tr>\n",
       "  </tbody>\n",
       "</table>\n",
       "</div>"
      ],
      "text/plain": [
       "              is_apartment  last_price  open_plan    studio\n",
       "is_apartment      1.000000    0.012103  -0.002188 -0.003654\n",
       "last_price        0.012103    1.000000  -0.026499 -0.054623\n",
       "open_plan        -0.002188   -0.026499   1.000000 -0.004254\n",
       "studio           -0.003654   -0.054623  -0.004254  1.000000"
      ]
     },
     "execution_count": 37,
     "metadata": {},
     "output_type": "execute_result"
    }
   ],
   "source": [
    "df_realty_type = df_cropped.pivot_table(index='sqm_price', values=['last_price', 'is_apartment', 'studio', 'open_plan'])\n",
    "df_realty_type.corr()"
   ]
  },
  {
   "cell_type": "markdown",
   "metadata": {},
   "source": [
    "Почти не влияет.\n",
    "\n",
    "В сухом остатке, на стоимость квартиры в значительной степени влияет ее площадь, расстояние до центра, и немного наличие балконов и аэропорта в доступе. Остальные параметры имеют довольно слабую линейную свзяь со стоимостью.\n",
    "\n",
    "Двигаемся дальше!\n",
    "\n",
    "Определим 10 городов с наибольшим количеством объявлений."
   ]
  },
  {
   "cell_type": "code",
   "execution_count": 39,
   "metadata": {},
   "outputs": [
    {
     "data": {
      "text/plain": [
       "Санкт-Петербург      15721\n",
       "посёлок Мурино         522\n",
       "посёлок Шушары         440\n",
       "Всеволожск             398\n",
       "Пушкин                 369\n",
       "Колпино                338\n",
       "посёлок Парголово      327\n",
       "Гатчина                307\n",
       "деревня Кудрово        299\n",
       "Выборг                 237\n",
       "Name: locality_name, dtype: int64"
      ]
     },
     "execution_count": 39,
     "metadata": {},
     "output_type": "execute_result"
    }
   ],
   "source": [
    "df['locality_name'].value_counts().head(10)"
   ]
  },
  {
   "cell_type": "markdown",
   "metadata": {},
   "source": [
    "Открывает список, очевидно, Санкт-Петербург, закрывет Выборг. Топ-10 городов определены, теперь посмотрим их рейтинг стоимости квадратного метра."
   ]
  },
  {
   "cell_type": "code",
   "execution_count": 40,
   "metadata": {
    "scrolled": true
   },
   "outputs": [
    {
     "data": {
      "text/html": [
       "<div>\n",
       "<style scoped>\n",
       "    .dataframe tbody tr th:only-of-type {\n",
       "        vertical-align: middle;\n",
       "    }\n",
       "\n",
       "    .dataframe tbody tr th {\n",
       "        vertical-align: top;\n",
       "    }\n",
       "\n",
       "    .dataframe thead th {\n",
       "        text-align: right;\n",
       "    }\n",
       "</style>\n",
       "<table border=\"1\" class=\"dataframe\">\n",
       "  <thead>\n",
       "    <tr style=\"text-align: right;\">\n",
       "      <th></th>\n",
       "      <th>mean_sqm_price</th>\n",
       "      <th>count</th>\n",
       "    </tr>\n",
       "    <tr>\n",
       "      <th>locality_name</th>\n",
       "      <th></th>\n",
       "      <th></th>\n",
       "    </tr>\n",
       "  </thead>\n",
       "  <tbody>\n",
       "    <tr>\n",
       "      <td>Санкт-Петербург</td>\n",
       "      <td>114849.008794</td>\n",
       "      <td>15721</td>\n",
       "    </tr>\n",
       "    <tr>\n",
       "      <td>Пушкин</td>\n",
       "      <td>103125.819291</td>\n",
       "      <td>369</td>\n",
       "    </tr>\n",
       "    <tr>\n",
       "      <td>деревня Кудрово</td>\n",
       "      <td>92473.547576</td>\n",
       "      <td>299</td>\n",
       "    </tr>\n",
       "    <tr>\n",
       "      <td>посёлок Парголово</td>\n",
       "      <td>90175.913458</td>\n",
       "      <td>327</td>\n",
       "    </tr>\n",
       "    <tr>\n",
       "      <td>посёлок Мурино</td>\n",
       "      <td>85752.189195</td>\n",
       "      <td>522</td>\n",
       "    </tr>\n",
       "    <tr>\n",
       "      <td>посёлок Шушары</td>\n",
       "      <td>78677.364217</td>\n",
       "      <td>440</td>\n",
       "    </tr>\n",
       "    <tr>\n",
       "      <td>Колпино</td>\n",
       "      <td>75424.579098</td>\n",
       "      <td>338</td>\n",
       "    </tr>\n",
       "    <tr>\n",
       "      <td>Гатчина</td>\n",
       "      <td>68746.146763</td>\n",
       "      <td>307</td>\n",
       "    </tr>\n",
       "    <tr>\n",
       "      <td>Всеволожск</td>\n",
       "      <td>68654.473986</td>\n",
       "      <td>398</td>\n",
       "    </tr>\n",
       "    <tr>\n",
       "      <td>Выборг</td>\n",
       "      <td>58141.909153</td>\n",
       "      <td>237</td>\n",
       "    </tr>\n",
       "  </tbody>\n",
       "</table>\n",
       "</div>"
      ],
      "text/plain": [
       "                   mean_sqm_price  count\n",
       "locality_name                           \n",
       "Санкт-Петербург     114849.008794  15721\n",
       "Пушкин              103125.819291    369\n",
       "деревня Кудрово      92473.547576    299\n",
       "посёлок Парголово    90175.913458    327\n",
       "посёлок Мурино       85752.189195    522\n",
       "посёлок Шушары       78677.364217    440\n",
       "Колпино              75424.579098    338\n",
       "Гатчина              68746.146763    307\n",
       "Всеволожск           68654.473986    398\n",
       "Выборг               58141.909153    237"
      ]
     },
     "execution_count": 40,
     "metadata": {},
     "output_type": "execute_result"
    }
   ],
   "source": [
    "#выделим в отдельную переменную сводную таблицу по населенным пунктам, средней стоимости квадрата в них и количеству объявлений\n",
    "df_locality = df.pivot_table(index='locality_name', values='sqm_price', aggfunc=['mean', 'count'])\n",
    "#переименуем столбцы в одноуровневые\n",
    "df_locality.columns = ['mean_sqm_price', 'count']\n",
    "#выделим топ-10 городов по кол-ву объявлений\n",
    "df_locality_10 = df_locality.query('count >= 237')\n",
    "#отсортируем по возрастанию цены\n",
    "df_locality_10.sort_values(by='mean_sqm_price', ascending=False)"
   ]
  },
  {
   "cell_type": "markdown",
   "metadata": {},
   "source": [
    "Санкт-Петербург по-прежнему в лидерах, а Выборг на том же 10-м месте со средней стоимостьюжилья вдвое меньшей, чем в столице региона.\n",
    "\n",
    "Теперь разберемся с квартирами в центре Питера, и посмотрим как различаются цены на них в зависимости от удаленности от центра."
   ]
  },
  {
   "cell_type": "code",
   "execution_count": 41,
   "metadata": {},
   "outputs": [
    {
     "data": {
      "text/html": [
       "<div>\n",
       "<style scoped>\n",
       "    .dataframe tbody tr th:only-of-type {\n",
       "        vertical-align: middle;\n",
       "    }\n",
       "\n",
       "    .dataframe tbody tr th {\n",
       "        vertical-align: top;\n",
       "    }\n",
       "\n",
       "    .dataframe thead th {\n",
       "        text-align: right;\n",
       "    }\n",
       "</style>\n",
       "<table border=\"1\" class=\"dataframe\">\n",
       "  <thead>\n",
       "    <tr style=\"text-align: right;\">\n",
       "      <th></th>\n",
       "      <th>total_images</th>\n",
       "      <th>last_price</th>\n",
       "      <th>total_area</th>\n",
       "      <th>first_day_exposition</th>\n",
       "      <th>rooms</th>\n",
       "      <th>ceiling_height</th>\n",
       "      <th>floors_total</th>\n",
       "      <th>living_area</th>\n",
       "      <th>floor</th>\n",
       "      <th>is_apartment</th>\n",
       "      <th>...</th>\n",
       "      <th>days_exposition</th>\n",
       "      <th>sqm_price</th>\n",
       "      <th>weekday</th>\n",
       "      <th>month</th>\n",
       "      <th>year</th>\n",
       "      <th>floortype</th>\n",
       "      <th>floortype_id</th>\n",
       "      <th>living_to_total</th>\n",
       "      <th>kitchen_to_total</th>\n",
       "      <th>km_to_center</th>\n",
       "    </tr>\n",
       "  </thead>\n",
       "  <tbody>\n",
       "    <tr>\n",
       "      <td>0</td>\n",
       "      <td>20</td>\n",
       "      <td>13000000</td>\n",
       "      <td>108.0</td>\n",
       "      <td>2019-03-07</td>\n",
       "      <td>3</td>\n",
       "      <td>2.70</td>\n",
       "      <td>16</td>\n",
       "      <td>51.0</td>\n",
       "      <td>8</td>\n",
       "      <td>False</td>\n",
       "      <td>...</td>\n",
       "      <td>0</td>\n",
       "      <td>120370.370370</td>\n",
       "      <td>3</td>\n",
       "      <td>3</td>\n",
       "      <td>2019</td>\n",
       "      <td>Другой</td>\n",
       "      <td>1</td>\n",
       "      <td>0.472222</td>\n",
       "      <td>0.231481</td>\n",
       "      <td>16.0</td>\n",
       "    </tr>\n",
       "    <tr>\n",
       "      <td>1</td>\n",
       "      <td>10</td>\n",
       "      <td>5196000</td>\n",
       "      <td>56.0</td>\n",
       "      <td>2015-08-20</td>\n",
       "      <td>2</td>\n",
       "      <td>NaN</td>\n",
       "      <td>5</td>\n",
       "      <td>34.3</td>\n",
       "      <td>4</td>\n",
       "      <td>False</td>\n",
       "      <td>...</td>\n",
       "      <td>558</td>\n",
       "      <td>92785.714286</td>\n",
       "      <td>3</td>\n",
       "      <td>8</td>\n",
       "      <td>2015</td>\n",
       "      <td>Другой</td>\n",
       "      <td>1</td>\n",
       "      <td>0.612500</td>\n",
       "      <td>0.148214</td>\n",
       "      <td>14.0</td>\n",
       "    </tr>\n",
       "    <tr>\n",
       "      <td>2</td>\n",
       "      <td>0</td>\n",
       "      <td>64900000</td>\n",
       "      <td>159.0</td>\n",
       "      <td>2015-07-24</td>\n",
       "      <td>3</td>\n",
       "      <td>NaN</td>\n",
       "      <td>14</td>\n",
       "      <td>NaN</td>\n",
       "      <td>9</td>\n",
       "      <td>False</td>\n",
       "      <td>...</td>\n",
       "      <td>424</td>\n",
       "      <td>408176.100629</td>\n",
       "      <td>4</td>\n",
       "      <td>7</td>\n",
       "      <td>2015</td>\n",
       "      <td>Другой</td>\n",
       "      <td>1</td>\n",
       "      <td>NaN</td>\n",
       "      <td>NaN</td>\n",
       "      <td>7.0</td>\n",
       "    </tr>\n",
       "    <tr>\n",
       "      <td>3</td>\n",
       "      <td>2</td>\n",
       "      <td>10000000</td>\n",
       "      <td>100.0</td>\n",
       "      <td>2018-06-19</td>\n",
       "      <td>2</td>\n",
       "      <td>3.03</td>\n",
       "      <td>14</td>\n",
       "      <td>32.0</td>\n",
       "      <td>13</td>\n",
       "      <td>False</td>\n",
       "      <td>...</td>\n",
       "      <td>121</td>\n",
       "      <td>100000.000000</td>\n",
       "      <td>1</td>\n",
       "      <td>6</td>\n",
       "      <td>2018</td>\n",
       "      <td>Другой</td>\n",
       "      <td>1</td>\n",
       "      <td>0.320000</td>\n",
       "      <td>0.410000</td>\n",
       "      <td>8.0</td>\n",
       "    </tr>\n",
       "    <tr>\n",
       "      <td>4</td>\n",
       "      <td>5</td>\n",
       "      <td>7915000</td>\n",
       "      <td>71.6</td>\n",
       "      <td>2019-04-18</td>\n",
       "      <td>2</td>\n",
       "      <td>NaN</td>\n",
       "      <td>24</td>\n",
       "      <td>NaN</td>\n",
       "      <td>22</td>\n",
       "      <td>False</td>\n",
       "      <td>...</td>\n",
       "      <td>0</td>\n",
       "      <td>110544.692737</td>\n",
       "      <td>3</td>\n",
       "      <td>4</td>\n",
       "      <td>2019</td>\n",
       "      <td>Другой</td>\n",
       "      <td>1</td>\n",
       "      <td>NaN</td>\n",
       "      <td>0.263966</td>\n",
       "      <td>12.0</td>\n",
       "    </tr>\n",
       "  </tbody>\n",
       "</table>\n",
       "<p>5 rows × 31 columns</p>\n",
       "</div>"
      ],
      "text/plain": [
       "   total_images  last_price  total_area first_day_exposition  rooms  \\\n",
       "0            20    13000000       108.0           2019-03-07      3   \n",
       "1            10     5196000        56.0           2015-08-20      2   \n",
       "2             0    64900000       159.0           2015-07-24      3   \n",
       "3             2    10000000       100.0           2018-06-19      2   \n",
       "4             5     7915000        71.6           2019-04-18      2   \n",
       "\n",
       "   ceiling_height  floors_total  living_area  floor  is_apartment  ...  \\\n",
       "0            2.70            16         51.0      8         False  ...   \n",
       "1             NaN             5         34.3      4         False  ...   \n",
       "2             NaN            14          NaN      9         False  ...   \n",
       "3            3.03            14         32.0     13         False  ...   \n",
       "4             NaN            24          NaN     22         False  ...   \n",
       "\n",
       "   days_exposition      sqm_price  weekday  month  year  floortype  \\\n",
       "0                0  120370.370370        3      3  2019     Другой   \n",
       "1              558   92785.714286        3      8  2015     Другой   \n",
       "2              424  408176.100629        4      7  2015     Другой   \n",
       "3              121  100000.000000        1      6  2018     Другой   \n",
       "4                0  110544.692737        3      4  2019     Другой   \n",
       "\n",
       "   floortype_id  living_to_total  kitchen_to_total  km_to_center  \n",
       "0             1         0.472222          0.231481          16.0  \n",
       "1             1         0.612500          0.148214          14.0  \n",
       "2             1              NaN               NaN           7.0  \n",
       "3             1         0.320000          0.410000           8.0  \n",
       "4             1              NaN          0.263966          12.0  \n",
       "\n",
       "[5 rows x 31 columns]"
      ]
     },
     "execution_count": 41,
     "metadata": {},
     "output_type": "execute_result"
    }
   ],
   "source": [
    "#отфильтруем по городу\n",
    "spb_realty = df.query('locality_name == \"Санкт-Петербург\"').reset_index(drop=True)\n",
    "#добавим новый столбец\n",
    "spb_realty['km_to_center'] = round(spb_realty['cityCenters_nearest'] / 1000)\n",
    "#проверим\n",
    "spb_realty.head()"
   ]
  },
  {
   "cell_type": "code",
   "execution_count": 42,
   "metadata": {},
   "outputs": [
    {
     "data": {
      "text/plain": [
       "<matplotlib.axes._subplots.AxesSubplot at 0x7fe31dc50110>"
      ]
     },
     "execution_count": 42,
     "metadata": {},
     "output_type": "execute_result"
    },
    {
     "data": {
      "image/png": "[encoded data removed]",
      "text/plain": [
       "<Figure size 432x288 with 1 Axes>"
      ]
     },
     "metadata": {
      "needs_background": "light"
     },
     "output_type": "display_data"
    }
   ],
   "source": [
    "#создадим свой маленький датафрейм\n",
    "spb_center_importance = spb_realty.pivot_table(index='km_to_center', values='sqm_price')\n",
    "#построим график\n",
    "spb_center_importance.plot()"
   ]
  },
  {
   "cell_type": "markdown",
   "metadata": {},
   "source": [
    "Чем ближе к центру, тем выше цена. Этот вывод действует на первых двух километрах от центра. Далее в ход, вероятно, идут другие факторы, заставляющие цену то подниматься, то опускаться, но в целом, сохраняя тенденцию к ее снижению в зависимости от удаления от центра.\n",
    "\n",
    "Теперь сузим наш обзор до двухкилометрового радиуса и посмотрим, какие правила действуют в центре Питера при формировании цены квадратного метра жилья."
   ]
  },
  {
   "cell_type": "code",
   "execution_count": 43,
   "metadata": {
    "scrolled": false
   },
   "outputs": [
    {
     "name": "stdout",
     "output_type": "stream",
     "text": [
      "<class 'pandas.core.frame.DataFrame'>\n",
      "RangeIndex: 3525 entries, 0 to 3524\n",
      "Data columns (total 31 columns):\n",
      "total_images            3525 non-null int64\n",
      "last_price              3525 non-null int64\n",
      "total_area              3525 non-null float64\n",
      "first_day_exposition    3525 non-null datetime64[ns]\n",
      "rooms                   3525 non-null int64\n",
      "ceiling_height          2286 non-null float64\n",
      "floors_total            3525 non-null int64\n",
      "living_area             3227 non-null float64\n",
      "floor                   3525 non-null int64\n",
      "is_apartment            3525 non-null bool\n",
      "studio                  3525 non-null bool\n",
      "open_plan               3525 non-null bool\n",
      "kitchen_area            3187 non-null float64\n",
      "balcony                 3525 non-null int64\n",
      "locality_name           3525 non-null object\n",
      "airports_nearest        3525 non-null float64\n",
      "cityCenters_nearest     3525 non-null float64\n",
      "parks_around3000        3525 non-null float64\n",
      "parks_nearest           3525 non-null float64\n",
      "ponds_around3000        3525 non-null float64\n",
      "ponds_nearest           3525 non-null float64\n",
      "days_exposition         3525 non-null int64\n",
      "sqm_price               3525 non-null float64\n",
      "weekday                 3525 non-null int64\n",
      "month                   3525 non-null int64\n",
      "year                    3525 non-null int64\n",
      "floortype               3525 non-null object\n",
      "floortype_id            3525 non-null int64\n",
      "living_to_total         3227 non-null float64\n",
      "kitchen_to_total        3187 non-null float64\n",
      "km_to_center            3525 non-null float64\n",
      "dtypes: bool(3), datetime64[ns](1), float64(14), int64(11), object(2)\n",
      "memory usage: 781.5+ KB\n"
     ]
    }
   ],
   "source": [
    "#продолжим расчлененку\n",
    "spb_center = spb_realty.query('km_to_center <= 7').reset_index(drop=True)\n",
    "#сколько же осталось значений\n",
    "spb_center.info()"
   ]
  },
  {
   "cell_type": "markdown",
   "metadata": {},
   "source": [
    "Изучим разнообразие жилых прощадей"
   ]
  },
  {
   "cell_type": "code",
   "execution_count": 44,
   "metadata": {},
   "outputs": [
    {
     "data": {
      "text/plain": [
       "<matplotlib.axes._subplots.AxesSubplot at 0x7fe31dc2f790>"
      ]
     },
     "execution_count": 44,
     "metadata": {},
     "output_type": "execute_result"
    },
    {
     "data": {
      "image/png": "[encoded data removed]",
      "text/plain": [
       "<Figure size 432x288 with 1 Axes>"
      ]
     },
     "metadata": {
      "needs_background": "light"
     },
     "output_type": "display_data"
    }
   ],
   "source": [
    "df['total_area'].hist(bins=30, range=(0,300))"
   ]
  },
  {
   "cell_type": "markdown",
   "metadata": {},
   "source": [
    "Соответствует общеобластному.\n",
    "\n",
    "А диапазон цен?"
   ]
  },
  {
   "cell_type": "code",
   "execution_count": 45,
   "metadata": {},
   "outputs": [
    {
     "data": {
      "text/plain": [
       "<matplotlib.axes._subplots.AxesSubplot at 0x7fe31dc50e90>"
      ]
     },
     "execution_count": 45,
     "metadata": {},
     "output_type": "execute_result"
    },
    {
     "data": {
      "image/png": "[encoded data removed]",
      "text/plain": [
       "<Figure size 432x288 with 1 Axes>"
      ]
     },
     "metadata": {
      "needs_background": "light"
     },
     "output_type": "display_data"
    }
   ],
   "source": [
    "df['last_price'].hist(bins=30, range=(1,40000000))"
   ]
  },
  {
   "cell_type": "markdown",
   "metadata": {},
   "source": [
    "На любой кошелек есть жилплощадь.\n",
    "\n",
    "Больше двушек, или однушек? а может есть шестикомнатные?"
   ]
  },
  {
   "cell_type": "code",
   "execution_count": 46,
   "metadata": {},
   "outputs": [
    {
     "data": {
      "text/plain": [
       "<matplotlib.axes._subplots.AxesSubplot at 0x7fe31f7ecad0>"
      ]
     },
     "execution_count": 46,
     "metadata": {},
     "output_type": "execute_result"
    },
    {
     "data": {
      "image/png": "[encoded data removed]",
      "text/plain": [
       "<Figure size 432x288 with 1 Axes>"
      ]
     },
     "metadata": {
      "needs_background": "light"
     },
     "output_type": "display_data"
    }
   ],
   "source": [
    "df['rooms'].hist(range=(1,10))"
   ]
  },
  {
   "cell_type": "markdown",
   "metadata": {},
   "source": [
    "Есть и восьмикомнатные.\n",
    "\n",
    "А как дела с высотой потолков?"
   ]
  },
  {
   "cell_type": "code",
   "execution_count": 47,
   "metadata": {},
   "outputs": [
    {
     "data": {
      "text/plain": [
       "<matplotlib.axes._subplots.AxesSubplot at 0x7fe38498be10>"
      ]
     },
     "execution_count": 47,
     "metadata": {},
     "output_type": "execute_result"
    },
    {
     "data": {
      "image/png": "[encoded data removed]",
      "text/plain": [
       "<Figure size 432x288 with 1 Axes>"
      ]
     },
     "metadata": {
      "needs_background": "light"
     },
     "output_type": "display_data"
    }
   ],
   "source": [
    "df['ceiling_height'].hist(range=(1,5))"
   ]
  },
  {
   "cell_type": "markdown",
   "metadata": {},
   "source": [
    "Довольно обыденно\n",
    "\n",
    "Посмотрим что влияет на ценообразование в центре солевой столицы"
   ]
  },
  {
   "cell_type": "code",
   "execution_count": 48,
   "metadata": {},
   "outputs": [
    {
     "data": {
      "text/html": [
       "<div>\n",
       "<style scoped>\n",
       "    .dataframe tbody tr th:only-of-type {\n",
       "        vertical-align: middle;\n",
       "    }\n",
       "\n",
       "    .dataframe tbody tr th {\n",
       "        vertical-align: top;\n",
       "    }\n",
       "\n",
       "    .dataframe thead th {\n",
       "        text-align: right;\n",
       "    }\n",
       "</style>\n",
       "<table border=\"1\" class=\"dataframe\">\n",
       "  <thead>\n",
       "    <tr style=\"text-align: right;\">\n",
       "      <th></th>\n",
       "      <th>ceiling_height</th>\n",
       "      <th>last_price</th>\n",
       "      <th>rooms</th>\n",
       "      <th>total_area</th>\n",
       "    </tr>\n",
       "  </thead>\n",
       "  <tbody>\n",
       "    <tr>\n",
       "      <td>ceiling_height</td>\n",
       "      <td>1.000000</td>\n",
       "      <td>0.121567</td>\n",
       "      <td>0.128054</td>\n",
       "      <td>0.173155</td>\n",
       "    </tr>\n",
       "    <tr>\n",
       "      <td>last_price</td>\n",
       "      <td>0.121567</td>\n",
       "      <td>1.000000</td>\n",
       "      <td>0.306776</td>\n",
       "      <td>0.607492</td>\n",
       "    </tr>\n",
       "    <tr>\n",
       "      <td>rooms</td>\n",
       "      <td>0.128054</td>\n",
       "      <td>0.306776</td>\n",
       "      <td>1.000000</td>\n",
       "      <td>0.724716</td>\n",
       "    </tr>\n",
       "    <tr>\n",
       "      <td>total_area</td>\n",
       "      <td>0.173155</td>\n",
       "      <td>0.607492</td>\n",
       "      <td>0.724716</td>\n",
       "      <td>1.000000</td>\n",
       "    </tr>\n",
       "  </tbody>\n",
       "</table>\n",
       "</div>"
      ],
      "text/plain": [
       "                ceiling_height  last_price     rooms  total_area\n",
       "ceiling_height        1.000000    0.121567  0.128054    0.173155\n",
       "last_price            0.121567    1.000000  0.306776    0.607492\n",
       "rooms                 0.128054    0.306776  1.000000    0.724716\n",
       "total_area            0.173155    0.607492  0.724716    1.000000"
      ]
     },
     "execution_count": 48,
     "metadata": {},
     "output_type": "execute_result"
    }
   ],
   "source": [
    "#сначала рассмотрим зависимость цены от площади, количества комнат и высоты потолков\n",
    "center_benefits = spb_center.pivot_table(index='sqm_price', values=['last_price', 'total_area', 'rooms', 'ceiling_height'])\n",
    "center_benefits.corr()"
   ]
  },
  {
   "cell_type": "markdown",
   "metadata": {},
   "source": [
    "Как и ранее, наибольшее влияние на цену оказывает ее площадь. Количество комнат имеет незначительное влияние, а высота потолков никого особо не интересует, а зря."
   ]
  },
  {
   "cell_type": "markdown",
   "metadata": {},
   "source": [
    "Посмотрим на влияние геолокации на стоимость недвижимости"
   ]
  },
  {
   "cell_type": "code",
   "execution_count": 49,
   "metadata": {
    "scrolled": true
   },
   "outputs": [
    {
     "data": {
      "text/html": [
       "<div>\n",
       "<style scoped>\n",
       "    .dataframe tbody tr th:only-of-type {\n",
       "        vertical-align: middle;\n",
       "    }\n",
       "\n",
       "    .dataframe tbody tr th {\n",
       "        vertical-align: top;\n",
       "    }\n",
       "\n",
       "    .dataframe thead th {\n",
       "        text-align: right;\n",
       "    }\n",
       "</style>\n",
       "<table border=\"1\" class=\"dataframe\">\n",
       "  <thead>\n",
       "    <tr style=\"text-align: right;\">\n",
       "      <th></th>\n",
       "      <th>airports_nearest</th>\n",
       "      <th>cityCenters_nearest</th>\n",
       "      <th>last_price</th>\n",
       "      <th>parks_around3000</th>\n",
       "      <th>parks_nearest</th>\n",
       "      <th>ponds_around3000</th>\n",
       "      <th>ponds_nearest</th>\n",
       "    </tr>\n",
       "  </thead>\n",
       "  <tbody>\n",
       "    <tr>\n",
       "      <td>airports_nearest</td>\n",
       "      <td>1.000000</td>\n",
       "      <td>0.384513</td>\n",
       "      <td>0.101284</td>\n",
       "      <td>0.006907</td>\n",
       "      <td>-0.009946</td>\n",
       "      <td>0.066479</td>\n",
       "      <td>0.046442</td>\n",
       "    </tr>\n",
       "    <tr>\n",
       "      <td>cityCenters_nearest</td>\n",
       "      <td>0.384513</td>\n",
       "      <td>1.000000</td>\n",
       "      <td>-0.039775</td>\n",
       "      <td>-0.202682</td>\n",
       "      <td>0.052687</td>\n",
       "      <td>-0.283231</td>\n",
       "      <td>0.239921</td>\n",
       "    </tr>\n",
       "    <tr>\n",
       "      <td>last_price</td>\n",
       "      <td>0.101284</td>\n",
       "      <td>-0.039775</td>\n",
       "      <td>1.000000</td>\n",
       "      <td>0.126549</td>\n",
       "      <td>-0.041980</td>\n",
       "      <td>0.108026</td>\n",
       "      <td>-0.080155</td>\n",
       "    </tr>\n",
       "    <tr>\n",
       "      <td>parks_around3000</td>\n",
       "      <td>0.006907</td>\n",
       "      <td>-0.202682</td>\n",
       "      <td>0.126549</td>\n",
       "      <td>1.000000</td>\n",
       "      <td>-0.171826</td>\n",
       "      <td>0.161289</td>\n",
       "      <td>-0.163687</td>\n",
       "    </tr>\n",
       "    <tr>\n",
       "      <td>parks_nearest</td>\n",
       "      <td>-0.009946</td>\n",
       "      <td>0.052687</td>\n",
       "      <td>-0.041980</td>\n",
       "      <td>-0.171826</td>\n",
       "      <td>1.000000</td>\n",
       "      <td>-0.020713</td>\n",
       "      <td>0.059161</td>\n",
       "    </tr>\n",
       "    <tr>\n",
       "      <td>ponds_around3000</td>\n",
       "      <td>0.066479</td>\n",
       "      <td>-0.283231</td>\n",
       "      <td>0.108026</td>\n",
       "      <td>0.161289</td>\n",
       "      <td>-0.020713</td>\n",
       "      <td>1.000000</td>\n",
       "      <td>-0.324869</td>\n",
       "    </tr>\n",
       "    <tr>\n",
       "      <td>ponds_nearest</td>\n",
       "      <td>0.046442</td>\n",
       "      <td>0.239921</td>\n",
       "      <td>-0.080155</td>\n",
       "      <td>-0.163687</td>\n",
       "      <td>0.059161</td>\n",
       "      <td>-0.324869</td>\n",
       "      <td>1.000000</td>\n",
       "    </tr>\n",
       "  </tbody>\n",
       "</table>\n",
       "</div>"
      ],
      "text/plain": [
       "                     airports_nearest  cityCenters_nearest  last_price  \\\n",
       "airports_nearest             1.000000             0.384513    0.101284   \n",
       "cityCenters_nearest          0.384513             1.000000   -0.039775   \n",
       "last_price                   0.101284            -0.039775    1.000000   \n",
       "parks_around3000             0.006907            -0.202682    0.126549   \n",
       "parks_nearest               -0.009946             0.052687   -0.041980   \n",
       "ponds_around3000             0.066479            -0.283231    0.108026   \n",
       "ponds_nearest                0.046442             0.239921   -0.080155   \n",
       "\n",
       "                     parks_around3000  parks_nearest  ponds_around3000  \\\n",
       "airports_nearest             0.006907      -0.009946          0.066479   \n",
       "cityCenters_nearest         -0.202682       0.052687         -0.283231   \n",
       "last_price                   0.126549      -0.041980          0.108026   \n",
       "parks_around3000             1.000000      -0.171826          0.161289   \n",
       "parks_nearest               -0.171826       1.000000         -0.020713   \n",
       "ponds_around3000             0.161289      -0.020713          1.000000   \n",
       "ponds_nearest               -0.163687       0.059161         -0.324869   \n",
       "\n",
       "                     ponds_nearest  \n",
       "airports_nearest          0.046442  \n",
       "cityCenters_nearest       0.239921  \n",
       "last_price               -0.080155  \n",
       "parks_around3000         -0.163687  \n",
       "parks_nearest             0.059161  \n",
       "ponds_around3000         -0.324869  \n",
       "ponds_nearest             1.000000  "
      ]
     },
     "execution_count": 49,
     "metadata": {},
     "output_type": "execute_result"
    }
   ],
   "source": [
    "center_geo_benefits = spb_center.pivot_table(index='sqm_price', values=['last_price', 'cityCenters_nearest', 'parks_around3000', 'parks_nearest', 'ponds_around3000', 'ponds_nearest', 'airports_nearest'])\n",
    "center_geo_benefits.corr()"
   ]
  },
  {
   "cell_type": "markdown",
   "metadata": {},
   "source": [
    "Для людей в центре не имеет значения, насколько они центрее, и вежливо игнорируют пруды, парки и аэропорты\n",
    "\n",
    "Может дата загрузки объявления имеет значение?"
   ]
  },
  {
   "cell_type": "code",
   "execution_count": 50,
   "metadata": {},
   "outputs": [
    {
     "data": {
      "text/html": [
       "<div>\n",
       "<style scoped>\n",
       "    .dataframe tbody tr th:only-of-type {\n",
       "        vertical-align: middle;\n",
       "    }\n",
       "\n",
       "    .dataframe tbody tr th {\n",
       "        vertical-align: top;\n",
       "    }\n",
       "\n",
       "    .dataframe thead th {\n",
       "        text-align: right;\n",
       "    }\n",
       "</style>\n",
       "<table border=\"1\" class=\"dataframe\">\n",
       "  <thead>\n",
       "    <tr style=\"text-align: right;\">\n",
       "      <th></th>\n",
       "      <th>last_price</th>\n",
       "      <th>month</th>\n",
       "      <th>weekday</th>\n",
       "      <th>year</th>\n",
       "    </tr>\n",
       "  </thead>\n",
       "  <tbody>\n",
       "    <tr>\n",
       "      <td>last_price</td>\n",
       "      <td>1.000000</td>\n",
       "      <td>-0.012287</td>\n",
       "      <td>0.030684</td>\n",
       "      <td>-0.046519</td>\n",
       "    </tr>\n",
       "    <tr>\n",
       "      <td>month</td>\n",
       "      <td>-0.012287</td>\n",
       "      <td>1.000000</td>\n",
       "      <td>0.019856</td>\n",
       "      <td>-0.245771</td>\n",
       "    </tr>\n",
       "    <tr>\n",
       "      <td>weekday</td>\n",
       "      <td>0.030684</td>\n",
       "      <td>0.019856</td>\n",
       "      <td>1.000000</td>\n",
       "      <td>0.005454</td>\n",
       "    </tr>\n",
       "    <tr>\n",
       "      <td>year</td>\n",
       "      <td>-0.046519</td>\n",
       "      <td>-0.245771</td>\n",
       "      <td>0.005454</td>\n",
       "      <td>1.000000</td>\n",
       "    </tr>\n",
       "  </tbody>\n",
       "</table>\n",
       "</div>"
      ],
      "text/plain": [
       "            last_price     month   weekday      year\n",
       "last_price    1.000000 -0.012287  0.030684 -0.046519\n",
       "month        -0.012287  1.000000  0.019856 -0.245771\n",
       "weekday       0.030684  0.019856  1.000000  0.005454\n",
       "year         -0.046519 -0.245771  0.005454  1.000000"
      ]
     },
     "execution_count": 50,
     "metadata": {},
     "output_type": "execute_result"
    }
   ],
   "source": [
    "center_timeline = spb_center.pivot_table(index='sqm_price', values=['last_price', 'weekday', 'month', 'year'])\n",
    "center_timeline.corr()"
   ]
  },
  {
   "cell_type": "markdown",
   "metadata": {},
   "source": [
    "Цена квартиры в центре высока всегда и в среду 2014 года и в понедельник 2019 года.\n",
    "\n",
    "Проверим влияние балконов, этажа, и отношений жилой площади или кухни к общей."
   ]
  },
  {
   "cell_type": "code",
   "execution_count": 51,
   "metadata": {},
   "outputs": [
    {
     "data": {
      "text/html": [
       "<div>\n",
       "<style scoped>\n",
       "    .dataframe tbody tr th:only-of-type {\n",
       "        vertical-align: middle;\n",
       "    }\n",
       "\n",
       "    .dataframe tbody tr th {\n",
       "        vertical-align: top;\n",
       "    }\n",
       "\n",
       "    .dataframe thead th {\n",
       "        text-align: right;\n",
       "    }\n",
       "</style>\n",
       "<table border=\"1\" class=\"dataframe\">\n",
       "  <thead>\n",
       "    <tr style=\"text-align: right;\">\n",
       "      <th></th>\n",
       "      <th>balcony</th>\n",
       "      <th>floortype_id</th>\n",
       "      <th>kitchen_to_total</th>\n",
       "      <th>last_price</th>\n",
       "      <th>living_to_total</th>\n",
       "    </tr>\n",
       "  </thead>\n",
       "  <tbody>\n",
       "    <tr>\n",
       "      <td>balcony</td>\n",
       "      <td>1.000000</td>\n",
       "      <td>0.042042</td>\n",
       "      <td>0.097942</td>\n",
       "      <td>0.071395</td>\n",
       "      <td>-0.158994</td>\n",
       "    </tr>\n",
       "    <tr>\n",
       "      <td>floortype_id</td>\n",
       "      <td>0.042042</td>\n",
       "      <td>1.000000</td>\n",
       "      <td>-0.070275</td>\n",
       "      <td>0.095933</td>\n",
       "      <td>0.052918</td>\n",
       "    </tr>\n",
       "    <tr>\n",
       "      <td>kitchen_to_total</td>\n",
       "      <td>0.097942</td>\n",
       "      <td>-0.070275</td>\n",
       "      <td>1.000000</td>\n",
       "      <td>-0.085858</td>\n",
       "      <td>-0.669821</td>\n",
       "    </tr>\n",
       "    <tr>\n",
       "      <td>last_price</td>\n",
       "      <td>0.071395</td>\n",
       "      <td>0.095933</td>\n",
       "      <td>-0.085858</td>\n",
       "      <td>1.000000</td>\n",
       "      <td>-0.016069</td>\n",
       "    </tr>\n",
       "    <tr>\n",
       "      <td>living_to_total</td>\n",
       "      <td>-0.158994</td>\n",
       "      <td>0.052918</td>\n",
       "      <td>-0.669821</td>\n",
       "      <td>-0.016069</td>\n",
       "      <td>1.000000</td>\n",
       "    </tr>\n",
       "  </tbody>\n",
       "</table>\n",
       "</div>"
      ],
      "text/plain": [
       "                   balcony  floortype_id  kitchen_to_total  last_price  \\\n",
       "balcony           1.000000      0.042042          0.097942    0.071395   \n",
       "floortype_id      0.042042      1.000000         -0.070275    0.095933   \n",
       "kitchen_to_total  0.097942     -0.070275          1.000000   -0.085858   \n",
       "last_price        0.071395      0.095933         -0.085858    1.000000   \n",
       "living_to_total  -0.158994      0.052918         -0.669821   -0.016069   \n",
       "\n",
       "                  living_to_total  \n",
       "balcony                 -0.158994  \n",
       "floortype_id             0.052918  \n",
       "kitchen_to_total        -0.669821  \n",
       "last_price              -0.016069  \n",
       "living_to_total          1.000000  "
      ]
     },
     "execution_count": 51,
     "metadata": {},
     "output_type": "execute_result"
    }
   ],
   "source": [
    "center_benefits2 = spb_center.pivot_table(index='sqm_price', values=['last_price', 'balcony', 'floortype_id', 'living_to_total', 'kitchen_to_total'])\n",
    "center_benefits2.corr()"
   ]
  },
  {
   "cell_type": "markdown",
   "metadata": {},
   "source": [
    "Явной зависимости нет"
   ]
  },
  {
   "cell_type": "markdown",
   "metadata": {},
   "source": [
    "Осталось проверить, влияет ли на цену тип помещения и планировки."
   ]
  },
  {
   "cell_type": "code",
   "execution_count": 52,
   "metadata": {},
   "outputs": [
    {
     "data": {
      "text/html": [
       "<div>\n",
       "<style scoped>\n",
       "    .dataframe tbody tr th:only-of-type {\n",
       "        vertical-align: middle;\n",
       "    }\n",
       "\n",
       "    .dataframe tbody tr th {\n",
       "        vertical-align: top;\n",
       "    }\n",
       "\n",
       "    .dataframe thead th {\n",
       "        text-align: right;\n",
       "    }\n",
       "</style>\n",
       "<table border=\"1\" class=\"dataframe\">\n",
       "  <thead>\n",
       "    <tr style=\"text-align: right;\">\n",
       "      <th></th>\n",
       "      <th>is_apartment</th>\n",
       "      <th>last_price</th>\n",
       "      <th>open_plan</th>\n",
       "      <th>studio</th>\n",
       "    </tr>\n",
       "  </thead>\n",
       "  <tbody>\n",
       "    <tr>\n",
       "      <td>is_apartment</td>\n",
       "      <td>1.000000</td>\n",
       "      <td>0.044481</td>\n",
       "      <td>-0.002798</td>\n",
       "      <td>-0.004092</td>\n",
       "    </tr>\n",
       "    <tr>\n",
       "      <td>last_price</td>\n",
       "      <td>0.044481</td>\n",
       "      <td>1.000000</td>\n",
       "      <td>0.017820</td>\n",
       "      <td>-0.024239</td>\n",
       "    </tr>\n",
       "    <tr>\n",
       "      <td>open_plan</td>\n",
       "      <td>-0.002798</td>\n",
       "      <td>0.017820</td>\n",
       "      <td>1.000000</td>\n",
       "      <td>-0.002923</td>\n",
       "    </tr>\n",
       "    <tr>\n",
       "      <td>studio</td>\n",
       "      <td>-0.004092</td>\n",
       "      <td>-0.024239</td>\n",
       "      <td>-0.002923</td>\n",
       "      <td>1.000000</td>\n",
       "    </tr>\n",
       "  </tbody>\n",
       "</table>\n",
       "</div>"
      ],
      "text/plain": [
       "              is_apartment  last_price  open_plan    studio\n",
       "is_apartment      1.000000    0.044481  -0.002798 -0.004092\n",
       "last_price        0.044481    1.000000   0.017820 -0.024239\n",
       "open_plan        -0.002798    0.017820   1.000000 -0.002923\n",
       "studio           -0.004092   -0.024239  -0.002923  1.000000"
      ]
     },
     "execution_count": 52,
     "metadata": {},
     "output_type": "execute_result"
    }
   ],
   "source": [
    "center_realty_type = spb_center.pivot_table(index='sqm_price', values=['last_price', 'is_apartment', 'studio', 'open_plan'])\n",
    "center_realty_type.corr()"
   ]
  },
  {
   "cell_type": "markdown",
   "metadata": {},
   "source": [
    "Не влияет!\n",
    "\n",
    "А теперь посмотрим на основные зависмости через диаграммы рассеяния вместо всех этих скучных цифр.\n",
    "\n",
    "Представляю вашему вниманию зависимость цены от площади:"
   ]
  },
  {
   "cell_type": "code",
   "execution_count": 53,
   "metadata": {},
   "outputs": [
    {
     "data": {
      "text/plain": [
       "<matplotlib.axes._subplots.AxesSubplot at 0x7fe3848f9dd0>"
      ]
     },
     "execution_count": 53,
     "metadata": {},
     "output_type": "execute_result"
    },
    {
     "data": {
      "image/png": "[encoded data removed]",
      "text/plain": [
       "<Figure size 432x288 with 1 Axes>"
      ]
     },
     "metadata": {
      "needs_background": "light"
     },
     "output_type": "display_data"
    }
   ],
   "source": [
    "spb_center.plot(x='last_price', y='total_area', kind='scatter')"
   ]
  },
  {
   "cell_type": "markdown",
   "metadata": {},
   "source": [
    "Теперь зависимость цены от количества комнат"
   ]
  },
  {
   "cell_type": "code",
   "execution_count": 54,
   "metadata": {},
   "outputs": [
    {
     "data": {
      "text/plain": [
       "<matplotlib.axes._subplots.AxesSubplot at 0x7fe38482a850>"
      ]
     },
     "execution_count": 54,
     "metadata": {},
     "output_type": "execute_result"
    },
    {
     "data": {
      "image/png": "[encoded data removed]",
      "text/plain": [
       "<Figure size 432x288 with 1 Axes>"
      ]
     },
     "metadata": {
      "needs_background": "light"
     },
     "output_type": "display_data"
    }
   ],
   "source": [
    "spb_center.plot(x='last_price', y='rooms', kind='scatter')"
   ]
  },
  {
   "cell_type": "markdown",
   "metadata": {},
   "source": [
    "Не то, чтобы совсем явно, но определнный тренд есть."
   ]
  },
  {
   "cell_type": "markdown",
   "metadata": {},
   "source": [
    "### Вывод"
   ]
  },
  {
   "cell_type": "markdown",
   "metadata": {},
   "source": [
    "Сравнивая данные среди жителей центра и в целом по области, можно однозначно сказать об одинаковом влиянии площади квартиры на ее стоимость, а также количества комнат. Было бы странно, если бы такой зависимости не было. В остальном, параметры, влияющие на стоимость квартир из центра Питера, отличаются от общеобластных. Так, для региона в целом, полезно иметь квартиру в центре города и обратить внимание на высоту потолков, а также наличие парков и водоемов поблизости."
   ]
  },
  {
   "cell_type": "markdown",
   "metadata": {},
   "source": [
    "## Общий вывод"
   ]
  },
  {
   "cell_type": "markdown",
   "metadata": {},
   "source": [
    "В ходе исследования были предобработаны данные таблицы с информацией о недвижимости, произведены вычисления необходимых параметров и проведен исследовательский анализ влияния тех или иных параметров на стоимость квартир в Ленинградской области в целом и в центре Сантк-Петербурга.\n",
    "\n",
    "Так для Ленинградской области наибольшее влияние на стоимость квартиры оказывает:\n",
    "* площадь квартиры;\n",
    "* количество комнат;\n",
    "* высота потолков;\n",
    "* расстояние от центра города;\n",
    "* наличие парков поблизости;\n",
    "* наличие водоемов поблизости.\n",
    "\n",
    "В центре Петербурга на стоимость квартиры оказывает влияние:\n",
    "* площадь квартиры;\n",
    "* количество комнат."
   ]
  }
 ],
 "metadata": {
  "ExecuteTimeLog": [
   {
    "duration": 830,
    "start_time": "2022-02-23T11:57:55.569Z"
   },
   {
    "duration": 106,
    "start_time": "2022-02-23T11:57:56.403Z"
   },
   {
    "duration": 97,
    "start_time": "2022-02-23T11:58:56.745Z"
   },
   {
    "duration": 144,
    "start_time": "2022-02-23T11:59:07.904Z"
   },
   {
    "duration": 90,
    "start_time": "2022-02-23T11:59:10.312Z"
   },
   {
    "duration": 94,
    "start_time": "2022-02-23T11:59:48.783Z"
   },
   {
    "duration": 422,
    "start_time": "2022-02-23T12:00:15.483Z"
   },
   {
    "duration": 167,
    "start_time": "2022-02-23T12:00:18.640Z"
   },
   {
    "duration": 138,
    "start_time": "2022-02-23T12:06:12.421Z"
   },
   {
    "duration": 16,
    "start_time": "2022-02-23T12:12:52.515Z"
   },
   {
    "duration": 111,
    "start_time": "2022-02-23T12:20:31.752Z"
   },
   {
    "duration": 15,
    "start_time": "2022-02-23T12:58:47.672Z"
   },
   {
    "duration": 14,
    "start_time": "2022-02-23T12:59:42.954Z"
   },
   {
    "duration": 108,
    "start_time": "2022-02-23T13:02:18.315Z"
   },
   {
    "duration": 313,
    "start_time": "2022-02-23T13:28:00.248Z"
   },
   {
    "duration": 7,
    "start_time": "2022-02-23T13:28:17.478Z"
   },
   {
    "duration": 92,
    "start_time": "2022-02-23T13:28:51.000Z"
   },
   {
    "duration": 4002,
    "start_time": "2022-02-23T13:29:04.296Z"
   },
   {
    "duration": 337,
    "start_time": "2022-02-23T13:29:33.465Z"
   },
   {
    "duration": 295,
    "start_time": "2022-02-23T13:30:00.306Z"
   },
   {
    "duration": 344,
    "start_time": "2022-02-23T13:30:55.986Z"
   },
   {
    "duration": 11,
    "start_time": "2022-02-23T13:31:29.960Z"
   },
   {
    "duration": 10,
    "start_time": "2022-02-23T13:55:23.543Z"
   },
   {
    "duration": 7,
    "start_time": "2022-02-23T14:19:51.436Z"
   },
   {
    "duration": 7,
    "start_time": "2022-02-23T14:20:37.115Z"
   },
   {
    "duration": 13,
    "start_time": "2022-02-23T14:33:01.645Z"
   },
   {
    "duration": 12,
    "start_time": "2022-02-23T14:34:57.960Z"
   },
   {
    "duration": 13,
    "start_time": "2022-02-23T14:55:58.534Z"
   },
   {
    "duration": 298,
    "start_time": "2022-02-23T15:14:12.126Z"
   },
   {
    "duration": 23,
    "start_time": "2022-02-23T15:14:38.943Z"
   },
   {
    "duration": 865,
    "start_time": "2022-02-23T15:15:06.040Z"
   },
   {
    "duration": 167,
    "start_time": "2022-02-23T15:15:06.908Z"
   },
   {
    "duration": 20,
    "start_time": "2022-02-23T15:15:07.078Z"
   },
   {
    "duration": 34,
    "start_time": "2022-02-23T15:15:07.101Z"
   },
   {
    "duration": 121,
    "start_time": "2022-02-23T15:15:07.138Z"
   },
   {
    "duration": 22,
    "start_time": "2022-02-23T15:15:07.261Z"
   },
   {
    "duration": 391,
    "start_time": "2022-02-23T15:15:07.286Z"
   },
   {
    "duration": 129,
    "start_time": "2022-02-23T15:17:28.126Z"
   },
   {
    "duration": 94,
    "start_time": "2022-02-23T15:20:33.572Z"
   },
   {
    "duration": 110,
    "start_time": "2022-02-23T15:20:49.345Z"
   },
   {
    "duration": 280,
    "start_time": "2022-02-23T15:25:40.812Z"
   },
   {
    "duration": 313,
    "start_time": "2022-02-23T15:26:18.149Z"
   },
   {
    "duration": 315,
    "start_time": "2022-02-23T15:26:56.728Z"
   },
   {
    "duration": 298,
    "start_time": "2022-02-23T15:29:46.123Z"
   },
   {
    "duration": 281,
    "start_time": "2022-02-23T15:30:12.366Z"
   },
   {
    "duration": 8,
    "start_time": "2022-02-23T15:31:31.597Z"
   },
   {
    "duration": 12,
    "start_time": "2022-02-23T15:31:53.149Z"
   },
   {
    "duration": 572,
    "start_time": "2022-02-23T15:33:31.621Z"
   },
   {
    "duration": 98,
    "start_time": "2022-02-23T15:36:05.735Z"
   },
   {
    "duration": 24,
    "start_time": "2022-02-23T15:36:14.296Z"
   },
   {
    "duration": 766,
    "start_time": "2022-02-23T15:36:43.875Z"
   },
   {
    "duration": 200,
    "start_time": "2022-02-23T15:36:44.645Z"
   },
   {
    "duration": 24,
    "start_time": "2022-02-23T15:36:44.848Z"
   },
   {
    "duration": 14,
    "start_time": "2022-02-23T15:36:44.875Z"
   },
   {
    "duration": 153,
    "start_time": "2022-02-23T15:36:44.892Z"
   },
   {
    "duration": 23,
    "start_time": "2022-02-23T15:36:45.048Z"
   },
   {
    "duration": 53,
    "start_time": "2022-02-23T15:36:45.074Z"
   },
   {
    "duration": 20,
    "start_time": "2022-02-23T15:36:45.132Z"
   },
   {
    "duration": 31,
    "start_time": "2022-02-23T15:37:59.956Z"
   },
   {
    "duration": 47,
    "start_time": "2022-02-23T15:40:30.549Z"
   },
   {
    "duration": 725,
    "start_time": "2022-02-23T15:44:55.869Z"
   },
   {
    "duration": 146,
    "start_time": "2022-02-23T15:44:56.597Z"
   },
   {
    "duration": 16,
    "start_time": "2022-02-23T15:44:56.746Z"
   },
   {
    "duration": 13,
    "start_time": "2022-02-23T15:44:56.766Z"
   },
   {
    "duration": 150,
    "start_time": "2022-02-23T15:44:56.782Z"
   },
   {
    "duration": 70,
    "start_time": "2022-02-23T15:44:56.934Z"
   },
   {
    "duration": 31,
    "start_time": "2022-02-23T15:44:57.006Z"
   },
   {
    "duration": 403,
    "start_time": "2022-02-23T16:51:04.880Z"
   },
   {
    "duration": 14,
    "start_time": "2022-02-23T16:53:08.564Z"
   },
   {
    "duration": 103,
    "start_time": "2022-02-23T16:54:32.057Z"
   },
   {
    "duration": 30,
    "start_time": "2022-02-23T16:54:43.029Z"
   },
   {
    "duration": 29,
    "start_time": "2022-02-23T16:55:08.158Z"
   },
   {
    "duration": 513,
    "start_time": "2022-02-23T19:38:16.294Z"
   },
   {
    "duration": 899,
    "start_time": "2022-02-23T19:38:29.817Z"
   },
   {
    "duration": 146,
    "start_time": "2022-02-23T19:38:30.719Z"
   },
   {
    "duration": 16,
    "start_time": "2022-02-23T19:38:30.868Z"
   },
   {
    "duration": 29,
    "start_time": "2022-02-23T19:38:30.887Z"
   },
   {
    "duration": 129,
    "start_time": "2022-02-23T19:38:30.919Z"
   },
   {
    "duration": 75,
    "start_time": "2022-02-23T19:38:31.051Z"
   },
   {
    "duration": 30,
    "start_time": "2022-02-23T19:38:31.128Z"
   },
   {
    "duration": 496,
    "start_time": "2022-02-23T19:58:16.865Z"
   },
   {
    "duration": 325,
    "start_time": "2022-02-23T19:58:39.785Z"
   },
   {
    "duration": 342,
    "start_time": "2022-02-23T19:59:11.242Z"
   },
   {
    "duration": 61,
    "start_time": "2022-02-23T20:06:06.517Z"
   },
   {
    "duration": 17,
    "start_time": "2022-02-23T20:06:16.082Z"
   },
   {
    "duration": 17,
    "start_time": "2022-02-23T20:06:40.108Z"
   },
   {
    "duration": 19,
    "start_time": "2022-02-23T20:06:44.634Z"
   },
   {
    "duration": 19,
    "start_time": "2022-02-23T20:07:25.544Z"
   },
   {
    "duration": 789,
    "start_time": "2022-02-23T20:07:54.595Z"
   },
   {
    "duration": 151,
    "start_time": "2022-02-23T20:07:55.387Z"
   },
   {
    "duration": 17,
    "start_time": "2022-02-23T20:07:55.541Z"
   },
   {
    "duration": 13,
    "start_time": "2022-02-23T20:07:55.560Z"
   },
   {
    "duration": 143,
    "start_time": "2022-02-23T20:07:55.576Z"
   },
   {
    "duration": 65,
    "start_time": "2022-02-23T20:07:55.722Z"
   },
   {
    "duration": 46,
    "start_time": "2022-02-23T20:07:55.789Z"
   },
   {
    "duration": 19,
    "start_time": "2022-02-23T20:07:55.838Z"
   },
   {
    "duration": 20,
    "start_time": "2022-02-23T20:08:25.976Z"
   },
   {
    "duration": 594,
    "start_time": "2022-02-25T19:51:59.505Z"
   },
   {
    "duration": 112,
    "start_time": "2022-02-25T19:52:00.101Z"
   },
   {
    "duration": 11,
    "start_time": "2022-02-25T19:52:00.216Z"
   },
   {
    "duration": 20,
    "start_time": "2022-02-25T19:52:00.229Z"
   },
   {
    "duration": 88,
    "start_time": "2022-02-25T19:52:00.252Z"
   },
   {
    "duration": 58,
    "start_time": "2022-02-25T19:52:00.342Z"
   },
   {
    "duration": 21,
    "start_time": "2022-02-25T19:52:00.402Z"
   },
   {
    "duration": 15,
    "start_time": "2022-02-25T19:52:00.426Z"
   },
   {
    "duration": 19,
    "start_time": "2022-02-25T19:53:01.200Z"
   },
   {
    "duration": 20,
    "start_time": "2022-02-25T19:53:32.715Z"
   },
   {
    "duration": 2289,
    "start_time": "2022-02-25T20:02:43.826Z"
   },
   {
    "duration": 32,
    "start_time": "2022-02-25T20:03:36.886Z"
   },
   {
    "duration": 28,
    "start_time": "2022-02-25T20:03:40.128Z"
   },
   {
    "duration": 224,
    "start_time": "2022-02-25T20:06:41.101Z"
   },
   {
    "duration": 29,
    "start_time": "2022-02-25T20:19:20.903Z"
   },
   {
    "duration": 24,
    "start_time": "2022-02-25T20:19:27.690Z"
   },
   {
    "duration": 24,
    "start_time": "2022-02-25T20:21:26.300Z"
   },
   {
    "duration": 24,
    "start_time": "2022-02-25T20:21:36.813Z"
   },
   {
    "duration": 23,
    "start_time": "2022-02-25T20:24:41.411Z"
   },
   {
    "duration": 70,
    "start_time": "2022-02-25T20:25:06.836Z"
   },
   {
    "duration": 28,
    "start_time": "2022-02-25T20:29:17.029Z"
   },
   {
    "duration": 85,
    "start_time": "2022-02-25T20:38:04.366Z"
   },
   {
    "duration": 39,
    "start_time": "2022-02-25T20:47:43.662Z"
   },
   {
    "duration": 4,
    "start_time": "2022-02-25T20:59:32.554Z"
   },
   {
    "duration": 977,
    "start_time": "2022-02-25T21:00:25.016Z"
   },
   {
    "duration": 773,
    "start_time": "2022-02-26T08:56:21.411Z"
   },
   {
    "duration": 144,
    "start_time": "2022-02-26T08:56:22.187Z"
   },
   {
    "duration": 15,
    "start_time": "2022-02-26T08:56:22.334Z"
   },
   {
    "duration": 14,
    "start_time": "2022-02-26T08:56:22.352Z"
   },
   {
    "duration": 125,
    "start_time": "2022-02-26T08:56:22.394Z"
   },
   {
    "duration": 75,
    "start_time": "2022-02-26T08:56:22.521Z"
   },
   {
    "duration": 30,
    "start_time": "2022-02-26T08:56:22.599Z"
   },
   {
    "duration": 30,
    "start_time": "2022-02-26T08:56:22.634Z"
   },
   {
    "duration": 56,
    "start_time": "2022-02-26T08:56:22.696Z"
   },
   {
    "duration": 60,
    "start_time": "2022-02-26T08:56:22.756Z"
   },
   {
    "duration": 44,
    "start_time": "2022-02-26T08:56:22.819Z"
   },
   {
    "duration": 68,
    "start_time": "2022-02-26T08:56:22.865Z"
   },
   {
    "duration": 1453,
    "start_time": "2022-02-26T08:56:22.936Z"
   },
   {
    "duration": 255,
    "start_time": "2022-02-26T11:25:57.505Z"
   },
   {
    "duration": 224,
    "start_time": "2022-02-26T11:26:11.373Z"
   },
   {
    "duration": 244,
    "start_time": "2022-02-26T11:26:42.773Z"
   },
   {
    "duration": 565,
    "start_time": "2022-02-26T11:27:24.847Z"
   },
   {
    "duration": 110,
    "start_time": "2022-02-26T11:27:25.414Z"
   },
   {
    "duration": 10,
    "start_time": "2022-02-26T11:27:25.526Z"
   },
   {
    "duration": 9,
    "start_time": "2022-02-26T11:27:25.539Z"
   },
   {
    "duration": 99,
    "start_time": "2022-02-26T11:27:25.549Z"
   },
   {
    "duration": 44,
    "start_time": "2022-02-26T11:27:25.650Z"
   },
   {
    "duration": 35,
    "start_time": "2022-02-26T11:27:25.695Z"
   },
   {
    "duration": 18,
    "start_time": "2022-02-26T11:27:25.732Z"
   },
   {
    "duration": 30,
    "start_time": "2022-02-26T11:27:25.752Z"
   },
   {
    "duration": 49,
    "start_time": "2022-02-26T11:27:25.784Z"
   },
   {
    "duration": 26,
    "start_time": "2022-02-26T11:27:25.835Z"
   },
   {
    "duration": 31,
    "start_time": "2022-02-26T11:27:25.862Z"
   },
   {
    "duration": 613,
    "start_time": "2022-02-26T11:27:25.895Z"
   },
   {
    "duration": 34,
    "start_time": "2022-02-26T11:32:57.152Z"
   },
   {
    "duration": 28,
    "start_time": "2022-02-26T11:33:49.349Z"
   },
   {
    "duration": 661,
    "start_time": "2022-02-26T11:34:29.125Z"
   },
   {
    "duration": 28,
    "start_time": "2022-02-26T11:35:19.052Z"
   },
   {
    "duration": 804,
    "start_time": "2022-02-26T11:41:44.115Z"
   },
   {
    "duration": 202,
    "start_time": "2022-02-26T11:42:05.923Z"
   },
   {
    "duration": 233,
    "start_time": "2022-02-26T11:45:36.199Z"
   },
   {
    "duration": 290,
    "start_time": "2022-02-26T11:45:49.625Z"
   },
   {
    "duration": 3,
    "start_time": "2022-02-26T11:46:12.838Z"
   },
   {
    "duration": 231,
    "start_time": "2022-02-26T11:46:19.190Z"
   },
   {
    "duration": 202,
    "start_time": "2022-02-26T11:47:10.855Z"
   },
   {
    "duration": 251,
    "start_time": "2022-02-26T11:47:15.508Z"
   },
   {
    "duration": 282,
    "start_time": "2022-02-26T11:48:11.369Z"
   },
   {
    "duration": 203,
    "start_time": "2022-02-26T11:48:44.966Z"
   },
   {
    "duration": 256,
    "start_time": "2022-02-26T11:49:05.714Z"
   },
   {
    "duration": 211,
    "start_time": "2022-02-26T11:49:15.254Z"
   },
   {
    "duration": 300,
    "start_time": "2022-02-26T11:49:48.822Z"
   },
   {
    "duration": 283,
    "start_time": "2022-02-26T11:50:48.618Z"
   },
   {
    "duration": 209,
    "start_time": "2022-02-26T11:51:03.912Z"
   },
   {
    "duration": 226,
    "start_time": "2022-02-26T11:52:02.232Z"
   },
   {
    "duration": 185,
    "start_time": "2022-02-26T11:52:23.135Z"
   },
   {
    "duration": 369,
    "start_time": "2022-02-26T11:52:31.384Z"
   },
   {
    "duration": 186,
    "start_time": "2022-02-26T11:52:44.168Z"
   },
   {
    "duration": 259,
    "start_time": "2022-02-26T12:00:00.476Z"
   },
   {
    "duration": 273,
    "start_time": "2022-02-26T12:02:14.809Z"
   },
   {
    "duration": 212,
    "start_time": "2022-02-26T12:02:23.994Z"
   },
   {
    "duration": 235,
    "start_time": "2022-02-26T12:02:33.216Z"
   },
   {
    "duration": 285,
    "start_time": "2022-02-26T12:23:10.032Z"
   },
   {
    "duration": 218,
    "start_time": "2022-02-26T12:23:24.246Z"
   },
   {
    "duration": 233,
    "start_time": "2022-02-26T12:23:38.222Z"
   },
   {
    "duration": 842,
    "start_time": "2022-02-26T12:23:47.575Z"
   },
   {
    "duration": 139,
    "start_time": "2022-02-26T12:23:48.420Z"
   },
   {
    "duration": 29,
    "start_time": "2022-02-26T12:23:48.563Z"
   },
   {
    "duration": 13,
    "start_time": "2022-02-26T12:23:48.596Z"
   },
   {
    "duration": 135,
    "start_time": "2022-02-26T12:23:48.611Z"
   },
   {
    "duration": 70,
    "start_time": "2022-02-26T12:23:48.748Z"
   },
   {
    "duration": 29,
    "start_time": "2022-02-26T12:23:48.820Z"
   },
   {
    "duration": 42,
    "start_time": "2022-02-26T12:23:48.852Z"
   },
   {
    "duration": 40,
    "start_time": "2022-02-26T12:23:48.898Z"
   },
   {
    "duration": 52,
    "start_time": "2022-02-26T12:23:48.940Z"
   },
   {
    "duration": 37,
    "start_time": "2022-02-26T12:23:48.994Z"
   },
   {
    "duration": 65,
    "start_time": "2022-02-26T12:23:49.033Z"
   },
   {
    "duration": 993,
    "start_time": "2022-02-26T12:23:49.100Z"
   },
   {
    "duration": 41,
    "start_time": "2022-02-26T12:23:50.095Z"
   },
   {
    "duration": 471,
    "start_time": "2022-02-26T12:23:50.139Z"
   },
   {
    "duration": 426,
    "start_time": "2022-02-26T12:23:50.612Z"
   },
   {
    "duration": 370,
    "start_time": "2022-02-26T12:23:51.041Z"
   },
   {
    "duration": 353,
    "start_time": "2022-02-26T12:23:51.414Z"
   },
   {
    "duration": 251,
    "start_time": "2022-02-26T12:23:51.769Z"
   },
   {
    "duration": 370,
    "start_time": "2022-02-26T12:34:08.744Z"
   },
   {
    "duration": 7,
    "start_time": "2022-02-26T12:36:18.757Z"
   },
   {
    "duration": 7,
    "start_time": "2022-02-26T12:36:49.411Z"
   },
   {
    "duration": 253,
    "start_time": "2022-02-26T12:41:19.089Z"
   },
   {
    "duration": 146,
    "start_time": "2022-02-26T19:23:31.647Z"
   },
   {
    "duration": 619,
    "start_time": "2022-02-26T19:23:37.408Z"
   },
   {
    "duration": 92,
    "start_time": "2022-02-26T19:23:38.028Z"
   },
   {
    "duration": 11,
    "start_time": "2022-02-26T19:23:38.121Z"
   },
   {
    "duration": 8,
    "start_time": "2022-02-26T19:23:38.135Z"
   },
   {
    "duration": 66,
    "start_time": "2022-02-26T19:23:38.144Z"
   },
   {
    "duration": 58,
    "start_time": "2022-02-26T19:23:38.211Z"
   },
   {
    "duration": 17,
    "start_time": "2022-02-26T19:23:38.270Z"
   },
   {
    "duration": 15,
    "start_time": "2022-02-26T19:23:38.289Z"
   },
   {
    "duration": 47,
    "start_time": "2022-02-26T19:23:38.306Z"
   },
   {
    "duration": 21,
    "start_time": "2022-02-26T19:23:38.354Z"
   },
   {
    "duration": 21,
    "start_time": "2022-02-26T19:23:38.377Z"
   },
   {
    "duration": 51,
    "start_time": "2022-02-26T19:23:38.400Z"
   },
   {
    "duration": 566,
    "start_time": "2022-02-26T19:23:38.453Z"
   },
   {
    "duration": 32,
    "start_time": "2022-02-26T19:23:39.020Z"
   },
   {
    "duration": 282,
    "start_time": "2022-02-26T19:23:39.053Z"
   },
   {
    "duration": 240,
    "start_time": "2022-02-26T19:23:39.336Z"
   },
   {
    "duration": 204,
    "start_time": "2022-02-26T19:23:39.577Z"
   },
   {
    "duration": 201,
    "start_time": "2022-02-26T19:23:39.783Z"
   },
   {
    "duration": 237,
    "start_time": "2022-02-26T19:23:39.986Z"
   },
   {
    "duration": 9,
    "start_time": "2022-02-26T19:23:40.225Z"
   },
   {
    "duration": 156,
    "start_time": "2022-02-26T19:23:40.235Z"
   },
   {
    "duration": 131,
    "start_time": "2022-02-26T19:23:40.393Z"
   },
   {
    "duration": 2471,
    "start_time": "2022-02-26T19:24:37.794Z"
   },
   {
    "duration": 613,
    "start_time": "2022-02-26T19:25:02.252Z"
   },
   {
    "duration": 169,
    "start_time": "2022-02-26T19:25:11.473Z"
   },
   {
    "duration": 121,
    "start_time": "2022-02-26T19:34:58.597Z"
   },
   {
    "duration": 139,
    "start_time": "2022-02-26T19:36:29.177Z"
   },
   {
    "duration": 187,
    "start_time": "2022-02-26T19:38:43.455Z"
   },
   {
    "duration": 129,
    "start_time": "2022-02-26T19:39:41.745Z"
   },
   {
    "duration": 186,
    "start_time": "2022-02-26T19:40:13.925Z"
   },
   {
    "duration": 124,
    "start_time": "2022-02-26T19:41:22.181Z"
   },
   {
    "duration": 129,
    "start_time": "2022-02-26T19:43:46.406Z"
   },
   {
    "duration": 41,
    "start_time": "2022-02-26T19:49:19.358Z"
   },
   {
    "duration": 146,
    "start_time": "2022-02-26T19:49:24.995Z"
   },
   {
    "duration": 137,
    "start_time": "2022-02-26T19:51:58.473Z"
   },
   {
    "duration": 137,
    "start_time": "2022-02-26T19:52:11.061Z"
   },
   {
    "duration": 124,
    "start_time": "2022-02-26T19:52:22.697Z"
   },
   {
    "duration": 132,
    "start_time": "2022-02-26T19:52:29.263Z"
   },
   {
    "duration": 8,
    "start_time": "2022-02-26T19:54:39.549Z"
   },
   {
    "duration": 3773,
    "start_time": "2022-02-26T19:55:17.331Z"
   },
   {
    "duration": 8,
    "start_time": "2022-02-26T19:55:53.519Z"
   },
   {
    "duration": 143,
    "start_time": "2022-02-26T19:57:08.928Z"
   },
   {
    "duration": 136,
    "start_time": "2022-02-26T19:57:17.232Z"
   },
   {
    "duration": 149,
    "start_time": "2022-02-26T19:57:32.568Z"
   },
   {
    "duration": 240,
    "start_time": "2022-02-26T19:57:51.267Z"
   },
   {
    "duration": 129,
    "start_time": "2022-02-26T19:58:52.759Z"
   },
   {
    "duration": 148,
    "start_time": "2022-02-26T19:59:01.337Z"
   },
   {
    "duration": 139,
    "start_time": "2022-02-26T19:59:05.316Z"
   },
   {
    "duration": 142,
    "start_time": "2022-02-26T20:01:17.441Z"
   },
   {
    "duration": 133,
    "start_time": "2022-02-26T20:04:37.265Z"
   },
   {
    "duration": 132,
    "start_time": "2022-02-26T20:04:43.612Z"
   },
   {
    "duration": 138,
    "start_time": "2022-02-26T20:04:52.437Z"
   },
   {
    "duration": 131,
    "start_time": "2022-02-26T20:12:32.456Z"
   },
   {
    "duration": 140,
    "start_time": "2022-02-26T20:12:39.074Z"
   },
   {
    "duration": 141,
    "start_time": "2022-02-26T20:12:46.229Z"
   },
   {
    "duration": 128,
    "start_time": "2022-02-26T20:12:51.038Z"
   },
   {
    "duration": 9,
    "start_time": "2022-02-26T20:13:21.111Z"
   },
   {
    "duration": 7,
    "start_time": "2022-02-26T20:13:39.500Z"
   },
   {
    "duration": 12,
    "start_time": "2022-02-26T20:15:19.531Z"
   },
   {
    "duration": 11,
    "start_time": "2022-02-26T20:15:22.168Z"
   },
   {
    "duration": 16,
    "start_time": "2022-02-26T20:15:52.100Z"
   },
   {
    "duration": 11,
    "start_time": "2022-02-26T20:15:53.381Z"
   },
   {
    "duration": 49,
    "start_time": "2022-02-26T20:16:24.731Z"
   },
   {
    "duration": 9,
    "start_time": "2022-02-26T20:16:25.026Z"
   },
   {
    "duration": 11,
    "start_time": "2022-02-26T20:16:40.899Z"
   },
   {
    "duration": 10,
    "start_time": "2022-02-26T20:16:41.130Z"
   },
   {
    "duration": 968,
    "start_time": "2022-02-26T20:48:15.861Z"
   },
   {
    "duration": 147,
    "start_time": "2022-02-26T20:51:24.076Z"
   },
   {
    "duration": 217,
    "start_time": "2022-02-26T20:53:17.654Z"
   },
   {
    "duration": 185,
    "start_time": "2022-02-26T20:54:22.116Z"
   },
   {
    "duration": 131,
    "start_time": "2022-02-26T20:56:37.350Z"
   },
   {
    "duration": 8277,
    "start_time": "2022-02-26T21:02:09.881Z"
   },
   {
    "duration": 988,
    "start_time": "2022-02-26T21:03:22.048Z"
   },
   {
    "duration": 3537,
    "start_time": "2022-02-26T21:05:02.407Z"
   },
   {
    "duration": 3292,
    "start_time": "2022-02-26T21:12:28.473Z"
   },
   {
    "duration": 3319,
    "start_time": "2022-02-26T21:14:16.983Z"
   },
   {
    "duration": 5,
    "start_time": "2022-02-26T21:14:30.239Z"
   },
   {
    "duration": 5,
    "start_time": "2022-02-26T21:20:14.281Z"
   },
   {
    "duration": 7,
    "start_time": "2022-02-26T21:20:40.551Z"
   },
   {
    "duration": 159,
    "start_time": "2022-02-26T21:28:28.696Z"
   },
   {
    "duration": 42,
    "start_time": "2022-02-26T21:29:18.253Z"
   },
   {
    "duration": 558,
    "start_time": "2022-02-26T21:29:28.891Z"
   },
   {
    "duration": 93,
    "start_time": "2022-02-26T21:29:29.451Z"
   },
   {
    "duration": 10,
    "start_time": "2022-02-26T21:29:29.547Z"
   },
   {
    "duration": 7,
    "start_time": "2022-02-26T21:29:29.559Z"
   },
   {
    "duration": 82,
    "start_time": "2022-02-26T21:29:29.568Z"
   },
   {
    "duration": 658,
    "start_time": "2022-02-26T21:29:29.652Z"
   },
   {
    "duration": -973,
    "start_time": "2022-02-26T21:29:31.286Z"
   },
   {
    "duration": -976,
    "start_time": "2022-02-26T21:29:31.290Z"
   },
   {
    "duration": -979,
    "start_time": "2022-02-26T21:29:31.294Z"
   },
   {
    "duration": -984,
    "start_time": "2022-02-26T21:29:31.300Z"
   },
   {
    "duration": -987,
    "start_time": "2022-02-26T21:29:31.304Z"
   },
   {
    "duration": -990,
    "start_time": "2022-02-26T21:29:31.308Z"
   },
   {
    "duration": -994,
    "start_time": "2022-02-26T21:29:31.313Z"
   },
   {
    "duration": -1002,
    "start_time": "2022-02-26T21:29:31.322Z"
   },
   {
    "duration": -1005,
    "start_time": "2022-02-26T21:29:31.325Z"
   },
   {
    "duration": -1008,
    "start_time": "2022-02-26T21:29:31.329Z"
   },
   {
    "duration": -1010,
    "start_time": "2022-02-26T21:29:31.332Z"
   },
   {
    "duration": -1013,
    "start_time": "2022-02-26T21:29:31.336Z"
   },
   {
    "duration": -1023,
    "start_time": "2022-02-26T21:29:31.347Z"
   },
   {
    "duration": -1026,
    "start_time": "2022-02-26T21:29:31.351Z"
   },
   {
    "duration": -1028,
    "start_time": "2022-02-26T21:29:31.354Z"
   },
   {
    "duration": -1031,
    "start_time": "2022-02-26T21:29:31.358Z"
   },
   {
    "duration": -1034,
    "start_time": "2022-02-26T21:29:31.362Z"
   },
   {
    "duration": -1037,
    "start_time": "2022-02-26T21:29:31.366Z"
   },
   {
    "duration": -1039,
    "start_time": "2022-02-26T21:29:31.369Z"
   },
   {
    "duration": -1041,
    "start_time": "2022-02-26T21:29:31.372Z"
   },
   {
    "duration": -1043,
    "start_time": "2022-02-26T21:29:31.375Z"
   },
   {
    "duration": -1045,
    "start_time": "2022-02-26T21:29:31.378Z"
   },
   {
    "duration": -1047,
    "start_time": "2022-02-26T21:29:31.381Z"
   },
   {
    "duration": -1050,
    "start_time": "2022-02-26T21:29:31.385Z"
   },
   {
    "duration": -1052,
    "start_time": "2022-02-26T21:29:31.388Z"
   },
   {
    "duration": -1055,
    "start_time": "2022-02-26T21:29:31.392Z"
   },
   {
    "duration": -1057,
    "start_time": "2022-02-26T21:29:31.395Z"
   },
   {
    "duration": 41,
    "start_time": "2022-02-26T21:30:16.273Z"
   },
   {
    "duration": 632,
    "start_time": "2022-02-26T21:30:31.125Z"
   },
   {
    "duration": 87,
    "start_time": "2022-02-26T21:30:31.760Z"
   },
   {
    "duration": 10,
    "start_time": "2022-02-26T21:30:31.849Z"
   },
   {
    "duration": 8,
    "start_time": "2022-02-26T21:30:31.861Z"
   },
   {
    "duration": 86,
    "start_time": "2022-02-26T21:30:31.870Z"
   },
   {
    "duration": 42,
    "start_time": "2022-02-26T21:30:31.958Z"
   },
   {
    "duration": 33,
    "start_time": "2022-02-26T21:30:32.002Z"
   },
   {
    "duration": 17,
    "start_time": "2022-02-26T21:30:32.038Z"
   },
   {
    "duration": 26,
    "start_time": "2022-02-26T21:30:32.058Z"
   },
   {
    "duration": 23,
    "start_time": "2022-02-26T21:30:32.086Z"
   },
   {
    "duration": 43,
    "start_time": "2022-02-26T21:30:32.110Z"
   },
   {
    "duration": 29,
    "start_time": "2022-02-26T21:30:32.155Z"
   },
   {
    "duration": 590,
    "start_time": "2022-02-26T21:30:32.185Z"
   },
   {
    "duration": 26,
    "start_time": "2022-02-26T21:30:32.776Z"
   },
   {
    "duration": 292,
    "start_time": "2022-02-26T21:30:32.804Z"
   },
   {
    "duration": 132,
    "start_time": "2022-02-26T21:30:33.097Z"
   },
   {
    "duration": 144,
    "start_time": "2022-02-26T21:30:33.233Z"
   },
   {
    "duration": 242,
    "start_time": "2022-02-26T21:30:33.379Z"
   },
   {
    "duration": 148,
    "start_time": "2022-02-26T21:30:33.622Z"
   },
   {
    "duration": 149,
    "start_time": "2022-02-26T21:30:33.772Z"
   },
   {
    "duration": 213,
    "start_time": "2022-02-26T21:30:33.922Z"
   },
   {
    "duration": 139,
    "start_time": "2022-02-26T21:30:34.136Z"
   },
   {
    "duration": 201,
    "start_time": "2022-02-26T21:30:34.277Z"
   },
   {
    "duration": 136,
    "start_time": "2022-02-26T21:30:34.479Z"
   },
   {
    "duration": 151,
    "start_time": "2022-02-26T21:30:34.617Z"
   },
   {
    "duration": 277,
    "start_time": "2022-02-26T21:30:34.771Z"
   },
   {
    "duration": 6,
    "start_time": "2022-02-26T21:30:35.050Z"
   },
   {
    "duration": 153,
    "start_time": "2022-02-26T21:30:35.057Z"
   },
   {
    "duration": 26,
    "start_time": "2022-02-26T21:30:35.212Z"
   },
   {
    "duration": 10,
    "start_time": "2022-02-26T21:30:35.240Z"
   },
   {
    "duration": 2997,
    "start_time": "2022-02-26T21:30:35.252Z"
   },
   {
    "duration": 3321,
    "start_time": "2022-02-26T21:30:38.251Z"
   },
   {
    "duration": 6,
    "start_time": "2022-02-26T21:30:41.573Z"
   },
   {
    "duration": 668,
    "start_time": "2022-02-27T08:53:35.338Z"
   },
   {
    "duration": 96,
    "start_time": "2022-02-27T08:53:36.007Z"
   },
   {
    "duration": 10,
    "start_time": "2022-02-27T08:53:36.105Z"
   },
   {
    "duration": 19,
    "start_time": "2022-02-27T08:53:36.118Z"
   },
   {
    "duration": 69,
    "start_time": "2022-02-27T08:53:36.139Z"
   },
   {
    "duration": 55,
    "start_time": "2022-02-27T08:53:36.210Z"
   },
   {
    "duration": 17,
    "start_time": "2022-02-27T08:53:36.266Z"
   },
   {
    "duration": 16,
    "start_time": "2022-02-27T08:53:36.285Z"
   },
   {
    "duration": 51,
    "start_time": "2022-02-27T08:53:36.303Z"
   },
   {
    "duration": 22,
    "start_time": "2022-02-27T08:53:36.356Z"
   },
   {
    "duration": 24,
    "start_time": "2022-02-27T08:53:36.380Z"
   },
   {
    "duration": 48,
    "start_time": "2022-02-27T08:53:36.406Z"
   },
   {
    "duration": 553,
    "start_time": "2022-02-27T08:53:36.456Z"
   },
   {
    "duration": 36,
    "start_time": "2022-02-27T08:53:37.011Z"
   },
   {
    "duration": 288,
    "start_time": "2022-02-27T08:53:37.049Z"
   },
   {
    "duration": 139,
    "start_time": "2022-02-27T08:53:37.339Z"
   },
   {
    "duration": 147,
    "start_time": "2022-02-27T08:53:37.479Z"
   },
   {
    "duration": 243,
    "start_time": "2022-02-27T08:53:37.628Z"
   },
   {
    "duration": 147,
    "start_time": "2022-02-27T08:53:37.872Z"
   },
   {
    "duration": 157,
    "start_time": "2022-02-27T08:53:38.021Z"
   },
   {
    "duration": 220,
    "start_time": "2022-02-27T08:53:38.179Z"
   },
   {
    "duration": 141,
    "start_time": "2022-02-27T08:53:38.401Z"
   },
   {
    "duration": 206,
    "start_time": "2022-02-27T08:53:38.545Z"
   },
   {
    "duration": 140,
    "start_time": "2022-02-27T08:53:38.752Z"
   },
   {
    "duration": 161,
    "start_time": "2022-02-27T08:53:38.894Z"
   },
   {
    "duration": 290,
    "start_time": "2022-02-27T08:53:39.057Z"
   },
   {
    "duration": 5,
    "start_time": "2022-02-27T08:53:39.349Z"
   },
   {
    "duration": 158,
    "start_time": "2022-02-27T08:53:39.355Z"
   },
   {
    "duration": 13,
    "start_time": "2022-02-27T08:53:39.515Z"
   },
   {
    "duration": 19,
    "start_time": "2022-02-27T08:53:39.529Z"
   },
   {
    "duration": 3186,
    "start_time": "2022-02-27T08:53:39.549Z"
   },
   {
    "duration": 3400,
    "start_time": "2022-02-27T08:53:42.736Z"
   },
   {
    "duration": 6,
    "start_time": "2022-02-27T08:53:46.138Z"
   },
   {
    "duration": 9,
    "start_time": "2022-02-27T08:54:37.871Z"
   },
   {
    "duration": 9,
    "start_time": "2022-02-27T08:55:12.620Z"
   },
   {
    "duration": 47,
    "start_time": "2022-02-27T09:28:40.080Z"
   },
   {
    "duration": 212,
    "start_time": "2022-02-27T09:28:49.509Z"
   },
   {
    "duration": 41,
    "start_time": "2022-02-27T09:29:59.298Z"
   },
   {
    "duration": 221,
    "start_time": "2022-02-27T09:30:10.958Z"
   },
   {
    "duration": 18,
    "start_time": "2022-02-27T09:30:22.406Z"
   },
   {
    "duration": 172,
    "start_time": "2022-02-27T09:30:44.303Z"
   },
   {
    "duration": 23,
    "start_time": "2022-02-27T09:30:57.781Z"
   },
   {
    "duration": 19,
    "start_time": "2022-02-27T09:32:13.715Z"
   },
   {
    "duration": 152,
    "start_time": "2022-02-27T09:36:15.184Z"
   },
   {
    "duration": 22,
    "start_time": "2022-02-27T09:36:22.163Z"
   },
   {
    "duration": 25,
    "start_time": "2022-02-27T09:36:59.018Z"
   },
   {
    "duration": 153,
    "start_time": "2022-02-27T09:39:21.541Z"
   },
   {
    "duration": 22,
    "start_time": "2022-02-27T09:39:27.221Z"
   },
   {
    "duration": 23,
    "start_time": "2022-02-27T09:42:43.018Z"
   },
   {
    "duration": 203,
    "start_time": "2022-02-27T11:30:19.089Z"
   },
   {
    "duration": 27,
    "start_time": "2022-02-27T11:30:44.853Z"
   },
   {
    "duration": 28,
    "start_time": "2022-02-27T11:35:13.587Z"
   },
   {
    "duration": 31,
    "start_time": "2022-02-27T11:36:33.933Z"
   },
   {
    "duration": 22,
    "start_time": "2022-02-27T11:43:14.784Z"
   },
   {
    "duration": 21,
    "start_time": "2022-02-27T11:43:43.242Z"
   },
   {
    "duration": 597,
    "start_time": "2022-02-27T11:45:36.469Z"
   },
   {
    "duration": 88,
    "start_time": "2022-02-27T11:45:37.068Z"
   },
   {
    "duration": 9,
    "start_time": "2022-02-27T11:45:37.158Z"
   },
   {
    "duration": 8,
    "start_time": "2022-02-27T11:45:37.169Z"
   },
   {
    "duration": 84,
    "start_time": "2022-02-27T11:45:37.178Z"
   },
   {
    "duration": 38,
    "start_time": "2022-02-27T11:45:37.264Z"
   },
   {
    "duration": 36,
    "start_time": "2022-02-27T11:45:37.303Z"
   },
   {
    "duration": 16,
    "start_time": "2022-02-27T11:45:37.341Z"
   },
   {
    "duration": 27,
    "start_time": "2022-02-27T11:45:37.359Z"
   },
   {
    "duration": 22,
    "start_time": "2022-02-27T11:45:37.387Z"
   },
   {
    "duration": 48,
    "start_time": "2022-02-27T11:45:37.410Z"
   },
   {
    "duration": 29,
    "start_time": "2022-02-27T11:45:37.460Z"
   },
   {
    "duration": 582,
    "start_time": "2022-02-27T11:45:37.491Z"
   },
   {
    "duration": 24,
    "start_time": "2022-02-27T11:45:38.074Z"
   },
   {
    "duration": 297,
    "start_time": "2022-02-27T11:45:38.100Z"
   },
   {
    "duration": 151,
    "start_time": "2022-02-27T11:45:38.399Z"
   },
   {
    "duration": 151,
    "start_time": "2022-02-27T11:45:38.552Z"
   },
   {
    "duration": 257,
    "start_time": "2022-02-27T11:45:38.704Z"
   },
   {
    "duration": 152,
    "start_time": "2022-02-27T11:45:38.963Z"
   },
   {
    "duration": 176,
    "start_time": "2022-02-27T11:45:39.117Z"
   },
   {
    "duration": 228,
    "start_time": "2022-02-27T11:45:39.295Z"
   },
   {
    "duration": 148,
    "start_time": "2022-02-27T11:45:39.525Z"
   },
   {
    "duration": 219,
    "start_time": "2022-02-27T11:45:39.676Z"
   },
   {
    "duration": 159,
    "start_time": "2022-02-27T11:45:39.898Z"
   },
   {
    "duration": 165,
    "start_time": "2022-02-27T11:45:40.059Z"
   },
   {
    "duration": 296,
    "start_time": "2022-02-27T11:45:40.226Z"
   },
   {
    "duration": 6,
    "start_time": "2022-02-27T11:45:40.524Z"
   },
   {
    "duration": 163,
    "start_time": "2022-02-27T11:45:40.538Z"
   },
   {
    "duration": 15,
    "start_time": "2022-02-27T11:45:40.703Z"
   },
   {
    "duration": 22,
    "start_time": "2022-02-27T11:45:40.720Z"
   },
   {
    "duration": 3325,
    "start_time": "2022-02-27T11:45:40.744Z"
   },
   {
    "duration": 3584,
    "start_time": "2022-02-27T11:45:44.071Z"
   },
   {
    "duration": 8,
    "start_time": "2022-02-27T11:45:47.657Z"
   },
   {
    "duration": 28,
    "start_time": "2022-02-27T11:45:47.667Z"
   },
   {
    "duration": 57,
    "start_time": "2022-02-27T11:45:47.697Z"
   },
   {
    "duration": 23,
    "start_time": "2022-02-27T11:45:47.755Z"
   },
   {
    "duration": 663,
    "start_time": "2022-02-27T11:46:19.014Z"
   },
   {
    "duration": 91,
    "start_time": "2022-02-27T11:46:19.678Z"
   },
   {
    "duration": 11,
    "start_time": "2022-02-27T11:46:19.771Z"
   },
   {
    "duration": 10,
    "start_time": "2022-02-27T11:46:19.785Z"
   },
   {
    "duration": 93,
    "start_time": "2022-02-27T11:46:19.797Z"
   },
   {
    "duration": 54,
    "start_time": "2022-02-27T11:46:19.891Z"
   },
   {
    "duration": 19,
    "start_time": "2022-02-27T11:46:19.947Z"
   },
   {
    "duration": 17,
    "start_time": "2022-02-27T11:46:19.968Z"
   },
   {
    "duration": 57,
    "start_time": "2022-02-27T11:46:19.989Z"
   },
   {
    "duration": 26,
    "start_time": "2022-02-27T11:46:20.049Z"
   },
   {
    "duration": 34,
    "start_time": "2022-02-27T11:46:20.077Z"
   },
   {
    "duration": 53,
    "start_time": "2022-02-27T11:46:20.112Z"
   },
   {
    "duration": 589,
    "start_time": "2022-02-27T11:46:20.166Z"
   },
   {
    "duration": 27,
    "start_time": "2022-02-27T11:46:20.756Z"
   },
   {
    "duration": 303,
    "start_time": "2022-02-27T11:46:20.784Z"
   },
   {
    "duration": 142,
    "start_time": "2022-02-27T11:46:21.088Z"
   },
   {
    "duration": 163,
    "start_time": "2022-02-27T11:46:21.231Z"
   },
   {
    "duration": 265,
    "start_time": "2022-02-27T11:46:21.396Z"
   },
   {
    "duration": 160,
    "start_time": "2022-02-27T11:46:21.663Z"
   },
   {
    "duration": 170,
    "start_time": "2022-02-27T11:46:21.825Z"
   },
   {
    "duration": 231,
    "start_time": "2022-02-27T11:46:21.997Z"
   },
   {
    "duration": 153,
    "start_time": "2022-02-27T11:46:22.230Z"
   },
   {
    "duration": 212,
    "start_time": "2022-02-27T11:46:22.385Z"
   },
   {
    "duration": 146,
    "start_time": "2022-02-27T11:46:22.599Z"
   },
   {
    "duration": 156,
    "start_time": "2022-02-27T11:46:22.747Z"
   },
   {
    "duration": 317,
    "start_time": "2022-02-27T11:46:22.905Z"
   },
   {
    "duration": 12,
    "start_time": "2022-02-27T11:46:23.225Z"
   },
   {
    "duration": 162,
    "start_time": "2022-02-27T11:46:23.239Z"
   },
   {
    "duration": 15,
    "start_time": "2022-02-27T11:46:23.403Z"
   },
   {
    "duration": 27,
    "start_time": "2022-02-27T11:46:23.421Z"
   },
   {
    "duration": 3526,
    "start_time": "2022-02-27T11:46:23.450Z"
   },
   {
    "duration": 3489,
    "start_time": "2022-02-27T11:46:26.978Z"
   },
   {
    "duration": 11,
    "start_time": "2022-02-27T11:46:30.469Z"
   },
   {
    "duration": 31,
    "start_time": "2022-02-27T11:46:30.482Z"
   },
   {
    "duration": 60,
    "start_time": "2022-02-27T11:46:30.515Z"
   },
   {
    "duration": 22,
    "start_time": "2022-02-27T11:46:30.577Z"
   },
   {
    "duration": 412,
    "start_time": "2022-02-27T11:47:00.115Z"
   },
   {
    "duration": 188,
    "start_time": "2022-02-27T11:49:54.355Z"
   },
   {
    "duration": 199,
    "start_time": "2022-02-27T11:50:10.085Z"
   },
   {
    "duration": 181,
    "start_time": "2022-02-27T11:50:18.409Z"
   },
   {
    "duration": 6,
    "start_time": "2022-02-27T11:55:07.618Z"
   },
   {
    "duration": 216,
    "start_time": "2022-02-27T11:56:32.956Z"
   },
   {
    "duration": 146,
    "start_time": "2022-02-27T11:56:38.514Z"
   },
   {
    "duration": 181,
    "start_time": "2022-02-27T11:56:51.411Z"
   },
   {
    "duration": 7,
    "start_time": "2022-02-27T12:07:45.443Z"
   },
   {
    "duration": 143,
    "start_time": "2022-02-27T12:08:01.653Z"
   },
   {
    "duration": 14,
    "start_time": "2022-02-27T12:08:05.533Z"
   },
   {
    "duration": 14,
    "start_time": "2022-02-27T12:08:23.025Z"
   },
   {
    "duration": 11,
    "start_time": "2022-02-27T12:08:54.777Z"
   },
   {
    "duration": 11,
    "start_time": "2022-02-27T12:10:18.589Z"
   },
   {
    "duration": 63,
    "start_time": "2022-02-27T12:10:33.041Z"
   },
   {
    "duration": 1344,
    "start_time": "2022-02-27T12:21:25.697Z"
   },
   {
    "duration": 48,
    "start_time": "2022-02-27T12:27:15.339Z"
   },
   {
    "duration": 3070,
    "start_time": "2022-02-27T12:29:37.330Z"
   },
   {
    "duration": 1285,
    "start_time": "2022-02-27T12:37:46.385Z"
   },
   {
    "duration": 3083,
    "start_time": "2022-02-27T12:37:55.735Z"
   },
   {
    "duration": 1582,
    "start_time": "2022-02-27T12:38:17.265Z"
   },
   {
    "duration": 1318,
    "start_time": "2022-02-27T12:43:23.128Z"
   },
   {
    "duration": 1325,
    "start_time": "2022-02-27T12:44:37.119Z"
   },
   {
    "duration": 462,
    "start_time": "2022-02-27T12:55:38.277Z"
   },
   {
    "duration": 145,
    "start_time": "2022-02-27T12:55:55.643Z"
   },
   {
    "duration": 624,
    "start_time": "2022-02-27T12:56:06.362Z"
   },
   {
    "duration": 94,
    "start_time": "2022-02-27T12:56:06.988Z"
   },
   {
    "duration": 10,
    "start_time": "2022-02-27T12:56:07.084Z"
   },
   {
    "duration": 24,
    "start_time": "2022-02-27T12:56:07.096Z"
   },
   {
    "duration": 74,
    "start_time": "2022-02-27T12:56:07.122Z"
   },
   {
    "duration": 52,
    "start_time": "2022-02-27T12:56:07.198Z"
   },
   {
    "duration": 18,
    "start_time": "2022-02-27T12:56:07.252Z"
   },
   {
    "duration": 23,
    "start_time": "2022-02-27T12:56:07.272Z"
   },
   {
    "duration": 41,
    "start_time": "2022-02-27T12:56:07.298Z"
   },
   {
    "duration": 24,
    "start_time": "2022-02-27T12:56:07.341Z"
   },
   {
    "duration": 25,
    "start_time": "2022-02-27T12:56:07.367Z"
   },
   {
    "duration": 57,
    "start_time": "2022-02-27T12:56:07.394Z"
   },
   {
    "duration": 567,
    "start_time": "2022-02-27T12:56:07.453Z"
   },
   {
    "duration": 490,
    "start_time": "2022-02-27T12:56:08.021Z"
   },
   {
    "duration": 33,
    "start_time": "2022-02-27T12:56:08.512Z"
   },
   {
    "duration": 256,
    "start_time": "2022-02-27T12:56:08.546Z"
   },
   {
    "duration": 145,
    "start_time": "2022-02-27T12:56:08.804Z"
   },
   {
    "duration": 153,
    "start_time": "2022-02-27T12:56:08.951Z"
   },
   {
    "duration": 253,
    "start_time": "2022-02-27T12:56:09.106Z"
   },
   {
    "duration": 161,
    "start_time": "2022-02-27T12:56:09.361Z"
   },
   {
    "duration": 156,
    "start_time": "2022-02-27T12:56:09.524Z"
   },
   {
    "duration": 215,
    "start_time": "2022-02-27T12:56:09.682Z"
   },
   {
    "duration": 150,
    "start_time": "2022-02-27T12:56:09.900Z"
   },
   {
    "duration": 264,
    "start_time": "2022-02-27T12:56:10.052Z"
   },
   {
    "duration": 146,
    "start_time": "2022-02-27T12:56:10.318Z"
   },
   {
    "duration": 175,
    "start_time": "2022-02-27T12:56:10.466Z"
   },
   {
    "duration": 260,
    "start_time": "2022-02-27T12:56:10.643Z"
   },
   {
    "duration": 6,
    "start_time": "2022-02-27T12:56:10.904Z"
   },
   {
    "duration": 160,
    "start_time": "2022-02-27T12:56:10.912Z"
   },
   {
    "duration": 14,
    "start_time": "2022-02-27T12:56:11.074Z"
   },
   {
    "duration": 9,
    "start_time": "2022-02-27T12:56:11.089Z"
   },
   {
    "duration": 3115,
    "start_time": "2022-02-27T12:56:11.100Z"
   },
   {
    "duration": 3395,
    "start_time": "2022-02-27T12:56:14.216Z"
   },
   {
    "duration": 8,
    "start_time": "2022-02-27T12:56:17.613Z"
   },
   {
    "duration": 38,
    "start_time": "2022-02-27T12:56:17.623Z"
   },
   {
    "duration": 32,
    "start_time": "2022-02-27T12:56:17.663Z"
   },
   {
    "duration": 207,
    "start_time": "2022-02-27T12:56:17.696Z"
   },
   {
    "duration": 13,
    "start_time": "2022-02-27T12:56:17.904Z"
   },
   {
    "duration": 1472,
    "start_time": "2022-02-27T12:56:17.919Z"
   },
   {
    "duration": 3137,
    "start_time": "2022-02-27T12:56:19.393Z"
   },
   {
    "duration": 1314,
    "start_time": "2022-02-27T12:56:22.532Z"
   },
   {
    "duration": 1951,
    "start_time": "2022-02-27T12:56:23.847Z"
   },
   {
    "duration": 1896,
    "start_time": "2022-02-27T13:02:31.014Z"
   },
   {
    "duration": 21,
    "start_time": "2022-02-27T13:03:11.032Z"
   },
   {
    "duration": 17,
    "start_time": "2022-02-27T13:03:27.900Z"
   },
   {
    "duration": 17,
    "start_time": "2022-02-27T13:03:58.331Z"
   },
   {
    "duration": 19,
    "start_time": "2022-02-27T13:04:01.634Z"
   },
   {
    "duration": 21,
    "start_time": "2022-02-27T13:04:09.249Z"
   },
   {
    "duration": 21,
    "start_time": "2022-02-27T13:04:20.132Z"
   },
   {
    "duration": 20,
    "start_time": "2022-02-27T13:04:31.332Z"
   },
   {
    "duration": 24,
    "start_time": "2022-02-27T13:06:09.526Z"
   },
   {
    "duration": 24,
    "start_time": "2022-02-27T13:06:12.158Z"
   },
   {
    "duration": 49,
    "start_time": "2022-02-27T13:06:51.098Z"
   },
   {
    "duration": 21,
    "start_time": "2022-02-27T13:09:51.646Z"
   },
   {
    "duration": 20,
    "start_time": "2022-02-27T13:11:31.428Z"
   },
   {
    "duration": 19,
    "start_time": "2022-02-27T13:14:01.926Z"
   },
   {
    "duration": 619,
    "start_time": "2022-02-27T13:17:41.602Z"
   },
   {
    "duration": 88,
    "start_time": "2022-02-27T13:17:42.223Z"
   },
   {
    "duration": 10,
    "start_time": "2022-02-27T13:17:42.313Z"
   },
   {
    "duration": 17,
    "start_time": "2022-02-27T13:17:42.325Z"
   },
   {
    "duration": 70,
    "start_time": "2022-02-27T13:17:42.343Z"
   },
   {
    "duration": 60,
    "start_time": "2022-02-27T13:17:42.415Z"
   },
   {
    "duration": 17,
    "start_time": "2022-02-27T13:17:42.476Z"
   },
   {
    "duration": 16,
    "start_time": "2022-02-27T13:17:42.495Z"
   },
   {
    "duration": 51,
    "start_time": "2022-02-27T13:17:42.513Z"
   },
   {
    "duration": 22,
    "start_time": "2022-02-27T13:17:42.565Z"
   },
   {
    "duration": 25,
    "start_time": "2022-02-27T13:17:42.588Z"
   },
   {
    "duration": 52,
    "start_time": "2022-02-27T13:17:42.614Z"
   },
   {
    "duration": 571,
    "start_time": "2022-02-27T13:17:42.667Z"
   },
   {
    "duration": 499,
    "start_time": "2022-02-27T13:17:43.240Z"
   },
   {
    "duration": 24,
    "start_time": "2022-02-27T13:17:43.741Z"
   },
   {
    "duration": 258,
    "start_time": "2022-02-27T13:17:43.767Z"
   },
   {
    "duration": 145,
    "start_time": "2022-02-27T13:17:44.028Z"
   },
   {
    "duration": 165,
    "start_time": "2022-02-27T13:17:44.175Z"
   },
   {
    "duration": 262,
    "start_time": "2022-02-27T13:17:44.342Z"
   },
   {
    "duration": 163,
    "start_time": "2022-02-27T13:17:44.605Z"
   },
   {
    "duration": 161,
    "start_time": "2022-02-27T13:17:44.770Z"
   },
   {
    "duration": 249,
    "start_time": "2022-02-27T13:17:44.933Z"
   },
   {
    "duration": 160,
    "start_time": "2022-02-27T13:17:45.185Z"
   },
   {
    "duration": 280,
    "start_time": "2022-02-27T13:17:45.347Z"
   },
   {
    "duration": 148,
    "start_time": "2022-02-27T13:17:45.629Z"
   },
   {
    "duration": 158,
    "start_time": "2022-02-27T13:17:45.779Z"
   },
   {
    "duration": 251,
    "start_time": "2022-02-27T13:17:45.939Z"
   },
   {
    "duration": 7,
    "start_time": "2022-02-27T13:17:46.191Z"
   },
   {
    "duration": 169,
    "start_time": "2022-02-27T13:17:46.199Z"
   },
   {
    "duration": 14,
    "start_time": "2022-02-27T13:17:46.370Z"
   },
   {
    "duration": 11,
    "start_time": "2022-02-27T13:17:46.386Z"
   },
   {
    "duration": 3169,
    "start_time": "2022-02-27T13:17:46.398Z"
   },
   {
    "duration": 23,
    "start_time": "2022-02-27T13:17:49.569Z"
   },
   {
    "duration": 198,
    "start_time": "2022-02-27T13:17:49.594Z"
   },
   {
    "duration": -2255,
    "start_time": "2022-02-27T13:17:52.049Z"
   },
   {
    "duration": -2262,
    "start_time": "2022-02-27T13:17:52.057Z"
   },
   {
    "duration": -2266,
    "start_time": "2022-02-27T13:17:52.063Z"
   },
   {
    "duration": -2270,
    "start_time": "2022-02-27T13:17:52.068Z"
   },
   {
    "duration": -2274,
    "start_time": "2022-02-27T13:17:52.073Z"
   },
   {
    "duration": -2284,
    "start_time": "2022-02-27T13:17:52.084Z"
   },
   {
    "duration": -2288,
    "start_time": "2022-02-27T13:17:52.089Z"
   },
   {
    "duration": -2295,
    "start_time": "2022-02-27T13:17:52.097Z"
   },
   {
    "duration": -2299,
    "start_time": "2022-02-27T13:17:52.102Z"
   },
   {
    "duration": -2304,
    "start_time": "2022-02-27T13:17:52.108Z"
   },
   {
    "duration": -2310,
    "start_time": "2022-02-27T13:17:52.115Z"
   },
   {
    "duration": -2314,
    "start_time": "2022-02-27T13:17:52.120Z"
   },
   {
    "duration": -2317,
    "start_time": "2022-02-27T13:17:52.124Z"
   },
   {
    "duration": 26,
    "start_time": "2022-02-27T13:18:51.899Z"
   },
   {
    "duration": 26,
    "start_time": "2022-02-27T13:19:39.460Z"
   },
   {
    "duration": 22,
    "start_time": "2022-02-27T13:20:27.558Z"
   },
   {
    "duration": 9,
    "start_time": "2022-02-27T13:20:44.816Z"
   },
   {
    "duration": 105,
    "start_time": "2022-02-27T13:20:45.773Z"
   },
   {
    "duration": 32,
    "start_time": "2022-02-27T13:20:46.664Z"
   },
   {
    "duration": 186,
    "start_time": "2022-02-27T13:20:47.016Z"
   },
   {
    "duration": 14,
    "start_time": "2022-02-27T13:20:47.812Z"
   },
   {
    "duration": 20,
    "start_time": "2022-02-27T13:20:48.631Z"
   },
   {
    "duration": 21,
    "start_time": "2022-02-27T13:20:49.283Z"
   },
   {
    "duration": 20,
    "start_time": "2022-02-27T13:20:49.906Z"
   },
   {
    "duration": 21,
    "start_time": "2022-02-27T13:20:50.513Z"
   },
   {
    "duration": 19,
    "start_time": "2022-02-27T13:20:52.101Z"
   },
   {
    "duration": 46,
    "start_time": "2022-02-27T13:34:14.064Z"
   },
   {
    "duration": 19,
    "start_time": "2022-02-27T13:44:50.219Z"
   },
   {
    "duration": 449,
    "start_time": "2022-02-27T13:48:18.206Z"
   },
   {
    "duration": 653,
    "start_time": "2022-02-27T13:49:00.875Z"
   },
   {
    "duration": 102,
    "start_time": "2022-02-27T13:49:01.531Z"
   },
   {
    "duration": 12,
    "start_time": "2022-02-27T13:49:01.637Z"
   },
   {
    "duration": 14,
    "start_time": "2022-02-27T13:49:01.651Z"
   },
   {
    "duration": 92,
    "start_time": "2022-02-27T13:49:01.667Z"
   },
   {
    "duration": 48,
    "start_time": "2022-02-27T13:49:01.761Z"
   },
   {
    "duration": 36,
    "start_time": "2022-02-27T13:49:01.810Z"
   },
   {
    "duration": 18,
    "start_time": "2022-02-27T13:49:01.849Z"
   },
   {
    "duration": 29,
    "start_time": "2022-02-27T13:49:01.870Z"
   },
   {
    "duration": 49,
    "start_time": "2022-02-27T13:49:01.901Z"
   },
   {
    "duration": 26,
    "start_time": "2022-02-27T13:49:01.952Z"
   },
   {
    "duration": 33,
    "start_time": "2022-02-27T13:49:01.980Z"
   },
   {
    "duration": 590,
    "start_time": "2022-02-27T13:49:02.015Z"
   },
   {
    "duration": 513,
    "start_time": "2022-02-27T13:49:02.606Z"
   },
   {
    "duration": 35,
    "start_time": "2022-02-27T13:49:03.121Z"
   },
   {
    "duration": 245,
    "start_time": "2022-02-27T13:49:03.158Z"
   },
   {
    "duration": 150,
    "start_time": "2022-02-27T13:49:03.405Z"
   },
   {
    "duration": 156,
    "start_time": "2022-02-27T13:49:03.556Z"
   },
   {
    "duration": 262,
    "start_time": "2022-02-27T13:49:03.714Z"
   },
   {
    "duration": 163,
    "start_time": "2022-02-27T13:49:03.977Z"
   },
   {
    "duration": 157,
    "start_time": "2022-02-27T13:49:04.142Z"
   },
   {
    "duration": 210,
    "start_time": "2022-02-27T13:49:04.300Z"
   },
   {
    "duration": 161,
    "start_time": "2022-02-27T13:49:04.512Z"
   },
   {
    "duration": 263,
    "start_time": "2022-02-27T13:49:04.675Z"
   },
   {
    "duration": 146,
    "start_time": "2022-02-27T13:49:04.940Z"
   },
   {
    "duration": 171,
    "start_time": "2022-02-27T13:49:05.090Z"
   },
   {
    "duration": 240,
    "start_time": "2022-02-27T13:49:05.263Z"
   },
   {
    "duration": 7,
    "start_time": "2022-02-27T13:49:05.505Z"
   },
   {
    "duration": 165,
    "start_time": "2022-02-27T13:49:05.513Z"
   },
   {
    "duration": 15,
    "start_time": "2022-02-27T13:49:05.679Z"
   },
   {
    "duration": 9,
    "start_time": "2022-02-27T13:49:05.695Z"
   },
   {
    "duration": 3117,
    "start_time": "2022-02-27T13:49:05.706Z"
   },
   {
    "duration": 32,
    "start_time": "2022-02-27T13:49:08.825Z"
   },
   {
    "duration": 26,
    "start_time": "2022-02-27T13:49:08.859Z"
   },
   {
    "duration": 129,
    "start_time": "2022-02-27T13:49:08.887Z"
   },
   {
    "duration": 33,
    "start_time": "2022-02-27T13:49:09.018Z"
   },
   {
    "duration": 8,
    "start_time": "2022-02-27T13:49:09.053Z"
   },
   {
    "duration": 27,
    "start_time": "2022-02-27T13:49:09.063Z"
   },
   {
    "duration": 58,
    "start_time": "2022-02-27T13:49:09.092Z"
   },
   {
    "duration": 202,
    "start_time": "2022-02-27T13:49:09.152Z"
   },
   {
    "duration": 12,
    "start_time": "2022-02-27T13:49:09.356Z"
   },
   {
    "duration": 27,
    "start_time": "2022-02-27T13:49:09.370Z"
   },
   {
    "duration": 28,
    "start_time": "2022-02-27T13:49:09.399Z"
   },
   {
    "duration": 22,
    "start_time": "2022-02-27T13:49:09.428Z"
   },
   {
    "duration": 24,
    "start_time": "2022-02-27T13:49:09.452Z"
   },
   {
    "duration": 15,
    "start_time": "2022-02-27T13:49:09.477Z"
   },
   {
    "duration": 694,
    "start_time": "2022-03-07T15:02:53.355Z"
   },
   {
    "duration": 106,
    "start_time": "2022-03-07T15:02:54.051Z"
   },
   {
    "duration": 11,
    "start_time": "2022-03-07T15:02:54.159Z"
   },
   {
    "duration": 14,
    "start_time": "2022-03-07T15:02:54.177Z"
   },
   {
    "duration": 104,
    "start_time": "2022-03-07T15:02:54.192Z"
   },
   {
    "duration": 46,
    "start_time": "2022-03-07T15:02:54.298Z"
   },
   {
    "duration": 20,
    "start_time": "2022-03-07T15:02:54.346Z"
   },
   {
    "duration": 17,
    "start_time": "2022-03-07T15:02:54.386Z"
   },
   {
    "duration": 41,
    "start_time": "2022-03-07T15:02:54.406Z"
   },
   {
    "duration": 31,
    "start_time": "2022-03-07T15:02:54.449Z"
   },
   {
    "duration": 44,
    "start_time": "2022-03-07T15:02:54.482Z"
   },
   {
    "duration": 47,
    "start_time": "2022-03-07T15:02:54.528Z"
   },
   {
    "duration": 647,
    "start_time": "2022-03-07T15:02:54.577Z"
   },
   {
    "duration": 564,
    "start_time": "2022-03-07T15:02:55.225Z"
   },
   {
    "duration": 27,
    "start_time": "2022-03-07T15:02:55.791Z"
   },
   {
    "duration": 314,
    "start_time": "2022-03-07T15:02:55.820Z"
   },
   {
    "duration": 167,
    "start_time": "2022-03-07T15:02:56.136Z"
   },
   {
    "duration": 182,
    "start_time": "2022-03-07T15:02:56.304Z"
   },
   {
    "duration": 313,
    "start_time": "2022-03-07T15:02:56.488Z"
   },
   {
    "duration": 187,
    "start_time": "2022-03-07T15:02:56.803Z"
   },
   {
    "duration": 193,
    "start_time": "2022-03-07T15:02:56.991Z"
   },
   {
    "duration": 258,
    "start_time": "2022-03-07T15:02:57.186Z"
   },
   {
    "duration": 173,
    "start_time": "2022-03-07T15:02:57.448Z"
   },
   {
    "duration": 308,
    "start_time": "2022-03-07T15:02:57.623Z"
   },
   {
    "duration": 173,
    "start_time": "2022-03-07T15:02:57.933Z"
   },
   {
    "duration": 200,
    "start_time": "2022-03-07T15:02:58.108Z"
   },
   {
    "duration": 288,
    "start_time": "2022-03-07T15:02:58.310Z"
   },
   {
    "duration": 5,
    "start_time": "2022-03-07T15:02:58.600Z"
   },
   {
    "duration": 188,
    "start_time": "2022-03-07T15:02:58.606Z"
   },
   {
    "duration": 14,
    "start_time": "2022-03-07T15:02:58.796Z"
   },
   {
    "duration": 10,
    "start_time": "2022-03-07T15:02:58.812Z"
   },
   {
    "duration": 3966,
    "start_time": "2022-03-07T15:02:58.824Z"
   },
   {
    "duration": 28,
    "start_time": "2022-03-07T15:03:02.792Z"
   },
   {
    "duration": 30,
    "start_time": "2022-03-07T15:03:02.823Z"
   },
   {
    "duration": 134,
    "start_time": "2022-03-07T15:03:02.854Z"
   },
   {
    "duration": 24,
    "start_time": "2022-03-07T15:03:02.989Z"
   },
   {
    "duration": 8,
    "start_time": "2022-03-07T15:03:03.015Z"
   },
   {
    "duration": 38,
    "start_time": "2022-03-07T15:03:03.025Z"
   },
   {
    "duration": 40,
    "start_time": "2022-03-07T15:03:03.077Z"
   },
   {
    "duration": 244,
    "start_time": "2022-03-07T15:03:03.120Z"
   },
   {
    "duration": 20,
    "start_time": "2022-03-07T15:03:03.366Z"
   },
   {
    "duration": 20,
    "start_time": "2022-03-07T15:03:03.389Z"
   },
   {
    "duration": 21,
    "start_time": "2022-03-07T15:03:03.411Z"
   },
   {
    "duration": 56,
    "start_time": "2022-03-07T15:03:03.434Z"
   },
   {
    "duration": 22,
    "start_time": "2022-03-07T15:03:03.492Z"
   },
   {
    "duration": 20,
    "start_time": "2022-03-07T15:03:03.516Z"
   },
   {
    "duration": 4,
    "start_time": "2022-03-07T15:10:44.209Z"
   },
   {
    "duration": 4,
    "start_time": "2022-03-07T15:10:55.878Z"
   },
   {
    "duration": 678,
    "start_time": "2022-03-07T15:16:12.194Z"
   },
   {
    "duration": 719,
    "start_time": "2022-03-09T17:10:22.449Z"
   },
   {
    "duration": 109,
    "start_time": "2022-03-09T17:10:23.170Z"
   },
   {
    "duration": 13,
    "start_time": "2022-03-09T17:10:24.304Z"
   },
   {
    "duration": 11,
    "start_time": "2022-03-09T17:10:25.452Z"
   },
   {
    "duration": 86,
    "start_time": "2022-03-09T17:10:26.638Z"
   },
   {
    "duration": 48,
    "start_time": "2022-03-09T17:10:30.727Z"
   },
   {
    "duration": 72,
    "start_time": "2022-03-09T17:11:33.735Z"
   },
   {
    "duration": 21,
    "start_time": "2022-03-09T17:11:53.540Z"
   },
   {
    "duration": 311,
    "start_time": "2022-03-09T17:11:57.639Z"
   },
   {
    "duration": 16,
    "start_time": "2022-03-09T17:14:56.528Z"
   },
   {
    "duration": 33,
    "start_time": "2022-03-09T17:15:39.907Z"
   },
   {
    "duration": 27,
    "start_time": "2022-03-09T17:15:42.269Z"
   },
   {
    "duration": 28,
    "start_time": "2022-03-09T17:18:13.602Z"
   },
   {
    "duration": 34,
    "start_time": "2022-03-09T17:18:17.193Z"
   },
   {
    "duration": 647,
    "start_time": "2022-03-09T17:18:20.020Z"
   },
   {
    "duration": 546,
    "start_time": "2022-03-09T17:18:22.847Z"
   },
   {
    "duration": 31,
    "start_time": "2022-03-09T17:18:25.062Z"
   },
   {
    "duration": 279,
    "start_time": "2022-03-09T17:18:49.358Z"
   },
   {
    "duration": 162,
    "start_time": "2022-03-09T17:19:04.065Z"
   },
   {
    "duration": 171,
    "start_time": "2022-03-09T17:19:04.349Z"
   },
   {
    "duration": 296,
    "start_time": "2022-03-09T17:19:07.887Z"
   },
   {
    "duration": 171,
    "start_time": "2022-03-09T17:19:09.061Z"
   },
   {
    "duration": 175,
    "start_time": "2022-03-09T17:19:09.810Z"
   },
   {
    "duration": 250,
    "start_time": "2022-03-09T17:19:11.764Z"
   },
   {
    "duration": 165,
    "start_time": "2022-03-09T17:19:12.406Z"
   },
   {
    "duration": 312,
    "start_time": "2022-03-09T17:19:14.208Z"
   },
   {
    "duration": 158,
    "start_time": "2022-03-09T17:19:16.019Z"
   },
   {
    "duration": 175,
    "start_time": "2022-03-09T17:19:17.974Z"
   },
   {
    "duration": 578,
    "start_time": "2022-03-09T17:20:21.826Z"
   },
   {
    "duration": 169,
    "start_time": "2022-03-09T17:20:29.417Z"
   },
   {
    "duration": 70,
    "start_time": "2022-03-09T17:26:06.129Z"
   },
   {
    "duration": 271,
    "start_time": "2022-03-09T17:26:12.835Z"
   },
   {
    "duration": 6,
    "start_time": "2022-03-09T17:26:16.471Z"
   },
   {
    "duration": 156,
    "start_time": "2022-03-09T17:26:19.926Z"
   },
   {
    "duration": 668,
    "start_time": "2022-03-09T17:33:46.110Z"
   },
   {
    "duration": 111,
    "start_time": "2022-03-09T17:33:46.780Z"
   },
   {
    "duration": 12,
    "start_time": "2022-03-09T17:33:46.893Z"
   },
   {
    "duration": 13,
    "start_time": "2022-03-09T17:33:46.907Z"
   },
   {
    "duration": 108,
    "start_time": "2022-03-09T17:33:46.922Z"
   },
   {
    "duration": 59,
    "start_time": "2022-03-09T17:33:47.031Z"
   },
   {
    "duration": 19,
    "start_time": "2022-03-09T17:33:47.092Z"
   },
   {
    "duration": 18,
    "start_time": "2022-03-09T17:33:47.113Z"
   },
   {
    "duration": 57,
    "start_time": "2022-03-09T17:33:47.133Z"
   },
   {
    "duration": 24,
    "start_time": "2022-03-09T17:33:47.192Z"
   },
   {
    "duration": 27,
    "start_time": "2022-03-09T17:33:47.217Z"
   },
   {
    "duration": 55,
    "start_time": "2022-03-09T17:33:47.246Z"
   },
   {
    "duration": 653,
    "start_time": "2022-03-09T17:33:47.303Z"
   },
   {
    "duration": 562,
    "start_time": "2022-03-09T17:33:47.958Z"
   },
   {
    "duration": 27,
    "start_time": "2022-03-09T17:33:48.521Z"
   },
   {
    "duration": 294,
    "start_time": "2022-03-09T17:33:48.550Z"
   },
   {
    "duration": 162,
    "start_time": "2022-03-09T17:33:48.845Z"
   },
   {
    "duration": 183,
    "start_time": "2022-03-09T17:33:49.009Z"
   },
   {
    "duration": 297,
    "start_time": "2022-03-09T17:33:49.194Z"
   },
   {
    "duration": 187,
    "start_time": "2022-03-09T17:33:49.493Z"
   },
   {
    "duration": 183,
    "start_time": "2022-03-09T17:33:49.682Z"
   },
   {
    "duration": 261,
    "start_time": "2022-03-09T17:33:49.867Z"
   },
   {
    "duration": 182,
    "start_time": "2022-03-09T17:33:50.132Z"
   },
   {
    "duration": 315,
    "start_time": "2022-03-09T17:33:50.316Z"
   },
   {
    "duration": 179,
    "start_time": "2022-03-09T17:33:50.633Z"
   },
   {
    "duration": 184,
    "start_time": "2022-03-09T17:33:50.814Z"
   },
   {
    "duration": 274,
    "start_time": "2022-03-09T17:33:51.000Z"
   },
   {
    "duration": 6,
    "start_time": "2022-03-09T17:33:51.277Z"
   },
   {
    "duration": 186,
    "start_time": "2022-03-09T17:33:51.285Z"
   },
   {
    "duration": 15,
    "start_time": "2022-03-09T17:33:51.477Z"
   },
   {
    "duration": 10,
    "start_time": "2022-03-09T17:33:51.494Z"
   },
   {
    "duration": 4,
    "start_time": "2022-03-09T17:33:51.507Z"
   },
   {
    "duration": 2918,
    "start_time": "2022-03-09T17:33:51.512Z"
   },
   {
    "duration": 23,
    "start_time": "2022-03-09T17:33:54.432Z"
   },
   {
    "duration": 43,
    "start_time": "2022-03-09T17:33:54.456Z"
   },
   {
    "duration": 108,
    "start_time": "2022-03-09T17:33:54.501Z"
   },
   {
    "duration": 21,
    "start_time": "2022-03-09T17:33:54.611Z"
   },
   {
    "duration": 368,
    "start_time": "2022-03-09T17:33:54.634Z"
   },
   {
    "duration": 10,
    "start_time": "2022-03-09T17:33:55.005Z"
   },
   {
    "duration": 41,
    "start_time": "2022-03-09T17:33:55.017Z"
   },
   {
    "duration": 49,
    "start_time": "2022-03-09T17:33:55.060Z"
   },
   {
    "duration": 243,
    "start_time": "2022-03-09T17:33:55.112Z"
   },
   {
    "duration": 24,
    "start_time": "2022-03-09T17:33:55.357Z"
   },
   {
    "duration": 20,
    "start_time": "2022-03-09T17:33:55.383Z"
   },
   {
    "duration": 22,
    "start_time": "2022-03-09T17:33:55.405Z"
   },
   {
    "duration": 54,
    "start_time": "2022-03-09T17:33:55.429Z"
   },
   {
    "duration": 22,
    "start_time": "2022-03-09T17:33:55.485Z"
   },
   {
    "duration": 20,
    "start_time": "2022-03-09T17:33:55.509Z"
   },
   {
    "duration": 253,
    "start_time": "2022-03-09T17:37:30.258Z"
   },
   {
    "duration": 249,
    "start_time": "2022-03-09T17:37:49.576Z"
   },
   {
    "duration": 287,
    "start_time": "2022-03-09T17:38:14.217Z"
   },
   {
    "duration": 337,
    "start_time": "2022-03-09T17:38:19.880Z"
   },
   {
    "duration": 350,
    "start_time": "2022-03-09T17:38:30.646Z"
   },
   {
    "duration": 316,
    "start_time": "2022-03-09T17:38:48.968Z"
   },
   {
    "duration": 314,
    "start_time": "2022-03-09T17:39:25.536Z"
   },
   {
    "duration": 545,
    "start_time": "2022-03-09T17:39:56.925Z"
   },
   {
    "duration": 258,
    "start_time": "2022-03-09T17:40:00.019Z"
   },
   {
    "duration": 6,
    "start_time": "2022-03-09T17:40:20.051Z"
   },
   {
    "duration": 15,
    "start_time": "2022-03-09T17:41:18.377Z"
   },
   {
    "duration": 6,
    "start_time": "2022-03-09T17:41:25.708Z"
   },
   {
    "duration": 166,
    "start_time": "2022-03-09T17:41:26.698Z"
   },
   {
    "duration": 15,
    "start_time": "2022-03-09T17:41:29.574Z"
   },
   {
    "duration": 16,
    "start_time": "2022-03-09T17:44:21.711Z"
   },
   {
    "duration": 13,
    "start_time": "2022-03-09T17:44:23.832Z"
   },
   {
    "duration": 3,
    "start_time": "2022-03-09T17:44:27.885Z"
   },
   {
    "duration": 69,
    "start_time": "2022-03-09T17:46:51.604Z"
   },
   {
    "duration": 4008,
    "start_time": "2022-03-09T17:47:24.781Z"
   },
   {
    "duration": 28,
    "start_time": "2022-03-09T17:50:09.267Z"
   },
   {
    "duration": 75,
    "start_time": "2022-03-09T17:53:53.833Z"
   },
   {
    "duration": 67,
    "start_time": "2022-03-09T17:55:22.889Z"
   },
   {
    "duration": 12,
    "start_time": "2022-03-09T17:57:04.796Z"
   },
   {
    "duration": 65,
    "start_time": "2022-03-09T17:59:42.885Z"
   },
   {
    "duration": 13,
    "start_time": "2022-03-09T18:00:34.777Z"
   },
   {
    "duration": 19,
    "start_time": "2022-03-09T18:00:36.985Z"
   },
   {
    "duration": 22,
    "start_time": "2022-03-09T18:00:42.367Z"
   },
   {
    "duration": 22,
    "start_time": "2022-03-09T18:00:43.045Z"
   },
   {
    "duration": 22,
    "start_time": "2022-03-09T18:00:45.061Z"
   },
   {
    "duration": 20,
    "start_time": "2022-03-09T18:00:46.282Z"
   },
   {
    "duration": 320,
    "start_time": "2022-03-09T18:23:49.006Z"
   },
   {
    "duration": 3968,
    "start_time": "2022-03-09T18:25:55.433Z"
   },
   {
    "duration": 1584,
    "start_time": "2022-03-09T18:26:01.085Z"
   },
   {
    "duration": 1658,
    "start_time": "2022-03-09T18:26:37.883Z"
   },
   {
    "duration": 19,
    "start_time": "2022-03-09T19:03:45.217Z"
   },
   {
    "duration": 68,
    "start_time": "2022-03-09T19:06:42.656Z"
   },
   {
    "duration": 705,
    "start_time": "2022-03-09T19:06:57.385Z"
   },
   {
    "duration": 107,
    "start_time": "2022-03-09T19:06:58.092Z"
   },
   {
    "duration": 11,
    "start_time": "2022-03-09T19:06:58.201Z"
   },
   {
    "duration": 9,
    "start_time": "2022-03-09T19:06:58.214Z"
   },
   {
    "duration": 99,
    "start_time": "2022-03-09T19:06:58.225Z"
   },
   {
    "duration": 58,
    "start_time": "2022-03-09T19:06:58.326Z"
   },
   {
    "duration": 20,
    "start_time": "2022-03-09T19:06:58.386Z"
   },
   {
    "duration": 17,
    "start_time": "2022-03-09T19:06:58.408Z"
   },
   {
    "duration": 59,
    "start_time": "2022-03-09T19:06:58.427Z"
   },
   {
    "duration": 25,
    "start_time": "2022-03-09T19:06:58.488Z"
   },
   {
    "duration": 27,
    "start_time": "2022-03-09T19:06:58.515Z"
   },
   {
    "duration": 60,
    "start_time": "2022-03-09T19:06:58.544Z"
   },
   {
    "duration": 666,
    "start_time": "2022-03-09T19:06:58.606Z"
   },
   {
    "duration": 570,
    "start_time": "2022-03-09T19:06:59.274Z"
   },
   {
    "duration": 37,
    "start_time": "2022-03-09T19:06:59.846Z"
   },
   {
    "duration": 328,
    "start_time": "2022-03-09T19:06:59.884Z"
   },
   {
    "duration": 172,
    "start_time": "2022-03-09T19:07:00.214Z"
   },
   {
    "duration": 192,
    "start_time": "2022-03-09T19:07:00.387Z"
   },
   {
    "duration": 369,
    "start_time": "2022-03-09T19:07:00.581Z"
   },
   {
    "duration": 213,
    "start_time": "2022-03-09T19:07:00.954Z"
   },
   {
    "duration": 191,
    "start_time": "2022-03-09T19:07:01.177Z"
   },
   {
    "duration": 240,
    "start_time": "2022-03-09T19:07:01.370Z"
   },
   {
    "duration": 250,
    "start_time": "2022-03-09T19:07:01.614Z"
   },
   {
    "duration": 289,
    "start_time": "2022-03-09T19:07:01.867Z"
   },
   {
    "duration": 172,
    "start_time": "2022-03-09T19:07:02.157Z"
   },
   {
    "duration": 205,
    "start_time": "2022-03-09T19:07:02.331Z"
   },
   {
    "duration": 285,
    "start_time": "2022-03-09T19:07:02.537Z"
   },
   {
    "duration": 6,
    "start_time": "2022-03-09T19:07:02.824Z"
   },
   {
    "duration": 201,
    "start_time": "2022-03-09T19:07:02.832Z"
   },
   {
    "duration": 16,
    "start_time": "2022-03-09T19:07:03.035Z"
   },
   {
    "duration": 24,
    "start_time": "2022-03-09T19:07:03.053Z"
   },
   {
    "duration": 5,
    "start_time": "2022-03-09T19:07:03.079Z"
   },
   {
    "duration": 4068,
    "start_time": "2022-03-09T19:07:03.086Z"
   },
   {
    "duration": 43,
    "start_time": "2022-03-09T19:07:07.156Z"
   },
   {
    "duration": 30,
    "start_time": "2022-03-09T19:07:07.201Z"
   },
   {
    "duration": 44,
    "start_time": "2022-03-09T19:07:07.234Z"
   },
   {
    "duration": 26,
    "start_time": "2022-03-09T19:07:07.280Z"
   },
   {
    "duration": 426,
    "start_time": "2022-03-09T19:07:07.308Z"
   },
   {
    "duration": 11,
    "start_time": "2022-03-09T19:07:07.737Z"
   },
   {
    "duration": 46,
    "start_time": "2022-03-09T19:07:07.750Z"
   },
   {
    "duration": 34,
    "start_time": "2022-03-09T19:07:07.799Z"
   },
   {
    "duration": 259,
    "start_time": "2022-03-09T19:07:07.836Z"
   },
   {
    "duration": 13,
    "start_time": "2022-03-09T19:07:08.097Z"
   },
   {
    "duration": 24,
    "start_time": "2022-03-09T19:07:08.112Z"
   },
   {
    "duration": 47,
    "start_time": "2022-03-09T19:07:08.138Z"
   },
   {
    "duration": 21,
    "start_time": "2022-03-09T19:07:08.188Z"
   },
   {
    "duration": 22,
    "start_time": "2022-03-09T19:07:08.211Z"
   },
   {
    "duration": 55,
    "start_time": "2022-03-09T19:07:08.235Z"
   },
   {
    "duration": 78,
    "start_time": "2022-03-09T19:07:08.293Z"
   },
   {
    "duration": 106,
    "start_time": "2022-03-09T19:07:08.267Z"
   },
   {
    "duration": 77958,
    "start_time": "2022-03-09T19:07:20.144Z"
   },
   {
    "duration": 241,
    "start_time": "2022-03-09T19:47:29.811Z"
   },
   {
    "duration": 265,
    "start_time": "2022-03-09T19:47:50.800Z"
   },
   {
    "duration": 261,
    "start_time": "2022-03-09T19:49:44.073Z"
   },
   {
    "duration": 205,
    "start_time": "2022-03-09T19:49:51.594Z"
   },
   {
    "duration": 223,
    "start_time": "2022-03-09T19:50:12.656Z"
   },
   {
    "duration": 245,
    "start_time": "2022-03-09T19:52:53.373Z"
   },
   {
    "duration": 271,
    "start_time": "2022-03-09T19:52:59.744Z"
   },
   {
    "duration": 232,
    "start_time": "2022-03-09T19:53:10.105Z"
   },
   {
    "duration": 204,
    "start_time": "2022-03-09T19:53:39.748Z"
   },
   {
    "duration": 326,
    "start_time": "2022-03-09T19:59:16.593Z"
   },
   {
    "duration": 367,
    "start_time": "2022-03-09T20:00:22.251Z"
   },
   {
    "duration": 68,
    "start_time": "2022-03-09T20:01:05.923Z"
   },
   {
    "duration": 382,
    "start_time": "2022-03-09T20:01:41.767Z"
   },
   {
    "duration": 84,
    "start_time": "2022-03-09T20:06:02.161Z"
   },
   {
    "duration": 66,
    "start_time": "2022-03-09T20:07:43.899Z"
   },
   {
    "duration": 15,
    "start_time": "2022-03-09T20:09:40.078Z"
   },
   {
    "duration": 71,
    "start_time": "2022-03-09T20:11:54.466Z"
   },
   {
    "duration": 267,
    "start_time": "2022-03-09T20:12:01.708Z"
   },
   {
    "duration": 311,
    "start_time": "2022-03-09T20:13:03.201Z"
   },
   {
    "duration": 265,
    "start_time": "2022-03-09T20:13:25.906Z"
   },
   {
    "duration": 270,
    "start_time": "2022-03-09T20:13:40.594Z"
   },
   {
    "duration": 214,
    "start_time": "2022-03-09T20:15:56.170Z"
   },
   {
    "duration": 138,
    "start_time": "2022-03-09T20:16:05.073Z"
   },
   {
    "duration": 237,
    "start_time": "2022-03-09T20:16:20.909Z"
   },
   {
    "duration": 876,
    "start_time": "2022-03-09T20:16:35.906Z"
   },
   {
    "duration": 224,
    "start_time": "2022-03-09T20:16:39.749Z"
   },
   {
    "duration": 744,
    "start_time": "2022-03-09T20:18:13.173Z"
   },
   {
    "duration": 237,
    "start_time": "2022-03-09T20:18:23.017Z"
   },
   {
    "duration": 234,
    "start_time": "2022-03-09T20:18:36.327Z"
   },
   {
    "duration": 698,
    "start_time": "2022-03-09T20:18:58.510Z"
   },
   {
    "duration": 115,
    "start_time": "2022-03-09T20:18:59.210Z"
   },
   {
    "duration": 12,
    "start_time": "2022-03-09T20:18:59.327Z"
   },
   {
    "duration": 20,
    "start_time": "2022-03-09T20:18:59.341Z"
   },
   {
    "duration": 90,
    "start_time": "2022-03-09T20:18:59.363Z"
   },
   {
    "duration": 54,
    "start_time": "2022-03-09T20:18:59.454Z"
   },
   {
    "duration": 19,
    "start_time": "2022-03-09T20:18:59.510Z"
   },
   {
    "duration": 18,
    "start_time": "2022-03-09T20:18:59.531Z"
   },
   {
    "duration": 53,
    "start_time": "2022-03-09T20:18:59.551Z"
   },
   {
    "duration": 27,
    "start_time": "2022-03-09T20:18:59.605Z"
   },
   {
    "duration": 44,
    "start_time": "2022-03-09T20:18:59.634Z"
   },
   {
    "duration": 34,
    "start_time": "2022-03-09T20:18:59.681Z"
   },
   {
    "duration": 670,
    "start_time": "2022-03-09T20:18:59.717Z"
   },
   {
    "duration": 623,
    "start_time": "2022-03-09T20:19:00.390Z"
   },
   {
    "duration": 31,
    "start_time": "2022-03-09T20:19:01.015Z"
   },
   {
    "duration": 342,
    "start_time": "2022-03-09T20:19:01.049Z"
   },
   {
    "duration": 186,
    "start_time": "2022-03-09T20:19:01.393Z"
   },
   {
    "duration": 187,
    "start_time": "2022-03-09T20:19:01.581Z"
   },
   {
    "duration": 375,
    "start_time": "2022-03-09T20:19:01.770Z"
   },
   {
    "duration": 187,
    "start_time": "2022-03-09T20:19:02.147Z"
   },
   {
    "duration": 198,
    "start_time": "2022-03-09T20:19:02.336Z"
   },
   {
    "duration": 242,
    "start_time": "2022-03-09T20:19:02.537Z"
   },
   {
    "duration": 236,
    "start_time": "2022-03-09T20:19:02.783Z"
   },
   {
    "duration": 267,
    "start_time": "2022-03-09T20:19:03.021Z"
   },
   {
    "duration": 168,
    "start_time": "2022-03-09T20:19:03.290Z"
   },
   {
    "duration": 185,
    "start_time": "2022-03-09T20:19:03.460Z"
   },
   {
    "duration": 272,
    "start_time": "2022-03-09T20:19:03.647Z"
   },
   {
    "duration": 6,
    "start_time": "2022-03-09T20:19:03.921Z"
   },
   {
    "duration": 198,
    "start_time": "2022-03-09T20:19:03.929Z"
   },
   {
    "duration": 16,
    "start_time": "2022-03-09T20:19:04.129Z"
   },
   {
    "duration": 29,
    "start_time": "2022-03-09T20:19:04.147Z"
   },
   {
    "duration": 4,
    "start_time": "2022-03-09T20:19:04.179Z"
   },
   {
    "duration": 3971,
    "start_time": "2022-03-09T20:19:04.185Z"
   },
   {
    "duration": 51,
    "start_time": "2022-03-09T20:19:08.158Z"
   },
   {
    "duration": 29,
    "start_time": "2022-03-09T20:19:08.211Z"
   },
   {
    "duration": 48,
    "start_time": "2022-03-09T20:19:08.242Z"
   },
   {
    "duration": 33,
    "start_time": "2022-03-09T20:19:08.292Z"
   },
   {
    "duration": 458,
    "start_time": "2022-03-09T20:19:08.327Z"
   },
   {
    "duration": 10,
    "start_time": "2022-03-09T20:19:08.787Z"
   },
   {
    "duration": 33,
    "start_time": "2022-03-09T20:19:08.799Z"
   },
   {
    "duration": 66,
    "start_time": "2022-03-09T20:19:08.833Z"
   },
   {
    "duration": 246,
    "start_time": "2022-03-09T20:19:08.901Z"
   },
   {
    "duration": 15,
    "start_time": "2022-03-09T20:19:09.149Z"
   },
   {
    "duration": 272,
    "start_time": "2022-03-09T20:19:09.165Z"
   },
   {
    "duration": 299,
    "start_time": "2022-03-09T20:19:09.438Z"
   },
   {
    "duration": 233,
    "start_time": "2022-03-09T20:19:09.739Z"
   },
   {
    "duration": 238,
    "start_time": "2022-03-09T20:19:09.977Z"
   },
   {
    "duration": 20,
    "start_time": "2022-03-09T20:19:10.216Z"
   },
   {
    "duration": 276,
    "start_time": "2022-03-09T20:19:10.238Z"
   },
   {
    "duration": 220,
    "start_time": "2022-03-09T20:19:10.515Z"
   },
   {
    "duration": 22,
    "start_time": "2022-03-09T20:19:10.737Z"
   },
   {
    "duration": 30,
    "start_time": "2022-03-09T20:19:10.761Z"
   },
   {
    "duration": 21,
    "start_time": "2022-03-09T20:19:10.793Z"
   },
   {
    "duration": 235,
    "start_time": "2022-03-09T20:19:10.816Z"
   },
   {
    "duration": 30,
    "start_time": "2022-03-09T20:19:11.053Z"
   },
   {
    "duration": 539,
    "start_time": "2022-03-09T20:19:11.085Z"
   },
   {
    "duration": 352,
    "start_time": "2022-03-09T20:19:11.625Z"
   },
   {
    "duration": 359,
    "start_time": "2022-03-09T20:19:11.979Z"
   },
   {
    "duration": 74,
    "start_time": "2022-03-09T20:22:40.855Z"
   },
   {
    "duration": 656,
    "start_time": "2022-03-09T20:26:57.838Z"
   },
   {
    "duration": 117,
    "start_time": "2022-03-09T20:26:58.496Z"
   },
   {
    "duration": 11,
    "start_time": "2022-03-09T20:26:58.615Z"
   },
   {
    "duration": 10,
    "start_time": "2022-03-09T20:26:58.629Z"
   },
   {
    "duration": 98,
    "start_time": "2022-03-09T20:26:58.641Z"
   },
   {
    "duration": 53,
    "start_time": "2022-03-09T20:26:58.741Z"
   },
   {
    "duration": 18,
    "start_time": "2022-03-09T20:26:58.796Z"
   },
   {
    "duration": 17,
    "start_time": "2022-03-09T20:26:58.817Z"
   },
   {
    "duration": 55,
    "start_time": "2022-03-09T20:26:58.836Z"
   },
   {
    "duration": 23,
    "start_time": "2022-03-09T20:26:58.893Z"
   },
   {
    "duration": 26,
    "start_time": "2022-03-09T20:26:58.918Z"
   },
   {
    "duration": 54,
    "start_time": "2022-03-09T20:26:58.946Z"
   },
   {
    "duration": 659,
    "start_time": "2022-03-09T20:26:59.002Z"
   },
   {
    "duration": 576,
    "start_time": "2022-03-09T20:26:59.663Z"
   },
   {
    "duration": 37,
    "start_time": "2022-03-09T20:27:00.241Z"
   },
   {
    "duration": 340,
    "start_time": "2022-03-09T20:27:00.280Z"
   },
   {
    "duration": 186,
    "start_time": "2022-03-09T20:27:00.622Z"
   },
   {
    "duration": 229,
    "start_time": "2022-03-09T20:27:00.810Z"
   },
   {
    "duration": 344,
    "start_time": "2022-03-09T20:27:01.041Z"
   },
   {
    "duration": 189,
    "start_time": "2022-03-09T20:27:01.388Z"
   },
   {
    "duration": 201,
    "start_time": "2022-03-09T20:27:01.578Z"
   },
   {
    "duration": 242,
    "start_time": "2022-03-09T20:27:01.781Z"
   },
   {
    "duration": 240,
    "start_time": "2022-03-09T20:27:02.027Z"
   },
   {
    "duration": 281,
    "start_time": "2022-03-09T20:27:02.270Z"
   },
   {
    "duration": 175,
    "start_time": "2022-03-09T20:27:02.553Z"
   },
   {
    "duration": 197,
    "start_time": "2022-03-09T20:27:02.730Z"
   },
   {
    "duration": 279,
    "start_time": "2022-03-09T20:27:02.929Z"
   },
   {
    "duration": 6,
    "start_time": "2022-03-09T20:27:03.209Z"
   },
   {
    "duration": 204,
    "start_time": "2022-03-09T20:27:03.217Z"
   },
   {
    "duration": 16,
    "start_time": "2022-03-09T20:27:03.423Z"
   },
   {
    "duration": 12,
    "start_time": "2022-03-09T20:27:03.441Z"
   },
   {
    "duration": 25,
    "start_time": "2022-03-09T20:27:03.455Z"
   },
   {
    "duration": 4331,
    "start_time": "2022-03-09T20:27:03.482Z"
   },
   {
    "duration": 30,
    "start_time": "2022-03-09T20:27:07.815Z"
   },
   {
    "duration": 52,
    "start_time": "2022-03-09T20:27:07.847Z"
   },
   {
    "duration": 28,
    "start_time": "2022-03-09T20:27:07.901Z"
   },
   {
    "duration": 49,
    "start_time": "2022-03-09T20:27:07.930Z"
   },
   {
    "duration": 428,
    "start_time": "2022-03-09T20:27:07.980Z"
   },
   {
    "duration": 9,
    "start_time": "2022-03-09T20:27:08.410Z"
   },
   {
    "duration": 32,
    "start_time": "2022-03-09T20:27:08.420Z"
   },
   {
    "duration": 46,
    "start_time": "2022-03-09T20:27:08.454Z"
   },
   {
    "duration": 246,
    "start_time": "2022-03-09T20:27:08.502Z"
   },
   {
    "duration": 14,
    "start_time": "2022-03-09T20:27:08.749Z"
   },
   {
    "duration": 273,
    "start_time": "2022-03-09T20:27:08.777Z"
   },
   {
    "duration": 285,
    "start_time": "2022-03-09T20:27:09.052Z"
   },
   {
    "duration": 224,
    "start_time": "2022-03-09T20:27:09.339Z"
   },
   {
    "duration": 244,
    "start_time": "2022-03-09T20:27:09.565Z"
   },
   {
    "duration": 21,
    "start_time": "2022-03-09T20:27:09.811Z"
   },
   {
    "duration": 23,
    "start_time": "2022-03-09T20:27:09.834Z"
   },
   {
    "duration": 21,
    "start_time": "2022-03-09T20:27:09.878Z"
   },
   {
    "duration": 22,
    "start_time": "2022-03-09T20:27:09.901Z"
   },
   {
    "duration": 19,
    "start_time": "2022-03-09T20:27:09.925Z"
   },
   {
    "duration": 447,
    "start_time": "2022-03-09T20:27:09.945Z"
   },
   {
    "duration": 371,
    "start_time": "2022-03-09T20:27:10.394Z"
   },
   {
    "duration": 372,
    "start_time": "2022-03-09T20:27:10.766Z"
   },
   {
    "duration": 839,
    "start_time": "2022-03-09T20:35:39.897Z"
   },
   {
    "duration": 108,
    "start_time": "2022-03-09T20:35:40.739Z"
   },
   {
    "duration": 12,
    "start_time": "2022-03-09T20:35:40.850Z"
   },
   {
    "duration": 18,
    "start_time": "2022-03-09T20:35:40.864Z"
   },
   {
    "duration": 95,
    "start_time": "2022-03-09T20:35:40.883Z"
   },
   {
    "duration": 46,
    "start_time": "2022-03-09T20:35:40.980Z"
   },
   {
    "duration": 20,
    "start_time": "2022-03-09T20:35:41.027Z"
   },
   {
    "duration": 39,
    "start_time": "2022-03-09T20:35:41.049Z"
   },
   {
    "duration": 32,
    "start_time": "2022-03-09T20:35:41.091Z"
   },
   {
    "duration": 52,
    "start_time": "2022-03-09T20:35:41.125Z"
   },
   {
    "duration": 26,
    "start_time": "2022-03-09T20:35:41.179Z"
   },
   {
    "duration": 35,
    "start_time": "2022-03-09T20:35:41.207Z"
   },
   {
    "duration": 667,
    "start_time": "2022-03-09T20:35:41.244Z"
   },
   {
    "duration": 591,
    "start_time": "2022-03-09T20:35:41.913Z"
   },
   {
    "duration": 29,
    "start_time": "2022-03-09T20:35:42.506Z"
   },
   {
    "duration": 342,
    "start_time": "2022-03-09T20:35:42.537Z"
   },
   {
    "duration": 171,
    "start_time": "2022-03-09T20:35:42.881Z"
   },
   {
    "duration": 184,
    "start_time": "2022-03-09T20:35:43.054Z"
   },
   {
    "duration": 341,
    "start_time": "2022-03-09T20:35:43.240Z"
   },
   {
    "duration": 189,
    "start_time": "2022-03-09T20:35:43.583Z"
   },
   {
    "duration": 190,
    "start_time": "2022-03-09T20:35:43.774Z"
   },
   {
    "duration": 239,
    "start_time": "2022-03-09T20:35:43.966Z"
   },
   {
    "duration": 227,
    "start_time": "2022-03-09T20:35:44.207Z"
   },
   {
    "duration": 257,
    "start_time": "2022-03-09T20:35:44.436Z"
   },
   {
    "duration": 171,
    "start_time": "2022-03-09T20:35:44.695Z"
   },
   {
    "duration": 184,
    "start_time": "2022-03-09T20:35:44.868Z"
   },
   {
    "duration": 285,
    "start_time": "2022-03-09T20:35:45.056Z"
   },
   {
    "duration": 6,
    "start_time": "2022-03-09T20:35:45.343Z"
   },
   {
    "duration": 186,
    "start_time": "2022-03-09T20:35:45.351Z"
   },
   {
    "duration": 16,
    "start_time": "2022-03-09T20:35:45.539Z"
   },
   {
    "duration": 26,
    "start_time": "2022-03-09T20:35:45.557Z"
   },
   {
    "duration": 4,
    "start_time": "2022-03-09T20:35:45.585Z"
   },
   {
    "duration": 4561,
    "start_time": "2022-03-09T20:35:45.590Z"
   },
   {
    "duration": 39,
    "start_time": "2022-03-09T20:35:50.153Z"
   },
   {
    "duration": 33,
    "start_time": "2022-03-09T20:35:50.194Z"
   },
   {
    "duration": 50,
    "start_time": "2022-03-09T20:35:50.229Z"
   },
   {
    "duration": 25,
    "start_time": "2022-03-09T20:35:50.281Z"
   },
   {
    "duration": 538,
    "start_time": "2022-03-09T20:35:50.308Z"
   },
   {
    "duration": 10,
    "start_time": "2022-03-09T20:35:50.848Z"
   },
   {
    "duration": 42,
    "start_time": "2022-03-09T20:35:50.860Z"
   },
   {
    "duration": 32,
    "start_time": "2022-03-09T20:35:50.904Z"
   },
   {
    "duration": 261,
    "start_time": "2022-03-09T20:35:50.938Z"
   },
   {
    "duration": 15,
    "start_time": "2022-03-09T20:35:51.202Z"
   },
   {
    "duration": 279,
    "start_time": "2022-03-09T20:35:51.218Z"
   },
   {
    "duration": 280,
    "start_time": "2022-03-09T20:35:51.499Z"
   },
   {
    "duration": 236,
    "start_time": "2022-03-09T20:35:51.781Z"
   },
   {
    "duration": 260,
    "start_time": "2022-03-09T20:35:52.019Z"
   },
   {
    "duration": 21,
    "start_time": "2022-03-09T20:35:52.280Z"
   },
   {
    "duration": 21,
    "start_time": "2022-03-09T20:35:52.303Z"
   },
   {
    "duration": 21,
    "start_time": "2022-03-09T20:35:52.326Z"
   },
   {
    "duration": 21,
    "start_time": "2022-03-09T20:35:52.378Z"
   },
   {
    "duration": 19,
    "start_time": "2022-03-09T20:35:52.401Z"
   },
   {
    "duration": 468,
    "start_time": "2022-03-09T20:35:52.422Z"
   },
   {
    "duration": 374,
    "start_time": "2022-03-09T20:35:52.892Z"
   }
  ],
  "kernelspec": {
   "display_name": "Python 3 (ipykernel)",
   "language": "python",
   "name": "python3"
  },
  "language_info": {
   "codemirror_mode": {
    "name": "ipython",
    "version": 3
   },
   "file_extension": ".py",
   "mimetype": "text/x-python",
   "name": "python",
   "nbconvert_exporter": "python",
   "pygments_lexer": "ipython3",
   "version": "3.9.5"
  },
  "toc": {
   "base_numbering": 1,
   "nav_menu": {},
   "number_sections": true,
   "sideBar": true,
   "skip_h1_title": true,
   "title_cell": "Содержание",
   "title_sidebar": "Contents",
   "toc_cell": true,
   "toc_position": {
    "height": "calc(100% - 180px)",
    "left": "10px",
    "top": "150px",
    "width": "286.237px"
   },
   "toc_section_display": true,
   "toc_window_display": true
  }
 },
 "nbformat": 4,
 "nbformat_minor": 4
}
