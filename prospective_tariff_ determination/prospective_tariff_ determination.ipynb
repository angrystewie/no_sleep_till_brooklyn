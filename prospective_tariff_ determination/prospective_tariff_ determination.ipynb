{
 "cells": [
  {
   "cell_type": "markdown",
   "metadata": {},
   "source": [
    "# Определение перспективного тарифа для телеком-компании"
   ]
  },
  {
   "cell_type": "markdown",
   "metadata": {
    "toc": true
   },
   "source": [
    "<h1>Содержание<span class=\"tocSkip\"></span></h1>\n",
    "<div class=\"toc\"><ul class=\"toc-item\"><li><span><a href=\"#Исследование-данных\" data-toc-modified-id=\"Исследование-данных-1\"><span class=\"toc-item-num\">1&nbsp;&nbsp;</span>Исследование данных</a></span><ul class=\"toc-item\"><li><span><a href=\"#Изучение-общей-информации-о-файлах\" data-toc-modified-id=\"Изучение-общей-информации-о-файлах-1.1\"><span class=\"toc-item-num\">1.1&nbsp;&nbsp;</span>Изучение общей информации о файлах</a></span><ul class=\"toc-item\"><li><span><a href=\"#Информация-о-пользователях\" data-toc-modified-id=\"Информация-о-пользователях-1.1.1\"><span class=\"toc-item-num\">1.1.1&nbsp;&nbsp;</span>Информация о пользователях</a></span><ul class=\"toc-item\"><li><span><a href=\"#Описание-данных:\" data-toc-modified-id=\"Описание-данных:-1.1.1.1\"><span class=\"toc-item-num\">1.1.1.1&nbsp;&nbsp;</span>Описание данных:</a></span></li><li><span><a href=\"#Вывод\" data-toc-modified-id=\"Вывод-1.1.1.2\"><span class=\"toc-item-num\">1.1.1.2&nbsp;&nbsp;</span>Вывод</a></span></li><li><span><a href=\"#Устраняем-недостатки\" data-toc-modified-id=\"Устраняем-недостатки-1.1.1.3\"><span class=\"toc-item-num\">1.1.1.3&nbsp;&nbsp;</span>Устраняем недостатки</a></span></li></ul></li><li><span><a href=\"#Информация-о-тарифах\" data-toc-modified-id=\"Информация-о-тарифах-1.1.2\"><span class=\"toc-item-num\">1.1.2&nbsp;&nbsp;</span>Информация о тарифах</a></span><ul class=\"toc-item\"><li><span><a href=\"#Описание-данных:\" data-toc-modified-id=\"Описание-данных:-1.1.2.1\"><span class=\"toc-item-num\">1.1.2.1&nbsp;&nbsp;</span>Описание данных:</a></span></li><li><span><a href=\"#Вывод\" data-toc-modified-id=\"Вывод-1.1.2.2\"><span class=\"toc-item-num\">1.1.2.2&nbsp;&nbsp;</span>Вывод</a></span></li></ul></li><li><span><a href=\"#Информация-о-звонках\" data-toc-modified-id=\"Информация-о-звонках-1.1.3\"><span class=\"toc-item-num\">1.1.3&nbsp;&nbsp;</span>Информация о звонках</a></span><ul class=\"toc-item\"><li><span><a href=\"#Описание-данных:\" data-toc-modified-id=\"Описание-данных:-1.1.3.1\"><span class=\"toc-item-num\">1.1.3.1&nbsp;&nbsp;</span>Описание данных:</a></span></li><li><span><a href=\"#Вывод\" data-toc-modified-id=\"Вывод-1.1.3.2\"><span class=\"toc-item-num\">1.1.3.2&nbsp;&nbsp;</span>Вывод</a></span></li><li><span><a href=\"#Устраняем-недостатки\" data-toc-modified-id=\"Устраняем-недостатки-1.1.3.3\"><span class=\"toc-item-num\">1.1.3.3&nbsp;&nbsp;</span>Устраняем недостатки</a></span></li><li><span><a href=\"#Округляем-продолжительность-вызова\" data-toc-modified-id=\"Округляем-продолжительность-вызова-1.1.3.4\"><span class=\"toc-item-num\">1.1.3.4&nbsp;&nbsp;</span>Округляем продолжительность вызова</a></span></li></ul></li><li><span><a href=\"#Информация-об-интернет-сессиях\" data-toc-modified-id=\"Информация-об-интернет-сессиях-1.1.4\"><span class=\"toc-item-num\">1.1.4&nbsp;&nbsp;</span>Информация об интернет-сессиях</a></span><ul class=\"toc-item\"><li><span><a href=\"#Описание-данных:\" data-toc-modified-id=\"Описание-данных:-1.1.4.1\"><span class=\"toc-item-num\">1.1.4.1&nbsp;&nbsp;</span>Описание данных:</a></span></li><li><span><a href=\"#Вывод\" data-toc-modified-id=\"Вывод-1.1.4.2\"><span class=\"toc-item-num\">1.1.4.2&nbsp;&nbsp;</span>Вывод</a></span></li><li><span><a href=\"#Устраняем-недостатки\" data-toc-modified-id=\"Устраняем-недостатки-1.1.4.3\"><span class=\"toc-item-num\">1.1.4.3&nbsp;&nbsp;</span>Устраняем недостатки</a></span></li></ul></li><li><span><a href=\"#Информация-о-сообщениях\" data-toc-modified-id=\"Информация-о-сообщениях-1.1.5\"><span class=\"toc-item-num\">1.1.5&nbsp;&nbsp;</span>Информация о сообщениях</a></span><ul class=\"toc-item\"><li><span><a href=\"#Описание-данных:\" data-toc-modified-id=\"Описание-данных:-1.1.5.1\"><span class=\"toc-item-num\">1.1.5.1&nbsp;&nbsp;</span>Описание данных:</a></span></li><li><span><a href=\"#Вывод\" data-toc-modified-id=\"Вывод-1.1.5.2\"><span class=\"toc-item-num\">1.1.5.2&nbsp;&nbsp;</span>Вывод</a></span></li><li><span><a href=\"#Устраняем-недостатки\" data-toc-modified-id=\"Устраняем-недостатки-1.1.5.3\"><span class=\"toc-item-num\">1.1.5.3&nbsp;&nbsp;</span>Устраняем недостатки</a></span></li></ul></li></ul></li><li><span><a href=\"#Общий-вывод-по-исследованным-данным\" data-toc-modified-id=\"Общий-вывод-по-исследованным-данным-1.2\"><span class=\"toc-item-num\">1.2&nbsp;&nbsp;</span>Общий вывод по исследованным данным</a></span></li><li><span><a href=\"#Дополнение-данных\" data-toc-modified-id=\"Дополнение-данных-1.3\"><span class=\"toc-item-num\">1.3&nbsp;&nbsp;</span>Дополнение данных</a></span><ul class=\"toc-item\"><li><span><a href=\"#Создание-столбцов-с-месяцами\" data-toc-modified-id=\"Создание-столбцов-с-месяцами-1.3.1\"><span class=\"toc-item-num\">1.3.1&nbsp;&nbsp;</span>Создание столбцов с месяцами</a></span></li><li><span><a href=\"#Считаем-звонки-и-минуты\" data-toc-modified-id=\"Считаем-звонки-и-минуты-1.3.2\"><span class=\"toc-item-num\">1.3.2&nbsp;&nbsp;</span>Считаем звонки и минуты</a></span></li><li><span><a href=\"#Считаем-гиги\" data-toc-modified-id=\"Считаем-гиги-1.3.3\"><span class=\"toc-item-num\">1.3.3&nbsp;&nbsp;</span>Считаем гиги</a></span></li><li><span><a href=\"#Считаем-сообщения\" data-toc-modified-id=\"Считаем-сообщения-1.3.4\"><span class=\"toc-item-num\">1.3.4&nbsp;&nbsp;</span>Считаем сообщения</a></span></li><li><span><a href=\"#Считаем-деньги\" data-toc-modified-id=\"Считаем-деньги-1.3.5\"><span class=\"toc-item-num\">1.3.5&nbsp;&nbsp;</span>Считаем деньги</a></span><ul class=\"toc-item\"><li><span><a href=\"#Минуты\" data-toc-modified-id=\"Минуты-1.3.5.1\"><span class=\"toc-item-num\">1.3.5.1&nbsp;&nbsp;</span>Минуты</a></span></li><li><span><a href=\"#Гигабайты\" data-toc-modified-id=\"Гигабайты-1.3.5.2\"><span class=\"toc-item-num\">1.3.5.2&nbsp;&nbsp;</span>Гигабайты</a></span></li><li><span><a href=\"#Сообщения\" data-toc-modified-id=\"Сообщения-1.3.5.3\"><span class=\"toc-item-num\">1.3.5.3&nbsp;&nbsp;</span>Сообщения</a></span></li><li><span><a href=\"#Итого\" data-toc-modified-id=\"Итого-1.3.5.4\"><span class=\"toc-item-num\">1.3.5.4&nbsp;&nbsp;</span>Итого</a></span></li></ul></li></ul></li></ul></li><li><span><a href=\"#Анализ-данных\" data-toc-modified-id=\"Анализ-данных-2\"><span class=\"toc-item-num\">2&nbsp;&nbsp;</span>Анализ данных</a></span><ul class=\"toc-item\"><li><span><a href=\"#Анализ-расхода-минут\" data-toc-modified-id=\"Анализ-расхода-минут-2.1\"><span class=\"toc-item-num\">2.1&nbsp;&nbsp;</span>Анализ расхода минут</a></span><ul class=\"toc-item\"><li><span><a href=\"#Минуты-в-целом\" data-toc-modified-id=\"Минуты-в-целом-2.1.1\"><span class=\"toc-item-num\">2.1.1&nbsp;&nbsp;</span>Минуты в целом</a></span></li><li><span><a href=\"#Анализ-израсходованных-минут-по-тафриам\" data-toc-modified-id=\"Анализ-израсходованных-минут-по-тафриам-2.1.2\"><span class=\"toc-item-num\">2.1.2&nbsp;&nbsp;</span>Анализ израсходованных минут по тафриам</a></span></li></ul></li><li><span><a href=\"#Анализ-расхода-интерет-траффика-по-тарифам\" data-toc-modified-id=\"Анализ-расхода-интерет-траффика-по-тарифам-2.2\"><span class=\"toc-item-num\">2.2&nbsp;&nbsp;</span>Анализ расхода интерет-траффика по тарифам</a></span></li><li><span><a href=\"#Анализ-расхода-сообщений-по-тарифам\" data-toc-modified-id=\"Анализ-расхода-сообщений-по-тарифам-2.3\"><span class=\"toc-item-num\">2.3&nbsp;&nbsp;</span>Анализ расхода сообщений по тарифам</a></span></li><li><span><a href=\"#Вывод\" data-toc-modified-id=\"Вывод-2.4\"><span class=\"toc-item-num\">2.4&nbsp;&nbsp;</span>Вывод</a></span></li></ul></li><li><span><a href=\"#Проверка-гипотез\" data-toc-modified-id=\"Проверка-гипотез-3\"><span class=\"toc-item-num\">3&nbsp;&nbsp;</span>Проверка гипотез</a></span><ul class=\"toc-item\"><li><span><a href=\"#Гипотеза-о-различиях-выручки-на-тарифах\" data-toc-modified-id=\"Гипотеза-о-различиях-выручки-на-тарифах-3.1\"><span class=\"toc-item-num\">3.1&nbsp;&nbsp;</span>Гипотеза о различиях выручки на тарифах</a></span></li><li><span><a href=\"#Гипотеза-о-различиях-выручки-в-Москве-и-регионах\" data-toc-modified-id=\"Гипотеза-о-различиях-выручки-в-Москве-и-регионах-3.2\"><span class=\"toc-item-num\">3.2&nbsp;&nbsp;</span>Гипотеза о различиях выручки в Москве и регионах</a></span></li></ul></li><li><span><a href=\"#Общий-вывод\" data-toc-modified-id=\"Общий-вывод-4\"><span class=\"toc-item-num\">4&nbsp;&nbsp;</span>Общий вывод</a></span><ul class=\"toc-item\"><li><span><a href=\"#Достаточность-услуг\" data-toc-modified-id=\"Достаточность-услуг-4.1\"><span class=\"toc-item-num\">4.1&nbsp;&nbsp;</span>Достаточность услуг</a></span></li><li><span><a href=\"#Различия-в-выручке-между-абонентами-из-Москвы-и-регионов\" data-toc-modified-id=\"Различия-в-выручке-между-абонентами-из-Москвы-и-регионов-4.2\"><span class=\"toc-item-num\">4.2&nbsp;&nbsp;</span>Различия в выручке между абонентами из Москвы и регионов</a></span></li><li><span><a href=\"#Наиболее-выгодный-тариф\" data-toc-modified-id=\"Наиболее-выгодный-тариф-4.3\"><span class=\"toc-item-num\">4.3&nbsp;&nbsp;</span>Наиболее выгодный тариф</a></span></li></ul></li></ul></div>"
   ]
  },
  {
   "cell_type": "markdown",
   "metadata": {},
   "source": [
    "# Описание проекта\n",
    "Сотовый оператор предлагет клиентам два тарифных плана: «Смарт» и «Ультра». Необходимо понять, какой тариф приносит больше денег.\n",
    "\n",
    "Предстоит сделать предварительный анализ тарифов на небольшой выборке клиентов. Нужно проанализировать поведение клиентов и сделать вывод — какой тариф лучше."
   ]
  },
  {
   "cell_type": "markdown",
   "metadata": {},
   "source": [
    "# Описание тарифов\n",
    "**Тариф «Смарт»**\n",
    "\n",
    "Ежемесячная плата: 550 рублей\n",
    "\n",
    "Включено 500 минут разговора, 50 сообщений и 15 Гб интернет-трафика\n",
    "\n",
    "Стоимость услуг сверх тарифного пакета:\n",
    "\n",
    "минута разговора: 3 рубля\n",
    "\n",
    "сообщение: 3 рубля\n",
    "\n",
    "1 Гб интернет-трафика: 200 рублей\n",
    "\n",
    "**Тариф «Ультра»**\n",
    "\n",
    "Ежемесячная плата: 1950 рублей\n",
    "\n",
    "Включено 3000 минут разговора, 1000 сообщений и 30 Гб интернет-трафика\n",
    "\n",
    "Стоимость услуг сверх тарифного пакета:\n",
    "\n",
    "минута разговора: 1 рубль\n",
    "\n",
    "сообщение: 1 рубль\n",
    "\n",
    "1 Гб интернет-трафика: 150 рублей"
   ]
  },
  {
   "cell_type": "markdown",
   "metadata": {},
   "source": [
    "## Исследование данных"
   ]
  },
  {
   "cell_type": "markdown",
   "metadata": {},
   "source": [
    "### Изучение общей информации о файлах"
   ]
  },
  {
   "cell_type": "code",
   "execution_count": 1,
   "metadata": {},
   "outputs": [],
   "source": [
    "#Импортируем библиотеки\n",
    "import pandas as pd\n",
    "import matplotlib.pyplot as plt\n",
    "import numpy as np\n",
    "from scipy import stats as st"
   ]
  },
  {
   "cell_type": "code",
   "execution_count": 2,
   "metadata": {},
   "outputs": [],
   "source": [
    "#загружаем данные\n",
    "users = pd.read_csv('')\n",
    "tariffs = pd.read_csv('')\n",
    "calls = pd.read_csv('')\n",
    "internet = pd.read_csv('')\n",
    "messages = pd.read_csv('')"
   ]
  },
  {
   "cell_type": "code",
   "execution_count": 3,
   "metadata": {},
   "outputs": [],
   "source": [
    "#создаем функцию для изучения\n",
    "def exploring(df):\n",
    "    print ('------------- Краткая информация ------------')\n",
    "    display(df.head())\n",
    "    display(df.info())\n",
    "    display(df.describe())\n",
    "    display('Пропуски: ', df.isna().mean())\n",
    "    print('Количество строк-дубликатов:', (len(df) - len(df.drop_duplicates())))"
   ]
  },
  {
   "cell_type": "markdown",
   "metadata": {},
   "source": [
    "#### Информация о пользователях"
   ]
  },
  {
   "cell_type": "code",
   "execution_count": 4,
   "metadata": {},
   "outputs": [
    {
     "name": "stdout",
     "output_type": "stream",
     "text": [
      "------------- Краткая информация ------------\n"
     ]
    },
    {
     "data": {
      "text/html": [
       "<div>\n",
       "<style scoped>\n",
       "    .dataframe tbody tr th:only-of-type {\n",
       "        vertical-align: middle;\n",
       "    }\n",
       "\n",
       "    .dataframe tbody tr th {\n",
       "        vertical-align: top;\n",
       "    }\n",
       "\n",
       "    .dataframe thead th {\n",
       "        text-align: right;\n",
       "    }\n",
       "</style>\n",
       "<table border=\"1\" class=\"dataframe\">\n",
       "  <thead>\n",
       "    <tr style=\"text-align: right;\">\n",
       "      <th></th>\n",
       "      <th>user_id</th>\n",
       "      <th>age</th>\n",
       "      <th>churn_date</th>\n",
       "      <th>city</th>\n",
       "      <th>first_name</th>\n",
       "      <th>last_name</th>\n",
       "      <th>reg_date</th>\n",
       "      <th>tariff</th>\n",
       "    </tr>\n",
       "  </thead>\n",
       "  <tbody>\n",
       "    <tr>\n",
       "      <th>0</th>\n",
       "      <td>1000</td>\n",
       "      <td>52</td>\n",
       "      <td>NaN</td>\n",
       "      <td>Краснодар</td>\n",
       "      <td>Рафаил</td>\n",
       "      <td>Верещагин</td>\n",
       "      <td>2018-05-25</td>\n",
       "      <td>ultra</td>\n",
       "    </tr>\n",
       "    <tr>\n",
       "      <th>1</th>\n",
       "      <td>1001</td>\n",
       "      <td>41</td>\n",
       "      <td>NaN</td>\n",
       "      <td>Москва</td>\n",
       "      <td>Иван</td>\n",
       "      <td>Ежов</td>\n",
       "      <td>2018-11-01</td>\n",
       "      <td>smart</td>\n",
       "    </tr>\n",
       "    <tr>\n",
       "      <th>2</th>\n",
       "      <td>1002</td>\n",
       "      <td>59</td>\n",
       "      <td>NaN</td>\n",
       "      <td>Стерлитамак</td>\n",
       "      <td>Евгений</td>\n",
       "      <td>Абрамович</td>\n",
       "      <td>2018-06-17</td>\n",
       "      <td>smart</td>\n",
       "    </tr>\n",
       "    <tr>\n",
       "      <th>3</th>\n",
       "      <td>1003</td>\n",
       "      <td>23</td>\n",
       "      <td>NaN</td>\n",
       "      <td>Москва</td>\n",
       "      <td>Белла</td>\n",
       "      <td>Белякова</td>\n",
       "      <td>2018-08-17</td>\n",
       "      <td>ultra</td>\n",
       "    </tr>\n",
       "    <tr>\n",
       "      <th>4</th>\n",
       "      <td>1004</td>\n",
       "      <td>68</td>\n",
       "      <td>NaN</td>\n",
       "      <td>Новокузнецк</td>\n",
       "      <td>Татьяна</td>\n",
       "      <td>Авдеенко</td>\n",
       "      <td>2018-05-14</td>\n",
       "      <td>ultra</td>\n",
       "    </tr>\n",
       "  </tbody>\n",
       "</table>\n",
       "</div>"
      ],
      "text/plain": [
       "   user_id  age churn_date         city first_name  last_name    reg_date  \\\n",
       "0     1000   52        NaN    Краснодар     Рафаил  Верещагин  2018-05-25   \n",
       "1     1001   41        NaN       Москва       Иван       Ежов  2018-11-01   \n",
       "2     1002   59        NaN  Стерлитамак    Евгений  Абрамович  2018-06-17   \n",
       "3     1003   23        NaN       Москва      Белла   Белякова  2018-08-17   \n",
       "4     1004   68        NaN  Новокузнецк    Татьяна   Авдеенко  2018-05-14   \n",
       "\n",
       "  tariff  \n",
       "0  ultra  \n",
       "1  smart  \n",
       "2  smart  \n",
       "3  ultra  \n",
       "4  ultra  "
      ]
     },
     "metadata": {},
     "output_type": "display_data"
    },
    {
     "name": "stdout",
     "output_type": "stream",
     "text": [
      "<class 'pandas.core.frame.DataFrame'>\n",
      "RangeIndex: 500 entries, 0 to 499\n",
      "Data columns (total 8 columns):\n",
      " #   Column      Non-Null Count  Dtype \n",
      "---  ------      --------------  ----- \n",
      " 0   user_id     500 non-null    int64 \n",
      " 1   age         500 non-null    int64 \n",
      " 2   churn_date  38 non-null     object\n",
      " 3   city        500 non-null    object\n",
      " 4   first_name  500 non-null    object\n",
      " 5   last_name   500 non-null    object\n",
      " 6   reg_date    500 non-null    object\n",
      " 7   tariff      500 non-null    object\n",
      "dtypes: int64(2), object(6)\n",
      "memory usage: 31.4+ KB\n"
     ]
    },
    {
     "data": {
      "text/plain": [
       "None"
      ]
     },
     "metadata": {},
     "output_type": "display_data"
    },
    {
     "data": {
      "text/html": [
       "<div>\n",
       "<style scoped>\n",
       "    .dataframe tbody tr th:only-of-type {\n",
       "        vertical-align: middle;\n",
       "    }\n",
       "\n",
       "    .dataframe tbody tr th {\n",
       "        vertical-align: top;\n",
       "    }\n",
       "\n",
       "    .dataframe thead th {\n",
       "        text-align: right;\n",
       "    }\n",
       "</style>\n",
       "<table border=\"1\" class=\"dataframe\">\n",
       "  <thead>\n",
       "    <tr style=\"text-align: right;\">\n",
       "      <th></th>\n",
       "      <th>user_id</th>\n",
       "      <th>age</th>\n",
       "    </tr>\n",
       "  </thead>\n",
       "  <tbody>\n",
       "    <tr>\n",
       "      <th>count</th>\n",
       "      <td>500.000000</td>\n",
       "      <td>500.00000</td>\n",
       "    </tr>\n",
       "    <tr>\n",
       "      <th>mean</th>\n",
       "      <td>1249.500000</td>\n",
       "      <td>46.58800</td>\n",
       "    </tr>\n",
       "    <tr>\n",
       "      <th>std</th>\n",
       "      <td>144.481833</td>\n",
       "      <td>16.66763</td>\n",
       "    </tr>\n",
       "    <tr>\n",
       "      <th>min</th>\n",
       "      <td>1000.000000</td>\n",
       "      <td>18.00000</td>\n",
       "    </tr>\n",
       "    <tr>\n",
       "      <th>25%</th>\n",
       "      <td>1124.750000</td>\n",
       "      <td>32.00000</td>\n",
       "    </tr>\n",
       "    <tr>\n",
       "      <th>50%</th>\n",
       "      <td>1249.500000</td>\n",
       "      <td>46.00000</td>\n",
       "    </tr>\n",
       "    <tr>\n",
       "      <th>75%</th>\n",
       "      <td>1374.250000</td>\n",
       "      <td>62.00000</td>\n",
       "    </tr>\n",
       "    <tr>\n",
       "      <th>max</th>\n",
       "      <td>1499.000000</td>\n",
       "      <td>75.00000</td>\n",
       "    </tr>\n",
       "  </tbody>\n",
       "</table>\n",
       "</div>"
      ],
      "text/plain": [
       "           user_id        age\n",
       "count   500.000000  500.00000\n",
       "mean   1249.500000   46.58800\n",
       "std     144.481833   16.66763\n",
       "min    1000.000000   18.00000\n",
       "25%    1124.750000   32.00000\n",
       "50%    1249.500000   46.00000\n",
       "75%    1374.250000   62.00000\n",
       "max    1499.000000   75.00000"
      ]
     },
     "metadata": {},
     "output_type": "display_data"
    },
    {
     "data": {
      "text/plain": [
       "'Пропуски: '"
      ]
     },
     "metadata": {},
     "output_type": "display_data"
    },
    {
     "data": {
      "text/plain": [
       "user_id       0.000\n",
       "age           0.000\n",
       "churn_date    0.924\n",
       "city          0.000\n",
       "first_name    0.000\n",
       "last_name     0.000\n",
       "reg_date      0.000\n",
       "tariff        0.000\n",
       "dtype: float64"
      ]
     },
     "metadata": {},
     "output_type": "display_data"
    },
    {
     "name": "stdout",
     "output_type": "stream",
     "text": [
      "Количество строк-дубликатов: 0\n"
     ]
    }
   ],
   "source": [
    "#посмотрим на данные о пользователях\n",
    "exploring(users)"
   ]
  },
  {
   "cell_type": "markdown",
   "metadata": {},
   "source": [
    "##### Описание данных:\n",
    "* user_id — уникальный идентификатор пользователя\n",
    "* first_name — имя пользователя\n",
    "* last_name — фамилия пользователя\n",
    "* age — возраст пользователя (годы)\n",
    "* reg_date — дата подключения тарифа (день, месяц, год)\n",
    "* churn_date — дата прекращения пользования тарифом (если значение пропущено, то тариф ещё действовал на момент выгрузки данных)\n",
    "* city — город проживания пользователя\n",
    "* tariff — название тарифного плана\n",
    "\n",
    "##### Вывод\n",
    "Датафрейм `users` выглядит пристойно. Единственная проблема с `churn_date` таковой не является, потому что отсутствие данных в указанном столбце говорит о том, что тариф действовал на момент выгрузки. Дату в `churn_date` и `reg_date` превратим из строки в тип `datetime` в следующем шаге."
   ]
  },
  {
   "cell_type": "markdown",
   "metadata": {},
   "source": [
    "##### Устраняем недостатки\n",
    "Сначала пройдемся по типам и приведем столбцы с датами из строк в `datetime`"
   ]
  },
  {
   "cell_type": "code",
   "execution_count": 5,
   "metadata": {},
   "outputs": [
    {
     "name": "stdout",
     "output_type": "stream",
     "text": [
      "<class 'pandas.core.frame.DataFrame'>\n",
      "RangeIndex: 500 entries, 0 to 499\n",
      "Data columns (total 8 columns):\n",
      " #   Column      Non-Null Count  Dtype         \n",
      "---  ------      --------------  -----         \n",
      " 0   user_id     500 non-null    int64         \n",
      " 1   age         500 non-null    int64         \n",
      " 2   churn_date  38 non-null     datetime64[ns]\n",
      " 3   city        500 non-null    object        \n",
      " 4   first_name  500 non-null    object        \n",
      " 5   last_name   500 non-null    object        \n",
      " 6   reg_date    500 non-null    datetime64[ns]\n",
      " 7   tariff      500 non-null    object        \n",
      "dtypes: datetime64[ns](2), int64(2), object(4)\n",
      "memory usage: 31.4+ KB\n"
     ]
    }
   ],
   "source": [
    "#воспользуемся методом to_datetime()\n",
    "users['churn_date'] = pd.to_datetime(users['churn_date'], format='%Y-%m-%d')\n",
    "users['reg_date'] = pd.to_datetime(users['reg_date'], format='%Y-%m-%d')\n",
    "users.info()"
   ]
  },
  {
   "cell_type": "markdown",
   "metadata": {},
   "source": [
    "Эталонная таблица!"
   ]
  },
  {
   "cell_type": "markdown",
   "metadata": {},
   "source": [
    "#### Информация о тарифах"
   ]
  },
  {
   "cell_type": "code",
   "execution_count": 6,
   "metadata": {},
   "outputs": [
    {
     "data": {
      "text/html": [
       "<div>\n",
       "<style scoped>\n",
       "    .dataframe tbody tr th:only-of-type {\n",
       "        vertical-align: middle;\n",
       "    }\n",
       "\n",
       "    .dataframe tbody tr th {\n",
       "        vertical-align: top;\n",
       "    }\n",
       "\n",
       "    .dataframe thead th {\n",
       "        text-align: right;\n",
       "    }\n",
       "</style>\n",
       "<table border=\"1\" class=\"dataframe\">\n",
       "  <thead>\n",
       "    <tr style=\"text-align: right;\">\n",
       "      <th></th>\n",
       "      <th>messages_included</th>\n",
       "      <th>mb_per_month_included</th>\n",
       "      <th>minutes_included</th>\n",
       "      <th>rub_monthly_fee</th>\n",
       "      <th>rub_per_gb</th>\n",
       "      <th>rub_per_message</th>\n",
       "      <th>rub_per_minute</th>\n",
       "      <th>tariff_name</th>\n",
       "    </tr>\n",
       "  </thead>\n",
       "  <tbody>\n",
       "    <tr>\n",
       "      <th>0</th>\n",
       "      <td>50</td>\n",
       "      <td>15360</td>\n",
       "      <td>500</td>\n",
       "      <td>550</td>\n",
       "      <td>200</td>\n",
       "      <td>3</td>\n",
       "      <td>3</td>\n",
       "      <td>smart</td>\n",
       "    </tr>\n",
       "    <tr>\n",
       "      <th>1</th>\n",
       "      <td>1000</td>\n",
       "      <td>30720</td>\n",
       "      <td>3000</td>\n",
       "      <td>1950</td>\n",
       "      <td>150</td>\n",
       "      <td>1</td>\n",
       "      <td>1</td>\n",
       "      <td>ultra</td>\n",
       "    </tr>\n",
       "  </tbody>\n",
       "</table>\n",
       "</div>"
      ],
      "text/plain": [
       "   messages_included  mb_per_month_included  minutes_included  \\\n",
       "0                 50                  15360               500   \n",
       "1               1000                  30720              3000   \n",
       "\n",
       "   rub_monthly_fee  rub_per_gb  rub_per_message  rub_per_minute tariff_name  \n",
       "0              550         200                3               3       smart  \n",
       "1             1950         150                1               1       ultra  "
      ]
     },
     "metadata": {},
     "output_type": "display_data"
    },
    {
     "name": "stdout",
     "output_type": "stream",
     "text": [
      "<class 'pandas.core.frame.DataFrame'>\n",
      "RangeIndex: 2 entries, 0 to 1\n",
      "Data columns (total 8 columns):\n",
      " #   Column                 Non-Null Count  Dtype \n",
      "---  ------                 --------------  ----- \n",
      " 0   messages_included      2 non-null      int64 \n",
      " 1   mb_per_month_included  2 non-null      int64 \n",
      " 2   minutes_included       2 non-null      int64 \n",
      " 3   rub_monthly_fee        2 non-null      int64 \n",
      " 4   rub_per_gb             2 non-null      int64 \n",
      " 5   rub_per_message        2 non-null      int64 \n",
      " 6   rub_per_minute         2 non-null      int64 \n",
      " 7   tariff_name            2 non-null      object\n",
      "dtypes: int64(7), object(1)\n",
      "memory usage: 256.0+ bytes\n"
     ]
    }
   ],
   "source": [
    "#посмотрим на данные о тарифах. Здесь всего две строки, просто выведем датафрейм и информацию по столбцах\n",
    "display(tariffs)\n",
    "tariffs.info()"
   ]
  },
  {
   "cell_type": "markdown",
   "metadata": {},
   "source": [
    "##### Описание данных:\n",
    "* tariff_name — название тарифа\n",
    "* rub_monthly_fee — ежемесячная абонентская плата в рублях\n",
    "* minutes_included — количество минут разговора в месяц, включённых в абонентскую плату\n",
    "* messages_included — количество сообщений в месяц, включённых в абонентскую плату\n",
    "* mb_per_month_included — объём интернет-трафика, включённого в абонентскую плату (в мегабайтах)\n",
    "* rub_per_minute — стоимость минуты разговора сверх тарифного пакета \n",
    "* rub_per_message — стоимость отправки сообщения сверх тарифного пакета\n",
    "* rub_per_gb — стоимость дополнительного гигабайта интернет-трафика сверх тарифного пакета (1 гигабайт = 1024 мегабайта)\n",
    "\n",
    "##### Вывод\n",
    "Две красивых и информативных строки."
   ]
  },
  {
   "cell_type": "markdown",
   "metadata": {},
   "source": [
    "#### Информация о звонках"
   ]
  },
  {
   "cell_type": "code",
   "execution_count": 7,
   "metadata": {},
   "outputs": [
    {
     "name": "stdout",
     "output_type": "stream",
     "text": [
      "------------- Краткая информация ------------\n"
     ]
    },
    {
     "data": {
      "text/html": [
       "<div>\n",
       "<style scoped>\n",
       "    .dataframe tbody tr th:only-of-type {\n",
       "        vertical-align: middle;\n",
       "    }\n",
       "\n",
       "    .dataframe tbody tr th {\n",
       "        vertical-align: top;\n",
       "    }\n",
       "\n",
       "    .dataframe thead th {\n",
       "        text-align: right;\n",
       "    }\n",
       "</style>\n",
       "<table border=\"1\" class=\"dataframe\">\n",
       "  <thead>\n",
       "    <tr style=\"text-align: right;\">\n",
       "      <th></th>\n",
       "      <th>id</th>\n",
       "      <th>call_date</th>\n",
       "      <th>duration</th>\n",
       "      <th>user_id</th>\n",
       "    </tr>\n",
       "  </thead>\n",
       "  <tbody>\n",
       "    <tr>\n",
       "      <th>0</th>\n",
       "      <td>1000_0</td>\n",
       "      <td>2018-07-25</td>\n",
       "      <td>0.00</td>\n",
       "      <td>1000</td>\n",
       "    </tr>\n",
       "    <tr>\n",
       "      <th>1</th>\n",
       "      <td>1000_1</td>\n",
       "      <td>2018-08-17</td>\n",
       "      <td>0.00</td>\n",
       "      <td>1000</td>\n",
       "    </tr>\n",
       "    <tr>\n",
       "      <th>2</th>\n",
       "      <td>1000_2</td>\n",
       "      <td>2018-06-11</td>\n",
       "      <td>2.85</td>\n",
       "      <td>1000</td>\n",
       "    </tr>\n",
       "    <tr>\n",
       "      <th>3</th>\n",
       "      <td>1000_3</td>\n",
       "      <td>2018-09-21</td>\n",
       "      <td>13.80</td>\n",
       "      <td>1000</td>\n",
       "    </tr>\n",
       "    <tr>\n",
       "      <th>4</th>\n",
       "      <td>1000_4</td>\n",
       "      <td>2018-12-15</td>\n",
       "      <td>5.18</td>\n",
       "      <td>1000</td>\n",
       "    </tr>\n",
       "  </tbody>\n",
       "</table>\n",
       "</div>"
      ],
      "text/plain": [
       "       id   call_date  duration  user_id\n",
       "0  1000_0  2018-07-25      0.00     1000\n",
       "1  1000_1  2018-08-17      0.00     1000\n",
       "2  1000_2  2018-06-11      2.85     1000\n",
       "3  1000_3  2018-09-21     13.80     1000\n",
       "4  1000_4  2018-12-15      5.18     1000"
      ]
     },
     "metadata": {},
     "output_type": "display_data"
    },
    {
     "name": "stdout",
     "output_type": "stream",
     "text": [
      "<class 'pandas.core.frame.DataFrame'>\n",
      "RangeIndex: 202607 entries, 0 to 202606\n",
      "Data columns (total 4 columns):\n",
      " #   Column     Non-Null Count   Dtype  \n",
      "---  ------     --------------   -----  \n",
      " 0   id         202607 non-null  object \n",
      " 1   call_date  202607 non-null  object \n",
      " 2   duration   202607 non-null  float64\n",
      " 3   user_id    202607 non-null  int64  \n",
      "dtypes: float64(1), int64(1), object(2)\n",
      "memory usage: 6.2+ MB\n"
     ]
    },
    {
     "data": {
      "text/plain": [
       "None"
      ]
     },
     "metadata": {},
     "output_type": "display_data"
    },
    {
     "data": {
      "text/html": [
       "<div>\n",
       "<style scoped>\n",
       "    .dataframe tbody tr th:only-of-type {\n",
       "        vertical-align: middle;\n",
       "    }\n",
       "\n",
       "    .dataframe tbody tr th {\n",
       "        vertical-align: top;\n",
       "    }\n",
       "\n",
       "    .dataframe thead th {\n",
       "        text-align: right;\n",
       "    }\n",
       "</style>\n",
       "<table border=\"1\" class=\"dataframe\">\n",
       "  <thead>\n",
       "    <tr style=\"text-align: right;\">\n",
       "      <th></th>\n",
       "      <th>duration</th>\n",
       "      <th>user_id</th>\n",
       "    </tr>\n",
       "  </thead>\n",
       "  <tbody>\n",
       "    <tr>\n",
       "      <th>count</th>\n",
       "      <td>202607.000000</td>\n",
       "      <td>202607.000000</td>\n",
       "    </tr>\n",
       "    <tr>\n",
       "      <th>mean</th>\n",
       "      <td>6.755887</td>\n",
       "      <td>1253.940619</td>\n",
       "    </tr>\n",
       "    <tr>\n",
       "      <th>std</th>\n",
       "      <td>5.843365</td>\n",
       "      <td>144.722751</td>\n",
       "    </tr>\n",
       "    <tr>\n",
       "      <th>min</th>\n",
       "      <td>0.000000</td>\n",
       "      <td>1000.000000</td>\n",
       "    </tr>\n",
       "    <tr>\n",
       "      <th>25%</th>\n",
       "      <td>1.300000</td>\n",
       "      <td>1126.000000</td>\n",
       "    </tr>\n",
       "    <tr>\n",
       "      <th>50%</th>\n",
       "      <td>6.000000</td>\n",
       "      <td>1260.000000</td>\n",
       "    </tr>\n",
       "    <tr>\n",
       "      <th>75%</th>\n",
       "      <td>10.700000</td>\n",
       "      <td>1379.000000</td>\n",
       "    </tr>\n",
       "    <tr>\n",
       "      <th>max</th>\n",
       "      <td>38.000000</td>\n",
       "      <td>1499.000000</td>\n",
       "    </tr>\n",
       "  </tbody>\n",
       "</table>\n",
       "</div>"
      ],
      "text/plain": [
       "            duration        user_id\n",
       "count  202607.000000  202607.000000\n",
       "mean        6.755887    1253.940619\n",
       "std         5.843365     144.722751\n",
       "min         0.000000    1000.000000\n",
       "25%         1.300000    1126.000000\n",
       "50%         6.000000    1260.000000\n",
       "75%        10.700000    1379.000000\n",
       "max        38.000000    1499.000000"
      ]
     },
     "metadata": {},
     "output_type": "display_data"
    },
    {
     "data": {
      "text/plain": [
       "'Пропуски: '"
      ]
     },
     "metadata": {},
     "output_type": "display_data"
    },
    {
     "data": {
      "text/plain": [
       "id           0.0\n",
       "call_date    0.0\n",
       "duration     0.0\n",
       "user_id      0.0\n",
       "dtype: float64"
      ]
     },
     "metadata": {},
     "output_type": "display_data"
    },
    {
     "name": "stdout",
     "output_type": "stream",
     "text": [
      "Количество строк-дубликатов: 0\n"
     ]
    }
   ],
   "source": [
    "#посмотрим на данные о звонках\n",
    "exploring(calls)"
   ]
  },
  {
   "cell_type": "markdown",
   "metadata": {},
   "source": [
    "##### Описание данных:\n",
    "* id — уникальный номер звонка\n",
    "* call_date — дата звонка\n",
    "* duration — длительность звонка в минутах\n",
    "* user_id — идентификатор пользователя, сделавшего звонок\n",
    "\n",
    "##### Вывод\n",
    "Здесь все хорошо, но для `call_date` потребуется заменить тип. Нули в `duration` игнорируем - это пропущенные вызовы. Можно и округлить сразу"
   ]
  },
  {
   "cell_type": "markdown",
   "metadata": {},
   "source": [
    "##### Устраняем недостатки\n",
    "Удивительное превращение столбца с датами из строки в `datetime`"
   ]
  },
  {
   "cell_type": "code",
   "execution_count": 8,
   "metadata": {},
   "outputs": [
    {
     "name": "stdout",
     "output_type": "stream",
     "text": [
      "<class 'pandas.core.frame.DataFrame'>\n",
      "RangeIndex: 202607 entries, 0 to 202606\n",
      "Data columns (total 4 columns):\n",
      " #   Column     Non-Null Count   Dtype         \n",
      "---  ------     --------------   -----         \n",
      " 0   id         202607 non-null  object        \n",
      " 1   call_date  202607 non-null  datetime64[ns]\n",
      " 2   duration   202607 non-null  float64       \n",
      " 3   user_id    202607 non-null  int64         \n",
      "dtypes: datetime64[ns](1), float64(1), int64(1), object(1)\n",
      "memory usage: 6.2+ MB\n"
     ]
    }
   ],
   "source": [
    "calls['call_date'] = pd.to_datetime(calls['call_date'], format='%Y-%m-%d')\n",
    "calls.info()"
   ]
  },
  {
   "cell_type": "markdown",
   "metadata": {},
   "source": [
    "##### Округляем продолжительность вызова\n",
    "В большую сторону, конечно же"
   ]
  },
  {
   "cell_type": "code",
   "execution_count": 9,
   "metadata": {},
   "outputs": [
    {
     "data": {
      "text/html": [
       "<div>\n",
       "<style scoped>\n",
       "    .dataframe tbody tr th:only-of-type {\n",
       "        vertical-align: middle;\n",
       "    }\n",
       "\n",
       "    .dataframe tbody tr th {\n",
       "        vertical-align: top;\n",
       "    }\n",
       "\n",
       "    .dataframe thead th {\n",
       "        text-align: right;\n",
       "    }\n",
       "</style>\n",
       "<table border=\"1\" class=\"dataframe\">\n",
       "  <thead>\n",
       "    <tr style=\"text-align: right;\">\n",
       "      <th></th>\n",
       "      <th>id</th>\n",
       "      <th>call_date</th>\n",
       "      <th>duration</th>\n",
       "      <th>user_id</th>\n",
       "      <th>rounded_duration</th>\n",
       "    </tr>\n",
       "  </thead>\n",
       "  <tbody>\n",
       "    <tr>\n",
       "      <th>0</th>\n",
       "      <td>1000_0</td>\n",
       "      <td>2018-07-25</td>\n",
       "      <td>0.00</td>\n",
       "      <td>1000</td>\n",
       "      <td>0</td>\n",
       "    </tr>\n",
       "    <tr>\n",
       "      <th>1</th>\n",
       "      <td>1000_1</td>\n",
       "      <td>2018-08-17</td>\n",
       "      <td>0.00</td>\n",
       "      <td>1000</td>\n",
       "      <td>0</td>\n",
       "    </tr>\n",
       "    <tr>\n",
       "      <th>2</th>\n",
       "      <td>1000_2</td>\n",
       "      <td>2018-06-11</td>\n",
       "      <td>2.85</td>\n",
       "      <td>1000</td>\n",
       "      <td>3</td>\n",
       "    </tr>\n",
       "    <tr>\n",
       "      <th>3</th>\n",
       "      <td>1000_3</td>\n",
       "      <td>2018-09-21</td>\n",
       "      <td>13.80</td>\n",
       "      <td>1000</td>\n",
       "      <td>14</td>\n",
       "    </tr>\n",
       "    <tr>\n",
       "      <th>4</th>\n",
       "      <td>1000_4</td>\n",
       "      <td>2018-12-15</td>\n",
       "      <td>5.18</td>\n",
       "      <td>1000</td>\n",
       "      <td>6</td>\n",
       "    </tr>\n",
       "  </tbody>\n",
       "</table>\n",
       "</div>"
      ],
      "text/plain": [
       "       id  call_date  duration  user_id  rounded_duration\n",
       "0  1000_0 2018-07-25      0.00     1000                 0\n",
       "1  1000_1 2018-08-17      0.00     1000                 0\n",
       "2  1000_2 2018-06-11      2.85     1000                 3\n",
       "3  1000_3 2018-09-21     13.80     1000                14\n",
       "4  1000_4 2018-12-15      5.18     1000                 6"
      ]
     },
     "execution_count": 9,
     "metadata": {},
     "output_type": "execute_result"
    }
   ],
   "source": [
    "#старый столбец оставим, мы же не варвары, вдруг нам с ним еще работать\n",
    "calls['rounded_duration'] = np.ceil(calls['duration']).astype('int')\n",
    "calls.head()"
   ]
  },
  {
   "cell_type": "markdown",
   "metadata": {},
   "source": [
    "Такую таблицу я бы исследовал"
   ]
  },
  {
   "cell_type": "markdown",
   "metadata": {},
   "source": [
    "#### Информация об интернет-сессиях"
   ]
  },
  {
   "cell_type": "code",
   "execution_count": 10,
   "metadata": {},
   "outputs": [
    {
     "name": "stdout",
     "output_type": "stream",
     "text": [
      "------------- Краткая информация ------------\n"
     ]
    },
    {
     "data": {
      "text/html": [
       "<div>\n",
       "<style scoped>\n",
       "    .dataframe tbody tr th:only-of-type {\n",
       "        vertical-align: middle;\n",
       "    }\n",
       "\n",
       "    .dataframe tbody tr th {\n",
       "        vertical-align: top;\n",
       "    }\n",
       "\n",
       "    .dataframe thead th {\n",
       "        text-align: right;\n",
       "    }\n",
       "</style>\n",
       "<table border=\"1\" class=\"dataframe\">\n",
       "  <thead>\n",
       "    <tr style=\"text-align: right;\">\n",
       "      <th></th>\n",
       "      <th>Unnamed: 0</th>\n",
       "      <th>id</th>\n",
       "      <th>mb_used</th>\n",
       "      <th>session_date</th>\n",
       "      <th>user_id</th>\n",
       "    </tr>\n",
       "  </thead>\n",
       "  <tbody>\n",
       "    <tr>\n",
       "      <th>0</th>\n",
       "      <td>0</td>\n",
       "      <td>1000_0</td>\n",
       "      <td>112.95</td>\n",
       "      <td>2018-11-25</td>\n",
       "      <td>1000</td>\n",
       "    </tr>\n",
       "    <tr>\n",
       "      <th>1</th>\n",
       "      <td>1</td>\n",
       "      <td>1000_1</td>\n",
       "      <td>1052.81</td>\n",
       "      <td>2018-09-07</td>\n",
       "      <td>1000</td>\n",
       "    </tr>\n",
       "    <tr>\n",
       "      <th>2</th>\n",
       "      <td>2</td>\n",
       "      <td>1000_2</td>\n",
       "      <td>1197.26</td>\n",
       "      <td>2018-06-25</td>\n",
       "      <td>1000</td>\n",
       "    </tr>\n",
       "    <tr>\n",
       "      <th>3</th>\n",
       "      <td>3</td>\n",
       "      <td>1000_3</td>\n",
       "      <td>550.27</td>\n",
       "      <td>2018-08-22</td>\n",
       "      <td>1000</td>\n",
       "    </tr>\n",
       "    <tr>\n",
       "      <th>4</th>\n",
       "      <td>4</td>\n",
       "      <td>1000_4</td>\n",
       "      <td>302.56</td>\n",
       "      <td>2018-09-24</td>\n",
       "      <td>1000</td>\n",
       "    </tr>\n",
       "  </tbody>\n",
       "</table>\n",
       "</div>"
      ],
      "text/plain": [
       "   Unnamed: 0      id  mb_used session_date  user_id\n",
       "0           0  1000_0   112.95   2018-11-25     1000\n",
       "1           1  1000_1  1052.81   2018-09-07     1000\n",
       "2           2  1000_2  1197.26   2018-06-25     1000\n",
       "3           3  1000_3   550.27   2018-08-22     1000\n",
       "4           4  1000_4   302.56   2018-09-24     1000"
      ]
     },
     "metadata": {},
     "output_type": "display_data"
    },
    {
     "name": "stdout",
     "output_type": "stream",
     "text": [
      "<class 'pandas.core.frame.DataFrame'>\n",
      "RangeIndex: 149396 entries, 0 to 149395\n",
      "Data columns (total 5 columns):\n",
      " #   Column        Non-Null Count   Dtype  \n",
      "---  ------        --------------   -----  \n",
      " 0   Unnamed: 0    149396 non-null  int64  \n",
      " 1   id            149396 non-null  object \n",
      " 2   mb_used       149396 non-null  float64\n",
      " 3   session_date  149396 non-null  object \n",
      " 4   user_id       149396 non-null  int64  \n",
      "dtypes: float64(1), int64(2), object(2)\n",
      "memory usage: 5.7+ MB\n"
     ]
    },
    {
     "data": {
      "text/plain": [
       "None"
      ]
     },
     "metadata": {},
     "output_type": "display_data"
    },
    {
     "data": {
      "text/html": [
       "<div>\n",
       "<style scoped>\n",
       "    .dataframe tbody tr th:only-of-type {\n",
       "        vertical-align: middle;\n",
       "    }\n",
       "\n",
       "    .dataframe tbody tr th {\n",
       "        vertical-align: top;\n",
       "    }\n",
       "\n",
       "    .dataframe thead th {\n",
       "        text-align: right;\n",
       "    }\n",
       "</style>\n",
       "<table border=\"1\" class=\"dataframe\">\n",
       "  <thead>\n",
       "    <tr style=\"text-align: right;\">\n",
       "      <th></th>\n",
       "      <th>Unnamed: 0</th>\n",
       "      <th>mb_used</th>\n",
       "      <th>user_id</th>\n",
       "    </tr>\n",
       "  </thead>\n",
       "  <tbody>\n",
       "    <tr>\n",
       "      <th>count</th>\n",
       "      <td>149396.000000</td>\n",
       "      <td>149396.000000</td>\n",
       "      <td>149396.000000</td>\n",
       "    </tr>\n",
       "    <tr>\n",
       "      <th>mean</th>\n",
       "      <td>74697.500000</td>\n",
       "      <td>370.192426</td>\n",
       "      <td>1252.099842</td>\n",
       "    </tr>\n",
       "    <tr>\n",
       "      <th>std</th>\n",
       "      <td>43127.054745</td>\n",
       "      <td>278.300951</td>\n",
       "      <td>144.050823</td>\n",
       "    </tr>\n",
       "    <tr>\n",
       "      <th>min</th>\n",
       "      <td>0.000000</td>\n",
       "      <td>0.000000</td>\n",
       "      <td>1000.000000</td>\n",
       "    </tr>\n",
       "    <tr>\n",
       "      <th>25%</th>\n",
       "      <td>37348.750000</td>\n",
       "      <td>138.187500</td>\n",
       "      <td>1130.000000</td>\n",
       "    </tr>\n",
       "    <tr>\n",
       "      <th>50%</th>\n",
       "      <td>74697.500000</td>\n",
       "      <td>348.015000</td>\n",
       "      <td>1251.000000</td>\n",
       "    </tr>\n",
       "    <tr>\n",
       "      <th>75%</th>\n",
       "      <td>112046.250000</td>\n",
       "      <td>559.552500</td>\n",
       "      <td>1380.000000</td>\n",
       "    </tr>\n",
       "    <tr>\n",
       "      <th>max</th>\n",
       "      <td>149395.000000</td>\n",
       "      <td>1724.830000</td>\n",
       "      <td>1499.000000</td>\n",
       "    </tr>\n",
       "  </tbody>\n",
       "</table>\n",
       "</div>"
      ],
      "text/plain": [
       "          Unnamed: 0        mb_used        user_id\n",
       "count  149396.000000  149396.000000  149396.000000\n",
       "mean    74697.500000     370.192426    1252.099842\n",
       "std     43127.054745     278.300951     144.050823\n",
       "min         0.000000       0.000000    1000.000000\n",
       "25%     37348.750000     138.187500    1130.000000\n",
       "50%     74697.500000     348.015000    1251.000000\n",
       "75%    112046.250000     559.552500    1380.000000\n",
       "max    149395.000000    1724.830000    1499.000000"
      ]
     },
     "metadata": {},
     "output_type": "display_data"
    },
    {
     "data": {
      "text/plain": [
       "'Пропуски: '"
      ]
     },
     "metadata": {},
     "output_type": "display_data"
    },
    {
     "data": {
      "text/plain": [
       "Unnamed: 0      0.0\n",
       "id              0.0\n",
       "mb_used         0.0\n",
       "session_date    0.0\n",
       "user_id         0.0\n",
       "dtype: float64"
      ]
     },
     "metadata": {},
     "output_type": "display_data"
    },
    {
     "name": "stdout",
     "output_type": "stream",
     "text": [
      "Количество строк-дубликатов: 0\n"
     ]
    }
   ],
   "source": [
    "#посмотрим на данные\n",
    "exploring(internet)"
   ]
  },
  {
   "cell_type": "markdown",
   "metadata": {},
   "source": [
    "##### Описание данных:\n",
    "* id — уникальный номер сессии\n",
    "* mb_used — объём потраченного за сессию интернет-трафика (в мегабайтах)\n",
    "* session_date — дата интернет-сессии\n",
    "* user_id — идентификатор пользователя\n",
    "\n",
    "##### Вывод\n",
    "Здесь лишний столбец с индексами, который требуется убрать. Для `session_date` нужно изменить тип. Траффик округлять рано."
   ]
  },
  {
   "cell_type": "markdown",
   "metadata": {},
   "source": [
    "##### Устраняем недостатки\n",
    "Сделаем дату датой"
   ]
  },
  {
   "cell_type": "code",
   "execution_count": 11,
   "metadata": {},
   "outputs": [
    {
     "name": "stdout",
     "output_type": "stream",
     "text": [
      "<class 'pandas.core.frame.DataFrame'>\n",
      "RangeIndex: 149396 entries, 0 to 149395\n",
      "Data columns (total 5 columns):\n",
      " #   Column        Non-Null Count   Dtype         \n",
      "---  ------        --------------   -----         \n",
      " 0   Unnamed: 0    149396 non-null  int64         \n",
      " 1   id            149396 non-null  object        \n",
      " 2   mb_used       149396 non-null  float64       \n",
      " 3   session_date  149396 non-null  datetime64[ns]\n",
      " 4   user_id       149396 non-null  int64         \n",
      "dtypes: datetime64[ns](1), float64(1), int64(2), object(1)\n",
      "memory usage: 5.7+ MB\n"
     ]
    }
   ],
   "source": [
    "internet['session_date'] = pd.to_datetime(internet['session_date'], format='%Y-%m-%d')\n",
    "internet.info()"
   ]
  },
  {
   "cell_type": "markdown",
   "metadata": {},
   "source": [
    "Дропнем столбец"
   ]
  },
  {
   "cell_type": "code",
   "execution_count": 12,
   "metadata": {},
   "outputs": [
    {
     "data": {
      "text/html": [
       "<div>\n",
       "<style scoped>\n",
       "    .dataframe tbody tr th:only-of-type {\n",
       "        vertical-align: middle;\n",
       "    }\n",
       "\n",
       "    .dataframe tbody tr th {\n",
       "        vertical-align: top;\n",
       "    }\n",
       "\n",
       "    .dataframe thead th {\n",
       "        text-align: right;\n",
       "    }\n",
       "</style>\n",
       "<table border=\"1\" class=\"dataframe\">\n",
       "  <thead>\n",
       "    <tr style=\"text-align: right;\">\n",
       "      <th></th>\n",
       "      <th>id</th>\n",
       "      <th>mb_used</th>\n",
       "      <th>session_date</th>\n",
       "      <th>user_id</th>\n",
       "    </tr>\n",
       "  </thead>\n",
       "  <tbody>\n",
       "    <tr>\n",
       "      <th>0</th>\n",
       "      <td>1000_0</td>\n",
       "      <td>112.95</td>\n",
       "      <td>2018-11-25</td>\n",
       "      <td>1000</td>\n",
       "    </tr>\n",
       "    <tr>\n",
       "      <th>1</th>\n",
       "      <td>1000_1</td>\n",
       "      <td>1052.81</td>\n",
       "      <td>2018-09-07</td>\n",
       "      <td>1000</td>\n",
       "    </tr>\n",
       "    <tr>\n",
       "      <th>2</th>\n",
       "      <td>1000_2</td>\n",
       "      <td>1197.26</td>\n",
       "      <td>2018-06-25</td>\n",
       "      <td>1000</td>\n",
       "    </tr>\n",
       "    <tr>\n",
       "      <th>3</th>\n",
       "      <td>1000_3</td>\n",
       "      <td>550.27</td>\n",
       "      <td>2018-08-22</td>\n",
       "      <td>1000</td>\n",
       "    </tr>\n",
       "    <tr>\n",
       "      <th>4</th>\n",
       "      <td>1000_4</td>\n",
       "      <td>302.56</td>\n",
       "      <td>2018-09-24</td>\n",
       "      <td>1000</td>\n",
       "    </tr>\n",
       "  </tbody>\n",
       "</table>\n",
       "</div>"
      ],
      "text/plain": [
       "       id  mb_used session_date  user_id\n",
       "0  1000_0   112.95   2018-11-25     1000\n",
       "1  1000_1  1052.81   2018-09-07     1000\n",
       "2  1000_2  1197.26   2018-06-25     1000\n",
       "3  1000_3   550.27   2018-08-22     1000\n",
       "4  1000_4   302.56   2018-09-24     1000"
      ]
     },
     "metadata": {},
     "output_type": "display_data"
    }
   ],
   "source": [
    "try:\n",
    "    internet = internet.drop('Unnamed: 0', axis=1)\n",
    "    display(internet.head())\n",
    "except:\n",
    "    display(internet.head())"
   ]
  },
  {
   "cell_type": "markdown",
   "metadata": {},
   "source": [
    "Теперь порядок"
   ]
  },
  {
   "cell_type": "markdown",
   "metadata": {},
   "source": [
    "#### Информация о сообщениях"
   ]
  },
  {
   "cell_type": "code",
   "execution_count": 13,
   "metadata": {},
   "outputs": [
    {
     "name": "stdout",
     "output_type": "stream",
     "text": [
      "------------- Краткая информация ------------\n"
     ]
    },
    {
     "data": {
      "text/html": [
       "<div>\n",
       "<style scoped>\n",
       "    .dataframe tbody tr th:only-of-type {\n",
       "        vertical-align: middle;\n",
       "    }\n",
       "\n",
       "    .dataframe tbody tr th {\n",
       "        vertical-align: top;\n",
       "    }\n",
       "\n",
       "    .dataframe thead th {\n",
       "        text-align: right;\n",
       "    }\n",
       "</style>\n",
       "<table border=\"1\" class=\"dataframe\">\n",
       "  <thead>\n",
       "    <tr style=\"text-align: right;\">\n",
       "      <th></th>\n",
       "      <th>id</th>\n",
       "      <th>message_date</th>\n",
       "      <th>user_id</th>\n",
       "    </tr>\n",
       "  </thead>\n",
       "  <tbody>\n",
       "    <tr>\n",
       "      <th>0</th>\n",
       "      <td>1000_0</td>\n",
       "      <td>2018-06-27</td>\n",
       "      <td>1000</td>\n",
       "    </tr>\n",
       "    <tr>\n",
       "      <th>1</th>\n",
       "      <td>1000_1</td>\n",
       "      <td>2018-10-08</td>\n",
       "      <td>1000</td>\n",
       "    </tr>\n",
       "    <tr>\n",
       "      <th>2</th>\n",
       "      <td>1000_2</td>\n",
       "      <td>2018-08-04</td>\n",
       "      <td>1000</td>\n",
       "    </tr>\n",
       "    <tr>\n",
       "      <th>3</th>\n",
       "      <td>1000_3</td>\n",
       "      <td>2018-06-16</td>\n",
       "      <td>1000</td>\n",
       "    </tr>\n",
       "    <tr>\n",
       "      <th>4</th>\n",
       "      <td>1000_4</td>\n",
       "      <td>2018-12-05</td>\n",
       "      <td>1000</td>\n",
       "    </tr>\n",
       "  </tbody>\n",
       "</table>\n",
       "</div>"
      ],
      "text/plain": [
       "       id message_date  user_id\n",
       "0  1000_0   2018-06-27     1000\n",
       "1  1000_1   2018-10-08     1000\n",
       "2  1000_2   2018-08-04     1000\n",
       "3  1000_3   2018-06-16     1000\n",
       "4  1000_4   2018-12-05     1000"
      ]
     },
     "metadata": {},
     "output_type": "display_data"
    },
    {
     "name": "stdout",
     "output_type": "stream",
     "text": [
      "<class 'pandas.core.frame.DataFrame'>\n",
      "RangeIndex: 123036 entries, 0 to 123035\n",
      "Data columns (total 3 columns):\n",
      " #   Column        Non-Null Count   Dtype \n",
      "---  ------        --------------   ----- \n",
      " 0   id            123036 non-null  object\n",
      " 1   message_date  123036 non-null  object\n",
      " 2   user_id       123036 non-null  int64 \n",
      "dtypes: int64(1), object(2)\n",
      "memory usage: 2.8+ MB\n"
     ]
    },
    {
     "data": {
      "text/plain": [
       "None"
      ]
     },
     "metadata": {},
     "output_type": "display_data"
    },
    {
     "data": {
      "text/html": [
       "<div>\n",
       "<style scoped>\n",
       "    .dataframe tbody tr th:only-of-type {\n",
       "        vertical-align: middle;\n",
       "    }\n",
       "\n",
       "    .dataframe tbody tr th {\n",
       "        vertical-align: top;\n",
       "    }\n",
       "\n",
       "    .dataframe thead th {\n",
       "        text-align: right;\n",
       "    }\n",
       "</style>\n",
       "<table border=\"1\" class=\"dataframe\">\n",
       "  <thead>\n",
       "    <tr style=\"text-align: right;\">\n",
       "      <th></th>\n",
       "      <th>user_id</th>\n",
       "    </tr>\n",
       "  </thead>\n",
       "  <tbody>\n",
       "    <tr>\n",
       "      <th>count</th>\n",
       "      <td>123036.000000</td>\n",
       "    </tr>\n",
       "    <tr>\n",
       "      <th>mean</th>\n",
       "      <td>1256.989410</td>\n",
       "    </tr>\n",
       "    <tr>\n",
       "      <th>std</th>\n",
       "      <td>143.523967</td>\n",
       "    </tr>\n",
       "    <tr>\n",
       "      <th>min</th>\n",
       "      <td>1000.000000</td>\n",
       "    </tr>\n",
       "    <tr>\n",
       "      <th>25%</th>\n",
       "      <td>1134.000000</td>\n",
       "    </tr>\n",
       "    <tr>\n",
       "      <th>50%</th>\n",
       "      <td>1271.000000</td>\n",
       "    </tr>\n",
       "    <tr>\n",
       "      <th>75%</th>\n",
       "      <td>1381.000000</td>\n",
       "    </tr>\n",
       "    <tr>\n",
       "      <th>max</th>\n",
       "      <td>1499.000000</td>\n",
       "    </tr>\n",
       "  </tbody>\n",
       "</table>\n",
       "</div>"
      ],
      "text/plain": [
       "             user_id\n",
       "count  123036.000000\n",
       "mean     1256.989410\n",
       "std       143.523967\n",
       "min      1000.000000\n",
       "25%      1134.000000\n",
       "50%      1271.000000\n",
       "75%      1381.000000\n",
       "max      1499.000000"
      ]
     },
     "metadata": {},
     "output_type": "display_data"
    },
    {
     "data": {
      "text/plain": [
       "'Пропуски: '"
      ]
     },
     "metadata": {},
     "output_type": "display_data"
    },
    {
     "data": {
      "text/plain": [
       "id              0.0\n",
       "message_date    0.0\n",
       "user_id         0.0\n",
       "dtype: float64"
      ]
     },
     "metadata": {},
     "output_type": "display_data"
    },
    {
     "name": "stdout",
     "output_type": "stream",
     "text": [
      "Количество строк-дубликатов: 0\n"
     ]
    }
   ],
   "source": [
    "#посмотрим на данные\n",
    "exploring(messages)"
   ]
  },
  {
   "cell_type": "markdown",
   "metadata": {},
   "source": [
    "##### Описание данных:\n",
    "* id — уникальный номер сообщения\n",
    "* message_date — дата сообщения\n",
    "* user_id — идентификатор пользователя, отправившего сообщение\n",
    "\n",
    "##### Вывод\n",
    "Единственная проблема - тип данных у `message_date`."
   ]
  },
  {
   "cell_type": "markdown",
   "metadata": {},
   "source": [
    "##### Устраняем недостатки\n",
    "Перевоплощение строки в дату"
   ]
  },
  {
   "cell_type": "code",
   "execution_count": 14,
   "metadata": {},
   "outputs": [
    {
     "name": "stdout",
     "output_type": "stream",
     "text": [
      "<class 'pandas.core.frame.DataFrame'>\n",
      "RangeIndex: 123036 entries, 0 to 123035\n",
      "Data columns (total 3 columns):\n",
      " #   Column        Non-Null Count   Dtype         \n",
      "---  ------        --------------   -----         \n",
      " 0   id            123036 non-null  object        \n",
      " 1   message_date  123036 non-null  datetime64[ns]\n",
      " 2   user_id       123036 non-null  int64         \n",
      "dtypes: datetime64[ns](1), int64(1), object(1)\n",
      "memory usage: 2.8+ MB\n"
     ]
    }
   ],
   "source": [
    "messages['message_date'] = pd.to_datetime(messages['message_date'], format='%Y-%m-%d')\n",
    "messages.info()"
   ]
  },
  {
   "cell_type": "markdown",
   "metadata": {},
   "source": [
    "Наконец, это закончилось"
   ]
  },
  {
   "cell_type": "markdown",
   "metadata": {},
   "source": [
    "### Общий вывод по исследованным данным\n",
    "Данные в столбцах потребовали минимальной предобработки. В `internet` убран столбец с индексами, а во всех датафреймах с датой заменен для нее тип данных. Продолжительность вызовов и месячный траффик уже округлены."
   ]
  },
  {
   "cell_type": "code",
   "execution_count": 15,
   "metadata": {},
   "outputs": [],
   "source": [
    "def function(df):\n",
    "    print ('------------- Краткая информация ------------')\n",
    "    display(df.head())"
   ]
  },
  {
   "cell_type": "markdown",
   "metadata": {},
   "source": [
    "### Дополнение данных"
   ]
  },
  {
   "cell_type": "markdown",
   "metadata": {},
   "source": [
    "#### Создание столбцов с месяцами\n",
    "Перевод данных о датах в тип `datetime` позволяет легкими движениями пальцев создать столбцы с номерами месяцев, которые помогут углубиться в анализ данных из наших датафреймов. \n",
    "\n",
    "Начнем со звонков"
   ]
  },
  {
   "cell_type": "code",
   "execution_count": 16,
   "metadata": {},
   "outputs": [
    {
     "data": {
      "text/plain": [
       "count                           202607\n",
       "mean     2018-09-02 20:01:37.583992832\n",
       "min                2018-01-01 00:00:00\n",
       "25%                2018-07-05 00:00:00\n",
       "50%                2018-09-17 00:00:00\n",
       "75%                2018-11-14 00:00:00\n",
       "max                2018-12-31 00:00:00\n",
       "Name: call_date, dtype: object"
      ]
     },
     "execution_count": 16,
     "metadata": {},
     "output_type": "execute_result"
    }
   ],
   "source": [
    "#проверим за один ли год данные\n",
    "calls['call_date'].describe(datetime_is_numeric=True)"
   ]
  },
  {
   "cell_type": "code",
   "execution_count": 17,
   "metadata": {},
   "outputs": [
    {
     "data": {
      "text/html": [
       "<div>\n",
       "<style scoped>\n",
       "    .dataframe tbody tr th:only-of-type {\n",
       "        vertical-align: middle;\n",
       "    }\n",
       "\n",
       "    .dataframe tbody tr th {\n",
       "        vertical-align: top;\n",
       "    }\n",
       "\n",
       "    .dataframe thead th {\n",
       "        text-align: right;\n",
       "    }\n",
       "</style>\n",
       "<table border=\"1\" class=\"dataframe\">\n",
       "  <thead>\n",
       "    <tr style=\"text-align: right;\">\n",
       "      <th></th>\n",
       "      <th>id</th>\n",
       "      <th>call_date</th>\n",
       "      <th>duration</th>\n",
       "      <th>user_id</th>\n",
       "      <th>rounded_duration</th>\n",
       "      <th>month</th>\n",
       "    </tr>\n",
       "  </thead>\n",
       "  <tbody>\n",
       "    <tr>\n",
       "      <th>0</th>\n",
       "      <td>1000_0</td>\n",
       "      <td>2018-07-25</td>\n",
       "      <td>0.00</td>\n",
       "      <td>1000</td>\n",
       "      <td>0</td>\n",
       "      <td>7</td>\n",
       "    </tr>\n",
       "    <tr>\n",
       "      <th>1</th>\n",
       "      <td>1000_1</td>\n",
       "      <td>2018-08-17</td>\n",
       "      <td>0.00</td>\n",
       "      <td>1000</td>\n",
       "      <td>0</td>\n",
       "      <td>8</td>\n",
       "    </tr>\n",
       "    <tr>\n",
       "      <th>2</th>\n",
       "      <td>1000_2</td>\n",
       "      <td>2018-06-11</td>\n",
       "      <td>2.85</td>\n",
       "      <td>1000</td>\n",
       "      <td>3</td>\n",
       "      <td>6</td>\n",
       "    </tr>\n",
       "    <tr>\n",
       "      <th>3</th>\n",
       "      <td>1000_3</td>\n",
       "      <td>2018-09-21</td>\n",
       "      <td>13.80</td>\n",
       "      <td>1000</td>\n",
       "      <td>14</td>\n",
       "      <td>9</td>\n",
       "    </tr>\n",
       "    <tr>\n",
       "      <th>4</th>\n",
       "      <td>1000_4</td>\n",
       "      <td>2018-12-15</td>\n",
       "      <td>5.18</td>\n",
       "      <td>1000</td>\n",
       "      <td>6</td>\n",
       "      <td>12</td>\n",
       "    </tr>\n",
       "  </tbody>\n",
       "</table>\n",
       "</div>"
      ],
      "text/plain": [
       "       id  call_date  duration  user_id  rounded_duration  month\n",
       "0  1000_0 2018-07-25      0.00     1000                 0      7\n",
       "1  1000_1 2018-08-17      0.00     1000                 0      8\n",
       "2  1000_2 2018-06-11      2.85     1000                 3      6\n",
       "3  1000_3 2018-09-21     13.80     1000                14      9\n",
       "4  1000_4 2018-12-15      5.18     1000                 6     12"
      ]
     },
     "execution_count": 17,
     "metadata": {},
     "output_type": "execute_result"
    }
   ],
   "source": [
    "#добавим столбец\n",
    "calls['month'] = calls['call_date'].dt.month\n",
    "calls.head()"
   ]
  },
  {
   "cell_type": "markdown",
   "metadata": {},
   "source": [
    "Теперь интернет!"
   ]
  },
  {
   "cell_type": "code",
   "execution_count": 18,
   "metadata": {},
   "outputs": [
    {
     "data": {
      "text/plain": [
       "count                           149396\n",
       "mean     2018-09-02 12:55:35.221826560\n",
       "min                2018-01-01 00:00:00\n",
       "25%                2018-07-05 00:00:00\n",
       "50%                2018-09-17 00:00:00\n",
       "75%                2018-11-14 00:00:00\n",
       "max                2018-12-31 00:00:00\n",
       "Name: session_date, dtype: object"
      ]
     },
     "execution_count": 18,
     "metadata": {},
     "output_type": "execute_result"
    }
   ],
   "source": [
    "#проверим год\n",
    "internet['session_date'].describe(datetime_is_numeric=True)"
   ]
  },
  {
   "cell_type": "code",
   "execution_count": 19,
   "metadata": {},
   "outputs": [
    {
     "data": {
      "text/html": [
       "<div>\n",
       "<style scoped>\n",
       "    .dataframe tbody tr th:only-of-type {\n",
       "        vertical-align: middle;\n",
       "    }\n",
       "\n",
       "    .dataframe tbody tr th {\n",
       "        vertical-align: top;\n",
       "    }\n",
       "\n",
       "    .dataframe thead th {\n",
       "        text-align: right;\n",
       "    }\n",
       "</style>\n",
       "<table border=\"1\" class=\"dataframe\">\n",
       "  <thead>\n",
       "    <tr style=\"text-align: right;\">\n",
       "      <th></th>\n",
       "      <th>id</th>\n",
       "      <th>mb_used</th>\n",
       "      <th>session_date</th>\n",
       "      <th>user_id</th>\n",
       "      <th>month</th>\n",
       "    </tr>\n",
       "  </thead>\n",
       "  <tbody>\n",
       "    <tr>\n",
       "      <th>0</th>\n",
       "      <td>1000_0</td>\n",
       "      <td>112.95</td>\n",
       "      <td>2018-11-25</td>\n",
       "      <td>1000</td>\n",
       "      <td>11</td>\n",
       "    </tr>\n",
       "    <tr>\n",
       "      <th>1</th>\n",
       "      <td>1000_1</td>\n",
       "      <td>1052.81</td>\n",
       "      <td>2018-09-07</td>\n",
       "      <td>1000</td>\n",
       "      <td>9</td>\n",
       "    </tr>\n",
       "    <tr>\n",
       "      <th>2</th>\n",
       "      <td>1000_2</td>\n",
       "      <td>1197.26</td>\n",
       "      <td>2018-06-25</td>\n",
       "      <td>1000</td>\n",
       "      <td>6</td>\n",
       "    </tr>\n",
       "    <tr>\n",
       "      <th>3</th>\n",
       "      <td>1000_3</td>\n",
       "      <td>550.27</td>\n",
       "      <td>2018-08-22</td>\n",
       "      <td>1000</td>\n",
       "      <td>8</td>\n",
       "    </tr>\n",
       "    <tr>\n",
       "      <th>4</th>\n",
       "      <td>1000_4</td>\n",
       "      <td>302.56</td>\n",
       "      <td>2018-09-24</td>\n",
       "      <td>1000</td>\n",
       "      <td>9</td>\n",
       "    </tr>\n",
       "  </tbody>\n",
       "</table>\n",
       "</div>"
      ],
      "text/plain": [
       "       id  mb_used session_date  user_id  month\n",
       "0  1000_0   112.95   2018-11-25     1000     11\n",
       "1  1000_1  1052.81   2018-09-07     1000      9\n",
       "2  1000_2  1197.26   2018-06-25     1000      6\n",
       "3  1000_3   550.27   2018-08-22     1000      8\n",
       "4  1000_4   302.56   2018-09-24     1000      9"
      ]
     },
     "execution_count": 19,
     "metadata": {},
     "output_type": "execute_result"
    }
   ],
   "source": [
    "#добавим столбец\n",
    "internet['month'] = internet['session_date'].dt.month\n",
    "internet.head()"
   ]
  },
  {
   "cell_type": "markdown",
   "metadata": {},
   "source": [
    "Наконец, сообщения!"
   ]
  },
  {
   "cell_type": "code",
   "execution_count": 20,
   "metadata": {},
   "outputs": [
    {
     "data": {
      "text/plain": [
       "count                           123036\n",
       "mean     2018-09-04 15:28:42.227640576\n",
       "min                2018-01-02 00:00:00\n",
       "25%                2018-07-09 00:00:00\n",
       "50%                2018-09-20 00:00:00\n",
       "75%                2018-11-14 00:00:00\n",
       "max                2018-12-31 00:00:00\n",
       "Name: message_date, dtype: object"
      ]
     },
     "execution_count": 20,
     "metadata": {},
     "output_type": "execute_result"
    }
   ],
   "source": [
    "#проверим год\n",
    "messages['message_date'].describe(datetime_is_numeric=True)"
   ]
  },
  {
   "cell_type": "code",
   "execution_count": 21,
   "metadata": {
    "scrolled": true
   },
   "outputs": [
    {
     "data": {
      "text/html": [
       "<div>\n",
       "<style scoped>\n",
       "    .dataframe tbody tr th:only-of-type {\n",
       "        vertical-align: middle;\n",
       "    }\n",
       "\n",
       "    .dataframe tbody tr th {\n",
       "        vertical-align: top;\n",
       "    }\n",
       "\n",
       "    .dataframe thead th {\n",
       "        text-align: right;\n",
       "    }\n",
       "</style>\n",
       "<table border=\"1\" class=\"dataframe\">\n",
       "  <thead>\n",
       "    <tr style=\"text-align: right;\">\n",
       "      <th></th>\n",
       "      <th>id</th>\n",
       "      <th>message_date</th>\n",
       "      <th>user_id</th>\n",
       "      <th>month</th>\n",
       "    </tr>\n",
       "  </thead>\n",
       "  <tbody>\n",
       "    <tr>\n",
       "      <th>0</th>\n",
       "      <td>1000_0</td>\n",
       "      <td>2018-06-27</td>\n",
       "      <td>1000</td>\n",
       "      <td>6</td>\n",
       "    </tr>\n",
       "    <tr>\n",
       "      <th>1</th>\n",
       "      <td>1000_1</td>\n",
       "      <td>2018-10-08</td>\n",
       "      <td>1000</td>\n",
       "      <td>10</td>\n",
       "    </tr>\n",
       "    <tr>\n",
       "      <th>2</th>\n",
       "      <td>1000_2</td>\n",
       "      <td>2018-08-04</td>\n",
       "      <td>1000</td>\n",
       "      <td>8</td>\n",
       "    </tr>\n",
       "    <tr>\n",
       "      <th>3</th>\n",
       "      <td>1000_3</td>\n",
       "      <td>2018-06-16</td>\n",
       "      <td>1000</td>\n",
       "      <td>6</td>\n",
       "    </tr>\n",
       "    <tr>\n",
       "      <th>4</th>\n",
       "      <td>1000_4</td>\n",
       "      <td>2018-12-05</td>\n",
       "      <td>1000</td>\n",
       "      <td>12</td>\n",
       "    </tr>\n",
       "  </tbody>\n",
       "</table>\n",
       "</div>"
      ],
      "text/plain": [
       "       id message_date  user_id  month\n",
       "0  1000_0   2018-06-27     1000      6\n",
       "1  1000_1   2018-10-08     1000     10\n",
       "2  1000_2   2018-08-04     1000      8\n",
       "3  1000_3   2018-06-16     1000      6\n",
       "4  1000_4   2018-12-05     1000     12"
      ]
     },
     "execution_count": 21,
     "metadata": {},
     "output_type": "execute_result"
    }
   ],
   "source": [
    "#добавим столбец\n",
    "messages['month'] = messages['message_date'].dt.month\n",
    "messages.head()"
   ]
  },
  {
   "cell_type": "markdown",
   "metadata": {},
   "source": [
    "#### Считаем звонки и минуты"
   ]
  },
  {
   "cell_type": "markdown",
   "metadata": {},
   "source": [
    "Первым делом займемся звонками. Создадим сводную таблицу с количеством вызовов по месяцам, но исключим при этом звонки нулевой длины, т.к. пропущенные звонки нас не интересуют."
   ]
  },
  {
   "cell_type": "code",
   "execution_count": 22,
   "metadata": {
    "scrolled": true
   },
   "outputs": [
    {
     "data": {
      "text/html": [
       "<div>\n",
       "<style scoped>\n",
       "    .dataframe tbody tr th:only-of-type {\n",
       "        vertical-align: middle;\n",
       "    }\n",
       "\n",
       "    .dataframe tbody tr th {\n",
       "        vertical-align: top;\n",
       "    }\n",
       "\n",
       "    .dataframe thead th {\n",
       "        text-align: right;\n",
       "    }\n",
       "</style>\n",
       "<table border=\"1\" class=\"dataframe\">\n",
       "  <thead>\n",
       "    <tr style=\"text-align: right;\">\n",
       "      <th></th>\n",
       "      <th>user_id</th>\n",
       "      <th>month</th>\n",
       "      <th>rounded_duration</th>\n",
       "    </tr>\n",
       "  </thead>\n",
       "  <tbody>\n",
       "    <tr>\n",
       "      <th>0</th>\n",
       "      <td>1000</td>\n",
       "      <td>5</td>\n",
       "      <td>17</td>\n",
       "    </tr>\n",
       "    <tr>\n",
       "      <th>1</th>\n",
       "      <td>1000</td>\n",
       "      <td>6</td>\n",
       "      <td>28</td>\n",
       "    </tr>\n",
       "    <tr>\n",
       "      <th>2</th>\n",
       "      <td>1000</td>\n",
       "      <td>7</td>\n",
       "      <td>41</td>\n",
       "    </tr>\n",
       "    <tr>\n",
       "      <th>3</th>\n",
       "      <td>1000</td>\n",
       "      <td>8</td>\n",
       "      <td>42</td>\n",
       "    </tr>\n",
       "    <tr>\n",
       "      <th>4</th>\n",
       "      <td>1000</td>\n",
       "      <td>9</td>\n",
       "      <td>46</td>\n",
       "    </tr>\n",
       "  </tbody>\n",
       "</table>\n",
       "</div>"
      ],
      "text/plain": [
       "   user_id  month  rounded_duration\n",
       "0     1000      5                17\n",
       "1     1000      6                28\n",
       "2     1000      7                41\n",
       "3     1000      8                42\n",
       "4     1000      9                46"
      ]
     },
     "execution_count": 22,
     "metadata": {},
     "output_type": "execute_result"
    }
   ],
   "source": [
    "#замутим сводую таблицу, не забыв отмести входящие звонки\n",
    "calls_count = (calls\n",
    "               .query('rounded_duration > 0')\n",
    "               .pivot_table(index=['user_id', 'month'], \n",
    "                            values='rounded_duration', \n",
    "                            aggfunc='count')\n",
    "               .reset_index()\n",
    "               .copy()\n",
    "              )\n",
    "#добавим\n",
    "calls_count.head()"
   ]
  },
  {
   "cell_type": "markdown",
   "metadata": {},
   "source": [
    "Как-то так"
   ]
  },
  {
   "cell_type": "markdown",
   "metadata": {},
   "source": [
    "С количеством звонков разобрались. Посчитаем израсходованные минуты по месяцам, не забыв, что вызовы мы уже округлили. Сохраним это в отдельную сводную таблицу."
   ]
  },
  {
   "cell_type": "code",
   "execution_count": 23,
   "metadata": {},
   "outputs": [
    {
     "data": {
      "text/html": [
       "<div>\n",
       "<style scoped>\n",
       "    .dataframe tbody tr th:only-of-type {\n",
       "        vertical-align: middle;\n",
       "    }\n",
       "\n",
       "    .dataframe tbody tr th {\n",
       "        vertical-align: top;\n",
       "    }\n",
       "\n",
       "    .dataframe thead th {\n",
       "        text-align: right;\n",
       "    }\n",
       "</style>\n",
       "<table border=\"1\" class=\"dataframe\">\n",
       "  <thead>\n",
       "    <tr style=\"text-align: right;\">\n",
       "      <th></th>\n",
       "      <th>user_id</th>\n",
       "      <th>month</th>\n",
       "      <th>rounded_duration</th>\n",
       "    </tr>\n",
       "  </thead>\n",
       "  <tbody>\n",
       "    <tr>\n",
       "      <th>0</th>\n",
       "      <td>1000</td>\n",
       "      <td>5</td>\n",
       "      <td>159</td>\n",
       "    </tr>\n",
       "    <tr>\n",
       "      <th>1</th>\n",
       "      <td>1000</td>\n",
       "      <td>6</td>\n",
       "      <td>172</td>\n",
       "    </tr>\n",
       "    <tr>\n",
       "      <th>2</th>\n",
       "      <td>1000</td>\n",
       "      <td>7</td>\n",
       "      <td>340</td>\n",
       "    </tr>\n",
       "    <tr>\n",
       "      <th>3</th>\n",
       "      <td>1000</td>\n",
       "      <td>8</td>\n",
       "      <td>408</td>\n",
       "    </tr>\n",
       "    <tr>\n",
       "      <th>4</th>\n",
       "      <td>1000</td>\n",
       "      <td>9</td>\n",
       "      <td>466</td>\n",
       "    </tr>\n",
       "  </tbody>\n",
       "</table>\n",
       "</div>"
      ],
      "text/plain": [
       "   user_id  month  rounded_duration\n",
       "0     1000      5               159\n",
       "1     1000      6               172\n",
       "2     1000      7               340\n",
       "3     1000      8               408\n",
       "4     1000      9               466"
      ]
     },
     "execution_count": 23,
     "metadata": {},
     "output_type": "execute_result"
    }
   ],
   "source": [
    "#создадим сводную таблицу с продолжительностью вызовов\n",
    "calls_duration = (calls\n",
    "                  .pivot_table(index=['user_id', 'month'], \n",
    "                               values='rounded_duration', \n",
    "                               aggfunc='sum')\n",
    "                  .reset_index()\n",
    "                  .copy()\n",
    "                 )\n",
    "calls_duration.head()"
   ]
  },
  {
   "cell_type": "markdown",
   "metadata": {},
   "source": [
    "#### Считаем гиги\n",
    "Узнаем, кто из наших клиентов активные пользователи интернета, а кому не нужон ваш интернет. Не забудем, что данные в мегабайтах, а округление проиходит в конце расчетного периода и до гигабайта. Интересуют нас также гигабайты. "
   ]
  },
  {
   "cell_type": "code",
   "execution_count": 24,
   "metadata": {},
   "outputs": [
    {
     "data": {
      "text/html": [
       "<div>\n",
       "<style scoped>\n",
       "    .dataframe tbody tr th:only-of-type {\n",
       "        vertical-align: middle;\n",
       "    }\n",
       "\n",
       "    .dataframe tbody tr th {\n",
       "        vertical-align: top;\n",
       "    }\n",
       "\n",
       "    .dataframe thead th {\n",
       "        text-align: right;\n",
       "    }\n",
       "</style>\n",
       "<table border=\"1\" class=\"dataframe\">\n",
       "  <thead>\n",
       "    <tr style=\"text-align: right;\">\n",
       "      <th></th>\n",
       "      <th>user_id</th>\n",
       "      <th>month</th>\n",
       "      <th>gb_used</th>\n",
       "    </tr>\n",
       "  </thead>\n",
       "  <tbody>\n",
       "    <tr>\n",
       "      <th>0</th>\n",
       "      <td>1000</td>\n",
       "      <td>5</td>\n",
       "      <td>3</td>\n",
       "    </tr>\n",
       "    <tr>\n",
       "      <th>1</th>\n",
       "      <td>1000</td>\n",
       "      <td>6</td>\n",
       "      <td>23</td>\n",
       "    </tr>\n",
       "    <tr>\n",
       "      <th>2</th>\n",
       "      <td>1000</td>\n",
       "      <td>7</td>\n",
       "      <td>14</td>\n",
       "    </tr>\n",
       "    <tr>\n",
       "      <th>3</th>\n",
       "      <td>1000</td>\n",
       "      <td>8</td>\n",
       "      <td>14</td>\n",
       "    </tr>\n",
       "    <tr>\n",
       "      <th>4</th>\n",
       "      <td>1000</td>\n",
       "      <td>9</td>\n",
       "      <td>15</td>\n",
       "    </tr>\n",
       "  </tbody>\n",
       "</table>\n",
       "</div>"
      ],
      "text/plain": [
       "   user_id  month  gb_used\n",
       "0     1000      5        3\n",
       "1     1000      6       23\n",
       "2     1000      7       14\n",
       "3     1000      8       14\n",
       "4     1000      9       15"
      ]
     },
     "execution_count": 24,
     "metadata": {},
     "output_type": "execute_result"
    }
   ],
   "source": [
    "#создадим сводную таблицу с мегабайтами по месяцам\n",
    "internet_count = (internet\n",
    "                  .pivot_table(index=['user_id', 'month'], \n",
    "                               values='mb_used', \n",
    "                               aggfunc='sum')\n",
    "                  .reset_index()\n",
    "                  .copy()\n",
    "                 )\n",
    "\n",
    "#время округлений\n",
    "internet_count['gb_used'] = np.ceil(internet_count['mb_used'] / 1024).astype('int')\n",
    "internet_count = internet_count.drop('mb_used', axis=1)\n",
    "\n",
    "internet_count.head()"
   ]
  },
  {
   "cell_type": "markdown",
   "metadata": {},
   "source": [
    "А вот и гигабайты!"
   ]
  },
  {
   "cell_type": "markdown",
   "metadata": {},
   "source": [
    "#### Считаем сообщения\n",
    "Собственно, приступим."
   ]
  },
  {
   "cell_type": "code",
   "execution_count": 25,
   "metadata": {},
   "outputs": [
    {
     "data": {
      "text/html": [
       "<div>\n",
       "<style scoped>\n",
       "    .dataframe tbody tr th:only-of-type {\n",
       "        vertical-align: middle;\n",
       "    }\n",
       "\n",
       "    .dataframe tbody tr th {\n",
       "        vertical-align: top;\n",
       "    }\n",
       "\n",
       "    .dataframe thead th {\n",
       "        text-align: right;\n",
       "    }\n",
       "</style>\n",
       "<table border=\"1\" class=\"dataframe\">\n",
       "  <thead>\n",
       "    <tr style=\"text-align: right;\">\n",
       "      <th></th>\n",
       "      <th>user_id</th>\n",
       "      <th>month</th>\n",
       "      <th>id</th>\n",
       "    </tr>\n",
       "  </thead>\n",
       "  <tbody>\n",
       "    <tr>\n",
       "      <th>0</th>\n",
       "      <td>1000</td>\n",
       "      <td>5</td>\n",
       "      <td>22</td>\n",
       "    </tr>\n",
       "    <tr>\n",
       "      <th>1</th>\n",
       "      <td>1000</td>\n",
       "      <td>6</td>\n",
       "      <td>60</td>\n",
       "    </tr>\n",
       "    <tr>\n",
       "      <th>2</th>\n",
       "      <td>1000</td>\n",
       "      <td>7</td>\n",
       "      <td>75</td>\n",
       "    </tr>\n",
       "    <tr>\n",
       "      <th>3</th>\n",
       "      <td>1000</td>\n",
       "      <td>8</td>\n",
       "      <td>81</td>\n",
       "    </tr>\n",
       "    <tr>\n",
       "      <th>4</th>\n",
       "      <td>1000</td>\n",
       "      <td>9</td>\n",
       "      <td>57</td>\n",
       "    </tr>\n",
       "  </tbody>\n",
       "</table>\n",
       "</div>"
      ],
      "text/plain": [
       "   user_id  month  id\n",
       "0     1000      5  22\n",
       "1     1000      6  60\n",
       "2     1000      7  75\n",
       "3     1000      8  81\n",
       "4     1000      9  57"
      ]
     },
     "execution_count": 25,
     "metadata": {},
     "output_type": "execute_result"
    }
   ],
   "source": [
    "messages_count = (messages\n",
    "                  .pivot_table(index=['user_id', 'month'], \n",
    "                               values='id', \n",
    "                               aggfunc='count')\n",
    "                  .reset_index()\n",
    "                  .copy()\n",
    "                 )\n",
    "messages_count.head()"
   ]
  },
  {
   "cell_type": "markdown",
   "metadata": {},
   "source": [
    "С смс разобрались"
   ]
  },
  {
   "cell_type": "markdown",
   "metadata": {},
   "source": [
    "#### Считаем деньги\n",
    "Сейчас необходимо помесячно оценить, хватает ли клиентам минут, гигов и сообщений из их тарифа, покупают ли они дополнительные пакеты и сколько вообще тратят на связь."
   ]
  },
  {
   "cell_type": "markdown",
   "metadata": {},
   "source": [
    "##### Минуты\n",
    "Начнем разбираться с минутами. Слепим огромную таблицу из всех и посчитаем сколько денег ежедмесячно тратят на звонки абоненты. Запишем эти значения в столбец `total_mins_overpay`. Делить на тарифы не будем. Вместо этого создадим функцию, которая рассчитает переплату за любой вид услуг, используя информацию из таблицы `tariffs`."
   ]
  },
  {
   "cell_type": "code",
   "execution_count": 26,
   "metadata": {},
   "outputs": [
    {
     "data": {
      "text/html": [
       "<div>\n",
       "<style scoped>\n",
       "    .dataframe tbody tr th:only-of-type {\n",
       "        vertical-align: middle;\n",
       "    }\n",
       "\n",
       "    .dataframe tbody tr th {\n",
       "        vertical-align: top;\n",
       "    }\n",
       "\n",
       "    .dataframe thead th {\n",
       "        text-align: right;\n",
       "    }\n",
       "</style>\n",
       "<table border=\"1\" class=\"dataframe\">\n",
       "  <thead>\n",
       "    <tr style=\"text-align: right;\">\n",
       "      <th></th>\n",
       "      <th>user_id</th>\n",
       "      <th>month</th>\n",
       "      <th>rounded_duration</th>\n",
       "      <th>gb_used</th>\n",
       "      <th>messages_sent</th>\n",
       "      <th>tariff</th>\n",
       "      <th>messages_included</th>\n",
       "      <th>gb_per_month_included</th>\n",
       "      <th>minutes_included</th>\n",
       "      <th>rub_monthly_fee</th>\n",
       "      <th>rub_per_gb</th>\n",
       "      <th>rub_per_message</th>\n",
       "      <th>rub_per_minute</th>\n",
       "      <th>tariff_name</th>\n",
       "    </tr>\n",
       "  </thead>\n",
       "  <tbody>\n",
       "    <tr>\n",
       "      <th>0</th>\n",
       "      <td>1000</td>\n",
       "      <td>5</td>\n",
       "      <td>159.0</td>\n",
       "      <td>3.0</td>\n",
       "      <td>22.0</td>\n",
       "      <td>ultra</td>\n",
       "      <td>1000</td>\n",
       "      <td>30</td>\n",
       "      <td>3000</td>\n",
       "      <td>1950</td>\n",
       "      <td>150</td>\n",
       "      <td>1</td>\n",
       "      <td>1</td>\n",
       "      <td>ultra</td>\n",
       "    </tr>\n",
       "    <tr>\n",
       "      <th>1</th>\n",
       "      <td>1000</td>\n",
       "      <td>6</td>\n",
       "      <td>172.0</td>\n",
       "      <td>23.0</td>\n",
       "      <td>60.0</td>\n",
       "      <td>ultra</td>\n",
       "      <td>1000</td>\n",
       "      <td>30</td>\n",
       "      <td>3000</td>\n",
       "      <td>1950</td>\n",
       "      <td>150</td>\n",
       "      <td>1</td>\n",
       "      <td>1</td>\n",
       "      <td>ultra</td>\n",
       "    </tr>\n",
       "    <tr>\n",
       "      <th>2</th>\n",
       "      <td>1000</td>\n",
       "      <td>7</td>\n",
       "      <td>340.0</td>\n",
       "      <td>14.0</td>\n",
       "      <td>75.0</td>\n",
       "      <td>ultra</td>\n",
       "      <td>1000</td>\n",
       "      <td>30</td>\n",
       "      <td>3000</td>\n",
       "      <td>1950</td>\n",
       "      <td>150</td>\n",
       "      <td>1</td>\n",
       "      <td>1</td>\n",
       "      <td>ultra</td>\n",
       "    </tr>\n",
       "    <tr>\n",
       "      <th>3</th>\n",
       "      <td>1000</td>\n",
       "      <td>8</td>\n",
       "      <td>408.0</td>\n",
       "      <td>14.0</td>\n",
       "      <td>81.0</td>\n",
       "      <td>ultra</td>\n",
       "      <td>1000</td>\n",
       "      <td>30</td>\n",
       "      <td>3000</td>\n",
       "      <td>1950</td>\n",
       "      <td>150</td>\n",
       "      <td>1</td>\n",
       "      <td>1</td>\n",
       "      <td>ultra</td>\n",
       "    </tr>\n",
       "    <tr>\n",
       "      <th>4</th>\n",
       "      <td>1000</td>\n",
       "      <td>9</td>\n",
       "      <td>466.0</td>\n",
       "      <td>15.0</td>\n",
       "      <td>57.0</td>\n",
       "      <td>ultra</td>\n",
       "      <td>1000</td>\n",
       "      <td>30</td>\n",
       "      <td>3000</td>\n",
       "      <td>1950</td>\n",
       "      <td>150</td>\n",
       "      <td>1</td>\n",
       "      <td>1</td>\n",
       "      <td>ultra</td>\n",
       "    </tr>\n",
       "  </tbody>\n",
       "</table>\n",
       "</div>"
      ],
      "text/plain": [
       "   user_id  month  rounded_duration  gb_used  messages_sent tariff  \\\n",
       "0     1000      5             159.0      3.0           22.0  ultra   \n",
       "1     1000      6             172.0     23.0           60.0  ultra   \n",
       "2     1000      7             340.0     14.0           75.0  ultra   \n",
       "3     1000      8             408.0     14.0           81.0  ultra   \n",
       "4     1000      9             466.0     15.0           57.0  ultra   \n",
       "\n",
       "   messages_included  gb_per_month_included  minutes_included  \\\n",
       "0               1000                     30              3000   \n",
       "1               1000                     30              3000   \n",
       "2               1000                     30              3000   \n",
       "3               1000                     30              3000   \n",
       "4               1000                     30              3000   \n",
       "\n",
       "   rub_monthly_fee  rub_per_gb  rub_per_message  rub_per_minute tariff_name  \n",
       "0             1950         150                1               1       ultra  \n",
       "1             1950         150                1               1       ultra  \n",
       "2             1950         150                1               1       ultra  \n",
       "3             1950         150                1               1       ultra  \n",
       "4             1950         150                1               1       ultra  "
      ]
     },
     "execution_count": 26,
     "metadata": {},
     "output_type": "execute_result"
    }
   ],
   "source": [
    "#склеим все таблички в одну отсортируем по user_id и month и слегка подготовим данные\n",
    "total_df = (calls_duration\n",
    "            .merge(internet_count, \n",
    "                   on=['user_id', 'month'], \n",
    "                   how='outer')\n",
    "            .merge(messages_count, \n",
    "                   on=['user_id', 'month'], \n",
    "                   how='outer')\n",
    "            .merge(users[['user_id', 'tariff']], \n",
    "                   on='user_id', \n",
    "                   how='left')\n",
    "            .merge(tariffs, \n",
    "                   left_on='tariff', \n",
    "                   right_on='tariff_name', \n",
    "                   how='left')\n",
    "            .sort_values(by=['user_id', 'month'])\n",
    "           )\n",
    "\n",
    "#пофиксим названия колонок\n",
    "total_df = (total_df\n",
    "            .rename(columns={'id': 'messages_sent',\n",
    "                             'mb_per_month_included': 'gb_per_month_included'})\n",
    "           )\n",
    "#округлим до ГБ столбец gb_per_month_included\n",
    "total_df['gb_per_month_included'] = (total_df['gb_per_month_included'] / 1024).astype('int')\n",
    "total_df.head()"
   ]
  },
  {
   "cell_type": "code",
   "execution_count": 27,
   "metadata": {},
   "outputs": [],
   "source": [
    "#создадим функцию для посчета переплат за любой вид услуг\n",
    "def calculating_total(service_column, service_included_column, rub_per_item_column):\n",
    "    if service_column > service_included_column:\n",
    "        return (service_column - service_included_column) * rub_per_item_column\n",
    "    else:\n",
    "        return 0"
   ]
  },
  {
   "cell_type": "code",
   "execution_count": 28,
   "metadata": {},
   "outputs": [
    {
     "data": {
      "text/html": [
       "<div>\n",
       "<style scoped>\n",
       "    .dataframe tbody tr th:only-of-type {\n",
       "        vertical-align: middle;\n",
       "    }\n",
       "\n",
       "    .dataframe tbody tr th {\n",
       "        vertical-align: top;\n",
       "    }\n",
       "\n",
       "    .dataframe thead th {\n",
       "        text-align: right;\n",
       "    }\n",
       "</style>\n",
       "<table border=\"1\" class=\"dataframe\">\n",
       "  <thead>\n",
       "    <tr style=\"text-align: right;\">\n",
       "      <th></th>\n",
       "      <th>user_id</th>\n",
       "      <th>month</th>\n",
       "      <th>rounded_duration</th>\n",
       "      <th>gb_used</th>\n",
       "      <th>messages_sent</th>\n",
       "      <th>tariff</th>\n",
       "      <th>messages_included</th>\n",
       "      <th>gb_per_month_included</th>\n",
       "      <th>minutes_included</th>\n",
       "      <th>rub_monthly_fee</th>\n",
       "      <th>rub_per_gb</th>\n",
       "      <th>rub_per_message</th>\n",
       "      <th>rub_per_minute</th>\n",
       "      <th>tariff_name</th>\n",
       "      <th>total_mins_overpay</th>\n",
       "    </tr>\n",
       "  </thead>\n",
       "  <tbody>\n",
       "    <tr>\n",
       "      <th>3164</th>\n",
       "      <td>1497</td>\n",
       "      <td>11</td>\n",
       "      <td>371.0</td>\n",
       "      <td>14.0</td>\n",
       "      <td>14.0</td>\n",
       "      <td>smart</td>\n",
       "      <td>50</td>\n",
       "      <td>15</td>\n",
       "      <td>500</td>\n",
       "      <td>550</td>\n",
       "      <td>200</td>\n",
       "      <td>3</td>\n",
       "      <td>3</td>\n",
       "      <td>smart</td>\n",
       "      <td>0.0</td>\n",
       "    </tr>\n",
       "    <tr>\n",
       "      <th>3165</th>\n",
       "      <td>1497</td>\n",
       "      <td>12</td>\n",
       "      <td>545.0</td>\n",
       "      <td>20.0</td>\n",
       "      <td>17.0</td>\n",
       "      <td>smart</td>\n",
       "      <td>50</td>\n",
       "      <td>15</td>\n",
       "      <td>500</td>\n",
       "      <td>550</td>\n",
       "      <td>200</td>\n",
       "      <td>3</td>\n",
       "      <td>3</td>\n",
       "      <td>smart</td>\n",
       "      <td>135.0</td>\n",
       "    </tr>\n",
       "    <tr>\n",
       "      <th>3166</th>\n",
       "      <td>1498</td>\n",
       "      <td>7</td>\n",
       "      <td>175.0</td>\n",
       "      <td>8.0</td>\n",
       "      <td>20.0</td>\n",
       "      <td>smart</td>\n",
       "      <td>50</td>\n",
       "      <td>15</td>\n",
       "      <td>500</td>\n",
       "      <td>550</td>\n",
       "      <td>200</td>\n",
       "      <td>3</td>\n",
       "      <td>3</td>\n",
       "      <td>smart</td>\n",
       "      <td>0.0</td>\n",
       "    </tr>\n",
       "    <tr>\n",
       "      <th>3167</th>\n",
       "      <td>1498</td>\n",
       "      <td>8</td>\n",
       "      <td>400.0</td>\n",
       "      <td>24.0</td>\n",
       "      <td>62.0</td>\n",
       "      <td>smart</td>\n",
       "      <td>50</td>\n",
       "      <td>15</td>\n",
       "      <td>500</td>\n",
       "      <td>550</td>\n",
       "      <td>200</td>\n",
       "      <td>3</td>\n",
       "      <td>3</td>\n",
       "      <td>smart</td>\n",
       "      <td>0.0</td>\n",
       "    </tr>\n",
       "    <tr>\n",
       "      <th>3168</th>\n",
       "      <td>1498</td>\n",
       "      <td>9</td>\n",
       "      <td>471.0</td>\n",
       "      <td>22.0</td>\n",
       "      <td>44.0</td>\n",
       "      <td>smart</td>\n",
       "      <td>50</td>\n",
       "      <td>15</td>\n",
       "      <td>500</td>\n",
       "      <td>550</td>\n",
       "      <td>200</td>\n",
       "      <td>3</td>\n",
       "      <td>3</td>\n",
       "      <td>smart</td>\n",
       "      <td>0.0</td>\n",
       "    </tr>\n",
       "    <tr>\n",
       "      <th>3169</th>\n",
       "      <td>1498</td>\n",
       "      <td>10</td>\n",
       "      <td>247.0</td>\n",
       "      <td>21.0</td>\n",
       "      <td>42.0</td>\n",
       "      <td>smart</td>\n",
       "      <td>50</td>\n",
       "      <td>15</td>\n",
       "      <td>500</td>\n",
       "      <td>550</td>\n",
       "      <td>200</td>\n",
       "      <td>3</td>\n",
       "      <td>3</td>\n",
       "      <td>smart</td>\n",
       "      <td>0.0</td>\n",
       "    </tr>\n",
       "    <tr>\n",
       "      <th>3170</th>\n",
       "      <td>1499</td>\n",
       "      <td>9</td>\n",
       "      <td>70.0</td>\n",
       "      <td>2.0</td>\n",
       "      <td>11.0</td>\n",
       "      <td>smart</td>\n",
       "      <td>50</td>\n",
       "      <td>15</td>\n",
       "      <td>500</td>\n",
       "      <td>550</td>\n",
       "      <td>200</td>\n",
       "      <td>3</td>\n",
       "      <td>3</td>\n",
       "      <td>smart</td>\n",
       "      <td>0.0</td>\n",
       "    </tr>\n",
       "    <tr>\n",
       "      <th>3171</th>\n",
       "      <td>1499</td>\n",
       "      <td>10</td>\n",
       "      <td>449.0</td>\n",
       "      <td>18.0</td>\n",
       "      <td>48.0</td>\n",
       "      <td>smart</td>\n",
       "      <td>50</td>\n",
       "      <td>15</td>\n",
       "      <td>500</td>\n",
       "      <td>550</td>\n",
       "      <td>200</td>\n",
       "      <td>3</td>\n",
       "      <td>3</td>\n",
       "      <td>smart</td>\n",
       "      <td>0.0</td>\n",
       "    </tr>\n",
       "    <tr>\n",
       "      <th>3172</th>\n",
       "      <td>1499</td>\n",
       "      <td>11</td>\n",
       "      <td>612.0</td>\n",
       "      <td>18.0</td>\n",
       "      <td>59.0</td>\n",
       "      <td>smart</td>\n",
       "      <td>50</td>\n",
       "      <td>15</td>\n",
       "      <td>500</td>\n",
       "      <td>550</td>\n",
       "      <td>200</td>\n",
       "      <td>3</td>\n",
       "      <td>3</td>\n",
       "      <td>smart</td>\n",
       "      <td>336.0</td>\n",
       "    </tr>\n",
       "    <tr>\n",
       "      <th>3173</th>\n",
       "      <td>1499</td>\n",
       "      <td>12</td>\n",
       "      <td>492.0</td>\n",
       "      <td>13.0</td>\n",
       "      <td>66.0</td>\n",
       "      <td>smart</td>\n",
       "      <td>50</td>\n",
       "      <td>15</td>\n",
       "      <td>500</td>\n",
       "      <td>550</td>\n",
       "      <td>200</td>\n",
       "      <td>3</td>\n",
       "      <td>3</td>\n",
       "      <td>smart</td>\n",
       "      <td>0.0</td>\n",
       "    </tr>\n",
       "  </tbody>\n",
       "</table>\n",
       "</div>"
      ],
      "text/plain": [
       "      user_id  month  rounded_duration  gb_used  messages_sent tariff  \\\n",
       "3164     1497     11             371.0     14.0           14.0  smart   \n",
       "3165     1497     12             545.0     20.0           17.0  smart   \n",
       "3166     1498      7             175.0      8.0           20.0  smart   \n",
       "3167     1498      8             400.0     24.0           62.0  smart   \n",
       "3168     1498      9             471.0     22.0           44.0  smart   \n",
       "3169     1498     10             247.0     21.0           42.0  smart   \n",
       "3170     1499      9              70.0      2.0           11.0  smart   \n",
       "3171     1499     10             449.0     18.0           48.0  smart   \n",
       "3172     1499     11             612.0     18.0           59.0  smart   \n",
       "3173     1499     12             492.0     13.0           66.0  smart   \n",
       "\n",
       "      messages_included  gb_per_month_included  minutes_included  \\\n",
       "3164                 50                     15               500   \n",
       "3165                 50                     15               500   \n",
       "3166                 50                     15               500   \n",
       "3167                 50                     15               500   \n",
       "3168                 50                     15               500   \n",
       "3169                 50                     15               500   \n",
       "3170                 50                     15               500   \n",
       "3171                 50                     15               500   \n",
       "3172                 50                     15               500   \n",
       "3173                 50                     15               500   \n",
       "\n",
       "      rub_monthly_fee  rub_per_gb  rub_per_message  rub_per_minute  \\\n",
       "3164              550         200                3               3   \n",
       "3165              550         200                3               3   \n",
       "3166              550         200                3               3   \n",
       "3167              550         200                3               3   \n",
       "3168              550         200                3               3   \n",
       "3169              550         200                3               3   \n",
       "3170              550         200                3               3   \n",
       "3171              550         200                3               3   \n",
       "3172              550         200                3               3   \n",
       "3173              550         200                3               3   \n",
       "\n",
       "     tariff_name  total_mins_overpay  \n",
       "3164       smart                 0.0  \n",
       "3165       smart               135.0  \n",
       "3166       smart                 0.0  \n",
       "3167       smart                 0.0  \n",
       "3168       smart                 0.0  \n",
       "3169       smart                 0.0  \n",
       "3170       smart                 0.0  \n",
       "3171       smart                 0.0  \n",
       "3172       smart               336.0  \n",
       "3173       smart                 0.0  "
      ]
     },
     "execution_count": 28,
     "metadata": {},
     "output_type": "execute_result"
    }
   ],
   "source": [
    "#произведем рассчет\n",
    "total_df['total_mins_overpay'] = (total_df\n",
    "                                  .apply(lambda x:\n",
    "                                         calculating_total(x.rounded_duration,\n",
    "                                                            x.minutes_included,\n",
    "                                                            x.rub_per_minute),\n",
    "                                         axis=1)\n",
    "                                 )\n",
    "#выведем 10 последних строк, чтобы убедиться в качестве рассчетов\n",
    "total_df.tail(10)"
   ]
  },
  {
   "cell_type": "markdown",
   "metadata": {},
   "source": [
    "Невероятно! Столбец добавлен, расчеты произведены. На первый взгляд, на тарифе смарт включенных минут хватает не всем."
   ]
  },
  {
   "cell_type": "markdown",
   "metadata": {},
   "source": [
    "##### Гигабайты\n",
    "Поступим так же с данными по израсходованному интернет-траффику. Посчитаем помесячную переплату и сохраним в новом столбце."
   ]
  },
  {
   "cell_type": "code",
   "execution_count": 29,
   "metadata": {},
   "outputs": [
    {
     "data": {
      "text/html": [
       "<div>\n",
       "<style scoped>\n",
       "    .dataframe tbody tr th:only-of-type {\n",
       "        vertical-align: middle;\n",
       "    }\n",
       "\n",
       "    .dataframe tbody tr th {\n",
       "        vertical-align: top;\n",
       "    }\n",
       "\n",
       "    .dataframe thead th {\n",
       "        text-align: right;\n",
       "    }\n",
       "</style>\n",
       "<table border=\"1\" class=\"dataframe\">\n",
       "  <thead>\n",
       "    <tr style=\"text-align: right;\">\n",
       "      <th></th>\n",
       "      <th>user_id</th>\n",
       "      <th>month</th>\n",
       "      <th>rounded_duration</th>\n",
       "      <th>gb_used</th>\n",
       "      <th>messages_sent</th>\n",
       "      <th>tariff</th>\n",
       "      <th>messages_included</th>\n",
       "      <th>gb_per_month_included</th>\n",
       "      <th>minutes_included</th>\n",
       "      <th>rub_monthly_fee</th>\n",
       "      <th>rub_per_gb</th>\n",
       "      <th>rub_per_message</th>\n",
       "      <th>rub_per_minute</th>\n",
       "      <th>tariff_name</th>\n",
       "      <th>total_mins_overpay</th>\n",
       "      <th>total_gbs_overpay</th>\n",
       "    </tr>\n",
       "  </thead>\n",
       "  <tbody>\n",
       "    <tr>\n",
       "      <th>3164</th>\n",
       "      <td>1497</td>\n",
       "      <td>11</td>\n",
       "      <td>371.0</td>\n",
       "      <td>14.0</td>\n",
       "      <td>14.0</td>\n",
       "      <td>smart</td>\n",
       "      <td>50</td>\n",
       "      <td>15</td>\n",
       "      <td>500</td>\n",
       "      <td>550</td>\n",
       "      <td>200</td>\n",
       "      <td>3</td>\n",
       "      <td>3</td>\n",
       "      <td>smart</td>\n",
       "      <td>0.0</td>\n",
       "      <td>0.0</td>\n",
       "    </tr>\n",
       "    <tr>\n",
       "      <th>3165</th>\n",
       "      <td>1497</td>\n",
       "      <td>12</td>\n",
       "      <td>545.0</td>\n",
       "      <td>20.0</td>\n",
       "      <td>17.0</td>\n",
       "      <td>smart</td>\n",
       "      <td>50</td>\n",
       "      <td>15</td>\n",
       "      <td>500</td>\n",
       "      <td>550</td>\n",
       "      <td>200</td>\n",
       "      <td>3</td>\n",
       "      <td>3</td>\n",
       "      <td>smart</td>\n",
       "      <td>135.0</td>\n",
       "      <td>1000.0</td>\n",
       "    </tr>\n",
       "    <tr>\n",
       "      <th>3166</th>\n",
       "      <td>1498</td>\n",
       "      <td>7</td>\n",
       "      <td>175.0</td>\n",
       "      <td>8.0</td>\n",
       "      <td>20.0</td>\n",
       "      <td>smart</td>\n",
       "      <td>50</td>\n",
       "      <td>15</td>\n",
       "      <td>500</td>\n",
       "      <td>550</td>\n",
       "      <td>200</td>\n",
       "      <td>3</td>\n",
       "      <td>3</td>\n",
       "      <td>smart</td>\n",
       "      <td>0.0</td>\n",
       "      <td>0.0</td>\n",
       "    </tr>\n",
       "    <tr>\n",
       "      <th>3167</th>\n",
       "      <td>1498</td>\n",
       "      <td>8</td>\n",
       "      <td>400.0</td>\n",
       "      <td>24.0</td>\n",
       "      <td>62.0</td>\n",
       "      <td>smart</td>\n",
       "      <td>50</td>\n",
       "      <td>15</td>\n",
       "      <td>500</td>\n",
       "      <td>550</td>\n",
       "      <td>200</td>\n",
       "      <td>3</td>\n",
       "      <td>3</td>\n",
       "      <td>smart</td>\n",
       "      <td>0.0</td>\n",
       "      <td>1800.0</td>\n",
       "    </tr>\n",
       "    <tr>\n",
       "      <th>3168</th>\n",
       "      <td>1498</td>\n",
       "      <td>9</td>\n",
       "      <td>471.0</td>\n",
       "      <td>22.0</td>\n",
       "      <td>44.0</td>\n",
       "      <td>smart</td>\n",
       "      <td>50</td>\n",
       "      <td>15</td>\n",
       "      <td>500</td>\n",
       "      <td>550</td>\n",
       "      <td>200</td>\n",
       "      <td>3</td>\n",
       "      <td>3</td>\n",
       "      <td>smart</td>\n",
       "      <td>0.0</td>\n",
       "      <td>1400.0</td>\n",
       "    </tr>\n",
       "    <tr>\n",
       "      <th>3169</th>\n",
       "      <td>1498</td>\n",
       "      <td>10</td>\n",
       "      <td>247.0</td>\n",
       "      <td>21.0</td>\n",
       "      <td>42.0</td>\n",
       "      <td>smart</td>\n",
       "      <td>50</td>\n",
       "      <td>15</td>\n",
       "      <td>500</td>\n",
       "      <td>550</td>\n",
       "      <td>200</td>\n",
       "      <td>3</td>\n",
       "      <td>3</td>\n",
       "      <td>smart</td>\n",
       "      <td>0.0</td>\n",
       "      <td>1200.0</td>\n",
       "    </tr>\n",
       "    <tr>\n",
       "      <th>3170</th>\n",
       "      <td>1499</td>\n",
       "      <td>9</td>\n",
       "      <td>70.0</td>\n",
       "      <td>2.0</td>\n",
       "      <td>11.0</td>\n",
       "      <td>smart</td>\n",
       "      <td>50</td>\n",
       "      <td>15</td>\n",
       "      <td>500</td>\n",
       "      <td>550</td>\n",
       "      <td>200</td>\n",
       "      <td>3</td>\n",
       "      <td>3</td>\n",
       "      <td>smart</td>\n",
       "      <td>0.0</td>\n",
       "      <td>0.0</td>\n",
       "    </tr>\n",
       "    <tr>\n",
       "      <th>3171</th>\n",
       "      <td>1499</td>\n",
       "      <td>10</td>\n",
       "      <td>449.0</td>\n",
       "      <td>18.0</td>\n",
       "      <td>48.0</td>\n",
       "      <td>smart</td>\n",
       "      <td>50</td>\n",
       "      <td>15</td>\n",
       "      <td>500</td>\n",
       "      <td>550</td>\n",
       "      <td>200</td>\n",
       "      <td>3</td>\n",
       "      <td>3</td>\n",
       "      <td>smart</td>\n",
       "      <td>0.0</td>\n",
       "      <td>600.0</td>\n",
       "    </tr>\n",
       "    <tr>\n",
       "      <th>3172</th>\n",
       "      <td>1499</td>\n",
       "      <td>11</td>\n",
       "      <td>612.0</td>\n",
       "      <td>18.0</td>\n",
       "      <td>59.0</td>\n",
       "      <td>smart</td>\n",
       "      <td>50</td>\n",
       "      <td>15</td>\n",
       "      <td>500</td>\n",
       "      <td>550</td>\n",
       "      <td>200</td>\n",
       "      <td>3</td>\n",
       "      <td>3</td>\n",
       "      <td>smart</td>\n",
       "      <td>336.0</td>\n",
       "      <td>600.0</td>\n",
       "    </tr>\n",
       "    <tr>\n",
       "      <th>3173</th>\n",
       "      <td>1499</td>\n",
       "      <td>12</td>\n",
       "      <td>492.0</td>\n",
       "      <td>13.0</td>\n",
       "      <td>66.0</td>\n",
       "      <td>smart</td>\n",
       "      <td>50</td>\n",
       "      <td>15</td>\n",
       "      <td>500</td>\n",
       "      <td>550</td>\n",
       "      <td>200</td>\n",
       "      <td>3</td>\n",
       "      <td>3</td>\n",
       "      <td>smart</td>\n",
       "      <td>0.0</td>\n",
       "      <td>0.0</td>\n",
       "    </tr>\n",
       "  </tbody>\n",
       "</table>\n",
       "</div>"
      ],
      "text/plain": [
       "      user_id  month  rounded_duration  gb_used  messages_sent tariff  \\\n",
       "3164     1497     11             371.0     14.0           14.0  smart   \n",
       "3165     1497     12             545.0     20.0           17.0  smart   \n",
       "3166     1498      7             175.0      8.0           20.0  smart   \n",
       "3167     1498      8             400.0     24.0           62.0  smart   \n",
       "3168     1498      9             471.0     22.0           44.0  smart   \n",
       "3169     1498     10             247.0     21.0           42.0  smart   \n",
       "3170     1499      9              70.0      2.0           11.0  smart   \n",
       "3171     1499     10             449.0     18.0           48.0  smart   \n",
       "3172     1499     11             612.0     18.0           59.0  smart   \n",
       "3173     1499     12             492.0     13.0           66.0  smart   \n",
       "\n",
       "      messages_included  gb_per_month_included  minutes_included  \\\n",
       "3164                 50                     15               500   \n",
       "3165                 50                     15               500   \n",
       "3166                 50                     15               500   \n",
       "3167                 50                     15               500   \n",
       "3168                 50                     15               500   \n",
       "3169                 50                     15               500   \n",
       "3170                 50                     15               500   \n",
       "3171                 50                     15               500   \n",
       "3172                 50                     15               500   \n",
       "3173                 50                     15               500   \n",
       "\n",
       "      rub_monthly_fee  rub_per_gb  rub_per_message  rub_per_minute  \\\n",
       "3164              550         200                3               3   \n",
       "3165              550         200                3               3   \n",
       "3166              550         200                3               3   \n",
       "3167              550         200                3               3   \n",
       "3168              550         200                3               3   \n",
       "3169              550         200                3               3   \n",
       "3170              550         200                3               3   \n",
       "3171              550         200                3               3   \n",
       "3172              550         200                3               3   \n",
       "3173              550         200                3               3   \n",
       "\n",
       "     tariff_name  total_mins_overpay  total_gbs_overpay  \n",
       "3164       smart                 0.0                0.0  \n",
       "3165       smart               135.0             1000.0  \n",
       "3166       smart                 0.0                0.0  \n",
       "3167       smart                 0.0             1800.0  \n",
       "3168       smart                 0.0             1400.0  \n",
       "3169       smart                 0.0             1200.0  \n",
       "3170       smart                 0.0                0.0  \n",
       "3171       smart                 0.0              600.0  \n",
       "3172       smart               336.0              600.0  \n",
       "3173       smart                 0.0                0.0  "
      ]
     },
     "execution_count": 29,
     "metadata": {},
     "output_type": "execute_result"
    }
   ],
   "source": [
    "#произведем рассчет, столбцы про интернет\n",
    "total_df['total_gbs_overpay'] = (total_df\n",
    "                                  .apply(lambda x:\n",
    "                                         calculating_total(x.gb_used,\n",
    "                                                            x.gb_per_month_included,\n",
    "                                                            x.rub_per_gb),\n",
    "                                         axis=1)\n",
    "                                )\n",
    "#выведем 10 последних строк, чтобы убедиться в качестве рассчетов\n",
    "total_df.tail(10)"
   ]
  },
  {
   "cell_type": "markdown",
   "metadata": {},
   "source": [
    "Тадам! Ага, кому-то не хватает предоплаченных гигов!"
   ]
  },
  {
   "cell_type": "markdown",
   "metadata": {},
   "source": [
    "##### Сообщения\n",
    "Не будем оригинальны с сообщениями."
   ]
  },
  {
   "cell_type": "code",
   "execution_count": 30,
   "metadata": {},
   "outputs": [
    {
     "data": {
      "text/html": [
       "<div>\n",
       "<style scoped>\n",
       "    .dataframe tbody tr th:only-of-type {\n",
       "        vertical-align: middle;\n",
       "    }\n",
       "\n",
       "    .dataframe tbody tr th {\n",
       "        vertical-align: top;\n",
       "    }\n",
       "\n",
       "    .dataframe thead th {\n",
       "        text-align: right;\n",
       "    }\n",
       "</style>\n",
       "<table border=\"1\" class=\"dataframe\">\n",
       "  <thead>\n",
       "    <tr style=\"text-align: right;\">\n",
       "      <th></th>\n",
       "      <th>user_id</th>\n",
       "      <th>month</th>\n",
       "      <th>rounded_duration</th>\n",
       "      <th>gb_used</th>\n",
       "      <th>messages_sent</th>\n",
       "      <th>tariff</th>\n",
       "      <th>messages_included</th>\n",
       "      <th>gb_per_month_included</th>\n",
       "      <th>minutes_included</th>\n",
       "      <th>rub_monthly_fee</th>\n",
       "      <th>rub_per_gb</th>\n",
       "      <th>rub_per_message</th>\n",
       "      <th>rub_per_minute</th>\n",
       "      <th>tariff_name</th>\n",
       "      <th>total_mins_overpay</th>\n",
       "      <th>total_gbs_overpay</th>\n",
       "      <th>total_sms_overpay</th>\n",
       "    </tr>\n",
       "  </thead>\n",
       "  <tbody>\n",
       "    <tr>\n",
       "      <th>3164</th>\n",
       "      <td>1497</td>\n",
       "      <td>11</td>\n",
       "      <td>371.0</td>\n",
       "      <td>14.0</td>\n",
       "      <td>14.0</td>\n",
       "      <td>smart</td>\n",
       "      <td>50</td>\n",
       "      <td>15</td>\n",
       "      <td>500</td>\n",
       "      <td>550</td>\n",
       "      <td>200</td>\n",
       "      <td>3</td>\n",
       "      <td>3</td>\n",
       "      <td>smart</td>\n",
       "      <td>0.0</td>\n",
       "      <td>0.0</td>\n",
       "      <td>0.0</td>\n",
       "    </tr>\n",
       "    <tr>\n",
       "      <th>3165</th>\n",
       "      <td>1497</td>\n",
       "      <td>12</td>\n",
       "      <td>545.0</td>\n",
       "      <td>20.0</td>\n",
       "      <td>17.0</td>\n",
       "      <td>smart</td>\n",
       "      <td>50</td>\n",
       "      <td>15</td>\n",
       "      <td>500</td>\n",
       "      <td>550</td>\n",
       "      <td>200</td>\n",
       "      <td>3</td>\n",
       "      <td>3</td>\n",
       "      <td>smart</td>\n",
       "      <td>135.0</td>\n",
       "      <td>1000.0</td>\n",
       "      <td>0.0</td>\n",
       "    </tr>\n",
       "    <tr>\n",
       "      <th>3166</th>\n",
       "      <td>1498</td>\n",
       "      <td>7</td>\n",
       "      <td>175.0</td>\n",
       "      <td>8.0</td>\n",
       "      <td>20.0</td>\n",
       "      <td>smart</td>\n",
       "      <td>50</td>\n",
       "      <td>15</td>\n",
       "      <td>500</td>\n",
       "      <td>550</td>\n",
       "      <td>200</td>\n",
       "      <td>3</td>\n",
       "      <td>3</td>\n",
       "      <td>smart</td>\n",
       "      <td>0.0</td>\n",
       "      <td>0.0</td>\n",
       "      <td>0.0</td>\n",
       "    </tr>\n",
       "    <tr>\n",
       "      <th>3167</th>\n",
       "      <td>1498</td>\n",
       "      <td>8</td>\n",
       "      <td>400.0</td>\n",
       "      <td>24.0</td>\n",
       "      <td>62.0</td>\n",
       "      <td>smart</td>\n",
       "      <td>50</td>\n",
       "      <td>15</td>\n",
       "      <td>500</td>\n",
       "      <td>550</td>\n",
       "      <td>200</td>\n",
       "      <td>3</td>\n",
       "      <td>3</td>\n",
       "      <td>smart</td>\n",
       "      <td>0.0</td>\n",
       "      <td>1800.0</td>\n",
       "      <td>36.0</td>\n",
       "    </tr>\n",
       "    <tr>\n",
       "      <th>3168</th>\n",
       "      <td>1498</td>\n",
       "      <td>9</td>\n",
       "      <td>471.0</td>\n",
       "      <td>22.0</td>\n",
       "      <td>44.0</td>\n",
       "      <td>smart</td>\n",
       "      <td>50</td>\n",
       "      <td>15</td>\n",
       "      <td>500</td>\n",
       "      <td>550</td>\n",
       "      <td>200</td>\n",
       "      <td>3</td>\n",
       "      <td>3</td>\n",
       "      <td>smart</td>\n",
       "      <td>0.0</td>\n",
       "      <td>1400.0</td>\n",
       "      <td>0.0</td>\n",
       "    </tr>\n",
       "    <tr>\n",
       "      <th>3169</th>\n",
       "      <td>1498</td>\n",
       "      <td>10</td>\n",
       "      <td>247.0</td>\n",
       "      <td>21.0</td>\n",
       "      <td>42.0</td>\n",
       "      <td>smart</td>\n",
       "      <td>50</td>\n",
       "      <td>15</td>\n",
       "      <td>500</td>\n",
       "      <td>550</td>\n",
       "      <td>200</td>\n",
       "      <td>3</td>\n",
       "      <td>3</td>\n",
       "      <td>smart</td>\n",
       "      <td>0.0</td>\n",
       "      <td>1200.0</td>\n",
       "      <td>0.0</td>\n",
       "    </tr>\n",
       "    <tr>\n",
       "      <th>3170</th>\n",
       "      <td>1499</td>\n",
       "      <td>9</td>\n",
       "      <td>70.0</td>\n",
       "      <td>2.0</td>\n",
       "      <td>11.0</td>\n",
       "      <td>smart</td>\n",
       "      <td>50</td>\n",
       "      <td>15</td>\n",
       "      <td>500</td>\n",
       "      <td>550</td>\n",
       "      <td>200</td>\n",
       "      <td>3</td>\n",
       "      <td>3</td>\n",
       "      <td>smart</td>\n",
       "      <td>0.0</td>\n",
       "      <td>0.0</td>\n",
       "      <td>0.0</td>\n",
       "    </tr>\n",
       "    <tr>\n",
       "      <th>3171</th>\n",
       "      <td>1499</td>\n",
       "      <td>10</td>\n",
       "      <td>449.0</td>\n",
       "      <td>18.0</td>\n",
       "      <td>48.0</td>\n",
       "      <td>smart</td>\n",
       "      <td>50</td>\n",
       "      <td>15</td>\n",
       "      <td>500</td>\n",
       "      <td>550</td>\n",
       "      <td>200</td>\n",
       "      <td>3</td>\n",
       "      <td>3</td>\n",
       "      <td>smart</td>\n",
       "      <td>0.0</td>\n",
       "      <td>600.0</td>\n",
       "      <td>0.0</td>\n",
       "    </tr>\n",
       "    <tr>\n",
       "      <th>3172</th>\n",
       "      <td>1499</td>\n",
       "      <td>11</td>\n",
       "      <td>612.0</td>\n",
       "      <td>18.0</td>\n",
       "      <td>59.0</td>\n",
       "      <td>smart</td>\n",
       "      <td>50</td>\n",
       "      <td>15</td>\n",
       "      <td>500</td>\n",
       "      <td>550</td>\n",
       "      <td>200</td>\n",
       "      <td>3</td>\n",
       "      <td>3</td>\n",
       "      <td>smart</td>\n",
       "      <td>336.0</td>\n",
       "      <td>600.0</td>\n",
       "      <td>27.0</td>\n",
       "    </tr>\n",
       "    <tr>\n",
       "      <th>3173</th>\n",
       "      <td>1499</td>\n",
       "      <td>12</td>\n",
       "      <td>492.0</td>\n",
       "      <td>13.0</td>\n",
       "      <td>66.0</td>\n",
       "      <td>smart</td>\n",
       "      <td>50</td>\n",
       "      <td>15</td>\n",
       "      <td>500</td>\n",
       "      <td>550</td>\n",
       "      <td>200</td>\n",
       "      <td>3</td>\n",
       "      <td>3</td>\n",
       "      <td>smart</td>\n",
       "      <td>0.0</td>\n",
       "      <td>0.0</td>\n",
       "      <td>48.0</td>\n",
       "    </tr>\n",
       "  </tbody>\n",
       "</table>\n",
       "</div>"
      ],
      "text/plain": [
       "      user_id  month  rounded_duration  gb_used  messages_sent tariff  \\\n",
       "3164     1497     11             371.0     14.0           14.0  smart   \n",
       "3165     1497     12             545.0     20.0           17.0  smart   \n",
       "3166     1498      7             175.0      8.0           20.0  smart   \n",
       "3167     1498      8             400.0     24.0           62.0  smart   \n",
       "3168     1498      9             471.0     22.0           44.0  smart   \n",
       "3169     1498     10             247.0     21.0           42.0  smart   \n",
       "3170     1499      9              70.0      2.0           11.0  smart   \n",
       "3171     1499     10             449.0     18.0           48.0  smart   \n",
       "3172     1499     11             612.0     18.0           59.0  smart   \n",
       "3173     1499     12             492.0     13.0           66.0  smart   \n",
       "\n",
       "      messages_included  gb_per_month_included  minutes_included  \\\n",
       "3164                 50                     15               500   \n",
       "3165                 50                     15               500   \n",
       "3166                 50                     15               500   \n",
       "3167                 50                     15               500   \n",
       "3168                 50                     15               500   \n",
       "3169                 50                     15               500   \n",
       "3170                 50                     15               500   \n",
       "3171                 50                     15               500   \n",
       "3172                 50                     15               500   \n",
       "3173                 50                     15               500   \n",
       "\n",
       "      rub_monthly_fee  rub_per_gb  rub_per_message  rub_per_minute  \\\n",
       "3164              550         200                3               3   \n",
       "3165              550         200                3               3   \n",
       "3166              550         200                3               3   \n",
       "3167              550         200                3               3   \n",
       "3168              550         200                3               3   \n",
       "3169              550         200                3               3   \n",
       "3170              550         200                3               3   \n",
       "3171              550         200                3               3   \n",
       "3172              550         200                3               3   \n",
       "3173              550         200                3               3   \n",
       "\n",
       "     tariff_name  total_mins_overpay  total_gbs_overpay  total_sms_overpay  \n",
       "3164       smart                 0.0                0.0                0.0  \n",
       "3165       smart               135.0             1000.0                0.0  \n",
       "3166       smart                 0.0                0.0                0.0  \n",
       "3167       smart                 0.0             1800.0               36.0  \n",
       "3168       smart                 0.0             1400.0                0.0  \n",
       "3169       smart                 0.0             1200.0                0.0  \n",
       "3170       smart                 0.0                0.0                0.0  \n",
       "3171       smart                 0.0              600.0                0.0  \n",
       "3172       smart               336.0              600.0               27.0  \n",
       "3173       smart                 0.0                0.0               48.0  "
      ]
     },
     "execution_count": 30,
     "metadata": {},
     "output_type": "execute_result"
    }
   ],
   "source": [
    "#произведем рассчет, столбцы про интернет\n",
    "total_df['total_sms_overpay'] = (total_df\n",
    "                                  .apply(lambda x: \n",
    "                                         calculating_total(x.messages_sent,\n",
    "                                                            x.messages_included,\n",
    "                                                            x.rub_per_message),\n",
    "                                         axis=1)\n",
    "                                )\n",
    "#выведем 10 строк, чтобы убедиться в качестве рассчетов\n",
    "total_df.tail(10)"
   ]
  },
  {
   "cell_type": "markdown",
   "metadata": {},
   "source": [
    "Класс!"
   ]
  },
  {
   "cell_type": "markdown",
   "metadata": {},
   "source": [
    "##### Итого\n",
    "Нам известны переплаты абонентов за все услуги и их ежемесячный платеж. Осталось все это сложить, прибавить стоимость тарифа и помесячная выручка с каждого пользователя перестанет быть тайной."
   ]
  },
  {
   "cell_type": "code",
   "execution_count": 31,
   "metadata": {},
   "outputs": [
    {
     "data": {
      "text/html": [
       "<div>\n",
       "<style scoped>\n",
       "    .dataframe tbody tr th:only-of-type {\n",
       "        vertical-align: middle;\n",
       "    }\n",
       "\n",
       "    .dataframe tbody tr th {\n",
       "        vertical-align: top;\n",
       "    }\n",
       "\n",
       "    .dataframe thead th {\n",
       "        text-align: right;\n",
       "    }\n",
       "</style>\n",
       "<table border=\"1\" class=\"dataframe\">\n",
       "  <thead>\n",
       "    <tr style=\"text-align: right;\">\n",
       "      <th></th>\n",
       "      <th>user_id</th>\n",
       "      <th>month</th>\n",
       "      <th>rounded_duration</th>\n",
       "      <th>gb_used</th>\n",
       "      <th>messages_sent</th>\n",
       "      <th>tariff</th>\n",
       "      <th>messages_included</th>\n",
       "      <th>gb_per_month_included</th>\n",
       "      <th>minutes_included</th>\n",
       "      <th>rub_monthly_fee</th>\n",
       "      <th>rub_per_gb</th>\n",
       "      <th>rub_per_message</th>\n",
       "      <th>rub_per_minute</th>\n",
       "      <th>tariff_name</th>\n",
       "      <th>total_mins_overpay</th>\n",
       "      <th>total_gbs_overpay</th>\n",
       "      <th>total_sms_overpay</th>\n",
       "      <th>monthly_total</th>\n",
       "    </tr>\n",
       "  </thead>\n",
       "  <tbody>\n",
       "    <tr>\n",
       "      <th>3164</th>\n",
       "      <td>1497</td>\n",
       "      <td>11</td>\n",
       "      <td>371.0</td>\n",
       "      <td>14.0</td>\n",
       "      <td>14.0</td>\n",
       "      <td>smart</td>\n",
       "      <td>50</td>\n",
       "      <td>15</td>\n",
       "      <td>500</td>\n",
       "      <td>550</td>\n",
       "      <td>200</td>\n",
       "      <td>3</td>\n",
       "      <td>3</td>\n",
       "      <td>smart</td>\n",
       "      <td>0.0</td>\n",
       "      <td>0.0</td>\n",
       "      <td>0.0</td>\n",
       "      <td>550.0</td>\n",
       "    </tr>\n",
       "    <tr>\n",
       "      <th>3165</th>\n",
       "      <td>1497</td>\n",
       "      <td>12</td>\n",
       "      <td>545.0</td>\n",
       "      <td>20.0</td>\n",
       "      <td>17.0</td>\n",
       "      <td>smart</td>\n",
       "      <td>50</td>\n",
       "      <td>15</td>\n",
       "      <td>500</td>\n",
       "      <td>550</td>\n",
       "      <td>200</td>\n",
       "      <td>3</td>\n",
       "      <td>3</td>\n",
       "      <td>smart</td>\n",
       "      <td>135.0</td>\n",
       "      <td>1000.0</td>\n",
       "      <td>0.0</td>\n",
       "      <td>1685.0</td>\n",
       "    </tr>\n",
       "    <tr>\n",
       "      <th>3166</th>\n",
       "      <td>1498</td>\n",
       "      <td>7</td>\n",
       "      <td>175.0</td>\n",
       "      <td>8.0</td>\n",
       "      <td>20.0</td>\n",
       "      <td>smart</td>\n",
       "      <td>50</td>\n",
       "      <td>15</td>\n",
       "      <td>500</td>\n",
       "      <td>550</td>\n",
       "      <td>200</td>\n",
       "      <td>3</td>\n",
       "      <td>3</td>\n",
       "      <td>smart</td>\n",
       "      <td>0.0</td>\n",
       "      <td>0.0</td>\n",
       "      <td>0.0</td>\n",
       "      <td>550.0</td>\n",
       "    </tr>\n",
       "    <tr>\n",
       "      <th>3167</th>\n",
       "      <td>1498</td>\n",
       "      <td>8</td>\n",
       "      <td>400.0</td>\n",
       "      <td>24.0</td>\n",
       "      <td>62.0</td>\n",
       "      <td>smart</td>\n",
       "      <td>50</td>\n",
       "      <td>15</td>\n",
       "      <td>500</td>\n",
       "      <td>550</td>\n",
       "      <td>200</td>\n",
       "      <td>3</td>\n",
       "      <td>3</td>\n",
       "      <td>smart</td>\n",
       "      <td>0.0</td>\n",
       "      <td>1800.0</td>\n",
       "      <td>36.0</td>\n",
       "      <td>2386.0</td>\n",
       "    </tr>\n",
       "    <tr>\n",
       "      <th>3168</th>\n",
       "      <td>1498</td>\n",
       "      <td>9</td>\n",
       "      <td>471.0</td>\n",
       "      <td>22.0</td>\n",
       "      <td>44.0</td>\n",
       "      <td>smart</td>\n",
       "      <td>50</td>\n",
       "      <td>15</td>\n",
       "      <td>500</td>\n",
       "      <td>550</td>\n",
       "      <td>200</td>\n",
       "      <td>3</td>\n",
       "      <td>3</td>\n",
       "      <td>smart</td>\n",
       "      <td>0.0</td>\n",
       "      <td>1400.0</td>\n",
       "      <td>0.0</td>\n",
       "      <td>1950.0</td>\n",
       "    </tr>\n",
       "    <tr>\n",
       "      <th>3169</th>\n",
       "      <td>1498</td>\n",
       "      <td>10</td>\n",
       "      <td>247.0</td>\n",
       "      <td>21.0</td>\n",
       "      <td>42.0</td>\n",
       "      <td>smart</td>\n",
       "      <td>50</td>\n",
       "      <td>15</td>\n",
       "      <td>500</td>\n",
       "      <td>550</td>\n",
       "      <td>200</td>\n",
       "      <td>3</td>\n",
       "      <td>3</td>\n",
       "      <td>smart</td>\n",
       "      <td>0.0</td>\n",
       "      <td>1200.0</td>\n",
       "      <td>0.0</td>\n",
       "      <td>1750.0</td>\n",
       "    </tr>\n",
       "    <tr>\n",
       "      <th>3170</th>\n",
       "      <td>1499</td>\n",
       "      <td>9</td>\n",
       "      <td>70.0</td>\n",
       "      <td>2.0</td>\n",
       "      <td>11.0</td>\n",
       "      <td>smart</td>\n",
       "      <td>50</td>\n",
       "      <td>15</td>\n",
       "      <td>500</td>\n",
       "      <td>550</td>\n",
       "      <td>200</td>\n",
       "      <td>3</td>\n",
       "      <td>3</td>\n",
       "      <td>smart</td>\n",
       "      <td>0.0</td>\n",
       "      <td>0.0</td>\n",
       "      <td>0.0</td>\n",
       "      <td>550.0</td>\n",
       "    </tr>\n",
       "    <tr>\n",
       "      <th>3171</th>\n",
       "      <td>1499</td>\n",
       "      <td>10</td>\n",
       "      <td>449.0</td>\n",
       "      <td>18.0</td>\n",
       "      <td>48.0</td>\n",
       "      <td>smart</td>\n",
       "      <td>50</td>\n",
       "      <td>15</td>\n",
       "      <td>500</td>\n",
       "      <td>550</td>\n",
       "      <td>200</td>\n",
       "      <td>3</td>\n",
       "      <td>3</td>\n",
       "      <td>smart</td>\n",
       "      <td>0.0</td>\n",
       "      <td>600.0</td>\n",
       "      <td>0.0</td>\n",
       "      <td>1150.0</td>\n",
       "    </tr>\n",
       "    <tr>\n",
       "      <th>3172</th>\n",
       "      <td>1499</td>\n",
       "      <td>11</td>\n",
       "      <td>612.0</td>\n",
       "      <td>18.0</td>\n",
       "      <td>59.0</td>\n",
       "      <td>smart</td>\n",
       "      <td>50</td>\n",
       "      <td>15</td>\n",
       "      <td>500</td>\n",
       "      <td>550</td>\n",
       "      <td>200</td>\n",
       "      <td>3</td>\n",
       "      <td>3</td>\n",
       "      <td>smart</td>\n",
       "      <td>336.0</td>\n",
       "      <td>600.0</td>\n",
       "      <td>27.0</td>\n",
       "      <td>1513.0</td>\n",
       "    </tr>\n",
       "    <tr>\n",
       "      <th>3173</th>\n",
       "      <td>1499</td>\n",
       "      <td>12</td>\n",
       "      <td>492.0</td>\n",
       "      <td>13.0</td>\n",
       "      <td>66.0</td>\n",
       "      <td>smart</td>\n",
       "      <td>50</td>\n",
       "      <td>15</td>\n",
       "      <td>500</td>\n",
       "      <td>550</td>\n",
       "      <td>200</td>\n",
       "      <td>3</td>\n",
       "      <td>3</td>\n",
       "      <td>smart</td>\n",
       "      <td>0.0</td>\n",
       "      <td>0.0</td>\n",
       "      <td>48.0</td>\n",
       "      <td>598.0</td>\n",
       "    </tr>\n",
       "  </tbody>\n",
       "</table>\n",
       "</div>"
      ],
      "text/plain": [
       "      user_id  month  rounded_duration  gb_used  messages_sent tariff  \\\n",
       "3164     1497     11             371.0     14.0           14.0  smart   \n",
       "3165     1497     12             545.0     20.0           17.0  smart   \n",
       "3166     1498      7             175.0      8.0           20.0  smart   \n",
       "3167     1498      8             400.0     24.0           62.0  smart   \n",
       "3168     1498      9             471.0     22.0           44.0  smart   \n",
       "3169     1498     10             247.0     21.0           42.0  smart   \n",
       "3170     1499      9              70.0      2.0           11.0  smart   \n",
       "3171     1499     10             449.0     18.0           48.0  smart   \n",
       "3172     1499     11             612.0     18.0           59.0  smart   \n",
       "3173     1499     12             492.0     13.0           66.0  smart   \n",
       "\n",
       "      messages_included  gb_per_month_included  minutes_included  \\\n",
       "3164                 50                     15               500   \n",
       "3165                 50                     15               500   \n",
       "3166                 50                     15               500   \n",
       "3167                 50                     15               500   \n",
       "3168                 50                     15               500   \n",
       "3169                 50                     15               500   \n",
       "3170                 50                     15               500   \n",
       "3171                 50                     15               500   \n",
       "3172                 50                     15               500   \n",
       "3173                 50                     15               500   \n",
       "\n",
       "      rub_monthly_fee  rub_per_gb  rub_per_message  rub_per_minute  \\\n",
       "3164              550         200                3               3   \n",
       "3165              550         200                3               3   \n",
       "3166              550         200                3               3   \n",
       "3167              550         200                3               3   \n",
       "3168              550         200                3               3   \n",
       "3169              550         200                3               3   \n",
       "3170              550         200                3               3   \n",
       "3171              550         200                3               3   \n",
       "3172              550         200                3               3   \n",
       "3173              550         200                3               3   \n",
       "\n",
       "     tariff_name  total_mins_overpay  total_gbs_overpay  total_sms_overpay  \\\n",
       "3164       smart                 0.0                0.0                0.0   \n",
       "3165       smart               135.0             1000.0                0.0   \n",
       "3166       smart                 0.0                0.0                0.0   \n",
       "3167       smart                 0.0             1800.0               36.0   \n",
       "3168       smart                 0.0             1400.0                0.0   \n",
       "3169       smart                 0.0             1200.0                0.0   \n",
       "3170       smart                 0.0                0.0                0.0   \n",
       "3171       smart                 0.0              600.0                0.0   \n",
       "3172       smart               336.0              600.0               27.0   \n",
       "3173       smart                 0.0                0.0               48.0   \n",
       "\n",
       "      monthly_total  \n",
       "3164          550.0  \n",
       "3165         1685.0  \n",
       "3166          550.0  \n",
       "3167         2386.0  \n",
       "3168         1950.0  \n",
       "3169         1750.0  \n",
       "3170          550.0  \n",
       "3171         1150.0  \n",
       "3172         1513.0  \n",
       "3173          598.0  "
      ]
     },
     "execution_count": 31,
     "metadata": {},
     "output_type": "execute_result"
    }
   ],
   "source": [
    "#суммируем столбцы\n",
    "total_df['monthly_total'] = (total_df[['rub_monthly_fee', 'total_mins_overpay',\n",
    "                                      'total_gbs_overpay', 'total_sms_overpay']]\n",
    "                             .sum(axis=1)\n",
    "                            )\n",
    "total_df.tail(10)"
   ]
  },
  {
   "cell_type": "markdown",
   "metadata": {},
   "source": [
    "Готовое"
   ]
  },
  {
   "cell_type": "markdown",
   "metadata": {},
   "source": [
    "## Анализ данных\n",
    "### Анализ расхода минут\n",
    "#### Минуты в целом\n",
    "Посчитаем сколько минут в среднем каждый абонент разговаривает."
   ]
  },
  {
   "cell_type": "code",
   "execution_count": 32,
   "metadata": {},
   "outputs": [
    {
     "data": {
      "text/html": [
       "<div>\n",
       "<style scoped>\n",
       "    .dataframe tbody tr th:only-of-type {\n",
       "        vertical-align: middle;\n",
       "    }\n",
       "\n",
       "    .dataframe tbody tr th {\n",
       "        vertical-align: top;\n",
       "    }\n",
       "\n",
       "    .dataframe thead th {\n",
       "        text-align: right;\n",
       "    }\n",
       "</style>\n",
       "<table border=\"1\" class=\"dataframe\">\n",
       "  <thead>\n",
       "    <tr style=\"text-align: right;\">\n",
       "      <th></th>\n",
       "      <th>user_id</th>\n",
       "      <th>tariff</th>\n",
       "      <th>rounded_duration</th>\n",
       "    </tr>\n",
       "  </thead>\n",
       "  <tbody>\n",
       "    <tr>\n",
       "      <th>0</th>\n",
       "      <td>1000</td>\n",
       "      <td>ultra</td>\n",
       "      <td>320.750000</td>\n",
       "    </tr>\n",
       "    <tr>\n",
       "      <th>1</th>\n",
       "      <td>1001</td>\n",
       "      <td>smart</td>\n",
       "      <td>422.000000</td>\n",
       "    </tr>\n",
       "    <tr>\n",
       "      <th>2</th>\n",
       "      <td>1002</td>\n",
       "      <td>smart</td>\n",
       "      <td>216.714286</td>\n",
       "    </tr>\n",
       "    <tr>\n",
       "      <th>3</th>\n",
       "      <td>1003</td>\n",
       "      <td>ultra</td>\n",
       "      <td>764.400000</td>\n",
       "    </tr>\n",
       "    <tr>\n",
       "      <th>4</th>\n",
       "      <td>1004</td>\n",
       "      <td>ultra</td>\n",
       "      <td>123.375000</td>\n",
       "    </tr>\n",
       "  </tbody>\n",
       "</table>\n",
       "</div>"
      ],
      "text/plain": [
       "   user_id tariff  rounded_duration\n",
       "0     1000  ultra        320.750000\n",
       "1     1001  smart        422.000000\n",
       "2     1002  smart        216.714286\n",
       "3     1003  ultra        764.400000\n",
       "4     1004  ultra        123.375000"
      ]
     },
     "execution_count": 32,
     "metadata": {},
     "output_type": "execute_result"
    }
   ],
   "source": [
    "mean_calls_duration = (total_df\n",
    "                       .pivot_table(index=['user_id', 'tariff'],\n",
    "                                    values='rounded_duration')\n",
    "                       .reset_index()\n",
    "                       .copy())\n",
    "mean_calls_duration.head()"
   ]
  },
  {
   "cell_type": "markdown",
   "metadata": {},
   "source": [
    "Используемые далее методы позволяют прохойтись по каждому столбцу, но мы не будем перегружать информацией. Все будем считать по столбцу `mean`.\n",
    "\n",
    "Построим гисторамму среднего расхода минут по абонентам."
   ]
  },
  {
   "cell_type": "code",
   "execution_count": 33,
   "metadata": {},
   "outputs": [
    {
     "data": {
      "text/plain": [
       "<AxesSubplot:>"
      ]
     },
     "execution_count": 33,
     "metadata": {},
     "output_type": "execute_result"
    },
    {
     "data": {
      "image/png": "[encoded data removed]",
      "text/plain": [
       "<Figure size 432x288 with 1 Axes>"
      ]
     },
     "metadata": {
      "needs_background": "light"
     },
     "output_type": "display_data"
    }
   ],
   "source": [
    "mean_calls_duration['rounded_duration'].hist(bins=10)"
   ]
  },
  {
   "cell_type": "markdown",
   "metadata": {},
   "source": [
    "Похоже на нормальное распределение, но все же, мы имеем дело со слегка скошенным вправо данными, т.е. данными с положительной скошенностью.\n",
    "\n",
    "Теперь посчитаем сколько средний абонент в серднем тратит минут. "
   ]
  },
  {
   "cell_type": "code",
   "execution_count": 34,
   "metadata": {},
   "outputs": [
    {
     "data": {
      "text/plain": [
       "457"
      ]
     },
     "execution_count": 34,
     "metadata": {},
     "output_type": "execute_result"
    }
   ],
   "source": [
    "round(mean_calls_duration['rounded_duration'].mean())"
   ]
  },
  {
   "cell_type": "markdown",
   "metadata": {},
   "source": [
    "В среднем, наша выборка состоит из довольно общительных людей.\n",
    "\n",
    "Возьмемся за дисперсию, точнее за ее оценку, т.к. в нашем распоряжении выборка, а не генеральная совокупность."
   ]
  },
  {
   "cell_type": "code",
   "execution_count": 35,
   "metadata": {},
   "outputs": [
    {
     "data": {
      "text/plain": [
       "38686"
      ]
     },
     "execution_count": 35,
     "metadata": {},
     "output_type": "execute_result"
    }
   ],
   "source": [
    "round(np.var(mean_calls_duration['rounded_duration'], ddof=1))"
   ]
  },
  {
   "cell_type": "markdown",
   "metadata": {},
   "source": [
    "Теперь стандартное отклонение."
   ]
  },
  {
   "cell_type": "code",
   "execution_count": 36,
   "metadata": {},
   "outputs": [
    {
     "data": {
      "text/plain": [
       "197"
      ]
     },
     "execution_count": 36,
     "metadata": {},
     "output_type": "execute_result"
    }
   ],
   "source": [
    "round(np.std(mean_calls_duration['rounded_duration'], ddof=1))"
   ]
  },
  {
   "cell_type": "markdown",
   "metadata": {},
   "source": [
    "Посчитаем сколько в среднем тратит минут 99% абонентов, воспользовавшись правилом трех сигм."
   ]
  },
  {
   "cell_type": "code",
   "execution_count": 37,
   "metadata": {},
   "outputs": [
    {
     "data": {
      "text/plain": [
       "1048"
      ]
     },
     "execution_count": 37,
     "metadata": {},
     "output_type": "execute_result"
    }
   ],
   "source": [
    "round(mean_calls_duration['rounded_duration'].mean()) + 3 * round(np.std(mean_calls_duration['rounded_duration'], ddof=1))"
   ]
  },
  {
   "cell_type": "markdown",
   "metadata": {},
   "source": [
    "99% разговаривают в среднем не более 1048 минут. Нужен ли им тариф с лимитом в 3000?\n",
    "\n",
    "Это мы узнаем, когда пройдемся по каждому тарифу."
   ]
  },
  {
   "cell_type": "markdown",
   "metadata": {},
   "source": [
    "#### Анализ израсходованных минут по тафриам\n",
    "Сделаем сводник по тарифам с выведением среднего, разброса и диперсии с применением функций аггрегации и посчитаем сколько минут расходуем большинство абонентов"
   ]
  },
  {
   "cell_type": "code",
   "execution_count": 38,
   "metadata": {},
   "outputs": [
    {
     "data": {
      "text/html": [
       "<div>\n",
       "<style scoped>\n",
       "    .dataframe tbody tr th:only-of-type {\n",
       "        vertical-align: middle;\n",
       "    }\n",
       "\n",
       "    .dataframe tbody tr th {\n",
       "        vertical-align: top;\n",
       "    }\n",
       "\n",
       "    .dataframe thead tr th {\n",
       "        text-align: left;\n",
       "    }\n",
       "\n",
       "    .dataframe thead tr:last-of-type th {\n",
       "        text-align: right;\n",
       "    }\n",
       "</style>\n",
       "<table border=\"1\" class=\"dataframe\">\n",
       "  <thead>\n",
       "    <tr>\n",
       "      <th></th>\n",
       "      <th>mean</th>\n",
       "      <th>var</th>\n",
       "      <th>std</th>\n",
       "    </tr>\n",
       "    <tr>\n",
       "      <th></th>\n",
       "      <th>rounded_duration</th>\n",
       "      <th>rounded_duration</th>\n",
       "      <th>rounded_duration</th>\n",
       "    </tr>\n",
       "    <tr>\n",
       "      <th>tariff</th>\n",
       "      <th></th>\n",
       "      <th></th>\n",
       "      <th></th>\n",
       "    </tr>\n",
       "  </thead>\n",
       "  <tbody>\n",
       "    <tr>\n",
       "      <th>smart</th>\n",
       "      <td>421.0</td>\n",
       "      <td>20585.0</td>\n",
       "      <td>143.0</td>\n",
       "    </tr>\n",
       "    <tr>\n",
       "      <th>ultra</th>\n",
       "      <td>547.0</td>\n",
       "      <td>72005.0</td>\n",
       "      <td>268.0</td>\n",
       "    </tr>\n",
       "  </tbody>\n",
       "</table>\n",
       "</div>"
      ],
      "text/plain": [
       "                   mean              var              std\n",
       "       rounded_duration rounded_duration rounded_duration\n",
       "tariff                                                   \n",
       "smart             421.0          20585.0            143.0\n",
       "ultra             547.0          72005.0            268.0"
      ]
     },
     "metadata": {},
     "output_type": "display_data"
    }
   ],
   "source": [
    "def describing(df, service_column_name):\n",
    "    display(round(df.pivot_table(index='tariff', values=service_column_name, aggfunc=['mean', 'var', 'std'])))\n",
    "\n",
    "describing(mean_calls_duration, 'rounded_duration')"
   ]
  },
  {
   "cell_type": "markdown",
   "metadata": {},
   "source": [
    "Посчитаем три сигмы"
   ]
  },
  {
   "cell_type": "code",
   "execution_count": 39,
   "metadata": {
    "scrolled": true
   },
   "outputs": [
    {
     "name": "stdout",
     "output_type": "stream",
     "text": [
      "Подавляющее большинство абонентов тарифа smart расходует не более 850 минут в месяц\n",
      "Подавляющее большинство абонентов тарифа ultra расходует не более 1351 минут в месяц\n"
     ]
    }
   ],
   "source": [
    "#куда теперь без функций\n",
    "def threesigming(df, service_column_name, tariff_name, service_name):\n",
    "    print('Подавляющее большинство абонентов тарифа', tariff_name, 'расходует не более',\n",
    "          round(df[df['tariff'] == tariff_name][service_column_name].mean()) + \n",
    "          3 * round(np.std(df[df['tariff'] == tariff_name][service_column_name], ddof=1)), \n",
    "          service_name, 'в месяц'\n",
    "         )\n",
    "     \n",
    "threesigming(mean_calls_duration, 'rounded_duration', 'smart', 'минут')\n",
    "threesigming(mean_calls_duration, 'rounded_duration', 'ultra', 'минут')"
   ]
  },
  {
   "cell_type": "markdown",
   "metadata": {},
   "source": [
    "Построим гистограммы для оценки распределения потраченных минут по абонентам"
   ]
  },
  {
   "cell_type": "code",
   "execution_count": 40,
   "metadata": {},
   "outputs": [
    {
     "data": {
      "image/png": "[encoded data removed]",
      "text/plain": [
       "<Figure size 432x288 with 1 Axes>"
      ]
     },
     "metadata": {
      "needs_background": "light"
     },
     "output_type": "display_data"
    }
   ],
   "source": [
    "#нам это делать не раз, так что создадим функцию\n",
    "def overlaying(df, column):\n",
    "    plt.hist(df[df['tariff'] == 'smart'][column], alpha=0.7, label='Смарт')\n",
    "    plt.hist(df[df['tariff'] == 'ultra'][column], alpha=0.7, label='Ультра')\n",
    "    plt.title('Использование услуг абонентами разных тарифов')\n",
    "    plt.legend(loc='upper left')\n",
    "    plt.xlabel(column)\n",
    "    plt.ylabel('Абоненты')\n",
    "    plt.show()\n",
    "\n",
    "overlaying(mean_calls_duration, 'rounded_duration')"
   ]
  },
  {
   "cell_type": "markdown",
   "metadata": {},
   "source": [
    "Данные по минутам для тарифа \"Смарт\" нормально распределены.\n",
    "\n",
    "В среднем абоненты расходуют 421 минуту, что довольно к близко к количеству, включенному в тариф. Кроме того, 99% абонентов тарифа разговаривают до 850 минуты в месяц. Судя по гистограмме, довольно большому количеству людей не хватает предоплаченного пакета минут."
   ]
  },
  {
   "cell_type": "markdown",
   "metadata": {},
   "source": [
    "Данные по минутам для тарифа \"Ультра\" слегка скошены вправо.\n",
    "\n",
    "В среднем абоненты расходуют 547 минут. Кроме того, 99% абонентов тарифа разговаривают до 1351 минуты в месяц. Судя по гистограмме, никому не нужно 3000 минут в месяц.\n",
    "\n",
    "Наложим гистограммы друг на друга для наглядности"
   ]
  },
  {
   "cell_type": "markdown",
   "metadata": {},
   "source": [
    "### Анализ расхода интерет-траффика по тарифам\n",
    "\n",
    "Теперь изучим данные о мобильном интернете. Сделаем сводник!"
   ]
  },
  {
   "cell_type": "code",
   "execution_count": 41,
   "metadata": {},
   "outputs": [
    {
     "data": {
      "text/html": [
       "<div>\n",
       "<style scoped>\n",
       "    .dataframe tbody tr th:only-of-type {\n",
       "        vertical-align: middle;\n",
       "    }\n",
       "\n",
       "    .dataframe tbody tr th {\n",
       "        vertical-align: top;\n",
       "    }\n",
       "\n",
       "    .dataframe thead th {\n",
       "        text-align: right;\n",
       "    }\n",
       "</style>\n",
       "<table border=\"1\" class=\"dataframe\">\n",
       "  <thead>\n",
       "    <tr style=\"text-align: right;\">\n",
       "      <th></th>\n",
       "      <th>user_id</th>\n",
       "      <th>tariff</th>\n",
       "      <th>gb_used</th>\n",
       "    </tr>\n",
       "  </thead>\n",
       "  <tbody>\n",
       "    <tr>\n",
       "      <th>0</th>\n",
       "      <td>1000</td>\n",
       "      <td>ultra</td>\n",
       "      <td>13.625000</td>\n",
       "    </tr>\n",
       "    <tr>\n",
       "      <th>1</th>\n",
       "      <td>1001</td>\n",
       "      <td>smart</td>\n",
       "      <td>16.000000</td>\n",
       "    </tr>\n",
       "    <tr>\n",
       "      <th>2</th>\n",
       "      <td>1002</td>\n",
       "      <td>smart</td>\n",
       "      <td>16.714286</td>\n",
       "    </tr>\n",
       "    <tr>\n",
       "      <th>3</th>\n",
       "      <td>1003</td>\n",
       "      <td>ultra</td>\n",
       "      <td>11.800000</td>\n",
       "    </tr>\n",
       "    <tr>\n",
       "      <th>4</th>\n",
       "      <td>1004</td>\n",
       "      <td>ultra</td>\n",
       "      <td>18.750000</td>\n",
       "    </tr>\n",
       "  </tbody>\n",
       "</table>\n",
       "</div>"
      ],
      "text/plain": [
       "   user_id tariff    gb_used\n",
       "0     1000  ultra  13.625000\n",
       "1     1001  smart  16.000000\n",
       "2     1002  smart  16.714286\n",
       "3     1003  ultra  11.800000\n",
       "4     1004  ultra  18.750000"
      ]
     },
     "execution_count": 41,
     "metadata": {},
     "output_type": "execute_result"
    }
   ],
   "source": [
    "#создадим сводник со средним по дурке\n",
    "mean_gb_used = (total_df\n",
    "                .pivot_table(index=['user_id', 'tariff'], \n",
    "                             values='gb_used')\n",
    "                .reset_index()\n",
    "                .copy()\n",
    "               )\n",
    "mean_gb_used.head()"
   ]
  },
  {
   "cell_type": "markdown",
   "metadata": {},
   "source": [
    "Пойдем по накатанной"
   ]
  },
  {
   "cell_type": "code",
   "execution_count": 42,
   "metadata": {},
   "outputs": [
    {
     "data": {
      "text/html": [
       "<div>\n",
       "<style scoped>\n",
       "    .dataframe tbody tr th:only-of-type {\n",
       "        vertical-align: middle;\n",
       "    }\n",
       "\n",
       "    .dataframe tbody tr th {\n",
       "        vertical-align: top;\n",
       "    }\n",
       "\n",
       "    .dataframe thead tr th {\n",
       "        text-align: left;\n",
       "    }\n",
       "\n",
       "    .dataframe thead tr:last-of-type th {\n",
       "        text-align: right;\n",
       "    }\n",
       "</style>\n",
       "<table border=\"1\" class=\"dataframe\">\n",
       "  <thead>\n",
       "    <tr>\n",
       "      <th></th>\n",
       "      <th>mean</th>\n",
       "      <th>var</th>\n",
       "      <th>std</th>\n",
       "    </tr>\n",
       "    <tr>\n",
       "      <th></th>\n",
       "      <th>gb_used</th>\n",
       "      <th>gb_used</th>\n",
       "      <th>gb_used</th>\n",
       "    </tr>\n",
       "    <tr>\n",
       "      <th>tariff</th>\n",
       "      <th></th>\n",
       "      <th></th>\n",
       "      <th></th>\n",
       "    </tr>\n",
       "  </thead>\n",
       "  <tbody>\n",
       "    <tr>\n",
       "      <th>smart</th>\n",
       "      <td>16.0</td>\n",
       "      <td>12.0</td>\n",
       "      <td>3.0</td>\n",
       "    </tr>\n",
       "    <tr>\n",
       "      <th>ultra</th>\n",
       "      <td>20.0</td>\n",
       "      <td>64.0</td>\n",
       "      <td>8.0</td>\n",
       "    </tr>\n",
       "  </tbody>\n",
       "</table>\n",
       "</div>"
      ],
      "text/plain": [
       "          mean     var     std\n",
       "       gb_used gb_used gb_used\n",
       "tariff                        \n",
       "smart     16.0    12.0     3.0\n",
       "ultra     20.0    64.0     8.0"
      ]
     },
     "metadata": {},
     "output_type": "display_data"
    },
    {
     "name": "stdout",
     "output_type": "stream",
     "text": [
      "Подавляющее большинство абонентов тарифа smart расходует не более 25 гигабайт в месяц\n",
      "Подавляющее большинство абонентов тарифа ultra расходует не более 44 гигабайт в месяц\n"
     ]
    }
   ],
   "source": [
    "describing(mean_gb_used, 'gb_used')\n",
    "threesigming(mean_gb_used, 'gb_used', 'smart', 'гигабайт')\n",
    "threesigming(mean_gb_used, 'gb_used', 'ultra', 'гигабайт')"
   ]
  },
  {
   "cell_type": "markdown",
   "metadata": {},
   "source": [
    "Данные по интернет-траффику для тарифа \"Смарт\" нормально распределены.\n",
    "\n",
    "В среднем абоненты расходуют 16 гигабайт, что больше, чем включено в тариф. Кроме того, 99% абонентов тарифа тратят не более 25 гигабайт в месяц. Судя по гистограмме, довольно большому количеству людей не хватает предоплаченного пакета гигабайт."
   ]
  },
  {
   "cell_type": "markdown",
   "metadata": {},
   "source": [
    "По тарифу \"Ультра\" имеет место небольшая скошенность данных вправо. В среднем абоненты расходуют 20 гигабайт. 99% абонентов тратят не более 44 гигабайт в месяц. Не всем хватает предоплаченного пакета, но значительная часть абонентов укладывается.\n",
    "\n",
    "Наложим гистограммы друг на друга для наглядности"
   ]
  },
  {
   "cell_type": "code",
   "execution_count": 43,
   "metadata": {},
   "outputs": [
    {
     "data": {
      "image/png": "[encoded data removed]",
      "text/plain": [
       "<Figure size 432x288 with 1 Axes>"
      ]
     },
     "metadata": {
      "needs_background": "light"
     },
     "output_type": "display_data"
    }
   ],
   "source": [
    "overlaying(mean_gb_used, 'gb_used')"
   ]
  },
  {
   "cell_type": "markdown",
   "metadata": {},
   "source": [
    "### Анализ расхода сообщений по тарифам\n",
    "Узнаем немного о людях, не слышавших о мессенджерах."
   ]
  },
  {
   "cell_type": "code",
   "execution_count": 44,
   "metadata": {},
   "outputs": [
    {
     "data": {
      "text/html": [
       "<div>\n",
       "<style scoped>\n",
       "    .dataframe tbody tr th:only-of-type {\n",
       "        vertical-align: middle;\n",
       "    }\n",
       "\n",
       "    .dataframe tbody tr th {\n",
       "        vertical-align: top;\n",
       "    }\n",
       "\n",
       "    .dataframe thead th {\n",
       "        text-align: right;\n",
       "    }\n",
       "</style>\n",
       "<table border=\"1\" class=\"dataframe\">\n",
       "  <thead>\n",
       "    <tr style=\"text-align: right;\">\n",
       "      <th></th>\n",
       "      <th>user_id</th>\n",
       "      <th>tariff</th>\n",
       "      <th>messages_sent</th>\n",
       "    </tr>\n",
       "  </thead>\n",
       "  <tbody>\n",
       "    <tr>\n",
       "      <th>0</th>\n",
       "      <td>1000</td>\n",
       "      <td>ultra</td>\n",
       "      <td>62.0</td>\n",
       "    </tr>\n",
       "    <tr>\n",
       "      <th>1</th>\n",
       "      <td>1002</td>\n",
       "      <td>smart</td>\n",
       "      <td>10.0</td>\n",
       "    </tr>\n",
       "    <tr>\n",
       "      <th>2</th>\n",
       "      <td>1003</td>\n",
       "      <td>ultra</td>\n",
       "      <td>76.0</td>\n",
       "    </tr>\n",
       "    <tr>\n",
       "      <th>3</th>\n",
       "      <td>1004</td>\n",
       "      <td>ultra</td>\n",
       "      <td>149.0</td>\n",
       "    </tr>\n",
       "    <tr>\n",
       "      <th>4</th>\n",
       "      <td>1005</td>\n",
       "      <td>smart</td>\n",
       "      <td>46.0</td>\n",
       "    </tr>\n",
       "  </tbody>\n",
       "</table>\n",
       "</div>"
      ],
      "text/plain": [
       "   user_id tariff  messages_sent\n",
       "0     1000  ultra           62.0\n",
       "1     1002  smart           10.0\n",
       "2     1003  ultra           76.0\n",
       "3     1004  ultra          149.0\n",
       "4     1005  smart           46.0"
      ]
     },
     "execution_count": 44,
     "metadata": {},
     "output_type": "execute_result"
    }
   ],
   "source": [
    "#пилим сводник\n",
    "mean_sms_sent = (total_df\n",
    "                 .pivot_table(index=['user_id', 'tariff'], \n",
    "                              values='messages_sent')\n",
    "                 .reset_index()\n",
    "                 .copy()\n",
    "                )\n",
    "mean_sms_sent.head()"
   ]
  },
  {
   "cell_type": "markdown",
   "metadata": {},
   "source": [
    "Ну, вы поняли"
   ]
  },
  {
   "cell_type": "code",
   "execution_count": 45,
   "metadata": {},
   "outputs": [
    {
     "data": {
      "text/html": [
       "<div>\n",
       "<style scoped>\n",
       "    .dataframe tbody tr th:only-of-type {\n",
       "        vertical-align: middle;\n",
       "    }\n",
       "\n",
       "    .dataframe tbody tr th {\n",
       "        vertical-align: top;\n",
       "    }\n",
       "\n",
       "    .dataframe thead tr th {\n",
       "        text-align: left;\n",
       "    }\n",
       "\n",
       "    .dataframe thead tr:last-of-type th {\n",
       "        text-align: right;\n",
       "    }\n",
       "</style>\n",
       "<table border=\"1\" class=\"dataframe\">\n",
       "  <thead>\n",
       "    <tr>\n",
       "      <th></th>\n",
       "      <th>mean</th>\n",
       "      <th>var</th>\n",
       "      <th>std</th>\n",
       "    </tr>\n",
       "    <tr>\n",
       "      <th></th>\n",
       "      <th>messages_sent</th>\n",
       "      <th>messages_sent</th>\n",
       "      <th>messages_sent</th>\n",
       "    </tr>\n",
       "    <tr>\n",
       "      <th>tariff</th>\n",
       "      <th></th>\n",
       "      <th></th>\n",
       "      <th></th>\n",
       "    </tr>\n",
       "  </thead>\n",
       "  <tbody>\n",
       "    <tr>\n",
       "      <th>smart</th>\n",
       "      <td>38.0</td>\n",
       "      <td>618.0</td>\n",
       "      <td>25.0</td>\n",
       "    </tr>\n",
       "    <tr>\n",
       "      <th>ultra</th>\n",
       "      <td>65.0</td>\n",
       "      <td>1883.0</td>\n",
       "      <td>43.0</td>\n",
       "    </tr>\n",
       "  </tbody>\n",
       "</table>\n",
       "</div>"
      ],
      "text/plain": [
       "                mean           var           std\n",
       "       messages_sent messages_sent messages_sent\n",
       "tariff                                          \n",
       "smart           38.0         618.0          25.0\n",
       "ultra           65.0        1883.0          43.0"
      ]
     },
     "metadata": {},
     "output_type": "display_data"
    },
    {
     "name": "stdout",
     "output_type": "stream",
     "text": [
      "Подавляющее большинство абонентов тарифа smart расходует не более 113 смс в месяц\n",
      "Подавляющее большинство абонентов тарифа ultra расходует не более 194 смс в месяц\n"
     ]
    }
   ],
   "source": [
    "describing(mean_sms_sent, 'messages_sent')\n",
    "threesigming(mean_sms_sent, 'messages_sent', 'smart', 'смс')\n",
    "threesigming(mean_sms_sent, 'messages_sent', 'ultra', 'смс')"
   ]
  },
  {
   "cell_type": "markdown",
   "metadata": {},
   "source": [
    "Гистограмма тарифа \"Смарт\" сильно скошена вправо. В среднем отправляется 38 сообщений, 99 процентам абонентов хватает 113 сообщений в месяц. Судя по графику, примерно трети абонентов не хватает предоплаченного пакета смс."
   ]
  },
  {
   "cell_type": "markdown",
   "metadata": {},
   "source": [
    "Абоненты тарифа \"Ультра\" оригинальностью не отличаются. Гистограмма все еще сильно скошена вправо. В среднем отправляется 65 сообщений, 99 процентам абонентов хватает 194 сообщений в месяц. 1000 сообщений не нужно никому, можно и до 200 сократить.\n",
    "\n",
    "\n",
    "Наложим гистограммы друг на друга для наглядности"
   ]
  },
  {
   "cell_type": "code",
   "execution_count": 46,
   "metadata": {},
   "outputs": [
    {
     "data": {
      "image/png": "[encoded data removed]",
      "text/plain": [
       "<Figure size 432x288 with 1 Axes>"
      ]
     },
     "metadata": {
      "needs_background": "light"
     },
     "output_type": "display_data"
    }
   ],
   "source": [
    "overlaying(mean_sms_sent, 'messages_sent')"
   ]
  },
  {
   "cell_type": "markdown",
   "metadata": {},
   "source": [
    "### Вывод\n",
    "Значительной части абонентов тарифа \"Смарт\" вечно чего-то не хватает и они вынуждены докупать услуги. В тарифе же Ультра, количество включенных услуг, не считая интернета, в основном избыточно, причем многократно."
   ]
  },
  {
   "cell_type": "markdown",
   "metadata": {},
   "source": [
    "## Проверка гипотез\n",
    "### Гипотеза о различиях выручки на тарифах\n",
    "Необходимо проверить следующую гипотезу - **средняя выручка на тарифах \"Смарт\" и \"Ультра\" различается** Это гипотеза о равенстве средних. В этом случае нулевой гипотезой будет - **средняя выручка на тарифах \"Смарт\" и \"Ультра\" равна**, а проверяемая гипотеза выступит альтернативной.\n",
    "\n",
    "Итак,\n",
    "\n",
    "* H0 - средняя выручка на тарифах \"Смарт\" и \"Ультра\" равна (не различается)\n",
    "* H1 - средняя выручка на тарифах \"Смарт\" и \"Ультра\" различается\n",
    "\n",
    "Приступим к проверке."
   ]
  },
  {
   "cell_type": "code",
   "execution_count": 47,
   "metadata": {},
   "outputs": [
    {
     "name": "stdout",
     "output_type": "stream",
     "text": [
      "p-значение: 2.084961899583595e-59\n",
      "Отвергаем нулевую гипотезу\n"
     ]
    }
   ],
   "source": [
    "#сделаем сводник по средней выручке по абонентам\n",
    "mean_income = (total_df\n",
    "               .pivot_table(index=['user_id', 'tariff'], \n",
    "                            values='monthly_total')\n",
    "               .reset_index()\n",
    "               .copy()\n",
    "              )\n",
    "#создадим две переменных\n",
    "mean_income_smart = mean_income.query('tariff == \"smart\"').copy()\n",
    "mean_income_ultra = mean_income.query('tariff == \"ultra\"').copy()\n",
    "#проверяем гипотезу о равенстве средних при том, что выборки разного размера\n",
    "tariff_result = st.ttest_ind(\n",
    "    mean_income_smart['monthly_total'], \n",
    "    mean_income_ultra['monthly_total'], \n",
    "    equal_var = False)\n",
    "#будем строги\n",
    "alpha = .01\n",
    "#волнуемся и ждем результата\n",
    "print('p-значение:', tariff_result.pvalue)\n",
    "if tariff_result.pvalue < alpha:\n",
    "    print('Отвергаем нулевую гипотезу')\n",
    "else:\n",
    "    print('Не получилось отвергнуть нулевую гипотезу')"
   ]
  },
  {
   "cell_type": "markdown",
   "metadata": {},
   "source": [
    "Нулевая гипотеза отвергается, из чего делаем вывод, что **средняя выручка на тарифах \"Смарт\" и \"Ультра\" имеет статистически значимые различия**. Результат соответствует гипотезе."
   ]
  },
  {
   "cell_type": "markdown",
   "metadata": {},
   "source": [
    "### Гипотеза о различиях выручки в Москве и регионах\n",
    "Что же, теперь проверим гипотезу, что **средняя выручка пользователей из Москвы отличается от выручки пользователей из других регионов** - она альтернативная. Нулевая же гипотеза - **средняя выручка пользователей из Москвы не отличается от выручки пользователей из других регионов**\n",
    "\n",
    "Приступим!\n",
    "Для начала подВПРим в таблицу `mean_income` города из таблицы `users` по user_id."
   ]
  },
  {
   "cell_type": "code",
   "execution_count": 48,
   "metadata": {},
   "outputs": [
    {
     "data": {
      "text/html": [
       "<div>\n",
       "<style scoped>\n",
       "    .dataframe tbody tr th:only-of-type {\n",
       "        vertical-align: middle;\n",
       "    }\n",
       "\n",
       "    .dataframe tbody tr th {\n",
       "        vertical-align: top;\n",
       "    }\n",
       "\n",
       "    .dataframe thead th {\n",
       "        text-align: right;\n",
       "    }\n",
       "</style>\n",
       "<table border=\"1\" class=\"dataframe\">\n",
       "  <thead>\n",
       "    <tr style=\"text-align: right;\">\n",
       "      <th></th>\n",
       "      <th>user_id</th>\n",
       "      <th>tariff</th>\n",
       "      <th>monthly_total</th>\n",
       "      <th>city</th>\n",
       "    </tr>\n",
       "  </thead>\n",
       "  <tbody>\n",
       "    <tr>\n",
       "      <th>0</th>\n",
       "      <td>1000</td>\n",
       "      <td>ultra</td>\n",
       "      <td>1950.000000</td>\n",
       "      <td>Краснодар</td>\n",
       "    </tr>\n",
       "    <tr>\n",
       "      <th>1</th>\n",
       "      <td>1001</td>\n",
       "      <td>smart</td>\n",
       "      <td>850.000000</td>\n",
       "      <td>Москва</td>\n",
       "    </tr>\n",
       "    <tr>\n",
       "      <th>2</th>\n",
       "      <td>1002</td>\n",
       "      <td>smart</td>\n",
       "      <td>1035.714286</td>\n",
       "      <td>Стерлитамак</td>\n",
       "    </tr>\n",
       "    <tr>\n",
       "      <th>3</th>\n",
       "      <td>1003</td>\n",
       "      <td>ultra</td>\n",
       "      <td>1950.000000</td>\n",
       "      <td>Москва</td>\n",
       "    </tr>\n",
       "    <tr>\n",
       "      <th>4</th>\n",
       "      <td>1004</td>\n",
       "      <td>ultra</td>\n",
       "      <td>1950.000000</td>\n",
       "      <td>Новокузнецк</td>\n",
       "    </tr>\n",
       "  </tbody>\n",
       "</table>\n",
       "</div>"
      ],
      "text/plain": [
       "   user_id tariff  monthly_total         city\n",
       "0     1000  ultra    1950.000000    Краснодар\n",
       "1     1001  smart     850.000000       Москва\n",
       "2     1002  smart    1035.714286  Стерлитамак\n",
       "3     1003  ultra    1950.000000       Москва\n",
       "4     1004  ultra    1950.000000  Новокузнецк"
      ]
     },
     "execution_count": 48,
     "metadata": {},
     "output_type": "execute_result"
    }
   ],
   "source": [
    "mean_income = (mean_income\n",
    "               .merge(users[['user_id', 'city']], \n",
    "                      on='user_id', \n",
    "                      how='left'))\n",
    "mean_income.head()"
   ]
  },
  {
   "cell_type": "markdown",
   "metadata": {},
   "source": [
    "Разделим на москвичей и остальных"
   ]
  },
  {
   "cell_type": "code",
   "execution_count": 49,
   "metadata": {},
   "outputs": [],
   "source": [
    "mean_income_moscow = mean_income.query('city == \"Москва\"').copy()\n",
    "mean_income_regions = mean_income.query('city != \"Москва\"').copy()"
   ]
  },
  {
   "cell_type": "markdown",
   "metadata": {},
   "source": [
    "Проверим гипотезу"
   ]
  },
  {
   "cell_type": "code",
   "execution_count": 50,
   "metadata": {},
   "outputs": [
    {
     "name": "stdout",
     "output_type": "stream",
     "text": [
      "p-значение: 0.3443090581027025\n",
      "Не получилось отвергнуть нулевую гипотезу\n"
     ]
    }
   ],
   "source": [
    "city_result = st.ttest_ind(\n",
    "    mean_income_moscow['monthly_total'], \n",
    "    mean_income_regions['monthly_total'], \n",
    "    equal_var = False)\n",
    "#будем строги\n",
    "alpha = .01\n",
    "#волнуемся и ждем результата\n",
    "print('p-значение:', city_result.pvalue)\n",
    "if city_result.pvalue < alpha:\n",
    "    print('Отвергаем нулевую гипотезу')\n",
    "else:\n",
    "    print('Не получилось отвергнуть нулевую гипотезу')"
   ]
  },
  {
   "cell_type": "markdown",
   "metadata": {},
   "source": [
    "Отвергаем гипотезу о том, что выручка от москвичей отличается от выручки от жителей регионов. **Статистически значимые различия в выручке от москвичей и жителей регионов отсутствуют**. Результат не соответствует гипотезе."
   ]
  },
  {
   "cell_type": "markdown",
   "metadata": {},
   "source": [
    "## Общий вывод\n",
    "### Достаточность услуг\n",
    "Значительной части абонентов тарифа \"Смарт\" недостаточно включенного пакета услуг и они вынуждены оплачивать их перерасход. "
   ]
  },
  {
   "cell_type": "code",
   "execution_count": 51,
   "metadata": {},
   "outputs": [
    {
     "name": "stdout",
     "output_type": "stream",
     "text": [
      "средняя выручка на тарифе Смарт 1324\n"
     ]
    },
    {
     "data": {
      "image/png": "[encoded data removed]",
      "text/plain": [
       "<Figure size 432x432 with 1 Axes>"
      ]
     },
     "metadata": {},
     "output_type": "display_data"
    }
   ],
   "source": [
    "#функция для категоризации по платежам\n",
    "def overpaying_adding(column, number):\n",
    "    if column <= number:\n",
    "        return 'Хватает лимита'\n",
    "    return 'Переплачивают'\n",
    "\n",
    "\n",
    "#категоризируем\n",
    "mean_income_smart['overpaying'] = mean_income_smart.apply(lambda x: overpaying_adding(x.monthly_total, 550), axis=1)\n",
    "mean_income_ultra['overpaying'] = mean_income_ultra.apply(lambda x: overpaying_adding(x.monthly_total, 1950), axis=1)\n",
    "\n",
    "#показываем пирогов\n",
    "mean_income_smart.groupby('overpaying')['user_id'].count().plot.pie(figsize=(6, 6), autopct=\"%.f\")\n",
    "print('средняя выручка на тарифе Смарт', round(mean_income_smart['monthly_total'].mean()))"
   ]
  },
  {
   "cell_type": "markdown",
   "metadata": {},
   "source": [
    "95% абонентов тарифа \"Смарт\" платят сумму, превышающую абонентскую плату. Средняя выручка составляет 1324 рубля, что более, чем в два раза превышает абонентскую плату. \n",
    "\n",
    "Это было подтверждено в исследовании абонентов тарифа \"Смарт\". Средний расход минут и смс приближается к их количеству в тарифе, а вот интернета они расходуют в среднем больше - 16 ГБ против 15 ГБ, включенных в тариф."
   ]
  },
  {
   "cell_type": "markdown",
   "metadata": {},
   "source": [
    "Абоненты же тарифа \"Ультра\", напротив, не так часто превышают лимит"
   ]
  },
  {
   "cell_type": "code",
   "execution_count": 52,
   "metadata": {
    "scrolled": false
   },
   "outputs": [
    {
     "name": "stdout",
     "output_type": "stream",
     "text": [
      "средняя выручка на тарифе Ультра 2086\n"
     ]
    },
    {
     "data": {
      "image/png": "[encoded data removed]",
      "text/plain": [
       "<Figure size 432x432 with 1 Axes>"
      ]
     },
     "metadata": {},
     "output_type": "display_data"
    }
   ],
   "source": [
    "mean_income_ultra.groupby('overpaying')['user_id'].count().plot.pie(figsize=(6, 6), autopct=\"%.f\")\n",
    "print('средняя выручка на тарифе Ультра', round(mean_income_ultra['monthly_total'].mean()))"
   ]
  },
  {
   "cell_type": "markdown",
   "metadata": {},
   "source": [
    "29% абонентов тарифа \"Ультра\" не хватает предоплаченных услуг, но совсем чуть-чуть. Средний счет составляет 2086 рублей. \n",
    "\n",
    "Количество включеннных услуг в данном тарифе избыточно. 99% абонетов тарифа не расходуют столько минут и смс, сколько включено в тариф. Ситуация иная только с интернет-траффиком, все переплаты связаны именно с ним."
   ]
  },
  {
   "cell_type": "markdown",
   "metadata": {},
   "source": [
    "### Различия в выручке между абонентами из Москвы и регионов\n",
    "Статистически значимых различий в выручке между абонентами из Москвы и регионов не наблюдается. \n",
    "\n",
    "У них даже распределение похожее."
   ]
  },
  {
   "cell_type": "code",
   "execution_count": 53,
   "metadata": {},
   "outputs": [
    {
     "data": {
      "image/png": "[encoded data removed]",
      "text/plain": [
       "<Figure size 432x288 with 1 Axes>"
      ]
     },
     "metadata": {
      "needs_background": "light"
     },
     "output_type": "display_data"
    }
   ],
   "source": [
    "plt.hist(mean_income_regions['monthly_total'], alpha=0.7, label='Регионы')\n",
    "plt.hist(mean_income_moscow['monthly_total'], alpha=0.7, label='Москва')\n",
    "plt.title('Средний счет среди абонентов разных регионов')\n",
    "plt.legend(loc='upper left')\n",
    "plt.xlabel('monthly_total')\n",
    "plt.ylabel('Абоненты')\n",
    "plt.show()"
   ]
  },
  {
   "cell_type": "markdown",
   "metadata": {},
   "source": [
    "### Наиболее выгодный тариф\n",
    "Тариф \"Ультра\" наиболее выгодный приносит больше денег.\n",
    "Средний ежемесячный платеж абонента тарифа \"Ультра\" превышает средний платеж абонета тарифа \"Смарт\". Но это не все его преимущества для компании. Доля дохода от него превышает долю его абонентов. \n",
    "Посмотрим, какое соотношение среди абонентов этих тарифов."
   ]
  },
  {
   "cell_type": "code",
   "execution_count": 54,
   "metadata": {},
   "outputs": [
    {
     "data": {
      "text/plain": [
       "<AxesSubplot:ylabel='user_id'>"
      ]
     },
     "execution_count": 54,
     "metadata": {},
     "output_type": "execute_result"
    },
    {
     "data": {
      "image/png": "[encoded data removed]",
      "text/plain": [
       "<Figure size 432x432 with 1 Axes>"
      ]
     },
     "metadata": {},
     "output_type": "display_data"
    }
   ],
   "source": [
    "mean_income.groupby('tariff')['user_id'].count().plot.pie(figsize=(6, 6), autopct=\"%.f\")"
   ]
  },
  {
   "cell_type": "markdown",
   "metadata": {},
   "source": [
    "Доля абонентов тарифа \"Ультра\" составляет 30%. А какое соотношение приносимой ими прибыли?"
   ]
  },
  {
   "cell_type": "code",
   "execution_count": 55,
   "metadata": {},
   "outputs": [
    {
     "data": {
      "text/plain": [
       "<AxesSubplot:ylabel='monthly_total'>"
      ]
     },
     "execution_count": 55,
     "metadata": {},
     "output_type": "execute_result"
    },
    {
     "data": {
      "image/png": "[encoded data removed]",
      "text/plain": [
       "<Figure size 432x432 with 1 Axes>"
      ]
     },
     "metadata": {},
     "output_type": "display_data"
    }
   ],
   "source": [
    "mean_income.groupby('tariff')['monthly_total'].sum().plot.pie(figsize=(6, 6), autopct=\"%.f\")"
   ]
  },
  {
   "cell_type": "markdown",
   "metadata": {},
   "source": [
    "30% абонентов приносят 40% прибыли компании. Что тут еще сказать?"
   ]
  }
 ],
 "metadata": {
  "ExecuteTimeLog": [
   {
    "duration": 3,
    "start_time": "2022-03-17T18:45:27.064Z"
   },
   {
    "duration": 812,
    "start_time": "2022-03-17T18:48:05.374Z"
   },
   {
    "duration": 33,
    "start_time": "2022-03-17T18:53:44.002Z"
   },
   {
    "duration": 37,
    "start_time": "2022-03-17T18:55:15.577Z"
   },
   {
    "duration": 48,
    "start_time": "2022-03-17T18:57:19.806Z"
   },
   {
    "duration": 42,
    "start_time": "2022-03-17T19:05:52.165Z"
   },
   {
    "duration": 52,
    "start_time": "2022-03-17T19:06:11.107Z"
   },
   {
    "duration": 15,
    "start_time": "2022-03-17T19:07:44.707Z"
   },
   {
    "duration": 89,
    "start_time": "2022-03-17T19:08:28.265Z"
   },
   {
    "duration": 23,
    "start_time": "2022-03-17T19:08:38.323Z"
   },
   {
    "duration": 193,
    "start_time": "2022-03-17T19:11:04.274Z"
   },
   {
    "duration": 221,
    "start_time": "2022-03-17T19:11:19.095Z"
   },
   {
    "duration": 157,
    "start_time": "2022-03-17T19:11:58.861Z"
   },
   {
    "duration": 217,
    "start_time": "2022-03-17T19:12:05.202Z"
   },
   {
    "duration": 202,
    "start_time": "2022-03-17T19:16:43.550Z"
   },
   {
    "duration": 206,
    "start_time": "2022-03-17T19:17:22.799Z"
   },
   {
    "duration": 172,
    "start_time": "2022-03-17T19:17:45.164Z"
   },
   {
    "duration": 213,
    "start_time": "2022-03-17T19:18:02.084Z"
   },
   {
    "duration": 207,
    "start_time": "2022-03-17T19:18:11.187Z"
   },
   {
    "duration": 115,
    "start_time": "2022-03-17T19:28:10.779Z"
   },
   {
    "duration": 124,
    "start_time": "2022-03-17T19:28:52.388Z"
   },
   {
    "duration": 43,
    "start_time": "2022-03-17T19:31:51.098Z"
   },
   {
    "duration": 20,
    "start_time": "2022-03-17T19:32:27.239Z"
   },
   {
    "duration": 23,
    "start_time": "2022-03-17T19:32:37.706Z"
   },
   {
    "duration": 2,
    "start_time": "2022-03-17T19:38:52.100Z"
   },
   {
    "duration": 2,
    "start_time": "2022-03-17T19:38:55.373Z"
   },
   {
    "duration": 2,
    "start_time": "2022-03-17T19:47:51.680Z"
   },
   {
    "duration": 184,
    "start_time": "2022-03-17T19:48:01.843Z"
   },
   {
    "duration": 2,
    "start_time": "2022-03-17T19:52:51.300Z"
   },
   {
    "duration": 2,
    "start_time": "2022-03-17T19:53:08.897Z"
   },
   {
    "duration": 52,
    "start_time": "2022-03-18T08:42:38.613Z"
   },
   {
    "duration": 890,
    "start_time": "2022-03-18T08:42:47.959Z"
   },
   {
    "duration": 63,
    "start_time": "2022-03-18T08:42:48.851Z"
   },
   {
    "duration": 25,
    "start_time": "2022-03-18T08:42:48.915Z"
   },
   {
    "duration": 230,
    "start_time": "2022-03-18T08:42:48.942Z"
   },
   {
    "duration": 205,
    "start_time": "2022-03-18T08:42:49.174Z"
   },
   {
    "duration": 138,
    "start_time": "2022-03-18T08:42:49.381Z"
   },
   {
    "duration": 103,
    "start_time": "2022-03-18T08:42:49.521Z"
   },
   {
    "duration": 15,
    "start_time": "2022-03-18T08:43:01.445Z"
   },
   {
    "duration": 14,
    "start_time": "2022-03-18T08:43:22.436Z"
   },
   {
    "duration": 14,
    "start_time": "2022-03-18T08:43:49.633Z"
   },
   {
    "duration": 54,
    "start_time": "2022-03-18T08:46:35.680Z"
   },
   {
    "duration": 42,
    "start_time": "2022-03-18T08:48:16.179Z"
   },
   {
    "duration": 38,
    "start_time": "2022-03-18T08:50:03.356Z"
   },
   {
    "duration": 14,
    "start_time": "2022-03-18T08:57:17.542Z"
   },
   {
    "duration": 12,
    "start_time": "2022-03-18T08:57:28.170Z"
   },
   {
    "duration": 106,
    "start_time": "2022-03-18T08:57:58.438Z"
   },
   {
    "duration": 840,
    "start_time": "2022-03-21T17:44:53.810Z"
   },
   {
    "duration": 61,
    "start_time": "2022-03-21T17:44:54.652Z"
   },
   {
    "duration": 24,
    "start_time": "2022-03-21T17:44:54.715Z"
   },
   {
    "duration": 232,
    "start_time": "2022-03-21T17:44:54.741Z"
   },
   {
    "duration": 206,
    "start_time": "2022-03-21T17:44:54.975Z"
   },
   {
    "duration": 141,
    "start_time": "2022-03-21T17:44:55.184Z"
   },
   {
    "duration": 16,
    "start_time": "2022-03-21T17:44:55.327Z"
   },
   {
    "duration": 77,
    "start_time": "2022-03-21T17:44:55.344Z"
   },
   {
    "duration": 41,
    "start_time": "2022-03-21T17:44:55.423Z"
   },
   {
    "duration": 57,
    "start_time": "2022-03-21T17:44:55.466Z"
   },
   {
    "duration": 11,
    "start_time": "2022-03-21T17:44:55.525Z"
   },
   {
    "duration": 2469,
    "start_time": "2022-03-21T18:07:36.546Z"
   },
   {
    "duration": 34,
    "start_time": "2022-03-21T18:08:47.403Z"
   },
   {
    "duration": 33,
    "start_time": "2022-03-21T18:09:05.889Z"
   },
   {
    "duration": 31,
    "start_time": "2022-03-21T18:10:48.878Z"
   },
   {
    "duration": 27,
    "start_time": "2022-03-21T18:11:36.362Z"
   },
   {
    "duration": 26,
    "start_time": "2022-03-21T18:12:14.155Z"
   },
   {
    "duration": 2333,
    "start_time": "2022-03-21T18:12:39.051Z"
   },
   {
    "duration": 22,
    "start_time": "2022-03-21T18:12:44.073Z"
   },
   {
    "duration": 10,
    "start_time": "2022-03-21T18:29:32.650Z"
   },
   {
    "duration": 77,
    "start_time": "2022-03-21T18:29:44.272Z"
   },
   {
    "duration": 63,
    "start_time": "2022-03-21T18:29:54.761Z"
   },
   {
    "duration": 77,
    "start_time": "2022-03-21T18:32:13.077Z"
   },
   {
    "duration": 64,
    "start_time": "2022-03-21T18:32:25.957Z"
   },
   {
    "duration": 80,
    "start_time": "2022-03-21T18:32:31.270Z"
   },
   {
    "duration": 67,
    "start_time": "2022-03-21T18:32:42.094Z"
   },
   {
    "duration": 77,
    "start_time": "2022-03-21T18:32:48.221Z"
   },
   {
    "duration": 87,
    "start_time": "2022-03-21T18:37:25.185Z"
   },
   {
    "duration": 4,
    "start_time": "2022-03-21T18:42:33.354Z"
   },
   {
    "duration": 4,
    "start_time": "2022-03-21T18:42:56.561Z"
   },
   {
    "duration": 18,
    "start_time": "2022-03-21T18:46:21.354Z"
   },
   {
    "duration": 3,
    "start_time": "2022-03-21T18:57:15.826Z"
   },
   {
    "duration": 20,
    "start_time": "2022-03-21T18:58:28.322Z"
   },
   {
    "duration": 63,
    "start_time": "2022-03-21T19:00:03.526Z"
   },
   {
    "duration": 45,
    "start_time": "2022-03-21T19:01:12.679Z"
   },
   {
    "duration": 39,
    "start_time": "2022-03-21T19:22:55.409Z"
   },
   {
    "duration": 23,
    "start_time": "2022-03-21T19:23:54.681Z"
   },
   {
    "duration": 37,
    "start_time": "2022-03-21T19:24:01.691Z"
   },
   {
    "duration": 44,
    "start_time": "2022-03-21T19:24:31.860Z"
   },
   {
    "duration": 43,
    "start_time": "2022-03-21T19:27:03.215Z"
   },
   {
    "duration": 49,
    "start_time": "2022-03-21T19:29:57.749Z"
   },
   {
    "duration": 878,
    "start_time": "2022-03-22T19:37:22.584Z"
   },
   {
    "duration": 65,
    "start_time": "2022-03-22T19:37:23.464Z"
   },
   {
    "duration": 24,
    "start_time": "2022-03-22T19:37:23.531Z"
   },
   {
    "duration": 179,
    "start_time": "2022-03-22T19:37:23.556Z"
   },
   {
    "duration": 169,
    "start_time": "2022-03-22T19:37:23.737Z"
   },
   {
    "duration": 107,
    "start_time": "2022-03-22T19:37:23.907Z"
   },
   {
    "duration": 11,
    "start_time": "2022-03-22T19:37:24.016Z"
   },
   {
    "duration": 59,
    "start_time": "2022-03-22T19:37:24.029Z"
   },
   {
    "duration": 36,
    "start_time": "2022-03-22T19:37:24.090Z"
   },
   {
    "duration": 28,
    "start_time": "2022-03-22T19:37:24.128Z"
   },
   {
    "duration": 30,
    "start_time": "2022-03-22T19:37:24.158Z"
   },
   {
    "duration": 28,
    "start_time": "2022-03-22T19:37:24.189Z"
   },
   {
    "duration": 20,
    "start_time": "2022-03-22T19:37:24.219Z"
   },
   {
    "duration": 39,
    "start_time": "2022-03-22T19:37:24.242Z"
   },
   {
    "duration": 73,
    "start_time": "2022-03-22T19:37:24.283Z"
   },
   {
    "duration": 52,
    "start_time": "2022-03-22T19:37:24.358Z"
   },
   {
    "duration": 40,
    "start_time": "2022-03-22T19:37:24.412Z"
   },
   {
    "duration": 58,
    "start_time": "2022-03-22T19:37:24.454Z"
   },
   {
    "duration": 170,
    "start_time": "2022-03-22T19:43:39.659Z"
   },
   {
    "duration": 43,
    "start_time": "2022-03-22T19:47:17.334Z"
   },
   {
    "duration": 39,
    "start_time": "2022-03-22T19:47:49.573Z"
   },
   {
    "duration": 65,
    "start_time": "2022-03-22T19:48:05.465Z"
   },
   {
    "duration": 104,
    "start_time": "2022-03-22T19:48:24.618Z"
   },
   {
    "duration": 39,
    "start_time": "2022-03-22T19:51:18.811Z"
   },
   {
    "duration": 214,
    "start_time": "2022-03-22T19:51:32.097Z"
   },
   {
    "duration": 104,
    "start_time": "2022-03-22T19:51:42.328Z"
   },
   {
    "duration": 41,
    "start_time": "2022-03-22T19:52:59.031Z"
   },
   {
    "duration": 15,
    "start_time": "2022-03-22T19:54:31.670Z"
   },
   {
    "duration": 783,
    "start_time": "2022-03-22T19:55:36.436Z"
   },
   {
    "duration": 83,
    "start_time": "2022-03-22T19:55:37.222Z"
   },
   {
    "duration": 27,
    "start_time": "2022-03-22T19:55:37.306Z"
   },
   {
    "duration": 194,
    "start_time": "2022-03-22T19:55:37.334Z"
   },
   {
    "duration": 175,
    "start_time": "2022-03-22T19:55:37.530Z"
   },
   {
    "duration": 108,
    "start_time": "2022-03-22T19:55:37.707Z"
   },
   {
    "duration": 12,
    "start_time": "2022-03-22T19:55:37.816Z"
   },
   {
    "duration": 65,
    "start_time": "2022-03-22T19:55:37.829Z"
   },
   {
    "duration": 35,
    "start_time": "2022-03-22T19:55:37.895Z"
   },
   {
    "duration": 28,
    "start_time": "2022-03-22T19:55:37.932Z"
   },
   {
    "duration": 25,
    "start_time": "2022-03-22T19:55:37.961Z"
   },
   {
    "duration": 28,
    "start_time": "2022-03-22T19:55:37.988Z"
   },
   {
    "duration": 21,
    "start_time": "2022-03-22T19:55:38.017Z"
   },
   {
    "duration": 17,
    "start_time": "2022-03-22T19:55:38.040Z"
   },
   {
    "duration": 99,
    "start_time": "2022-03-22T19:55:38.059Z"
   },
   {
    "duration": 50,
    "start_time": "2022-03-22T19:55:38.159Z"
   },
   {
    "duration": 39,
    "start_time": "2022-03-22T19:55:38.210Z"
   },
   {
    "duration": 59,
    "start_time": "2022-03-22T19:55:38.251Z"
   },
   {
    "duration": 90,
    "start_time": "2022-03-22T19:55:38.312Z"
   },
   {
    "duration": 14,
    "start_time": "2022-03-22T19:55:59.315Z"
   },
   {
    "duration": 22,
    "start_time": "2022-03-22T19:59:00.086Z"
   },
   {
    "duration": 12,
    "start_time": "2022-03-22T19:59:26.377Z"
   },
   {
    "duration": 18,
    "start_time": "2022-03-22T20:02:50.216Z"
   },
   {
    "duration": 20,
    "start_time": "2022-03-22T20:03:00.450Z"
   },
   {
    "duration": 13,
    "start_time": "2022-03-22T20:04:35.533Z"
   },
   {
    "duration": 13,
    "start_time": "2022-03-22T20:06:42.640Z"
   },
   {
    "duration": 14,
    "start_time": "2022-03-22T20:06:51.341Z"
   },
   {
    "duration": 12,
    "start_time": "2022-03-22T20:09:28.641Z"
   },
   {
    "duration": 11,
    "start_time": "2022-03-22T20:09:49.598Z"
   },
   {
    "duration": 851,
    "start_time": "2022-03-22T20:10:06.445Z"
   },
   {
    "duration": 79,
    "start_time": "2022-03-22T20:10:07.298Z"
   },
   {
    "duration": 27,
    "start_time": "2022-03-22T20:10:07.379Z"
   },
   {
    "duration": 318,
    "start_time": "2022-03-22T20:10:07.409Z"
   },
   {
    "duration": 292,
    "start_time": "2022-03-22T20:10:07.729Z"
   },
   {
    "duration": 190,
    "start_time": "2022-03-22T20:10:08.023Z"
   },
   {
    "duration": 19,
    "start_time": "2022-03-22T20:10:08.215Z"
   },
   {
    "duration": 98,
    "start_time": "2022-03-22T20:10:08.236Z"
   },
   {
    "duration": 70,
    "start_time": "2022-03-22T20:10:08.337Z"
   },
   {
    "duration": 48,
    "start_time": "2022-03-22T20:10:08.410Z"
   },
   {
    "duration": 26,
    "start_time": "2022-03-22T20:10:08.460Z"
   },
   {
    "duration": 40,
    "start_time": "2022-03-22T20:10:08.487Z"
   },
   {
    "duration": 30,
    "start_time": "2022-03-22T20:10:08.529Z"
   },
   {
    "duration": 28,
    "start_time": "2022-03-22T20:10:08.581Z"
   },
   {
    "duration": 143,
    "start_time": "2022-03-22T20:10:08.611Z"
   },
   {
    "duration": 81,
    "start_time": "2022-03-22T20:10:08.756Z"
   },
   {
    "duration": 70,
    "start_time": "2022-03-22T20:10:08.839Z"
   },
   {
    "duration": 46,
    "start_time": "2022-03-22T20:10:08.911Z"
   },
   {
    "duration": 33,
    "start_time": "2022-03-22T20:10:08.959Z"
   },
   {
    "duration": 843,
    "start_time": "2022-03-22T20:10:19.841Z"
   },
   {
    "duration": 76,
    "start_time": "2022-03-22T20:10:20.686Z"
   },
   {
    "duration": 27,
    "start_time": "2022-03-22T20:10:20.763Z"
   },
   {
    "duration": 199,
    "start_time": "2022-03-22T20:10:20.792Z"
   },
   {
    "duration": 175,
    "start_time": "2022-03-22T20:10:20.992Z"
   },
   {
    "duration": 114,
    "start_time": "2022-03-22T20:10:21.181Z"
   },
   {
    "duration": 12,
    "start_time": "2022-03-22T20:10:21.296Z"
   },
   {
    "duration": 71,
    "start_time": "2022-03-22T20:10:21.309Z"
   },
   {
    "duration": 35,
    "start_time": "2022-03-22T20:10:21.382Z"
   },
   {
    "duration": 32,
    "start_time": "2022-03-22T20:10:21.420Z"
   },
   {
    "duration": 31,
    "start_time": "2022-03-22T20:10:21.454Z"
   },
   {
    "duration": 39,
    "start_time": "2022-03-22T20:10:21.487Z"
   },
   {
    "duration": 24,
    "start_time": "2022-03-22T20:10:21.528Z"
   },
   {
    "duration": 29,
    "start_time": "2022-03-22T20:10:21.554Z"
   },
   {
    "duration": 132,
    "start_time": "2022-03-22T20:10:21.586Z"
   },
   {
    "duration": 76,
    "start_time": "2022-03-22T20:10:21.720Z"
   },
   {
    "duration": 44,
    "start_time": "2022-03-22T20:10:21.798Z"
   },
   {
    "duration": 62,
    "start_time": "2022-03-22T20:10:21.843Z"
   },
   {
    "duration": 115,
    "start_time": "2022-03-22T20:10:21.906Z"
   },
   {
    "duration": 13,
    "start_time": "2022-03-22T20:10:44.157Z"
   },
   {
    "duration": 835,
    "start_time": "2022-03-22T20:10:52.042Z"
   },
   {
    "duration": 75,
    "start_time": "2022-03-22T20:10:52.879Z"
   },
   {
    "duration": 25,
    "start_time": "2022-03-22T20:10:52.956Z"
   },
   {
    "duration": 199,
    "start_time": "2022-03-22T20:10:52.983Z"
   },
   {
    "duration": 167,
    "start_time": "2022-03-22T20:10:53.183Z"
   },
   {
    "duration": 116,
    "start_time": "2022-03-22T20:10:53.352Z"
   },
   {
    "duration": 21,
    "start_time": "2022-03-22T20:10:53.469Z"
   },
   {
    "duration": 51,
    "start_time": "2022-03-22T20:10:53.492Z"
   },
   {
    "duration": 48,
    "start_time": "2022-03-22T20:10:53.544Z"
   },
   {
    "duration": 30,
    "start_time": "2022-03-22T20:10:53.594Z"
   },
   {
    "duration": 9,
    "start_time": "2022-03-22T20:10:53.625Z"
   },
   {
    "duration": 52,
    "start_time": "2022-03-22T20:10:53.636Z"
   },
   {
    "duration": 22,
    "start_time": "2022-03-22T20:10:53.689Z"
   },
   {
    "duration": 19,
    "start_time": "2022-03-22T20:10:53.713Z"
   },
   {
    "duration": 101,
    "start_time": "2022-03-22T20:10:53.733Z"
   },
   {
    "duration": 51,
    "start_time": "2022-03-22T20:10:53.835Z"
   },
   {
    "duration": 42,
    "start_time": "2022-03-22T20:10:53.887Z"
   },
   {
    "duration": 57,
    "start_time": "2022-03-22T20:10:53.930Z"
   },
   {
    "duration": 93,
    "start_time": "2022-03-22T20:10:53.989Z"
   },
   {
    "duration": 14,
    "start_time": "2022-03-22T20:17:51.432Z"
   },
   {
    "duration": 787,
    "start_time": "2022-03-22T20:18:00.103Z"
   },
   {
    "duration": 95,
    "start_time": "2022-03-22T20:18:00.893Z"
   },
   {
    "duration": 31,
    "start_time": "2022-03-22T20:18:00.990Z"
   },
   {
    "duration": 214,
    "start_time": "2022-03-22T20:18:01.023Z"
   },
   {
    "duration": 311,
    "start_time": "2022-03-22T20:18:01.239Z"
   },
   {
    "duration": 194,
    "start_time": "2022-03-22T20:18:01.552Z"
   },
   {
    "duration": 36,
    "start_time": "2022-03-22T20:18:01.748Z"
   },
   {
    "duration": 83,
    "start_time": "2022-03-22T20:18:01.787Z"
   },
   {
    "duration": 65,
    "start_time": "2022-03-22T20:18:01.880Z"
   },
   {
    "duration": 60,
    "start_time": "2022-03-22T20:18:01.948Z"
   },
   {
    "duration": 12,
    "start_time": "2022-03-22T20:18:02.011Z"
   },
   {
    "duration": 28,
    "start_time": "2022-03-22T20:18:02.025Z"
   },
   {
    "duration": 48,
    "start_time": "2022-03-22T20:18:02.055Z"
   },
   {
    "duration": 20,
    "start_time": "2022-03-22T20:18:02.106Z"
   },
   {
    "duration": 101,
    "start_time": "2022-03-22T20:18:02.127Z"
   },
   {
    "duration": 53,
    "start_time": "2022-03-22T20:18:02.229Z"
   },
   {
    "duration": 42,
    "start_time": "2022-03-22T20:18:02.283Z"
   },
   {
    "duration": 57,
    "start_time": "2022-03-22T20:18:02.327Z"
   },
   {
    "duration": 156,
    "start_time": "2022-03-22T20:18:02.386Z"
   },
   {
    "duration": 13,
    "start_time": "2022-03-22T20:21:38.317Z"
   },
   {
    "duration": 7,
    "start_time": "2022-03-22T20:22:49.802Z"
   },
   {
    "duration": 30,
    "start_time": "2022-03-22T20:23:37.600Z"
   },
   {
    "duration": 157,
    "start_time": "2022-03-22T20:34:28.425Z"
   },
   {
    "duration": 797,
    "start_time": "2022-03-22T20:38:06.025Z"
   },
   {
    "duration": 65,
    "start_time": "2022-03-22T20:38:06.824Z"
   },
   {
    "duration": 25,
    "start_time": "2022-03-22T20:38:06.890Z"
   },
   {
    "duration": 197,
    "start_time": "2022-03-22T20:38:06.917Z"
   },
   {
    "duration": 180,
    "start_time": "2022-03-22T20:38:07.115Z"
   },
   {
    "duration": 115,
    "start_time": "2022-03-22T20:38:07.296Z"
   },
   {
    "duration": 12,
    "start_time": "2022-03-22T20:38:07.412Z"
   },
   {
    "duration": 63,
    "start_time": "2022-03-22T20:38:07.426Z"
   },
   {
    "duration": 37,
    "start_time": "2022-03-22T20:38:07.491Z"
   },
   {
    "duration": 31,
    "start_time": "2022-03-22T20:38:07.531Z"
   },
   {
    "duration": 26,
    "start_time": "2022-03-22T20:38:07.563Z"
   },
   {
    "duration": 26,
    "start_time": "2022-03-22T20:38:07.591Z"
   },
   {
    "duration": 22,
    "start_time": "2022-03-22T20:38:07.618Z"
   },
   {
    "duration": 47,
    "start_time": "2022-03-22T20:38:07.642Z"
   },
   {
    "duration": 83,
    "start_time": "2022-03-22T20:38:07.690Z"
   },
   {
    "duration": 44,
    "start_time": "2022-03-22T20:38:07.781Z"
   },
   {
    "duration": 60,
    "start_time": "2022-03-22T20:38:07.826Z"
   },
   {
    "duration": 45,
    "start_time": "2022-03-22T20:38:07.887Z"
   },
   {
    "duration": 48,
    "start_time": "2022-03-22T20:38:07.934Z"
   },
   {
    "duration": 3,
    "start_time": "2022-03-22T20:38:07.983Z"
   },
   {
    "duration": 42,
    "start_time": "2022-03-22T20:38:40.711Z"
   },
   {
    "duration": 818,
    "start_time": "2022-03-22T20:38:46.563Z"
   },
   {
    "duration": 65,
    "start_time": "2022-03-22T20:38:47.383Z"
   },
   {
    "duration": 24,
    "start_time": "2022-03-22T20:38:47.450Z"
   },
   {
    "duration": 205,
    "start_time": "2022-03-22T20:38:47.476Z"
   },
   {
    "duration": 178,
    "start_time": "2022-03-22T20:38:47.682Z"
   },
   {
    "duration": 123,
    "start_time": "2022-03-22T20:38:47.862Z"
   },
   {
    "duration": 13,
    "start_time": "2022-03-22T20:38:47.987Z"
   },
   {
    "duration": 47,
    "start_time": "2022-03-22T20:38:48.002Z"
   },
   {
    "duration": 56,
    "start_time": "2022-03-22T20:38:48.050Z"
   },
   {
    "duration": 29,
    "start_time": "2022-03-22T20:38:48.110Z"
   },
   {
    "duration": 11,
    "start_time": "2022-03-22T20:38:48.141Z"
   },
   {
    "duration": 49,
    "start_time": "2022-03-22T20:38:48.153Z"
   },
   {
    "duration": 21,
    "start_time": "2022-03-22T20:38:48.204Z"
   },
   {
    "duration": 18,
    "start_time": "2022-03-22T20:38:48.226Z"
   },
   {
    "duration": 104,
    "start_time": "2022-03-22T20:38:48.246Z"
   },
   {
    "duration": 49,
    "start_time": "2022-03-22T20:38:48.352Z"
   },
   {
    "duration": 43,
    "start_time": "2022-03-22T20:38:48.402Z"
   },
   {
    "duration": 56,
    "start_time": "2022-03-22T20:38:48.446Z"
   },
   {
    "duration": 17,
    "start_time": "2022-03-22T20:38:48.504Z"
   },
   {
    "duration": 2,
    "start_time": "2022-03-22T20:38:48.523Z"
   },
   {
    "duration": 30,
    "start_time": "2022-03-22T20:39:18.428Z"
   },
   {
    "duration": 25,
    "start_time": "2022-03-22T20:39:55.141Z"
   },
   {
    "duration": 14,
    "start_time": "2022-03-22T20:40:24.636Z"
   },
   {
    "duration": 798,
    "start_time": "2022-03-22T20:43:23.977Z"
   },
   {
    "duration": 62,
    "start_time": "2022-03-22T20:43:24.777Z"
   },
   {
    "duration": 25,
    "start_time": "2022-03-22T20:43:24.841Z"
   },
   {
    "duration": 201,
    "start_time": "2022-03-22T20:43:24.868Z"
   },
   {
    "duration": 185,
    "start_time": "2022-03-22T20:43:25.081Z"
   },
   {
    "duration": 120,
    "start_time": "2022-03-22T20:43:25.268Z"
   },
   {
    "duration": 13,
    "start_time": "2022-03-22T20:43:25.391Z"
   },
   {
    "duration": 49,
    "start_time": "2022-03-22T20:43:25.406Z"
   },
   {
    "duration": 61,
    "start_time": "2022-03-22T20:43:25.456Z"
   },
   {
    "duration": 30,
    "start_time": "2022-03-22T20:43:25.519Z"
   },
   {
    "duration": 39,
    "start_time": "2022-03-22T20:43:25.551Z"
   },
   {
    "duration": 28,
    "start_time": "2022-03-22T20:43:25.592Z"
   },
   {
    "duration": 21,
    "start_time": "2022-03-22T20:43:25.622Z"
   },
   {
    "duration": 39,
    "start_time": "2022-03-22T20:43:25.644Z"
   },
   {
    "duration": 122,
    "start_time": "2022-03-22T20:43:25.685Z"
   },
   {
    "duration": 77,
    "start_time": "2022-03-22T20:43:25.809Z"
   },
   {
    "duration": 47,
    "start_time": "2022-03-22T20:43:25.887Z"
   },
   {
    "duration": 62,
    "start_time": "2022-03-22T20:43:25.935Z"
   },
   {
    "duration": 36,
    "start_time": "2022-03-22T20:43:25.998Z"
   },
   {
    "duration": 2,
    "start_time": "2022-03-22T20:43:26.036Z"
   },
   {
    "duration": 771,
    "start_time": "2022-03-24T19:23:30.253Z"
   },
   {
    "duration": 71,
    "start_time": "2022-03-24T19:23:31.026Z"
   },
   {
    "duration": 20,
    "start_time": "2022-03-24T19:23:31.098Z"
   },
   {
    "duration": 195,
    "start_time": "2022-03-24T19:23:31.120Z"
   },
   {
    "duration": 167,
    "start_time": "2022-03-24T19:23:31.317Z"
   },
   {
    "duration": 108,
    "start_time": "2022-03-24T19:23:31.485Z"
   },
   {
    "duration": 24,
    "start_time": "2022-03-24T19:23:31.595Z"
   },
   {
    "duration": 55,
    "start_time": "2022-03-24T19:23:31.621Z"
   },
   {
    "duration": 49,
    "start_time": "2022-03-24T19:23:31.678Z"
   },
   {
    "duration": 30,
    "start_time": "2022-03-24T19:23:31.728Z"
   },
   {
    "duration": 10,
    "start_time": "2022-03-24T19:23:31.759Z"
   },
   {
    "duration": 53,
    "start_time": "2022-03-24T19:23:31.770Z"
   },
   {
    "duration": 22,
    "start_time": "2022-03-24T19:23:31.824Z"
   },
   {
    "duration": 18,
    "start_time": "2022-03-24T19:23:31.849Z"
   },
   {
    "duration": 98,
    "start_time": "2022-03-24T19:23:31.868Z"
   },
   {
    "duration": 52,
    "start_time": "2022-03-24T19:23:31.968Z"
   },
   {
    "duration": 39,
    "start_time": "2022-03-24T19:23:32.022Z"
   },
   {
    "duration": 64,
    "start_time": "2022-03-24T19:23:32.063Z"
   },
   {
    "duration": 32,
    "start_time": "2022-03-24T19:23:32.129Z"
   },
   {
    "duration": 90,
    "start_time": "2022-03-24T19:23:32.162Z"
   },
   {
    "duration": 31,
    "start_time": "2022-03-24T19:24:55.083Z"
   },
   {
    "duration": 88,
    "start_time": "2022-03-24T19:25:47.051Z"
   },
   {
    "duration": 31,
    "start_time": "2022-03-24T19:26:42.437Z"
   },
   {
    "duration": 794,
    "start_time": "2022-03-24T19:27:27.531Z"
   },
   {
    "duration": 77,
    "start_time": "2022-03-24T19:27:28.327Z"
   },
   {
    "duration": 21,
    "start_time": "2022-03-24T19:27:28.406Z"
   },
   {
    "duration": 190,
    "start_time": "2022-03-24T19:27:28.429Z"
   },
   {
    "duration": 173,
    "start_time": "2022-03-24T19:27:28.621Z"
   },
   {
    "duration": 124,
    "start_time": "2022-03-24T19:27:28.796Z"
   },
   {
    "duration": 15,
    "start_time": "2022-03-24T19:27:28.922Z"
   },
   {
    "duration": 69,
    "start_time": "2022-03-24T19:27:28.939Z"
   },
   {
    "duration": 38,
    "start_time": "2022-03-24T19:27:29.010Z"
   },
   {
    "duration": 30,
    "start_time": "2022-03-24T19:27:29.050Z"
   },
   {
    "duration": 32,
    "start_time": "2022-03-24T19:27:29.082Z"
   },
   {
    "duration": 35,
    "start_time": "2022-03-24T19:27:29.116Z"
   },
   {
    "duration": 21,
    "start_time": "2022-03-24T19:27:29.153Z"
   },
   {
    "duration": 39,
    "start_time": "2022-03-24T19:27:29.176Z"
   },
   {
    "duration": 92,
    "start_time": "2022-03-24T19:27:29.217Z"
   },
   {
    "duration": 44,
    "start_time": "2022-03-24T19:27:29.311Z"
   },
   {
    "duration": 56,
    "start_time": "2022-03-24T19:27:29.356Z"
   },
   {
    "duration": 60,
    "start_time": "2022-03-24T19:27:29.414Z"
   },
   {
    "duration": 52,
    "start_time": "2022-03-24T19:27:29.476Z"
   },
   {
    "duration": 87,
    "start_time": "2022-03-24T19:27:29.530Z"
   },
   {
    "duration": 30,
    "start_time": "2022-03-24T19:27:43.821Z"
   },
   {
    "duration": 857,
    "start_time": "2022-03-24T19:28:05.302Z"
   },
   {
    "duration": 67,
    "start_time": "2022-03-24T19:28:06.162Z"
   },
   {
    "duration": 23,
    "start_time": "2022-03-24T19:28:06.231Z"
   },
   {
    "duration": 211,
    "start_time": "2022-03-24T19:28:06.256Z"
   },
   {
    "duration": 192,
    "start_time": "2022-03-24T19:28:06.469Z"
   },
   {
    "duration": 133,
    "start_time": "2022-03-24T19:28:06.663Z"
   },
   {
    "duration": 24,
    "start_time": "2022-03-24T19:28:06.797Z"
   },
   {
    "duration": 55,
    "start_time": "2022-03-24T19:28:06.823Z"
   },
   {
    "duration": 59,
    "start_time": "2022-03-24T19:28:06.880Z"
   },
   {
    "duration": 33,
    "start_time": "2022-03-24T19:28:06.942Z"
   },
   {
    "duration": 11,
    "start_time": "2022-03-24T19:28:06.976Z"
   },
   {
    "duration": 29,
    "start_time": "2022-03-24T19:28:07.009Z"
   },
   {
    "duration": 24,
    "start_time": "2022-03-24T19:28:07.040Z"
   },
   {
    "duration": 45,
    "start_time": "2022-03-24T19:28:07.065Z"
   },
   {
    "duration": 97,
    "start_time": "2022-03-24T19:28:07.112Z"
   },
   {
    "duration": 48,
    "start_time": "2022-03-24T19:28:07.211Z"
   },
   {
    "duration": 67,
    "start_time": "2022-03-24T19:28:07.261Z"
   },
   {
    "duration": 46,
    "start_time": "2022-03-24T19:28:07.330Z"
   },
   {
    "duration": 53,
    "start_time": "2022-03-24T19:28:07.378Z"
   },
   {
    "duration": 29,
    "start_time": "2022-03-24T19:28:07.433Z"
   },
   {
    "duration": 855,
    "start_time": "2022-03-24T19:33:15.689Z"
   },
   {
    "duration": 59,
    "start_time": "2022-03-24T19:33:16.546Z"
   },
   {
    "duration": 21,
    "start_time": "2022-03-24T19:33:16.607Z"
   },
   {
    "duration": 210,
    "start_time": "2022-03-24T19:33:16.630Z"
   },
   {
    "duration": 188,
    "start_time": "2022-03-24T19:33:16.842Z"
   },
   {
    "duration": 121,
    "start_time": "2022-03-24T19:33:17.032Z"
   },
   {
    "duration": 15,
    "start_time": "2022-03-24T19:33:17.154Z"
   },
   {
    "duration": 72,
    "start_time": "2022-03-24T19:33:17.171Z"
   },
   {
    "duration": 41,
    "start_time": "2022-03-24T19:33:17.245Z"
   },
   {
    "duration": 45,
    "start_time": "2022-03-24T19:33:17.289Z"
   },
   {
    "duration": 10,
    "start_time": "2022-03-24T19:33:17.335Z"
   },
   {
    "duration": 31,
    "start_time": "2022-03-24T19:33:17.346Z"
   },
   {
    "duration": 43,
    "start_time": "2022-03-24T19:33:17.379Z"
   },
   {
    "duration": 20,
    "start_time": "2022-03-24T19:33:17.424Z"
   },
   {
    "duration": 105,
    "start_time": "2022-03-24T19:33:17.446Z"
   },
   {
    "duration": 61,
    "start_time": "2022-03-24T19:33:17.552Z"
   },
   {
    "duration": 47,
    "start_time": "2022-03-24T19:33:17.614Z"
   },
   {
    "duration": 63,
    "start_time": "2022-03-24T19:33:17.662Z"
   },
   {
    "duration": 38,
    "start_time": "2022-03-24T19:33:17.726Z"
   },
   {
    "duration": 63,
    "start_time": "2022-03-24T19:33:17.765Z"
   },
   {
    "duration": 844,
    "start_time": "2022-03-24T19:34:23.793Z"
   },
   {
    "duration": 55,
    "start_time": "2022-03-24T19:34:24.639Z"
   },
   {
    "duration": 20,
    "start_time": "2022-03-24T19:34:24.695Z"
   },
   {
    "duration": 206,
    "start_time": "2022-03-24T19:34:24.717Z"
   },
   {
    "duration": 169,
    "start_time": "2022-03-24T19:34:24.924Z"
   },
   {
    "duration": 130,
    "start_time": "2022-03-24T19:34:25.095Z"
   },
   {
    "duration": 12,
    "start_time": "2022-03-24T19:34:25.227Z"
   },
   {
    "duration": 51,
    "start_time": "2022-03-24T19:34:25.241Z"
   },
   {
    "duration": 39,
    "start_time": "2022-03-24T19:34:25.308Z"
   },
   {
    "duration": 30,
    "start_time": "2022-03-24T19:34:25.349Z"
   },
   {
    "duration": 30,
    "start_time": "2022-03-24T19:34:25.381Z"
   },
   {
    "duration": 27,
    "start_time": "2022-03-24T19:34:25.413Z"
   },
   {
    "duration": 24,
    "start_time": "2022-03-24T19:34:25.443Z"
   },
   {
    "duration": 46,
    "start_time": "2022-03-24T19:34:25.469Z"
   },
   {
    "duration": 104,
    "start_time": "2022-03-24T19:34:25.517Z"
   },
   {
    "duration": 50,
    "start_time": "2022-03-24T19:34:25.623Z"
   },
   {
    "duration": 61,
    "start_time": "2022-03-24T19:34:25.675Z"
   },
   {
    "duration": 46,
    "start_time": "2022-03-24T19:34:25.738Z"
   },
   {
    "duration": 56,
    "start_time": "2022-03-24T19:34:25.786Z"
   },
   {
    "duration": 41,
    "start_time": "2022-03-24T19:34:25.844Z"
   },
   {
    "duration": 852,
    "start_time": "2022-03-24T19:36:12.739Z"
   },
   {
    "duration": 62,
    "start_time": "2022-03-24T19:36:13.593Z"
   },
   {
    "duration": 24,
    "start_time": "2022-03-24T19:36:13.656Z"
   },
   {
    "duration": 246,
    "start_time": "2022-03-24T19:36:13.682Z"
   },
   {
    "duration": 204,
    "start_time": "2022-03-24T19:36:13.930Z"
   },
   {
    "duration": 149,
    "start_time": "2022-03-24T19:36:14.136Z"
   },
   {
    "duration": 26,
    "start_time": "2022-03-24T19:36:14.286Z"
   },
   {
    "duration": 62,
    "start_time": "2022-03-24T19:36:14.319Z"
   },
   {
    "duration": 60,
    "start_time": "2022-03-24T19:36:14.382Z"
   },
   {
    "duration": 35,
    "start_time": "2022-03-24T19:36:14.443Z"
   },
   {
    "duration": 32,
    "start_time": "2022-03-24T19:36:14.480Z"
   },
   {
    "duration": 34,
    "start_time": "2022-03-24T19:36:14.513Z"
   },
   {
    "duration": 26,
    "start_time": "2022-03-24T19:36:14.548Z"
   },
   {
    "duration": 50,
    "start_time": "2022-03-24T19:36:14.577Z"
   },
   {
    "duration": 106,
    "start_time": "2022-03-24T19:36:14.629Z"
   },
   {
    "duration": 51,
    "start_time": "2022-03-24T19:36:14.736Z"
   },
   {
    "duration": 63,
    "start_time": "2022-03-24T19:36:14.789Z"
   },
   {
    "duration": 61,
    "start_time": "2022-03-24T19:36:14.853Z"
   },
   {
    "duration": 38,
    "start_time": "2022-03-24T19:36:14.916Z"
   },
   {
    "duration": 119,
    "start_time": "2022-03-24T19:36:14.956Z"
   },
   {
    "duration": 777,
    "start_time": "2022-03-24T19:36:34.261Z"
   },
   {
    "duration": 51,
    "start_time": "2022-03-24T19:36:35.040Z"
   },
   {
    "duration": 25,
    "start_time": "2022-03-24T19:36:35.093Z"
   },
   {
    "duration": 199,
    "start_time": "2022-03-24T19:36:35.119Z"
   },
   {
    "duration": 171,
    "start_time": "2022-03-24T19:36:35.321Z"
   },
   {
    "duration": 116,
    "start_time": "2022-03-24T19:36:35.493Z"
   },
   {
    "duration": 13,
    "start_time": "2022-03-24T19:36:35.611Z"
   },
   {
    "duration": 54,
    "start_time": "2022-03-24T19:36:35.626Z"
   },
   {
    "duration": 54,
    "start_time": "2022-03-24T19:36:35.682Z"
   },
   {
    "duration": 28,
    "start_time": "2022-03-24T19:36:35.738Z"
   },
   {
    "duration": 11,
    "start_time": "2022-03-24T19:36:35.767Z"
   },
   {
    "duration": 52,
    "start_time": "2022-03-24T19:36:35.779Z"
   },
   {
    "duration": 23,
    "start_time": "2022-03-24T19:36:35.833Z"
   },
   {
    "duration": 20,
    "start_time": "2022-03-24T19:36:35.858Z"
   },
   {
    "duration": 105,
    "start_time": "2022-03-24T19:36:35.879Z"
   },
   {
    "duration": 54,
    "start_time": "2022-03-24T19:36:35.985Z"
   },
   {
    "duration": 40,
    "start_time": "2022-03-24T19:36:36.041Z"
   },
   {
    "duration": 59,
    "start_time": "2022-03-24T19:36:36.082Z"
   },
   {
    "duration": 35,
    "start_time": "2022-03-24T19:36:36.142Z"
   },
   {
    "duration": 57,
    "start_time": "2022-03-24T19:36:36.178Z"
   },
   {
    "duration": 846,
    "start_time": "2022-03-24T19:37:19.498Z"
   },
   {
    "duration": 56,
    "start_time": "2022-03-24T19:37:20.345Z"
   },
   {
    "duration": 21,
    "start_time": "2022-03-24T19:37:20.402Z"
   },
   {
    "duration": 205,
    "start_time": "2022-03-24T19:37:20.424Z"
   },
   {
    "duration": 189,
    "start_time": "2022-03-24T19:37:20.631Z"
   },
   {
    "duration": 122,
    "start_time": "2022-03-24T19:37:20.821Z"
   },
   {
    "duration": 14,
    "start_time": "2022-03-24T19:37:20.944Z"
   },
   {
    "duration": 70,
    "start_time": "2022-03-24T19:37:20.959Z"
   },
   {
    "duration": 38,
    "start_time": "2022-03-24T19:37:21.031Z"
   },
   {
    "duration": 48,
    "start_time": "2022-03-24T19:37:21.071Z"
   },
   {
    "duration": 10,
    "start_time": "2022-03-24T19:37:21.121Z"
   },
   {
    "duration": 32,
    "start_time": "2022-03-24T19:37:21.132Z"
   },
   {
    "duration": 23,
    "start_time": "2022-03-24T19:37:21.165Z"
   },
   {
    "duration": 37,
    "start_time": "2022-03-24T19:37:21.191Z"
   },
   {
    "duration": 102,
    "start_time": "2022-03-24T19:37:21.229Z"
   },
   {
    "duration": 45,
    "start_time": "2022-03-24T19:37:21.333Z"
   },
   {
    "duration": 56,
    "start_time": "2022-03-24T19:37:21.380Z"
   },
   {
    "duration": 44,
    "start_time": "2022-03-24T19:37:21.438Z"
   },
   {
    "duration": 46,
    "start_time": "2022-03-24T19:37:21.484Z"
   },
   {
    "duration": 40,
    "start_time": "2022-03-24T19:37:21.532Z"
   },
   {
    "duration": 36,
    "start_time": "2022-03-24T19:47:49.694Z"
   },
   {
    "duration": 112,
    "start_time": "2022-03-24T19:49:51.235Z"
   },
   {
    "duration": 53,
    "start_time": "2022-03-24T19:51:26.087Z"
   },
   {
    "duration": 34,
    "start_time": "2022-03-24T20:01:18.749Z"
   },
   {
    "duration": 42,
    "start_time": "2022-03-24T20:04:43.941Z"
   },
   {
    "duration": 84,
    "start_time": "2022-03-24T20:05:46.598Z"
   },
   {
    "duration": 532,
    "start_time": "2022-03-24T20:18:13.877Z"
   },
   {
    "duration": 31,
    "start_time": "2022-03-24T20:24:49.808Z"
   },
   {
    "duration": 68,
    "start_time": "2022-03-24T20:28:39.919Z"
   },
   {
    "duration": 809,
    "start_time": "2022-03-24T20:29:24.529Z"
   },
   {
    "duration": 55,
    "start_time": "2022-03-24T20:29:25.340Z"
   },
   {
    "duration": 20,
    "start_time": "2022-03-24T20:29:25.399Z"
   },
   {
    "duration": 197,
    "start_time": "2022-03-24T20:29:25.421Z"
   },
   {
    "duration": 168,
    "start_time": "2022-03-24T20:29:25.619Z"
   },
   {
    "duration": 110,
    "start_time": "2022-03-24T20:29:25.789Z"
   },
   {
    "duration": 13,
    "start_time": "2022-03-24T20:29:25.909Z"
   },
   {
    "duration": 51,
    "start_time": "2022-03-24T20:29:25.924Z"
   },
   {
    "duration": 57,
    "start_time": "2022-03-24T20:29:25.977Z"
   },
   {
    "duration": 29,
    "start_time": "2022-03-24T20:29:26.036Z"
   },
   {
    "duration": 9,
    "start_time": "2022-03-24T20:29:26.067Z"
   },
   {
    "duration": 46,
    "start_time": "2022-03-24T20:29:26.077Z"
   },
   {
    "duration": 21,
    "start_time": "2022-03-24T20:29:26.124Z"
   },
   {
    "duration": 18,
    "start_time": "2022-03-24T20:29:26.147Z"
   },
   {
    "duration": 102,
    "start_time": "2022-03-24T20:29:26.167Z"
   },
   {
    "duration": 53,
    "start_time": "2022-03-24T20:29:26.271Z"
   },
   {
    "duration": 43,
    "start_time": "2022-03-24T20:29:26.326Z"
   },
   {
    "duration": 66,
    "start_time": "2022-03-24T20:29:26.371Z"
   },
   {
    "duration": 35,
    "start_time": "2022-03-24T20:29:26.439Z"
   },
   {
    "duration": 59,
    "start_time": "2022-03-24T20:29:26.476Z"
   },
   {
    "duration": 34,
    "start_time": "2022-03-24T20:29:26.537Z"
   },
   {
    "duration": 64,
    "start_time": "2022-03-24T20:29:26.573Z"
   },
   {
    "duration": 33,
    "start_time": "2022-03-24T20:29:26.639Z"
   },
   {
    "duration": 61,
    "start_time": "2022-03-24T20:29:26.674Z"
   },
   {
    "duration": 85,
    "start_time": "2022-03-24T20:29:26.737Z"
   },
   {
    "duration": 54,
    "start_time": "2022-03-25T16:36:12.573Z"
   },
   {
    "duration": 888,
    "start_time": "2022-03-25T16:38:11.889Z"
   },
   {
    "duration": 64,
    "start_time": "2022-03-25T16:38:12.779Z"
   },
   {
    "duration": 21,
    "start_time": "2022-03-25T16:38:12.845Z"
   },
   {
    "duration": 8,
    "start_time": "2022-03-25T16:38:12.868Z"
   },
   {
    "duration": 57,
    "start_time": "2022-03-25T16:40:43.351Z"
   },
   {
    "duration": 12,
    "start_time": "2022-03-25T16:41:15.212Z"
   },
   {
    "duration": 12,
    "start_time": "2022-03-25T16:42:15.173Z"
   },
   {
    "duration": 11,
    "start_time": "2022-03-25T16:53:22.126Z"
   },
   {
    "duration": 10,
    "start_time": "2022-03-25T17:07:26.330Z"
   },
   {
    "duration": 13,
    "start_time": "2022-03-25T17:08:45.057Z"
   },
   {
    "duration": 6,
    "start_time": "2022-03-25T17:10:43.184Z"
   },
   {
    "duration": 13,
    "start_time": "2022-03-25T17:10:51.988Z"
   },
   {
    "duration": 3,
    "start_time": "2022-03-25T17:11:11.807Z"
   },
   {
    "duration": 76,
    "start_time": "2022-03-25T17:11:11.815Z"
   },
   {
    "duration": 29,
    "start_time": "2022-03-25T17:11:11.893Z"
   },
   {
    "duration": 9,
    "start_time": "2022-03-25T17:11:11.924Z"
   },
   {
    "duration": 22,
    "start_time": "2022-03-25T17:11:15.004Z"
   },
   {
    "duration": 3,
    "start_time": "2022-03-25T17:13:03.126Z"
   },
   {
    "duration": 48,
    "start_time": "2022-03-25T17:13:03.131Z"
   },
   {
    "duration": 20,
    "start_time": "2022-03-25T17:13:03.180Z"
   },
   {
    "duration": 8,
    "start_time": "2022-03-25T17:13:03.201Z"
   },
   {
    "duration": 22,
    "start_time": "2022-03-25T17:13:03.211Z"
   },
   {
    "duration": 11,
    "start_time": "2022-03-25T17:13:49.329Z"
   },
   {
    "duration": 10,
    "start_time": "2022-03-25T17:15:02.983Z"
   },
   {
    "duration": 13,
    "start_time": "2022-03-25T17:15:23.334Z"
   },
   {
    "duration": 8,
    "start_time": "2022-03-25T17:15:34.165Z"
   },
   {
    "duration": 12,
    "start_time": "2022-03-25T17:15:46.291Z"
   },
   {
    "duration": 11,
    "start_time": "2022-03-25T17:20:20.289Z"
   },
   {
    "duration": 12,
    "start_time": "2022-03-25T17:21:19.192Z"
   },
   {
    "duration": 15,
    "start_time": "2022-03-25T17:22:55.454Z"
   },
   {
    "duration": 12,
    "start_time": "2022-03-25T17:23:05.766Z"
   },
   {
    "duration": 13,
    "start_time": "2022-03-25T17:30:01.961Z"
   },
   {
    "duration": 85,
    "start_time": "2022-03-25T17:33:06.684Z"
   },
   {
    "duration": 3,
    "start_time": "2022-03-25T17:33:22.895Z"
   },
   {
    "duration": 60,
    "start_time": "2022-03-25T17:33:22.900Z"
   },
   {
    "duration": 15,
    "start_time": "2022-03-25T17:33:22.963Z"
   },
   {
    "duration": 35,
    "start_time": "2022-03-25T17:33:22.980Z"
   },
   {
    "duration": 115,
    "start_time": "2022-03-25T17:33:23.017Z"
   },
   {
    "duration": 22,
    "start_time": "2022-03-25T17:33:35.259Z"
   },
   {
    "duration": 2,
    "start_time": "2022-03-25T17:34:54.148Z"
   },
   {
    "duration": 46,
    "start_time": "2022-03-25T17:34:54.155Z"
   },
   {
    "duration": 14,
    "start_time": "2022-03-25T17:34:54.203Z"
   },
   {
    "duration": 26,
    "start_time": "2022-03-25T17:34:54.219Z"
   },
   {
    "duration": 14,
    "start_time": "2022-03-25T17:34:54.247Z"
   },
   {
    "duration": 0,
    "start_time": "2022-03-25T17:34:54.263Z"
   },
   {
    "duration": 0,
    "start_time": "2022-03-25T17:34:54.265Z"
   },
   {
    "duration": 0,
    "start_time": "2022-03-25T17:34:54.266Z"
   },
   {
    "duration": 0,
    "start_time": "2022-03-25T17:34:54.267Z"
   },
   {
    "duration": 0,
    "start_time": "2022-03-25T17:34:54.268Z"
   },
   {
    "duration": 0,
    "start_time": "2022-03-25T17:34:54.269Z"
   },
   {
    "duration": 0,
    "start_time": "2022-03-25T17:34:54.270Z"
   },
   {
    "duration": 0,
    "start_time": "2022-03-25T17:34:54.271Z"
   },
   {
    "duration": 0,
    "start_time": "2022-03-25T17:34:54.272Z"
   },
   {
    "duration": 0,
    "start_time": "2022-03-25T17:34:54.273Z"
   },
   {
    "duration": 0,
    "start_time": "2022-03-25T17:34:54.274Z"
   },
   {
    "duration": 0,
    "start_time": "2022-03-25T17:34:54.276Z"
   },
   {
    "duration": 0,
    "start_time": "2022-03-25T17:34:54.309Z"
   },
   {
    "duration": 0,
    "start_time": "2022-03-25T17:34:54.310Z"
   },
   {
    "duration": 0,
    "start_time": "2022-03-25T17:34:54.311Z"
   },
   {
    "duration": 0,
    "start_time": "2022-03-25T17:34:54.312Z"
   },
   {
    "duration": 0,
    "start_time": "2022-03-25T17:34:54.313Z"
   },
   {
    "duration": 0,
    "start_time": "2022-03-25T17:34:54.314Z"
   },
   {
    "duration": 13,
    "start_time": "2022-03-25T17:34:54.317Z"
   },
   {
    "duration": 0,
    "start_time": "2022-03-25T17:34:54.332Z"
   },
   {
    "duration": 0,
    "start_time": "2022-03-25T17:34:54.333Z"
   },
   {
    "duration": 0,
    "start_time": "2022-03-25T17:34:54.334Z"
   },
   {
    "duration": 22,
    "start_time": "2022-03-25T17:42:21.076Z"
   },
   {
    "duration": 26,
    "start_time": "2022-03-25T17:42:48.726Z"
   },
   {
    "duration": 3,
    "start_time": "2022-03-25T17:44:37.885Z"
   },
   {
    "duration": 50,
    "start_time": "2022-03-25T17:44:37.892Z"
   },
   {
    "duration": 13,
    "start_time": "2022-03-25T17:44:37.944Z"
   },
   {
    "duration": 23,
    "start_time": "2022-03-25T17:44:37.958Z"
   },
   {
    "duration": 1690,
    "start_time": "2022-03-25T17:44:37.983Z"
   },
   {
    "duration": 13,
    "start_time": "2022-03-25T17:45:08.952Z"
   },
   {
    "duration": 1468,
    "start_time": "2022-03-25T17:47:16.263Z"
   },
   {
    "duration": 19,
    "start_time": "2022-03-25T17:49:37.248Z"
   },
   {
    "duration": 1133,
    "start_time": "2022-03-26T10:21:01.260Z"
   },
   {
    "duration": 81,
    "start_time": "2022-03-26T10:21:02.396Z"
   },
   {
    "duration": 37,
    "start_time": "2022-03-26T10:21:02.480Z"
   },
   {
    "duration": 318,
    "start_time": "2022-03-26T10:21:02.519Z"
   },
   {
    "duration": 379,
    "start_time": "2022-03-26T10:21:02.843Z"
   },
   {
    "duration": 165,
    "start_time": "2022-03-26T10:21:03.225Z"
   },
   {
    "duration": 18,
    "start_time": "2022-03-26T10:21:03.392Z"
   },
   {
    "duration": 100,
    "start_time": "2022-03-26T10:21:03.413Z"
   },
   {
    "duration": 65,
    "start_time": "2022-03-26T10:21:03.516Z"
   },
   {
    "duration": 46,
    "start_time": "2022-03-26T10:21:03.583Z"
   },
   {
    "duration": 16,
    "start_time": "2022-03-26T10:21:03.631Z"
   },
   {
    "duration": 42,
    "start_time": "2022-03-26T10:21:03.673Z"
   },
   {
    "duration": 59,
    "start_time": "2022-03-26T10:21:03.717Z"
   },
   {
    "duration": 35,
    "start_time": "2022-03-26T10:21:03.781Z"
   },
   {
    "duration": 189,
    "start_time": "2022-03-26T10:21:03.819Z"
   },
   {
    "duration": 116,
    "start_time": "2022-03-26T10:21:04.011Z"
   },
   {
    "duration": 76,
    "start_time": "2022-03-26T10:21:04.129Z"
   },
   {
    "duration": 116,
    "start_time": "2022-03-26T10:21:04.208Z"
   },
   {
    "duration": 80,
    "start_time": "2022-03-26T10:21:04.327Z"
   },
   {
    "duration": 4,
    "start_time": "2022-03-26T10:23:45.963Z"
   },
   {
    "duration": 109,
    "start_time": "2022-03-26T10:23:45.971Z"
   },
   {
    "duration": 40,
    "start_time": "2022-03-26T10:23:46.084Z"
   },
   {
    "duration": 276,
    "start_time": "2022-03-26T10:23:46.127Z"
   },
   {
    "duration": 230,
    "start_time": "2022-03-26T10:23:46.406Z"
   },
   {
    "duration": 178,
    "start_time": "2022-03-26T10:23:46.638Z"
   },
   {
    "duration": 20,
    "start_time": "2022-03-26T10:23:46.818Z"
   },
   {
    "duration": 102,
    "start_time": "2022-03-26T10:23:46.840Z"
   },
   {
    "duration": 77,
    "start_time": "2022-03-26T10:23:46.945Z"
   },
   {
    "duration": 64,
    "start_time": "2022-03-26T10:23:47.024Z"
   },
   {
    "duration": 15,
    "start_time": "2022-03-26T10:23:47.092Z"
   },
   {
    "duration": 66,
    "start_time": "2022-03-26T10:23:47.109Z"
   },
   {
    "duration": 43,
    "start_time": "2022-03-26T10:23:47.178Z"
   },
   {
    "duration": 53,
    "start_time": "2022-03-26T10:23:47.225Z"
   },
   {
    "duration": 137,
    "start_time": "2022-03-26T10:23:47.280Z"
   },
   {
    "duration": 116,
    "start_time": "2022-03-26T10:23:47.420Z"
   },
   {
    "duration": 104,
    "start_time": "2022-03-26T10:23:47.539Z"
   },
   {
    "duration": 76,
    "start_time": "2022-03-26T10:23:47.646Z"
   },
   {
    "duration": 24,
    "start_time": "2022-03-26T10:23:47.725Z"
   },
   {
    "duration": 4,
    "start_time": "2022-03-26T10:24:18.363Z"
   },
   {
    "duration": 80,
    "start_time": "2022-03-26T10:24:18.369Z"
   },
   {
    "duration": 43,
    "start_time": "2022-03-26T10:24:18.453Z"
   },
   {
    "duration": 287,
    "start_time": "2022-03-26T10:24:18.499Z"
   },
   {
    "duration": 226,
    "start_time": "2022-03-26T10:24:18.789Z"
   },
   {
    "duration": 173,
    "start_time": "2022-03-26T10:24:19.018Z"
   },
   {
    "duration": 23,
    "start_time": "2022-03-26T10:24:19.194Z"
   },
   {
    "duration": 103,
    "start_time": "2022-03-26T10:24:19.220Z"
   },
   {
    "duration": 62,
    "start_time": "2022-03-26T10:24:19.325Z"
   },
   {
    "duration": 48,
    "start_time": "2022-03-26T10:24:19.389Z"
   },
   {
    "duration": 42,
    "start_time": "2022-03-26T10:24:19.441Z"
   },
   {
    "duration": 51,
    "start_time": "2022-03-26T10:24:19.486Z"
   },
   {
    "duration": 57,
    "start_time": "2022-03-26T10:24:19.540Z"
   },
   {
    "duration": 28,
    "start_time": "2022-03-26T10:24:19.600Z"
   },
   {
    "duration": 133,
    "start_time": "2022-03-26T10:24:19.631Z"
   },
   {
    "duration": 119,
    "start_time": "2022-03-26T10:24:19.766Z"
   },
   {
    "duration": 65,
    "start_time": "2022-03-26T10:24:19.888Z"
   },
   {
    "duration": 125,
    "start_time": "2022-03-26T10:24:19.956Z"
   },
   {
    "duration": 94,
    "start_time": "2022-03-26T10:24:20.084Z"
   },
   {
    "duration": 244,
    "start_time": "2022-03-26T10:24:20.181Z"
   },
   {
    "duration": 0,
    "start_time": "2022-03-26T10:24:20.427Z"
   },
   {
    "duration": 0,
    "start_time": "2022-03-26T10:24:20.430Z"
   },
   {
    "duration": 0,
    "start_time": "2022-03-26T10:24:20.432Z"
   },
   {
    "duration": 0,
    "start_time": "2022-03-26T10:24:20.434Z"
   },
   {
    "duration": 0,
    "start_time": "2022-03-26T10:24:20.436Z"
   },
   {
    "duration": 5,
    "start_time": "2022-03-26T10:26:55.415Z"
   },
   {
    "duration": 65,
    "start_time": "2022-03-26T10:26:55.423Z"
   },
   {
    "duration": 30,
    "start_time": "2022-03-26T10:26:55.490Z"
   },
   {
    "duration": 283,
    "start_time": "2022-03-26T10:26:55.522Z"
   },
   {
    "duration": 239,
    "start_time": "2022-03-26T10:26:55.809Z"
   },
   {
    "duration": 180,
    "start_time": "2022-03-26T10:26:56.050Z"
   },
   {
    "duration": 43,
    "start_time": "2022-03-26T10:26:56.232Z"
   },
   {
    "duration": 70,
    "start_time": "2022-03-26T10:26:56.278Z"
   },
   {
    "duration": 74,
    "start_time": "2022-03-26T10:26:56.350Z"
   },
   {
    "duration": 67,
    "start_time": "2022-03-26T10:26:56.427Z"
   },
   {
    "duration": 16,
    "start_time": "2022-03-26T10:26:56.500Z"
   },
   {
    "duration": 69,
    "start_time": "2022-03-26T10:26:56.519Z"
   },
   {
    "duration": 45,
    "start_time": "2022-03-26T10:26:56.591Z"
   },
   {
    "duration": 61,
    "start_time": "2022-03-26T10:26:56.640Z"
   },
   {
    "duration": 177,
    "start_time": "2022-03-26T10:26:56.704Z"
   },
   {
    "duration": 73,
    "start_time": "2022-03-26T10:26:56.884Z"
   },
   {
    "duration": 64,
    "start_time": "2022-03-26T10:26:56.973Z"
   },
   {
    "duration": 119,
    "start_time": "2022-03-26T10:26:57.040Z"
   },
   {
    "duration": 57,
    "start_time": "2022-03-26T10:26:57.162Z"
   },
   {
    "duration": 856,
    "start_time": "2022-03-26T11:41:48.929Z"
   },
   {
    "duration": 63,
    "start_time": "2022-03-26T11:41:49.787Z"
   },
   {
    "duration": 21,
    "start_time": "2022-03-26T11:41:49.851Z"
   },
   {
    "duration": 227,
    "start_time": "2022-03-26T11:41:49.874Z"
   },
   {
    "duration": 180,
    "start_time": "2022-03-26T11:41:50.103Z"
   },
   {
    "duration": 115,
    "start_time": "2022-03-26T11:41:50.284Z"
   },
   {
    "duration": 13,
    "start_time": "2022-03-26T11:41:50.401Z"
   },
   {
    "duration": 65,
    "start_time": "2022-03-26T11:41:50.415Z"
   },
   {
    "duration": 36,
    "start_time": "2022-03-26T11:41:50.482Z"
   },
   {
    "duration": 32,
    "start_time": "2022-03-26T11:41:50.532Z"
   },
   {
    "duration": 10,
    "start_time": "2022-03-26T11:41:50.565Z"
   },
   {
    "duration": 32,
    "start_time": "2022-03-26T11:41:50.576Z"
   },
   {
    "duration": 38,
    "start_time": "2022-03-26T11:41:50.610Z"
   },
   {
    "duration": 19,
    "start_time": "2022-03-26T11:41:50.651Z"
   },
   {
    "duration": 96,
    "start_time": "2022-03-26T11:41:50.672Z"
   },
   {
    "duration": 41,
    "start_time": "2022-03-26T11:41:50.769Z"
   },
   {
    "duration": 58,
    "start_time": "2022-03-26T11:41:50.812Z"
   },
   {
    "duration": 44,
    "start_time": "2022-03-26T11:41:50.871Z"
   },
   {
    "duration": 653,
    "start_time": "2022-03-26T11:41:50.917Z"
   },
   {
    "duration": 3,
    "start_time": "2022-03-26T11:42:25.347Z"
   },
   {
    "duration": 70,
    "start_time": "2022-03-26T11:42:25.352Z"
   },
   {
    "duration": 29,
    "start_time": "2022-03-26T11:42:25.424Z"
   },
   {
    "duration": 199,
    "start_time": "2022-03-26T11:42:25.455Z"
   },
   {
    "duration": 165,
    "start_time": "2022-03-26T11:42:25.655Z"
   },
   {
    "duration": 124,
    "start_time": "2022-03-26T11:42:25.833Z"
   },
   {
    "duration": 13,
    "start_time": "2022-03-26T11:42:25.959Z"
   },
   {
    "duration": 72,
    "start_time": "2022-03-26T11:42:25.974Z"
   },
   {
    "duration": 36,
    "start_time": "2022-03-26T11:42:26.049Z"
   },
   {
    "duration": 30,
    "start_time": "2022-03-26T11:42:26.087Z"
   },
   {
    "duration": 10,
    "start_time": "2022-03-26T11:42:26.133Z"
   },
   {
    "duration": 31,
    "start_time": "2022-03-26T11:42:26.145Z"
   },
   {
    "duration": 21,
    "start_time": "2022-03-26T11:42:26.178Z"
   },
   {
    "duration": 49,
    "start_time": "2022-03-26T11:42:26.201Z"
   },
   {
    "duration": 95,
    "start_time": "2022-03-26T11:42:26.251Z"
   },
   {
    "duration": 45,
    "start_time": "2022-03-26T11:42:26.348Z"
   },
   {
    "duration": 67,
    "start_time": "2022-03-26T11:42:26.394Z"
   },
   {
    "duration": 43,
    "start_time": "2022-03-26T11:42:26.462Z"
   },
   {
    "duration": 401,
    "start_time": "2022-03-26T11:42:26.506Z"
   },
   {
    "duration": 3,
    "start_time": "2022-03-26T11:43:30.847Z"
   },
   {
    "duration": 59,
    "start_time": "2022-03-26T11:43:30.854Z"
   },
   {
    "duration": 24,
    "start_time": "2022-03-26T11:43:30.914Z"
   },
   {
    "duration": 207,
    "start_time": "2022-03-26T11:43:30.940Z"
   },
   {
    "duration": 169,
    "start_time": "2022-03-26T11:43:31.149Z"
   },
   {
    "duration": 131,
    "start_time": "2022-03-26T11:43:31.319Z"
   },
   {
    "duration": 14,
    "start_time": "2022-03-26T11:43:31.451Z"
   },
   {
    "duration": 58,
    "start_time": "2022-03-26T11:43:31.466Z"
   },
   {
    "duration": 42,
    "start_time": "2022-03-26T11:43:31.532Z"
   },
   {
    "duration": 31,
    "start_time": "2022-03-26T11:43:31.576Z"
   },
   {
    "duration": 31,
    "start_time": "2022-03-26T11:43:31.609Z"
   },
   {
    "duration": 41,
    "start_time": "2022-03-26T11:43:31.641Z"
   },
   {
    "duration": 22,
    "start_time": "2022-03-26T11:43:31.683Z"
   },
   {
    "duration": 35,
    "start_time": "2022-03-26T11:43:31.706Z"
   },
   {
    "duration": 73,
    "start_time": "2022-03-26T11:43:31.743Z"
   },
   {
    "duration": 56,
    "start_time": "2022-03-26T11:43:31.818Z"
   },
   {
    "duration": 39,
    "start_time": "2022-03-26T11:43:31.876Z"
   },
   {
    "duration": 59,
    "start_time": "2022-03-26T11:43:31.917Z"
   },
   {
    "duration": 515,
    "start_time": "2022-03-26T11:43:31.978Z"
   },
   {
    "duration": 0,
    "start_time": "2022-03-26T11:43:32.494Z"
   },
   {
    "duration": 0,
    "start_time": "2022-03-26T11:43:32.496Z"
   },
   {
    "duration": 0,
    "start_time": "2022-03-26T11:43:32.496Z"
   },
   {
    "duration": 0,
    "start_time": "2022-03-26T11:43:32.497Z"
   },
   {
    "duration": 0,
    "start_time": "2022-03-26T11:43:32.498Z"
   },
   {
    "duration": 0,
    "start_time": "2022-03-26T11:43:32.500Z"
   },
   {
    "duration": 2,
    "start_time": "2022-03-26T11:47:16.932Z"
   },
   {
    "duration": 59,
    "start_time": "2022-03-26T11:47:16.938Z"
   },
   {
    "duration": 23,
    "start_time": "2022-03-26T11:47:16.999Z"
   },
   {
    "duration": 197,
    "start_time": "2022-03-26T11:47:17.024Z"
   },
   {
    "duration": 164,
    "start_time": "2022-03-26T11:47:17.233Z"
   },
   {
    "duration": 123,
    "start_time": "2022-03-26T11:47:17.399Z"
   },
   {
    "duration": 14,
    "start_time": "2022-03-26T11:47:17.533Z"
   },
   {
    "duration": 49,
    "start_time": "2022-03-26T11:47:17.549Z"
   },
   {
    "duration": 51,
    "start_time": "2022-03-26T11:47:17.600Z"
   },
   {
    "duration": 29,
    "start_time": "2022-03-26T11:47:17.652Z"
   },
   {
    "duration": 9,
    "start_time": "2022-03-26T11:47:17.684Z"
   },
   {
    "duration": 53,
    "start_time": "2022-03-26T11:47:17.694Z"
   },
   {
    "duration": 21,
    "start_time": "2022-03-26T11:47:17.749Z"
   },
   {
    "duration": 18,
    "start_time": "2022-03-26T11:47:17.771Z"
   },
   {
    "duration": 94,
    "start_time": "2022-03-26T11:47:17.791Z"
   },
   {
    "duration": 57,
    "start_time": "2022-03-26T11:47:17.886Z"
   },
   {
    "duration": 38,
    "start_time": "2022-03-26T11:47:17.944Z"
   },
   {
    "duration": 53,
    "start_time": "2022-03-26T11:47:17.984Z"
   },
   {
    "duration": 43,
    "start_time": "2022-03-26T11:47:18.039Z"
   },
   {
    "duration": 10,
    "start_time": "2022-03-26T11:47:18.083Z"
   },
   {
    "duration": 0,
    "start_time": "2022-03-26T11:47:18.094Z"
   },
   {
    "duration": 0,
    "start_time": "2022-03-26T11:47:18.096Z"
   },
   {
    "duration": 0,
    "start_time": "2022-03-26T11:47:18.096Z"
   },
   {
    "duration": 0,
    "start_time": "2022-03-26T11:47:18.098Z"
   },
   {
    "duration": 0,
    "start_time": "2022-03-26T11:47:18.099Z"
   },
   {
    "duration": 3,
    "start_time": "2022-03-26T11:48:49.292Z"
   },
   {
    "duration": 61,
    "start_time": "2022-03-26T11:48:49.299Z"
   },
   {
    "duration": 21,
    "start_time": "2022-03-26T11:48:49.362Z"
   },
   {
    "duration": 208,
    "start_time": "2022-03-26T11:48:49.385Z"
   },
   {
    "duration": 257,
    "start_time": "2022-03-26T11:48:49.595Z"
   },
   {
    "duration": 120,
    "start_time": "2022-03-26T11:48:49.853Z"
   },
   {
    "duration": 13,
    "start_time": "2022-03-26T11:48:49.975Z"
   },
   {
    "duration": 69,
    "start_time": "2022-03-26T11:48:49.990Z"
   },
   {
    "duration": 36,
    "start_time": "2022-03-26T11:48:50.060Z"
   },
   {
    "duration": 49,
    "start_time": "2022-03-26T11:48:50.098Z"
   },
   {
    "duration": 10,
    "start_time": "2022-03-26T11:48:50.150Z"
   },
   {
    "duration": 29,
    "start_time": "2022-03-26T11:48:50.162Z"
   },
   {
    "duration": 41,
    "start_time": "2022-03-26T11:48:50.193Z"
   },
   {
    "duration": 19,
    "start_time": "2022-03-26T11:48:50.236Z"
   },
   {
    "duration": 92,
    "start_time": "2022-03-26T11:48:50.257Z"
   },
   {
    "duration": 48,
    "start_time": "2022-03-26T11:48:50.350Z"
   },
   {
    "duration": 51,
    "start_time": "2022-03-26T11:48:50.400Z"
   },
   {
    "duration": 45,
    "start_time": "2022-03-26T11:48:50.453Z"
   },
   {
    "duration": 68,
    "start_time": "2022-03-26T11:48:50.500Z"
   },
   {
    "duration": 3,
    "start_time": "2022-03-26T11:51:57.924Z"
   },
   {
    "duration": 54,
    "start_time": "2022-03-26T11:51:57.931Z"
   },
   {
    "duration": 21,
    "start_time": "2022-03-26T11:51:57.987Z"
   },
   {
    "duration": 191,
    "start_time": "2022-03-26T11:51:58.010Z"
   },
   {
    "duration": 180,
    "start_time": "2022-03-26T11:51:58.203Z"
   },
   {
    "duration": 120,
    "start_time": "2022-03-26T11:51:58.385Z"
   },
   {
    "duration": 12,
    "start_time": "2022-03-26T11:51:58.507Z"
   },
   {
    "duration": 46,
    "start_time": "2022-03-26T11:51:58.533Z"
   },
   {
    "duration": 52,
    "start_time": "2022-03-26T11:51:58.581Z"
   },
   {
    "duration": 30,
    "start_time": "2022-03-26T11:51:58.635Z"
   },
   {
    "duration": 10,
    "start_time": "2022-03-26T11:51:58.667Z"
   },
   {
    "duration": 27,
    "start_time": "2022-03-26T11:51:58.679Z"
   },
   {
    "duration": 46,
    "start_time": "2022-03-26T11:51:58.708Z"
   },
   {
    "duration": 19,
    "start_time": "2022-03-26T11:51:58.756Z"
   },
   {
    "duration": 92,
    "start_time": "2022-03-26T11:51:58.777Z"
   },
   {
    "duration": 47,
    "start_time": "2022-03-26T11:51:58.871Z"
   },
   {
    "duration": 39,
    "start_time": "2022-03-26T11:51:58.932Z"
   },
   {
    "duration": 42,
    "start_time": "2022-03-26T11:51:58.972Z"
   },
   {
    "duration": 84,
    "start_time": "2022-03-26T11:51:59.032Z"
   },
   {
    "duration": 4,
    "start_time": "2022-03-26T11:53:49.009Z"
   },
   {
    "duration": 53,
    "start_time": "2022-03-26T11:53:49.014Z"
   },
   {
    "duration": 23,
    "start_time": "2022-03-26T11:53:49.069Z"
   },
   {
    "duration": 203,
    "start_time": "2022-03-26T11:53:49.093Z"
   },
   {
    "duration": 174,
    "start_time": "2022-03-26T11:53:49.298Z"
   },
   {
    "duration": 115,
    "start_time": "2022-03-26T11:53:49.473Z"
   },
   {
    "duration": 12,
    "start_time": "2022-03-26T11:53:49.590Z"
   },
   {
    "duration": 61,
    "start_time": "2022-03-26T11:53:49.604Z"
   },
   {
    "duration": 36,
    "start_time": "2022-03-26T11:53:49.666Z"
   },
   {
    "duration": 51,
    "start_time": "2022-03-26T11:53:49.704Z"
   },
   {
    "duration": 9,
    "start_time": "2022-03-26T11:53:49.758Z"
   },
   {
    "duration": 31,
    "start_time": "2022-03-26T11:53:49.768Z"
   },
   {
    "duration": 39,
    "start_time": "2022-03-26T11:53:49.801Z"
   },
   {
    "duration": 20,
    "start_time": "2022-03-26T11:53:49.841Z"
   },
   {
    "duration": 95,
    "start_time": "2022-03-26T11:53:49.863Z"
   },
   {
    "duration": 50,
    "start_time": "2022-03-26T11:53:49.959Z"
   },
   {
    "duration": 53,
    "start_time": "2022-03-26T11:53:50.011Z"
   },
   {
    "duration": 44,
    "start_time": "2022-03-26T11:53:50.065Z"
   },
   {
    "duration": 81,
    "start_time": "2022-03-26T11:53:50.110Z"
   },
   {
    "duration": 3,
    "start_time": "2022-03-26T11:55:34.017Z"
   },
   {
    "duration": 48,
    "start_time": "2022-03-26T11:55:34.024Z"
   },
   {
    "duration": 21,
    "start_time": "2022-03-26T11:55:34.074Z"
   },
   {
    "duration": 198,
    "start_time": "2022-03-26T11:55:34.097Z"
   },
   {
    "duration": 175,
    "start_time": "2022-03-26T11:55:34.297Z"
   },
   {
    "duration": 121,
    "start_time": "2022-03-26T11:55:34.473Z"
   },
   {
    "duration": 12,
    "start_time": "2022-03-26T11:55:34.596Z"
   },
   {
    "duration": 67,
    "start_time": "2022-03-26T11:55:34.610Z"
   },
   {
    "duration": 36,
    "start_time": "2022-03-26T11:55:34.678Z"
   },
   {
    "duration": 38,
    "start_time": "2022-03-26T11:55:34.715Z"
   },
   {
    "duration": 10,
    "start_time": "2022-03-26T11:55:34.755Z"
   },
   {
    "duration": 30,
    "start_time": "2022-03-26T11:55:34.767Z"
   },
   {
    "duration": 47,
    "start_time": "2022-03-26T11:55:34.798Z"
   },
   {
    "duration": 19,
    "start_time": "2022-03-26T11:55:34.846Z"
   },
   {
    "duration": 94,
    "start_time": "2022-03-26T11:55:34.867Z"
   },
   {
    "duration": 50,
    "start_time": "2022-03-26T11:55:34.963Z"
   },
   {
    "duration": 56,
    "start_time": "2022-03-26T11:55:35.014Z"
   },
   {
    "duration": 44,
    "start_time": "2022-03-26T11:55:35.072Z"
   },
   {
    "duration": 78,
    "start_time": "2022-03-26T11:55:35.133Z"
   },
   {
    "duration": 3,
    "start_time": "2022-03-26T11:56:13.495Z"
   },
   {
    "duration": 53,
    "start_time": "2022-03-26T11:56:13.500Z"
   },
   {
    "duration": 21,
    "start_time": "2022-03-26T11:56:13.555Z"
   },
   {
    "duration": 199,
    "start_time": "2022-03-26T11:56:13.577Z"
   },
   {
    "duration": 171,
    "start_time": "2022-03-26T11:56:13.778Z"
   },
   {
    "duration": 113,
    "start_time": "2022-03-26T11:56:13.950Z"
   },
   {
    "duration": 12,
    "start_time": "2022-03-26T11:56:14.065Z"
   },
   {
    "duration": 63,
    "start_time": "2022-03-26T11:56:14.079Z"
   },
   {
    "duration": 36,
    "start_time": "2022-03-26T11:56:14.143Z"
   },
   {
    "duration": 31,
    "start_time": "2022-03-26T11:56:14.180Z"
   },
   {
    "duration": 10,
    "start_time": "2022-03-26T11:56:14.232Z"
   },
   {
    "duration": 27,
    "start_time": "2022-03-26T11:56:14.244Z"
   },
   {
    "duration": 21,
    "start_time": "2022-03-26T11:56:14.273Z"
   },
   {
    "duration": 44,
    "start_time": "2022-03-26T11:56:14.295Z"
   },
   {
    "duration": 74,
    "start_time": "2022-03-26T11:56:14.340Z"
   },
   {
    "duration": 59,
    "start_time": "2022-03-26T11:56:14.415Z"
   },
   {
    "duration": 39,
    "start_time": "2022-03-26T11:56:14.476Z"
   },
   {
    "duration": 41,
    "start_time": "2022-03-26T11:56:14.532Z"
   },
   {
    "duration": 80,
    "start_time": "2022-03-26T11:56:14.575Z"
   },
   {
    "duration": 2,
    "start_time": "2022-03-26T11:56:44.590Z"
   },
   {
    "duration": 53,
    "start_time": "2022-03-26T11:56:44.595Z"
   },
   {
    "duration": 21,
    "start_time": "2022-03-26T11:56:44.649Z"
   },
   {
    "duration": 200,
    "start_time": "2022-03-26T11:56:44.671Z"
   },
   {
    "duration": 183,
    "start_time": "2022-03-26T11:56:44.874Z"
   },
   {
    "duration": 118,
    "start_time": "2022-03-26T11:56:45.058Z"
   },
   {
    "duration": 13,
    "start_time": "2022-03-26T11:56:45.178Z"
   },
   {
    "duration": 64,
    "start_time": "2022-03-26T11:56:45.192Z"
   },
   {
    "duration": 35,
    "start_time": "2022-03-26T11:56:45.257Z"
   },
   {
    "duration": 46,
    "start_time": "2022-03-26T11:56:45.294Z"
   },
   {
    "duration": 10,
    "start_time": "2022-03-26T11:56:45.342Z"
   },
   {
    "duration": 28,
    "start_time": "2022-03-26T11:56:45.353Z"
   },
   {
    "duration": 23,
    "start_time": "2022-03-26T11:56:45.382Z"
   },
   {
    "duration": 20,
    "start_time": "2022-03-26T11:56:45.432Z"
   },
   {
    "duration": 94,
    "start_time": "2022-03-26T11:56:45.454Z"
   },
   {
    "duration": 48,
    "start_time": "2022-03-26T11:56:45.550Z"
   },
   {
    "duration": 57,
    "start_time": "2022-03-26T11:56:45.600Z"
   },
   {
    "duration": 45,
    "start_time": "2022-03-26T11:56:45.658Z"
   },
   {
    "duration": 82,
    "start_time": "2022-03-26T11:56:45.705Z"
   },
   {
    "duration": 2,
    "start_time": "2022-03-26T11:59:36.899Z"
   },
   {
    "duration": 54,
    "start_time": "2022-03-26T11:59:36.905Z"
   },
   {
    "duration": 22,
    "start_time": "2022-03-26T11:59:36.961Z"
   },
   {
    "duration": 209,
    "start_time": "2022-03-26T11:59:36.984Z"
   },
   {
    "duration": 171,
    "start_time": "2022-03-26T11:59:37.195Z"
   },
   {
    "duration": 113,
    "start_time": "2022-03-26T11:59:37.368Z"
   },
   {
    "duration": 13,
    "start_time": "2022-03-26T11:59:37.483Z"
   },
   {
    "duration": 62,
    "start_time": "2022-03-26T11:59:37.497Z"
   },
   {
    "duration": 34,
    "start_time": "2022-03-26T11:59:37.561Z"
   },
   {
    "duration": 45,
    "start_time": "2022-03-26T11:59:37.597Z"
   },
   {
    "duration": 9,
    "start_time": "2022-03-26T11:59:37.645Z"
   },
   {
    "duration": 30,
    "start_time": "2022-03-26T11:59:37.655Z"
   },
   {
    "duration": 22,
    "start_time": "2022-03-26T11:59:37.686Z"
   },
   {
    "duration": 38,
    "start_time": "2022-03-26T11:59:37.709Z"
   },
   {
    "duration": 87,
    "start_time": "2022-03-26T11:59:37.749Z"
   },
   {
    "duration": 42,
    "start_time": "2022-03-26T11:59:37.837Z"
   },
   {
    "duration": 54,
    "start_time": "2022-03-26T11:59:37.880Z"
   },
   {
    "duration": 40,
    "start_time": "2022-03-26T11:59:37.935Z"
   },
   {
    "duration": 81,
    "start_time": "2022-03-26T11:59:37.977Z"
   },
   {
    "duration": 3,
    "start_time": "2022-03-26T12:01:09.207Z"
   },
   {
    "duration": 55,
    "start_time": "2022-03-26T12:01:09.212Z"
   },
   {
    "duration": 23,
    "start_time": "2022-03-26T12:01:09.269Z"
   },
   {
    "duration": 209,
    "start_time": "2022-03-26T12:01:09.294Z"
   },
   {
    "duration": 179,
    "start_time": "2022-03-26T12:01:09.506Z"
   },
   {
    "duration": 130,
    "start_time": "2022-03-26T12:01:09.687Z"
   },
   {
    "duration": 27,
    "start_time": "2022-03-26T12:01:09.819Z"
   },
   {
    "duration": 49,
    "start_time": "2022-03-26T12:01:09.848Z"
   },
   {
    "duration": 62,
    "start_time": "2022-03-26T12:01:09.899Z"
   },
   {
    "duration": 34,
    "start_time": "2022-03-26T12:01:09.963Z"
   },
   {
    "duration": 10,
    "start_time": "2022-03-26T12:01:09.999Z"
   },
   {
    "duration": 50,
    "start_time": "2022-03-26T12:01:10.011Z"
   },
   {
    "duration": 23,
    "start_time": "2022-03-26T12:01:10.063Z"
   },
   {
    "duration": 21,
    "start_time": "2022-03-26T12:01:10.088Z"
   },
   {
    "duration": 74,
    "start_time": "2022-03-26T12:01:10.132Z"
   },
   {
    "duration": 64,
    "start_time": "2022-03-26T12:01:10.208Z"
   },
   {
    "duration": 40,
    "start_time": "2022-03-26T12:01:10.273Z"
   },
   {
    "duration": 55,
    "start_time": "2022-03-26T12:01:10.315Z"
   },
   {
    "duration": 42,
    "start_time": "2022-03-26T12:01:10.372Z"
   },
   {
    "duration": 42,
    "start_time": "2022-03-26T12:01:42.727Z"
   },
   {
    "duration": 40,
    "start_time": "2022-03-26T12:02:13.729Z"
   },
   {
    "duration": 85,
    "start_time": "2022-03-26T12:06:14.101Z"
   },
   {
    "duration": 92,
    "start_time": "2022-03-26T12:06:27.995Z"
   },
   {
    "duration": 45,
    "start_time": "2022-03-26T12:07:00.402Z"
   },
   {
    "duration": 48,
    "start_time": "2022-03-26T12:10:09.411Z"
   },
   {
    "duration": 43,
    "start_time": "2022-03-26T12:11:53.125Z"
   },
   {
    "duration": 80,
    "start_time": "2022-03-26T12:14:02.903Z"
   },
   {
    "duration": 80,
    "start_time": "2022-03-26T12:14:17.077Z"
   },
   {
    "duration": 10,
    "start_time": "2022-03-26T12:14:54.990Z"
   },
   {
    "duration": 14,
    "start_time": "2022-03-26T12:15:34.858Z"
   },
   {
    "duration": 75,
    "start_time": "2022-03-26T12:16:31.266Z"
   },
   {
    "duration": 34,
    "start_time": "2022-03-26T12:17:14.665Z"
   },
   {
    "duration": 29,
    "start_time": "2022-03-26T12:18:12.023Z"
   },
   {
    "duration": 42,
    "start_time": "2022-03-26T12:19:50.997Z"
   },
   {
    "duration": 73,
    "start_time": "2022-03-26T12:20:06.204Z"
   },
   {
    "duration": 819,
    "start_time": "2022-03-26T12:20:24.570Z"
   },
   {
    "duration": 62,
    "start_time": "2022-03-26T12:20:25.391Z"
   },
   {
    "duration": 21,
    "start_time": "2022-03-26T12:20:25.455Z"
   },
   {
    "duration": 203,
    "start_time": "2022-03-26T12:20:25.477Z"
   },
   {
    "duration": 175,
    "start_time": "2022-03-26T12:20:25.682Z"
   },
   {
    "duration": 116,
    "start_time": "2022-03-26T12:20:25.858Z"
   },
   {
    "duration": 13,
    "start_time": "2022-03-26T12:20:25.975Z"
   },
   {
    "duration": 72,
    "start_time": "2022-03-26T12:20:25.990Z"
   },
   {
    "duration": 39,
    "start_time": "2022-03-26T12:20:26.063Z"
   },
   {
    "duration": 47,
    "start_time": "2022-03-26T12:20:26.104Z"
   },
   {
    "duration": 10,
    "start_time": "2022-03-26T12:20:26.153Z"
   },
   {
    "duration": 34,
    "start_time": "2022-03-26T12:20:26.165Z"
   },
   {
    "duration": 38,
    "start_time": "2022-03-26T12:20:26.201Z"
   },
   {
    "duration": 19,
    "start_time": "2022-03-26T12:20:26.242Z"
   },
   {
    "duration": 93,
    "start_time": "2022-03-26T12:20:26.263Z"
   },
   {
    "duration": 42,
    "start_time": "2022-03-26T12:20:26.358Z"
   },
   {
    "duration": 57,
    "start_time": "2022-03-26T12:20:26.401Z"
   },
   {
    "duration": 42,
    "start_time": "2022-03-26T12:20:26.460Z"
   },
   {
    "duration": 57,
    "start_time": "2022-03-26T12:20:26.504Z"
   },
   {
    "duration": 2,
    "start_time": "2022-03-26T12:20:26.563Z"
   },
   {
    "duration": 48,
    "start_time": "2022-03-26T12:20:26.566Z"
   },
   {
    "duration": 3,
    "start_time": "2022-03-26T12:20:26.632Z"
   },
   {
    "duration": 41,
    "start_time": "2022-03-26T12:20:26.636Z"
   },
   {
    "duration": 2,
    "start_time": "2022-03-26T12:20:26.678Z"
   },
   {
    "duration": 100,
    "start_time": "2022-03-26T12:20:26.682Z"
   },
   {
    "duration": 3,
    "start_time": "2022-03-26T12:52:58.777Z"
   },
   {
    "duration": 91,
    "start_time": "2022-03-26T12:52:58.784Z"
   },
   {
    "duration": 28,
    "start_time": "2022-03-26T12:52:58.877Z"
   },
   {
    "duration": 209,
    "start_time": "2022-03-26T12:52:58.907Z"
   },
   {
    "duration": 169,
    "start_time": "2022-03-26T12:52:59.134Z"
   },
   {
    "duration": 135,
    "start_time": "2022-03-26T12:52:59.305Z"
   },
   {
    "duration": 13,
    "start_time": "2022-03-26T12:52:59.442Z"
   },
   {
    "duration": 54,
    "start_time": "2022-03-26T12:52:59.457Z"
   },
   {
    "duration": 51,
    "start_time": "2022-03-26T12:52:59.513Z"
   },
   {
    "duration": 31,
    "start_time": "2022-03-26T12:52:59.566Z"
   },
   {
    "duration": 35,
    "start_time": "2022-03-26T12:52:59.600Z"
   },
   {
    "duration": 40,
    "start_time": "2022-03-26T12:52:59.637Z"
   },
   {
    "duration": 23,
    "start_time": "2022-03-26T12:52:59.679Z"
   },
   {
    "duration": 32,
    "start_time": "2022-03-26T12:52:59.704Z"
   },
   {
    "duration": 74,
    "start_time": "2022-03-26T12:52:59.738Z"
   },
   {
    "duration": 60,
    "start_time": "2022-03-26T12:52:59.814Z"
   },
   {
    "duration": 40,
    "start_time": "2022-03-26T12:52:59.875Z"
   },
   {
    "duration": 46,
    "start_time": "2022-03-26T12:52:59.933Z"
   },
   {
    "duration": 67,
    "start_time": "2022-03-26T12:52:59.980Z"
   },
   {
    "duration": 84,
    "start_time": "2022-03-26T14:15:08.104Z"
   },
   {
    "duration": 98,
    "start_time": "2022-03-26T14:26:16.164Z"
   },
   {
    "duration": 29,
    "start_time": "2022-03-26T14:26:22.432Z"
   },
   {
    "duration": 40,
    "start_time": "2022-03-26T14:27:07.122Z"
   },
   {
    "duration": 43,
    "start_time": "2022-03-26T14:31:07.837Z"
   },
   {
    "duration": 44,
    "start_time": "2022-03-26T14:31:22.757Z"
   },
   {
    "duration": 42,
    "start_time": "2022-03-26T14:38:40.934Z"
   },
   {
    "duration": 22,
    "start_time": "2022-03-26T14:40:07.822Z"
   },
   {
    "duration": 1430,
    "start_time": "2022-03-26T14:41:33.190Z"
   },
   {
    "duration": 24,
    "start_time": "2022-03-26T14:42:00.656Z"
   },
   {
    "duration": 69,
    "start_time": "2022-03-26T18:20:20.797Z"
   },
   {
    "duration": 10,
    "start_time": "2022-03-26T18:21:04.849Z"
   },
   {
    "duration": 1056,
    "start_time": "2022-03-26T18:21:20.643Z"
   },
   {
    "duration": 86,
    "start_time": "2022-03-26T18:21:21.701Z"
   },
   {
    "duration": 29,
    "start_time": "2022-03-26T18:21:21.789Z"
   },
   {
    "duration": 288,
    "start_time": "2022-03-26T18:21:21.821Z"
   },
   {
    "duration": 236,
    "start_time": "2022-03-26T18:21:22.112Z"
   },
   {
    "duration": 168,
    "start_time": "2022-03-26T18:21:22.350Z"
   },
   {
    "duration": 22,
    "start_time": "2022-03-26T18:21:22.520Z"
   },
   {
    "duration": 74,
    "start_time": "2022-03-26T18:21:22.569Z"
   },
   {
    "duration": 58,
    "start_time": "2022-03-26T18:21:22.667Z"
   },
   {
    "duration": 58,
    "start_time": "2022-03-26T18:21:22.730Z"
   },
   {
    "duration": 15,
    "start_time": "2022-03-26T18:21:22.791Z"
   },
   {
    "duration": 62,
    "start_time": "2022-03-26T18:21:22.808Z"
   },
   {
    "duration": 33,
    "start_time": "2022-03-26T18:21:22.872Z"
   },
   {
    "duration": 29,
    "start_time": "2022-03-26T18:21:22.907Z"
   },
   {
    "duration": 146,
    "start_time": "2022-03-26T18:21:22.938Z"
   },
   {
    "duration": 66,
    "start_time": "2022-03-26T18:21:23.086Z"
   },
   {
    "duration": 67,
    "start_time": "2022-03-26T18:21:23.168Z"
   },
   {
    "duration": 89,
    "start_time": "2022-03-26T18:21:23.237Z"
   },
   {
    "duration": 86,
    "start_time": "2022-03-26T18:21:23.328Z"
   },
   {
    "duration": 101,
    "start_time": "2022-03-26T18:21:23.417Z"
   },
   {
    "duration": 80,
    "start_time": "2022-03-26T18:21:23.520Z"
   },
   {
    "duration": 141,
    "start_time": "2022-03-26T18:21:23.602Z"
   },
   {
    "duration": 80,
    "start_time": "2022-03-26T18:21:23.745Z"
   },
   {
    "duration": 70,
    "start_time": "2022-03-26T18:22:12.668Z"
   },
   {
    "duration": 36,
    "start_time": "2022-03-26T18:23:27.216Z"
   },
   {
    "duration": 140,
    "start_time": "2022-03-26T18:23:51.835Z"
   },
   {
    "duration": 36,
    "start_time": "2022-03-26T18:24:25.213Z"
   },
   {
    "duration": 35,
    "start_time": "2022-03-26T18:24:43.692Z"
   },
   {
    "duration": 1009,
    "start_time": "2022-03-26T18:25:12.703Z"
   },
   {
    "duration": 78,
    "start_time": "2022-03-26T18:25:13.714Z"
   },
   {
    "duration": 28,
    "start_time": "2022-03-26T18:25:13.794Z"
   },
   {
    "duration": 281,
    "start_time": "2022-03-26T18:25:13.826Z"
   },
   {
    "duration": 248,
    "start_time": "2022-03-26T18:25:14.109Z"
   },
   {
    "duration": 158,
    "start_time": "2022-03-26T18:25:14.368Z"
   },
   {
    "duration": 18,
    "start_time": "2022-03-26T18:25:14.528Z"
   },
   {
    "duration": 71,
    "start_time": "2022-03-26T18:25:14.568Z"
   },
   {
    "duration": 76,
    "start_time": "2022-03-26T18:25:14.641Z"
   },
   {
    "duration": 74,
    "start_time": "2022-03-26T18:25:14.721Z"
   },
   {
    "duration": 16,
    "start_time": "2022-03-26T18:25:14.798Z"
   },
   {
    "duration": 63,
    "start_time": "2022-03-26T18:25:14.816Z"
   },
   {
    "duration": 32,
    "start_time": "2022-03-26T18:25:14.882Z"
   },
   {
    "duration": 54,
    "start_time": "2022-03-26T18:25:14.916Z"
   },
   {
    "duration": 123,
    "start_time": "2022-03-26T18:25:14.973Z"
   },
   {
    "duration": 82,
    "start_time": "2022-03-26T18:25:15.099Z"
   },
   {
    "duration": 61,
    "start_time": "2022-03-26T18:25:15.183Z"
   },
   {
    "duration": 80,
    "start_time": "2022-03-26T18:25:15.247Z"
   },
   {
    "duration": 87,
    "start_time": "2022-03-26T18:25:15.329Z"
   },
   {
    "duration": 103,
    "start_time": "2022-03-26T18:25:15.418Z"
   },
   {
    "duration": 94,
    "start_time": "2022-03-26T18:25:15.523Z"
   },
   {
    "duration": 137,
    "start_time": "2022-03-26T18:25:15.620Z"
   },
   {
    "duration": 83,
    "start_time": "2022-03-26T18:25:15.759Z"
   },
   {
    "duration": 40,
    "start_time": "2022-03-26T18:25:15.869Z"
   },
   {
    "duration": 1009,
    "start_time": "2022-03-26T18:26:43.489Z"
   },
   {
    "duration": 81,
    "start_time": "2022-03-26T18:26:44.502Z"
   },
   {
    "duration": 30,
    "start_time": "2022-03-26T18:26:44.585Z"
   },
   {
    "duration": 304,
    "start_time": "2022-03-26T18:26:44.618Z"
   },
   {
    "duration": 269,
    "start_time": "2022-03-26T18:26:44.925Z"
   },
   {
    "duration": 158,
    "start_time": "2022-03-26T18:26:45.196Z"
   },
   {
    "duration": 30,
    "start_time": "2022-03-26T18:26:45.367Z"
   },
   {
    "duration": 81,
    "start_time": "2022-03-26T18:26:45.399Z"
   },
   {
    "duration": 56,
    "start_time": "2022-03-26T18:26:45.483Z"
   },
   {
    "duration": 62,
    "start_time": "2022-03-26T18:26:45.543Z"
   },
   {
    "duration": 16,
    "start_time": "2022-03-26T18:26:45.608Z"
   },
   {
    "duration": 76,
    "start_time": "2022-03-26T18:26:45.627Z"
   },
   {
    "duration": 35,
    "start_time": "2022-03-26T18:26:45.705Z"
   },
   {
    "duration": 48,
    "start_time": "2022-03-26T18:26:45.743Z"
   },
   {
    "duration": 125,
    "start_time": "2022-03-26T18:26:45.793Z"
   },
   {
    "duration": 74,
    "start_time": "2022-03-26T18:26:45.920Z"
   },
   {
    "duration": 73,
    "start_time": "2022-03-26T18:26:45.997Z"
   },
   {
    "duration": 64,
    "start_time": "2022-03-26T18:26:46.072Z"
   },
   {
    "duration": 94,
    "start_time": "2022-03-26T18:26:46.138Z"
   },
   {
    "duration": 92,
    "start_time": "2022-03-26T18:26:46.234Z"
   },
   {
    "duration": 89,
    "start_time": "2022-03-26T18:26:46.329Z"
   },
   {
    "duration": 171,
    "start_time": "2022-03-26T18:26:46.420Z"
   },
   {
    "duration": 93,
    "start_time": "2022-03-26T18:26:46.594Z"
   },
   {
    "duration": 32,
    "start_time": "2022-03-26T18:26:46.690Z"
   },
   {
    "duration": 84,
    "start_time": "2022-03-26T18:27:39.088Z"
   },
   {
    "duration": 103,
    "start_time": "2022-03-26T18:28:10.865Z"
   },
   {
    "duration": 85,
    "start_time": "2022-03-26T18:28:28.865Z"
   },
   {
    "duration": 4,
    "start_time": "2022-03-26T18:30:30.035Z"
   },
   {
    "duration": 67,
    "start_time": "2022-03-26T18:30:30.041Z"
   },
   {
    "duration": 30,
    "start_time": "2022-03-26T18:30:30.110Z"
   },
   {
    "duration": 287,
    "start_time": "2022-03-26T18:30:30.143Z"
   },
   {
    "duration": 257,
    "start_time": "2022-03-26T18:30:30.434Z"
   },
   {
    "duration": 157,
    "start_time": "2022-03-26T18:30:30.694Z"
   },
   {
    "duration": 21,
    "start_time": "2022-03-26T18:30:30.868Z"
   },
   {
    "duration": 88,
    "start_time": "2022-03-26T18:30:30.891Z"
   },
   {
    "duration": 55,
    "start_time": "2022-03-26T18:30:30.982Z"
   },
   {
    "duration": 67,
    "start_time": "2022-03-26T18:30:31.040Z"
   },
   {
    "duration": 13,
    "start_time": "2022-03-26T18:30:31.111Z"
   },
   {
    "duration": 61,
    "start_time": "2022-03-26T18:30:31.126Z"
   },
   {
    "duration": 31,
    "start_time": "2022-03-26T18:30:31.189Z"
   },
   {
    "duration": 51,
    "start_time": "2022-03-26T18:30:31.222Z"
   },
   {
    "duration": 112,
    "start_time": "2022-03-26T18:30:31.275Z"
   },
   {
    "duration": 82,
    "start_time": "2022-03-26T18:30:31.389Z"
   },
   {
    "duration": 57,
    "start_time": "2022-03-26T18:30:31.473Z"
   },
   {
    "duration": 79,
    "start_time": "2022-03-26T18:30:31.533Z"
   },
   {
    "duration": 98,
    "start_time": "2022-03-26T18:30:31.614Z"
   },
   {
    "duration": 112,
    "start_time": "2022-03-26T18:30:31.714Z"
   },
   {
    "duration": 94,
    "start_time": "2022-03-26T18:30:31.828Z"
   },
   {
    "duration": 107,
    "start_time": "2022-03-26T18:30:31.925Z"
   },
   {
    "duration": 3,
    "start_time": "2022-03-26T18:31:47.985Z"
   },
   {
    "duration": 72,
    "start_time": "2022-03-26T18:31:47.991Z"
   },
   {
    "duration": 28,
    "start_time": "2022-03-26T18:31:48.067Z"
   },
   {
    "duration": 272,
    "start_time": "2022-03-26T18:31:48.097Z"
   },
   {
    "duration": 230,
    "start_time": "2022-03-26T18:31:48.372Z"
   },
   {
    "duration": 170,
    "start_time": "2022-03-26T18:31:48.604Z"
   },
   {
    "duration": 20,
    "start_time": "2022-03-26T18:31:48.776Z"
   },
   {
    "duration": 85,
    "start_time": "2022-03-26T18:31:48.798Z"
   },
   {
    "duration": 49,
    "start_time": "2022-03-26T18:31:48.886Z"
   },
   {
    "duration": 64,
    "start_time": "2022-03-26T18:31:48.937Z"
   },
   {
    "duration": 13,
    "start_time": "2022-03-26T18:31:49.005Z"
   },
   {
    "duration": 60,
    "start_time": "2022-03-26T18:31:49.020Z"
   },
   {
    "duration": 32,
    "start_time": "2022-03-26T18:31:49.082Z"
   },
   {
    "duration": 27,
    "start_time": "2022-03-26T18:31:49.116Z"
   },
   {
    "duration": 111,
    "start_time": "2022-03-26T18:31:49.168Z"
   },
   {
    "duration": 68,
    "start_time": "2022-03-26T18:31:49.281Z"
   },
   {
    "duration": 71,
    "start_time": "2022-03-26T18:31:49.351Z"
   },
   {
    "duration": 83,
    "start_time": "2022-03-26T18:31:49.424Z"
   },
   {
    "duration": 91,
    "start_time": "2022-03-26T18:31:49.510Z"
   },
   {
    "duration": 110,
    "start_time": "2022-03-26T18:31:49.603Z"
   },
   {
    "duration": 101,
    "start_time": "2022-03-26T18:31:49.715Z"
   },
   {
    "duration": 111,
    "start_time": "2022-03-26T18:31:49.818Z"
   },
   {
    "duration": 4,
    "start_time": "2022-03-26T18:32:57.759Z"
   },
   {
    "duration": 65,
    "start_time": "2022-03-26T18:32:57.766Z"
   },
   {
    "duration": 44,
    "start_time": "2022-03-26T18:32:57.834Z"
   },
   {
    "duration": 241,
    "start_time": "2022-03-26T18:32:57.880Z"
   },
   {
    "duration": 216,
    "start_time": "2022-03-26T18:32:58.124Z"
   },
   {
    "duration": 149,
    "start_time": "2022-03-26T18:32:58.343Z"
   },
   {
    "duration": 21,
    "start_time": "2022-03-26T18:32:58.494Z"
   },
   {
    "duration": 97,
    "start_time": "2022-03-26T18:32:58.517Z"
   },
   {
    "duration": 64,
    "start_time": "2022-03-26T18:32:58.616Z"
   },
   {
    "duration": 46,
    "start_time": "2022-03-26T18:32:58.683Z"
   },
   {
    "duration": 38,
    "start_time": "2022-03-26T18:32:58.735Z"
   },
   {
    "duration": 43,
    "start_time": "2022-03-26T18:32:58.775Z"
   },
   {
    "duration": 49,
    "start_time": "2022-03-26T18:32:58.820Z"
   },
   {
    "duration": 26,
    "start_time": "2022-03-26T18:32:58.871Z"
   },
   {
    "duration": 121,
    "start_time": "2022-03-26T18:32:58.899Z"
   },
   {
    "duration": 79,
    "start_time": "2022-03-26T18:32:59.022Z"
   },
   {
    "duration": 70,
    "start_time": "2022-03-26T18:32:59.103Z"
   },
   {
    "duration": 58,
    "start_time": "2022-03-26T18:32:59.175Z"
   },
   {
    "duration": 95,
    "start_time": "2022-03-26T18:32:59.235Z"
   },
   {
    "duration": 108,
    "start_time": "2022-03-26T18:32:59.332Z"
   },
   {
    "duration": 92,
    "start_time": "2022-03-26T18:32:59.442Z"
   },
   {
    "duration": 139,
    "start_time": "2022-03-26T18:32:59.536Z"
   },
   {
    "duration": 4,
    "start_time": "2022-03-26T18:33:36.510Z"
   },
   {
    "duration": 62,
    "start_time": "2022-03-26T18:33:36.519Z"
   },
   {
    "duration": 30,
    "start_time": "2022-03-26T18:33:36.584Z"
   },
   {
    "duration": 277,
    "start_time": "2022-03-26T18:33:36.616Z"
   },
   {
    "duration": 220,
    "start_time": "2022-03-26T18:33:36.896Z"
   },
   {
    "duration": 163,
    "start_time": "2022-03-26T18:33:37.119Z"
   },
   {
    "duration": 20,
    "start_time": "2022-03-26T18:33:37.285Z"
   },
   {
    "duration": 89,
    "start_time": "2022-03-26T18:33:37.307Z"
   },
   {
    "duration": 52,
    "start_time": "2022-03-26T18:33:37.398Z"
   },
   {
    "duration": 43,
    "start_time": "2022-03-26T18:33:37.467Z"
   },
   {
    "duration": 13,
    "start_time": "2022-03-26T18:33:37.514Z"
   },
   {
    "duration": 65,
    "start_time": "2022-03-26T18:33:37.529Z"
   },
   {
    "duration": 31,
    "start_time": "2022-03-26T18:33:37.597Z"
   },
   {
    "duration": 52,
    "start_time": "2022-03-26T18:33:37.630Z"
   },
   {
    "duration": 105,
    "start_time": "2022-03-26T18:33:37.684Z"
   },
   {
    "duration": 82,
    "start_time": "2022-03-26T18:33:37.791Z"
   },
   {
    "duration": 58,
    "start_time": "2022-03-26T18:33:37.876Z"
   },
   {
    "duration": 80,
    "start_time": "2022-03-26T18:33:37.936Z"
   },
   {
    "duration": 97,
    "start_time": "2022-03-26T18:33:38.018Z"
   },
   {
    "duration": 110,
    "start_time": "2022-03-26T18:33:38.119Z"
   },
   {
    "duration": 96,
    "start_time": "2022-03-26T18:33:38.231Z"
   },
   {
    "duration": 169,
    "start_time": "2022-03-26T18:33:38.329Z"
   },
   {
    "duration": 1052,
    "start_time": "2022-03-26T18:35:59.557Z"
   },
   {
    "duration": 89,
    "start_time": "2022-03-26T18:36:00.611Z"
   },
   {
    "duration": 30,
    "start_time": "2022-03-26T18:36:00.702Z"
   },
   {
    "duration": 349,
    "start_time": "2022-03-26T18:36:00.734Z"
   },
   {
    "duration": 235,
    "start_time": "2022-03-26T18:36:01.087Z"
   },
   {
    "duration": 169,
    "start_time": "2022-03-26T18:36:01.324Z"
   },
   {
    "duration": 19,
    "start_time": "2022-03-26T18:36:01.495Z"
   },
   {
    "duration": 110,
    "start_time": "2022-03-26T18:36:01.517Z"
   },
   {
    "duration": 74,
    "start_time": "2022-03-26T18:36:01.629Z"
   },
   {
    "duration": 43,
    "start_time": "2022-03-26T18:36:01.705Z"
   },
   {
    "duration": 35,
    "start_time": "2022-03-26T18:36:01.751Z"
   },
   {
    "duration": 46,
    "start_time": "2022-03-26T18:36:01.788Z"
   },
   {
    "duration": 58,
    "start_time": "2022-03-26T18:36:01.836Z"
   },
   {
    "duration": 28,
    "start_time": "2022-03-26T18:36:01.898Z"
   },
   {
    "duration": 133,
    "start_time": "2022-03-26T18:36:01.928Z"
   },
   {
    "duration": 69,
    "start_time": "2022-03-26T18:36:02.063Z"
   },
   {
    "duration": 87,
    "start_time": "2022-03-26T18:36:02.134Z"
   },
   {
    "duration": 89,
    "start_time": "2022-03-26T18:36:02.224Z"
   },
   {
    "duration": 105,
    "start_time": "2022-03-26T18:36:02.316Z"
   },
   {
    "duration": 117,
    "start_time": "2022-03-26T18:36:02.424Z"
   },
   {
    "duration": 94,
    "start_time": "2022-03-26T18:36:02.543Z"
   },
   {
    "duration": 173,
    "start_time": "2022-03-26T18:36:02.640Z"
   },
   {
    "duration": 101,
    "start_time": "2022-03-26T18:36:02.816Z"
   },
   {
    "duration": 60,
    "start_time": "2022-03-26T18:36:02.920Z"
   },
   {
    "duration": 38,
    "start_time": "2022-03-26T18:53:04.516Z"
   },
   {
    "duration": 37,
    "start_time": "2022-03-26T18:54:29.670Z"
   },
   {
    "duration": 4,
    "start_time": "2022-03-26T19:21:05.522Z"
   },
   {
    "duration": 118,
    "start_time": "2022-03-26T19:21:05.529Z"
   },
   {
    "duration": 37,
    "start_time": "2022-03-26T19:21:05.649Z"
   },
   {
    "duration": 280,
    "start_time": "2022-03-26T19:21:05.691Z"
   },
   {
    "duration": 259,
    "start_time": "2022-03-26T19:21:05.974Z"
   },
   {
    "duration": 185,
    "start_time": "2022-03-26T19:21:06.235Z"
   },
   {
    "duration": 20,
    "start_time": "2022-03-26T19:21:06.422Z"
   },
   {
    "duration": 100,
    "start_time": "2022-03-26T19:21:06.444Z"
   },
   {
    "duration": 73,
    "start_time": "2022-03-26T19:21:06.548Z"
   },
   {
    "duration": 73,
    "start_time": "2022-03-26T19:21:06.623Z"
   },
   {
    "duration": 16,
    "start_time": "2022-03-26T19:21:06.701Z"
   },
   {
    "duration": 67,
    "start_time": "2022-03-26T19:21:06.719Z"
   },
   {
    "duration": 34,
    "start_time": "2022-03-26T19:21:06.789Z"
   },
   {
    "duration": 60,
    "start_time": "2022-03-26T19:21:06.826Z"
   },
   {
    "duration": 112,
    "start_time": "2022-03-26T19:21:06.887Z"
   },
   {
    "duration": 104,
    "start_time": "2022-03-26T19:21:39.490Z"
   },
   {
    "duration": 78,
    "start_time": "2022-03-26T19:24:16.366Z"
   },
   {
    "duration": 70,
    "start_time": "2022-03-26T19:24:42.846Z"
   },
   {
    "duration": 36,
    "start_time": "2022-03-26T19:25:49.930Z"
   },
   {
    "duration": 61,
    "start_time": "2022-03-26T19:25:58.674Z"
   },
   {
    "duration": 43,
    "start_time": "2022-03-26T19:26:11.030Z"
   },
   {
    "duration": 203,
    "start_time": "2022-03-26T19:30:04.099Z"
   },
   {
    "duration": 4,
    "start_time": "2022-03-26T19:30:24.755Z"
   },
   {
    "duration": 98,
    "start_time": "2022-03-26T19:30:24.765Z"
   },
   {
    "duration": 35,
    "start_time": "2022-03-26T19:30:24.865Z"
   },
   {
    "duration": 306,
    "start_time": "2022-03-26T19:30:24.903Z"
   },
   {
    "duration": 270,
    "start_time": "2022-03-26T19:30:25.212Z"
   },
   {
    "duration": 158,
    "start_time": "2022-03-26T19:30:25.488Z"
   },
   {
    "duration": 44,
    "start_time": "2022-03-26T19:30:25.648Z"
   },
   {
    "duration": 88,
    "start_time": "2022-03-26T19:30:25.694Z"
   },
   {
    "duration": 50,
    "start_time": "2022-03-26T19:30:25.784Z"
   },
   {
    "duration": 67,
    "start_time": "2022-03-26T19:30:25.836Z"
   },
   {
    "duration": 15,
    "start_time": "2022-03-26T19:30:25.908Z"
   },
   {
    "duration": 66,
    "start_time": "2022-03-26T19:30:25.926Z"
   },
   {
    "duration": 31,
    "start_time": "2022-03-26T19:30:25.994Z"
   },
   {
    "duration": 54,
    "start_time": "2022-03-26T19:30:26.027Z"
   },
   {
    "duration": 102,
    "start_time": "2022-03-26T19:30:26.083Z"
   },
   {
    "duration": 101,
    "start_time": "2022-03-26T19:30:55.198Z"
   },
   {
    "duration": 92,
    "start_time": "2022-03-26T19:31:59.493Z"
   },
   {
    "duration": 97,
    "start_time": "2022-03-26T19:32:06.481Z"
   },
   {
    "duration": 67,
    "start_time": "2022-03-26T19:32:09.513Z"
   },
   {
    "duration": 92,
    "start_time": "2022-03-26T19:32:14.353Z"
   },
   {
    "duration": 89,
    "start_time": "2022-03-26T19:36:05.219Z"
   },
   {
    "duration": 97,
    "start_time": "2022-03-26T19:36:11.471Z"
   },
   {
    "duration": 78,
    "start_time": "2022-03-26T19:36:25.584Z"
   },
   {
    "duration": 112,
    "start_time": "2022-03-26T19:36:29.479Z"
   },
   {
    "duration": 93,
    "start_time": "2022-03-26T19:36:49.224Z"
   },
   {
    "duration": 79,
    "start_time": "2022-03-26T19:37:04.537Z"
   },
   {
    "duration": 56,
    "start_time": "2022-03-26T19:37:28.388Z"
   },
   {
    "duration": 61,
    "start_time": "2022-03-26T19:37:57.896Z"
   },
   {
    "duration": 41,
    "start_time": "2022-03-26T19:38:08.942Z"
   },
   {
    "duration": 3,
    "start_time": "2022-03-26T19:40:35.605Z"
   },
   {
    "duration": 71,
    "start_time": "2022-03-26T19:40:35.611Z"
   },
   {
    "duration": 30,
    "start_time": "2022-03-26T19:40:35.684Z"
   },
   {
    "duration": 270,
    "start_time": "2022-03-26T19:40:35.717Z"
   },
   {
    "duration": 223,
    "start_time": "2022-03-26T19:40:35.991Z"
   },
   {
    "duration": 160,
    "start_time": "2022-03-26T19:40:36.217Z"
   },
   {
    "duration": 19,
    "start_time": "2022-03-26T19:40:36.380Z"
   },
   {
    "duration": 86,
    "start_time": "2022-03-26T19:40:36.402Z"
   },
   {
    "duration": 52,
    "start_time": "2022-03-26T19:40:36.490Z"
   },
   {
    "duration": 61,
    "start_time": "2022-03-26T19:40:36.544Z"
   },
   {
    "duration": 14,
    "start_time": "2022-03-26T19:40:36.608Z"
   },
   {
    "duration": 64,
    "start_time": "2022-03-26T19:40:36.624Z"
   },
   {
    "duration": 34,
    "start_time": "2022-03-26T19:40:36.690Z"
   },
   {
    "duration": 48,
    "start_time": "2022-03-26T19:40:36.726Z"
   },
   {
    "duration": 110,
    "start_time": "2022-03-26T19:40:36.776Z"
   },
   {
    "duration": 85,
    "start_time": "2022-03-26T19:40:36.888Z"
   },
   {
    "duration": 62,
    "start_time": "2022-03-26T19:40:36.975Z"
   },
   {
    "duration": 83,
    "start_time": "2022-03-26T19:40:37.039Z"
   },
   {
    "duration": 65,
    "start_time": "2022-03-26T19:43:08.565Z"
   },
   {
    "duration": 46,
    "start_time": "2022-03-26T19:43:16.543Z"
   },
   {
    "duration": 63,
    "start_time": "2022-03-26T19:43:24.390Z"
   },
   {
    "duration": 62,
    "start_time": "2022-03-26T19:43:42.558Z"
   },
   {
    "duration": 70,
    "start_time": "2022-03-26T19:45:10.826Z"
   },
   {
    "duration": 87,
    "start_time": "2022-03-26T19:45:47.553Z"
   },
   {
    "duration": 80,
    "start_time": "2022-03-26T19:46:07.680Z"
   },
   {
    "duration": 108,
    "start_time": "2022-03-26T19:47:47.974Z"
   },
   {
    "duration": 4,
    "start_time": "2022-03-26T19:48:22.855Z"
   },
   {
    "duration": 73,
    "start_time": "2022-03-26T19:48:22.861Z"
   },
   {
    "duration": 45,
    "start_time": "2022-03-26T19:48:22.937Z"
   },
   {
    "duration": 291,
    "start_time": "2022-03-26T19:48:22.984Z"
   },
   {
    "duration": 256,
    "start_time": "2022-03-26T19:48:23.279Z"
   },
   {
    "duration": 178,
    "start_time": "2022-03-26T19:48:23.538Z"
   },
   {
    "duration": 50,
    "start_time": "2022-03-26T19:48:23.719Z"
   },
   {
    "duration": 70,
    "start_time": "2022-03-26T19:48:23.772Z"
   },
   {
    "duration": 65,
    "start_time": "2022-03-26T19:48:23.844Z"
   },
   {
    "duration": 71,
    "start_time": "2022-03-26T19:48:23.912Z"
   },
   {
    "duration": 16,
    "start_time": "2022-03-26T19:48:23.986Z"
   },
   {
    "duration": 42,
    "start_time": "2022-03-26T19:48:24.004Z"
   },
   {
    "duration": 35,
    "start_time": "2022-03-26T19:48:24.067Z"
   },
   {
    "duration": 30,
    "start_time": "2022-03-26T19:48:24.104Z"
   },
   {
    "duration": 113,
    "start_time": "2022-03-26T19:48:24.169Z"
   },
   {
    "duration": 90,
    "start_time": "2022-03-26T19:48:24.285Z"
   },
   {
    "duration": 63,
    "start_time": "2022-03-26T19:48:24.377Z"
   },
   {
    "duration": 89,
    "start_time": "2022-03-26T19:48:24.442Z"
   },
   {
    "duration": 108,
    "start_time": "2022-03-26T19:48:24.534Z"
   },
   {
    "duration": 114,
    "start_time": "2022-03-26T19:48:33.964Z"
   },
   {
    "duration": 101,
    "start_time": "2022-03-26T19:48:47.370Z"
   },
   {
    "duration": 4,
    "start_time": "2022-03-26T19:48:54.535Z"
   },
   {
    "duration": 76,
    "start_time": "2022-03-26T19:48:54.542Z"
   },
   {
    "duration": 60,
    "start_time": "2022-03-26T19:48:54.621Z"
   },
   {
    "duration": 305,
    "start_time": "2022-03-26T19:48:54.683Z"
   },
   {
    "duration": 346,
    "start_time": "2022-03-26T19:48:54.992Z"
   },
   {
    "duration": 271,
    "start_time": "2022-03-26T19:48:55.341Z"
   },
   {
    "duration": 54,
    "start_time": "2022-03-26T19:48:55.616Z"
   },
   {
    "duration": 70,
    "start_time": "2022-03-26T19:48:55.673Z"
   },
   {
    "duration": 69,
    "start_time": "2022-03-26T19:48:55.746Z"
   },
   {
    "duration": 68,
    "start_time": "2022-03-26T19:48:55.817Z"
   },
   {
    "duration": 16,
    "start_time": "2022-03-26T19:48:55.888Z"
   },
   {
    "duration": 63,
    "start_time": "2022-03-26T19:48:55.906Z"
   },
   {
    "duration": 32,
    "start_time": "2022-03-26T19:48:55.972Z"
   },
   {
    "duration": 30,
    "start_time": "2022-03-26T19:48:56.006Z"
   },
   {
    "duration": 132,
    "start_time": "2022-03-26T19:48:56.039Z"
   },
   {
    "duration": 72,
    "start_time": "2022-03-26T19:48:56.174Z"
   },
   {
    "duration": 65,
    "start_time": "2022-03-26T19:48:56.266Z"
   },
   {
    "duration": 86,
    "start_time": "2022-03-26T19:48:56.334Z"
   },
   {
    "duration": 100,
    "start_time": "2022-03-26T19:48:56.423Z"
   },
   {
    "duration": 112,
    "start_time": "2022-03-26T19:48:59.774Z"
   },
   {
    "duration": 66,
    "start_time": "2022-03-26T19:53:31.909Z"
   },
   {
    "duration": 19,
    "start_time": "2022-03-26T19:54:37.267Z"
   },
   {
    "duration": 4,
    "start_time": "2022-03-26T19:55:23.758Z"
   },
   {
    "duration": 77,
    "start_time": "2022-03-26T19:55:23.765Z"
   },
   {
    "duration": 47,
    "start_time": "2022-03-26T19:55:23.845Z"
   },
   {
    "duration": 340,
    "start_time": "2022-03-26T19:55:23.895Z"
   },
   {
    "duration": 260,
    "start_time": "2022-03-26T19:55:24.238Z"
   },
   {
    "duration": 167,
    "start_time": "2022-03-26T19:55:24.500Z"
   },
   {
    "duration": 23,
    "start_time": "2022-03-26T19:55:24.671Z"
   },
   {
    "duration": 89,
    "start_time": "2022-03-26T19:55:24.696Z"
   },
   {
    "duration": 52,
    "start_time": "2022-03-26T19:55:24.788Z"
   },
   {
    "duration": 66,
    "start_time": "2022-03-26T19:55:24.843Z"
   },
   {
    "duration": 17,
    "start_time": "2022-03-26T19:55:24.914Z"
   },
   {
    "duration": 70,
    "start_time": "2022-03-26T19:55:24.933Z"
   },
   {
    "duration": 33,
    "start_time": "2022-03-26T19:55:25.005Z"
   },
   {
    "duration": 52,
    "start_time": "2022-03-26T19:55:25.040Z"
   },
   {
    "duration": 118,
    "start_time": "2022-03-26T19:55:25.094Z"
   },
   {
    "duration": 87,
    "start_time": "2022-03-26T19:55:25.215Z"
   },
   {
    "duration": 78,
    "start_time": "2022-03-26T19:55:25.304Z"
   },
   {
    "duration": 61,
    "start_time": "2022-03-26T19:55:25.384Z"
   },
   {
    "duration": 87,
    "start_time": "2022-03-26T19:55:27.682Z"
   },
   {
    "duration": 17,
    "start_time": "2022-03-26T19:56:53.344Z"
   },
   {
    "duration": 108,
    "start_time": "2022-03-26T19:57:06.063Z"
   },
   {
    "duration": 82,
    "start_time": "2022-03-26T19:57:29.651Z"
   },
   {
    "duration": 921,
    "start_time": "2022-03-27T06:39:16.939Z"
   },
   {
    "duration": 61,
    "start_time": "2022-03-27T06:39:17.863Z"
   },
   {
    "duration": 24,
    "start_time": "2022-03-27T06:39:17.926Z"
   },
   {
    "duration": 236,
    "start_time": "2022-03-27T06:39:17.952Z"
   },
   {
    "duration": 199,
    "start_time": "2022-03-27T06:39:18.190Z"
   },
   {
    "duration": 126,
    "start_time": "2022-03-27T06:39:18.401Z"
   },
   {
    "duration": 14,
    "start_time": "2022-03-27T06:39:18.529Z"
   },
   {
    "duration": 78,
    "start_time": "2022-03-27T06:39:18.545Z"
   },
   {
    "duration": 43,
    "start_time": "2022-03-27T06:39:18.625Z"
   },
   {
    "duration": 56,
    "start_time": "2022-03-27T06:39:18.670Z"
   },
   {
    "duration": 14,
    "start_time": "2022-03-27T06:39:18.728Z"
   },
   {
    "duration": 33,
    "start_time": "2022-03-27T06:39:18.744Z"
   },
   {
    "duration": 46,
    "start_time": "2022-03-27T06:39:18.779Z"
   },
   {
    "duration": 22,
    "start_time": "2022-03-27T06:39:18.828Z"
   },
   {
    "duration": 103,
    "start_time": "2022-03-27T06:39:18.852Z"
   },
   {
    "duration": 65,
    "start_time": "2022-03-27T06:39:18.957Z"
   },
   {
    "duration": 47,
    "start_time": "2022-03-27T06:39:19.024Z"
   },
   {
    "duration": 68,
    "start_time": "2022-03-27T06:39:19.073Z"
   },
   {
    "duration": 71,
    "start_time": "2022-03-27T06:39:19.143Z"
   },
   {
    "duration": 63,
    "start_time": "2022-03-27T06:39:19.216Z"
   },
   {
    "duration": 54,
    "start_time": "2022-03-27T06:39:19.302Z"
   },
   {
    "duration": 123,
    "start_time": "2022-03-27T06:39:19.358Z"
   },
   {
    "duration": 146,
    "start_time": "2022-03-27T06:45:41.376Z"
   },
   {
    "duration": 97,
    "start_time": "2022-03-27T06:45:48.194Z"
   },
   {
    "duration": 146,
    "start_time": "2022-03-27T06:47:43.002Z"
   },
   {
    "duration": 3,
    "start_time": "2022-03-27T06:47:49.624Z"
   },
   {
    "duration": 60,
    "start_time": "2022-03-27T06:47:49.630Z"
   },
   {
    "duration": 30,
    "start_time": "2022-03-27T06:47:49.692Z"
   },
   {
    "duration": 318,
    "start_time": "2022-03-27T06:47:49.725Z"
   },
   {
    "duration": 247,
    "start_time": "2022-03-27T06:47:50.045Z"
   },
   {
    "duration": 182,
    "start_time": "2022-03-27T06:47:50.302Z"
   },
   {
    "duration": 28,
    "start_time": "2022-03-27T06:47:50.486Z"
   },
   {
    "duration": 56,
    "start_time": "2022-03-27T06:47:50.516Z"
   },
   {
    "duration": 58,
    "start_time": "2022-03-27T06:47:50.575Z"
   },
   {
    "duration": 37,
    "start_time": "2022-03-27T06:47:50.635Z"
   },
   {
    "duration": 35,
    "start_time": "2022-03-27T06:47:50.674Z"
   },
   {
    "duration": 39,
    "start_time": "2022-03-27T06:47:50.711Z"
   },
   {
    "duration": 26,
    "start_time": "2022-03-27T06:47:50.753Z"
   },
   {
    "duration": 28,
    "start_time": "2022-03-27T06:47:50.801Z"
   },
   {
    "duration": 134,
    "start_time": "2022-03-27T06:47:50.831Z"
   },
   {
    "duration": 98,
    "start_time": "2022-03-27T06:47:50.967Z"
   },
   {
    "duration": 87,
    "start_time": "2022-03-27T06:47:51.067Z"
   },
   {
    "duration": 84,
    "start_time": "2022-03-27T06:47:51.156Z"
   },
   {
    "duration": 104,
    "start_time": "2022-03-27T06:47:51.242Z"
   },
   {
    "duration": 85,
    "start_time": "2022-03-27T06:47:51.348Z"
   },
   {
    "duration": 75,
    "start_time": "2022-03-27T06:47:51.435Z"
   },
   {
    "duration": 112,
    "start_time": "2022-03-27T06:47:51.512Z"
   },
   {
    "duration": 103,
    "start_time": "2022-03-27T06:48:59.974Z"
   },
   {
    "duration": 3,
    "start_time": "2022-03-27T06:50:14.347Z"
   },
   {
    "duration": 65,
    "start_time": "2022-03-27T06:50:14.358Z"
   },
   {
    "duration": 29,
    "start_time": "2022-03-27T06:50:14.426Z"
   },
   {
    "duration": 314,
    "start_time": "2022-03-27T06:50:14.457Z"
   },
   {
    "duration": 266,
    "start_time": "2022-03-27T06:50:14.774Z"
   },
   {
    "duration": 135,
    "start_time": "2022-03-27T06:50:15.043Z"
   },
   {
    "duration": 30,
    "start_time": "2022-03-27T06:50:15.180Z"
   },
   {
    "duration": 68,
    "start_time": "2022-03-27T06:50:15.211Z"
   },
   {
    "duration": 78,
    "start_time": "2022-03-27T06:50:15.281Z"
   },
   {
    "duration": 67,
    "start_time": "2022-03-27T06:50:15.362Z"
   },
   {
    "duration": 14,
    "start_time": "2022-03-27T06:50:15.431Z"
   },
   {
    "duration": 55,
    "start_time": "2022-03-27T06:50:15.447Z"
   },
   {
    "duration": 33,
    "start_time": "2022-03-27T06:50:15.505Z"
   },
   {
    "duration": 28,
    "start_time": "2022-03-27T06:50:15.540Z"
   },
   {
    "duration": 103,
    "start_time": "2022-03-27T06:50:15.571Z"
   },
   {
    "duration": 75,
    "start_time": "2022-03-27T06:50:15.676Z"
   },
   {
    "duration": 66,
    "start_time": "2022-03-27T06:50:15.753Z"
   },
   {
    "duration": 47,
    "start_time": "2022-03-27T06:50:15.821Z"
   },
   {
    "duration": 78,
    "start_time": "2022-03-27T06:50:15.870Z"
   },
   {
    "duration": 108,
    "start_time": "2022-03-27T06:50:15.950Z"
   },
   {
    "duration": 76,
    "start_time": "2022-03-27T06:50:16.061Z"
   },
   {
    "duration": 120,
    "start_time": "2022-03-27T06:50:16.139Z"
   },
   {
    "duration": 151,
    "start_time": "2022-03-27T07:01:26.621Z"
   },
   {
    "duration": 4,
    "start_time": "2022-03-27T07:02:02.143Z"
   },
   {
    "duration": 57,
    "start_time": "2022-03-27T07:02:02.150Z"
   },
   {
    "duration": 26,
    "start_time": "2022-03-27T07:02:02.209Z"
   },
   {
    "duration": 219,
    "start_time": "2022-03-27T07:02:02.237Z"
   },
   {
    "duration": 193,
    "start_time": "2022-03-27T07:02:02.458Z"
   },
   {
    "duration": 148,
    "start_time": "2022-03-27T07:02:02.654Z"
   },
   {
    "duration": 15,
    "start_time": "2022-03-27T07:02:02.804Z"
   },
   {
    "duration": 59,
    "start_time": "2022-03-27T07:02:02.821Z"
   },
   {
    "duration": 58,
    "start_time": "2022-03-27T07:02:02.882Z"
   },
   {
    "duration": 35,
    "start_time": "2022-03-27T07:02:02.942Z"
   },
   {
    "duration": 29,
    "start_time": "2022-03-27T07:02:02.980Z"
   },
   {
    "duration": 30,
    "start_time": "2022-03-27T07:02:03.011Z"
   },
   {
    "duration": 25,
    "start_time": "2022-03-27T07:02:03.043Z"
   },
   {
    "duration": 48,
    "start_time": "2022-03-27T07:02:03.070Z"
   },
   {
    "duration": 101,
    "start_time": "2022-03-27T07:02:03.121Z"
   },
   {
    "duration": 58,
    "start_time": "2022-03-27T07:02:03.224Z"
   },
   {
    "duration": 63,
    "start_time": "2022-03-27T07:02:03.284Z"
   },
   {
    "duration": 69,
    "start_time": "2022-03-27T07:02:03.350Z"
   },
   {
    "duration": 60,
    "start_time": "2022-03-27T07:02:03.421Z"
   },
   {
    "duration": 62,
    "start_time": "2022-03-27T07:02:03.500Z"
   },
   {
    "duration": 76,
    "start_time": "2022-03-27T07:02:03.564Z"
   },
   {
    "duration": 163,
    "start_time": "2022-03-27T07:02:03.642Z"
   },
   {
    "duration": 3,
    "start_time": "2022-03-27T07:05:17.286Z"
   },
   {
    "duration": 47,
    "start_time": "2022-03-27T07:05:17.295Z"
   },
   {
    "duration": 23,
    "start_time": "2022-03-27T07:05:17.344Z"
   },
   {
    "duration": 221,
    "start_time": "2022-03-27T07:05:17.369Z"
   },
   {
    "duration": 174,
    "start_time": "2022-03-27T07:05:17.601Z"
   },
   {
    "duration": 140,
    "start_time": "2022-03-27T07:05:17.777Z"
   },
   {
    "duration": 16,
    "start_time": "2022-03-27T07:05:17.918Z"
   },
   {
    "duration": 73,
    "start_time": "2022-03-27T07:05:17.935Z"
   },
   {
    "duration": 40,
    "start_time": "2022-03-27T07:05:18.009Z"
   },
   {
    "duration": 54,
    "start_time": "2022-03-27T07:05:18.050Z"
   },
   {
    "duration": 12,
    "start_time": "2022-03-27T07:05:18.107Z"
   },
   {
    "duration": 39,
    "start_time": "2022-03-27T07:05:18.121Z"
   },
   {
    "duration": 50,
    "start_time": "2022-03-27T07:05:18.162Z"
   },
   {
    "duration": 21,
    "start_time": "2022-03-27T07:05:18.214Z"
   },
   {
    "duration": 96,
    "start_time": "2022-03-27T07:05:18.237Z"
   },
   {
    "duration": 52,
    "start_time": "2022-03-27T07:05:18.334Z"
   },
   {
    "duration": 61,
    "start_time": "2022-03-27T07:05:18.387Z"
   },
   {
    "duration": 63,
    "start_time": "2022-03-27T07:05:18.449Z"
   },
   {
    "duration": 60,
    "start_time": "2022-03-27T07:05:18.513Z"
   },
   {
    "duration": 79,
    "start_time": "2022-03-27T07:05:18.575Z"
   },
   {
    "duration": 77,
    "start_time": "2022-03-27T07:05:18.656Z"
   },
   {
    "duration": 148,
    "start_time": "2022-03-27T07:05:18.735Z"
   },
   {
    "duration": 2,
    "start_time": "2022-03-27T07:11:28.449Z"
   },
   {
    "duration": 57,
    "start_time": "2022-03-27T07:11:28.453Z"
   },
   {
    "duration": 23,
    "start_time": "2022-03-27T07:11:28.512Z"
   },
   {
    "duration": 220,
    "start_time": "2022-03-27T07:11:28.537Z"
   },
   {
    "duration": 189,
    "start_time": "2022-03-27T07:11:28.759Z"
   },
   {
    "duration": 133,
    "start_time": "2022-03-27T07:11:28.950Z"
   },
   {
    "duration": 25,
    "start_time": "2022-03-27T07:11:29.085Z"
   },
   {
    "duration": 54,
    "start_time": "2022-03-27T07:11:29.112Z"
   },
   {
    "duration": 60,
    "start_time": "2022-03-27T07:11:29.168Z"
   },
   {
    "duration": 34,
    "start_time": "2022-03-27T07:11:29.231Z"
   },
   {
    "duration": 34,
    "start_time": "2022-03-27T07:11:29.268Z"
   },
   {
    "duration": 31,
    "start_time": "2022-03-27T07:11:29.304Z"
   },
   {
    "duration": 25,
    "start_time": "2022-03-27T07:11:29.337Z"
   },
   {
    "duration": 45,
    "start_time": "2022-03-27T07:11:29.364Z"
   },
   {
    "duration": 76,
    "start_time": "2022-03-27T07:11:29.411Z"
   },
   {
    "duration": 55,
    "start_time": "2022-03-27T07:11:29.502Z"
   },
   {
    "duration": 67,
    "start_time": "2022-03-27T07:11:29.558Z"
   },
   {
    "duration": 49,
    "start_time": "2022-03-27T07:11:29.627Z"
   },
   {
    "duration": 80,
    "start_time": "2022-03-27T07:11:29.678Z"
   },
   {
    "duration": 88,
    "start_time": "2022-03-27T07:11:29.761Z"
   },
   {
    "duration": 76,
    "start_time": "2022-03-27T07:11:29.851Z"
   },
   {
    "duration": 160,
    "start_time": "2022-03-27T07:11:29.929Z"
   },
   {
    "duration": 3,
    "start_time": "2022-03-27T07:57:07.919Z"
   },
   {
    "duration": 55,
    "start_time": "2022-03-27T07:57:07.927Z"
   },
   {
    "duration": 25,
    "start_time": "2022-03-27T07:57:07.985Z"
   },
   {
    "duration": 245,
    "start_time": "2022-03-27T07:57:08.011Z"
   },
   {
    "duration": 205,
    "start_time": "2022-03-27T07:57:08.259Z"
   },
   {
    "duration": 155,
    "start_time": "2022-03-27T07:57:08.466Z"
   },
   {
    "duration": 17,
    "start_time": "2022-03-27T07:57:08.624Z"
   },
   {
    "duration": 78,
    "start_time": "2022-03-27T07:57:08.643Z"
   },
   {
    "duration": 42,
    "start_time": "2022-03-27T07:57:08.723Z"
   },
   {
    "duration": 53,
    "start_time": "2022-03-27T07:57:08.767Z"
   },
   {
    "duration": 12,
    "start_time": "2022-03-27T07:57:08.823Z"
   },
   {
    "duration": 32,
    "start_time": "2022-03-27T07:57:08.837Z"
   },
   {
    "duration": 48,
    "start_time": "2022-03-27T07:57:08.870Z"
   },
   {
    "duration": 22,
    "start_time": "2022-03-27T07:57:08.920Z"
   },
   {
    "duration": 103,
    "start_time": "2022-03-27T07:57:08.944Z"
   },
   {
    "duration": 62,
    "start_time": "2022-03-27T07:57:09.048Z"
   },
   {
    "duration": 48,
    "start_time": "2022-03-27T07:57:09.112Z"
   },
   {
    "duration": 68,
    "start_time": "2022-03-27T07:57:09.163Z"
   },
   {
    "duration": 56,
    "start_time": "2022-03-27T07:57:32.940Z"
   },
   {
    "duration": 3,
    "start_time": "2022-03-27T08:09:46.111Z"
   },
   {
    "duration": 85,
    "start_time": "2022-03-27T08:09:46.117Z"
   },
   {
    "duration": 31,
    "start_time": "2022-03-27T08:09:46.205Z"
   },
   {
    "duration": 247,
    "start_time": "2022-03-27T08:09:46.238Z"
   },
   {
    "duration": 217,
    "start_time": "2022-03-27T08:09:46.502Z"
   },
   {
    "duration": 139,
    "start_time": "2022-03-27T08:09:46.722Z"
   },
   {
    "duration": 38,
    "start_time": "2022-03-27T08:09:46.863Z"
   },
   {
    "duration": 62,
    "start_time": "2022-03-27T08:09:46.903Z"
   },
   {
    "duration": 60,
    "start_time": "2022-03-27T08:09:46.967Z"
   },
   {
    "duration": 37,
    "start_time": "2022-03-27T08:09:47.029Z"
   },
   {
    "duration": 31,
    "start_time": "2022-03-27T08:09:47.071Z"
   },
   {
    "duration": 42,
    "start_time": "2022-03-27T08:09:47.104Z"
   },
   {
    "duration": 29,
    "start_time": "2022-03-27T08:09:47.148Z"
   },
   {
    "duration": 43,
    "start_time": "2022-03-27T08:09:47.179Z"
   },
   {
    "duration": 103,
    "start_time": "2022-03-27T08:09:47.224Z"
   },
   {
    "duration": 82,
    "start_time": "2022-03-27T08:09:47.330Z"
   },
   {
    "duration": 69,
    "start_time": "2022-03-27T08:09:47.414Z"
   },
   {
    "duration": 88,
    "start_time": "2022-03-27T08:09:47.486Z"
   },
   {
    "duration": 109,
    "start_time": "2022-03-27T08:09:47.576Z"
   },
   {
    "duration": 918,
    "start_time": "2022-03-27T08:12:13.344Z"
   },
   {
    "duration": 62,
    "start_time": "2022-03-27T08:12:14.265Z"
   },
   {
    "duration": 26,
    "start_time": "2022-03-27T08:12:14.329Z"
   },
   {
    "duration": 261,
    "start_time": "2022-03-27T08:12:14.358Z"
   },
   {
    "duration": 211,
    "start_time": "2022-03-27T08:12:14.621Z"
   },
   {
    "duration": 134,
    "start_time": "2022-03-27T08:12:14.834Z"
   },
   {
    "duration": 31,
    "start_time": "2022-03-27T08:12:14.970Z"
   },
   {
    "duration": 58,
    "start_time": "2022-03-27T08:12:15.003Z"
   },
   {
    "duration": 86,
    "start_time": "2022-03-27T08:12:15.063Z"
   },
   {
    "duration": 49,
    "start_time": "2022-03-27T08:12:15.153Z"
   },
   {
    "duration": 14,
    "start_time": "2022-03-27T08:12:15.203Z"
   },
   {
    "duration": 33,
    "start_time": "2022-03-27T08:12:15.219Z"
   },
   {
    "duration": 48,
    "start_time": "2022-03-27T08:12:15.254Z"
   },
   {
    "duration": 23,
    "start_time": "2022-03-27T08:12:15.304Z"
   },
   {
    "duration": 119,
    "start_time": "2022-03-27T08:12:15.329Z"
   },
   {
    "duration": 70,
    "start_time": "2022-03-27T08:12:15.450Z"
   },
   {
    "duration": 52,
    "start_time": "2022-03-27T08:12:15.522Z"
   },
   {
    "duration": 69,
    "start_time": "2022-03-27T08:12:15.577Z"
   },
   {
    "duration": 84,
    "start_time": "2022-03-27T08:12:15.648Z"
   },
   {
    "duration": 86,
    "start_time": "2022-03-27T08:12:15.734Z"
   },
   {
    "duration": 98,
    "start_time": "2022-03-27T08:12:15.822Z"
   },
   {
    "duration": 215,
    "start_time": "2022-03-27T08:12:15.923Z"
   },
   {
    "duration": 88,
    "start_time": "2022-03-27T08:12:16.140Z"
   },
   {
    "duration": 28,
    "start_time": "2022-03-27T08:12:16.230Z"
   },
   {
    "duration": 869,
    "start_time": "2022-03-27T08:30:16.239Z"
   },
   {
    "duration": 62,
    "start_time": "2022-03-27T08:30:17.111Z"
   },
   {
    "duration": 30,
    "start_time": "2022-03-27T08:30:17.175Z"
   },
   {
    "duration": 224,
    "start_time": "2022-03-27T08:30:17.207Z"
   },
   {
    "duration": 280,
    "start_time": "2022-03-27T08:30:17.433Z"
   },
   {
    "duration": 208,
    "start_time": "2022-03-27T08:30:17.715Z"
   },
   {
    "duration": 16,
    "start_time": "2022-03-27T08:30:17.926Z"
   },
   {
    "duration": 78,
    "start_time": "2022-03-27T08:30:17.944Z"
   },
   {
    "duration": 44,
    "start_time": "2022-03-27T08:30:18.024Z"
   },
   {
    "duration": 69,
    "start_time": "2022-03-27T08:30:18.071Z"
   },
   {
    "duration": 14,
    "start_time": "2022-03-27T08:30:18.142Z"
   },
   {
    "duration": 48,
    "start_time": "2022-03-27T08:30:18.158Z"
   },
   {
    "duration": 26,
    "start_time": "2022-03-27T08:30:18.209Z"
   },
   {
    "duration": 22,
    "start_time": "2022-03-27T08:30:18.237Z"
   },
   {
    "duration": 111,
    "start_time": "2022-03-27T08:30:18.261Z"
   },
   {
    "duration": 70,
    "start_time": "2022-03-27T08:30:18.373Z"
   },
   {
    "duration": 69,
    "start_time": "2022-03-27T08:30:18.445Z"
   },
   {
    "duration": 49,
    "start_time": "2022-03-27T08:30:18.516Z"
   },
   {
    "duration": 84,
    "start_time": "2022-03-27T08:30:18.567Z"
   },
   {
    "duration": 88,
    "start_time": "2022-03-27T08:30:18.654Z"
   },
   {
    "duration": 114,
    "start_time": "2022-03-27T08:30:18.745Z"
   },
   {
    "duration": 257,
    "start_time": "2022-03-27T08:30:18.861Z"
   },
   {
    "duration": 55,
    "start_time": "2022-03-27T08:30:19.120Z"
   },
   {
    "duration": 50,
    "start_time": "2022-03-27T08:30:19.177Z"
   },
   {
    "duration": 5,
    "start_time": "2022-03-27T08:41:03.147Z"
   },
   {
    "duration": 78,
    "start_time": "2022-03-27T08:41:03.154Z"
   },
   {
    "duration": 26,
    "start_time": "2022-03-27T08:41:03.235Z"
   },
   {
    "duration": 250,
    "start_time": "2022-03-27T08:41:03.263Z"
   },
   {
    "duration": 196,
    "start_time": "2022-03-27T08:41:03.515Z"
   },
   {
    "duration": 134,
    "start_time": "2022-03-27T08:41:03.714Z"
   },
   {
    "duration": 15,
    "start_time": "2022-03-27T08:41:03.850Z"
   },
   {
    "duration": 78,
    "start_time": "2022-03-27T08:41:03.867Z"
   },
   {
    "duration": 54,
    "start_time": "2022-03-27T08:41:03.947Z"
   },
   {
    "duration": 36,
    "start_time": "2022-03-27T08:41:04.004Z"
   },
   {
    "duration": 12,
    "start_time": "2022-03-27T08:41:04.043Z"
   },
   {
    "duration": 63,
    "start_time": "2022-03-27T08:41:04.057Z"
   },
   {
    "duration": 27,
    "start_time": "2022-03-27T08:41:04.122Z"
   },
   {
    "duration": 23,
    "start_time": "2022-03-27T08:41:04.151Z"
   },
   {
    "duration": 99,
    "start_time": "2022-03-27T08:41:04.176Z"
   },
   {
    "duration": 73,
    "start_time": "2022-03-27T08:41:04.277Z"
   },
   {
    "duration": 59,
    "start_time": "2022-03-27T08:41:04.352Z"
   },
   {
    "duration": 50,
    "start_time": "2022-03-27T08:41:04.413Z"
   },
   {
    "duration": 83,
    "start_time": "2022-03-27T08:41:04.466Z"
   },
   {
    "duration": 68,
    "start_time": "2022-03-27T08:42:58.929Z"
   },
   {
    "duration": 86,
    "start_time": "2022-03-27T08:43:39.008Z"
   },
   {
    "duration": 211,
    "start_time": "2022-03-27T08:43:58.774Z"
   },
   {
    "duration": 3,
    "start_time": "2022-03-27T09:08:53.065Z"
   },
   {
    "duration": 53,
    "start_time": "2022-03-27T09:08:53.073Z"
   },
   {
    "duration": 25,
    "start_time": "2022-03-27T09:08:53.128Z"
   },
   {
    "duration": 223,
    "start_time": "2022-03-27T09:08:53.154Z"
   },
   {
    "duration": 190,
    "start_time": "2022-03-27T09:08:53.380Z"
   },
   {
    "duration": 133,
    "start_time": "2022-03-27T09:08:53.573Z"
   },
   {
    "duration": 15,
    "start_time": "2022-03-27T09:08:53.708Z"
   },
   {
    "duration": 53,
    "start_time": "2022-03-27T09:08:53.725Z"
   },
   {
    "duration": 56,
    "start_time": "2022-03-27T09:08:53.780Z"
   },
   {
    "duration": 32,
    "start_time": "2022-03-27T09:08:53.838Z"
   },
   {
    "duration": 33,
    "start_time": "2022-03-27T09:08:53.873Z"
   },
   {
    "duration": 33,
    "start_time": "2022-03-27T09:08:53.908Z"
   },
   {
    "duration": 26,
    "start_time": "2022-03-27T09:08:53.942Z"
   },
   {
    "duration": 49,
    "start_time": "2022-03-27T09:08:53.970Z"
   },
   {
    "duration": 86,
    "start_time": "2022-03-27T09:08:54.021Z"
   },
   {
    "duration": 53,
    "start_time": "2022-03-27T09:08:54.109Z"
   },
   {
    "duration": 70,
    "start_time": "2022-03-27T09:08:54.164Z"
   },
   {
    "duration": 48,
    "start_time": "2022-03-27T09:08:54.235Z"
   },
   {
    "duration": 73,
    "start_time": "2022-03-27T09:08:54.285Z"
   },
   {
    "duration": 80,
    "start_time": "2022-03-27T09:08:54.360Z"
   },
   {
    "duration": 73,
    "start_time": "2022-03-27T09:08:54.442Z"
   },
   {
    "duration": 154,
    "start_time": "2022-03-27T09:08:54.517Z"
   },
   {
    "duration": 50,
    "start_time": "2022-03-27T09:10:01.374Z"
   },
   {
    "duration": 25,
    "start_time": "2022-03-27T09:10:02.483Z"
   },
   {
    "duration": 898,
    "start_time": "2022-03-27T09:11:10.485Z"
   },
   {
    "duration": 60,
    "start_time": "2022-03-27T09:11:11.386Z"
   },
   {
    "duration": 26,
    "start_time": "2022-03-27T09:11:11.448Z"
   },
   {
    "duration": 266,
    "start_time": "2022-03-27T09:11:11.477Z"
   },
   {
    "duration": 210,
    "start_time": "2022-03-27T09:11:11.745Z"
   },
   {
    "duration": 201,
    "start_time": "2022-03-27T09:11:11.957Z"
   },
   {
    "duration": 21,
    "start_time": "2022-03-27T09:11:12.160Z"
   },
   {
    "duration": 118,
    "start_time": "2022-03-27T09:11:12.183Z"
   },
   {
    "duration": 71,
    "start_time": "2022-03-27T09:11:12.304Z"
   },
   {
    "duration": 70,
    "start_time": "2022-03-27T09:11:12.379Z"
   },
   {
    "duration": 10,
    "start_time": "2022-03-27T09:11:12.451Z"
   },
   {
    "duration": 58,
    "start_time": "2022-03-27T09:11:12.463Z"
   },
   {
    "duration": 32,
    "start_time": "2022-03-27T09:11:12.524Z"
   },
   {
    "duration": 49,
    "start_time": "2022-03-27T09:11:12.558Z"
   },
   {
    "duration": 95,
    "start_time": "2022-03-27T09:11:12.609Z"
   },
   {
    "duration": 55,
    "start_time": "2022-03-27T09:11:12.706Z"
   },
   {
    "duration": 74,
    "start_time": "2022-03-27T09:11:12.763Z"
   },
   {
    "duration": 64,
    "start_time": "2022-03-27T09:11:12.840Z"
   },
   {
    "duration": 57,
    "start_time": "2022-03-27T09:11:12.906Z"
   },
   {
    "duration": 91,
    "start_time": "2022-03-27T09:11:12.965Z"
   },
   {
    "duration": 79,
    "start_time": "2022-03-27T09:11:13.057Z"
   },
   {
    "duration": 180,
    "start_time": "2022-03-27T09:11:13.139Z"
   },
   {
    "duration": 81,
    "start_time": "2022-03-27T09:11:13.322Z"
   },
   {
    "duration": 30,
    "start_time": "2022-03-27T09:11:13.405Z"
   },
   {
    "duration": 816,
    "start_time": "2022-03-27T09:12:37.532Z"
   },
   {
    "duration": 61,
    "start_time": "2022-03-27T09:12:38.351Z"
   },
   {
    "duration": 23,
    "start_time": "2022-03-27T09:12:38.414Z"
   },
   {
    "duration": 215,
    "start_time": "2022-03-27T09:12:38.439Z"
   },
   {
    "duration": 290,
    "start_time": "2022-03-27T09:12:38.656Z"
   },
   {
    "duration": 128,
    "start_time": "2022-03-27T09:12:38.948Z"
   },
   {
    "duration": 31,
    "start_time": "2022-03-27T09:12:39.077Z"
   },
   {
    "duration": 55,
    "start_time": "2022-03-27T09:12:39.110Z"
   },
   {
    "duration": 60,
    "start_time": "2022-03-27T09:12:39.168Z"
   },
   {
    "duration": 35,
    "start_time": "2022-03-27T09:12:39.231Z"
   },
   {
    "duration": 36,
    "start_time": "2022-03-27T09:12:39.267Z"
   },
   {
    "duration": 51,
    "start_time": "2022-03-27T09:12:39.305Z"
   },
   {
    "duration": 25,
    "start_time": "2022-03-27T09:12:39.358Z"
   },
   {
    "duration": 27,
    "start_time": "2022-03-27T09:12:39.385Z"
   },
   {
    "duration": 91,
    "start_time": "2022-03-27T09:12:39.413Z"
   },
   {
    "duration": 52,
    "start_time": "2022-03-27T09:12:39.505Z"
   },
   {
    "duration": 69,
    "start_time": "2022-03-27T09:12:39.559Z"
   },
   {
    "duration": 45,
    "start_time": "2022-03-27T09:12:39.630Z"
   },
   {
    "duration": 72,
    "start_time": "2022-03-27T09:12:39.677Z"
   },
   {
    "duration": 85,
    "start_time": "2022-03-27T09:12:39.751Z"
   },
   {
    "duration": 72,
    "start_time": "2022-03-27T09:12:39.838Z"
   },
   {
    "duration": 130,
    "start_time": "2022-03-27T09:12:39.912Z"
   },
   {
    "duration": 73,
    "start_time": "2022-03-27T09:12:40.044Z"
   },
   {
    "duration": 27,
    "start_time": "2022-03-27T09:12:40.120Z"
   },
   {
    "duration": 54,
    "start_time": "2022-03-27T09:22:11.241Z"
   },
   {
    "duration": 85,
    "start_time": "2022-03-27T09:22:29.856Z"
   },
   {
    "duration": 91,
    "start_time": "2022-03-27T09:22:58.261Z"
   },
   {
    "duration": 115,
    "start_time": "2022-03-27T09:23:14.296Z"
   },
   {
    "duration": 102,
    "start_time": "2022-03-27T10:02:06.492Z"
   },
   {
    "duration": 56,
    "start_time": "2022-03-27T10:02:21.869Z"
   },
   {
    "duration": 42,
    "start_time": "2022-03-27T10:03:15.703Z"
   },
   {
    "duration": 3,
    "start_time": "2022-03-27T10:04:14.064Z"
   },
   {
    "duration": 71,
    "start_time": "2022-03-27T10:04:14.073Z"
   },
   {
    "duration": 55,
    "start_time": "2022-03-27T10:04:14.146Z"
   },
   {
    "duration": 341,
    "start_time": "2022-03-27T10:04:14.204Z"
   },
   {
    "duration": 207,
    "start_time": "2022-03-27T10:04:14.548Z"
   },
   {
    "duration": 190,
    "start_time": "2022-03-27T10:04:14.757Z"
   },
   {
    "duration": 19,
    "start_time": "2022-03-27T10:04:14.949Z"
   },
   {
    "duration": 78,
    "start_time": "2022-03-27T10:04:14.970Z"
   },
   {
    "duration": 64,
    "start_time": "2022-03-27T10:04:15.050Z"
   },
   {
    "duration": 37,
    "start_time": "2022-03-27T10:04:15.116Z"
   },
   {
    "duration": 12,
    "start_time": "2022-03-27T10:04:15.157Z"
   },
   {
    "duration": 57,
    "start_time": "2022-03-27T10:04:15.171Z"
   },
   {
    "duration": 25,
    "start_time": "2022-03-27T10:04:15.230Z"
   },
   {
    "duration": 45,
    "start_time": "2022-03-27T10:04:15.257Z"
   },
   {
    "duration": 82,
    "start_time": "2022-03-27T10:04:15.304Z"
   },
   {
    "duration": 56,
    "start_time": "2022-03-27T10:04:15.402Z"
   },
   {
    "duration": 70,
    "start_time": "2022-03-27T10:04:15.460Z"
   },
   {
    "duration": 50,
    "start_time": "2022-03-27T10:04:15.533Z"
   },
   {
    "duration": 75,
    "start_time": "2022-03-27T10:04:15.585Z"
   },
   {
    "duration": 87,
    "start_time": "2022-03-27T10:04:15.662Z"
   },
   {
    "duration": 79,
    "start_time": "2022-03-27T10:04:15.751Z"
   },
   {
    "duration": 75,
    "start_time": "2022-03-27T10:04:15.832Z"
   },
   {
    "duration": 36,
    "start_time": "2022-03-27T10:06:53.111Z"
   },
   {
    "duration": 1109,
    "start_time": "2022-03-27T11:00:21.442Z"
   },
   {
    "duration": 170,
    "start_time": "2022-03-27T11:00:22.554Z"
   },
   {
    "duration": 35,
    "start_time": "2022-03-27T11:00:22.727Z"
   },
   {
    "duration": 262,
    "start_time": "2022-03-27T11:00:22.764Z"
   },
   {
    "duration": 248,
    "start_time": "2022-03-27T11:00:23.028Z"
   },
   {
    "duration": 156,
    "start_time": "2022-03-27T11:00:23.278Z"
   },
   {
    "duration": 23,
    "start_time": "2022-03-27T11:00:23.436Z"
   },
   {
    "duration": 86,
    "start_time": "2022-03-27T11:00:23.462Z"
   },
   {
    "duration": 52,
    "start_time": "2022-03-27T11:00:23.550Z"
   },
   {
    "duration": 64,
    "start_time": "2022-03-27T11:00:23.604Z"
   },
   {
    "duration": 14,
    "start_time": "2022-03-27T11:00:23.670Z"
   },
   {
    "duration": 58,
    "start_time": "2022-03-27T11:00:23.686Z"
   },
   {
    "duration": 31,
    "start_time": "2022-03-27T11:00:23.746Z"
   },
   {
    "duration": 27,
    "start_time": "2022-03-27T11:00:23.780Z"
   },
   {
    "duration": 133,
    "start_time": "2022-03-27T11:00:23.809Z"
   },
   {
    "duration": 70,
    "start_time": "2022-03-27T11:00:23.945Z"
   },
   {
    "duration": 83,
    "start_time": "2022-03-27T11:00:24.017Z"
   },
   {
    "duration": 83,
    "start_time": "2022-03-27T11:00:24.103Z"
   },
   {
    "duration": 162,
    "start_time": "2022-03-27T11:00:24.189Z"
   },
   {
    "duration": 0,
    "start_time": "2022-03-27T11:00:24.353Z"
   },
   {
    "duration": 0,
    "start_time": "2022-03-27T11:00:24.355Z"
   },
   {
    "duration": 0,
    "start_time": "2022-03-27T11:00:24.357Z"
   },
   {
    "duration": 67,
    "start_time": "2022-03-27T11:01:09.209Z"
   },
   {
    "duration": 65,
    "start_time": "2022-03-27T11:01:57.662Z"
   },
   {
    "duration": 67,
    "start_time": "2022-03-27T11:02:02.426Z"
   },
   {
    "duration": 73,
    "start_time": "2022-03-27T11:02:08.196Z"
   },
   {
    "duration": 48,
    "start_time": "2022-03-27T11:08:10.087Z"
   },
   {
    "duration": 135,
    "start_time": "2022-03-27T11:16:07.929Z"
   },
   {
    "duration": 50,
    "start_time": "2022-03-27T11:18:55.140Z"
   },
   {
    "duration": 760,
    "start_time": "2022-03-27T11:19:04.891Z"
   },
   {
    "duration": 720,
    "start_time": "2022-03-27T11:19:08.527Z"
   },
   {
    "duration": 72,
    "start_time": "2022-03-27T11:20:11.451Z"
   },
   {
    "duration": 1842,
    "start_time": "2022-03-27T11:20:17.592Z"
   },
   {
    "duration": 716,
    "start_time": "2022-03-27T11:20:45.099Z"
   },
   {
    "duration": 1044,
    "start_time": "2022-03-27T11:21:01.323Z"
   },
   {
    "duration": 92,
    "start_time": "2022-03-27T11:21:02.370Z"
   },
   {
    "duration": 34,
    "start_time": "2022-03-27T11:21:02.464Z"
   },
   {
    "duration": 267,
    "start_time": "2022-03-27T11:21:02.500Z"
   },
   {
    "duration": 229,
    "start_time": "2022-03-27T11:21:02.770Z"
   },
   {
    "duration": 163,
    "start_time": "2022-03-27T11:21:03.001Z"
   },
   {
    "duration": 22,
    "start_time": "2022-03-27T11:21:03.167Z"
   },
   {
    "duration": 103,
    "start_time": "2022-03-27T11:21:03.192Z"
   },
   {
    "duration": 69,
    "start_time": "2022-03-27T11:21:03.298Z"
   },
   {
    "duration": 42,
    "start_time": "2022-03-27T11:21:03.371Z"
   },
   {
    "duration": 30,
    "start_time": "2022-03-27T11:21:03.415Z"
   },
   {
    "duration": 40,
    "start_time": "2022-03-27T11:21:03.447Z"
   },
   {
    "duration": 55,
    "start_time": "2022-03-27T11:21:03.489Z"
   },
   {
    "duration": 28,
    "start_time": "2022-03-27T11:21:03.546Z"
   },
   {
    "duration": 119,
    "start_time": "2022-03-27T11:21:03.576Z"
   },
   {
    "duration": 84,
    "start_time": "2022-03-27T11:21:03.697Z"
   },
   {
    "duration": 73,
    "start_time": "2022-03-27T11:21:03.783Z"
   },
   {
    "duration": 60,
    "start_time": "2022-03-27T11:21:03.858Z"
   },
   {
    "duration": 81,
    "start_time": "2022-03-27T11:21:03.920Z"
   },
   {
    "duration": 82,
    "start_time": "2022-03-27T11:21:04.003Z"
   },
   {
    "duration": 75,
    "start_time": "2022-03-27T11:21:04.088Z"
   },
   {
    "duration": 54,
    "start_time": "2022-03-27T11:21:04.166Z"
   },
   {
    "duration": 52,
    "start_time": "2022-03-27T11:21:04.243Z"
   },
   {
    "duration": 863,
    "start_time": "2022-03-27T11:21:04.297Z"
   },
   {
    "duration": 0,
    "start_time": "2022-03-27T11:21:05.163Z"
   },
   {
    "duration": 0,
    "start_time": "2022-03-27T11:21:05.165Z"
   },
   {
    "duration": 11,
    "start_time": "2022-03-27T11:21:40.916Z"
   },
   {
    "duration": 768,
    "start_time": "2022-03-27T11:21:50.802Z"
   },
   {
    "duration": 735,
    "start_time": "2022-03-27T11:22:42.588Z"
   },
   {
    "duration": 777,
    "start_time": "2022-03-27T11:23:39.498Z"
   },
   {
    "duration": 19,
    "start_time": "2022-03-27T11:24:25.843Z"
   },
   {
    "duration": 738,
    "start_time": "2022-03-27T11:24:44.904Z"
   },
   {
    "duration": 703,
    "start_time": "2022-03-27T11:26:40.874Z"
   },
   {
    "duration": 22,
    "start_time": "2022-03-27T11:50:14.442Z"
   },
   {
    "duration": 0,
    "start_time": "2022-03-27T11:50:58.795Z"
   },
   {
    "duration": 25,
    "start_time": "2022-03-27T11:54:06.450Z"
   },
   {
    "duration": 24,
    "start_time": "2022-03-27T11:54:15.762Z"
   },
   {
    "duration": 42,
    "start_time": "2022-03-27T11:54:24.088Z"
   },
   {
    "duration": 55,
    "start_time": "2022-03-27T11:56:56.130Z"
   },
   {
    "duration": 60,
    "start_time": "2022-03-27T11:57:29.111Z"
   },
   {
    "duration": 62,
    "start_time": "2022-03-27T11:57:32.385Z"
   },
   {
    "duration": 55,
    "start_time": "2022-03-27T11:58:10.255Z"
   },
   {
    "duration": 59,
    "start_time": "2022-03-27T11:58:14.301Z"
   },
   {
    "duration": 42,
    "start_time": "2022-03-27T11:58:25.004Z"
   },
   {
    "duration": 26,
    "start_time": "2022-03-27T11:58:40.643Z"
   },
   {
    "duration": 17,
    "start_time": "2022-03-27T11:58:45.443Z"
   },
   {
    "duration": 20,
    "start_time": "2022-03-27T11:59:02.709Z"
   },
   {
    "duration": 23,
    "start_time": "2022-03-27T11:59:43.770Z"
   },
   {
    "duration": 93,
    "start_time": "2022-03-27T11:59:54.723Z"
   },
   {
    "duration": 23,
    "start_time": "2022-03-27T12:07:04.963Z"
   },
   {
    "duration": 6,
    "start_time": "2022-03-27T12:08:11.175Z"
   },
   {
    "duration": 33,
    "start_time": "2022-03-27T12:08:20.025Z"
   },
   {
    "duration": 29,
    "start_time": "2022-03-27T12:08:36.599Z"
   },
   {
    "duration": 50,
    "start_time": "2022-03-27T12:08:46.177Z"
   },
   {
    "duration": 77,
    "start_time": "2022-03-27T12:13:12.724Z"
   },
   {
    "duration": 110,
    "start_time": "2022-03-27T12:19:26.228Z"
   },
   {
    "duration": 91,
    "start_time": "2022-03-27T12:21:11.580Z"
   },
   {
    "duration": 1100,
    "start_time": "2022-03-27T12:30:05.975Z"
   },
   {
    "duration": 81,
    "start_time": "2022-03-27T12:30:07.078Z"
   },
   {
    "duration": 39,
    "start_time": "2022-03-27T12:30:07.162Z"
   },
   {
    "duration": 279,
    "start_time": "2022-03-27T12:30:07.205Z"
   },
   {
    "duration": 244,
    "start_time": "2022-03-27T12:30:07.486Z"
   },
   {
    "duration": 170,
    "start_time": "2022-03-27T12:30:07.733Z"
   },
   {
    "duration": 20,
    "start_time": "2022-03-27T12:30:07.905Z"
   },
   {
    "duration": 92,
    "start_time": "2022-03-27T12:30:07.927Z"
   },
   {
    "duration": 66,
    "start_time": "2022-03-27T12:30:08.022Z"
   },
   {
    "duration": 45,
    "start_time": "2022-03-27T12:30:08.092Z"
   },
   {
    "duration": 14,
    "start_time": "2022-03-27T12:30:08.139Z"
   },
   {
    "duration": 61,
    "start_time": "2022-03-27T12:30:08.156Z"
   },
   {
    "duration": 31,
    "start_time": "2022-03-27T12:30:08.219Z"
   },
   {
    "duration": 50,
    "start_time": "2022-03-27T12:30:08.252Z"
   },
   {
    "duration": 155,
    "start_time": "2022-03-27T12:30:08.304Z"
   },
   {
    "duration": 108,
    "start_time": "2022-03-27T12:30:08.461Z"
   },
   {
    "duration": 69,
    "start_time": "2022-03-27T12:30:08.572Z"
   },
   {
    "duration": 80,
    "start_time": "2022-03-27T12:30:08.644Z"
   },
   {
    "duration": 89,
    "start_time": "2022-03-27T12:30:08.727Z"
   },
   {
    "duration": 89,
    "start_time": "2022-03-27T12:30:08.819Z"
   },
   {
    "duration": 90,
    "start_time": "2022-03-27T12:30:08.910Z"
   },
   {
    "duration": 80,
    "start_time": "2022-03-27T12:30:09.002Z"
   },
   {
    "duration": 84,
    "start_time": "2022-03-27T12:30:09.084Z"
   },
   {
    "duration": 83,
    "start_time": "2022-03-27T12:30:09.170Z"
   },
   {
    "duration": 151,
    "start_time": "2022-03-27T12:30:09.255Z"
   },
   {
    "duration": 27,
    "start_time": "2022-03-27T12:33:45.324Z"
   },
   {
    "duration": 96,
    "start_time": "2022-03-27T12:34:44.775Z"
   },
   {
    "duration": 106,
    "start_time": "2022-03-27T12:34:56.068Z"
   },
   {
    "duration": 26,
    "start_time": "2022-03-27T12:35:02.705Z"
   },
   {
    "duration": 26,
    "start_time": "2022-03-27T12:35:14.758Z"
   },
   {
    "duration": 1028,
    "start_time": "2022-03-27T12:35:21.564Z"
   },
   {
    "duration": 74,
    "start_time": "2022-03-27T12:35:22.594Z"
   },
   {
    "duration": 39,
    "start_time": "2022-03-27T12:35:22.671Z"
   },
   {
    "duration": 273,
    "start_time": "2022-03-27T12:35:22.715Z"
   },
   {
    "duration": 237,
    "start_time": "2022-03-27T12:35:22.990Z"
   },
   {
    "duration": 167,
    "start_time": "2022-03-27T12:35:23.230Z"
   },
   {
    "duration": 20,
    "start_time": "2022-03-27T12:35:23.399Z"
   },
   {
    "duration": 96,
    "start_time": "2022-03-27T12:35:23.421Z"
   },
   {
    "duration": 71,
    "start_time": "2022-03-27T12:35:23.519Z"
   },
   {
    "duration": 45,
    "start_time": "2022-03-27T12:35:23.593Z"
   },
   {
    "duration": 15,
    "start_time": "2022-03-27T12:35:23.640Z"
   },
   {
    "duration": 38,
    "start_time": "2022-03-27T12:35:23.682Z"
   },
   {
    "duration": 30,
    "start_time": "2022-03-27T12:35:23.723Z"
   },
   {
    "duration": 51,
    "start_time": "2022-03-27T12:35:23.755Z"
   },
   {
    "duration": 129,
    "start_time": "2022-03-27T12:35:23.808Z"
   },
   {
    "duration": 98,
    "start_time": "2022-03-27T12:35:23.941Z"
   },
   {
    "duration": 78,
    "start_time": "2022-03-27T12:35:24.041Z"
   },
   {
    "duration": 82,
    "start_time": "2022-03-27T12:35:24.121Z"
   },
   {
    "duration": 80,
    "start_time": "2022-03-27T12:35:24.205Z"
   },
   {
    "duration": 60,
    "start_time": "2022-03-27T12:35:24.287Z"
   },
   {
    "duration": 81,
    "start_time": "2022-03-27T12:35:24.350Z"
   },
   {
    "duration": 68,
    "start_time": "2022-03-27T12:35:24.433Z"
   },
   {
    "duration": 96,
    "start_time": "2022-03-27T12:35:24.503Z"
   },
   {
    "duration": 28,
    "start_time": "2022-03-27T12:35:24.602Z"
   },
   {
    "duration": 141,
    "start_time": "2022-03-27T12:35:24.632Z"
   },
   {
    "duration": 105,
    "start_time": "2022-03-27T12:35:55.273Z"
   },
   {
    "duration": 25,
    "start_time": "2022-03-27T12:37:04.072Z"
   },
   {
    "duration": 36,
    "start_time": "2022-03-27T12:37:28.645Z"
   },
   {
    "duration": 157,
    "start_time": "2022-03-27T12:52:00.041Z"
   },
   {
    "duration": 104,
    "start_time": "2022-03-27T12:52:11.577Z"
   },
   {
    "duration": 109,
    "start_time": "2022-03-27T12:52:37.713Z"
   },
   {
    "duration": 812,
    "start_time": "2022-03-27T12:52:53.971Z"
   },
   {
    "duration": 137,
    "start_time": "2022-03-27T12:54:40.786Z"
   },
   {
    "duration": 140,
    "start_time": "2022-03-27T13:01:48.209Z"
   },
   {
    "duration": 6,
    "start_time": "2022-03-27T13:02:20.106Z"
   },
   {
    "duration": 24,
    "start_time": "2022-03-27T13:10:20.928Z"
   },
   {
    "duration": 7,
    "start_time": "2022-03-27T13:10:33.568Z"
   },
   {
    "duration": 10,
    "start_time": "2022-03-27T13:10:54.599Z"
   },
   {
    "duration": 9,
    "start_time": "2022-03-27T13:11:17.865Z"
   },
   {
    "duration": 1197,
    "start_time": "2022-03-27T13:14:46.154Z"
   },
   {
    "duration": 8,
    "start_time": "2022-03-27T13:17:23.104Z"
   },
   {
    "duration": 37,
    "start_time": "2022-03-27T13:17:29.947Z"
   },
   {
    "duration": 9,
    "start_time": "2022-03-27T13:17:35.211Z"
   },
   {
    "duration": 181,
    "start_time": "2022-03-27T13:22:07.648Z"
   },
   {
    "duration": 126,
    "start_time": "2022-03-27T13:23:06.978Z"
   },
   {
    "duration": 6,
    "start_time": "2022-03-27T13:23:19.589Z"
   },
   {
    "duration": 7,
    "start_time": "2022-03-27T13:23:28.452Z"
   },
   {
    "duration": 112,
    "start_time": "2022-03-27T13:23:35.025Z"
   },
   {
    "duration": 7,
    "start_time": "2022-03-27T13:23:39.200Z"
   },
   {
    "duration": 151,
    "start_time": "2022-03-27T13:24:13.048Z"
   },
   {
    "duration": 7,
    "start_time": "2022-03-27T13:25:50.955Z"
   },
   {
    "duration": 4,
    "start_time": "2022-03-27T13:28:12.606Z"
   },
   {
    "duration": 5,
    "start_time": "2022-03-27T13:28:19.002Z"
   },
   {
    "duration": 6,
    "start_time": "2022-03-27T13:29:59.200Z"
   },
   {
    "duration": 211,
    "start_time": "2022-03-27T13:34:50.729Z"
   },
   {
    "duration": 205,
    "start_time": "2022-03-27T13:41:20.767Z"
   },
   {
    "duration": 37,
    "start_time": "2022-03-27T13:47:40.669Z"
   },
   {
    "duration": 122,
    "start_time": "2022-03-27T13:48:19.798Z"
   },
   {
    "duration": 108,
    "start_time": "2022-03-27T13:48:24.281Z"
   },
   {
    "duration": 292,
    "start_time": "2022-03-27T13:48:54.576Z"
   },
   {
    "duration": 238,
    "start_time": "2022-03-27T13:49:01.799Z"
   },
   {
    "duration": 102,
    "start_time": "2022-03-27T13:49:25.459Z"
   },
   {
    "duration": 194,
    "start_time": "2022-03-27T13:49:41.543Z"
   },
   {
    "duration": 7,
    "start_time": "2022-03-27T13:50:17.497Z"
   },
   {
    "duration": 8,
    "start_time": "2022-03-27T13:52:58.458Z"
   },
   {
    "duration": 146,
    "start_time": "2022-03-27T13:53:07.228Z"
   },
   {
    "duration": 6,
    "start_time": "2022-03-27T13:53:48.986Z"
   },
   {
    "duration": 5,
    "start_time": "2022-03-27T13:54:36.650Z"
   },
   {
    "duration": 7,
    "start_time": "2022-03-27T13:54:41.422Z"
   },
   {
    "duration": 5,
    "start_time": "2022-03-27T13:56:36.575Z"
   },
   {
    "duration": 6,
    "start_time": "2022-03-27T13:57:04.416Z"
   },
   {
    "duration": 37,
    "start_time": "2022-03-27T13:59:19.224Z"
   },
   {
    "duration": 104,
    "start_time": "2022-03-27T14:00:35.508Z"
   },
   {
    "duration": 205,
    "start_time": "2022-03-27T14:01:05.380Z"
   },
   {
    "duration": 101,
    "start_time": "2022-03-27T14:02:29.922Z"
   },
   {
    "duration": 6,
    "start_time": "2022-03-27T14:03:09.970Z"
   },
   {
    "duration": 8,
    "start_time": "2022-03-27T14:05:39.660Z"
   },
   {
    "duration": 7,
    "start_time": "2022-03-27T14:06:33.188Z"
   },
   {
    "duration": 6,
    "start_time": "2022-03-27T14:08:07.609Z"
   },
   {
    "duration": 11,
    "start_time": "2022-03-27T14:14:01.608Z"
   },
   {
    "duration": 32,
    "start_time": "2022-03-27T14:16:08.007Z"
   },
   {
    "duration": 42,
    "start_time": "2022-03-27T14:17:00.348Z"
   },
   {
    "duration": 29,
    "start_time": "2022-03-27T14:17:41.519Z"
   },
   {
    "duration": 36,
    "start_time": "2022-03-27T14:17:59.070Z"
   },
   {
    "duration": 38,
    "start_time": "2022-03-27T14:18:46.368Z"
   },
   {
    "duration": 143,
    "start_time": "2022-03-27T19:58:55.698Z"
   },
   {
    "duration": 897,
    "start_time": "2022-03-27T20:00:23.078Z"
   },
   {
    "duration": 104,
    "start_time": "2022-03-27T20:00:23.977Z"
   },
   {
    "duration": 27,
    "start_time": "2022-03-27T20:00:24.083Z"
   },
   {
    "duration": 227,
    "start_time": "2022-03-27T20:00:24.112Z"
   },
   {
    "duration": 205,
    "start_time": "2022-03-27T20:00:24.341Z"
   },
   {
    "duration": 135,
    "start_time": "2022-03-27T20:00:24.548Z"
   },
   {
    "duration": 16,
    "start_time": "2022-03-27T20:00:24.685Z"
   },
   {
    "duration": 84,
    "start_time": "2022-03-27T20:00:24.702Z"
   },
   {
    "duration": 51,
    "start_time": "2022-03-27T20:00:24.788Z"
   },
   {
    "duration": 35,
    "start_time": "2022-03-27T20:00:24.844Z"
   },
   {
    "duration": 12,
    "start_time": "2022-03-27T20:00:24.881Z"
   },
   {
    "duration": 61,
    "start_time": "2022-03-27T20:00:24.894Z"
   },
   {
    "duration": 25,
    "start_time": "2022-03-27T20:00:24.958Z"
   },
   {
    "duration": 22,
    "start_time": "2022-03-27T20:00:24.985Z"
   },
   {
    "duration": 84,
    "start_time": "2022-03-27T20:00:25.033Z"
   },
   {
    "duration": 71,
    "start_time": "2022-03-27T20:00:25.131Z"
   },
   {
    "duration": 86,
    "start_time": "2022-03-27T20:00:25.203Z"
   },
   {
    "duration": 60,
    "start_time": "2022-03-27T20:00:25.291Z"
   },
   {
    "duration": 53,
    "start_time": "2022-03-27T20:00:25.353Z"
   },
   {
    "duration": 67,
    "start_time": "2022-03-27T20:00:25.408Z"
   },
   {
    "duration": 71,
    "start_time": "2022-03-27T20:00:25.477Z"
   },
   {
    "duration": 42,
    "start_time": "2022-03-27T20:00:25.551Z"
   },
   {
    "duration": 93,
    "start_time": "2022-03-27T20:00:25.595Z"
   },
   {
    "duration": 28,
    "start_time": "2022-03-27T20:00:25.690Z"
   },
   {
    "duration": 694,
    "start_time": "2022-03-27T20:00:25.719Z"
   },
   {
    "duration": 6,
    "start_time": "2022-03-27T20:00:26.415Z"
   },
   {
    "duration": 6,
    "start_time": "2022-03-27T20:00:26.431Z"
   },
   {
    "duration": 19,
    "start_time": "2022-03-27T20:00:26.442Z"
   },
   {
    "duration": 5,
    "start_time": "2022-03-27T20:00:26.464Z"
   },
   {
    "duration": 264,
    "start_time": "2022-03-27T20:14:41.263Z"
   },
   {
    "duration": 215,
    "start_time": "2022-03-27T20:14:52.246Z"
   },
   {
    "duration": 152,
    "start_time": "2022-03-27T20:15:27.745Z"
   },
   {
    "duration": 155,
    "start_time": "2022-03-27T20:15:35.868Z"
   },
   {
    "duration": 142,
    "start_time": "2022-03-27T20:16:52.556Z"
   },
   {
    "duration": 154,
    "start_time": "2022-03-27T20:17:16.444Z"
   },
   {
    "duration": 171,
    "start_time": "2022-03-27T20:17:53.757Z"
   },
   {
    "duration": 168,
    "start_time": "2022-03-27T20:18:17.312Z"
   },
   {
    "duration": 178,
    "start_time": "2022-03-27T20:18:39.204Z"
   },
   {
    "duration": 257,
    "start_time": "2022-03-27T20:19:01.382Z"
   },
   {
    "duration": 7,
    "start_time": "2022-03-27T20:24:01.560Z"
   },
   {
    "duration": 150,
    "start_time": "2022-03-27T20:27:28.178Z"
   },
   {
    "duration": 177,
    "start_time": "2022-03-27T20:27:38.946Z"
   },
   {
    "duration": 158,
    "start_time": "2022-03-27T20:27:44.946Z"
   },
   {
    "duration": 176,
    "start_time": "2022-03-27T20:28:34.630Z"
   },
   {
    "duration": 199,
    "start_time": "2022-03-27T20:35:52.015Z"
   },
   {
    "duration": 217,
    "start_time": "2022-03-27T20:36:09.636Z"
   },
   {
    "duration": 160,
    "start_time": "2022-03-27T20:42:56.756Z"
   },
   {
    "duration": 152,
    "start_time": "2022-03-27T20:43:14.366Z"
   },
   {
    "duration": 5,
    "start_time": "2022-03-27T20:43:57.679Z"
   },
   {
    "duration": 174,
    "start_time": "2022-03-27T20:44:40.333Z"
   },
   {
    "duration": 166,
    "start_time": "2022-03-27T20:44:46.596Z"
   },
   {
    "duration": 250,
    "start_time": "2022-03-27T20:49:33.311Z"
   },
   {
    "duration": 191,
    "start_time": "2022-03-27T20:55:24.127Z"
   },
   {
    "duration": 192,
    "start_time": "2022-03-27T21:00:50.974Z"
   },
   {
    "duration": 184,
    "start_time": "2022-03-27T21:01:04.624Z"
   },
   {
    "duration": 172,
    "start_time": "2022-03-27T21:06:02.119Z"
   },
   {
    "duration": 1203,
    "start_time": "2022-03-28T09:05:31.551Z"
   },
   {
    "duration": 85,
    "start_time": "2022-03-28T09:05:32.757Z"
   },
   {
    "duration": 45,
    "start_time": "2022-03-28T09:05:32.845Z"
   },
   {
    "duration": 307,
    "start_time": "2022-03-28T09:05:32.893Z"
   },
   {
    "duration": 257,
    "start_time": "2022-03-28T09:05:33.205Z"
   },
   {
    "duration": 164,
    "start_time": "2022-03-28T09:05:33.485Z"
   },
   {
    "duration": 44,
    "start_time": "2022-03-28T09:05:33.652Z"
   },
   {
    "duration": 91,
    "start_time": "2022-03-28T09:05:33.698Z"
   },
   {
    "duration": 55,
    "start_time": "2022-03-28T09:05:33.792Z"
   },
   {
    "duration": 66,
    "start_time": "2022-03-28T09:05:33.850Z"
   },
   {
    "duration": 15,
    "start_time": "2022-03-28T09:05:33.918Z"
   },
   {
    "duration": 65,
    "start_time": "2022-03-28T09:05:33.935Z"
   },
   {
    "duration": 33,
    "start_time": "2022-03-28T09:05:34.002Z"
   },
   {
    "duration": 50,
    "start_time": "2022-03-28T09:05:34.039Z"
   },
   {
    "duration": 128,
    "start_time": "2022-03-28T09:05:34.092Z"
   },
   {
    "duration": 88,
    "start_time": "2022-03-28T09:05:34.222Z"
   },
   {
    "duration": 80,
    "start_time": "2022-03-28T09:05:34.313Z"
   },
   {
    "duration": 67,
    "start_time": "2022-03-28T09:05:34.395Z"
   },
   {
    "duration": 71,
    "start_time": "2022-03-28T09:05:34.483Z"
   },
   {
    "duration": 86,
    "start_time": "2022-03-28T09:05:34.556Z"
   },
   {
    "duration": 86,
    "start_time": "2022-03-28T09:05:34.644Z"
   },
   {
    "duration": 72,
    "start_time": "2022-03-28T09:05:34.733Z"
   },
   {
    "duration": 100,
    "start_time": "2022-03-28T09:05:34.808Z"
   },
   {
    "duration": 83,
    "start_time": "2022-03-28T09:07:23.197Z"
   },
   {
    "duration": 83,
    "start_time": "2022-03-28T19:12:57.304Z"
   },
   {
    "duration": 816,
    "start_time": "2022-03-28T19:13:12.448Z"
   },
   {
    "duration": 80,
    "start_time": "2022-03-28T19:13:13.266Z"
   },
   {
    "duration": 21,
    "start_time": "2022-03-28T19:13:13.348Z"
   },
   {
    "duration": 199,
    "start_time": "2022-03-28T19:13:13.371Z"
   },
   {
    "duration": 172,
    "start_time": "2022-03-28T19:13:13.571Z"
   },
   {
    "duration": 105,
    "start_time": "2022-03-28T19:13:13.745Z"
   },
   {
    "duration": 12,
    "start_time": "2022-03-28T19:13:13.852Z"
   },
   {
    "duration": 68,
    "start_time": "2022-03-28T19:13:13.865Z"
   },
   {
    "duration": 36,
    "start_time": "2022-03-28T19:13:13.935Z"
   },
   {
    "duration": 30,
    "start_time": "2022-03-28T19:13:13.974Z"
   },
   {
    "duration": 30,
    "start_time": "2022-03-28T19:13:14.005Z"
   },
   {
    "duration": 30,
    "start_time": "2022-03-28T19:13:14.037Z"
   },
   {
    "duration": 23,
    "start_time": "2022-03-28T19:13:14.069Z"
   },
   {
    "duration": 45,
    "start_time": "2022-03-28T19:13:14.093Z"
   },
   {
    "duration": 73,
    "start_time": "2022-03-28T19:13:14.140Z"
   },
   {
    "duration": 60,
    "start_time": "2022-03-28T19:13:14.215Z"
   },
   {
    "duration": 59,
    "start_time": "2022-03-28T19:13:14.276Z"
   },
   {
    "duration": 41,
    "start_time": "2022-03-28T19:13:14.336Z"
   },
   {
    "duration": 55,
    "start_time": "2022-03-28T19:13:14.379Z"
   },
   {
    "duration": 40,
    "start_time": "2022-03-28T19:13:14.435Z"
   },
   {
    "duration": 39,
    "start_time": "2022-03-28T19:13:14.477Z"
   },
   {
    "duration": 37,
    "start_time": "2022-03-28T19:13:14.533Z"
   },
   {
    "duration": 74,
    "start_time": "2022-03-28T19:13:14.571Z"
   },
   {
    "duration": 22,
    "start_time": "2022-03-28T19:13:14.647Z"
   },
   {
    "duration": 546,
    "start_time": "2022-03-28T19:13:14.671Z"
   },
   {
    "duration": 4,
    "start_time": "2022-03-28T19:13:15.219Z"
   },
   {
    "duration": 5,
    "start_time": "2022-03-28T19:13:15.233Z"
   },
   {
    "duration": 7,
    "start_time": "2022-03-28T19:13:15.241Z"
   },
   {
    "duration": 6,
    "start_time": "2022-03-28T19:13:15.250Z"
   },
   {
    "duration": 134,
    "start_time": "2022-03-28T19:13:15.257Z"
   },
   {
    "duration": 129,
    "start_time": "2022-03-28T19:13:15.392Z"
   },
   {
    "duration": 182,
    "start_time": "2022-03-28T19:13:15.522Z"
   },
   {
    "duration": 142,
    "start_time": "2022-03-28T19:13:15.706Z"
   },
   {
    "duration": 129,
    "start_time": "2022-03-28T19:13:15.850Z"
   },
   {
    "duration": 166,
    "start_time": "2022-03-28T19:13:15.981Z"
   },
   {
    "duration": 131,
    "start_time": "2022-03-28T19:13:16.149Z"
   },
   {
    "duration": 139,
    "start_time": "2022-03-28T19:13:16.282Z"
   },
   {
    "duration": 1416,
    "start_time": "2022-03-28T19:13:16.423Z"
   },
   {
    "duration": 18,
    "start_time": "2022-03-28T19:15:00.410Z"
   },
   {
    "duration": 12,
    "start_time": "2022-03-28T19:15:25.471Z"
   },
   {
    "duration": 17,
    "start_time": "2022-03-28T19:16:54.889Z"
   },
   {
    "duration": 15,
    "start_time": "2022-03-28T19:17:14.496Z"
   },
   {
    "duration": 811,
    "start_time": "2022-03-28T19:18:50.748Z"
   },
   {
    "duration": 79,
    "start_time": "2022-03-28T19:18:51.561Z"
   },
   {
    "duration": 21,
    "start_time": "2022-03-28T19:18:51.642Z"
   },
   {
    "duration": 199,
    "start_time": "2022-03-28T19:18:51.666Z"
   },
   {
    "duration": 182,
    "start_time": "2022-03-28T19:18:51.867Z"
   },
   {
    "duration": 119,
    "start_time": "2022-03-28T19:18:52.051Z"
   },
   {
    "duration": 13,
    "start_time": "2022-03-28T19:18:52.172Z"
   },
   {
    "duration": 67,
    "start_time": "2022-03-28T19:18:52.187Z"
   },
   {
    "duration": 40,
    "start_time": "2022-03-28T19:18:52.256Z"
   },
   {
    "duration": 52,
    "start_time": "2022-03-28T19:18:52.299Z"
   },
   {
    "duration": 10,
    "start_time": "2022-03-28T19:18:52.353Z"
   },
   {
    "duration": 28,
    "start_time": "2022-03-28T19:18:52.365Z"
   },
   {
    "duration": 47,
    "start_time": "2022-03-28T19:18:52.395Z"
   },
   {
    "duration": 20,
    "start_time": "2022-03-28T19:18:52.443Z"
   },
   {
    "duration": 91,
    "start_time": "2022-03-28T19:18:52.465Z"
   },
   {
    "duration": 48,
    "start_time": "2022-03-28T19:18:52.558Z"
   },
   {
    "duration": 61,
    "start_time": "2022-03-28T19:18:52.608Z"
   },
   {
    "duration": 44,
    "start_time": "2022-03-28T19:18:52.671Z"
   },
   {
    "duration": 42,
    "start_time": "2022-03-28T19:18:52.732Z"
   },
   {
    "duration": 58,
    "start_time": "2022-03-28T19:18:52.776Z"
   },
   {
    "duration": 40,
    "start_time": "2022-03-28T19:18:52.836Z"
   },
   {
    "duration": 56,
    "start_time": "2022-03-28T19:18:52.878Z"
   },
   {
    "duration": 52,
    "start_time": "2022-03-28T19:18:52.935Z"
   },
   {
    "duration": 24,
    "start_time": "2022-03-28T19:18:52.989Z"
   },
   {
    "duration": 370,
    "start_time": "2022-03-28T19:18:53.033Z"
   },
   {
    "duration": 4,
    "start_time": "2022-03-28T19:18:53.405Z"
   },
   {
    "duration": 6,
    "start_time": "2022-03-28T19:18:53.410Z"
   },
   {
    "duration": 5,
    "start_time": "2022-03-28T19:18:53.435Z"
   },
   {
    "duration": 7,
    "start_time": "2022-03-28T19:18:53.441Z"
   },
   {
    "duration": 127,
    "start_time": "2022-03-28T19:18:53.449Z"
   },
   {
    "duration": 130,
    "start_time": "2022-03-28T19:18:53.577Z"
   },
   {
    "duration": 170,
    "start_time": "2022-03-28T19:18:53.709Z"
   },
   {
    "duration": 132,
    "start_time": "2022-03-28T19:18:53.881Z"
   },
   {
    "duration": 134,
    "start_time": "2022-03-28T19:18:54.015Z"
   },
   {
    "duration": 163,
    "start_time": "2022-03-28T19:18:54.151Z"
   },
   {
    "duration": 124,
    "start_time": "2022-03-28T19:18:54.316Z"
   },
   {
    "duration": 128,
    "start_time": "2022-03-28T19:18:54.442Z"
   },
   {
    "duration": 112,
    "start_time": "2022-03-28T19:18:54.572Z"
   },
   {
    "duration": 16,
    "start_time": "2022-03-28T19:19:59.616Z"
   },
   {
    "duration": 15,
    "start_time": "2022-03-28T19:20:04.526Z"
   },
   {
    "duration": 81,
    "start_time": "2022-03-28T19:20:34.556Z"
   },
   {
    "duration": 15,
    "start_time": "2022-03-28T19:20:39.933Z"
   },
   {
    "duration": 11,
    "start_time": "2022-03-28T19:22:21.620Z"
   },
   {
    "duration": 12,
    "start_time": "2022-03-28T19:25:18.671Z"
   },
   {
    "duration": 27,
    "start_time": "2022-03-28T19:33:24.177Z"
   },
   {
    "duration": 81,
    "start_time": "2022-03-28T19:34:02.566Z"
   },
   {
    "duration": 46,
    "start_time": "2022-03-28T19:36:50.300Z"
   },
   {
    "duration": 49,
    "start_time": "2022-03-28T19:37:07.995Z"
   },
   {
    "duration": 8,
    "start_time": "2022-03-28T19:40:36.520Z"
   },
   {
    "duration": 12,
    "start_time": "2022-03-28T19:41:42.397Z"
   },
   {
    "duration": 5,
    "start_time": "2022-03-28T19:41:47.080Z"
   },
   {
    "duration": 5,
    "start_time": "2022-03-28T19:42:04.949Z"
   },
   {
    "duration": 2,
    "start_time": "2022-03-28T19:45:14.783Z"
   },
   {
    "duration": 93,
    "start_time": "2022-03-28T19:57:03.232Z"
   },
   {
    "duration": 57,
    "start_time": "2022-03-28T19:57:12.692Z"
   },
   {
    "duration": 776,
    "start_time": "2022-03-28T19:58:44.283Z"
   },
   {
    "duration": 66,
    "start_time": "2022-03-28T19:58:45.061Z"
   },
   {
    "duration": 24,
    "start_time": "2022-03-28T19:58:45.129Z"
   },
   {
    "duration": 196,
    "start_time": "2022-03-28T19:58:45.154Z"
   },
   {
    "duration": 164,
    "start_time": "2022-03-28T19:58:45.352Z"
   },
   {
    "duration": 127,
    "start_time": "2022-03-28T19:58:45.518Z"
   },
   {
    "duration": 15,
    "start_time": "2022-03-28T19:58:45.647Z"
   },
   {
    "duration": 73,
    "start_time": "2022-03-28T19:58:45.664Z"
   },
   {
    "duration": 39,
    "start_time": "2022-03-28T19:58:45.739Z"
   },
   {
    "duration": 31,
    "start_time": "2022-03-28T19:58:45.779Z"
   },
   {
    "duration": 29,
    "start_time": "2022-03-28T19:58:45.812Z"
   },
   {
    "duration": 29,
    "start_time": "2022-03-28T19:58:45.843Z"
   },
   {
    "duration": 22,
    "start_time": "2022-03-28T19:58:45.874Z"
   },
   {
    "duration": 44,
    "start_time": "2022-03-28T19:58:45.899Z"
   },
   {
    "duration": 74,
    "start_time": "2022-03-28T19:58:45.944Z"
   },
   {
    "duration": 58,
    "start_time": "2022-03-28T19:58:46.020Z"
   },
   {
    "duration": 56,
    "start_time": "2022-03-28T19:58:46.079Z"
   },
   {
    "duration": 42,
    "start_time": "2022-03-28T19:58:46.137Z"
   },
   {
    "duration": 61,
    "start_time": "2022-03-28T19:58:46.181Z"
   },
   {
    "duration": 41,
    "start_time": "2022-03-28T19:58:46.244Z"
   },
   {
    "duration": 58,
    "start_time": "2022-03-28T19:58:46.287Z"
   },
   {
    "duration": 37,
    "start_time": "2022-03-28T19:58:46.347Z"
   },
   {
    "duration": 69,
    "start_time": "2022-03-28T19:58:46.386Z"
   },
   {
    "duration": 23,
    "start_time": "2022-03-28T19:58:46.457Z"
   },
   {
    "duration": 401,
    "start_time": "2022-03-28T19:58:46.482Z"
   },
   {
    "duration": 4,
    "start_time": "2022-03-28T19:58:46.884Z"
   },
   {
    "duration": 10,
    "start_time": "2022-03-28T19:58:46.890Z"
   },
   {
    "duration": 13,
    "start_time": "2022-03-28T19:58:46.901Z"
   },
   {
    "duration": 17,
    "start_time": "2022-03-28T19:58:46.916Z"
   },
   {
    "duration": 150,
    "start_time": "2022-03-28T19:58:46.935Z"
   },
   {
    "duration": 132,
    "start_time": "2022-03-28T19:58:47.086Z"
   },
   {
    "duration": 164,
    "start_time": "2022-03-28T19:58:47.219Z"
   },
   {
    "duration": 126,
    "start_time": "2022-03-28T19:58:47.384Z"
   },
   {
    "duration": 139,
    "start_time": "2022-03-28T19:58:47.511Z"
   },
   {
    "duration": 156,
    "start_time": "2022-03-28T19:58:47.651Z"
   },
   {
    "duration": 144,
    "start_time": "2022-03-28T19:58:47.809Z"
   },
   {
    "duration": 139,
    "start_time": "2022-03-28T19:58:47.955Z"
   },
   {
    "duration": 16,
    "start_time": "2022-03-28T19:58:48.096Z"
   },
   {
    "duration": 47,
    "start_time": "2022-03-28T19:58:48.114Z"
   },
   {
    "duration": 11,
    "start_time": "2022-03-28T19:58:48.163Z"
   },
   {
    "duration": 7,
    "start_time": "2022-03-28T19:58:48.177Z"
   },
   {
    "duration": 7,
    "start_time": "2022-04-08T14:50:15.963Z"
   },
   {
    "duration": 181,
    "start_time": "2022-04-08T19:06:13.485Z"
   },
   {
    "duration": 298,
    "start_time": "2022-04-08T19:36:23.870Z"
   },
   {
    "duration": 46,
    "start_time": "2022-04-12T17:26:43.337Z"
   },
   {
    "duration": 852,
    "start_time": "2022-04-12T17:26:48.358Z"
   },
   {
    "duration": 717,
    "start_time": "2022-04-12T17:26:53.623Z"
   },
   {
    "duration": 7,
    "start_time": "2022-04-12T17:36:08.337Z"
   },
   {
    "duration": 7,
    "start_time": "2022-04-12T17:38:22.479Z"
   },
   {
    "duration": 54,
    "start_time": "2022-04-12T17:38:45.014Z"
   },
   {
    "duration": 45,
    "start_time": "2022-04-12T17:39:10.634Z"
   },
   {
    "duration": 20,
    "start_time": "2022-04-12T17:39:37.793Z"
   },
   {
    "duration": 33,
    "start_time": "2022-04-12T17:39:40.371Z"
   },
   {
    "duration": 6,
    "start_time": "2022-04-12T17:39:58.586Z"
   },
   {
    "duration": 58,
    "start_time": "2022-04-12T17:40:22.496Z"
   },
   {
    "duration": 11,
    "start_time": "2022-04-12T17:40:27.711Z"
   },
   {
    "duration": 6,
    "start_time": "2022-04-12T17:40:32.025Z"
   },
   {
    "duration": 6,
    "start_time": "2022-04-12T17:40:47.830Z"
   },
   {
    "duration": 12,
    "start_time": "2022-04-12T17:45:27.778Z"
   },
   {
    "duration": 6,
    "start_time": "2022-04-12T17:45:38.150Z"
   },
   {
    "duration": 10,
    "start_time": "2022-04-12T17:52:10.226Z"
   },
   {
    "duration": 18,
    "start_time": "2022-04-12T17:52:14.298Z"
   },
   {
    "duration": 140,
    "start_time": "2022-04-12T17:53:05.347Z"
   },
   {
    "duration": 55,
    "start_time": "2022-04-12T17:53:09.541Z"
   },
   {
    "duration": 6,
    "start_time": "2022-04-12T17:54:19.097Z"
   },
   {
    "duration": 7,
    "start_time": "2022-04-12T17:54:54.764Z"
   },
   {
    "duration": 120,
    "start_time": "2022-04-12T17:55:12.825Z"
   },
   {
    "duration": 94,
    "start_time": "2022-04-12T18:01:05.776Z"
   },
   {
    "duration": 133,
    "start_time": "2022-04-12T18:02:16.726Z"
   },
   {
    "duration": 62,
    "start_time": "2022-04-12T18:02:18.193Z"
   },
   {
    "duration": 67,
    "start_time": "2022-04-12T18:05:21.495Z"
   },
   {
    "duration": 80,
    "start_time": "2022-04-12T18:06:46.263Z"
   },
   {
    "duration": 33,
    "start_time": "2022-04-12T18:06:51.238Z"
   },
   {
    "duration": 62,
    "start_time": "2022-04-12T18:07:06.727Z"
   },
   {
    "duration": 50,
    "start_time": "2022-04-12T18:07:16.594Z"
   },
   {
    "duration": 6,
    "start_time": "2022-04-12T18:09:19.436Z"
   },
   {
    "duration": 6,
    "start_time": "2022-04-12T18:09:25.272Z"
   },
   {
    "duration": 3,
    "start_time": "2022-04-12T18:15:51.282Z"
   },
   {
    "duration": 33,
    "start_time": "2022-04-12T18:16:06.812Z"
   },
   {
    "duration": 3,
    "start_time": "2022-04-12T18:18:50.390Z"
   },
   {
    "duration": 47,
    "start_time": "2022-04-12T18:20:58.887Z"
   },
   {
    "duration": 22,
    "start_time": "2022-04-12T18:21:25.111Z"
   },
   {
    "duration": 317,
    "start_time": "2022-04-12T18:21:44.072Z"
   },
   {
    "duration": 244,
    "start_time": "2022-04-12T18:23:15.368Z"
   },
   {
    "duration": 174,
    "start_time": "2022-04-12T18:23:43.006Z"
   },
   {
    "duration": 2,
    "start_time": "2022-04-12T18:34:26.645Z"
   },
   {
    "duration": 12,
    "start_time": "2022-04-12T18:34:57.031Z"
   },
   {
    "duration": 13,
    "start_time": "2022-04-12T18:35:59.767Z"
   },
   {
    "duration": 8,
    "start_time": "2022-04-12T18:36:49.747Z"
   },
   {
    "duration": 10,
    "start_time": "2022-04-12T18:37:01.719Z"
   },
   {
    "duration": 16,
    "start_time": "2022-04-12T18:37:15.198Z"
   },
   {
    "duration": 2,
    "start_time": "2022-04-12T18:37:38.159Z"
   },
   {
    "duration": 9,
    "start_time": "2022-04-12T18:37:38.163Z"
   },
   {
    "duration": 51,
    "start_time": "2022-04-12T18:37:38.174Z"
   },
   {
    "duration": 21,
    "start_time": "2022-04-12T18:37:38.227Z"
   },
   {
    "duration": 297,
    "start_time": "2022-04-12T18:37:38.250Z"
   },
   {
    "duration": 230,
    "start_time": "2022-04-12T18:37:38.549Z"
   },
   {
    "duration": 157,
    "start_time": "2022-04-12T18:37:38.805Z"
   },
   {
    "duration": 3,
    "start_time": "2022-04-12T18:37:38.973Z"
   },
   {
    "duration": 16,
    "start_time": "2022-04-12T18:37:38.977Z"
   },
   {
    "duration": 44,
    "start_time": "2022-04-12T18:37:38.995Z"
   },
   {
    "duration": 57,
    "start_time": "2022-04-12T18:37:39.041Z"
   },
   {
    "duration": 31,
    "start_time": "2022-04-12T18:37:39.100Z"
   },
   {
    "duration": 18,
    "start_time": "2022-04-12T18:37:43.142Z"
   },
   {
    "duration": 12,
    "start_time": "2022-04-12T18:37:45.579Z"
   },
   {
    "duration": 10,
    "start_time": "2022-04-12T18:38:53.463Z"
   },
   {
    "duration": 77,
    "start_time": "2022-04-12T18:39:40.723Z"
   },
   {
    "duration": 27,
    "start_time": "2022-04-12T18:41:06.280Z"
   },
   {
    "duration": 25,
    "start_time": "2022-04-12T18:41:15.475Z"
   },
   {
    "duration": 9,
    "start_time": "2022-04-12T18:41:35.801Z"
   },
   {
    "duration": 20,
    "start_time": "2022-04-12T18:41:40.138Z"
   },
   {
    "duration": 26,
    "start_time": "2022-04-12T18:41:56.043Z"
   },
   {
    "duration": 25,
    "start_time": "2022-04-12T18:42:56.408Z"
   },
   {
    "duration": 31,
    "start_time": "2022-04-12T18:43:05.089Z"
   },
   {
    "duration": 25,
    "start_time": "2022-04-12T18:44:08.040Z"
   },
   {
    "duration": 37,
    "start_time": "2022-04-12T18:44:19.917Z"
   },
   {
    "duration": 39,
    "start_time": "2022-04-12T18:44:21.024Z"
   },
   {
    "duration": 26,
    "start_time": "2022-04-12T18:44:21.477Z"
   },
   {
    "duration": 26,
    "start_time": "2022-04-12T18:44:54.876Z"
   },
   {
    "duration": 36,
    "start_time": "2022-04-12T18:45:06.185Z"
   },
   {
    "duration": 45,
    "start_time": "2022-04-12T18:45:12.317Z"
   },
   {
    "duration": 27,
    "start_time": "2022-04-12T18:45:23.128Z"
   },
   {
    "duration": 22,
    "start_time": "2022-04-12T18:45:30.221Z"
   },
   {
    "duration": 19,
    "start_time": "2022-04-12T18:45:37.536Z"
   },
   {
    "duration": 56,
    "start_time": "2022-04-12T18:53:05.586Z"
   },
   {
    "duration": 46,
    "start_time": "2022-04-12T18:53:45.233Z"
   },
   {
    "duration": 90,
    "start_time": "2022-04-12T19:01:09.270Z"
   },
   {
    "duration": 75,
    "start_time": "2022-04-12T19:01:30.341Z"
   },
   {
    "duration": 47,
    "start_time": "2022-04-12T19:02:06.289Z"
   },
   {
    "duration": 844,
    "start_time": "2022-04-12T19:44:56.352Z"
   },
   {
    "duration": 3,
    "start_time": "2022-04-12T19:44:57.198Z"
   },
   {
    "duration": 60,
    "start_time": "2022-04-12T19:44:57.202Z"
   },
   {
    "duration": 20,
    "start_time": "2022-04-12T19:44:57.264Z"
   },
   {
    "duration": 245,
    "start_time": "2022-04-12T19:44:57.587Z"
   },
   {
    "duration": 172,
    "start_time": "2022-04-12T19:44:57.833Z"
   },
   {
    "duration": 3,
    "start_time": "2022-04-12T19:44:58.007Z"
   },
   {
    "duration": 15,
    "start_time": "2022-04-12T19:44:58.012Z"
   },
   {
    "duration": 60,
    "start_time": "2022-04-12T19:44:58.029Z"
   },
   {
    "duration": 35,
    "start_time": "2022-04-12T19:44:58.091Z"
   },
   {
    "duration": 46,
    "start_time": "2022-04-12T19:44:58.128Z"
   },
   {
    "duration": 9,
    "start_time": "2022-04-12T19:44:58.176Z"
   },
   {
    "duration": 29,
    "start_time": "2022-04-12T19:44:58.187Z"
   },
   {
    "duration": 21,
    "start_time": "2022-04-12T19:44:58.217Z"
   },
   {
    "duration": 44,
    "start_time": "2022-04-12T19:44:58.239Z"
   },
   {
    "duration": 52,
    "start_time": "2022-04-12T19:44:58.285Z"
   },
   {
    "duration": 58,
    "start_time": "2022-04-12T19:44:58.338Z"
   },
   {
    "duration": 44,
    "start_time": "2022-04-12T19:44:58.398Z"
   },
   {
    "duration": 55,
    "start_time": "2022-04-12T19:44:58.443Z"
   },
   {
    "duration": 40,
    "start_time": "2022-04-12T19:44:58.500Z"
   },
   {
    "duration": 54,
    "start_time": "2022-04-12T19:44:58.541Z"
   },
   {
    "duration": 38,
    "start_time": "2022-04-12T19:44:58.596Z"
   },
   {
    "duration": 46,
    "start_time": "2022-04-12T19:44:58.635Z"
   },
   {
    "duration": 52,
    "start_time": "2022-04-12T19:44:58.682Z"
   },
   {
    "duration": 38,
    "start_time": "2022-04-12T19:44:58.735Z"
   },
   {
    "duration": 530,
    "start_time": "2022-04-12T19:44:58.775Z"
   },
   {
    "duration": 4,
    "start_time": "2022-04-12T19:44:59.309Z"
   },
   {
    "duration": 13,
    "start_time": "2022-04-12T19:44:59.314Z"
   },
   {
    "duration": 20,
    "start_time": "2022-04-12T19:44:59.328Z"
   },
   {
    "duration": 22,
    "start_time": "2022-04-12T19:44:59.350Z"
   },
   {
    "duration": 122,
    "start_time": "2022-04-12T19:44:59.373Z"
   },
   {
    "duration": 131,
    "start_time": "2022-04-12T19:44:59.497Z"
   },
   {
    "duration": 172,
    "start_time": "2022-04-12T19:44:59.630Z"
   },
   {
    "duration": 125,
    "start_time": "2022-04-12T19:44:59.804Z"
   },
   {
    "duration": 153,
    "start_time": "2022-04-12T19:44:59.931Z"
   },
   {
    "duration": 157,
    "start_time": "2022-04-12T19:45:00.086Z"
   },
   {
    "duration": 129,
    "start_time": "2022-04-12T19:45:00.245Z"
   },
   {
    "duration": 133,
    "start_time": "2022-04-12T19:45:00.376Z"
   },
   {
    "duration": 186,
    "start_time": "2022-04-12T19:45:00.510Z"
   },
   {
    "duration": 83,
    "start_time": "2022-04-12T19:45:00.698Z"
   },
   {
    "duration": 8,
    "start_time": "2022-04-12T19:45:00.783Z"
   },
   {
    "duration": 24,
    "start_time": "2022-04-12T19:45:00.793Z"
   },
   {
    "duration": 51,
    "start_time": "2022-04-12T19:45:45.823Z"
   },
   {
    "duration": 55,
    "start_time": "2022-04-12T19:47:00.191Z"
   },
   {
    "duration": 47,
    "start_time": "2022-04-12T19:47:26.948Z"
   },
   {
    "duration": 50,
    "start_time": "2022-04-12T19:47:32.788Z"
   },
   {
    "duration": 40,
    "start_time": "2022-04-12T19:47:44.839Z"
   },
   {
    "duration": 43,
    "start_time": "2022-04-12T19:48:16.593Z"
   },
   {
    "duration": 42,
    "start_time": "2022-04-12T19:48:38.860Z"
   },
   {
    "duration": 56,
    "start_time": "2022-04-12T19:52:42.698Z"
   },
   {
    "duration": 50,
    "start_time": "2022-04-12T19:53:34.677Z"
   },
   {
    "duration": 48,
    "start_time": "2022-04-12T19:53:42.070Z"
   },
   {
    "duration": 37,
    "start_time": "2022-04-12T19:53:46.408Z"
   },
   {
    "duration": 26,
    "start_time": "2022-04-12T19:53:52.741Z"
   },
   {
    "duration": 25,
    "start_time": "2022-04-12T20:03:01.976Z"
   },
   {
    "duration": 14,
    "start_time": "2022-04-12T20:03:20.139Z"
   },
   {
    "duration": 13,
    "start_time": "2022-04-12T20:03:30.181Z"
   },
   {
    "duration": 23,
    "start_time": "2022-04-12T20:04:01.953Z"
   },
   {
    "duration": 23,
    "start_time": "2022-04-12T20:04:50.134Z"
   },
   {
    "duration": 75,
    "start_time": "2022-04-12T20:08:19.639Z"
   },
   {
    "duration": 33,
    "start_time": "2022-04-12T20:09:41.457Z"
   },
   {
    "duration": 28,
    "start_time": "2022-04-12T20:09:57.370Z"
   },
   {
    "duration": 23,
    "start_time": "2022-04-12T20:10:23.439Z"
   },
   {
    "duration": 78,
    "start_time": "2022-04-12T20:11:33.060Z"
   },
   {
    "duration": 29,
    "start_time": "2022-04-12T20:13:16.128Z"
   },
   {
    "duration": 90,
    "start_time": "2022-04-12T20:13:27.715Z"
   },
   {
    "duration": 1055,
    "start_time": "2022-04-16T10:07:32.022Z"
   },
   {
    "duration": 5,
    "start_time": "2022-04-16T10:07:33.080Z"
   },
   {
    "duration": 83,
    "start_time": "2022-04-16T10:07:33.086Z"
   },
   {
    "duration": 30,
    "start_time": "2022-04-16T10:07:33.172Z"
   },
   {
    "duration": 413,
    "start_time": "2022-04-16T10:07:33.204Z"
   },
   {
    "duration": 343,
    "start_time": "2022-04-16T10:07:33.619Z"
   },
   {
    "duration": 229,
    "start_time": "2022-04-16T10:07:33.965Z"
   },
   {
    "duration": 4,
    "start_time": "2022-04-16T10:07:34.196Z"
   },
   {
    "duration": 25,
    "start_time": "2022-04-16T10:07:34.202Z"
   },
   {
    "duration": 77,
    "start_time": "2022-04-16T10:07:34.230Z"
   },
   {
    "duration": 69,
    "start_time": "2022-04-16T10:07:34.309Z"
   },
   {
    "duration": 45,
    "start_time": "2022-04-16T10:07:34.380Z"
   },
   {
    "duration": 34,
    "start_time": "2022-04-16T10:07:34.427Z"
   },
   {
    "duration": 39,
    "start_time": "2022-04-16T10:07:34.463Z"
   },
   {
    "duration": 56,
    "start_time": "2022-04-16T10:07:34.504Z"
   },
   {
    "duration": 28,
    "start_time": "2022-04-16T10:07:34.562Z"
   },
   {
    "duration": 83,
    "start_time": "2022-04-16T10:07:34.592Z"
   },
   {
    "duration": 46,
    "start_time": "2022-04-16T10:07:34.677Z"
   },
   {
    "duration": 57,
    "start_time": "2022-04-16T10:07:34.725Z"
   },
   {
    "duration": 41,
    "start_time": "2022-04-16T10:07:34.784Z"
   },
   {
    "duration": 123,
    "start_time": "2022-04-16T10:07:34.827Z"
   },
   {
    "duration": 0,
    "start_time": "2022-04-16T10:07:34.953Z"
   },
   {
    "duration": 0,
    "start_time": "2022-04-16T10:07:34.955Z"
   },
   {
    "duration": 0,
    "start_time": "2022-04-16T10:07:34.957Z"
   },
   {
    "duration": 0,
    "start_time": "2022-04-16T10:07:34.958Z"
   },
   {
    "duration": 0,
    "start_time": "2022-04-16T10:07:34.960Z"
   },
   {
    "duration": 0,
    "start_time": "2022-04-16T10:07:34.961Z"
   },
   {
    "duration": 0,
    "start_time": "2022-04-16T10:07:34.962Z"
   },
   {
    "duration": 0,
    "start_time": "2022-04-16T10:07:34.964Z"
   },
   {
    "duration": 0,
    "start_time": "2022-04-16T10:07:34.965Z"
   },
   {
    "duration": 0,
    "start_time": "2022-04-16T10:07:34.967Z"
   },
   {
    "duration": 0,
    "start_time": "2022-04-16T10:07:34.969Z"
   },
   {
    "duration": 0,
    "start_time": "2022-04-16T10:07:34.970Z"
   },
   {
    "duration": 0,
    "start_time": "2022-04-16T10:07:34.972Z"
   },
   {
    "duration": 0,
    "start_time": "2022-04-16T10:07:34.974Z"
   },
   {
    "duration": 0,
    "start_time": "2022-04-16T10:07:34.975Z"
   },
   {
    "duration": 0,
    "start_time": "2022-04-16T10:07:34.977Z"
   },
   {
    "duration": 0,
    "start_time": "2022-04-16T10:07:34.979Z"
   },
   {
    "duration": 0,
    "start_time": "2022-04-16T10:07:34.981Z"
   },
   {
    "duration": 0,
    "start_time": "2022-04-16T10:07:34.982Z"
   },
   {
    "duration": 0,
    "start_time": "2022-04-16T10:07:34.984Z"
   },
   {
    "duration": 0,
    "start_time": "2022-04-16T10:07:34.985Z"
   },
   {
    "duration": 0,
    "start_time": "2022-04-16T10:07:34.986Z"
   },
   {
    "duration": 899,
    "start_time": "2022-04-17T13:40:11.528Z"
   },
   {
    "duration": 4,
    "start_time": "2022-04-17T13:40:12.429Z"
   },
   {
    "duration": 71,
    "start_time": "2022-04-17T13:40:12.434Z"
   },
   {
    "duration": 21,
    "start_time": "2022-04-17T13:40:12.507Z"
   },
   {
    "duration": 296,
    "start_time": "2022-04-17T13:40:12.530Z"
   },
   {
    "duration": 250,
    "start_time": "2022-04-17T13:40:12.829Z"
   },
   {
    "duration": 207,
    "start_time": "2022-04-17T13:40:13.081Z"
   },
   {
    "duration": 3,
    "start_time": "2022-04-17T13:40:13.291Z"
   },
   {
    "duration": 31,
    "start_time": "2022-04-17T13:40:13.295Z"
   },
   {
    "duration": 64,
    "start_time": "2022-04-17T13:40:13.328Z"
   },
   {
    "duration": 41,
    "start_time": "2022-04-17T13:40:13.394Z"
   },
   {
    "duration": 29,
    "start_time": "2022-04-17T13:40:13.437Z"
   },
   {
    "duration": 9,
    "start_time": "2022-04-17T13:40:13.467Z"
   },
   {
    "duration": 48,
    "start_time": "2022-04-17T13:40:13.478Z"
   },
   {
    "duration": 22,
    "start_time": "2022-04-17T13:40:13.528Z"
   },
   {
    "duration": 19,
    "start_time": "2022-04-17T13:40:13.552Z"
   },
   {
    "duration": 62,
    "start_time": "2022-04-17T13:40:13.572Z"
   },
   {
    "duration": 31,
    "start_time": "2022-04-17T13:40:13.635Z"
   },
   {
    "duration": 26,
    "start_time": "2022-04-17T13:40:13.668Z"
   },
   {
    "duration": 52,
    "start_time": "2022-04-17T13:40:13.695Z"
   },
   {
    "duration": 44,
    "start_time": "2022-04-17T13:40:13.749Z"
   },
   {
    "duration": 31,
    "start_time": "2022-04-17T13:40:40.110Z"
   },
   {
    "duration": 27,
    "start_time": "2022-04-17T13:41:50.033Z"
   },
   {
    "duration": 24,
    "start_time": "2022-04-17T13:41:54.460Z"
   },
   {
    "duration": 32,
    "start_time": "2022-04-17T13:42:00.014Z"
   },
   {
    "duration": 31,
    "start_time": "2022-04-17T13:42:04.714Z"
   },
   {
    "duration": 24,
    "start_time": "2022-04-17T13:42:08.176Z"
   },
   {
    "duration": 26,
    "start_time": "2022-04-17T13:42:12.438Z"
   },
   {
    "duration": 31,
    "start_time": "2022-04-17T13:42:48.792Z"
   },
   {
    "duration": 88,
    "start_time": "2022-04-17T13:44:03.235Z"
   },
   {
    "duration": 28,
    "start_time": "2022-04-17T13:44:07.244Z"
   },
   {
    "duration": 5,
    "start_time": "2022-04-17T13:44:45.936Z"
   },
   {
    "duration": 30,
    "start_time": "2022-04-17T13:44:50.792Z"
   },
   {
    "duration": 99,
    "start_time": "2022-04-17T13:47:56.235Z"
   },
   {
    "duration": 106,
    "start_time": "2022-04-17T13:48:02.485Z"
   },
   {
    "duration": 118,
    "start_time": "2022-04-17T14:10:50.689Z"
   },
   {
    "duration": 4,
    "start_time": "2022-04-17T14:11:08.805Z"
   },
   {
    "duration": 3,
    "start_time": "2022-04-17T14:13:54.054Z"
   },
   {
    "duration": 7,
    "start_time": "2022-04-17T14:23:00.104Z"
   },
   {
    "duration": 14,
    "start_time": "2022-04-17T14:23:08.395Z"
   },
   {
    "duration": 3,
    "start_time": "2022-04-17T14:30:09.295Z"
   },
   {
    "duration": 10,
    "start_time": "2022-04-17T14:30:09.571Z"
   },
   {
    "duration": 4,
    "start_time": "2022-04-17T14:31:06.336Z"
   },
   {
    "duration": 11,
    "start_time": "2022-04-17T14:31:06.597Z"
   },
   {
    "duration": 11,
    "start_time": "2022-04-17T14:31:37.776Z"
   },
   {
    "duration": 2,
    "start_time": "2022-04-17T14:43:43.307Z"
   },
   {
    "duration": 10,
    "start_time": "2022-04-17T14:43:45.137Z"
   },
   {
    "duration": 3,
    "start_time": "2022-04-17T14:44:01.837Z"
   },
   {
    "duration": 14,
    "start_time": "2022-04-17T14:44:02.043Z"
   },
   {
    "duration": 3,
    "start_time": "2022-04-17T14:44:44.248Z"
   },
   {
    "duration": 12,
    "start_time": "2022-04-17T14:44:45.498Z"
   },
   {
    "duration": 12,
    "start_time": "2022-04-17T14:45:55.537Z"
   },
   {
    "duration": 17,
    "start_time": "2022-04-17T14:49:22.769Z"
   },
   {
    "duration": 3,
    "start_time": "2022-04-17T14:49:27.385Z"
   },
   {
    "duration": 13,
    "start_time": "2022-04-17T14:49:27.599Z"
   },
   {
    "duration": 110,
    "start_time": "2022-04-17T15:02:18.293Z"
   },
   {
    "duration": 134,
    "start_time": "2022-04-17T15:03:03.348Z"
   },
   {
    "duration": 129,
    "start_time": "2022-04-17T15:03:55.651Z"
   },
   {
    "duration": 3,
    "start_time": "2022-04-17T15:04:07.644Z"
   },
   {
    "duration": 13,
    "start_time": "2022-04-17T15:04:45.415Z"
   },
   {
    "duration": 3,
    "start_time": "2022-04-17T15:07:12.313Z"
   },
   {
    "duration": 14,
    "start_time": "2022-04-17T15:07:12.674Z"
   },
   {
    "duration": 107,
    "start_time": "2022-04-17T15:25:18.995Z"
   },
   {
    "duration": 4,
    "start_time": "2022-04-17T15:25:28.294Z"
   },
   {
    "duration": 1475,
    "start_time": "2022-04-17T15:25:38.557Z"
   },
   {
    "duration": 3,
    "start_time": "2022-04-17T15:27:15.939Z"
   },
   {
    "duration": 9,
    "start_time": "2022-04-17T15:27:16.171Z"
   },
   {
    "duration": 4,
    "start_time": "2022-04-17T15:29:10.567Z"
   },
   {
    "duration": 1324,
    "start_time": "2022-04-17T15:29:10.797Z"
   },
   {
    "duration": 7,
    "start_time": "2022-04-17T15:30:22.009Z"
   },
   {
    "duration": 3,
    "start_time": "2022-04-17T15:30:40.797Z"
   },
   {
    "duration": 7,
    "start_time": "2022-04-17T15:30:41.251Z"
   },
   {
    "duration": 1456,
    "start_time": "2022-04-17T15:32:18.389Z"
   },
   {
    "duration": 36,
    "start_time": "2022-04-17T15:43:15.952Z"
   },
   {
    "duration": 19,
    "start_time": "2022-04-17T15:43:57.083Z"
   },
   {
    "duration": 24,
    "start_time": "2022-04-17T15:46:40.485Z"
   },
   {
    "duration": 10,
    "start_time": "2022-04-17T15:47:20.454Z"
   },
   {
    "duration": 3,
    "start_time": "2022-04-17T16:03:21.243Z"
   },
   {
    "duration": 10,
    "start_time": "2022-04-17T16:03:42.811Z"
   },
   {
    "duration": 28,
    "start_time": "2022-04-17T16:03:57.540Z"
   },
   {
    "duration": 10,
    "start_time": "2022-04-17T16:04:00.905Z"
   },
   {
    "duration": 1857,
    "start_time": "2022-04-17T16:08:02.984Z"
   },
   {
    "duration": 3,
    "start_time": "2022-04-17T16:10:42.889Z"
   },
   {
    "duration": 61,
    "start_time": "2022-04-17T16:10:43.146Z"
   },
   {
    "duration": 116,
    "start_time": "2022-04-17T16:10:55.717Z"
   },
   {
    "duration": 26,
    "start_time": "2022-04-17T16:15:56.292Z"
   },
   {
    "duration": 80,
    "start_time": "2022-04-17T16:22:43.406Z"
   },
   {
    "duration": 72,
    "start_time": "2022-04-17T16:23:04.377Z"
   },
   {
    "duration": 69,
    "start_time": "2022-04-17T18:02:28.492Z"
   },
   {
    "duration": 71,
    "start_time": "2022-04-17T18:03:34.475Z"
   },
   {
    "duration": 29,
    "start_time": "2022-04-17T18:41:50.091Z"
   },
   {
    "duration": 27,
    "start_time": "2022-04-17T18:41:59.570Z"
   },
   {
    "duration": 28,
    "start_time": "2022-04-17T18:42:24.877Z"
   },
   {
    "duration": 27,
    "start_time": "2022-04-17T18:43:58.965Z"
   },
   {
    "duration": 3,
    "start_time": "2022-04-17T18:45:32.504Z"
   },
   {
    "duration": 68,
    "start_time": "2022-04-17T18:45:32.756Z"
   },
   {
    "duration": 106,
    "start_time": "2022-04-17T18:46:05.004Z"
   },
   {
    "duration": 32,
    "start_time": "2022-04-17T18:46:29.902Z"
   },
   {
    "duration": 2,
    "start_time": "2022-04-17T18:46:37.770Z"
   },
   {
    "duration": 78,
    "start_time": "2022-04-17T18:46:37.991Z"
   },
   {
    "duration": 75,
    "start_time": "2022-04-17T19:04:21.988Z"
   },
   {
    "duration": 74,
    "start_time": "2022-04-17T19:05:30.115Z"
   },
   {
    "duration": 73,
    "start_time": "2022-04-17T19:05:45.617Z"
   },
   {
    "duration": 78,
    "start_time": "2022-04-17T19:05:51.787Z"
   },
   {
    "duration": 74,
    "start_time": "2022-04-17T19:06:20.137Z"
   },
   {
    "duration": 77,
    "start_time": "2022-04-17T19:07:09.479Z"
   },
   {
    "duration": 110,
    "start_time": "2022-04-17T19:08:16.948Z"
   },
   {
    "duration": 79,
    "start_time": "2022-04-17T19:09:17.513Z"
   },
   {
    "duration": 77,
    "start_time": "2022-04-17T19:09:28.587Z"
   },
   {
    "duration": 76,
    "start_time": "2022-04-17T19:09:52.096Z"
   },
   {
    "duration": 76,
    "start_time": "2022-04-17T19:10:26.555Z"
   },
   {
    "duration": 5,
    "start_time": "2022-04-17T19:18:57.557Z"
   },
   {
    "duration": 18,
    "start_time": "2022-04-17T19:19:12.240Z"
   },
   {
    "duration": 18,
    "start_time": "2022-04-17T19:20:28.813Z"
   },
   {
    "duration": 1068,
    "start_time": "2022-04-18T05:25:02.119Z"
   },
   {
    "duration": 4,
    "start_time": "2022-04-18T05:25:03.190Z"
   },
   {
    "duration": 97,
    "start_time": "2022-04-18T05:25:03.196Z"
   },
   {
    "duration": 29,
    "start_time": "2022-04-18T05:25:03.295Z"
   },
   {
    "duration": 443,
    "start_time": "2022-04-18T05:25:03.327Z"
   },
   {
    "duration": 347,
    "start_time": "2022-04-18T05:25:03.773Z"
   },
   {
    "duration": 236,
    "start_time": "2022-04-18T05:25:04.122Z"
   },
   {
    "duration": 4,
    "start_time": "2022-04-18T05:25:04.360Z"
   },
   {
    "duration": 22,
    "start_time": "2022-04-18T05:25:04.366Z"
   },
   {
    "duration": 93,
    "start_time": "2022-04-18T05:25:04.390Z"
   },
   {
    "duration": 67,
    "start_time": "2022-04-18T05:25:04.485Z"
   },
   {
    "duration": 44,
    "start_time": "2022-04-18T05:25:04.554Z"
   },
   {
    "duration": 13,
    "start_time": "2022-04-18T05:25:04.600Z"
   },
   {
    "duration": 67,
    "start_time": "2022-04-18T05:25:04.617Z"
   },
   {
    "duration": 32,
    "start_time": "2022-04-18T05:25:04.686Z"
   },
   {
    "duration": 48,
    "start_time": "2022-04-18T05:25:04.720Z"
   },
   {
    "duration": 64,
    "start_time": "2022-04-18T05:25:04.770Z"
   },
   {
    "duration": 60,
    "start_time": "2022-04-18T05:25:04.836Z"
   },
   {
    "duration": 60,
    "start_time": "2022-04-18T05:25:04.897Z"
   },
   {
    "duration": 39,
    "start_time": "2022-04-18T05:25:04.959Z"
   },
   {
    "duration": 68,
    "start_time": "2022-04-18T05:25:05.000Z"
   },
   {
    "duration": 4,
    "start_time": "2022-04-18T05:25:05.070Z"
   },
   {
    "duration": 145,
    "start_time": "2022-04-18T05:25:05.076Z"
   },
   {
    "duration": 139,
    "start_time": "2022-04-18T05:25:05.223Z"
   },
   {
    "duration": 135,
    "start_time": "2022-04-18T05:25:05.364Z"
   },
   {
    "duration": 31,
    "start_time": "2022-04-18T05:25:05.501Z"
   },
   {
    "duration": 38,
    "start_time": "2022-04-18T05:25:05.534Z"
   },
   {
    "duration": 25,
    "start_time": "2022-04-18T05:25:38.339Z"
   },
   {
    "duration": 870,
    "start_time": "2022-04-18T05:26:19.997Z"
   },
   {
    "duration": 28,
    "start_time": "2022-04-18T05:39:08.262Z"
   },
   {
    "duration": 7,
    "start_time": "2022-04-18T05:39:51.931Z"
   },
   {
    "duration": 141,
    "start_time": "2022-04-18T05:41:29.597Z"
   },
   {
    "duration": 26,
    "start_time": "2022-04-18T05:42:04.433Z"
   },
   {
    "duration": 205,
    "start_time": "2022-04-18T05:42:05.794Z"
   },
   {
    "duration": 6,
    "start_time": "2022-04-18T05:42:08.141Z"
   },
   {
    "duration": 7,
    "start_time": "2022-04-18T05:42:22.475Z"
   },
   {
    "duration": 7,
    "start_time": "2022-04-18T05:42:32.814Z"
   },
   {
    "duration": 7,
    "start_time": "2022-04-18T05:42:55.751Z"
   },
   {
    "duration": 12,
    "start_time": "2022-04-18T05:43:24.826Z"
   },
   {
    "duration": 7,
    "start_time": "2022-04-18T06:06:03.991Z"
   },
   {
    "duration": 6,
    "start_time": "2022-04-18T06:06:36.781Z"
   },
   {
    "duration": 7,
    "start_time": "2022-04-18T06:07:20.989Z"
   },
   {
    "duration": 7,
    "start_time": "2022-04-18T06:08:09.808Z"
   },
   {
    "duration": 122,
    "start_time": "2022-04-18T06:08:31.958Z"
   },
   {
    "duration": 119,
    "start_time": "2022-04-18T06:09:05.948Z"
   },
   {
    "duration": 137,
    "start_time": "2022-04-18T06:44:54.313Z"
   },
   {
    "duration": 123,
    "start_time": "2022-04-18T06:45:32.412Z"
   },
   {
    "duration": 7,
    "start_time": "2022-04-18T06:46:04.555Z"
   },
   {
    "duration": 49,
    "start_time": "2022-04-18T06:47:03.041Z"
   },
   {
    "duration": 11,
    "start_time": "2022-04-18T06:47:23.983Z"
   },
   {
    "duration": 46,
    "start_time": "2022-04-18T06:47:36.846Z"
   },
   {
    "duration": 45,
    "start_time": "2022-04-18T06:47:55.577Z"
   },
   {
    "duration": 10,
    "start_time": "2022-04-18T06:52:28.075Z"
   },
   {
    "duration": 16,
    "start_time": "2022-04-18T06:52:40.395Z"
   },
   {
    "duration": 11,
    "start_time": "2022-04-18T06:53:38.025Z"
   },
   {
    "duration": 10,
    "start_time": "2022-04-18T06:53:45.027Z"
   },
   {
    "duration": 10,
    "start_time": "2022-04-18T06:54:13.934Z"
   },
   {
    "duration": 10,
    "start_time": "2022-04-18T06:54:19.036Z"
   },
   {
    "duration": 10,
    "start_time": "2022-04-18T06:54:44.644Z"
   },
   {
    "duration": 10,
    "start_time": "2022-04-18T06:58:10.409Z"
   },
   {
    "duration": 12,
    "start_time": "2022-04-18T06:58:10.904Z"
   },
   {
    "duration": 1978,
    "start_time": "2022-04-18T06:59:44.662Z"
   },
   {
    "duration": 208,
    "start_time": "2022-04-18T06:59:55.639Z"
   },
   {
    "duration": 43,
    "start_time": "2022-04-18T07:01:54.955Z"
   },
   {
    "duration": 43,
    "start_time": "2022-04-18T07:01:58.645Z"
   },
   {
    "duration": 1922,
    "start_time": "2022-04-18T07:02:41.942Z"
   },
   {
    "duration": 216,
    "start_time": "2022-04-18T07:02:49.433Z"
   },
   {
    "duration": 2105,
    "start_time": "2022-04-18T07:03:05.396Z"
   },
   {
    "duration": 198,
    "start_time": "2022-04-18T07:03:10.888Z"
   },
   {
    "duration": 10,
    "start_time": "2022-04-18T07:05:05.324Z"
   },
   {
    "duration": 12,
    "start_time": "2022-04-18T07:05:08.372Z"
   },
   {
    "duration": 9,
    "start_time": "2022-04-18T07:13:58.102Z"
   },
   {
    "duration": 12,
    "start_time": "2022-04-18T07:17:42.615Z"
   },
   {
    "duration": 11,
    "start_time": "2022-04-18T07:17:44.570Z"
   },
   {
    "duration": 219,
    "start_time": "2022-04-18T07:18:27.934Z"
   },
   {
    "duration": 18,
    "start_time": "2022-04-18T07:25:42.705Z"
   },
   {
    "duration": 219,
    "start_time": "2022-04-18T07:25:42.971Z"
   },
   {
    "duration": 207,
    "start_time": "2022-04-18T07:26:06.688Z"
   },
   {
    "duration": 12,
    "start_time": "2022-04-18T07:26:46.386Z"
   },
   {
    "duration": 207,
    "start_time": "2022-04-18T07:26:48.302Z"
   },
   {
    "duration": 8,
    "start_time": "2022-04-18T07:27:03.900Z"
   },
   {
    "duration": 310,
    "start_time": "2022-04-18T07:27:30.893Z"
   },
   {
    "duration": 23,
    "start_time": "2022-04-18T07:28:26.840Z"
   },
   {
    "duration": 24,
    "start_time": "2022-04-18T07:29:06.767Z"
   },
   {
    "duration": 23,
    "start_time": "2022-04-18T07:30:05.846Z"
   },
   {
    "duration": 11,
    "start_time": "2022-04-18T07:30:41.130Z"
   },
   {
    "duration": 21,
    "start_time": "2022-04-18T07:30:47.891Z"
   },
   {
    "duration": 22,
    "start_time": "2022-04-18T07:31:26.885Z"
   },
   {
    "duration": 22,
    "start_time": "2022-04-18T07:31:32.193Z"
   },
   {
    "duration": 216,
    "start_time": "2022-04-18T07:31:37.728Z"
   },
   {
    "duration": 23,
    "start_time": "2022-04-18T07:33:00.315Z"
   },
   {
    "duration": 212,
    "start_time": "2022-04-18T07:33:25.566Z"
   },
   {
    "duration": 226,
    "start_time": "2022-04-18T07:34:04.431Z"
   },
   {
    "duration": 116,
    "start_time": "2022-04-18T07:34:26.685Z"
   },
   {
    "duration": 22,
    "start_time": "2022-04-18T07:37:09.570Z"
   },
   {
    "duration": 22,
    "start_time": "2022-04-18T07:37:35.794Z"
   },
   {
    "duration": 205,
    "start_time": "2022-04-18T07:37:58.501Z"
   },
   {
    "duration": 215,
    "start_time": "2022-04-18T07:38:20.539Z"
   },
   {
    "duration": 3,
    "start_time": "2022-04-18T07:38:56.409Z"
   },
   {
    "duration": 209,
    "start_time": "2022-04-18T07:39:38.708Z"
   },
   {
    "duration": 121,
    "start_time": "2022-04-18T07:40:23.236Z"
   },
   {
    "duration": 116,
    "start_time": "2022-04-18T07:40:34.348Z"
   },
   {
    "duration": 4,
    "start_time": "2022-04-18T08:26:20.683Z"
   },
   {
    "duration": 16,
    "start_time": "2022-04-18T08:29:27.187Z"
   },
   {
    "duration": 12,
    "start_time": "2022-04-18T08:29:47.671Z"
   },
   {
    "duration": 4,
    "start_time": "2022-04-18T08:30:25.726Z"
   },
   {
    "duration": 11,
    "start_time": "2022-04-18T08:30:33.703Z"
   },
   {
    "duration": 183,
    "start_time": "2022-04-18T08:30:44.945Z"
   },
   {
    "duration": 170,
    "start_time": "2022-04-18T08:36:38.267Z"
   },
   {
    "duration": 263,
    "start_time": "2022-04-18T08:37:44.061Z"
   },
   {
    "duration": 132,
    "start_time": "2022-04-18T08:38:05.599Z"
   },
   {
    "duration": 1389,
    "start_time": "2022-04-18T08:38:09.177Z"
   },
   {
    "duration": 281,
    "start_time": "2022-04-18T08:40:10.976Z"
   },
   {
    "duration": 367,
    "start_time": "2022-04-18T08:49:03.509Z"
   },
   {
    "duration": 6281,
    "start_time": "2022-04-18T08:49:40.845Z"
   },
   {
    "duration": 261,
    "start_time": "2022-04-18T08:50:00.449Z"
   },
   {
    "duration": 326,
    "start_time": "2022-04-18T08:50:33.393Z"
   },
   {
    "duration": 372,
    "start_time": "2022-04-18T08:52:54.083Z"
   },
   {
    "duration": 677,
    "start_time": "2022-04-18T08:53:17.685Z"
   },
   {
    "duration": 280,
    "start_time": "2022-04-18T08:53:41.416Z"
   },
   {
    "duration": 280,
    "start_time": "2022-04-18T08:54:35.211Z"
   },
   {
    "duration": 245,
    "start_time": "2022-04-18T08:58:35.620Z"
   },
   {
    "duration": 250,
    "start_time": "2022-04-18T08:59:46.061Z"
   },
   {
    "duration": 260,
    "start_time": "2022-04-18T09:00:01.885Z"
   },
   {
    "duration": 253,
    "start_time": "2022-04-18T09:00:37.429Z"
   },
   {
    "duration": 253,
    "start_time": "2022-04-18T09:00:59.746Z"
   },
   {
    "duration": 26,
    "start_time": "2022-04-18T09:13:01.113Z"
   },
   {
    "duration": 26,
    "start_time": "2022-04-18T09:14:54.282Z"
   },
   {
    "duration": 139,
    "start_time": "2022-04-18T09:19:20.086Z"
   },
   {
    "duration": 174,
    "start_time": "2022-04-18T09:24:15.310Z"
   },
   {
    "duration": 10,
    "start_time": "2022-04-18T09:27:43.406Z"
   },
   {
    "duration": 6,
    "start_time": "2022-04-18T09:28:20.006Z"
   },
   {
    "duration": 7,
    "start_time": "2022-04-18T09:28:43.928Z"
   },
   {
    "duration": 25,
    "start_time": "2022-04-18T09:30:49.670Z"
   },
   {
    "duration": 21,
    "start_time": "2022-04-18T09:30:57.510Z"
   },
   {
    "duration": 21,
    "start_time": "2022-04-18T09:31:08.934Z"
   },
   {
    "duration": 23,
    "start_time": "2022-04-18T09:31:13.418Z"
   },
   {
    "duration": 5,
    "start_time": "2022-04-18T09:31:27.701Z"
   },
   {
    "duration": 5,
    "start_time": "2022-04-18T09:31:27.709Z"
   },
   {
    "duration": 69,
    "start_time": "2022-04-18T09:31:27.720Z"
   },
   {
    "duration": 30,
    "start_time": "2022-04-18T09:31:27.792Z"
   },
   {
    "duration": 465,
    "start_time": "2022-04-18T09:31:27.852Z"
   },
   {
    "duration": 363,
    "start_time": "2022-04-18T09:31:28.320Z"
   },
   {
    "duration": 239,
    "start_time": "2022-04-18T09:31:28.685Z"
   },
   {
    "duration": 4,
    "start_time": "2022-04-18T09:31:28.926Z"
   },
   {
    "duration": 38,
    "start_time": "2022-04-18T09:31:28.932Z"
   },
   {
    "duration": 84,
    "start_time": "2022-04-18T09:31:28.972Z"
   },
   {
    "duration": 56,
    "start_time": "2022-04-18T09:31:29.058Z"
   },
   {
    "duration": 65,
    "start_time": "2022-04-18T09:31:29.118Z"
   },
   {
    "duration": 13,
    "start_time": "2022-04-18T09:31:29.185Z"
   },
   {
    "duration": 60,
    "start_time": "2022-04-18T09:31:29.200Z"
   },
   {
    "duration": 32,
    "start_time": "2022-04-18T09:31:29.262Z"
   },
   {
    "duration": 28,
    "start_time": "2022-04-18T09:31:29.297Z"
   },
   {
    "duration": 61,
    "start_time": "2022-04-18T09:31:29.351Z"
   },
   {
    "duration": 64,
    "start_time": "2022-04-18T09:31:29.414Z"
   },
   {
    "duration": 36,
    "start_time": "2022-04-18T09:31:29.480Z"
   },
   {
    "duration": 63,
    "start_time": "2022-04-18T09:31:29.518Z"
   },
   {
    "duration": 68,
    "start_time": "2022-04-18T09:31:29.584Z"
   },
   {
    "duration": 4,
    "start_time": "2022-04-18T09:31:29.654Z"
   },
   {
    "duration": 141,
    "start_time": "2022-04-18T09:31:29.660Z"
   },
   {
    "duration": 137,
    "start_time": "2022-04-18T09:31:29.803Z"
   },
   {
    "duration": 139,
    "start_time": "2022-04-18T09:31:29.943Z"
   },
   {
    "duration": 31,
    "start_time": "2022-04-18T09:31:30.084Z"
   },
   {
    "duration": 45,
    "start_time": "2022-04-18T09:31:30.117Z"
   },
   {
    "duration": 225,
    "start_time": "2022-04-18T09:31:30.164Z"
   },
   {
    "duration": 6,
    "start_time": "2022-04-18T09:31:30.391Z"
   },
   {
    "duration": 32,
    "start_time": "2022-04-18T09:31:30.402Z"
   },
   {
    "duration": 26,
    "start_time": "2022-04-18T09:31:30.436Z"
   },
   {
    "duration": 27,
    "start_time": "2022-04-18T09:31:30.464Z"
   },
   {
    "duration": 28,
    "start_time": "2022-04-18T09:31:30.493Z"
   },
   {
    "duration": 243,
    "start_time": "2022-04-18T09:31:30.523Z"
   },
   {
    "duration": 225,
    "start_time": "2022-04-18T09:31:30.768Z"
   },
   {
    "duration": 368,
    "start_time": "2022-04-18T09:31:30.995Z"
   },
   {
    "duration": 22,
    "start_time": "2022-04-18T09:31:31.365Z"
   },
   {
    "duration": 237,
    "start_time": "2022-04-18T09:31:31.389Z"
   },
   {
    "duration": 235,
    "start_time": "2022-04-18T09:31:31.629Z"
   },
   {
    "duration": 276,
    "start_time": "2022-04-18T09:31:31.867Z"
   },
   {
    "duration": 27,
    "start_time": "2022-04-18T09:31:32.145Z"
   },
   {
    "duration": 234,
    "start_time": "2022-04-18T09:31:32.175Z"
   },
   {
    "duration": 232,
    "start_time": "2022-04-18T09:31:32.411Z"
   },
   {
    "duration": 272,
    "start_time": "2022-04-18T09:31:32.652Z"
   },
   {
    "duration": 38,
    "start_time": "2022-04-18T09:31:32.926Z"
   },
   {
    "duration": 5,
    "start_time": "2022-04-18T09:31:32.968Z"
   },
   {
    "duration": 34,
    "start_time": "2022-04-18T09:31:32.975Z"
   },
   {
    "duration": 12,
    "start_time": "2022-04-18T09:32:00.150Z"
   },
   {
    "duration": 15,
    "start_time": "2022-04-18T09:32:13.726Z"
   },
   {
    "duration": 7,
    "start_time": "2022-04-18T09:32:57.845Z"
   },
   {
    "duration": 6,
    "start_time": "2022-04-18T09:34:09.400Z"
   },
   {
    "duration": 117,
    "start_time": "2022-04-18T09:39:05.788Z"
   },
   {
    "duration": 251,
    "start_time": "2022-04-18T09:41:34.604Z"
   },
   {
    "duration": 253,
    "start_time": "2022-04-18T09:41:57.209Z"
   },
   {
    "duration": 247,
    "start_time": "2022-04-18T09:42:21.274Z"
   },
   {
    "duration": 150,
    "start_time": "2022-04-18T09:43:50.045Z"
   },
   {
    "duration": 167,
    "start_time": "2022-04-18T09:45:13.044Z"
   },
   {
    "duration": 51,
    "start_time": "2022-04-18T09:48:35.071Z"
   },
   {
    "duration": 40,
    "start_time": "2022-04-18T09:49:02.338Z"
   },
   {
    "duration": 36,
    "start_time": "2022-04-18T09:49:28.433Z"
   },
   {
    "duration": 39,
    "start_time": "2022-04-18T09:50:06.659Z"
   },
   {
    "duration": 141,
    "start_time": "2022-04-18T09:52:13.169Z"
   },
   {
    "duration": 136,
    "start_time": "2022-04-18T09:52:55.856Z"
   },
   {
    "duration": 152,
    "start_time": "2022-04-18T09:53:22.836Z"
   },
   {
    "duration": 146,
    "start_time": "2022-04-18T09:53:40.976Z"
   },
   {
    "duration": 160,
    "start_time": "2022-04-18T09:53:49.749Z"
   },
   {
    "duration": 133,
    "start_time": "2022-04-18T09:54:01.071Z"
   },
   {
    "duration": 135,
    "start_time": "2022-04-18T09:54:27.518Z"
   },
   {
    "duration": 139,
    "start_time": "2022-04-18T09:54:43.761Z"
   },
   {
    "duration": 41,
    "start_time": "2022-04-18T09:55:04.511Z"
   },
   {
    "duration": 7,
    "start_time": "2022-04-18T09:55:54.846Z"
   },
   {
    "duration": 116,
    "start_time": "2022-04-18T09:56:12.723Z"
   },
   {
    "duration": 7,
    "start_time": "2022-04-18T09:56:20.622Z"
   },
   {
    "duration": 23,
    "start_time": "2022-04-18T09:59:53.338Z"
   },
   {
    "duration": 1429,
    "start_time": "2022-04-18T10:01:49.262Z"
   },
   {
    "duration": 5,
    "start_time": "2022-04-18T10:01:50.693Z"
   },
   {
    "duration": 177,
    "start_time": "2022-04-18T10:01:50.699Z"
   },
   {
    "duration": 29,
    "start_time": "2022-04-18T10:01:50.879Z"
   },
   {
    "duration": 434,
    "start_time": "2022-04-18T10:01:50.910Z"
   },
   {
    "duration": 351,
    "start_time": "2022-04-18T10:01:51.351Z"
   },
   {
    "duration": 226,
    "start_time": "2022-04-18T10:01:51.704Z"
   },
   {
    "duration": 4,
    "start_time": "2022-04-18T10:01:51.933Z"
   },
   {
    "duration": 24,
    "start_time": "2022-04-18T10:01:51.951Z"
   },
   {
    "duration": 91,
    "start_time": "2022-04-18T10:01:51.981Z"
   },
   {
    "duration": 53,
    "start_time": "2022-04-18T10:01:52.075Z"
   },
   {
    "duration": 61,
    "start_time": "2022-04-18T10:01:52.130Z"
   },
   {
    "duration": 13,
    "start_time": "2022-04-18T10:01:52.193Z"
   },
   {
    "duration": 64,
    "start_time": "2022-04-18T10:01:52.208Z"
   },
   {
    "duration": 33,
    "start_time": "2022-04-18T10:01:52.274Z"
   },
   {
    "duration": 52,
    "start_time": "2022-04-18T10:01:52.309Z"
   },
   {
    "duration": 68,
    "start_time": "2022-04-18T10:01:52.363Z"
   },
   {
    "duration": 66,
    "start_time": "2022-04-18T10:01:52.433Z"
   },
   {
    "duration": 54,
    "start_time": "2022-04-18T10:01:52.501Z"
   },
   {
    "duration": 38,
    "start_time": "2022-04-18T10:01:52.557Z"
   },
   {
    "duration": 68,
    "start_time": "2022-04-18T10:01:52.597Z"
   },
   {
    "duration": 4,
    "start_time": "2022-04-18T10:01:52.667Z"
   },
   {
    "duration": 151,
    "start_time": "2022-04-18T10:01:52.673Z"
   },
   {
    "duration": 141,
    "start_time": "2022-04-18T10:01:52.826Z"
   },
   {
    "duration": 146,
    "start_time": "2022-04-18T10:01:52.969Z"
   },
   {
    "duration": 39,
    "start_time": "2022-04-18T10:01:53.117Z"
   },
   {
    "duration": 37,
    "start_time": "2022-04-18T10:01:53.158Z"
   },
   {
    "duration": 231,
    "start_time": "2022-04-18T10:01:53.200Z"
   },
   {
    "duration": 6,
    "start_time": "2022-04-18T10:01:53.433Z"
   },
   {
    "duration": 16,
    "start_time": "2022-04-18T10:01:53.440Z"
   },
   {
    "duration": 18,
    "start_time": "2022-04-18T10:01:53.458Z"
   },
   {
    "duration": 17,
    "start_time": "2022-04-18T10:01:53.477Z"
   },
   {
    "duration": 12,
    "start_time": "2022-04-18T10:01:53.496Z"
   },
   {
    "duration": 219,
    "start_time": "2022-04-18T10:01:53.510Z"
   },
   {
    "duration": 220,
    "start_time": "2022-04-18T10:01:53.732Z"
   },
   {
    "duration": 369,
    "start_time": "2022-04-18T10:01:53.954Z"
   },
   {
    "duration": 41,
    "start_time": "2022-04-18T10:01:54.326Z"
   },
   {
    "duration": 364,
    "start_time": "2022-04-18T10:01:54.369Z"
   },
   {
    "duration": 236,
    "start_time": "2022-04-18T10:01:54.735Z"
   },
   {
    "duration": 264,
    "start_time": "2022-04-18T10:01:54.973Z"
   },
   {
    "duration": 32,
    "start_time": "2022-04-18T10:01:55.239Z"
   },
   {
    "duration": 291,
    "start_time": "2022-04-18T10:01:55.273Z"
   },
   {
    "duration": 233,
    "start_time": "2022-04-18T10:01:55.566Z"
   },
   {
    "duration": 345,
    "start_time": "2022-04-18T10:01:55.802Z"
   },
   {
    "duration": 26,
    "start_time": "2022-04-18T10:01:56.151Z"
   },
   {
    "duration": 6,
    "start_time": "2022-04-18T10:01:56.179Z"
   },
   {
    "duration": 23,
    "start_time": "2022-04-18T10:01:56.187Z"
   },
   {
    "duration": 41,
    "start_time": "2022-04-18T10:01:56.212Z"
   },
   {
    "duration": 12,
    "start_time": "2022-04-18T10:01:56.255Z"
   },
   {
    "duration": 1474,
    "start_time": "2022-04-18T10:04:48.931Z"
   },
   {
    "duration": 5,
    "start_time": "2022-04-18T10:04:50.408Z"
   },
   {
    "duration": 75,
    "start_time": "2022-04-18T10:04:50.415Z"
   },
   {
    "duration": 30,
    "start_time": "2022-04-18T10:04:50.493Z"
   },
   {
    "duration": 445,
    "start_time": "2022-04-18T10:04:50.525Z"
   },
   {
    "duration": 348,
    "start_time": "2022-04-18T10:04:50.972Z"
   },
   {
    "duration": 242,
    "start_time": "2022-04-18T10:04:51.322Z"
   },
   {
    "duration": 4,
    "start_time": "2022-04-18T10:04:51.566Z"
   },
   {
    "duration": 26,
    "start_time": "2022-04-18T10:04:51.572Z"
   },
   {
    "duration": 94,
    "start_time": "2022-04-18T10:04:51.602Z"
   },
   {
    "duration": 61,
    "start_time": "2022-04-18T10:04:51.698Z"
   },
   {
    "duration": 45,
    "start_time": "2022-04-18T10:04:51.761Z"
   },
   {
    "duration": 14,
    "start_time": "2022-04-18T10:04:51.808Z"
   },
   {
    "duration": 39,
    "start_time": "2022-04-18T10:04:51.853Z"
   },
   {
    "duration": 33,
    "start_time": "2022-04-18T10:04:51.894Z"
   },
   {
    "duration": 47,
    "start_time": "2022-04-18T10:04:51.929Z"
   },
   {
    "duration": 82,
    "start_time": "2022-04-18T10:04:51.978Z"
   },
   {
    "duration": 50,
    "start_time": "2022-04-18T10:04:52.062Z"
   },
   {
    "duration": 67,
    "start_time": "2022-04-18T10:04:52.114Z"
   },
   {
    "duration": 42,
    "start_time": "2022-04-18T10:04:52.183Z"
   },
   {
    "duration": 66,
    "start_time": "2022-04-18T10:04:52.227Z"
   },
   {
    "duration": 4,
    "start_time": "2022-04-18T10:04:52.295Z"
   },
   {
    "duration": 148,
    "start_time": "2022-04-18T10:04:52.301Z"
   },
   {
    "duration": 136,
    "start_time": "2022-04-18T10:04:52.451Z"
   },
   {
    "duration": 144,
    "start_time": "2022-04-18T10:04:52.590Z"
   },
   {
    "duration": 40,
    "start_time": "2022-04-18T10:04:52.736Z"
   },
   {
    "duration": 24,
    "start_time": "2022-04-18T10:04:52.778Z"
   },
   {
    "duration": 257,
    "start_time": "2022-04-18T10:04:52.809Z"
   },
   {
    "duration": 8,
    "start_time": "2022-04-18T10:04:53.069Z"
   },
   {
    "duration": 15,
    "start_time": "2022-04-18T10:04:53.079Z"
   },
   {
    "duration": 25,
    "start_time": "2022-04-18T10:04:53.096Z"
   },
   {
    "duration": 17,
    "start_time": "2022-04-18T10:04:53.124Z"
   },
   {
    "duration": 23,
    "start_time": "2022-04-18T10:04:53.144Z"
   },
   {
    "duration": 214,
    "start_time": "2022-04-18T10:04:53.169Z"
   },
   {
    "duration": 224,
    "start_time": "2022-04-18T10:04:53.384Z"
   },
   {
    "duration": 261,
    "start_time": "2022-04-18T10:04:53.610Z"
   },
   {
    "duration": 23,
    "start_time": "2022-04-18T10:04:53.873Z"
   },
   {
    "duration": 459,
    "start_time": "2022-04-18T10:04:53.898Z"
   },
   {
    "duration": 248,
    "start_time": "2022-04-18T10:04:54.360Z"
   },
   {
    "duration": 260,
    "start_time": "2022-04-18T10:04:54.610Z"
   },
   {
    "duration": 22,
    "start_time": "2022-04-18T10:04:54.873Z"
   },
   {
    "duration": 231,
    "start_time": "2022-04-18T10:04:54.897Z"
   },
   {
    "duration": 260,
    "start_time": "2022-04-18T10:04:55.131Z"
   },
   {
    "duration": 580,
    "start_time": "2022-04-18T10:04:55.394Z"
   },
   {
    "duration": 26,
    "start_time": "2022-04-18T10:04:55.976Z"
   },
   {
    "duration": 48,
    "start_time": "2022-04-18T10:04:56.004Z"
   },
   {
    "duration": 23,
    "start_time": "2022-04-18T10:04:56.054Z"
   },
   {
    "duration": 16,
    "start_time": "2022-04-18T10:04:56.079Z"
   },
   {
    "duration": 20,
    "start_time": "2022-04-18T10:04:56.097Z"
   },
   {
    "duration": 139,
    "start_time": "2022-04-18T13:05:51.121Z"
   },
   {
    "duration": 50,
    "start_time": "2022-04-18T19:41:15.915Z"
   },
   {
    "duration": 1208,
    "start_time": "2022-04-18T19:41:25.393Z"
   },
   {
    "duration": 4,
    "start_time": "2022-04-18T19:41:26.603Z"
   },
   {
    "duration": 93,
    "start_time": "2022-04-18T19:41:26.608Z"
   },
   {
    "duration": 66,
    "start_time": "2022-04-18T19:43:39.407Z"
   },
   {
    "duration": 3,
    "start_time": "2022-04-18T19:46:45.940Z"
   },
   {
    "duration": 26,
    "start_time": "2022-04-18T19:46:47.989Z"
   },
   {
    "duration": 3,
    "start_time": "2022-04-18T19:46:55.891Z"
   },
   {
    "duration": 91,
    "start_time": "2022-04-18T19:47:20.952Z"
   },
   {
    "duration": 4,
    "start_time": "2022-04-18T19:47:42.103Z"
   },
   {
    "duration": 42,
    "start_time": "2022-04-18T19:47:45.958Z"
   },
   {
    "duration": 133,
    "start_time": "2022-04-18T19:48:56.883Z"
   },
   {
    "duration": 41,
    "start_time": "2022-04-18T19:52:16.081Z"
   },
   {
    "duration": 16,
    "start_time": "2022-04-18T19:52:26.933Z"
   },
   {
    "duration": 9,
    "start_time": "2022-04-18T19:52:48.339Z"
   },
   {
    "duration": 204,
    "start_time": "2022-04-18T19:52:55.354Z"
   },
   {
    "duration": 210,
    "start_time": "2022-04-18T19:53:01.472Z"
   },
   {
    "duration": 159,
    "start_time": "2022-04-18T19:53:50.128Z"
   },
   {
    "duration": 4,
    "start_time": "2022-04-18T19:53:57.065Z"
   },
   {
    "duration": 53,
    "start_time": "2022-04-18T19:53:59.590Z"
   },
   {
    "duration": 215,
    "start_time": "2022-04-18T19:54:21.629Z"
   },
   {
    "duration": 3,
    "start_time": "2022-04-18T19:59:57.437Z"
   },
   {
    "duration": 16,
    "start_time": "2022-04-18T20:02:16.658Z"
   },
   {
    "duration": 16,
    "start_time": "2022-04-18T20:03:25.449Z"
   },
   {
    "duration": 48,
    "start_time": "2022-04-18T20:12:37.546Z"
   },
   {
    "duration": 12,
    "start_time": "2022-04-18T20:13:03.146Z"
   },
   {
    "duration": 13,
    "start_time": "2022-04-18T20:13:53.445Z"
   },
   {
    "duration": 12,
    "start_time": "2022-04-18T20:14:22.900Z"
   },
   {
    "duration": 313,
    "start_time": "2022-04-18T20:19:24.205Z"
   },
   {
    "duration": 43,
    "start_time": "2022-04-18T20:21:54.286Z"
   },
   {
    "duration": 15,
    "start_time": "2022-04-18T20:23:36.286Z"
   },
   {
    "duration": 15,
    "start_time": "2022-04-18T20:24:28.260Z"
   },
   {
    "duration": 178,
    "start_time": "2022-04-18T20:25:35.240Z"
   },
   {
    "duration": 12,
    "start_time": "2022-04-18T20:29:36.575Z"
   },
   {
    "duration": 413,
    "start_time": "2022-04-18T20:35:59.500Z"
   },
   {
    "duration": 105,
    "start_time": "2022-04-18T20:36:04.948Z"
   },
   {
    "duration": 34,
    "start_time": "2022-04-18T20:37:50.711Z"
   },
   {
    "duration": 30,
    "start_time": "2022-04-18T20:43:19.627Z"
   },
   {
    "duration": 12,
    "start_time": "2022-04-18T20:43:59.505Z"
   },
   {
    "duration": 2,
    "start_time": "2022-04-18T20:44:14.872Z"
   },
   {
    "duration": 440,
    "start_time": "2022-04-18T20:44:14.878Z"
   },
   {
    "duration": 4,
    "start_time": "2022-04-18T20:44:15.320Z"
   },
   {
    "duration": 46,
    "start_time": "2022-04-18T20:44:15.325Z"
   },
   {
    "duration": 15,
    "start_time": "2022-04-18T20:44:15.373Z"
   },
   {
    "duration": 18,
    "start_time": "2022-04-18T20:44:15.389Z"
   },
   {
    "duration": 206,
    "start_time": "2022-04-18T20:44:15.434Z"
   },
   {
    "duration": 48,
    "start_time": "2022-04-18T20:44:15.642Z"
   },
   {
    "duration": 11,
    "start_time": "2022-04-18T20:44:15.692Z"
   },
   {
    "duration": 170,
    "start_time": "2022-04-18T20:44:15.705Z"
   },
   {
    "duration": 40,
    "start_time": "2022-04-18T20:44:15.877Z"
   },
   {
    "duration": 27,
    "start_time": "2022-04-18T20:44:15.918Z"
   },
   {
    "duration": 17,
    "start_time": "2022-04-18T20:44:15.947Z"
   },
   {
    "duration": 121,
    "start_time": "2022-04-18T20:44:15.965Z"
   },
   {
    "duration": 49,
    "start_time": "2022-04-18T20:44:16.087Z"
   },
   {
    "duration": 3,
    "start_time": "2022-04-18T20:44:16.138Z"
   },
   {
    "duration": 29,
    "start_time": "2022-04-18T20:44:23.333Z"
   },
   {
    "duration": 25,
    "start_time": "2022-04-18T20:44:28.812Z"
   },
   {
    "duration": 22,
    "start_time": "2022-04-18T20:44:34.022Z"
   },
   {
    "duration": 12,
    "start_time": "2022-04-18T20:47:45.843Z"
   },
   {
    "duration": 14,
    "start_time": "2022-04-18T20:48:35.797Z"
   },
   {
    "duration": 31,
    "start_time": "2022-04-18T20:49:42.215Z"
   },
   {
    "duration": 13,
    "start_time": "2022-04-18T20:50:50.642Z"
   },
   {
    "duration": 25,
    "start_time": "2022-04-18T20:51:36.240Z"
   },
   {
    "duration": 13,
    "start_time": "2022-04-18T20:52:17.017Z"
   },
   {
    "duration": 12,
    "start_time": "2022-04-18T20:52:25.444Z"
   },
   {
    "duration": 21,
    "start_time": "2022-04-18T20:52:28.815Z"
   },
   {
    "duration": 51,
    "start_time": "2022-04-18T20:54:35.330Z"
   },
   {
    "duration": 33,
    "start_time": "2022-04-18T20:55:02.768Z"
   },
   {
    "duration": 35,
    "start_time": "2022-04-18T20:55:28.010Z"
   },
   {
    "duration": 35,
    "start_time": "2022-04-18T21:00:25.734Z"
   },
   {
    "duration": 3,
    "start_time": "2022-04-18T21:00:31.471Z"
   },
   {
    "duration": 452,
    "start_time": "2022-04-18T21:00:31.478Z"
   },
   {
    "duration": 4,
    "start_time": "2022-04-18T21:00:31.932Z"
   },
   {
    "duration": 63,
    "start_time": "2022-04-18T21:00:31.937Z"
   },
   {
    "duration": 15,
    "start_time": "2022-04-18T21:00:32.003Z"
   },
   {
    "duration": 34,
    "start_time": "2022-04-18T21:00:32.019Z"
   },
   {
    "duration": 223,
    "start_time": "2022-04-18T21:00:32.055Z"
   },
   {
    "duration": 61,
    "start_time": "2022-04-18T21:00:32.280Z"
   },
   {
    "duration": 11,
    "start_time": "2022-04-18T21:00:32.343Z"
   },
   {
    "duration": 180,
    "start_time": "2022-04-18T21:00:32.356Z"
   },
   {
    "duration": 39,
    "start_time": "2022-04-18T21:00:32.539Z"
   },
   {
    "duration": 14,
    "start_time": "2022-04-18T21:00:32.579Z"
   },
   {
    "duration": 144,
    "start_time": "2022-04-18T21:00:32.595Z"
   },
   {
    "duration": 33,
    "start_time": "2022-04-18T21:00:32.741Z"
   },
   {
    "duration": 2,
    "start_time": "2022-04-18T21:00:32.776Z"
   },
   {
    "duration": 19,
    "start_time": "2022-04-18T21:00:32.780Z"
   },
   {
    "duration": 50,
    "start_time": "2022-04-18T21:00:32.801Z"
   },
   {
    "duration": 15,
    "start_time": "2022-04-18T21:00:32.853Z"
   },
   {
    "duration": 26,
    "start_time": "2022-04-18T21:00:32.870Z"
   },
   {
    "duration": 41,
    "start_time": "2022-04-18T21:00:32.898Z"
   },
   {
    "duration": 21,
    "start_time": "2022-04-18T21:00:32.941Z"
   },
   {
    "duration": 73,
    "start_time": "2022-04-18T21:00:32.963Z"
   },
   {
    "duration": 33,
    "start_time": "2022-04-18T21:00:33.038Z"
   },
   {
    "duration": 20,
    "start_time": "2022-04-18T21:00:33.073Z"
   },
   {
    "duration": 37,
    "start_time": "2022-04-18T21:00:45.122Z"
   },
   {
    "duration": 34,
    "start_time": "2022-04-18T21:01:00.860Z"
   },
   {
    "duration": 35,
    "start_time": "2022-04-18T21:02:32.793Z"
   },
   {
    "duration": 31,
    "start_time": "2022-04-18T21:02:46.753Z"
   },
   {
    "duration": 33,
    "start_time": "2022-04-18T21:03:40.734Z"
   },
   {
    "duration": 3,
    "start_time": "2022-04-18T21:03:44.511Z"
   },
   {
    "duration": 83,
    "start_time": "2022-04-18T21:03:49.051Z"
   },
   {
    "duration": 87,
    "start_time": "2022-04-18T21:04:01.784Z"
   },
   {
    "duration": 83,
    "start_time": "2022-04-18T21:04:04.450Z"
   },
   {
    "duration": 21,
    "start_time": "2022-04-18T21:04:12.949Z"
   },
   {
    "duration": 31,
    "start_time": "2022-04-18T21:05:50.082Z"
   },
   {
    "duration": 1178,
    "start_time": "2022-04-18T21:05:58.017Z"
   },
   {
    "duration": 428,
    "start_time": "2022-04-18T21:05:59.197Z"
   },
   {
    "duration": 4,
    "start_time": "2022-04-18T21:05:59.627Z"
   },
   {
    "duration": 46,
    "start_time": "2022-04-18T21:05:59.633Z"
   },
   {
    "duration": 14,
    "start_time": "2022-04-18T21:05:59.681Z"
   },
   {
    "duration": 39,
    "start_time": "2022-04-18T21:05:59.696Z"
   },
   {
    "duration": 227,
    "start_time": "2022-04-18T21:05:59.736Z"
   },
   {
    "duration": 50,
    "start_time": "2022-04-18T21:05:59.964Z"
   },
   {
    "duration": 26,
    "start_time": "2022-04-18T21:06:00.016Z"
   },
   {
    "duration": 172,
    "start_time": "2022-04-18T21:06:00.045Z"
   },
   {
    "duration": 51,
    "start_time": "2022-04-18T21:06:00.219Z"
   },
   {
    "duration": 16,
    "start_time": "2022-04-18T21:06:00.271Z"
   },
   {
    "duration": 129,
    "start_time": "2022-04-18T21:06:00.289Z"
   },
   {
    "duration": 34,
    "start_time": "2022-04-18T21:06:00.433Z"
   },
   {
    "duration": 3,
    "start_time": "2022-04-18T21:06:00.468Z"
   },
   {
    "duration": 35,
    "start_time": "2022-04-18T21:06:00.473Z"
   },
   {
    "duration": 31,
    "start_time": "2022-04-18T21:06:00.510Z"
   },
   {
    "duration": 12,
    "start_time": "2022-04-18T21:06:00.543Z"
   },
   {
    "duration": 23,
    "start_time": "2022-04-18T21:06:00.557Z"
   },
   {
    "duration": 11,
    "start_time": "2022-04-18T21:06:00.582Z"
   },
   {
    "duration": 50,
    "start_time": "2022-04-18T21:06:00.594Z"
   },
   {
    "duration": 52,
    "start_time": "2022-04-18T21:06:00.646Z"
   },
   {
    "duration": 47,
    "start_time": "2022-04-18T21:06:00.700Z"
   },
   {
    "duration": 33,
    "start_time": "2022-04-18T21:06:00.749Z"
   },
   {
    "duration": 50,
    "start_time": "2022-04-18T21:06:00.784Z"
   },
   {
    "duration": 32,
    "start_time": "2022-04-18T21:06:00.836Z"
   },
   {
    "duration": 3,
    "start_time": "2022-04-18T21:06:00.870Z"
   },
   {
    "duration": 98,
    "start_time": "2022-04-18T21:06:00.877Z"
   },
   {
    "duration": 92,
    "start_time": "2022-04-18T21:06:00.976Z"
   },
   {
    "duration": 83,
    "start_time": "2022-04-18T21:06:01.070Z"
   },
   {
    "duration": 20,
    "start_time": "2022-04-18T21:06:01.155Z"
   },
   {
    "duration": 20,
    "start_time": "2022-04-18T21:06:01.177Z"
   },
   {
    "duration": 175,
    "start_time": "2022-04-18T21:06:01.199Z"
   },
   {
    "duration": 5,
    "start_time": "2022-04-18T21:06:01.376Z"
   },
   {
    "duration": 20,
    "start_time": "2022-04-18T21:06:01.382Z"
   },
   {
    "duration": 13,
    "start_time": "2022-04-18T21:06:01.403Z"
   },
   {
    "duration": 21,
    "start_time": "2022-04-18T21:06:01.418Z"
   },
   {
    "duration": 28,
    "start_time": "2022-04-18T21:06:01.441Z"
   },
   {
    "duration": 190,
    "start_time": "2022-04-18T21:06:01.471Z"
   },
   {
    "duration": 159,
    "start_time": "2022-04-18T21:06:01.663Z"
   },
   {
    "duration": 196,
    "start_time": "2022-04-18T21:06:01.824Z"
   },
   {
    "duration": 24,
    "start_time": "2022-04-18T21:06:02.022Z"
   },
   {
    "duration": 206,
    "start_time": "2022-04-18T21:06:02.048Z"
   },
   {
    "duration": 166,
    "start_time": "2022-04-18T21:06:02.256Z"
   },
   {
    "duration": 191,
    "start_time": "2022-04-18T21:06:02.423Z"
   },
   {
    "duration": 27,
    "start_time": "2022-04-18T21:06:02.615Z"
   },
   {
    "duration": 170,
    "start_time": "2022-04-18T21:06:02.643Z"
   },
   {
    "duration": 166,
    "start_time": "2022-04-18T21:06:02.815Z"
   },
   {
    "duration": 265,
    "start_time": "2022-04-18T21:06:02.982Z"
   },
   {
    "duration": 19,
    "start_time": "2022-04-18T21:06:03.249Z"
   },
   {
    "duration": 5,
    "start_time": "2022-04-18T21:06:03.269Z"
   },
   {
    "duration": 22,
    "start_time": "2022-04-18T21:06:03.276Z"
   },
   {
    "duration": 8,
    "start_time": "2022-04-18T21:06:03.299Z"
   },
   {
    "duration": 27,
    "start_time": "2022-04-18T21:06:03.308Z"
   },
   {
    "duration": 3,
    "start_time": "2022-04-18T21:07:12.895Z"
   },
   {
    "duration": 409,
    "start_time": "2022-04-18T21:07:12.902Z"
   },
   {
    "duration": 4,
    "start_time": "2022-04-18T21:07:13.313Z"
   },
   {
    "duration": 48,
    "start_time": "2022-04-18T21:07:13.318Z"
   },
   {
    "duration": 14,
    "start_time": "2022-04-18T21:07:13.369Z"
   },
   {
    "duration": 22,
    "start_time": "2022-04-18T21:07:13.384Z"
   },
   {
    "duration": 206,
    "start_time": "2022-04-18T21:07:13.434Z"
   },
   {
    "duration": 50,
    "start_time": "2022-04-18T21:07:13.641Z"
   },
   {
    "duration": 12,
    "start_time": "2022-04-18T21:07:13.693Z"
   },
   {
    "duration": 179,
    "start_time": "2022-04-18T21:07:13.706Z"
   },
   {
    "duration": 49,
    "start_time": "2022-04-18T21:07:13.888Z"
   },
   {
    "duration": 15,
    "start_time": "2022-04-18T21:07:13.939Z"
   },
   {
    "duration": 119,
    "start_time": "2022-04-18T21:07:13.955Z"
   },
   {
    "duration": 32,
    "start_time": "2022-04-18T21:07:14.076Z"
   },
   {
    "duration": 3,
    "start_time": "2022-04-18T21:07:14.110Z"
   },
   {
    "duration": 33,
    "start_time": "2022-04-18T21:07:14.115Z"
   },
   {
    "duration": 29,
    "start_time": "2022-04-18T21:07:14.149Z"
   },
   {
    "duration": 12,
    "start_time": "2022-04-18T21:07:14.179Z"
   },
   {
    "duration": 49,
    "start_time": "2022-04-18T21:07:14.193Z"
   },
   {
    "duration": 11,
    "start_time": "2022-04-18T21:07:14.244Z"
   },
   {
    "duration": 22,
    "start_time": "2022-04-18T21:07:14.256Z"
   },
   {
    "duration": 65,
    "start_time": "2022-04-18T21:07:14.280Z"
   },
   {
    "duration": 29,
    "start_time": "2022-04-18T21:07:14.346Z"
   },
   {
    "duration": 25,
    "start_time": "2022-04-18T21:07:17.370Z"
   },
   {
    "duration": 26,
    "start_time": "2022-04-18T21:07:54.876Z"
   },
   {
    "duration": 29,
    "start_time": "2022-04-18T21:07:58.437Z"
   },
   {
    "duration": 3,
    "start_time": "2022-04-18T21:08:10.958Z"
   },
   {
    "duration": 407,
    "start_time": "2022-04-18T21:08:10.965Z"
   },
   {
    "duration": 4,
    "start_time": "2022-04-18T21:08:11.374Z"
   },
   {
    "duration": 63,
    "start_time": "2022-04-18T21:08:11.379Z"
   },
   {
    "duration": 14,
    "start_time": "2022-04-18T21:08:11.445Z"
   },
   {
    "duration": 19,
    "start_time": "2022-04-18T21:08:11.460Z"
   },
   {
    "duration": 213,
    "start_time": "2022-04-18T21:08:11.481Z"
   },
   {
    "duration": 63,
    "start_time": "2022-04-18T21:08:11.696Z"
   },
   {
    "duration": 12,
    "start_time": "2022-04-18T21:08:11.761Z"
   },
   {
    "duration": 165,
    "start_time": "2022-04-18T21:08:11.774Z"
   },
   {
    "duration": 40,
    "start_time": "2022-04-18T21:08:11.941Z"
   },
   {
    "duration": 14,
    "start_time": "2022-04-18T21:08:11.983Z"
   },
   {
    "duration": 121,
    "start_time": "2022-04-18T21:08:11.998Z"
   },
   {
    "duration": 33,
    "start_time": "2022-04-18T21:08:12.134Z"
   },
   {
    "duration": 3,
    "start_time": "2022-04-18T21:08:12.168Z"
   },
   {
    "duration": 16,
    "start_time": "2022-04-18T21:08:12.173Z"
   },
   {
    "duration": 55,
    "start_time": "2022-04-18T21:08:12.190Z"
   },
   {
    "duration": 12,
    "start_time": "2022-04-18T21:08:12.246Z"
   },
   {
    "duration": 24,
    "start_time": "2022-04-18T21:08:12.260Z"
   },
   {
    "duration": 11,
    "start_time": "2022-04-18T21:08:12.285Z"
   },
   {
    "duration": 46,
    "start_time": "2022-04-18T21:08:12.298Z"
   },
   {
    "duration": 44,
    "start_time": "2022-04-18T21:08:12.346Z"
   },
   {
    "duration": 56,
    "start_time": "2022-04-18T21:08:12.391Z"
   },
   {
    "duration": 32,
    "start_time": "2022-04-18T21:08:12.448Z"
   },
   {
    "duration": 32,
    "start_time": "2022-04-18T21:08:12.481Z"
   },
   {
    "duration": 33,
    "start_time": "2022-04-18T21:08:12.534Z"
   },
   {
    "duration": 3,
    "start_time": "2022-04-18T21:08:12.569Z"
   },
   {
    "duration": 99,
    "start_time": "2022-04-18T21:08:12.573Z"
   },
   {
    "duration": 91,
    "start_time": "2022-04-18T21:08:12.675Z"
   },
   {
    "duration": 90,
    "start_time": "2022-04-18T21:08:12.768Z"
   },
   {
    "duration": 24,
    "start_time": "2022-04-18T21:08:12.859Z"
   },
   {
    "duration": 102,
    "start_time": "2022-04-18T21:17:26.432Z"
   },
   {
    "duration": 10,
    "start_time": "2022-04-18T21:17:35.474Z"
   },
   {
    "duration": 32,
    "start_time": "2022-04-18T21:17:45.879Z"
   },
   {
    "duration": 27,
    "start_time": "2022-04-18T21:18:48.187Z"
   },
   {
    "duration": 33,
    "start_time": "2022-04-18T21:18:57.188Z"
   },
   {
    "duration": 1212,
    "start_time": "2022-04-18T21:20:40.115Z"
   },
   {
    "duration": 430,
    "start_time": "2022-04-18T21:20:41.329Z"
   },
   {
    "duration": 4,
    "start_time": "2022-04-18T21:20:41.761Z"
   },
   {
    "duration": 48,
    "start_time": "2022-04-18T21:20:41.766Z"
   },
   {
    "duration": 28,
    "start_time": "2022-04-18T21:20:41.816Z"
   },
   {
    "duration": 16,
    "start_time": "2022-04-18T21:20:41.846Z"
   },
   {
    "duration": 259,
    "start_time": "2022-04-18T21:20:41.863Z"
   },
   {
    "duration": 54,
    "start_time": "2022-04-18T21:20:42.124Z"
   },
   {
    "duration": 12,
    "start_time": "2022-04-18T21:20:42.180Z"
   },
   {
    "duration": 192,
    "start_time": "2022-04-18T21:20:42.195Z"
   },
   {
    "duration": 50,
    "start_time": "2022-04-18T21:20:42.389Z"
   },
   {
    "duration": 15,
    "start_time": "2022-04-18T21:20:42.441Z"
   },
   {
    "duration": 132,
    "start_time": "2022-04-18T21:20:42.457Z"
   },
   {
    "duration": 46,
    "start_time": "2022-04-18T21:20:42.591Z"
   },
   {
    "duration": 3,
    "start_time": "2022-04-18T21:20:42.639Z"
   },
   {
    "duration": 17,
    "start_time": "2022-04-18T21:20:42.643Z"
   },
   {
    "duration": 29,
    "start_time": "2022-04-18T21:20:42.662Z"
   },
   {
    "duration": 11,
    "start_time": "2022-04-18T21:20:42.693Z"
   },
   {
    "duration": 47,
    "start_time": "2022-04-18T21:20:42.706Z"
   },
   {
    "duration": 11,
    "start_time": "2022-04-18T21:20:42.755Z"
   },
   {
    "duration": 22,
    "start_time": "2022-04-18T21:20:42.768Z"
   },
   {
    "duration": 85,
    "start_time": "2022-04-18T21:20:42.792Z"
   },
   {
    "duration": 32,
    "start_time": "2022-04-18T21:20:42.878Z"
   },
   {
    "duration": 49,
    "start_time": "2022-04-18T21:20:42.912Z"
   },
   {
    "duration": 33,
    "start_time": "2022-04-18T21:20:42.962Z"
   },
   {
    "duration": 47,
    "start_time": "2022-04-18T21:20:42.997Z"
   },
   {
    "duration": 3,
    "start_time": "2022-04-18T21:20:43.045Z"
   },
   {
    "duration": 107,
    "start_time": "2022-04-18T21:20:43.052Z"
   },
   {
    "duration": 87,
    "start_time": "2022-04-18T21:20:43.162Z"
   },
   {
    "duration": 86,
    "start_time": "2022-04-18T21:20:43.251Z"
   },
   {
    "duration": 21,
    "start_time": "2022-04-18T21:20:43.339Z"
   },
   {
    "duration": 16,
    "start_time": "2022-04-18T21:20:43.361Z"
   },
   {
    "duration": 177,
    "start_time": "2022-04-18T21:20:43.379Z"
   },
   {
    "duration": 5,
    "start_time": "2022-04-18T21:20:43.560Z"
   },
   {
    "duration": 11,
    "start_time": "2022-04-18T21:20:43.567Z"
   },
   {
    "duration": 9,
    "start_time": "2022-04-18T21:20:43.580Z"
   },
   {
    "duration": 8,
    "start_time": "2022-04-18T21:20:43.590Z"
   },
   {
    "duration": 51,
    "start_time": "2022-04-18T21:20:43.600Z"
   },
   {
    "duration": 7,
    "start_time": "2022-04-18T21:20:43.653Z"
   },
   {
    "duration": 155,
    "start_time": "2022-04-18T21:20:43.662Z"
   },
   {
    "duration": 155,
    "start_time": "2022-04-18T21:20:43.819Z"
   },
   {
    "duration": 176,
    "start_time": "2022-04-18T21:20:43.975Z"
   },
   {
    "duration": 17,
    "start_time": "2022-04-18T21:20:44.153Z"
   },
   {
    "duration": 163,
    "start_time": "2022-04-18T21:20:44.172Z"
   },
   {
    "duration": 182,
    "start_time": "2022-04-18T21:20:44.337Z"
   },
   {
    "duration": 205,
    "start_time": "2022-04-18T21:20:44.521Z"
   },
   {
    "duration": 16,
    "start_time": "2022-04-18T21:20:44.733Z"
   },
   {
    "duration": 203,
    "start_time": "2022-04-18T21:20:44.751Z"
   },
   {
    "duration": 167,
    "start_time": "2022-04-18T21:20:44.955Z"
   },
   {
    "duration": 266,
    "start_time": "2022-04-18T21:20:45.124Z"
   },
   {
    "duration": 19,
    "start_time": "2022-04-18T21:20:45.392Z"
   },
   {
    "duration": 5,
    "start_time": "2022-04-18T21:20:45.413Z"
   },
   {
    "duration": 15,
    "start_time": "2022-04-18T21:20:45.434Z"
   },
   {
    "duration": 9,
    "start_time": "2022-04-18T21:20:45.450Z"
   },
   {
    "duration": 14,
    "start_time": "2022-04-18T21:20:45.460Z"
   },
   {
    "duration": 34,
    "start_time": "2022-04-18T21:25:09.365Z"
   },
   {
    "duration": 178,
    "start_time": "2022-04-18T21:29:32.665Z"
   },
   {
    "duration": 171,
    "start_time": "2022-04-18T21:29:41.806Z"
   },
   {
    "duration": 185,
    "start_time": "2022-04-18T21:32:52.156Z"
   },
   {
    "duration": 17,
    "start_time": "2022-04-18T21:35:46.522Z"
   },
   {
    "duration": 141,
    "start_time": "2022-04-18T21:35:48.860Z"
   },
   {
    "duration": 144,
    "start_time": "2022-04-18T21:35:52.141Z"
   },
   {
    "duration": 187,
    "start_time": "2022-04-18T21:35:59.942Z"
   },
   {
    "duration": 17,
    "start_time": "2022-04-18T21:36:08.813Z"
   },
   {
    "duration": 144,
    "start_time": "2022-04-18T21:36:16.352Z"
   },
   {
    "duration": 142,
    "start_time": "2022-04-18T21:36:17.905Z"
   },
   {
    "duration": 185,
    "start_time": "2022-04-18T21:36:19.013Z"
   },
   {
    "duration": 48,
    "start_time": "2022-04-20T09:31:26.403Z"
   },
   {
    "duration": 1183,
    "start_time": "2022-04-20T09:31:33.364Z"
   },
   {
    "duration": 359,
    "start_time": "2022-04-20T09:31:34.549Z"
   },
   {
    "duration": 5,
    "start_time": "2022-04-20T09:31:34.909Z"
   },
   {
    "duration": 41,
    "start_time": "2022-04-20T09:31:34.916Z"
   },
   {
    "duration": 13,
    "start_time": "2022-04-20T09:31:34.959Z"
   },
   {
    "duration": 40,
    "start_time": "2022-04-20T09:31:34.974Z"
   },
   {
    "duration": 220,
    "start_time": "2022-04-20T09:31:35.016Z"
   },
   {
    "duration": 45,
    "start_time": "2022-04-20T09:31:35.238Z"
   },
   {
    "duration": 26,
    "start_time": "2022-04-20T09:31:35.285Z"
   },
   {
    "duration": 144,
    "start_time": "2022-04-20T09:31:35.315Z"
   },
   {
    "duration": 36,
    "start_time": "2022-04-20T09:31:35.460Z"
   },
   {
    "duration": 12,
    "start_time": "2022-04-20T09:31:35.508Z"
   },
   {
    "duration": 114,
    "start_time": "2022-04-20T09:31:35.521Z"
   },
   {
    "duration": 32,
    "start_time": "2022-04-20T09:31:35.636Z"
   },
   {
    "duration": 2,
    "start_time": "2022-04-20T09:31:35.670Z"
   },
   {
    "duration": 34,
    "start_time": "2022-04-20T09:31:35.674Z"
   },
   {
    "duration": 28,
    "start_time": "2022-04-20T09:31:35.710Z"
   },
   {
    "duration": 12,
    "start_time": "2022-04-20T09:31:35.739Z"
   },
   {
    "duration": 22,
    "start_time": "2022-04-20T09:31:35.752Z"
   },
   {
    "duration": 34,
    "start_time": "2022-04-20T09:31:35.776Z"
   },
   {
    "duration": 19,
    "start_time": "2022-04-20T09:31:35.812Z"
   },
   {
    "duration": 46,
    "start_time": "2022-04-20T09:31:35.833Z"
   },
   {
    "duration": 48,
    "start_time": "2022-04-20T09:31:35.881Z"
   },
   {
    "duration": 29,
    "start_time": "2022-04-20T09:31:35.930Z"
   },
   {
    "duration": 47,
    "start_time": "2022-04-20T09:31:35.961Z"
   },
   {
    "duration": 28,
    "start_time": "2022-04-20T09:31:36.009Z"
   },
   {
    "duration": 3,
    "start_time": "2022-04-20T09:31:36.038Z"
   },
   {
    "duration": 90,
    "start_time": "2022-04-20T09:31:36.044Z"
   },
   {
    "duration": 75,
    "start_time": "2022-04-20T09:31:36.135Z"
   },
   {
    "duration": 73,
    "start_time": "2022-04-20T09:31:36.212Z"
   },
   {
    "duration": 36,
    "start_time": "2022-04-20T09:31:36.286Z"
   },
   {
    "duration": 15,
    "start_time": "2022-04-20T09:31:36.324Z"
   },
   {
    "duration": 140,
    "start_time": "2022-04-20T09:31:36.341Z"
   },
   {
    "duration": 4,
    "start_time": "2022-04-20T09:31:36.482Z"
   },
   {
    "duration": 6,
    "start_time": "2022-04-20T09:31:36.487Z"
   },
   {
    "duration": 5,
    "start_time": "2022-04-20T09:31:36.508Z"
   },
   {
    "duration": 6,
    "start_time": "2022-04-20T09:31:36.514Z"
   },
   {
    "duration": 59,
    "start_time": "2022-04-20T09:31:36.522Z"
   },
   {
    "duration": 0,
    "start_time": "2022-04-20T09:31:36.583Z"
   },
   {
    "duration": 0,
    "start_time": "2022-04-20T09:31:36.585Z"
   },
   {
    "duration": 0,
    "start_time": "2022-04-20T09:31:36.607Z"
   },
   {
    "duration": 0,
    "start_time": "2022-04-20T09:31:36.608Z"
   },
   {
    "duration": 0,
    "start_time": "2022-04-20T09:31:36.609Z"
   },
   {
    "duration": 0,
    "start_time": "2022-04-20T09:31:36.611Z"
   },
   {
    "duration": 0,
    "start_time": "2022-04-20T09:31:36.612Z"
   },
   {
    "duration": 0,
    "start_time": "2022-04-20T09:31:36.613Z"
   },
   {
    "duration": 0,
    "start_time": "2022-04-20T09:31:36.614Z"
   },
   {
    "duration": 0,
    "start_time": "2022-04-20T09:31:36.615Z"
   },
   {
    "duration": 0,
    "start_time": "2022-04-20T09:31:36.615Z"
   },
   {
    "duration": 0,
    "start_time": "2022-04-20T09:31:36.616Z"
   },
   {
    "duration": 0,
    "start_time": "2022-04-20T09:31:36.617Z"
   },
   {
    "duration": 0,
    "start_time": "2022-04-20T09:31:36.618Z"
   },
   {
    "duration": 0,
    "start_time": "2022-04-20T09:31:36.619Z"
   },
   {
    "duration": 0,
    "start_time": "2022-04-20T09:31:36.620Z"
   },
   {
    "duration": 0,
    "start_time": "2022-04-20T09:31:36.621Z"
   },
   {
    "duration": 8,
    "start_time": "2022-04-20T09:32:06.231Z"
   },
   {
    "duration": 10,
    "start_time": "2022-04-20T09:32:12.644Z"
   },
   {
    "duration": 25,
    "start_time": "2022-04-20T09:32:15.873Z"
   },
   {
    "duration": 27,
    "start_time": "2022-04-20T09:32:22.977Z"
   },
   {
    "duration": 26,
    "start_time": "2022-04-20T09:32:30.497Z"
   },
   {
    "duration": 27,
    "start_time": "2022-04-20T09:32:46.709Z"
   },
   {
    "duration": 5,
    "start_time": "2022-04-20T09:33:18.696Z"
   },
   {
    "duration": 131,
    "start_time": "2022-04-20T09:33:18.964Z"
   },
   {
    "duration": 31,
    "start_time": "2022-04-20T09:37:36.780Z"
   },
   {
    "duration": 138,
    "start_time": "2022-04-20T09:40:16.868Z"
   },
   {
    "duration": 27,
    "start_time": "2022-04-20T09:41:08.751Z"
   },
   {
    "duration": 132,
    "start_time": "2022-04-20T09:41:33.510Z"
   },
   {
    "duration": 198,
    "start_time": "2022-04-20T09:44:49.545Z"
   },
   {
    "duration": 6,
    "start_time": "2022-04-20T09:44:58.940Z"
   },
   {
    "duration": 5,
    "start_time": "2022-04-20T09:45:07.776Z"
   },
   {
    "duration": 4,
    "start_time": "2022-04-20T09:46:10.598Z"
   },
   {
    "duration": 4,
    "start_time": "2022-04-20T09:46:16.260Z"
   },
   {
    "duration": 113,
    "start_time": "2022-04-20T09:48:17.725Z"
   },
   {
    "duration": 10,
    "start_time": "2022-04-20T09:52:33.684Z"
   },
   {
    "duration": 11,
    "start_time": "2022-04-20T09:54:21.910Z"
   },
   {
    "duration": 11,
    "start_time": "2022-04-20T09:55:06.807Z"
   },
   {
    "duration": 9,
    "start_time": "2022-04-20T09:55:25.444Z"
   },
   {
    "duration": 10,
    "start_time": "2022-04-20T09:57:00.267Z"
   },
   {
    "duration": 176,
    "start_time": "2022-04-20T09:59:30.327Z"
   },
   {
    "duration": 223,
    "start_time": "2022-04-20T10:01:05.679Z"
   },
   {
    "duration": 208,
    "start_time": "2022-04-20T10:01:23.376Z"
   },
   {
    "duration": 204,
    "start_time": "2022-04-20T10:05:23.895Z"
   },
   {
    "duration": 27,
    "start_time": "2022-04-20T10:06:18.514Z"
   },
   {
    "duration": 9,
    "start_time": "2022-04-20T10:06:46.515Z"
   },
   {
    "duration": 268,
    "start_time": "2022-04-20T10:06:53.504Z"
   },
   {
    "duration": 180,
    "start_time": "2022-04-20T10:07:08.327Z"
   },
   {
    "duration": 181,
    "start_time": "2022-04-20T10:07:18.055Z"
   },
   {
    "duration": 211,
    "start_time": "2022-04-20T10:08:01.923Z"
   },
   {
    "duration": 187,
    "start_time": "2022-04-20T10:08:20.010Z"
   },
   {
    "duration": 9,
    "start_time": "2022-04-20T10:11:22.774Z"
   },
   {
    "duration": 105,
    "start_time": "2022-04-20T10:17:09.313Z"
   },
   {
    "duration": 10,
    "start_time": "2022-04-20T10:17:14.692Z"
   },
   {
    "duration": 7,
    "start_time": "2022-04-20T10:22:28.302Z"
   },
   {
    "duration": 10,
    "start_time": "2022-04-20T10:22:44.538Z"
   },
   {
    "duration": 10,
    "start_time": "2022-04-20T10:23:22.560Z"
   },
   {
    "duration": 9,
    "start_time": "2022-04-20T10:26:10.930Z"
   },
   {
    "duration": 14,
    "start_time": "2022-04-20T10:26:22.987Z"
   },
   {
    "duration": 10,
    "start_time": "2022-04-20T10:27:05.359Z"
   },
   {
    "duration": 20,
    "start_time": "2022-04-20T10:29:55.461Z"
   },
   {
    "duration": 20,
    "start_time": "2022-04-20T10:30:03.021Z"
   },
   {
    "duration": 28,
    "start_time": "2022-04-20T10:30:11.623Z"
   },
   {
    "duration": 10,
    "start_time": "2022-04-20T10:31:26.158Z"
   },
   {
    "duration": 16,
    "start_time": "2022-04-20T10:31:34.071Z"
   },
   {
    "duration": 31,
    "start_time": "2022-04-20T10:31:35.392Z"
   },
   {
    "duration": 35,
    "start_time": "2022-04-20T10:32:20.632Z"
   },
   {
    "duration": 10,
    "start_time": "2022-04-20T10:33:41.237Z"
   },
   {
    "duration": 9,
    "start_time": "2022-04-20T10:34:40.348Z"
   },
   {
    "duration": 1137,
    "start_time": "2022-04-20T10:36:14.607Z"
   },
   {
    "duration": 363,
    "start_time": "2022-04-20T10:36:15.745Z"
   },
   {
    "duration": 4,
    "start_time": "2022-04-20T10:36:16.110Z"
   },
   {
    "duration": 43,
    "start_time": "2022-04-20T10:36:16.116Z"
   },
   {
    "duration": 13,
    "start_time": "2022-04-20T10:36:16.161Z"
   },
   {
    "duration": 41,
    "start_time": "2022-04-20T10:36:16.176Z"
   },
   {
    "duration": 210,
    "start_time": "2022-04-20T10:36:16.218Z"
   },
   {
    "duration": 47,
    "start_time": "2022-04-20T10:36:16.429Z"
   },
   {
    "duration": 9,
    "start_time": "2022-04-20T10:36:16.478Z"
   },
   {
    "duration": 160,
    "start_time": "2022-04-20T10:36:16.509Z"
   },
   {
    "duration": 48,
    "start_time": "2022-04-20T10:36:16.671Z"
   },
   {
    "duration": 15,
    "start_time": "2022-04-20T10:36:16.721Z"
   },
   {
    "duration": 124,
    "start_time": "2022-04-20T10:36:16.738Z"
   },
   {
    "duration": 49,
    "start_time": "2022-04-20T10:36:16.864Z"
   },
   {
    "duration": 2,
    "start_time": "2022-04-20T10:36:16.915Z"
   },
   {
    "duration": 15,
    "start_time": "2022-04-20T10:36:16.918Z"
   },
   {
    "duration": 27,
    "start_time": "2022-04-20T10:36:16.934Z"
   },
   {
    "duration": 11,
    "start_time": "2022-04-20T10:36:16.963Z"
   },
   {
    "duration": 52,
    "start_time": "2022-04-20T10:36:16.975Z"
   },
   {
    "duration": 10,
    "start_time": "2022-04-20T10:36:17.029Z"
   },
   {
    "duration": 20,
    "start_time": "2022-04-20T10:36:17.041Z"
   },
   {
    "duration": 70,
    "start_time": "2022-04-20T10:36:17.063Z"
   },
   {
    "duration": 28,
    "start_time": "2022-04-20T10:36:17.135Z"
   },
   {
    "duration": 47,
    "start_time": "2022-04-20T10:36:17.165Z"
   },
   {
    "duration": 30,
    "start_time": "2022-04-20T10:36:17.214Z"
   },
   {
    "duration": 30,
    "start_time": "2022-04-20T10:36:17.246Z"
   },
   {
    "duration": 3,
    "start_time": "2022-04-20T10:36:17.277Z"
   },
   {
    "duration": 75,
    "start_time": "2022-04-20T10:36:17.308Z"
   },
   {
    "duration": 87,
    "start_time": "2022-04-20T10:36:17.385Z"
   },
   {
    "duration": 81,
    "start_time": "2022-04-20T10:36:17.474Z"
   },
   {
    "duration": 20,
    "start_time": "2022-04-20T10:36:17.556Z"
   },
   {
    "duration": 32,
    "start_time": "2022-04-20T10:36:17.577Z"
   },
   {
    "duration": 143,
    "start_time": "2022-04-20T10:36:17.611Z"
   },
   {
    "duration": 4,
    "start_time": "2022-04-20T10:36:17.756Z"
   },
   {
    "duration": 15,
    "start_time": "2022-04-20T10:36:17.762Z"
   },
   {
    "duration": 15,
    "start_time": "2022-04-20T10:36:17.779Z"
   },
   {
    "duration": 8,
    "start_time": "2022-04-20T10:36:17.796Z"
   },
   {
    "duration": 33,
    "start_time": "2022-04-20T10:36:17.807Z"
   },
   {
    "duration": 101,
    "start_time": "2022-04-20T10:36:17.841Z"
   },
   {
    "duration": 0,
    "start_time": "2022-04-20T10:36:17.944Z"
   },
   {
    "duration": 0,
    "start_time": "2022-04-20T10:36:17.945Z"
   },
   {
    "duration": 0,
    "start_time": "2022-04-20T10:36:17.947Z"
   },
   {
    "duration": 0,
    "start_time": "2022-04-20T10:36:17.947Z"
   },
   {
    "duration": 0,
    "start_time": "2022-04-20T10:36:17.948Z"
   },
   {
    "duration": 0,
    "start_time": "2022-04-20T10:36:17.949Z"
   },
   {
    "duration": 0,
    "start_time": "2022-04-20T10:36:17.950Z"
   },
   {
    "duration": 0,
    "start_time": "2022-04-20T10:36:17.952Z"
   },
   {
    "duration": 0,
    "start_time": "2022-04-20T10:36:17.953Z"
   },
   {
    "duration": 0,
    "start_time": "2022-04-20T10:36:17.953Z"
   },
   {
    "duration": 0,
    "start_time": "2022-04-20T10:36:17.954Z"
   },
   {
    "duration": 0,
    "start_time": "2022-04-20T10:36:17.955Z"
   },
   {
    "duration": 0,
    "start_time": "2022-04-20T10:36:17.956Z"
   },
   {
    "duration": 0,
    "start_time": "2022-04-20T10:36:17.957Z"
   },
   {
    "duration": 11,
    "start_time": "2022-04-20T10:36:45.213Z"
   },
   {
    "duration": 9,
    "start_time": "2022-04-20T10:36:55.039Z"
   },
   {
    "duration": 3,
    "start_time": "2022-04-20T10:37:06.302Z"
   },
   {
    "duration": 363,
    "start_time": "2022-04-20T10:37:06.309Z"
   },
   {
    "duration": 3,
    "start_time": "2022-04-20T10:37:06.674Z"
   },
   {
    "duration": 54,
    "start_time": "2022-04-20T10:37:06.679Z"
   },
   {
    "duration": 13,
    "start_time": "2022-04-20T10:37:06.735Z"
   },
   {
    "duration": 21,
    "start_time": "2022-04-20T10:37:06.749Z"
   },
   {
    "duration": 207,
    "start_time": "2022-04-20T10:37:06.771Z"
   },
   {
    "duration": 53,
    "start_time": "2022-04-20T10:37:06.980Z"
   },
   {
    "duration": 10,
    "start_time": "2022-04-20T10:37:07.035Z"
   },
   {
    "duration": 140,
    "start_time": "2022-04-20T10:37:07.047Z"
   },
   {
    "duration": 47,
    "start_time": "2022-04-20T10:37:07.190Z"
   },
   {
    "duration": 12,
    "start_time": "2022-04-20T10:37:07.238Z"
   },
   {
    "duration": 112,
    "start_time": "2022-04-20T10:37:07.252Z"
   },
   {
    "duration": 44,
    "start_time": "2022-04-20T10:37:07.365Z"
   },
   {
    "duration": 3,
    "start_time": "2022-04-20T10:37:07.410Z"
   },
   {
    "duration": 14,
    "start_time": "2022-04-20T10:37:07.415Z"
   },
   {
    "duration": 27,
    "start_time": "2022-04-20T10:37:07.430Z"
   },
   {
    "duration": 11,
    "start_time": "2022-04-20T10:37:07.459Z"
   },
   {
    "duration": 50,
    "start_time": "2022-04-20T10:37:07.472Z"
   },
   {
    "duration": 10,
    "start_time": "2022-04-20T10:37:07.524Z"
   },
   {
    "duration": 19,
    "start_time": "2022-04-20T10:37:07.535Z"
   },
   {
    "duration": 64,
    "start_time": "2022-04-20T10:37:07.556Z"
   },
   {
    "duration": 27,
    "start_time": "2022-04-20T10:37:07.622Z"
   },
   {
    "duration": 26,
    "start_time": "2022-04-20T10:37:07.651Z"
   },
   {
    "duration": 52,
    "start_time": "2022-04-20T10:37:07.678Z"
   },
   {
    "duration": 31,
    "start_time": "2022-04-20T10:37:07.731Z"
   },
   {
    "duration": 3,
    "start_time": "2022-04-20T10:37:07.763Z"
   },
   {
    "duration": 94,
    "start_time": "2022-04-20T10:37:07.768Z"
   },
   {
    "duration": 81,
    "start_time": "2022-04-20T10:37:07.865Z"
   },
   {
    "duration": 79,
    "start_time": "2022-04-20T10:37:07.948Z"
   },
   {
    "duration": 20,
    "start_time": "2022-04-20T10:37:08.029Z"
   },
   {
    "duration": 15,
    "start_time": "2022-04-20T10:37:08.050Z"
   },
   {
    "duration": 149,
    "start_time": "2022-04-20T10:37:08.067Z"
   },
   {
    "duration": 5,
    "start_time": "2022-04-20T10:37:08.217Z"
   },
   {
    "duration": 6,
    "start_time": "2022-04-20T10:37:08.223Z"
   },
   {
    "duration": 4,
    "start_time": "2022-04-20T10:37:08.230Z"
   },
   {
    "duration": 5,
    "start_time": "2022-04-20T10:37:08.236Z"
   },
   {
    "duration": 26,
    "start_time": "2022-04-20T10:37:08.243Z"
   },
   {
    "duration": 41,
    "start_time": "2022-04-20T10:37:08.270Z"
   },
   {
    "duration": 182,
    "start_time": "2022-04-20T10:37:08.313Z"
   },
   {
    "duration": 25,
    "start_time": "2022-04-20T10:37:08.497Z"
   },
   {
    "duration": 30,
    "start_time": "2022-04-20T10:37:08.524Z"
   },
   {
    "duration": 184,
    "start_time": "2022-04-20T10:37:51.462Z"
   },
   {
    "duration": 9,
    "start_time": "2022-04-20T10:39:59.878Z"
   },
   {
    "duration": 17,
    "start_time": "2022-04-20T10:40:03.147Z"
   },
   {
    "duration": 34,
    "start_time": "2022-04-20T10:40:09.029Z"
   },
   {
    "duration": 176,
    "start_time": "2022-04-20T10:40:36.115Z"
   },
   {
    "duration": 13,
    "start_time": "2022-04-20T10:42:05.838Z"
   },
   {
    "duration": 17,
    "start_time": "2022-04-20T10:42:14.015Z"
   },
   {
    "duration": 4,
    "start_time": "2022-04-20T10:42:16.843Z"
   },
   {
    "duration": 12,
    "start_time": "2022-04-20T10:42:20.760Z"
   },
   {
    "duration": 7,
    "start_time": "2022-04-20T10:42:21.577Z"
   },
   {
    "duration": 6,
    "start_time": "2022-04-20T10:42:22.472Z"
   },
   {
    "duration": 31,
    "start_time": "2022-04-20T10:51:22.069Z"
   },
   {
    "duration": 25,
    "start_time": "2022-04-20T10:52:10.876Z"
   },
   {
    "duration": 1102,
    "start_time": "2022-04-20T10:52:17.256Z"
   },
   {
    "duration": 398,
    "start_time": "2022-04-20T10:52:18.359Z"
   },
   {
    "duration": 3,
    "start_time": "2022-04-20T10:52:18.759Z"
   },
   {
    "duration": 52,
    "start_time": "2022-04-20T10:52:18.764Z"
   },
   {
    "duration": 13,
    "start_time": "2022-04-20T10:52:18.818Z"
   },
   {
    "duration": 16,
    "start_time": "2022-04-20T10:52:18.833Z"
   },
   {
    "duration": 230,
    "start_time": "2022-04-20T10:52:18.850Z"
   },
   {
    "duration": 61,
    "start_time": "2022-04-20T10:52:19.082Z"
   },
   {
    "duration": 12,
    "start_time": "2022-04-20T10:52:19.144Z"
   },
   {
    "duration": 172,
    "start_time": "2022-04-20T10:52:19.159Z"
   },
   {
    "duration": 37,
    "start_time": "2022-04-20T10:52:19.332Z"
   },
   {
    "duration": 15,
    "start_time": "2022-04-20T10:52:19.370Z"
   },
   {
    "duration": 133,
    "start_time": "2022-04-20T10:52:19.386Z"
   },
   {
    "duration": 32,
    "start_time": "2022-04-20T10:52:19.520Z"
   },
   {
    "duration": 3,
    "start_time": "2022-04-20T10:52:19.553Z"
   },
   {
    "duration": 14,
    "start_time": "2022-04-20T10:52:19.558Z"
   },
   {
    "duration": 53,
    "start_time": "2022-04-20T10:52:19.573Z"
   },
   {
    "duration": 11,
    "start_time": "2022-04-20T10:52:19.628Z"
   },
   {
    "duration": 23,
    "start_time": "2022-04-20T10:52:19.640Z"
   },
   {
    "duration": 11,
    "start_time": "2022-04-20T10:52:19.664Z"
   },
   {
    "duration": 44,
    "start_time": "2022-04-20T10:52:19.676Z"
   },
   {
    "duration": 52,
    "start_time": "2022-04-20T10:52:19.722Z"
   },
   {
    "duration": 53,
    "start_time": "2022-04-20T10:52:19.776Z"
   },
   {
    "duration": 31,
    "start_time": "2022-04-20T10:52:19.830Z"
   },
   {
    "duration": 53,
    "start_time": "2022-04-20T10:52:19.863Z"
   },
   {
    "duration": 31,
    "start_time": "2022-04-20T10:52:19.918Z"
   },
   {
    "duration": 3,
    "start_time": "2022-04-20T10:52:19.950Z"
   },
   {
    "duration": 91,
    "start_time": "2022-04-20T10:52:19.957Z"
   },
   {
    "duration": 85,
    "start_time": "2022-04-20T10:52:20.050Z"
   },
   {
    "duration": 84,
    "start_time": "2022-04-20T10:52:20.137Z"
   },
   {
    "duration": 21,
    "start_time": "2022-04-20T10:52:20.223Z"
   },
   {
    "duration": 17,
    "start_time": "2022-04-20T10:52:20.245Z"
   },
   {
    "duration": 164,
    "start_time": "2022-04-20T10:52:20.264Z"
   },
   {
    "duration": 5,
    "start_time": "2022-04-20T10:52:20.430Z"
   },
   {
    "duration": 6,
    "start_time": "2022-04-20T10:52:20.437Z"
   },
   {
    "duration": 7,
    "start_time": "2022-04-20T10:52:20.445Z"
   },
   {
    "duration": 6,
    "start_time": "2022-04-20T10:52:20.454Z"
   },
   {
    "duration": 62,
    "start_time": "2022-04-20T10:52:20.462Z"
   },
   {
    "duration": 11,
    "start_time": "2022-04-20T10:52:20.525Z"
   },
   {
    "duration": 193,
    "start_time": "2022-04-20T10:52:20.537Z"
   },
   {
    "duration": 17,
    "start_time": "2022-04-20T10:52:20.732Z"
   },
   {
    "duration": 33,
    "start_time": "2022-04-20T10:52:20.751Z"
   },
   {
    "duration": 190,
    "start_time": "2022-04-20T10:52:20.808Z"
   },
   {
    "duration": 22,
    "start_time": "2022-04-20T10:52:21.000Z"
   },
   {
    "duration": 30,
    "start_time": "2022-04-20T10:52:21.023Z"
   },
   {
    "duration": 196,
    "start_time": "2022-04-20T10:52:21.055Z"
   },
   {
    "duration": 16,
    "start_time": "2022-04-20T10:52:21.253Z"
   },
   {
    "duration": 4,
    "start_time": "2022-04-20T10:52:21.271Z"
   },
   {
    "duration": 32,
    "start_time": "2022-04-20T10:52:21.276Z"
   },
   {
    "duration": 8,
    "start_time": "2022-04-20T10:52:21.310Z"
   },
   {
    "duration": 7,
    "start_time": "2022-04-20T10:52:21.319Z"
   },
   {
    "duration": 126,
    "start_time": "2022-04-20T10:52:21.327Z"
   },
   {
    "duration": 5,
    "start_time": "2022-04-20T10:53:33.330Z"
   },
   {
    "duration": 18,
    "start_time": "2022-04-20T10:59:11.921Z"
   },
   {
    "duration": 84,
    "start_time": "2022-04-20T10:59:25.893Z"
   },
   {
    "duration": 17,
    "start_time": "2022-04-20T10:59:35.895Z"
   },
   {
    "duration": 26,
    "start_time": "2022-04-20T11:01:05.246Z"
   },
   {
    "duration": 27,
    "start_time": "2022-04-20T11:01:13.748Z"
   },
   {
    "duration": 10,
    "start_time": "2022-04-20T11:14:53.987Z"
   },
   {
    "duration": 15,
    "start_time": "2022-04-20T11:15:17.215Z"
   },
   {
    "duration": 22,
    "start_time": "2022-04-20T11:15:51.122Z"
   },
   {
    "duration": 26,
    "start_time": "2022-04-20T11:16:13.668Z"
   },
   {
    "duration": 13,
    "start_time": "2022-04-20T11:17:15.667Z"
   },
   {
    "duration": 383,
    "start_time": "2022-04-20T11:18:30.276Z"
   },
   {
    "duration": 2318,
    "start_time": "2022-04-20T11:24:31.658Z"
   },
   {
    "duration": 26,
    "start_time": "2022-04-20T11:49:23.756Z"
   },
   {
    "duration": 2272,
    "start_time": "2022-04-20T11:50:24.193Z"
   },
   {
    "duration": 2306,
    "start_time": "2022-04-20T11:52:13.954Z"
   },
   {
    "duration": 2260,
    "start_time": "2022-04-20T11:56:28.984Z"
   },
   {
    "duration": 20,
    "start_time": "2022-04-20T11:56:42.076Z"
   },
   {
    "duration": 18,
    "start_time": "2022-04-20T11:57:46.788Z"
   },
   {
    "duration": 18,
    "start_time": "2022-04-20T11:58:04.383Z"
   },
   {
    "duration": 194,
    "start_time": "2022-04-20T11:58:15.332Z"
   },
   {
    "duration": 76,
    "start_time": "2022-04-20T11:58:36.535Z"
   },
   {
    "duration": 94,
    "start_time": "2022-04-20T11:59:42.198Z"
   },
   {
    "duration": 108,
    "start_time": "2022-04-20T11:59:58.488Z"
   },
   {
    "duration": 107,
    "start_time": "2022-04-20T12:00:05.647Z"
   },
   {
    "duration": 80,
    "start_time": "2022-04-20T12:00:30.498Z"
   },
   {
    "duration": 69,
    "start_time": "2022-04-20T12:00:34.961Z"
   },
   {
    "duration": 79,
    "start_time": "2022-04-20T12:00:45.851Z"
   },
   {
    "duration": 78,
    "start_time": "2022-04-20T12:00:59.092Z"
   },
   {
    "duration": 64,
    "start_time": "2022-04-20T12:01:01.752Z"
   },
   {
    "duration": 85,
    "start_time": "2022-04-20T12:02:00.293Z"
   },
   {
    "duration": 92,
    "start_time": "2022-04-20T12:02:04.730Z"
   },
   {
    "duration": 83,
    "start_time": "2022-04-20T12:02:11.935Z"
   },
   {
    "duration": 89,
    "start_time": "2022-04-20T12:02:46.970Z"
   },
   {
    "duration": 86,
    "start_time": "2022-04-20T12:03:28.004Z"
   },
   {
    "duration": 24,
    "start_time": "2022-04-20T12:05:19.740Z"
   },
   {
    "duration": 82,
    "start_time": "2022-04-20T12:05:38.522Z"
   },
   {
    "duration": 85,
    "start_time": "2022-04-20T12:05:59.042Z"
   },
   {
    "duration": 84,
    "start_time": "2022-04-20T12:06:13.060Z"
   },
   {
    "duration": 82,
    "start_time": "2022-04-20T12:07:26.105Z"
   },
   {
    "duration": 99,
    "start_time": "2022-04-20T12:07:28.781Z"
   },
   {
    "duration": 89,
    "start_time": "2022-04-20T12:07:35.474Z"
   },
   {
    "duration": 90,
    "start_time": "2022-04-20T12:07:41.982Z"
   },
   {
    "duration": 110,
    "start_time": "2022-04-20T12:17:17.232Z"
   },
   {
    "duration": 76,
    "start_time": "2022-04-20T12:17:29.512Z"
   },
   {
    "duration": 109,
    "start_time": "2022-04-20T12:19:55.683Z"
   },
   {
    "duration": 96,
    "start_time": "2022-04-20T12:31:01.846Z"
   },
   {
    "duration": 99,
    "start_time": "2022-04-20T12:42:04.202Z"
   },
   {
    "duration": 85,
    "start_time": "2022-04-20T12:42:19.006Z"
   },
   {
    "duration": 96,
    "start_time": "2022-04-20T12:43:18.113Z"
   },
   {
    "duration": 94,
    "start_time": "2022-04-20T12:44:46.072Z"
   },
   {
    "duration": 85,
    "start_time": "2022-04-20T12:45:10.694Z"
   },
   {
    "duration": 81,
    "start_time": "2022-04-20T12:45:22.744Z"
   },
   {
    "duration": 85,
    "start_time": "2022-04-20T12:48:58.670Z"
   },
   {
    "duration": 99,
    "start_time": "2022-04-20T12:55:44.050Z"
   },
   {
    "duration": 179,
    "start_time": "2022-04-20T12:59:53.004Z"
   },
   {
    "duration": 314,
    "start_time": "2022-04-20T13:00:12.095Z"
   },
   {
    "duration": 178,
    "start_time": "2022-04-20T13:00:51.776Z"
   },
   {
    "duration": 188,
    "start_time": "2022-04-20T13:01:08.794Z"
   },
   {
    "duration": 226,
    "start_time": "2022-04-20T13:01:34.624Z"
   },
   {
    "duration": 172,
    "start_time": "2022-04-20T13:01:45.616Z"
   },
   {
    "duration": 97,
    "start_time": "2022-04-20T13:14:16.382Z"
   },
   {
    "duration": 81,
    "start_time": "2022-04-20T13:18:00.224Z"
   },
   {
    "duration": 81,
    "start_time": "2022-04-20T13:18:06.105Z"
   },
   {
    "duration": 89,
    "start_time": "2022-04-20T13:20:42.306Z"
   },
   {
    "duration": 77,
    "start_time": "2022-04-20T13:23:50.262Z"
   },
   {
    "duration": 77,
    "start_time": "2022-04-20T13:24:20.496Z"
   },
   {
    "duration": 87,
    "start_time": "2022-04-20T13:24:27.206Z"
   },
   {
    "duration": 34,
    "start_time": "2022-04-20T13:45:07.531Z"
   },
   {
    "duration": 14,
    "start_time": "2022-04-20T13:45:12.219Z"
   },
   {
    "duration": 34,
    "start_time": "2022-04-20T13:45:17.302Z"
   },
   {
    "duration": 10,
    "start_time": "2022-04-20T13:45:37.624Z"
   },
   {
    "duration": 96,
    "start_time": "2022-04-20T13:52:13.562Z"
   },
   {
    "duration": 1153,
    "start_time": "2022-04-20T13:59:14.127Z"
   },
   {
    "duration": 395,
    "start_time": "2022-04-20T13:59:15.282Z"
   },
   {
    "duration": 3,
    "start_time": "2022-04-20T13:59:15.679Z"
   },
   {
    "duration": 55,
    "start_time": "2022-04-20T13:59:15.685Z"
   },
   {
    "duration": 14,
    "start_time": "2022-04-20T13:59:15.742Z"
   },
   {
    "duration": 17,
    "start_time": "2022-04-20T13:59:15.758Z"
   },
   {
    "duration": 225,
    "start_time": "2022-04-20T13:59:15.807Z"
   },
   {
    "duration": 48,
    "start_time": "2022-04-20T13:59:16.034Z"
   },
   {
    "duration": 31,
    "start_time": "2022-04-20T13:59:16.083Z"
   },
   {
    "duration": 178,
    "start_time": "2022-04-20T13:59:16.116Z"
   },
   {
    "duration": 43,
    "start_time": "2022-04-20T13:59:16.295Z"
   },
   {
    "duration": 16,
    "start_time": "2022-04-20T13:59:16.339Z"
   },
   {
    "duration": 131,
    "start_time": "2022-04-20T13:59:16.357Z"
   },
   {
    "duration": 46,
    "start_time": "2022-04-20T13:59:16.490Z"
   },
   {
    "duration": 3,
    "start_time": "2022-04-20T13:59:16.539Z"
   },
   {
    "duration": 16,
    "start_time": "2022-04-20T13:59:16.544Z"
   },
   {
    "duration": 54,
    "start_time": "2022-04-20T13:59:16.561Z"
   },
   {
    "duration": 16,
    "start_time": "2022-04-20T13:59:16.617Z"
   },
   {
    "duration": 29,
    "start_time": "2022-04-20T13:59:16.634Z"
   },
   {
    "duration": 14,
    "start_time": "2022-04-20T13:59:16.665Z"
   },
   {
    "duration": 25,
    "start_time": "2022-04-20T13:59:16.707Z"
   },
   {
    "duration": 76,
    "start_time": "2022-04-20T13:59:16.733Z"
   },
   {
    "duration": 32,
    "start_time": "2022-04-20T13:59:16.811Z"
   },
   {
    "duration": 33,
    "start_time": "2022-04-20T13:59:16.845Z"
   },
   {
    "duration": 55,
    "start_time": "2022-04-20T13:59:16.880Z"
   },
   {
    "duration": 32,
    "start_time": "2022-04-20T13:59:16.937Z"
   },
   {
    "duration": 3,
    "start_time": "2022-04-20T13:59:16.971Z"
   },
   {
    "duration": 113,
    "start_time": "2022-04-20T13:59:16.979Z"
   },
   {
    "duration": 87,
    "start_time": "2022-04-20T13:59:17.094Z"
   },
   {
    "duration": 86,
    "start_time": "2022-04-20T13:59:17.183Z"
   },
   {
    "duration": 36,
    "start_time": "2022-04-20T13:59:17.271Z"
   },
   {
    "duration": 17,
    "start_time": "2022-04-20T13:59:17.309Z"
   },
   {
    "duration": 166,
    "start_time": "2022-04-20T13:59:17.328Z"
   },
   {
    "duration": 13,
    "start_time": "2022-04-20T13:59:17.496Z"
   },
   {
    "duration": 5,
    "start_time": "2022-04-20T13:59:17.511Z"
   },
   {
    "duration": 7,
    "start_time": "2022-04-20T13:59:17.518Z"
   },
   {
    "duration": 7,
    "start_time": "2022-04-20T13:59:17.527Z"
   },
   {
    "duration": 29,
    "start_time": "2022-04-20T13:59:17.536Z"
   },
   {
    "duration": 42,
    "start_time": "2022-04-20T13:59:17.567Z"
   },
   {
    "duration": 199,
    "start_time": "2022-04-20T13:59:17.611Z"
   },
   {
    "duration": 19,
    "start_time": "2022-04-20T13:59:17.812Z"
   },
   {
    "duration": 35,
    "start_time": "2022-04-20T13:59:17.833Z"
   },
   {
    "duration": 229,
    "start_time": "2022-04-20T13:59:17.870Z"
   },
   {
    "duration": 18,
    "start_time": "2022-04-20T13:59:18.107Z"
   },
   {
    "duration": 49,
    "start_time": "2022-04-20T13:59:18.127Z"
   },
   {
    "duration": 207,
    "start_time": "2022-04-20T13:59:18.178Z"
   },
   {
    "duration": 28,
    "start_time": "2022-04-20T13:59:18.387Z"
   },
   {
    "duration": 13,
    "start_time": "2022-04-20T13:59:18.417Z"
   },
   {
    "duration": 14,
    "start_time": "2022-04-20T13:59:18.432Z"
   },
   {
    "duration": 7,
    "start_time": "2022-04-20T13:59:18.448Z"
   },
   {
    "duration": 129,
    "start_time": "2022-04-20T13:59:18.456Z"
   },
   {
    "duration": 100,
    "start_time": "2022-04-20T13:59:18.587Z"
   },
   {
    "duration": 211,
    "start_time": "2022-04-20T13:59:18.690Z"
   },
   {
    "duration": 101,
    "start_time": "2022-04-20T13:59:18.908Z"
   },
   {
    "duration": 98,
    "start_time": "2022-04-20T13:59:19.011Z"
   },
   {
    "duration": 1125,
    "start_time": "2022-04-20T14:04:53.668Z"
   },
   {
    "duration": 377,
    "start_time": "2022-04-20T14:04:54.795Z"
   },
   {
    "duration": 4,
    "start_time": "2022-04-20T14:04:55.174Z"
   },
   {
    "duration": 53,
    "start_time": "2022-04-20T14:04:55.180Z"
   },
   {
    "duration": 13,
    "start_time": "2022-04-20T14:04:55.234Z"
   },
   {
    "duration": 16,
    "start_time": "2022-04-20T14:04:55.249Z"
   },
   {
    "duration": 246,
    "start_time": "2022-04-20T14:04:55.267Z"
   },
   {
    "duration": 46,
    "start_time": "2022-04-20T14:04:55.516Z"
   },
   {
    "duration": 13,
    "start_time": "2022-04-20T14:04:55.564Z"
   },
   {
    "duration": 186,
    "start_time": "2022-04-20T14:04:55.580Z"
   },
   {
    "duration": 47,
    "start_time": "2022-04-20T14:04:55.767Z"
   },
   {
    "duration": 14,
    "start_time": "2022-04-20T14:04:55.816Z"
   },
   {
    "duration": 124,
    "start_time": "2022-04-20T14:04:55.831Z"
   },
   {
    "duration": 31,
    "start_time": "2022-04-20T14:04:55.956Z"
   },
   {
    "duration": 3,
    "start_time": "2022-04-20T14:04:55.988Z"
   },
   {
    "duration": 13,
    "start_time": "2022-04-20T14:04:56.007Z"
   },
   {
    "duration": 29,
    "start_time": "2022-04-20T14:04:56.022Z"
   },
   {
    "duration": 12,
    "start_time": "2022-04-20T14:04:56.053Z"
   },
   {
    "duration": 53,
    "start_time": "2022-04-20T14:04:56.066Z"
   },
   {
    "duration": 11,
    "start_time": "2022-04-20T14:04:56.121Z"
   },
   {
    "duration": 19,
    "start_time": "2022-04-20T14:04:56.134Z"
   },
   {
    "duration": 75,
    "start_time": "2022-04-20T14:04:56.155Z"
   },
   {
    "duration": 30,
    "start_time": "2022-04-20T14:04:56.231Z"
   },
   {
    "duration": 47,
    "start_time": "2022-04-20T14:04:56.262Z"
   },
   {
    "duration": 33,
    "start_time": "2022-04-20T14:04:56.310Z"
   },
   {
    "duration": 29,
    "start_time": "2022-04-20T14:04:56.344Z"
   },
   {
    "duration": 2,
    "start_time": "2022-04-20T14:04:56.375Z"
   },
   {
    "duration": 101,
    "start_time": "2022-04-20T14:04:56.381Z"
   },
   {
    "duration": 87,
    "start_time": "2022-04-20T14:04:56.484Z"
   },
   {
    "duration": 87,
    "start_time": "2022-04-20T14:04:56.572Z"
   },
   {
    "duration": 19,
    "start_time": "2022-04-20T14:04:56.660Z"
   },
   {
    "duration": 28,
    "start_time": "2022-04-20T14:04:56.680Z"
   },
   {
    "duration": 150,
    "start_time": "2022-04-20T14:04:56.710Z"
   },
   {
    "duration": 5,
    "start_time": "2022-04-20T14:04:56.861Z"
   },
   {
    "duration": 8,
    "start_time": "2022-04-20T14:04:56.867Z"
   },
   {
    "duration": 6,
    "start_time": "2022-04-20T14:04:56.877Z"
   },
   {
    "duration": 23,
    "start_time": "2022-04-20T14:04:56.885Z"
   },
   {
    "duration": 26,
    "start_time": "2022-04-20T14:04:56.910Z"
   },
   {
    "duration": 12,
    "start_time": "2022-04-20T14:04:56.938Z"
   },
   {
    "duration": 189,
    "start_time": "2022-04-20T14:04:56.951Z"
   },
   {
    "duration": 16,
    "start_time": "2022-04-20T14:04:57.142Z"
   },
   {
    "duration": 53,
    "start_time": "2022-04-20T14:04:57.160Z"
   },
   {
    "duration": 186,
    "start_time": "2022-04-20T14:04:57.215Z"
   },
   {
    "duration": 17,
    "start_time": "2022-04-20T14:04:57.407Z"
   },
   {
    "duration": 34,
    "start_time": "2022-04-20T14:04:57.426Z"
   },
   {
    "duration": 206,
    "start_time": "2022-04-20T14:04:57.461Z"
   },
   {
    "duration": 19,
    "start_time": "2022-04-20T14:04:57.669Z"
   },
   {
    "duration": 27,
    "start_time": "2022-04-20T14:04:57.690Z"
   },
   {
    "duration": 15,
    "start_time": "2022-04-20T14:04:57.719Z"
   },
   {
    "duration": 27,
    "start_time": "2022-04-20T14:04:57.736Z"
   },
   {
    "duration": 101,
    "start_time": "2022-04-20T14:04:57.764Z"
   },
   {
    "duration": 89,
    "start_time": "2022-04-20T14:04:57.866Z"
   },
   {
    "duration": 191,
    "start_time": "2022-04-20T14:04:57.957Z"
   },
   {
    "duration": 88,
    "start_time": "2022-04-20T14:04:58.150Z"
   },
   {
    "duration": 85,
    "start_time": "2022-04-20T14:04:58.240Z"
   },
   {
    "duration": 103,
    "start_time": "2022-04-20T20:08:47.156Z"
   },
   {
    "duration": 102,
    "start_time": "2022-04-20T20:26:52.595Z"
   }
  ],
  "kernelspec": {
   "display_name": "Python 3 (ipykernel)",
   "language": "python",
   "name": "python3"
  },
  "language_info": {
   "codemirror_mode": {
    "name": "ipython",
    "version": 3
   },
   "file_extension": ".py",
   "mimetype": "text/x-python",
   "name": "python",
   "nbconvert_exporter": "python",
   "pygments_lexer": "ipython3",
   "version": "3.9.7"
  },
  "toc": {
   "base_numbering": 1,
   "nav_menu": {
    "height": "311px",
    "width": "330px"
   },
   "number_sections": true,
   "sideBar": true,
   "skip_h1_title": true,
   "title_cell": "Содержание",
   "title_sidebar": "Contents",
   "toc_cell": true,
   "toc_position": {
    "height": "calc(100% - 180px)",
    "left": "10px",
    "top": "150px",
    "width": "332.6px"
   },
   "toc_section_display": true,
   "toc_window_display": true
  }
 },
 "nbformat": 4,
 "nbformat_minor": 2
}
