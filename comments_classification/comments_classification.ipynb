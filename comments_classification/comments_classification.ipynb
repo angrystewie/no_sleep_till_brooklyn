{
 "cells": [
  {
   "cell_type": "markdown",
   "id": "ad1b483b",
   "metadata": {
    "id": "7gV1BIBXjrH_",
    "papermill": {
     "duration": 0.019221,
     "end_time": "2022-08-01T21:18:09.851822",
     "exception": false,
     "start_time": "2022-08-01T21:18:09.832601",
     "status": "completed"
    },
    "tags": []
   },
   "source": [
    "<h1>Содержание<span class=\"tocSkip\"></span></h1>\n",
    "<div class=\"toc\"><ul class=\"toc-item\"><li><span><a href=\"#Подготовка\" data-toc-modified-id=\"Подготовка-1\"><span class=\"toc-item-num\">1&nbsp;&nbsp;</span>Подготовка</a></span></li><li><span><a href=\"#Обучение\" data-toc-modified-id=\"Обучение-2\"><span class=\"toc-item-num\">2&nbsp;&nbsp;</span>Обучение</a></span></li><li><span><a href=\"#Выводы\" data-toc-modified-id=\"Выводы-3\"><span class=\"toc-item-num\">3&nbsp;&nbsp;</span>Выводы</a></span></li><li><span><a href=\"#Чек-лист-проверки\" data-toc-modified-id=\"Чек-лист-проверки-4\"><span class=\"toc-item-num\">4&nbsp;&nbsp;</span>Чек-лист проверки</a></span></li></ul></div>"
   ]
  },
  {
   "cell_type": "markdown",
   "id": "fc49fce1",
   "metadata": {
    "id": "gKmJ0C2gjrIR",
    "papermill": {
     "duration": 0.017728,
     "end_time": "2022-08-01T21:18:09.888058",
     "exception": false,
     "start_time": "2022-08-01T21:18:09.870330",
     "status": "completed"
    },
    "tags": []
   },
   "source": [
    "# Классификация комментариев"
   ]
  },
  {
   "cell_type": "markdown",
   "id": "7b336b27",
   "metadata": {
    "id": "hnyT1CvZjrIm",
    "papermill": {
     "duration": 0.017387,
     "end_time": "2022-08-01T21:18:09.924950",
     "exception": false,
     "start_time": "2022-08-01T21:18:09.907563",
     "status": "completed"
    },
    "tags": []
   },
   "source": [
    "Необходимо обучить модель классифицировать комментарии на позитивные и негативные. Данные размечены\n",
    "\n",
    "**Описание данных**\n",
    "\n",
    "Столбец text в датасете содержит текст комментария, а toxic — целевой признак.\n",
    "\n",
    "**Целевая метрика**\n",
    "F1-мера"
   ]
  },
  {
   "cell_type": "markdown",
   "id": "677f717f",
   "metadata": {
    "papermill": {
     "duration": 0.017253,
     "end_time": "2022-08-01T21:18:09.959824",
     "exception": false,
     "start_time": "2022-08-01T21:18:09.942571",
     "status": "completed"
    },
    "tags": []
   },
   "source": [
    "## Введение\n",
    "Каждый раздел данного проекта будет поделен на четыре части, где будут производиться манипуляции для подготовки данных, обучения моделей и представление результатов для каждого из четырех выбранных способов решения задачи:\n",
    "* TF-IDF + Логистическая регрессия;\n",
    "* TF-IDF + CatBoost;\n",
    "* BERT + Логистическая регрессия;\n",
    "* BERT + CatBoost."
   ]
  },
  {
   "cell_type": "markdown",
   "id": "4748fafd",
   "metadata": {
    "id": "rDTIj0vHjrI2",
    "papermill": {
     "duration": 0.017488,
     "end_time": "2022-08-01T21:18:09.994889",
     "exception": false,
     "start_time": "2022-08-01T21:18:09.977401",
     "status": "completed"
    },
    "tags": []
   },
   "source": [
    "## Подготовка"
   ]
  },
  {
   "cell_type": "markdown",
   "id": "4d3c7e93",
   "metadata": {
    "papermill": {
     "duration": 0.017292,
     "end_time": "2022-08-01T21:18:10.029369",
     "exception": false,
     "start_time": "2022-08-01T21:18:10.012077",
     "status": "completed"
    },
    "tags": []
   },
   "source": [
    "Делаем фундаментальные заявления"
   ]
  },
  {
   "cell_type": "code",
   "execution_count": 1,
   "id": "d98bdd1a",
   "metadata": {
    "execution": {
     "iopub.execute_input": "2022-08-01T21:18:10.066746Z",
     "iopub.status.busy": "2022-08-01T21:18:10.066065Z",
     "iopub.status.idle": "2022-08-01T21:18:14.784310Z",
     "shell.execute_reply": "2022-08-01T21:18:14.783309Z"
    },
    "id": "i4ozlmH0j149",
    "outputId": "35911de5-3d74-4ab8-a687-e4d1dea836c4",
    "papermill": {
     "duration": 4.740251,
     "end_time": "2022-08-01T21:18:14.787009",
     "exception": false,
     "start_time": "2022-08-01T21:18:10.046758",
     "status": "completed"
    },
    "tags": []
   },
   "outputs": [],
   "source": [
    "# импортируем магию\n",
    "import numpy as np\n",
    "import matplotlib.pyplot as plt\n",
    "import pandas as pd\n",
    "import spacy\n",
    "import torch\n",
    "import transformers\n",
    "\n",
    "from catboost import CatBoostClassifier\n",
    "from catboost import Pool\n",
    "from sklearn.feature_extraction.text import TfidfVectorizer \n",
    "from sklearn.linear_model import LogisticRegression\n",
    "from sklearn.metrics import f1_score, confusion_matrix,\\\n",
    "                            ConfusionMatrixDisplay, classification_report,\\\n",
    "                            plot_roc_curve\n",
    "from sklearn.model_selection import GridSearchCV, train_test_split\n",
    "from tqdm import notebook\n"
   ]
  },
  {
   "cell_type": "markdown",
   "id": "e40aa5d6",
   "metadata": {
    "papermill": {
     "duration": 0.017362,
     "end_time": "2022-08-01T21:18:14.821974",
     "exception": false,
     "start_time": "2022-08-01T21:18:14.804612",
     "status": "completed"
    },
    "tags": []
   },
   "source": [
    "Загружаем датасет"
   ]
  },
  {
   "cell_type": "code",
   "execution_count": 2,
   "id": "309e16a3",
   "metadata": {
    "execution": {
     "iopub.execute_input": "2022-08-01T21:18:14.858717Z",
     "iopub.status.busy": "2022-08-01T21:18:14.858150Z",
     "iopub.status.idle": "2022-08-01T21:18:21.581538Z",
     "shell.execute_reply": "2022-08-01T21:18:21.580302Z"
    },
    "id": "1LfxHCRwkKyw",
    "outputId": "4747d4f6-3ca7-4bce-eb6e-c203ff1c5806",
    "papermill": {
     "duration": 6.746017,
     "end_time": "2022-08-01T21:18:21.585478",
     "exception": false,
     "start_time": "2022-08-01T21:18:14.839461",
     "status": "completed"
    },
    "tags": []
   },
   "outputs": [],
   "source": [
    "try:\n",
    "    df = pd.read_csv('')\n",
    "except:\n",
    "    df = pd.read_csv('')\n"
   ]
  },
  {
   "cell_type": "markdown",
   "id": "688028c1",
   "metadata": {
    "papermill": {
     "duration": 0.030028,
     "end_time": "2022-08-01T21:18:21.646789",
     "exception": false,
     "start_time": "2022-08-01T21:18:21.616761",
     "status": "completed"
    },
    "tags": []
   },
   "source": [
    "Посмотрим на данные"
   ]
  },
  {
   "cell_type": "code",
   "execution_count": 3,
   "id": "d79d3d36",
   "metadata": {
    "execution": {
     "iopub.execute_input": "2022-08-01T21:18:21.705860Z",
     "iopub.status.busy": "2022-08-01T21:18:21.705453Z",
     "iopub.status.idle": "2022-08-01T21:18:21.736040Z",
     "shell.execute_reply": "2022-08-01T21:18:21.735063Z"
    },
    "id": "dZIWFscDmOs7",
    "outputId": "9dd95e38-4afe-492e-d2de-07e2a0baa5ba",
    "papermill": {
     "duration": 0.063065,
     "end_time": "2022-08-01T21:18:21.740185",
     "exception": false,
     "start_time": "2022-08-01T21:18:21.677120",
     "status": "completed"
    },
    "tags": []
   },
   "outputs": [
    {
     "data": {
      "text/html": [
       "<div>\n",
       "<style scoped>\n",
       "    .dataframe tbody tr th:only-of-type {\n",
       "        vertical-align: middle;\n",
       "    }\n",
       "\n",
       "    .dataframe tbody tr th {\n",
       "        vertical-align: top;\n",
       "    }\n",
       "\n",
       "    .dataframe thead th {\n",
       "        text-align: right;\n",
       "    }\n",
       "</style>\n",
       "<table border=\"1\" class=\"dataframe\">\n",
       "  <thead>\n",
       "    <tr style=\"text-align: right;\">\n",
       "      <th></th>\n",
       "      <th>text</th>\n",
       "      <th>toxic</th>\n",
       "    </tr>\n",
       "  </thead>\n",
       "  <tbody>\n",
       "    <tr>\n",
       "      <th>0</th>\n",
       "      <td>Explanation\\nWhy the edits made under my usern...</td>\n",
       "      <td>0</td>\n",
       "    </tr>\n",
       "    <tr>\n",
       "      <th>1</th>\n",
       "      <td>D'aww! He matches this background colour I'm s...</td>\n",
       "      <td>0</td>\n",
       "    </tr>\n",
       "    <tr>\n",
       "      <th>2</th>\n",
       "      <td>Hey man, I'm really not trying to edit war. It...</td>\n",
       "      <td>0</td>\n",
       "    </tr>\n",
       "    <tr>\n",
       "      <th>3</th>\n",
       "      <td>\"\\nMore\\nI can't make any real suggestions on ...</td>\n",
       "      <td>0</td>\n",
       "    </tr>\n",
       "    <tr>\n",
       "      <th>4</th>\n",
       "      <td>You, sir, are my hero. Any chance you remember...</td>\n",
       "      <td>0</td>\n",
       "    </tr>\n",
       "  </tbody>\n",
       "</table>\n",
       "</div>"
      ],
      "text/plain": [
       "                                                text  toxic\n",
       "0  Explanation\\nWhy the edits made under my usern...      0\n",
       "1  D'aww! He matches this background colour I'm s...      0\n",
       "2  Hey man, I'm really not trying to edit war. It...      0\n",
       "3  \"\\nMore\\nI can't make any real suggestions on ...      0\n",
       "4  You, sir, are my hero. Any chance you remember...      0"
      ]
     },
     "metadata": {},
     "output_type": "display_data"
    },
    {
     "name": "stdout",
     "output_type": "stream",
     "text": [
      "(159571, 2)\n"
     ]
    },
    {
     "data": {
      "text/plain": [
       "0    143346\n",
       "1     16225\n",
       "Name: toxic, dtype: int64"
      ]
     },
     "execution_count": 3,
     "metadata": {},
     "output_type": "execute_result"
    }
   ],
   "source": [
    "display(df.head())\n",
    "print(df.shape)\n",
    "df['toxic'].value_counts()"
   ]
  },
  {
   "cell_type": "markdown",
   "id": "f90f1250",
   "metadata": {
    "papermill": {
     "duration": 0.017512,
     "end_time": "2022-08-01T21:18:21.776011",
     "exception": false,
     "start_time": "2022-08-01T21:18:21.758499",
     "status": "completed"
    },
    "tags": []
   },
   "source": [
    "Классы даже близко не сбалансированы.\n",
    "\n",
    "Сократим выборку в 10 раз. После проверим, сохранились ли пропорции классов, необходимые для чистоты эксперимента."
   ]
  },
  {
   "cell_type": "code",
   "execution_count": 4,
   "id": "251225b1",
   "metadata": {
    "execution": {
     "iopub.execute_input": "2022-08-01T21:18:21.813720Z",
     "iopub.status.busy": "2022-08-01T21:18:21.813037Z",
     "iopub.status.idle": "2022-08-01T21:18:21.838473Z",
     "shell.execute_reply": "2022-08-01T21:18:21.837404Z"
    },
    "papermill": {
     "duration": 0.047836,
     "end_time": "2022-08-01T21:18:21.841590",
     "exception": false,
     "start_time": "2022-08-01T21:18:21.793754",
     "status": "completed"
    },
    "tags": []
   },
   "outputs": [
    {
     "data": {
      "text/html": [
       "<div>\n",
       "<style scoped>\n",
       "    .dataframe tbody tr th:only-of-type {\n",
       "        vertical-align: middle;\n",
       "    }\n",
       "\n",
       "    .dataframe tbody tr th {\n",
       "        vertical-align: top;\n",
       "    }\n",
       "\n",
       "    .dataframe thead th {\n",
       "        text-align: right;\n",
       "    }\n",
       "</style>\n",
       "<table border=\"1\" class=\"dataframe\">\n",
       "  <thead>\n",
       "    <tr style=\"text-align: right;\">\n",
       "      <th></th>\n",
       "      <th>text</th>\n",
       "      <th>toxic</th>\n",
       "    </tr>\n",
       "  </thead>\n",
       "  <tbody>\n",
       "    <tr>\n",
       "      <th>0</th>\n",
       "      <td>\"\\n\\n A Helpful Haiku \\nMeaneager, I've writte...</td>\n",
       "      <td>0</td>\n",
       "    </tr>\n",
       "    <tr>\n",
       "      <th>1</th>\n",
       "      <td>The injury of The Undertaker \\n\\nI think it's ...</td>\n",
       "      <td>0</td>\n",
       "    </tr>\n",
       "    <tr>\n",
       "      <th>2</th>\n",
       "      <td>\"\\n Deletion discussion about JD Lighting \\nHe...</td>\n",
       "      <td>0</td>\n",
       "    </tr>\n",
       "    <tr>\n",
       "      <th>3</th>\n",
       "      <td>\"\\nYou're welcome! Glad to help you.  talk &amp; c...</td>\n",
       "      <td>0</td>\n",
       "    </tr>\n",
       "    <tr>\n",
       "      <th>4</th>\n",
       "      <td>So you're trying to justify the block because ...</td>\n",
       "      <td>0</td>\n",
       "    </tr>\n",
       "  </tbody>\n",
       "</table>\n",
       "</div>"
      ],
      "text/plain": [
       "                                                text  toxic\n",
       "0  \"\\n\\n A Helpful Haiku \\nMeaneager, I've writte...      0\n",
       "1  The injury of The Undertaker \\n\\nI think it's ...      0\n",
       "2  \"\\n Deletion discussion about JD Lighting \\nHe...      0\n",
       "3  \"\\nYou're welcome! Glad to help you.  talk & c...      0\n",
       "4  So you're trying to justify the block because ...      0"
      ]
     },
     "metadata": {},
     "output_type": "display_data"
    },
    {
     "data": {
      "text/plain": [
       "0    14322\n",
       "1     1635\n",
       "Name: toxic, dtype: int64"
      ]
     },
     "execution_count": 4,
     "metadata": {},
     "output_type": "execute_result"
    }
   ],
   "source": [
    "short_df = df.sample(len(df)//10, random_state=2007)\n",
    "short_df = short_df.reset_index(drop=True)\n",
    "display(short_df.head())\n",
    "short_df['toxic'].value_counts()\n"
   ]
  },
  {
   "cell_type": "markdown",
   "id": "09e4b914",
   "metadata": {
    "papermill": {
     "duration": 0.018047,
     "end_time": "2022-08-01T21:18:21.877817",
     "exception": false,
     "start_time": "2022-08-01T21:18:21.859770",
     "status": "completed"
    },
    "tags": []
   },
   "source": [
    "Пропорции похожи.\n",
    "\n",
    "Приступим к работе по подготовке данных. "
   ]
  },
  {
   "cell_type": "markdown",
   "id": "30c2eda3",
   "metadata": {
    "papermill": {
     "duration": 0.017742,
     "end_time": "2022-08-01T21:18:21.913544",
     "exception": false,
     "start_time": "2022-08-01T21:18:21.895802",
     "status": "completed"
    },
    "tags": []
   },
   "source": [
    "### TF-IDF + Logit\n",
    "В первую очередь нам необходимо провести предобработку непосредственно текстов. Библиотека `Spacy` поможет это там сделать легко и непринужденно.\n",
    "\n",
    "Загрузим и сохраним словарь."
   ]
  },
  {
   "cell_type": "code",
   "execution_count": 5,
   "id": "752a64da",
   "metadata": {
    "execution": {
     "iopub.execute_input": "2022-08-01T21:18:21.952285Z",
     "iopub.status.busy": "2022-08-01T21:18:21.951396Z",
     "iopub.status.idle": "2022-08-01T21:18:23.246056Z",
     "shell.execute_reply": "2022-08-01T21:18:23.244737Z"
    },
    "papermill": {
     "duration": 1.317262,
     "end_time": "2022-08-01T21:18:23.248748",
     "exception": false,
     "start_time": "2022-08-01T21:18:21.931486",
     "status": "completed"
    },
    "scrolled": true,
    "tags": []
   },
   "outputs": [],
   "source": [
    "nlp = spacy.load(\"en_core_web_sm\")"
   ]
  },
  {
   "cell_type": "markdown",
   "id": "8dce9a36",
   "metadata": {
    "papermill": {
     "duration": 0.017922,
     "end_time": "2022-08-01T21:18:23.285288",
     "exception": false,
     "start_time": "2022-08-01T21:18:23.267366",
     "status": "completed"
    },
    "tags": []
   },
   "source": [
    "Проведем работу по лемматизации, забудем стоп-слова и удалим знаки препинания. Сначала принизим все буквы до строчных, иначе есть риск оставить стоп-слова."
   ]
  },
  {
   "cell_type": "code",
   "execution_count": 6,
   "id": "3dd9473f",
   "metadata": {
    "execution": {
     "iopub.execute_input": "2022-08-01T21:18:23.323904Z",
     "iopub.status.busy": "2022-08-01T21:18:23.323544Z",
     "iopub.status.idle": "2022-08-01T21:18:23.355270Z",
     "shell.execute_reply": "2022-08-01T21:18:23.354347Z"
    },
    "papermill": {
     "duration": 0.053599,
     "end_time": "2022-08-01T21:18:23.357397",
     "exception": false,
     "start_time": "2022-08-01T21:18:23.303798",
     "status": "completed"
    },
    "tags": []
   },
   "outputs": [
    {
     "data": {
      "text/html": [
       "<div>\n",
       "<style scoped>\n",
       "    .dataframe tbody tr th:only-of-type {\n",
       "        vertical-align: middle;\n",
       "    }\n",
       "\n",
       "    .dataframe tbody tr th {\n",
       "        vertical-align: top;\n",
       "    }\n",
       "\n",
       "    .dataframe thead th {\n",
       "        text-align: right;\n",
       "    }\n",
       "</style>\n",
       "<table border=\"1\" class=\"dataframe\">\n",
       "  <thead>\n",
       "    <tr style=\"text-align: right;\">\n",
       "      <th></th>\n",
       "      <th>text</th>\n",
       "      <th>toxic</th>\n",
       "    </tr>\n",
       "  </thead>\n",
       "  <tbody>\n",
       "    <tr>\n",
       "      <th>2143</th>\n",
       "      <td>who the f*ck put you in charge\\n\\ni create an ...</td>\n",
       "      <td>1</td>\n",
       "    </tr>\n",
       "    <tr>\n",
       "      <th>13886</th>\n",
       "      <td>i'll go ahead and submit it, if you like. do y...</td>\n",
       "      <td>0</td>\n",
       "    </tr>\n",
       "    <tr>\n",
       "      <th>8342</th>\n",
       "      <td>\"\\ni have created the next newsletter and will...</td>\n",
       "      <td>0</td>\n",
       "    </tr>\n",
       "    <tr>\n",
       "      <th>217</th>\n",
       "      <td>\"\\n\\n wp:india banner/delhi addition  \\nnote: ...</td>\n",
       "      <td>0</td>\n",
       "    </tr>\n",
       "    <tr>\n",
       "      <th>15110</th>\n",
       "      <td>\"\\n\\n dubious association \\ni don't see how th...</td>\n",
       "      <td>0</td>\n",
       "    </tr>\n",
       "    <tr>\n",
       "      <th>15091</th>\n",
       "      <td>telos \\n\\ni have added telos to the home plane...</td>\n",
       "      <td>0</td>\n",
       "    </tr>\n",
       "    <tr>\n",
       "      <th>14996</th>\n",
       "      <td>\"listen, it was \"\"interesting\"\" meeting a wiki...</td>\n",
       "      <td>0</td>\n",
       "    </tr>\n",
       "    <tr>\n",
       "      <th>15638</th>\n",
       "      <td>congratulations! \\n\\nyour furious defense of t...</td>\n",
       "      <td>1</td>\n",
       "    </tr>\n",
       "    <tr>\n",
       "      <th>8169</th>\n",
       "      <td>notability bs, i note that 3 of the 4 links th...</td>\n",
       "      <td>1</td>\n",
       "    </tr>\n",
       "    <tr>\n",
       "      <th>13185</th>\n",
       "      <td>...also note - giving early warnings may const...</td>\n",
       "      <td>0</td>\n",
       "    </tr>\n",
       "  </tbody>\n",
       "</table>\n",
       "</div>"
      ],
      "text/plain": [
       "                                                    text  toxic\n",
       "2143   who the f*ck put you in charge\\n\\ni create an ...      1\n",
       "13886  i'll go ahead and submit it, if you like. do y...      0\n",
       "8342   \"\\ni have created the next newsletter and will...      0\n",
       "217    \"\\n\\n wp:india banner/delhi addition  \\nnote: ...      0\n",
       "15110  \"\\n\\n dubious association \\ni don't see how th...      0\n",
       "15091  telos \\n\\ni have added telos to the home plane...      0\n",
       "14996  \"listen, it was \"\"interesting\"\" meeting a wiki...      0\n",
       "15638  congratulations! \\n\\nyour furious defense of t...      1\n",
       "8169   notability bs, i note that 3 of the 4 links th...      1\n",
       "13185  ...also note - giving early warnings may const...      0"
      ]
     },
     "execution_count": 6,
     "metadata": {},
     "output_type": "execute_result"
    }
   ],
   "source": [
    "short_df['text'] = short_df['text'].apply(lambda text: text.lower())\n",
    "\n",
    "short_df.sample(10)"
   ]
  },
  {
   "cell_type": "markdown",
   "id": "51f7058b",
   "metadata": {
    "papermill": {
     "duration": 0.018254,
     "end_time": "2022-08-01T21:18:23.394250",
     "exception": false,
     "start_time": "2022-08-01T21:18:23.375996",
     "status": "completed"
    },
    "tags": []
   },
   "source": [
    "Теперь перейдем, непосредственно, к делу"
   ]
  },
  {
   "cell_type": "code",
   "execution_count": 7,
   "id": "9f6d5686",
   "metadata": {
    "execution": {
     "iopub.execute_input": "2022-08-01T21:18:23.432582Z",
     "iopub.status.busy": "2022-08-01T21:18:23.432209Z",
     "iopub.status.idle": "2022-08-01T21:22:42.107529Z",
     "shell.execute_reply": "2022-08-01T21:22:42.106443Z"
    },
    "papermill": {
     "duration": 258.716357,
     "end_time": "2022-08-01T21:22:42.129139",
     "exception": false,
     "start_time": "2022-08-01T21:18:23.412782",
     "status": "completed"
    },
    "tags": []
   },
   "outputs": [
    {
     "name": "stdout",
     "output_type": "stream",
     "text": [
      "CPU times: user 4min 12s, sys: 5.79 s, total: 4min 17s\n",
      "Wall time: 4min 18s\n"
     ]
    }
   ],
   "source": [
    "%%time\n",
    "short_df['lemm_text'] = (short_df['text']\n",
    "                         .apply(lambda text: \n",
    "                                \" \".join(token.lemma_ for token in nlp(text) \n",
    "                                         if not (token.is_stop or token.is_punct or token.is_space or\n",
    "                                                token.like_url or token.like_email or token.like_num))))"
   ]
  },
  {
   "cell_type": "code",
   "execution_count": 8,
   "id": "cff7c1d2",
   "metadata": {
    "execution": {
     "iopub.execute_input": "2022-08-01T21:22:42.168862Z",
     "iopub.status.busy": "2022-08-01T21:22:42.168499Z",
     "iopub.status.idle": "2022-08-01T21:22:42.182243Z",
     "shell.execute_reply": "2022-08-01T21:22:42.181196Z"
    },
    "papermill": {
     "duration": 0.035761,
     "end_time": "2022-08-01T21:22:42.184601",
     "exception": false,
     "start_time": "2022-08-01T21:22:42.148840",
     "status": "completed"
    },
    "tags": []
   },
   "outputs": [
    {
     "data": {
      "text/html": [
       "<div>\n",
       "<style scoped>\n",
       "    .dataframe tbody tr th:only-of-type {\n",
       "        vertical-align: middle;\n",
       "    }\n",
       "\n",
       "    .dataframe tbody tr th {\n",
       "        vertical-align: top;\n",
       "    }\n",
       "\n",
       "    .dataframe thead th {\n",
       "        text-align: right;\n",
       "    }\n",
       "</style>\n",
       "<table border=\"1\" class=\"dataframe\">\n",
       "  <thead>\n",
       "    <tr style=\"text-align: right;\">\n",
       "      <th></th>\n",
       "      <th>text</th>\n",
       "      <th>toxic</th>\n",
       "      <th>lemm_text</th>\n",
       "    </tr>\n",
       "  </thead>\n",
       "  <tbody>\n",
       "    <tr>\n",
       "      <th>12433</th>\n",
       "      <td>\"\\nthank you toddst1 for unblocking me. regard...</td>\n",
       "      <td>0</td>\n",
       "      <td>thank toddst1 unblock rollback explain happen ...</td>\n",
       "    </tr>\n",
       "    <tr>\n",
       "      <th>1995</th>\n",
       "      <td>makingdeath threats and leaving your ip addres...</td>\n",
       "      <td>1</td>\n",
       "      <td>makingdeath threat leave ip address height stu...</td>\n",
       "    </tr>\n",
       "    <tr>\n",
       "      <th>10657</th>\n",
       "      <td>2008 (utc)\\n\\nah!  blanking the bits you don't...</td>\n",
       "      <td>0</td>\n",
       "      <td>utc ah blank bit like include justified vandal...</td>\n",
       "    </tr>\n",
       "    <tr>\n",
       "      <th>8025</th>\n",
       "      <td>\"\\n\\n some minor revisions to the 1st paragrap...</td>\n",
       "      <td>0</td>\n",
       "      <td>minor revision 1st paragraph definition sectio...</td>\n",
       "    </tr>\n",
       "    <tr>\n",
       "      <th>4766</th>\n",
       "      <td>\"\\n\\nonce again !!!!\\n\\nyou continue to fail t...</td>\n",
       "      <td>0</td>\n",
       "      <td>continue fail address fact vandalism define te...</td>\n",
       "    </tr>\n",
       "    <tr>\n",
       "      <th>6265</th>\n",
       "      <td>fuck your mama u fucking suck mother fucker</td>\n",
       "      <td>1</td>\n",
       "      <td>fuck mama u fucking suck mother fucker</td>\n",
       "    </tr>\n",
       "    <tr>\n",
       "      <th>9428</th>\n",
       "      <td>yadda yadda yadda. nothing you've just said is...</td>\n",
       "      <td>1</td>\n",
       "      <td>yadda yadda yadda say relavent clearly know ad...</td>\n",
       "    </tr>\n",
       "    <tr>\n",
       "      <th>10568</th>\n",
       "      <td>dear hindu friend: thank you for your contribu...</td>\n",
       "      <td>0</td>\n",
       "      <td>dear hindu friend thank contribution guess idl...</td>\n",
       "    </tr>\n",
       "    <tr>\n",
       "      <th>15032</th>\n",
       "      <td>\"::would \"\"(religious)\"\" be a better disambigu...</td>\n",
       "      <td>0</td>\n",
       "      <td>religious well disambiguator</td>\n",
       "    </tr>\n",
       "    <tr>\n",
       "      <th>11923</th>\n",
       "      <td>regardless. dont ever touch my user page again...</td>\n",
       "      <td>0</td>\n",
       "      <td>regardless not touch user page get mgiht team ...</td>\n",
       "    </tr>\n",
       "  </tbody>\n",
       "</table>\n",
       "</div>"
      ],
      "text/plain": [
       "                                                    text  toxic  \\\n",
       "12433  \"\\nthank you toddst1 for unblocking me. regard...      0   \n",
       "1995   makingdeath threats and leaving your ip addres...      1   \n",
       "10657  2008 (utc)\\n\\nah!  blanking the bits you don't...      0   \n",
       "8025   \"\\n\\n some minor revisions to the 1st paragrap...      0   \n",
       "4766   \"\\n\\nonce again !!!!\\n\\nyou continue to fail t...      0   \n",
       "6265         fuck your mama u fucking suck mother fucker      1   \n",
       "9428   yadda yadda yadda. nothing you've just said is...      1   \n",
       "10568  dear hindu friend: thank you for your contribu...      0   \n",
       "15032  \"::would \"\"(religious)\"\" be a better disambigu...      0   \n",
       "11923  regardless. dont ever touch my user page again...      0   \n",
       "\n",
       "                                               lemm_text  \n",
       "12433  thank toddst1 unblock rollback explain happen ...  \n",
       "1995   makingdeath threat leave ip address height stu...  \n",
       "10657  utc ah blank bit like include justified vandal...  \n",
       "8025   minor revision 1st paragraph definition sectio...  \n",
       "4766   continue fail address fact vandalism define te...  \n",
       "6265              fuck mama u fucking suck mother fucker  \n",
       "9428   yadda yadda yadda say relavent clearly know ad...  \n",
       "10568  dear hindu friend thank contribution guess idl...  \n",
       "15032                       religious well disambiguator  \n",
       "11923  regardless not touch user page get mgiht team ...  "
      ]
     },
     "execution_count": 8,
     "metadata": {},
     "output_type": "execute_result"
    }
   ],
   "source": [
    "short_df.sample(10)"
   ]
  },
  {
   "cell_type": "markdown",
   "id": "b2e90cd4",
   "metadata": {
    "papermill": {
     "duration": 0.018314,
     "end_time": "2022-08-01T21:22:42.221483",
     "exception": false,
     "start_time": "2022-08-01T21:22:42.203169",
     "status": "completed"
    },
    "tags": []
   },
   "source": [
    "Обзначим фичи и таргет"
   ]
  },
  {
   "cell_type": "code",
   "execution_count": 9,
   "id": "dd66ff73",
   "metadata": {
    "execution": {
     "iopub.execute_input": "2022-08-01T21:22:42.260376Z",
     "iopub.status.busy": "2022-08-01T21:22:42.259504Z",
     "iopub.status.idle": "2022-08-01T21:22:42.266766Z",
     "shell.execute_reply": "2022-08-01T21:22:42.265790Z"
    },
    "papermill": {
     "duration": 0.028874,
     "end_time": "2022-08-01T21:22:42.268806",
     "exception": false,
     "start_time": "2022-08-01T21:22:42.239932",
     "status": "completed"
    },
    "tags": []
   },
   "outputs": [
    {
     "data": {
      "text/plain": [
       "((15957,), (15957,))"
      ]
     },
     "execution_count": 9,
     "metadata": {},
     "output_type": "execute_result"
    }
   ],
   "source": [
    "X_tfidf = short_df['lemm_text']\n",
    "y_tfidf = short_df['toxic']\n",
    "X_tfidf.shape, y_tfidf.shape"
   ]
  },
  {
   "cell_type": "markdown",
   "id": "f8ccd6db",
   "metadata": {
    "papermill": {
     "duration": 0.018663,
     "end_time": "2022-08-01T21:22:42.306672",
     "exception": false,
     "start_time": "2022-08-01T21:22:42.288009",
     "status": "completed"
    },
    "tags": []
   },
   "source": [
    "Разобьем выборку на трейн и тест"
   ]
  },
  {
   "cell_type": "code",
   "execution_count": 10,
   "id": "25d81d2b",
   "metadata": {
    "execution": {
     "iopub.execute_input": "2022-08-01T21:22:42.346437Z",
     "iopub.status.busy": "2022-08-01T21:22:42.345382Z",
     "iopub.status.idle": "2022-08-01T21:22:42.356430Z",
     "shell.execute_reply": "2022-08-01T21:22:42.355452Z"
    },
    "papermill": {
     "duration": 0.032837,
     "end_time": "2022-08-01T21:22:42.358527",
     "exception": false,
     "start_time": "2022-08-01T21:22:42.325690",
     "status": "completed"
    },
    "tags": []
   },
   "outputs": [
    {
     "data": {
      "text/plain": [
       "((11967,), (3990,), (11967,), (3990,))"
      ]
     },
     "execution_count": 10,
     "metadata": {},
     "output_type": "execute_result"
    }
   ],
   "source": [
    "X_train_tfidf, X_test_tfidf, y_train_tfidf, y_test_tfidf = train_test_split(X_tfidf, \n",
    "                                                                            y_tfidf, \n",
    "                                                                            test_size=0.25, \n",
    "                                                                            random_state=2007)\n",
    "\n",
    "X_train_tfidf.shape, X_test_tfidf.shape, y_train_tfidf.shape, y_test_tfidf.shape"
   ]
  },
  {
   "cell_type": "markdown",
   "id": "7c6cb9ef",
   "metadata": {
    "papermill": {
     "duration": 0.018533,
     "end_time": "2022-08-01T21:22:42.395791",
     "exception": false,
     "start_time": "2022-08-01T21:22:42.377258",
     "status": "completed"
    },
    "tags": []
   },
   "source": [
    "Превратим наш набор слов в векторы"
   ]
  },
  {
   "cell_type": "code",
   "execution_count": 11,
   "id": "90dd2c77",
   "metadata": {
    "execution": {
     "iopub.execute_input": "2022-08-01T21:22:42.435881Z",
     "iopub.status.busy": "2022-08-01T21:22:42.435549Z",
     "iopub.status.idle": "2022-08-01T21:22:43.107055Z",
     "shell.execute_reply": "2022-08-01T21:22:43.105982Z"
    },
    "papermill": {
     "duration": 0.693989,
     "end_time": "2022-08-01T21:22:43.109748",
     "exception": false,
     "start_time": "2022-08-01T21:22:42.415759",
     "status": "completed"
    },
    "tags": []
   },
   "outputs": [
    {
     "name": "stdout",
     "output_type": "stream",
     "text": [
      "CPU times: user 651 ms, sys: 9 ms, total: 660 ms\n",
      "Wall time: 666 ms\n"
     ]
    }
   ],
   "source": [
    "%%time\n",
    "vect = TfidfVectorizer()\n",
    "X_train_tfidf = vect.fit_transform(X_train_tfidf) \n",
    "X_test_tfidf = vect.transform(X_test_tfidf) "
   ]
  },
  {
   "cell_type": "markdown",
   "id": "5f9bc020",
   "metadata": {
    "papermill": {
     "duration": 0.018759,
     "end_time": "2022-08-01T21:22:43.148293",
     "exception": false,
     "start_time": "2022-08-01T21:22:43.129534",
     "status": "completed"
    },
    "tags": []
   },
   "source": [
    "К обучению моделей все готово."
   ]
  },
  {
   "cell_type": "markdown",
   "id": "b0183945",
   "metadata": {
    "papermill": {
     "duration": 0.018714,
     "end_time": "2022-08-01T21:22:43.186030",
     "exception": false,
     "start_time": "2022-08-01T21:22:43.167316",
     "status": "completed"
    },
    "tags": []
   },
   "source": [
    "### TF-IDF + CatBoost\n",
    "Настроем Pool и параметры, укажем вес классов"
   ]
  },
  {
   "cell_type": "markdown",
   "id": "c4b913f1",
   "metadata": {
    "papermill": {
     "duration": 0.018983,
     "end_time": "2022-08-01T21:22:43.224529",
     "exception": false,
     "start_time": "2022-08-01T21:22:43.205546",
     "status": "completed"
    },
    "tags": []
   },
   "source": [
    "Создаем Pool"
   ]
  },
  {
   "cell_type": "code",
   "execution_count": 12,
   "id": "d57e145c",
   "metadata": {
    "execution": {
     "iopub.execute_input": "2022-08-01T21:22:43.264679Z",
     "iopub.status.busy": "2022-08-01T21:22:43.263610Z",
     "iopub.status.idle": "2022-08-01T21:22:43.401624Z",
     "shell.execute_reply": "2022-08-01T21:22:43.400435Z"
    },
    "papermill": {
     "duration": 0.16065,
     "end_time": "2022-08-01T21:22:43.404163",
     "exception": false,
     "start_time": "2022-08-01T21:22:43.243513",
     "status": "completed"
    },
    "tags": []
   },
   "outputs": [],
   "source": [
    "train_data_cb = Pool(X_train_tfidf, \n",
    "                    y_train_tfidf)\n",
    "\n",
    "test_data_cb = Pool(X_test_tfidf, \n",
    "                    y_test_tfidf)"
   ]
  },
  {
   "cell_type": "markdown",
   "id": "8a3846aa",
   "metadata": {
    "papermill": {
     "duration": 0.018924,
     "end_time": "2022-08-01T21:22:43.442430",
     "exception": false,
     "start_time": "2022-08-01T21:22:43.423506",
     "status": "completed"
    },
    "tags": []
   },
   "source": [
    "Взвесим классы, чтобы лучше настроить модель"
   ]
  },
  {
   "cell_type": "code",
   "execution_count": 13,
   "id": "4ac5e894",
   "metadata": {
    "execution": {
     "iopub.execute_input": "2022-08-01T21:22:43.482641Z",
     "iopub.status.busy": "2022-08-01T21:22:43.481928Z",
     "iopub.status.idle": "2022-08-01T21:22:43.489664Z",
     "shell.execute_reply": "2022-08-01T21:22:43.488745Z"
    },
    "papermill": {
     "duration": 0.029864,
     "end_time": "2022-08-01T21:22:43.491782",
     "exception": false,
     "start_time": "2022-08-01T21:22:43.461918",
     "status": "completed"
    },
    "tags": []
   },
   "outputs": [
    {
     "data": {
      "text/plain": [
       "[1, 8.543062200956937]"
      ]
     },
     "execution_count": 13,
     "metadata": {},
     "output_type": "execute_result"
    }
   ],
   "source": [
    "cw = [1,(y_train_tfidf==0).sum() / (y_train_tfidf==1).sum()]\n",
    "cw"
   ]
  },
  {
   "cell_type": "markdown",
   "id": "ff000e90",
   "metadata": {
    "papermill": {
     "duration": 0.01878,
     "end_time": "2022-08-01T21:22:43.529673",
     "exception": false,
     "start_time": "2022-08-01T21:22:43.510893",
     "status": "completed"
    },
    "tags": []
   },
   "source": [
    "Объявим параметры модели"
   ]
  },
  {
   "cell_type": "code",
   "execution_count": 14,
   "id": "030847bc",
   "metadata": {
    "execution": {
     "iopub.execute_input": "2022-08-01T21:22:43.569483Z",
     "iopub.status.busy": "2022-08-01T21:22:43.568587Z",
     "iopub.status.idle": "2022-08-01T21:22:43.574058Z",
     "shell.execute_reply": "2022-08-01T21:22:43.573176Z"
    },
    "papermill": {
     "duration": 0.027656,
     "end_time": "2022-08-01T21:22:43.576172",
     "exception": false,
     "start_time": "2022-08-01T21:22:43.548516",
     "status": "completed"
    },
    "tags": []
   },
   "outputs": [],
   "source": [
    "params_cb = {'eval_metric': 'F1', \n",
    "             'loss_function': 'Logloss',\n",
    "             'learning_rate': 0.1,\n",
    "             'random_seed': 42,\n",
    "             'verbose':100,\n",
    "             'depth':10,\n",
    "             'l2_leaf_reg':9}"
   ]
  },
  {
   "cell_type": "markdown",
   "id": "32611b62",
   "metadata": {
    "papermill": {
     "duration": 0.018943,
     "end_time": "2022-08-01T21:22:43.614343",
     "exception": false,
     "start_time": "2022-08-01T21:22:43.595400",
     "status": "completed"
    },
    "tags": []
   },
   "source": [
    "Оcтавим дефолтное значение. Все готово к обучению!"
   ]
  },
  {
   "cell_type": "markdown",
   "id": "650ac82b",
   "metadata": {
    "papermill": {
     "duration": 0.018748,
     "end_time": "2022-08-01T21:22:43.652044",
     "exception": false,
     "start_time": "2022-08-01T21:22:43.633296",
     "status": "completed"
    },
    "tags": []
   },
   "source": [
    "### BERT + Логит"
   ]
  },
  {
   "cell_type": "markdown",
   "id": "cceeb1c7",
   "metadata": {
    "papermill": {
     "duration": 0.019425,
     "end_time": "2022-08-01T21:22:43.690700",
     "exception": false,
     "start_time": "2022-08-01T21:22:43.671275",
     "status": "completed"
    },
    "tags": []
   },
   "source": [
    "Оставим в предложениях только английские слова, используя регулярные выражения"
   ]
  },
  {
   "cell_type": "markdown",
   "id": "30a520c7",
   "metadata": {
    "execution": {
     "iopub.execute_input": "2022-07-12T10:16:04.345338Z",
     "iopub.status.busy": "2022-07-12T10:16:04.344678Z",
     "iopub.status.idle": "2022-07-12T10:16:04.349551Z",
     "shell.execute_reply": "2022-07-12T10:16:04.348548Z",
     "shell.execute_reply.started": "2022-07-12T10:16:04.345301Z"
    },
    "id": "Nwzs-DGB1uQh",
    "papermill": {
     "duration": 0.018753,
     "end_time": "2022-08-01T21:22:43.728511",
     "exception": false,
     "start_time": "2022-08-01T21:22:43.709758",
     "status": "completed"
    },
    "tags": []
   },
   "source": [
    "Загрузим токенайзер"
   ]
  },
  {
   "cell_type": "code",
   "execution_count": 15,
   "id": "b384503a",
   "metadata": {
    "execution": {
     "iopub.execute_input": "2022-08-01T21:22:43.768799Z",
     "iopub.status.busy": "2022-08-01T21:22:43.767659Z",
     "iopub.status.idle": "2022-08-01T21:22:47.580097Z",
     "shell.execute_reply": "2022-08-01T21:22:47.579183Z"
    },
    "id": "IPV1qxTzmO4U",
    "outputId": "1fdff6be-f731-46e3-cc26-58234be126f8",
    "papermill": {
     "duration": 3.834888,
     "end_time": "2022-08-01T21:22:47.582391",
     "exception": false,
     "start_time": "2022-08-01T21:22:43.747503",
     "status": "completed"
    },
    "tags": []
   },
   "outputs": [
    {
     "data": {
      "application/vnd.jupyter.widget-view+json": {
       "model_id": "9ed598ed9fad4c409b7fd6fabb05eda9",
       "version_major": 2,
       "version_minor": 0
      },
      "text/plain": [
       "Downloading:   0%|          | 0.00/226k [00:00<?, ?B/s]"
      ]
     },
     "metadata": {},
     "output_type": "display_data"
    },
    {
     "data": {
      "application/vnd.jupyter.widget-view+json": {
       "model_id": "f46c46ec9d7246aa9b09e9dfc03cfed4",
       "version_major": 2,
       "version_minor": 0
      },
      "text/plain": [
       "Downloading:   0%|          | 0.00/112 [00:00<?, ?B/s]"
      ]
     },
     "metadata": {},
     "output_type": "display_data"
    },
    {
     "data": {
      "application/vnd.jupyter.widget-view+json": {
       "model_id": "5ac5e3dc8ac74f3eaa0decdae3d21e35",
       "version_major": 2,
       "version_minor": 0
      },
      "text/plain": [
       "Downloading:   0%|          | 0.00/174 [00:00<?, ?B/s]"
      ]
     },
     "metadata": {},
     "output_type": "display_data"
    },
    {
     "data": {
      "application/vnd.jupyter.widget-view+json": {
       "model_id": "a19bc3ed19e14224aeb1240c3d25b7c9",
       "version_major": 2,
       "version_minor": 0
      },
      "text/plain": [
       "Downloading:   0%|          | 0.00/811 [00:00<?, ?B/s]"
      ]
     },
     "metadata": {},
     "output_type": "display_data"
    }
   ],
   "source": [
    "tokenizer = transformers.BertTokenizer.from_pretrained('unitary/toxic-bert')"
   ]
  },
  {
   "cell_type": "markdown",
   "id": "abbe8587",
   "metadata": {
    "execution": {
     "iopub.execute_input": "2022-07-14T10:07:37.399117Z",
     "iopub.status.busy": "2022-07-14T10:07:37.398684Z",
     "iopub.status.idle": "2022-07-14T10:07:37.493116Z",
     "shell.execute_reply": "2022-07-14T10:07:37.491301Z",
     "shell.execute_reply.started": "2022-07-14T10:07:37.399031Z"
    },
    "papermill": {
     "duration": 0.020599,
     "end_time": "2022-08-01T21:22:47.623634",
     "exception": false,
     "start_time": "2022-08-01T21:22:47.603035",
     "status": "completed"
    },
    "tags": []
   },
   "source": [
    "Собственно, токенизируем"
   ]
  },
  {
   "cell_type": "code",
   "execution_count": 16,
   "id": "b15bd6eb",
   "metadata": {
    "execution": {
     "iopub.execute_input": "2022-08-01T21:22:47.665775Z",
     "iopub.status.busy": "2022-08-01T21:22:47.665399Z",
     "iopub.status.idle": "2022-08-01T21:23:37.375265Z",
     "shell.execute_reply": "2022-08-01T21:23:37.374221Z"
    },
    "papermill": {
     "duration": 49.753595,
     "end_time": "2022-08-01T21:23:37.397938",
     "exception": false,
     "start_time": "2022-08-01T21:22:47.644343",
     "status": "completed"
    },
    "tags": []
   },
   "outputs": [
    {
     "name": "stdout",
     "output_type": "stream",
     "text": [
      "CPU times: user 49.4 s, sys: 102 ms, total: 49.5 s\n",
      "Wall time: 49.7 s\n"
     ]
    }
   ],
   "source": [
    "%%time\n",
    "tokenized = short_df['text'].apply(\n",
    "    lambda x: tokenizer.encode(x, \n",
    "                               add_special_tokens=True, \n",
    "                               max_length=512, \n",
    "                               truncation=True))"
   ]
  },
  {
   "cell_type": "markdown",
   "id": "4a856364",
   "metadata": {
    "papermill": {
     "duration": 0.019848,
     "end_time": "2022-08-01T21:23:37.438970",
     "exception": false,
     "start_time": "2022-08-01T21:23:37.419122",
     "status": "completed"
    },
    "tags": []
   },
   "source": [
    "Оставим только 15900 строк, т.к. батчи будут по 100 элементов, и нам необходимо иметь и фичи, и таргеты, кратными им"
   ]
  },
  {
   "cell_type": "code",
   "execution_count": 17,
   "id": "bff15303",
   "metadata": {
    "execution": {
     "iopub.execute_input": "2022-08-01T21:23:37.481379Z",
     "iopub.status.busy": "2022-08-01T21:23:37.480783Z",
     "iopub.status.idle": "2022-08-01T21:23:37.488157Z",
     "shell.execute_reply": "2022-08-01T21:23:37.487201Z"
    },
    "papermill": {
     "duration": 0.030971,
     "end_time": "2022-08-01T21:23:37.490308",
     "exception": false,
     "start_time": "2022-08-01T21:23:37.459337",
     "status": "completed"
    },
    "tags": []
   },
   "outputs": [
    {
     "data": {
      "text/plain": [
       "((15900, 3), (15900,))"
      ]
     },
     "execution_count": 17,
     "metadata": {},
     "output_type": "execute_result"
    }
   ],
   "source": [
    "short_df = short_df[0:15900]\n",
    "tokenized = tokenized[0:15900]\n",
    "short_df.shape, tokenized.shape"
   ]
  },
  {
   "cell_type": "markdown",
   "id": "8ee94aac",
   "metadata": {
    "papermill": {
     "duration": 0.01964,
     "end_time": "2022-08-01T21:23:37.530515",
     "exception": false,
     "start_time": "2022-08-01T21:23:37.510875",
     "status": "completed"
    },
    "tags": []
   },
   "source": [
    "Выровняем длины строк, добавив коротким строкам нули и сохраним в маску строки без них."
   ]
  },
  {
   "cell_type": "code",
   "execution_count": 18,
   "id": "dce968be",
   "metadata": {
    "execution": {
     "iopub.execute_input": "2022-08-01T21:23:37.572607Z",
     "iopub.status.busy": "2022-08-01T21:23:37.571590Z",
     "iopub.status.idle": "2022-08-01T21:23:38.829736Z",
     "shell.execute_reply": "2022-08-01T21:23:38.828714Z"
    },
    "id": "-BEqi7fj0wGK",
    "papermill": {
     "duration": 1.281837,
     "end_time": "2022-08-01T21:23:38.832338",
     "exception": false,
     "start_time": "2022-08-01T21:23:37.550501",
     "status": "completed"
    },
    "tags": []
   },
   "outputs": [],
   "source": [
    "padded = np.array([i + [0]*(512 - len(i)) for i in tokenized.values])\n",
    "\n",
    "attention_mask = np.where(padded != 0, 1, 0)"
   ]
  },
  {
   "cell_type": "markdown",
   "id": "b9a43e77",
   "metadata": {
    "papermill": {
     "duration": 0.019819,
     "end_time": "2022-08-01T21:23:38.872755",
     "exception": false,
     "start_time": "2022-08-01T21:23:38.852936",
     "status": "completed"
    },
    "tags": []
   },
   "source": [
    "Создадим копию класса модели и укажем, что будем работать с GPU"
   ]
  },
  {
   "cell_type": "code",
   "execution_count": 19,
   "id": "2dc2ad75",
   "metadata": {
    "execution": {
     "iopub.execute_input": "2022-08-01T21:23:38.915839Z",
     "iopub.status.busy": "2022-08-01T21:23:38.914970Z",
     "iopub.status.idle": "2022-08-01T21:23:55.117425Z",
     "shell.execute_reply": "2022-08-01T21:23:55.116422Z"
    },
    "papermill": {
     "duration": 16.226881,
     "end_time": "2022-08-01T21:23:55.119936",
     "exception": false,
     "start_time": "2022-08-01T21:23:38.893055",
     "status": "completed"
    },
    "tags": []
   },
   "outputs": [
    {
     "data": {
      "application/vnd.jupyter.widget-view+json": {
       "model_id": "5a6bff94bbad4ae2b4ba208c100334d5",
       "version_major": 2,
       "version_minor": 0
      },
      "text/plain": [
       "Downloading:   0%|          | 0.00/418M [00:00<?, ?B/s]"
      ]
     },
     "metadata": {},
     "output_type": "display_data"
    },
    {
     "name": "stderr",
     "output_type": "stream",
     "text": [
      "Some weights of the model checkpoint at unitary/toxic-bert were not used when initializing BertModel: ['classifier.bias', 'classifier.weight']\n",
      "- This IS expected if you are initializing BertModel from the checkpoint of a model trained on another task or with another architecture (e.g. initializing a BertForSequenceClassification model from a BertForPreTraining model).\n",
      "- This IS NOT expected if you are initializing BertModel from the checkpoint of a model that you expect to be exactly identical (initializing a BertForSequenceClassification model from a BertForSequenceClassification model).\n"
     ]
    }
   ],
   "source": [
    "device = torch.device(\"cuda:0\") if torch.cuda.is_available() else torch.device(\"cpu\")\n",
    "\n",
    "BERT_model = transformers.BertModel.from_pretrained('unitary/toxic-bert')\n",
    "BERT_model = BERT_model.to(device)"
   ]
  },
  {
   "cell_type": "markdown",
   "id": "f3e0aba0",
   "metadata": {
    "papermill": {
     "duration": 0.020541,
     "end_time": "2022-08-01T21:23:55.161328",
     "exception": false,
     "start_time": "2022-08-01T21:23:55.140787",
     "status": "completed"
    },
    "tags": []
   },
   "source": [
    "Нарежем батчей, создадим эмбеддинги"
   ]
  },
  {
   "cell_type": "code",
   "execution_count": 20,
   "id": "fb0628f2",
   "metadata": {
    "execution": {
     "iopub.execute_input": "2022-08-01T21:23:55.204808Z",
     "iopub.status.busy": "2022-08-01T21:23:55.203817Z",
     "iopub.status.idle": "2022-08-01T21:28:07.104911Z",
     "shell.execute_reply": "2022-08-01T21:28:07.103941Z"
    },
    "papermill": {
     "duration": 251.940186,
     "end_time": "2022-08-01T21:28:07.121886",
     "exception": false,
     "start_time": "2022-08-01T21:23:55.181700",
     "status": "completed"
    },
    "tags": []
   },
   "outputs": [
    {
     "data": {
      "application/vnd.jupyter.widget-view+json": {
       "model_id": "c3cbd159148248d1b01010204eef7a4e",
       "version_major": 2,
       "version_minor": 0
      },
      "text/plain": [
       "  0%|          | 0/159 [00:00<?, ?it/s]"
      ]
     },
     "metadata": {},
     "output_type": "display_data"
    },
    {
     "name": "stdout",
     "output_type": "stream",
     "text": [
      "CPU times: user 4min 10s, sys: 364 ms, total: 4min 10s\n",
      "Wall time: 4min 11s\n"
     ]
    }
   ],
   "source": [
    "%%time\n",
    "batch_size = 100\n",
    "embeddings = [] \n",
    "for i in notebook.tqdm(range(padded.shape[0] // batch_size)):\n",
    "        batch = torch.LongTensor(padded[batch_size*i:batch_size*(i+1)]).to(device)\n",
    "        attention_mask_batch = torch.LongTensor(attention_mask[batch_size*i:batch_size*(i+1)]).to(device)\n",
    "\n",
    "        with torch.no_grad():\n",
    "            BERT_model\n",
    "            batch_embeddings = BERT_model(batch, attention_mask=attention_mask_batch)\n",
    "\n",
    "        embeddings.append(batch_embeddings[0][:,0,:].cpu().numpy())\n",
    "        \n",
    "        del batch\n",
    "        del attention_mask_batch\n",
    "        del batch_embeddings\n",
    "\n",
    "features = np.concatenate(embeddings) "
   ]
  },
  {
   "cell_type": "markdown",
   "id": "d31f43d8",
   "metadata": {
    "papermill": {
     "duration": 0.020536,
     "end_time": "2022-08-01T21:28:07.162816",
     "exception": false,
     "start_time": "2022-08-01T21:28:07.142280",
     "status": "completed"
    },
    "tags": []
   },
   "source": [
    "Объявим фичи и таргет"
   ]
  },
  {
   "cell_type": "code",
   "execution_count": 21,
   "id": "e34d4e88",
   "metadata": {
    "execution": {
     "iopub.execute_input": "2022-08-01T21:28:07.205466Z",
     "iopub.status.busy": "2022-08-01T21:28:07.205091Z",
     "iopub.status.idle": "2022-08-01T21:28:07.227827Z",
     "shell.execute_reply": "2022-08-01T21:28:07.226722Z"
    },
    "papermill": {
     "duration": 0.047041,
     "end_time": "2022-08-01T21:28:07.230380",
     "exception": false,
     "start_time": "2022-08-01T21:28:07.183339",
     "status": "completed"
    },
    "tags": []
   },
   "outputs": [
    {
     "data": {
      "text/plain": [
       "((15900, 768), (15900,))"
      ]
     },
     "execution_count": 21,
     "metadata": {},
     "output_type": "execute_result"
    }
   ],
   "source": [
    "X_bert = np.concatenate(embeddings)\n",
    "y_bert = short_df['toxic']\n",
    "X_bert.shape, y_bert.shape"
   ]
  },
  {
   "cell_type": "markdown",
   "id": "fc8ce075",
   "metadata": {
    "papermill": {
     "duration": 0.020593,
     "end_time": "2022-08-01T21:28:07.272483",
     "exception": false,
     "start_time": "2022-08-01T21:28:07.251890",
     "status": "completed"
    },
    "tags": []
   },
   "source": [
    "Раделим на трейн и тест"
   ]
  },
  {
   "cell_type": "code",
   "execution_count": 22,
   "id": "eae36fe9",
   "metadata": {
    "execution": {
     "iopub.execute_input": "2022-08-01T21:28:07.316166Z",
     "iopub.status.busy": "2022-08-01T21:28:07.315229Z",
     "iopub.status.idle": "2022-08-01T21:28:07.335471Z",
     "shell.execute_reply": "2022-08-01T21:28:07.334400Z"
    },
    "papermill": {
     "duration": 0.044645,
     "end_time": "2022-08-01T21:28:07.337932",
     "exception": false,
     "start_time": "2022-08-01T21:28:07.293287",
     "status": "completed"
    },
    "tags": []
   },
   "outputs": [
    {
     "data": {
      "text/plain": [
       "((11925, 768), (3975, 768), (11925,), (3975,))"
      ]
     },
     "execution_count": 22,
     "metadata": {},
     "output_type": "execute_result"
    }
   ],
   "source": [
    "X_train_bert, X_test_bert, y_train_bert, y_test_bert = train_test_split(X_bert, \n",
    "                                                           y_bert, \n",
    "                                                           test_size=0.25, \n",
    "                                                           random_state=2007)\n",
    "\n",
    "X_train_bert.shape, X_test_bert.shape, y_train_bert.shape, y_test_bert.shape"
   ]
  },
  {
   "cell_type": "markdown",
   "id": "58a86278",
   "metadata": {
    "papermill": {
     "duration": 0.020394,
     "end_time": "2022-08-01T21:28:07.379112",
     "exception": false,
     "start_time": "2022-08-01T21:28:07.358718",
     "status": "completed"
    },
    "tags": []
   },
   "source": [
    "Можно на подиум"
   ]
  },
  {
   "cell_type": "markdown",
   "id": "1f9fc9ce",
   "metadata": {
    "papermill": {
     "duration": 0.020547,
     "end_time": "2022-08-01T21:28:07.420747",
     "exception": false,
     "start_time": "2022-08-01T21:28:07.400200",
     "status": "completed"
    },
    "tags": []
   },
   "source": [
    "### BERT + CatBoost\n",
    "Объявим Pool, зададим вес классов."
   ]
  },
  {
   "cell_type": "code",
   "execution_count": 23,
   "id": "a31f8f7c",
   "metadata": {
    "execution": {
     "iopub.execute_input": "2022-08-01T21:28:07.463803Z",
     "iopub.status.busy": "2022-08-01T21:28:07.463446Z",
     "iopub.status.idle": "2022-08-01T21:28:07.966111Z",
     "shell.execute_reply": "2022-08-01T21:28:07.965181Z"
    },
    "papermill": {
     "duration": 0.52708,
     "end_time": "2022-08-01T21:28:07.968362",
     "exception": false,
     "start_time": "2022-08-01T21:28:07.441282",
     "status": "completed"
    },
    "tags": []
   },
   "outputs": [],
   "source": [
    "train_data_cb_bert = Pool(X_train_bert, \n",
    "                    y_train_bert)\n",
    "\n",
    "test_data_cb_bert = Pool(X_test_bert, \n",
    "                    y_test_bert)"
   ]
  },
  {
   "cell_type": "code",
   "execution_count": 24,
   "id": "7cd43ea1",
   "metadata": {
    "execution": {
     "iopub.execute_input": "2022-08-01T21:28:08.019200Z",
     "iopub.status.busy": "2022-08-01T21:28:08.018269Z",
     "iopub.status.idle": "2022-08-01T21:28:08.026584Z",
     "shell.execute_reply": "2022-08-01T21:28:08.025597Z"
    },
    "papermill": {
     "duration": 0.039249,
     "end_time": "2022-08-01T21:28:08.028911",
     "exception": false,
     "start_time": "2022-08-01T21:28:07.989662",
     "status": "completed"
    },
    "tags": []
   },
   "outputs": [
    {
     "data": {
      "text/plain": [
       "[1, 8.750613246116108]"
      ]
     },
     "execution_count": 24,
     "metadata": {},
     "output_type": "execute_result"
    }
   ],
   "source": [
    "cw_bert = [1,(y_train_bert==0).sum() / (y_train_bert==1).sum()]\n",
    "cw_bert"
   ]
  },
  {
   "cell_type": "markdown",
   "id": "343d0d52",
   "metadata": {
    "id": "Mgduok7jjrI-",
    "papermill": {
     "duration": 0.020526,
     "end_time": "2022-08-01T21:28:08.070808",
     "exception": false,
     "start_time": "2022-08-01T21:28:08.050282",
     "status": "completed"
    },
    "tags": []
   },
   "source": [
    "## Обучение"
   ]
  },
  {
   "cell_type": "markdown",
   "id": "91789d8d",
   "metadata": {
    "papermill": {
     "duration": 0.020704,
     "end_time": "2022-08-01T21:28:08.112480",
     "exception": false,
     "start_time": "2022-08-01T21:28:08.091776",
     "status": "completed"
    },
    "tags": []
   },
   "source": [
    "### TF-IDF + Logit\n",
    "Переберем гиперпараметры и обучим модель."
   ]
  },
  {
   "cell_type": "code",
   "execution_count": 25,
   "id": "38323c2d",
   "metadata": {
    "execution": {
     "iopub.execute_input": "2022-08-01T21:28:08.163092Z",
     "iopub.status.busy": "2022-08-01T21:28:08.162150Z",
     "iopub.status.idle": "2022-08-01T21:28:08.167782Z",
     "shell.execute_reply": "2022-08-01T21:28:08.166776Z"
    },
    "papermill": {
     "duration": 0.029719,
     "end_time": "2022-08-01T21:28:08.169865",
     "exception": false,
     "start_time": "2022-08-01T21:28:08.140146",
     "status": "completed"
    },
    "tags": []
   },
   "outputs": [],
   "source": [
    "param_grid = {'C': [0.01, 0.1, 1.0, 10, 100],\n",
    "             'tol': [0.0001, 0.001, 0.01, 0.1, 1]}"
   ]
  },
  {
   "cell_type": "code",
   "execution_count": 26,
   "id": "abe29ec6",
   "metadata": {
    "execution": {
     "iopub.execute_input": "2022-08-01T21:28:08.213555Z",
     "iopub.status.busy": "2022-08-01T21:28:08.212930Z",
     "iopub.status.idle": "2022-08-01T21:29:22.127956Z",
     "shell.execute_reply": "2022-08-01T21:29:22.127008Z"
    },
    "papermill": {
     "duration": 74.010149,
     "end_time": "2022-08-01T21:29:22.200723",
     "exception": false,
     "start_time": "2022-08-01T21:28:08.190574",
     "status": "completed"
    },
    "tags": []
   },
   "outputs": [
    {
     "name": "stdout",
     "output_type": "stream",
     "text": [
      "CPU times: user 1min 20s, sys: 54.8 s, total: 2min 15s\n",
      "Wall time: 1min 13s\n"
     ]
    },
    {
     "data": {
      "text/plain": [
       "LogisticRegression(C=10, class_weight='balanced', max_iter=10000,\n",
       "                   random_state=2007)"
      ]
     },
     "execution_count": 26,
     "metadata": {},
     "output_type": "execute_result"
    }
   ],
   "source": [
    "%%time\n",
    "lr_model = LogisticRegression(max_iter=10000, class_weight='balanced', random_state=2007)\n",
    "grid = GridSearchCV(lr_model, param_grid, scoring='f1')\n",
    "grid.fit(X_train_tfidf, y_train_tfidf)\n",
    "grid.best_estimator_"
   ]
  },
  {
   "cell_type": "markdown",
   "id": "62e263f4",
   "metadata": {
    "papermill": {
     "duration": 0.024928,
     "end_time": "2022-08-01T21:29:22.257772",
     "exception": false,
     "start_time": "2022-08-01T21:29:22.232844",
     "status": "completed"
    },
    "tags": []
   },
   "source": [
    "Применим модель на тестовой выборке и оценим метрику F1"
   ]
  },
  {
   "cell_type": "code",
   "execution_count": 27,
   "id": "c0614973",
   "metadata": {
    "execution": {
     "iopub.execute_input": "2022-08-01T21:29:22.301916Z",
     "iopub.status.busy": "2022-08-01T21:29:22.301563Z",
     "iopub.status.idle": "2022-08-01T21:29:22.729210Z",
     "shell.execute_reply": "2022-08-01T21:29:22.728107Z"
    },
    "papermill": {
     "duration": 0.452457,
     "end_time": "2022-08-01T21:29:22.731709",
     "exception": false,
     "start_time": "2022-08-01T21:29:22.279252",
     "status": "completed"
    },
    "tags": []
   },
   "outputs": [
    {
     "name": "stdout",
     "output_type": "stream",
     "text": [
      "0.7334200260078023\n",
      "              precision    recall  f1-score   support\n",
      "\n",
      "           0       0.97      0.97      0.97      3609\n",
      "           1       0.73      0.74      0.73       381\n",
      "\n",
      "    accuracy                           0.95      3990\n",
      "   macro avg       0.85      0.86      0.85      3990\n",
      "weighted avg       0.95      0.95      0.95      3990\n",
      "\n"
     ]
    },
    {
     "name": "stderr",
     "output_type": "stream",
     "text": [
      "/opt/conda/lib/python3.7/site-packages/sklearn/utils/deprecation.py:87: FutureWarning: Function plot_roc_curve is deprecated; Function :func:`plot_roc_curve` is deprecated in 1.0 and will be removed in 1.2. Use one of the class methods: :meth:`sklearn.metric.RocCurveDisplay.from_predictions` or :meth:`sklearn.metric.RocCurveDisplay.from_estimator`.\n",
      "  warnings.warn(msg, category=FutureWarning)\n"
     ]
    },
    {
     "data": {
      "image/png": "[encoded data removed]",
      "text/plain": [
       "<Figure size 432x288 with 1 Axes>"
      ]
     },
     "metadata": {
      "needs_background": "light"
     },
     "output_type": "display_data"
    },
    {
     "data": {
      "image/png": "[encoded data removed]",
      "text/plain": [
       "<Figure size 432x288 with 2 Axes>"
      ]
     },
     "metadata": {
      "needs_background": "light"
     },
     "output_type": "display_data"
    }
   ],
   "source": [
    "y_pred_tfidf = grid.best_estimator_.predict(X_test_tfidf)\n",
    "# напишем функцию по выводу метрик\n",
    "def scoring(model, X_test, y_test, prediction):\n",
    "    print(f1_score(y_test, prediction))\n",
    "    print(classification_report(y_test, prediction))\n",
    "    plot_roc_curve(model, X_test, y_test); \n",
    "    \n",
    "    cm = confusion_matrix(y_test, prediction, labels=model.classes_)\n",
    "    disp = ConfusionMatrixDisplay(confusion_matrix=cm,\n",
    "                                  display_labels=model.classes_)\n",
    "    disp.plot()\n",
    "\n",
    "    plt.show()\n",
    "\n",
    "# применим ее\n",
    "scoring(grid.best_estimator_, X_test_tfidf, y_test_tfidf, y_pred_tfidf)"
   ]
  },
  {
   "cell_type": "markdown",
   "id": "445800f2",
   "metadata": {
    "papermill": {
     "duration": 0.024856,
     "end_time": "2022-08-01T21:29:22.783675",
     "exception": false,
     "start_time": "2022-08-01T21:29:22.758819",
     "status": "completed"
    },
    "tags": []
   },
   "source": [
    "Почти хорошо"
   ]
  },
  {
   "cell_type": "markdown",
   "id": "48626891",
   "metadata": {
    "papermill": {
     "duration": 0.022137,
     "end_time": "2022-08-01T21:29:22.827682",
     "exception": false,
     "start_time": "2022-08-01T21:29:22.805545",
     "status": "completed"
    },
    "tags": []
   },
   "source": [
    "### TF-IDF + CatBoost\n",
    "Теперь обучим кэтбуст и посмотрим на его результаты"
   ]
  },
  {
   "cell_type": "code",
   "execution_count": 28,
   "id": "cbba94f6",
   "metadata": {
    "execution": {
     "iopub.execute_input": "2022-08-01T21:29:22.874201Z",
     "iopub.status.busy": "2022-08-01T21:29:22.873815Z",
     "iopub.status.idle": "2022-08-01T22:12:00.973791Z",
     "shell.execute_reply": "2022-08-01T22:12:00.972644Z"
    },
    "papermill": {
     "duration": 2558.150261,
     "end_time": "2022-08-01T22:12:01.000025",
     "exception": false,
     "start_time": "2022-08-01T21:29:22.849764",
     "status": "completed"
    },
    "tags": []
   },
   "outputs": [
    {
     "name": "stdout",
     "output_type": "stream",
     "text": [
      "0:\tlearn: 0.7006650\ttotal: 2.49s\tremaining: 41m 28s\n",
      "100:\tlearn: 0.8788042\ttotal: 4m 17s\tremaining: 38m 13s\n",
      "200:\tlearn: 0.9473963\ttotal: 8m 34s\tremaining: 34m 4s\n",
      "300:\tlearn: 0.9913019\ttotal: 12m 50s\tremaining: 29m 48s\n",
      "400:\tlearn: 0.9932780\ttotal: 17m 6s\tremaining: 25m 33s\n",
      "500:\tlearn: 0.9946152\ttotal: 21m 22s\tremaining: 21m 17s\n",
      "600:\tlearn: 0.9958634\ttotal: 25m 39s\tremaining: 17m 1s\n",
      "700:\tlearn: 0.9967900\ttotal: 29m 54s\tremaining: 12m 45s\n",
      "800:\tlearn: 0.9977647\ttotal: 34m 9s\tremaining: 8m 29s\n",
      "900:\tlearn: 0.9986018\ttotal: 38m 24s\tremaining: 4m 13s\n",
      "999:\tlearn: 0.9999067\ttotal: 42m 36s\tremaining: 0us\n",
      "CPU times: user 1h 19min 47s, sys: 15.8 s, total: 1h 20min 3s\n",
      "Wall time: 42min 38s\n"
     ]
    },
    {
     "data": {
      "text/plain": [
       "<catboost.core.CatBoostClassifier at 0x7f898dbf0b50>"
      ]
     },
     "execution_count": 28,
     "metadata": {},
     "output_type": "execute_result"
    }
   ],
   "source": [
    "%%time\n",
    "\n",
    "model_cb = CatBoostClassifier(**params_cb, \n",
    "                              class_weights=cw)\n",
    "model_cb.fit(train_data_cb)"
   ]
  },
  {
   "cell_type": "markdown",
   "id": "d30f97a1",
   "metadata": {
    "papermill": {
     "duration": 0.022784,
     "end_time": "2022-08-01T22:12:01.045904",
     "exception": false,
     "start_time": "2022-08-01T22:12:01.023120",
     "status": "completed"
    },
    "tags": []
   },
   "source": [
    "Применим модель на тестовой выборке, оценим метрики"
   ]
  },
  {
   "cell_type": "code",
   "execution_count": 29,
   "id": "3154f8f2",
   "metadata": {
    "execution": {
     "iopub.execute_input": "2022-08-01T22:12:01.094695Z",
     "iopub.status.busy": "2022-08-01T22:12:01.094274Z",
     "iopub.status.idle": "2022-08-01T22:12:01.592715Z",
     "shell.execute_reply": "2022-08-01T22:12:01.591819Z"
    },
    "papermill": {
     "duration": 0.525376,
     "end_time": "2022-08-01T22:12:01.595142",
     "exception": false,
     "start_time": "2022-08-01T22:12:01.069766",
     "status": "completed"
    },
    "tags": []
   },
   "outputs": [
    {
     "name": "stdout",
     "output_type": "stream",
     "text": [
      "0.7560321715817694\n",
      "              precision    recall  f1-score   support\n",
      "\n",
      "           0       0.97      0.98      0.97      3609\n",
      "           1       0.77      0.74      0.76       381\n",
      "\n",
      "    accuracy                           0.95      3990\n",
      "   macro avg       0.87      0.86      0.87      3990\n",
      "weighted avg       0.95      0.95      0.95      3990\n",
      "\n"
     ]
    },
    {
     "name": "stderr",
     "output_type": "stream",
     "text": [
      "/opt/conda/lib/python3.7/site-packages/sklearn/utils/deprecation.py:87: FutureWarning: Function plot_roc_curve is deprecated; Function :func:`plot_roc_curve` is deprecated in 1.0 and will be removed in 1.2. Use one of the class methods: :meth:`sklearn.metric.RocCurveDisplay.from_predictions` or :meth:`sklearn.metric.RocCurveDisplay.from_estimator`.\n",
      "  warnings.warn(msg, category=FutureWarning)\n"
     ]
    },
    {
     "data": {
      "image/png": "[encoded data removed]",
      "text/plain": [
       "<Figure size 432x288 with 1 Axes>"
      ]
     },
     "metadata": {
      "needs_background": "light"
     },
     "output_type": "display_data"
    },
    {
     "data": {
      "image/png": "[encoded data removed]",
      "text/plain": [
       "<Figure size 432x288 with 2 Axes>"
      ]
     },
     "metadata": {
      "needs_background": "light"
     },
     "output_type": "display_data"
    }
   ],
   "source": [
    "y_pred_cb = model_cb.predict(X_test_tfidf)\n",
    "scoring(grid.best_estimator_, X_test_tfidf, y_test_tfidf, y_pred_cb)"
   ]
  },
  {
   "cell_type": "markdown",
   "id": "32110063",
   "metadata": {
    "papermill": {
     "duration": 0.023714,
     "end_time": "2022-08-01T22:12:01.643969",
     "exception": false,
     "start_time": "2022-08-01T22:12:01.620255",
     "status": "completed"
    },
    "tags": []
   },
   "source": [
    "Уже лучше"
   ]
  },
  {
   "cell_type": "markdown",
   "id": "ca692452",
   "metadata": {
    "papermill": {
     "duration": 0.023827,
     "end_time": "2022-08-01T22:12:01.691761",
     "exception": false,
     "start_time": "2022-08-01T22:12:01.667934",
     "status": "completed"
    },
    "tags": []
   },
   "source": [
    "### BERT + Logit\n",
    "Обучим логистическую регрессию на данных"
   ]
  },
  {
   "cell_type": "code",
   "execution_count": 30,
   "id": "eacc1fba",
   "metadata": {
    "execution": {
     "iopub.execute_input": "2022-08-01T22:12:01.742045Z",
     "iopub.status.busy": "2022-08-01T22:12:01.741073Z",
     "iopub.status.idle": "2022-08-01T22:17:35.453569Z",
     "shell.execute_reply": "2022-08-01T22:17:35.452566Z"
    },
    "papermill": {
     "duration": 333.761198,
     "end_time": "2022-08-01T22:17:35.476990",
     "exception": false,
     "start_time": "2022-08-01T22:12:01.715792",
     "status": "completed"
    },
    "tags": []
   },
   "outputs": [
    {
     "name": "stdout",
     "output_type": "stream",
     "text": [
      "CPU times: user 5min 30s, sys: 18.1 s, total: 5min 48s\n",
      "Wall time: 5min 33s\n"
     ]
    },
    {
     "data": {
      "text/plain": [
       "LogisticRegression(random_state=2007, solver='liblinear', tol=0.1)"
      ]
     },
     "execution_count": 30,
     "metadata": {},
     "output_type": "execute_result"
    }
   ],
   "source": [
    "%%time\n",
    "lr_bert_model = LogisticRegression(solver='liblinear', random_state=2007)\n",
    "grid = GridSearchCV(lr_bert_model, param_grid, scoring='f1')\n",
    "grid.fit(X_train_bert, y_train_bert)\n",
    "grid.best_estimator_"
   ]
  },
  {
   "cell_type": "markdown",
   "id": "47d05b2e",
   "metadata": {
    "papermill": {
     "duration": 0.023773,
     "end_time": "2022-08-01T22:17:35.525117",
     "exception": false,
     "start_time": "2022-08-01T22:17:35.501344",
     "status": "completed"
    },
    "tags": []
   },
   "source": [
    "Применим модель на тестовой выборке и оценим метрику F1"
   ]
  },
  {
   "cell_type": "code",
   "execution_count": 31,
   "id": "4d97adea",
   "metadata": {
    "execution": {
     "iopub.execute_input": "2022-08-01T22:17:35.574028Z",
     "iopub.status.busy": "2022-08-01T22:17:35.573653Z",
     "iopub.status.idle": "2022-08-01T22:17:36.023126Z",
     "shell.execute_reply": "2022-08-01T22:17:36.022237Z"
    },
    "papermill": {
     "duration": 0.476541,
     "end_time": "2022-08-01T22:17:36.025444",
     "exception": false,
     "start_time": "2022-08-01T22:17:35.548903",
     "status": "completed"
    },
    "tags": []
   },
   "outputs": [
    {
     "name": "stdout",
     "output_type": "stream",
     "text": [
      "0.9376558603491272\n",
      "              precision    recall  f1-score   support\n",
      "\n",
      "           0       0.99      0.99      0.99      3571\n",
      "           1       0.94      0.93      0.94       404\n",
      "\n",
      "    accuracy                           0.99      3975\n",
      "   macro avg       0.97      0.96      0.97      3975\n",
      "weighted avg       0.99      0.99      0.99      3975\n",
      "\n"
     ]
    },
    {
     "name": "stderr",
     "output_type": "stream",
     "text": [
      "/opt/conda/lib/python3.7/site-packages/sklearn/utils/deprecation.py:87: FutureWarning: Function plot_roc_curve is deprecated; Function :func:`plot_roc_curve` is deprecated in 1.0 and will be removed in 1.2. Use one of the class methods: :meth:`sklearn.metric.RocCurveDisplay.from_predictions` or :meth:`sklearn.metric.RocCurveDisplay.from_estimator`.\n",
      "  warnings.warn(msg, category=FutureWarning)\n"
     ]
    },
    {
     "data": {
      "image/png": "[encoded data removed]",
      "text/plain": [
       "<Figure size 432x288 with 1 Axes>"
      ]
     },
     "metadata": {
      "needs_background": "light"
     },
     "output_type": "display_data"
    },
    {
     "data": {
      "image/png": "[encoded data removed]",
      "text/plain": [
       "<Figure size 432x288 with 2 Axes>"
      ]
     },
     "metadata": {
      "needs_background": "light"
     },
     "output_type": "display_data"
    }
   ],
   "source": [
    "y_pred_bert = grid.best_estimator_.predict(X_test_bert)\n",
    "scoring(grid.best_estimator_, X_test_bert, y_test_bert, y_pred_bert)"
   ]
  },
  {
   "cell_type": "markdown",
   "id": "2b45e203",
   "metadata": {
    "papermill": {
     "duration": 0.024493,
     "end_time": "2022-08-01T22:17:36.075289",
     "exception": false,
     "start_time": "2022-08-01T22:17:36.050796",
     "status": "completed"
    },
    "tags": []
   },
   "source": [
    "Эмбеддинги BERT творят чудеса. Всего 50 ошибок на 3975 строк."
   ]
  },
  {
   "cell_type": "markdown",
   "id": "15217af0",
   "metadata": {
    "papermill": {
     "duration": 0.024255,
     "end_time": "2022-08-01T22:17:36.124294",
     "exception": false,
     "start_time": "2022-08-01T22:17:36.100039",
     "status": "completed"
    },
    "tags": []
   },
   "source": [
    "### BERT + CatBoost\n",
    "Обучим CatBoost на эмбеддингах"
   ]
  },
  {
   "cell_type": "code",
   "execution_count": 32,
   "id": "a6ed1be0",
   "metadata": {
    "execution": {
     "iopub.execute_input": "2022-08-01T22:17:36.176305Z",
     "iopub.status.busy": "2022-08-01T22:17:36.175335Z",
     "iopub.status.idle": "2022-08-01T22:48:21.346215Z",
     "shell.execute_reply": "2022-08-01T22:48:21.345216Z"
    },
    "papermill": {
     "duration": 1845.225499,
     "end_time": "2022-08-01T22:48:21.375086",
     "exception": false,
     "start_time": "2022-08-01T22:17:36.149587",
     "status": "completed"
    },
    "tags": []
   },
   "outputs": [
    {
     "name": "stdout",
     "output_type": "stream",
     "text": [
      "0:\tlearn: 0.9774681\ttotal: 1.78s\tremaining: 29m 36s\n",
      "100:\tlearn: 0.9981812\ttotal: 3m 6s\tremaining: 27m 37s\n",
      "200:\tlearn: 0.9991597\ttotal: 6m 11s\tremaining: 24m 34s\n",
      "300:\tlearn: 0.9994397\ttotal: 9m 15s\tremaining: 21m 31s\n",
      "400:\tlearn: 0.9994397\ttotal: 12m 19s\tremaining: 18m 24s\n",
      "500:\tlearn: 0.9994397\ttotal: 15m 23s\tremaining: 15m 19s\n",
      "600:\tlearn: 0.9994397\ttotal: 18m 27s\tremaining: 12m 15s\n",
      "700:\tlearn: 0.9994397\ttotal: 21m 31s\tremaining: 9m 10s\n",
      "800:\tlearn: 0.9994397\ttotal: 24m 35s\tremaining: 6m 6s\n",
      "900:\tlearn: 0.9994397\ttotal: 27m 39s\tremaining: 3m 2s\n",
      "999:\tlearn: 0.9994397\ttotal: 30m 44s\tremaining: 0us\n",
      "CPU times: user 58min 15s, sys: 6.67 s, total: 58min 22s\n",
      "Wall time: 30min 45s\n"
     ]
    },
    {
     "data": {
      "text/plain": [
       "<catboost.core.CatBoostClassifier at 0x7f898d32eb90>"
      ]
     },
     "execution_count": 32,
     "metadata": {},
     "output_type": "execute_result"
    }
   ],
   "source": [
    "%%time\n",
    "model_cb_bert = CatBoostClassifier(**params_cb,\n",
    "                                   class_weights=cw_bert)\n",
    "\n",
    "model_cb_bert.fit(train_data_cb_bert)"
   ]
  },
  {
   "cell_type": "markdown",
   "id": "db437a06",
   "metadata": {
    "papermill": {
     "duration": 0.026236,
     "end_time": "2022-08-01T22:48:21.426763",
     "exception": false,
     "start_time": "2022-08-01T22:48:21.400527",
     "status": "completed"
    },
    "tags": []
   },
   "source": [
    "Применим модель на тестовой выборке и оценим метрику F1"
   ]
  },
  {
   "cell_type": "code",
   "execution_count": 33,
   "id": "d789d28d",
   "metadata": {
    "execution": {
     "iopub.execute_input": "2022-08-01T22:48:21.480492Z",
     "iopub.status.busy": "2022-08-01T22:48:21.479448Z",
     "iopub.status.idle": "2022-08-01T22:48:22.183192Z",
     "shell.execute_reply": "2022-08-01T22:48:22.182254Z"
    },
    "papermill": {
     "duration": 0.733188,
     "end_time": "2022-08-01T22:48:22.185339",
     "exception": false,
     "start_time": "2022-08-01T22:48:21.452151",
     "status": "completed"
    },
    "tags": []
   },
   "outputs": [
    {
     "name": "stdout",
     "output_type": "stream",
     "text": [
      "0.9330143540669857\n",
      "              precision    recall  f1-score   support\n",
      "\n",
      "           0       1.00      0.99      0.99      3571\n",
      "           1       0.90      0.97      0.93       404\n",
      "\n",
      "    accuracy                           0.99      3975\n",
      "   macro avg       0.95      0.98      0.96      3975\n",
      "weighted avg       0.99      0.99      0.99      3975\n",
      "\n"
     ]
    },
    {
     "name": "stderr",
     "output_type": "stream",
     "text": [
      "/opt/conda/lib/python3.7/site-packages/sklearn/utils/deprecation.py:87: FutureWarning: Function plot_roc_curve is deprecated; Function :func:`plot_roc_curve` is deprecated in 1.0 and will be removed in 1.2. Use one of the class methods: :meth:`sklearn.metric.RocCurveDisplay.from_predictions` or :meth:`sklearn.metric.RocCurveDisplay.from_estimator`.\n",
      "  warnings.warn(msg, category=FutureWarning)\n"
     ]
    },
    {
     "data": {
      "image/png": "[encoded data removed]",
      "text/plain": [
       "<Figure size 432x288 with 1 Axes>"
      ]
     },
     "metadata": {
      "needs_background": "light"
     },
     "output_type": "display_data"
    },
    {
     "data": {
      "image/png": "[encoded data removed]",
      "text/plain": [
       "<Figure size 432x288 with 2 Axes>"
      ]
     },
     "metadata": {
      "needs_background": "light"
     },
     "output_type": "display_data"
    }
   ],
   "source": [
    "y_pred_cb_bert = model_cb_bert.predict(X_test_bert)\n",
    "scoring(model_cb_bert, X_test_bert, y_test_bert, y_pred_cb_bert)"
   ]
  },
  {
   "cell_type": "markdown",
   "id": "de8ec7a2",
   "metadata": {
    "papermill": {
     "duration": 0.026165,
     "end_time": "2022-08-01T22:48:22.239029",
     "exception": false,
     "start_time": "2022-08-01T22:48:22.212864",
     "status": "completed"
    },
    "tags": []
   },
   "source": [
    "Судя, по всему можно было ограничиться 100-200 итерациями или включить early_stopping_rounds. В любом случая, видно, что бустинг превзоршел более простую логитическую регрессию только по полноте."
   ]
  },
  {
   "cell_type": "markdown",
   "id": "3ec80b29",
   "metadata": {
    "id": "qSBnrXAIjrJH",
    "papermill": {
     "duration": 0.02592,
     "end_time": "2022-08-01T22:48:22.291653",
     "exception": false,
     "start_time": "2022-08-01T22:48:22.265733",
     "status": "completed"
    },
    "tags": []
   },
   "source": [
    "## Выводы"
   ]
  },
  {
   "cell_type": "markdown",
   "id": "c4671b32",
   "metadata": {
    "id": "RJ4mQKt1jrJM",
    "papermill": {
     "duration": 0.026413,
     "end_time": "2022-08-01T22:48:22.344944",
     "exception": false,
     "start_time": "2022-08-01T22:48:22.318531",
     "status": "completed"
    },
    "tags": []
   },
   "source": [
    "Из всех путей решения задачи классификации текстов с точки зрения метрики F1, в данном проекте без эмебддингов BERT наиболее эффективной получилась комбинация TF_IDF + Catboost, где была достигнуто значение целевой метрики F1 = 0.75. Результат, равный 0.72 дали TF_IDF + Логистическая регрессия. \n",
    "\n",
    "Модели с BERT, в значительной степени превзошли традиционный подход. Логистическая регрессия показала результат F1=0.938, CatBoost - на 0.5 меньше. Исходя из этого, можно сделать вывод, что при сопоставимом результате очевидно имеет смысли использовать более простую модель лошистической регрессии."
   ]
  },
  {
   "cell_type": "code",
   "execution_count": null,
   "id": "f3748ba8",
   "metadata": {
    "papermill": {
     "duration": 0.026333,
     "end_time": "2022-08-01T22:48:22.397984",
     "exception": false,
     "start_time": "2022-08-01T22:48:22.371651",
     "status": "completed"
    },
    "tags": []
   },
   "outputs": [],
   "source": []
  }
 ],
 "metadata": {
  "kernelspec": {
   "display_name": "Python 3 (ipykernel)",
   "language": "python",
   "name": "python3"
  },
  "language_info": {
   "codemirror_mode": {
    "name": "ipython",
    "version": 3
   },
   "file_extension": ".py",
   "mimetype": "text/x-python",
   "name": "python",
   "nbconvert_exporter": "python",
   "pygments_lexer": "ipython3",
   "version": "3.9.7"
  },
  "papermill": {
   "default_parameters": {},
   "duration": 5424.332827,
   "end_time": "2022-08-01T22:48:24.840232",
   "environment_variables": {},
   "exception": null,
   "input_path": "__notebook__.ipynb",
   "output_path": "__notebook__.ipynb",
   "parameters": {},
   "start_time": "2022-08-01T21:18:00.507405",
   "version": "2.3.4"
  },
  "toc": {
   "base_numbering": 1,
   "nav_menu": {},
   "number_sections": true,
   "sideBar": true,
   "skip_h1_title": false,
   "title_cell": "Table of Contents",
   "title_sidebar": "Contents",
   "toc_cell": false,
   "toc_position": {},
   "toc_section_display": true,
   "toc_window_display": false
  },
  "widgets": {
   "application/vnd.jupyter.widget-state+json": {
    "state": {
     "009756f29c0a43f5b96b1d9ffcdbab0c": {
      "model_module": "@jupyter-widgets/controls",
      "model_module_version": "1.5.0",
      "model_name": "HTMLModel",
      "state": {
       "_dom_classes": [],
       "_model_module": "@jupyter-widgets/controls",
       "_model_module_version": "1.5.0",
       "_model_name": "HTMLModel",
       "_view_count": null,
       "_view_module": "@jupyter-widgets/controls",
       "_view_module_version": "1.5.0",
       "_view_name": "HTMLView",
       "description": "",
       "description_tooltip": null,
       "layout": "IPY_MODEL_662ef555a9c3441abc30b7558946127c",
       "placeholder": "​",
       "style": "IPY_MODEL_a50cba78d26e4a8fa0773c8837920dea",
       "value": "Downloading: 100%"
      }
     },
     "01a92a6948f84d01ae569b6543b36984": {
      "model_module": "@jupyter-widgets/controls",
      "model_module_version": "1.5.0",
      "model_name": "FloatProgressModel",
      "state": {
       "_dom_classes": [],
       "_model_module": "@jupyter-widgets/controls",
       "_model_module_version": "1.5.0",
       "_model_name": "FloatProgressModel",
       "_view_count": null,
       "_view_module": "@jupyter-widgets/controls",
       "_view_module_version": "1.5.0",
       "_view_name": "ProgressView",
       "bar_style": "success",
       "description": "",
       "description_tooltip": null,
       "layout": "IPY_MODEL_9f2aaa8670c244dd9b6a11c4eb4e017b",
       "max": 231508,
       "min": 0,
       "orientation": "horizontal",
       "style": "IPY_MODEL_237f8c443b3a4698b9ce35479081fdfd",
       "value": 231508
      }
     },
     "03fab7d7be2043bb9277a651472090e1": {
      "model_module": "@jupyter-widgets/base",
      "model_module_version": "1.2.0",
      "model_name": "LayoutModel",
      "state": {
       "_model_module": "@jupyter-widgets/base",
       "_model_module_version": "1.2.0",
       "_model_name": "LayoutModel",
       "_view_count": null,
       "_view_module": "@jupyter-widgets/base",
       "_view_module_version": "1.2.0",
       "_view_name": "LayoutView",
       "align_content": null,
       "align_items": null,
       "align_self": null,
       "border": null,
       "bottom": null,
       "display": null,
       "flex": null,
       "flex_flow": null,
       "grid_area": null,
       "grid_auto_columns": null,
       "grid_auto_flow": null,
       "grid_auto_rows": null,
       "grid_column": null,
       "grid_gap": null,
       "grid_row": null,
       "grid_template_areas": null,
       "grid_template_columns": null,
       "grid_template_rows": null,
       "height": null,
       "justify_content": null,
       "justify_items": null,
       "left": null,
       "margin": null,
       "max_height": null,
       "max_width": null,
       "min_height": null,
       "min_width": null,
       "object_fit": null,
       "object_position": null,
       "order": null,
       "overflow": null,
       "overflow_x": null,
       "overflow_y": null,
       "padding": null,
       "right": null,
       "top": null,
       "visibility": null,
       "width": null
      }
     },
     "0879750d99ed4b9a8f67318f4d8441a2": {
      "model_module": "@jupyter-widgets/controls",
      "model_module_version": "1.5.0",
      "model_name": "FloatProgressModel",
      "state": {
       "_dom_classes": [],
       "_model_module": "@jupyter-widgets/controls",
       "_model_module_version": "1.5.0",
       "_model_name": "FloatProgressModel",
       "_view_count": null,
       "_view_module": "@jupyter-widgets/controls",
       "_view_module_version": "1.5.0",
       "_view_name": "ProgressView",
       "bar_style": "success",
       "description": "",
       "description_tooltip": null,
       "layout": "IPY_MODEL_f1ed8738f7404bb4b543ce2455bb218a",
       "max": 159,
       "min": 0,
       "orientation": "horizontal",
       "style": "IPY_MODEL_df7ac121bc8c4ab5ae06011713748274",
       "value": 159
      }
     },
     "0cd46d4c94144b48b0d0a9189231e79e": {
      "model_module": "@jupyter-widgets/controls",
      "model_module_version": "1.5.0",
      "model_name": "HTMLModel",
      "state": {
       "_dom_classes": [],
       "_model_module": "@jupyter-widgets/controls",
       "_model_module_version": "1.5.0",
       "_model_name": "HTMLModel",
       "_view_count": null,
       "_view_module": "@jupyter-widgets/controls",
       "_view_module_version": "1.5.0",
       "_view_name": "HTMLView",
       "description": "",
       "description_tooltip": null,
       "layout": "IPY_MODEL_15320eed2ada46e89cfc829a0f9a9dd2",
       "placeholder": "​",
       "style": "IPY_MODEL_b66b52b569eb4291bbe732111a505f09",
       "value": " 226k/226k [00:00&lt;00:00, 953kB/s]"
      }
     },
     "0d3a13bfea454f26ac2f0240696c38fa": {
      "model_module": "@jupyter-widgets/controls",
      "model_module_version": "1.5.0",
      "model_name": "HTMLModel",
      "state": {
       "_dom_classes": [],
       "_model_module": "@jupyter-widgets/controls",
       "_model_module_version": "1.5.0",
       "_model_name": "HTMLModel",
       "_view_count": null,
       "_view_module": "@jupyter-widgets/controls",
       "_view_module_version": "1.5.0",
       "_view_name": "HTMLView",
       "description": "",
       "description_tooltip": null,
       "layout": "IPY_MODEL_dce6c84731b241309b1082a4e05e814e",
       "placeholder": "​",
       "style": "IPY_MODEL_16fdb8a11532406bbe35448bbf866972",
       "value": "Downloading: 100%"
      }
     },
     "130af4f172164a9fbbb65f1e0bf54de9": {
      "model_module": "@jupyter-widgets/controls",
      "model_module_version": "1.5.0",
      "model_name": "FloatProgressModel",
      "state": {
       "_dom_classes": [],
       "_model_module": "@jupyter-widgets/controls",
       "_model_module_version": "1.5.0",
       "_model_name": "FloatProgressModel",
       "_view_count": null,
       "_view_module": "@jupyter-widgets/controls",
       "_view_module_version": "1.5.0",
       "_view_name": "ProgressView",
       "bar_style": "success",
       "description": "",
       "description_tooltip": null,
       "layout": "IPY_MODEL_54848f0989794f3e8ddc691da9ebba5a",
       "max": 438033929,
       "min": 0,
       "orientation": "horizontal",
       "style": "IPY_MODEL_ac6cb1bf1fe24287acf303af17679004",
       "value": 438033929
      }
     },
     "15320eed2ada46e89cfc829a0f9a9dd2": {
      "model_module": "@jupyter-widgets/base",
      "model_module_version": "1.2.0",
      "model_name": "LayoutModel",
      "state": {
       "_model_module": "@jupyter-widgets/base",
       "_model_module_version": "1.2.0",
       "_model_name": "LayoutModel",
       "_view_count": null,
       "_view_module": "@jupyter-widgets/base",
       "_view_module_version": "1.2.0",
       "_view_name": "LayoutView",
       "align_content": null,
       "align_items": null,
       "align_self": null,
       "border": null,
       "bottom": null,
       "display": null,
       "flex": null,
       "flex_flow": null,
       "grid_area": null,
       "grid_auto_columns": null,
       "grid_auto_flow": null,
       "grid_auto_rows": null,
       "grid_column": null,
       "grid_gap": null,
       "grid_row": null,
       "grid_template_areas": null,
       "grid_template_columns": null,
       "grid_template_rows": null,
       "height": null,
       "justify_content": null,
       "justify_items": null,
       "left": null,
       "margin": null,
       "max_height": null,
       "max_width": null,
       "min_height": null,
       "min_width": null,
       "object_fit": null,
       "object_position": null,
       "order": null,
       "overflow": null,
       "overflow_x": null,
       "overflow_y": null,
       "padding": null,
       "right": null,
       "top": null,
       "visibility": null,
       "width": null
      }
     },
     "16fdb8a11532406bbe35448bbf866972": {
      "model_module": "@jupyter-widgets/controls",
      "model_module_version": "1.5.0",
      "model_name": "DescriptionStyleModel",
      "state": {
       "_model_module": "@jupyter-widgets/controls",
       "_model_module_version": "1.5.0",
       "_model_name": "DescriptionStyleModel",
       "_view_count": null,
       "_view_module": "@jupyter-widgets/base",
       "_view_module_version": "1.2.0",
       "_view_name": "StyleView",
       "description_width": ""
      }
     },
     "173d19ab0e84472ea70d596f891b7bb1": {
      "model_module": "@jupyter-widgets/controls",
      "model_module_version": "1.5.0",
      "model_name": "FloatProgressModel",
      "state": {
       "_dom_classes": [],
       "_model_module": "@jupyter-widgets/controls",
       "_model_module_version": "1.5.0",
       "_model_name": "FloatProgressModel",
       "_view_count": null,
       "_view_module": "@jupyter-widgets/controls",
       "_view_module_version": "1.5.0",
       "_view_name": "ProgressView",
       "bar_style": "success",
       "description": "",
       "description_tooltip": null,
       "layout": "IPY_MODEL_03fab7d7be2043bb9277a651472090e1",
       "max": 112,
       "min": 0,
       "orientation": "horizontal",
       "style": "IPY_MODEL_a5ad868eb04044d8b1572cd393c5a985",
       "value": 112
      }
     },
     "1fa72af1defa4a07aa83cff6b54d062b": {
      "model_module": "@jupyter-widgets/controls",
      "model_module_version": "1.5.0",
      "model_name": "ProgressStyleModel",
      "state": {
       "_model_module": "@jupyter-widgets/controls",
       "_model_module_version": "1.5.0",
       "_model_name": "ProgressStyleModel",
       "_view_count": null,
       "_view_module": "@jupyter-widgets/base",
       "_view_module_version": "1.2.0",
       "_view_name": "StyleView",
       "bar_color": null,
       "description_width": ""
      }
     },
     "208c6e4203194710bd907c8872acaf78": {
      "model_module": "@jupyter-widgets/base",
      "model_module_version": "1.2.0",
      "model_name": "LayoutModel",
      "state": {
       "_model_module": "@jupyter-widgets/base",
       "_model_module_version": "1.2.0",
       "_model_name": "LayoutModel",
       "_view_count": null,
       "_view_module": "@jupyter-widgets/base",
       "_view_module_version": "1.2.0",
       "_view_name": "LayoutView",
       "align_content": null,
       "align_items": null,
       "align_self": null,
       "border": null,
       "bottom": null,
       "display": null,
       "flex": null,
       "flex_flow": null,
       "grid_area": null,
       "grid_auto_columns": null,
       "grid_auto_flow": null,
       "grid_auto_rows": null,
       "grid_column": null,
       "grid_gap": null,
       "grid_row": null,
       "grid_template_areas": null,
       "grid_template_columns": null,
       "grid_template_rows": null,
       "height": null,
       "justify_content": null,
       "justify_items": null,
       "left": null,
       "margin": null,
       "max_height": null,
       "max_width": null,
       "min_height": null,
       "min_width": null,
       "object_fit": null,
       "object_position": null,
       "order": null,
       "overflow": null,
       "overflow_x": null,
       "overflow_y": null,
       "padding": null,
       "right": null,
       "top": null,
       "visibility": null,
       "width": null
      }
     },
     "22b6d54b85bd4b408908bf851f17f469": {
      "model_module": "@jupyter-widgets/base",
      "model_module_version": "1.2.0",
      "model_name": "LayoutModel",
      "state": {
       "_model_module": "@jupyter-widgets/base",
       "_model_module_version": "1.2.0",
       "_model_name": "LayoutModel",
       "_view_count": null,
       "_view_module": "@jupyter-widgets/base",
       "_view_module_version": "1.2.0",
       "_view_name": "LayoutView",
       "align_content": null,
       "align_items": null,
       "align_self": null,
       "border": null,
       "bottom": null,
       "display": null,
       "flex": null,
       "flex_flow": null,
       "grid_area": null,
       "grid_auto_columns": null,
       "grid_auto_flow": null,
       "grid_auto_rows": null,
       "grid_column": null,
       "grid_gap": null,
       "grid_row": null,
       "grid_template_areas": null,
       "grid_template_columns": null,
       "grid_template_rows": null,
       "height": null,
       "justify_content": null,
       "justify_items": null,
       "left": null,
       "margin": null,
       "max_height": null,
       "max_width": null,
       "min_height": null,
       "min_width": null,
       "object_fit": null,
       "object_position": null,
       "order": null,
       "overflow": null,
       "overflow_x": null,
       "overflow_y": null,
       "padding": null,
       "right": null,
       "top": null,
       "visibility": null,
       "width": null
      }
     },
     "237f8c443b3a4698b9ce35479081fdfd": {
      "model_module": "@jupyter-widgets/controls",
      "model_module_version": "1.5.0",
      "model_name": "ProgressStyleModel",
      "state": {
       "_model_module": "@jupyter-widgets/controls",
       "_model_module_version": "1.5.0",
       "_model_name": "ProgressStyleModel",
       "_view_count": null,
       "_view_module": "@jupyter-widgets/base",
       "_view_module_version": "1.2.0",
       "_view_name": "StyleView",
       "bar_color": null,
       "description_width": ""
      }
     },
     "25af09dc8ae249c0896327e90c88c846": {
      "model_module": "@jupyter-widgets/base",
      "model_module_version": "1.2.0",
      "model_name": "LayoutModel",
      "state": {
       "_model_module": "@jupyter-widgets/base",
       "_model_module_version": "1.2.0",
       "_model_name": "LayoutModel",
       "_view_count": null,
       "_view_module": "@jupyter-widgets/base",
       "_view_module_version": "1.2.0",
       "_view_name": "LayoutView",
       "align_content": null,
       "align_items": null,
       "align_self": null,
       "border": null,
       "bottom": null,
       "display": null,
       "flex": null,
       "flex_flow": null,
       "grid_area": null,
       "grid_auto_columns": null,
       "grid_auto_flow": null,
       "grid_auto_rows": null,
       "grid_column": null,
       "grid_gap": null,
       "grid_row": null,
       "grid_template_areas": null,
       "grid_template_columns": null,
       "grid_template_rows": null,
       "height": null,
       "justify_content": null,
       "justify_items": null,
       "left": null,
       "margin": null,
       "max_height": null,
       "max_width": null,
       "min_height": null,
       "min_width": null,
       "object_fit": null,
       "object_position": null,
       "order": null,
       "overflow": null,
       "overflow_x": null,
       "overflow_y": null,
       "padding": null,
       "right": null,
       "top": null,
       "visibility": null,
       "width": null
      }
     },
     "25bdde47abea45689a4b278dfc7ed893": {
      "model_module": "@jupyter-widgets/controls",
      "model_module_version": "1.5.0",
      "model_name": "DescriptionStyleModel",
      "state": {
       "_model_module": "@jupyter-widgets/controls",
       "_model_module_version": "1.5.0",
       "_model_name": "DescriptionStyleModel",
       "_view_count": null,
       "_view_module": "@jupyter-widgets/base",
       "_view_module_version": "1.2.0",
       "_view_name": "StyleView",
       "description_width": ""
      }
     },
     "2699fe70b4594f909128646c0f353bd8": {
      "model_module": "@jupyter-widgets/controls",
      "model_module_version": "1.5.0",
      "model_name": "DescriptionStyleModel",
      "state": {
       "_model_module": "@jupyter-widgets/controls",
       "_model_module_version": "1.5.0",
       "_model_name": "DescriptionStyleModel",
       "_view_count": null,
       "_view_module": "@jupyter-widgets/base",
       "_view_module_version": "1.2.0",
       "_view_name": "StyleView",
       "description_width": ""
      }
     },
     "29d765ef071843da8b9a28cbf5f0cedd": {
      "model_module": "@jupyter-widgets/controls",
      "model_module_version": "1.5.0",
      "model_name": "HTMLModel",
      "state": {
       "_dom_classes": [],
       "_model_module": "@jupyter-widgets/controls",
       "_model_module_version": "1.5.0",
       "_model_name": "HTMLModel",
       "_view_count": null,
       "_view_module": "@jupyter-widgets/controls",
       "_view_module_version": "1.5.0",
       "_view_name": "HTMLView",
       "description": "",
       "description_tooltip": null,
       "layout": "IPY_MODEL_6a5ddf77b10142de86d98207244d8b9d",
       "placeholder": "​",
       "style": "IPY_MODEL_25bdde47abea45689a4b278dfc7ed893",
       "value": " 418M/418M [00:10&lt;00:00, 44.0MB/s]"
      }
     },
     "2b19f931dede47878273de033c318131": {
      "model_module": "@jupyter-widgets/base",
      "model_module_version": "1.2.0",
      "model_name": "LayoutModel",
      "state": {
       "_model_module": "@jupyter-widgets/base",
       "_model_module_version": "1.2.0",
       "_model_name": "LayoutModel",
       "_view_count": null,
       "_view_module": "@jupyter-widgets/base",
       "_view_module_version": "1.2.0",
       "_view_name": "LayoutView",
       "align_content": null,
       "align_items": null,
       "align_self": null,
       "border": null,
       "bottom": null,
       "display": null,
       "flex": null,
       "flex_flow": null,
       "grid_area": null,
       "grid_auto_columns": null,
       "grid_auto_flow": null,
       "grid_auto_rows": null,
       "grid_column": null,
       "grid_gap": null,
       "grid_row": null,
       "grid_template_areas": null,
       "grid_template_columns": null,
       "grid_template_rows": null,
       "height": null,
       "justify_content": null,
       "justify_items": null,
       "left": null,
       "margin": null,
       "max_height": null,
       "max_width": null,
       "min_height": null,
       "min_width": null,
       "object_fit": null,
       "object_position": null,
       "order": null,
       "overflow": null,
       "overflow_x": null,
       "overflow_y": null,
       "padding": null,
       "right": null,
       "top": null,
       "visibility": null,
       "width": null
      }
     },
     "309c73a101ef403ca9e58fdd20b957d3": {
      "model_module": "@jupyter-widgets/base",
      "model_module_version": "1.2.0",
      "model_name": "LayoutModel",
      "state": {
       "_model_module": "@jupyter-widgets/base",
       "_model_module_version": "1.2.0",
       "_model_name": "LayoutModel",
       "_view_count": null,
       "_view_module": "@jupyter-widgets/base",
       "_view_module_version": "1.2.0",
       "_view_name": "LayoutView",
       "align_content": null,
       "align_items": null,
       "align_self": null,
       "border": null,
       "bottom": null,
       "display": null,
       "flex": null,
       "flex_flow": null,
       "grid_area": null,
       "grid_auto_columns": null,
       "grid_auto_flow": null,
       "grid_auto_rows": null,
       "grid_column": null,
       "grid_gap": null,
       "grid_row": null,
       "grid_template_areas": null,
       "grid_template_columns": null,
       "grid_template_rows": null,
       "height": null,
       "justify_content": null,
       "justify_items": null,
       "left": null,
       "margin": null,
       "max_height": null,
       "max_width": null,
       "min_height": null,
       "min_width": null,
       "object_fit": null,
       "object_position": null,
       "order": null,
       "overflow": null,
       "overflow_x": null,
       "overflow_y": null,
       "padding": null,
       "right": null,
       "top": null,
       "visibility": null,
       "width": null
      }
     },
     "39447716326e4c088fbd78166df0d215": {
      "model_module": "@jupyter-widgets/controls",
      "model_module_version": "1.5.0",
      "model_name": "DescriptionStyleModel",
      "state": {
       "_model_module": "@jupyter-widgets/controls",
       "_model_module_version": "1.5.0",
       "_model_name": "DescriptionStyleModel",
       "_view_count": null,
       "_view_module": "@jupyter-widgets/base",
       "_view_module_version": "1.2.0",
       "_view_name": "StyleView",
       "description_width": ""
      }
     },
     "3d5e479a61ba462492a359126775c40b": {
      "model_module": "@jupyter-widgets/controls",
      "model_module_version": "1.5.0",
      "model_name": "DescriptionStyleModel",
      "state": {
       "_model_module": "@jupyter-widgets/controls",
       "_model_module_version": "1.5.0",
       "_model_name": "DescriptionStyleModel",
       "_view_count": null,
       "_view_module": "@jupyter-widgets/base",
       "_view_module_version": "1.2.0",
       "_view_name": "StyleView",
       "description_width": ""
      }
     },
     "4c5ff99dbaa74c15a62cf27edf69ec89": {
      "model_module": "@jupyter-widgets/controls",
      "model_module_version": "1.5.0",
      "model_name": "FloatProgressModel",
      "state": {
       "_dom_classes": [],
       "_model_module": "@jupyter-widgets/controls",
       "_model_module_version": "1.5.0",
       "_model_name": "FloatProgressModel",
       "_view_count": null,
       "_view_module": "@jupyter-widgets/controls",
       "_view_module_version": "1.5.0",
       "_view_name": "ProgressView",
       "bar_style": "success",
       "description": "",
       "description_tooltip": null,
       "layout": "IPY_MODEL_e73349a12f674960b6a79cba1194b394",
       "max": 811,
       "min": 0,
       "orientation": "horizontal",
       "style": "IPY_MODEL_1fa72af1defa4a07aa83cff6b54d062b",
       "value": 811
      }
     },
     "54848f0989794f3e8ddc691da9ebba5a": {
      "model_module": "@jupyter-widgets/base",
      "model_module_version": "1.2.0",
      "model_name": "LayoutModel",
      "state": {
       "_model_module": "@jupyter-widgets/base",
       "_model_module_version": "1.2.0",
       "_model_name": "LayoutModel",
       "_view_count": null,
       "_view_module": "@jupyter-widgets/base",
       "_view_module_version": "1.2.0",
       "_view_name": "LayoutView",
       "align_content": null,
       "align_items": null,
       "align_self": null,
       "border": null,
       "bottom": null,
       "display": null,
       "flex": null,
       "flex_flow": null,
       "grid_area": null,
       "grid_auto_columns": null,
       "grid_auto_flow": null,
       "grid_auto_rows": null,
       "grid_column": null,
       "grid_gap": null,
       "grid_row": null,
       "grid_template_areas": null,
       "grid_template_columns": null,
       "grid_template_rows": null,
       "height": null,
       "justify_content": null,
       "justify_items": null,
       "left": null,
       "margin": null,
       "max_height": null,
       "max_width": null,
       "min_height": null,
       "min_width": null,
       "object_fit": null,
       "object_position": null,
       "order": null,
       "overflow": null,
       "overflow_x": null,
       "overflow_y": null,
       "padding": null,
       "right": null,
       "top": null,
       "visibility": null,
       "width": null
      }
     },
     "56cd629926834ee3ad33d11465fd60d2": {
      "model_module": "@jupyter-widgets/base",
      "model_module_version": "1.2.0",
      "model_name": "LayoutModel",
      "state": {
       "_model_module": "@jupyter-widgets/base",
       "_model_module_version": "1.2.0",
       "_model_name": "LayoutModel",
       "_view_count": null,
       "_view_module": "@jupyter-widgets/base",
       "_view_module_version": "1.2.0",
       "_view_name": "LayoutView",
       "align_content": null,
       "align_items": null,
       "align_self": null,
       "border": null,
       "bottom": null,
       "display": null,
       "flex": null,
       "flex_flow": null,
       "grid_area": null,
       "grid_auto_columns": null,
       "grid_auto_flow": null,
       "grid_auto_rows": null,
       "grid_column": null,
       "grid_gap": null,
       "grid_row": null,
       "grid_template_areas": null,
       "grid_template_columns": null,
       "grid_template_rows": null,
       "height": null,
       "justify_content": null,
       "justify_items": null,
       "left": null,
       "margin": null,
       "max_height": null,
       "max_width": null,
       "min_height": null,
       "min_width": null,
       "object_fit": null,
       "object_position": null,
       "order": null,
       "overflow": null,
       "overflow_x": null,
       "overflow_y": null,
       "padding": null,
       "right": null,
       "top": null,
       "visibility": null,
       "width": null
      }
     },
     "5849818636074920abb93e55e009ed57": {
      "model_module": "@jupyter-widgets/base",
      "model_module_version": "1.2.0",
      "model_name": "LayoutModel",
      "state": {
       "_model_module": "@jupyter-widgets/base",
       "_model_module_version": "1.2.0",
       "_model_name": "LayoutModel",
       "_view_count": null,
       "_view_module": "@jupyter-widgets/base",
       "_view_module_version": "1.2.0",
       "_view_name": "LayoutView",
       "align_content": null,
       "align_items": null,
       "align_self": null,
       "border": null,
       "bottom": null,
       "display": null,
       "flex": null,
       "flex_flow": null,
       "grid_area": null,
       "grid_auto_columns": null,
       "grid_auto_flow": null,
       "grid_auto_rows": null,
       "grid_column": null,
       "grid_gap": null,
       "grid_row": null,
       "grid_template_areas": null,
       "grid_template_columns": null,
       "grid_template_rows": null,
       "height": null,
       "justify_content": null,
       "justify_items": null,
       "left": null,
       "margin": null,
       "max_height": null,
       "max_width": null,
       "min_height": null,
       "min_width": null,
       "object_fit": null,
       "object_position": null,
       "order": null,
       "overflow": null,
       "overflow_x": null,
       "overflow_y": null,
       "padding": null,
       "right": null,
       "top": null,
       "visibility": null,
       "width": null
      }
     },
     "5a6bff94bbad4ae2b4ba208c100334d5": {
      "model_module": "@jupyter-widgets/controls",
      "model_module_version": "1.5.0",
      "model_name": "HBoxModel",
      "state": {
       "_dom_classes": [],
       "_model_module": "@jupyter-widgets/controls",
       "_model_module_version": "1.5.0",
       "_model_name": "HBoxModel",
       "_view_count": null,
       "_view_module": "@jupyter-widgets/controls",
       "_view_module_version": "1.5.0",
       "_view_name": "HBoxView",
       "box_style": "",
       "children": [
        "IPY_MODEL_687a87b2c765462da4755399495d0a13",
        "IPY_MODEL_130af4f172164a9fbbb65f1e0bf54de9",
        "IPY_MODEL_29d765ef071843da8b9a28cbf5f0cedd"
       ],
       "layout": "IPY_MODEL_91751d73865a4704a3ac94e33787cb1b"
      }
     },
     "5a9ef88c1f624832a313ba2bc2216293": {
      "model_module": "@jupyter-widgets/base",
      "model_module_version": "1.2.0",
      "model_name": "LayoutModel",
      "state": {
       "_model_module": "@jupyter-widgets/base",
       "_model_module_version": "1.2.0",
       "_model_name": "LayoutModel",
       "_view_count": null,
       "_view_module": "@jupyter-widgets/base",
       "_view_module_version": "1.2.0",
       "_view_name": "LayoutView",
       "align_content": null,
       "align_items": null,
       "align_self": null,
       "border": null,
       "bottom": null,
       "display": null,
       "flex": null,
       "flex_flow": null,
       "grid_area": null,
       "grid_auto_columns": null,
       "grid_auto_flow": null,
       "grid_auto_rows": null,
       "grid_column": null,
       "grid_gap": null,
       "grid_row": null,
       "grid_template_areas": null,
       "grid_template_columns": null,
       "grid_template_rows": null,
       "height": null,
       "justify_content": null,
       "justify_items": null,
       "left": null,
       "margin": null,
       "max_height": null,
       "max_width": null,
       "min_height": null,
       "min_width": null,
       "object_fit": null,
       "object_position": null,
       "order": null,
       "overflow": null,
       "overflow_x": null,
       "overflow_y": null,
       "padding": null,
       "right": null,
       "top": null,
       "visibility": null,
       "width": null
      }
     },
     "5ac5e3dc8ac74f3eaa0decdae3d21e35": {
      "model_module": "@jupyter-widgets/controls",
      "model_module_version": "1.5.0",
      "model_name": "HBoxModel",
      "state": {
       "_dom_classes": [],
       "_model_module": "@jupyter-widgets/controls",
       "_model_module_version": "1.5.0",
       "_model_name": "HBoxModel",
       "_view_count": null,
       "_view_module": "@jupyter-widgets/controls",
       "_view_module_version": "1.5.0",
       "_view_name": "HBoxView",
       "box_style": "",
       "children": [
        "IPY_MODEL_c22d4b0aa7eb4a858621e00b140a4598",
        "IPY_MODEL_ab795f4cac604d5fae5fc0a5459dd165",
        "IPY_MODEL_c15402f10fe04d5e83006e2b14e4ca34"
       ],
       "layout": "IPY_MODEL_9f96977ba3a4427d8a6bbda74b29ede4"
      }
     },
     "5be5e7e71f004291836d925df375b80e": {
      "model_module": "@jupyter-widgets/base",
      "model_module_version": "1.2.0",
      "model_name": "LayoutModel",
      "state": {
       "_model_module": "@jupyter-widgets/base",
       "_model_module_version": "1.2.0",
       "_model_name": "LayoutModel",
       "_view_count": null,
       "_view_module": "@jupyter-widgets/base",
       "_view_module_version": "1.2.0",
       "_view_name": "LayoutView",
       "align_content": null,
       "align_items": null,
       "align_self": null,
       "border": null,
       "bottom": null,
       "display": null,
       "flex": null,
       "flex_flow": null,
       "grid_area": null,
       "grid_auto_columns": null,
       "grid_auto_flow": null,
       "grid_auto_rows": null,
       "grid_column": null,
       "grid_gap": null,
       "grid_row": null,
       "grid_template_areas": null,
       "grid_template_columns": null,
       "grid_template_rows": null,
       "height": null,
       "justify_content": null,
       "justify_items": null,
       "left": null,
       "margin": null,
       "max_height": null,
       "max_width": null,
       "min_height": null,
       "min_width": null,
       "object_fit": null,
       "object_position": null,
       "order": null,
       "overflow": null,
       "overflow_x": null,
       "overflow_y": null,
       "padding": null,
       "right": null,
       "top": null,
       "visibility": null,
       "width": null
      }
     },
     "662ef555a9c3441abc30b7558946127c": {
      "model_module": "@jupyter-widgets/base",
      "model_module_version": "1.2.0",
      "model_name": "LayoutModel",
      "state": {
       "_model_module": "@jupyter-widgets/base",
       "_model_module_version": "1.2.0",
       "_model_name": "LayoutModel",
       "_view_count": null,
       "_view_module": "@jupyter-widgets/base",
       "_view_module_version": "1.2.0",
       "_view_name": "LayoutView",
       "align_content": null,
       "align_items": null,
       "align_self": null,
       "border": null,
       "bottom": null,
       "display": null,
       "flex": null,
       "flex_flow": null,
       "grid_area": null,
       "grid_auto_columns": null,
       "grid_auto_flow": null,
       "grid_auto_rows": null,
       "grid_column": null,
       "grid_gap": null,
       "grid_row": null,
       "grid_template_areas": null,
       "grid_template_columns": null,
       "grid_template_rows": null,
       "height": null,
       "justify_content": null,
       "justify_items": null,
       "left": null,
       "margin": null,
       "max_height": null,
       "max_width": null,
       "min_height": null,
       "min_width": null,
       "object_fit": null,
       "object_position": null,
       "order": null,
       "overflow": null,
       "overflow_x": null,
       "overflow_y": null,
       "padding": null,
       "right": null,
       "top": null,
       "visibility": null,
       "width": null
      }
     },
     "687a87b2c765462da4755399495d0a13": {
      "model_module": "@jupyter-widgets/controls",
      "model_module_version": "1.5.0",
      "model_name": "HTMLModel",
      "state": {
       "_dom_classes": [],
       "_model_module": "@jupyter-widgets/controls",
       "_model_module_version": "1.5.0",
       "_model_name": "HTMLModel",
       "_view_count": null,
       "_view_module": "@jupyter-widgets/controls",
       "_view_module_version": "1.5.0",
       "_view_name": "HTMLView",
       "description": "",
       "description_tooltip": null,
       "layout": "IPY_MODEL_22b6d54b85bd4b408908bf851f17f469",
       "placeholder": "​",
       "style": "IPY_MODEL_f185e19f812f4d2eab5c9af1e09d4604",
       "value": "Downloading: 100%"
      }
     },
     "6a5ddf77b10142de86d98207244d8b9d": {
      "model_module": "@jupyter-widgets/base",
      "model_module_version": "1.2.0",
      "model_name": "LayoutModel",
      "state": {
       "_model_module": "@jupyter-widgets/base",
       "_model_module_version": "1.2.0",
       "_model_name": "LayoutModel",
       "_view_count": null,
       "_view_module": "@jupyter-widgets/base",
       "_view_module_version": "1.2.0",
       "_view_name": "LayoutView",
       "align_content": null,
       "align_items": null,
       "align_self": null,
       "border": null,
       "bottom": null,
       "display": null,
       "flex": null,
       "flex_flow": null,
       "grid_area": null,
       "grid_auto_columns": null,
       "grid_auto_flow": null,
       "grid_auto_rows": null,
       "grid_column": null,
       "grid_gap": null,
       "grid_row": null,
       "grid_template_areas": null,
       "grid_template_columns": null,
       "grid_template_rows": null,
       "height": null,
       "justify_content": null,
       "justify_items": null,
       "left": null,
       "margin": null,
       "max_height": null,
       "max_width": null,
       "min_height": null,
       "min_width": null,
       "object_fit": null,
       "object_position": null,
       "order": null,
       "overflow": null,
       "overflow_x": null,
       "overflow_y": null,
       "padding": null,
       "right": null,
       "top": null,
       "visibility": null,
       "width": null
      }
     },
     "8ac41d2db5244798be55d0e80da2de84": {
      "model_module": "@jupyter-widgets/base",
      "model_module_version": "1.2.0",
      "model_name": "LayoutModel",
      "state": {
       "_model_module": "@jupyter-widgets/base",
       "_model_module_version": "1.2.0",
       "_model_name": "LayoutModel",
       "_view_count": null,
       "_view_module": "@jupyter-widgets/base",
       "_view_module_version": "1.2.0",
       "_view_name": "LayoutView",
       "align_content": null,
       "align_items": null,
       "align_self": null,
       "border": null,
       "bottom": null,
       "display": null,
       "flex": null,
       "flex_flow": null,
       "grid_area": null,
       "grid_auto_columns": null,
       "grid_auto_flow": null,
       "grid_auto_rows": null,
       "grid_column": null,
       "grid_gap": null,
       "grid_row": null,
       "grid_template_areas": null,
       "grid_template_columns": null,
       "grid_template_rows": null,
       "height": null,
       "justify_content": null,
       "justify_items": null,
       "left": null,
       "margin": null,
       "max_height": null,
       "max_width": null,
       "min_height": null,
       "min_width": null,
       "object_fit": null,
       "object_position": null,
       "order": null,
       "overflow": null,
       "overflow_x": null,
       "overflow_y": null,
       "padding": null,
       "right": null,
       "top": null,
       "visibility": null,
       "width": null
      }
     },
     "91751d73865a4704a3ac94e33787cb1b": {
      "model_module": "@jupyter-widgets/base",
      "model_module_version": "1.2.0",
      "model_name": "LayoutModel",
      "state": {
       "_model_module": "@jupyter-widgets/base",
       "_model_module_version": "1.2.0",
       "_model_name": "LayoutModel",
       "_view_count": null,
       "_view_module": "@jupyter-widgets/base",
       "_view_module_version": "1.2.0",
       "_view_name": "LayoutView",
       "align_content": null,
       "align_items": null,
       "align_self": null,
       "border": null,
       "bottom": null,
       "display": null,
       "flex": null,
       "flex_flow": null,
       "grid_area": null,
       "grid_auto_columns": null,
       "grid_auto_flow": null,
       "grid_auto_rows": null,
       "grid_column": null,
       "grid_gap": null,
       "grid_row": null,
       "grid_template_areas": null,
       "grid_template_columns": null,
       "grid_template_rows": null,
       "height": null,
       "justify_content": null,
       "justify_items": null,
       "left": null,
       "margin": null,
       "max_height": null,
       "max_width": null,
       "min_height": null,
       "min_width": null,
       "object_fit": null,
       "object_position": null,
       "order": null,
       "overflow": null,
       "overflow_x": null,
       "overflow_y": null,
       "padding": null,
       "right": null,
       "top": null,
       "visibility": null,
       "width": null
      }
     },
     "934e55d0f1e147e5a0cca226312d6730": {
      "model_module": "@jupyter-widgets/controls",
      "model_module_version": "1.5.0",
      "model_name": "DescriptionStyleModel",
      "state": {
       "_model_module": "@jupyter-widgets/controls",
       "_model_module_version": "1.5.0",
       "_model_name": "DescriptionStyleModel",
       "_view_count": null,
       "_view_module": "@jupyter-widgets/base",
       "_view_module_version": "1.2.0",
       "_view_name": "StyleView",
       "description_width": ""
      }
     },
     "9583519f3bd44c48bb3542efb66eb683": {
      "model_module": "@jupyter-widgets/controls",
      "model_module_version": "1.5.0",
      "model_name": "DescriptionStyleModel",
      "state": {
       "_model_module": "@jupyter-widgets/controls",
       "_model_module_version": "1.5.0",
       "_model_name": "DescriptionStyleModel",
       "_view_count": null,
       "_view_module": "@jupyter-widgets/base",
       "_view_module_version": "1.2.0",
       "_view_name": "StyleView",
       "description_width": ""
      }
     },
     "9a99a2b567d84fe88859b2609523433e": {
      "model_module": "@jupyter-widgets/controls",
      "model_module_version": "1.5.0",
      "model_name": "HTMLModel",
      "state": {
       "_dom_classes": [],
       "_model_module": "@jupyter-widgets/controls",
       "_model_module_version": "1.5.0",
       "_model_name": "HTMLModel",
       "_view_count": null,
       "_view_module": "@jupyter-widgets/controls",
       "_view_module_version": "1.5.0",
       "_view_name": "HTMLView",
       "description": "",
       "description_tooltip": null,
       "layout": "IPY_MODEL_bb042be1d06b4c5b9458e9580a6ad80e",
       "placeholder": "​",
       "style": "IPY_MODEL_9583519f3bd44c48bb3542efb66eb683",
       "value": " 811/811 [00:00&lt;00:00, 26.7kB/s]"
      }
     },
     "9ed598ed9fad4c409b7fd6fabb05eda9": {
      "model_module": "@jupyter-widgets/controls",
      "model_module_version": "1.5.0",
      "model_name": "HBoxModel",
      "state": {
       "_dom_classes": [],
       "_model_module": "@jupyter-widgets/controls",
       "_model_module_version": "1.5.0",
       "_model_name": "HBoxModel",
       "_view_count": null,
       "_view_module": "@jupyter-widgets/controls",
       "_view_module_version": "1.5.0",
       "_view_name": "HBoxView",
       "box_style": "",
       "children": [
        "IPY_MODEL_0d3a13bfea454f26ac2f0240696c38fa",
        "IPY_MODEL_01a92a6948f84d01ae569b6543b36984",
        "IPY_MODEL_0cd46d4c94144b48b0d0a9189231e79e"
       ],
       "layout": "IPY_MODEL_25af09dc8ae249c0896327e90c88c846"
      }
     },
     "9f2aaa8670c244dd9b6a11c4eb4e017b": {
      "model_module": "@jupyter-widgets/base",
      "model_module_version": "1.2.0",
      "model_name": "LayoutModel",
      "state": {
       "_model_module": "@jupyter-widgets/base",
       "_model_module_version": "1.2.0",
       "_model_name": "LayoutModel",
       "_view_count": null,
       "_view_module": "@jupyter-widgets/base",
       "_view_module_version": "1.2.0",
       "_view_name": "LayoutView",
       "align_content": null,
       "align_items": null,
       "align_self": null,
       "border": null,
       "bottom": null,
       "display": null,
       "flex": null,
       "flex_flow": null,
       "grid_area": null,
       "grid_auto_columns": null,
       "grid_auto_flow": null,
       "grid_auto_rows": null,
       "grid_column": null,
       "grid_gap": null,
       "grid_row": null,
       "grid_template_areas": null,
       "grid_template_columns": null,
       "grid_template_rows": null,
       "height": null,
       "justify_content": null,
       "justify_items": null,
       "left": null,
       "margin": null,
       "max_height": null,
       "max_width": null,
       "min_height": null,
       "min_width": null,
       "object_fit": null,
       "object_position": null,
       "order": null,
       "overflow": null,
       "overflow_x": null,
       "overflow_y": null,
       "padding": null,
       "right": null,
       "top": null,
       "visibility": null,
       "width": null
      }
     },
     "9f96977ba3a4427d8a6bbda74b29ede4": {
      "model_module": "@jupyter-widgets/base",
      "model_module_version": "1.2.0",
      "model_name": "LayoutModel",
      "state": {
       "_model_module": "@jupyter-widgets/base",
       "_model_module_version": "1.2.0",
       "_model_name": "LayoutModel",
       "_view_count": null,
       "_view_module": "@jupyter-widgets/base",
       "_view_module_version": "1.2.0",
       "_view_name": "LayoutView",
       "align_content": null,
       "align_items": null,
       "align_self": null,
       "border": null,
       "bottom": null,
       "display": null,
       "flex": null,
       "flex_flow": null,
       "grid_area": null,
       "grid_auto_columns": null,
       "grid_auto_flow": null,
       "grid_auto_rows": null,
       "grid_column": null,
       "grid_gap": null,
       "grid_row": null,
       "grid_template_areas": null,
       "grid_template_columns": null,
       "grid_template_rows": null,
       "height": null,
       "justify_content": null,
       "justify_items": null,
       "left": null,
       "margin": null,
       "max_height": null,
       "max_width": null,
       "min_height": null,
       "min_width": null,
       "object_fit": null,
       "object_position": null,
       "order": null,
       "overflow": null,
       "overflow_x": null,
       "overflow_y": null,
       "padding": null,
       "right": null,
       "top": null,
       "visibility": null,
       "width": null
      }
     },
     "a19bc3ed19e14224aeb1240c3d25b7c9": {
      "model_module": "@jupyter-widgets/controls",
      "model_module_version": "1.5.0",
      "model_name": "HBoxModel",
      "state": {
       "_dom_classes": [],
       "_model_module": "@jupyter-widgets/controls",
       "_model_module_version": "1.5.0",
       "_model_name": "HBoxModel",
       "_view_count": null,
       "_view_module": "@jupyter-widgets/controls",
       "_view_module_version": "1.5.0",
       "_view_name": "HBoxView",
       "box_style": "",
       "children": [
        "IPY_MODEL_009756f29c0a43f5b96b1d9ffcdbab0c",
        "IPY_MODEL_4c5ff99dbaa74c15a62cf27edf69ec89",
        "IPY_MODEL_9a99a2b567d84fe88859b2609523433e"
       ],
       "layout": "IPY_MODEL_2b19f931dede47878273de033c318131"
      }
     },
     "a50cba78d26e4a8fa0773c8837920dea": {
      "model_module": "@jupyter-widgets/controls",
      "model_module_version": "1.5.0",
      "model_name": "DescriptionStyleModel",
      "state": {
       "_model_module": "@jupyter-widgets/controls",
       "_model_module_version": "1.5.0",
       "_model_name": "DescriptionStyleModel",
       "_view_count": null,
       "_view_module": "@jupyter-widgets/base",
       "_view_module_version": "1.2.0",
       "_view_name": "StyleView",
       "description_width": ""
      }
     },
     "a5ad868eb04044d8b1572cd393c5a985": {
      "model_module": "@jupyter-widgets/controls",
      "model_module_version": "1.5.0",
      "model_name": "ProgressStyleModel",
      "state": {
       "_model_module": "@jupyter-widgets/controls",
       "_model_module_version": "1.5.0",
       "_model_name": "ProgressStyleModel",
       "_view_count": null,
       "_view_module": "@jupyter-widgets/base",
       "_view_module_version": "1.2.0",
       "_view_name": "StyleView",
       "bar_color": null,
       "description_width": ""
      }
     },
     "aa4f3105fa1b49588c84d14b430b8463": {
      "model_module": "@jupyter-widgets/controls",
      "model_module_version": "1.5.0",
      "model_name": "DescriptionStyleModel",
      "state": {
       "_model_module": "@jupyter-widgets/controls",
       "_model_module_version": "1.5.0",
       "_model_name": "DescriptionStyleModel",
       "_view_count": null,
       "_view_module": "@jupyter-widgets/base",
       "_view_module_version": "1.2.0",
       "_view_name": "StyleView",
       "description_width": ""
      }
     },
     "ab795f4cac604d5fae5fc0a5459dd165": {
      "model_module": "@jupyter-widgets/controls",
      "model_module_version": "1.5.0",
      "model_name": "FloatProgressModel",
      "state": {
       "_dom_classes": [],
       "_model_module": "@jupyter-widgets/controls",
       "_model_module_version": "1.5.0",
       "_model_name": "FloatProgressModel",
       "_view_count": null,
       "_view_module": "@jupyter-widgets/controls",
       "_view_module_version": "1.5.0",
       "_view_name": "ProgressView",
       "bar_style": "success",
       "description": "",
       "description_tooltip": null,
       "layout": "IPY_MODEL_208c6e4203194710bd907c8872acaf78",
       "max": 174,
       "min": 0,
       "orientation": "horizontal",
       "style": "IPY_MODEL_e3e9f0066e1f4a9c8f27771725ab2d86",
       "value": 174
      }
     },
     "ac6cb1bf1fe24287acf303af17679004": {
      "model_module": "@jupyter-widgets/controls",
      "model_module_version": "1.5.0",
      "model_name": "ProgressStyleModel",
      "state": {
       "_model_module": "@jupyter-widgets/controls",
       "_model_module_version": "1.5.0",
       "_model_name": "ProgressStyleModel",
       "_view_count": null,
       "_view_module": "@jupyter-widgets/base",
       "_view_module_version": "1.2.0",
       "_view_name": "StyleView",
       "bar_color": null,
       "description_width": ""
      }
     },
     "ad6add14ff0a4fb28e2794062b48900e": {
      "model_module": "@jupyter-widgets/base",
      "model_module_version": "1.2.0",
      "model_name": "LayoutModel",
      "state": {
       "_model_module": "@jupyter-widgets/base",
       "_model_module_version": "1.2.0",
       "_model_name": "LayoutModel",
       "_view_count": null,
       "_view_module": "@jupyter-widgets/base",
       "_view_module_version": "1.2.0",
       "_view_name": "LayoutView",
       "align_content": null,
       "align_items": null,
       "align_self": null,
       "border": null,
       "bottom": null,
       "display": null,
       "flex": null,
       "flex_flow": null,
       "grid_area": null,
       "grid_auto_columns": null,
       "grid_auto_flow": null,
       "grid_auto_rows": null,
       "grid_column": null,
       "grid_gap": null,
       "grid_row": null,
       "grid_template_areas": null,
       "grid_template_columns": null,
       "grid_template_rows": null,
       "height": null,
       "justify_content": null,
       "justify_items": null,
       "left": null,
       "margin": null,
       "max_height": null,
       "max_width": null,
       "min_height": null,
       "min_width": null,
       "object_fit": null,
       "object_position": null,
       "order": null,
       "overflow": null,
       "overflow_x": null,
       "overflow_y": null,
       "padding": null,
       "right": null,
       "top": null,
       "visibility": null,
       "width": null
      }
     },
     "b07311f824d9414ba99c26290381b9ca": {
      "model_module": "@jupyter-widgets/controls",
      "model_module_version": "1.5.0",
      "model_name": "HTMLModel",
      "state": {
       "_dom_classes": [],
       "_model_module": "@jupyter-widgets/controls",
       "_model_module_version": "1.5.0",
       "_model_name": "HTMLModel",
       "_view_count": null,
       "_view_module": "@jupyter-widgets/controls",
       "_view_module_version": "1.5.0",
       "_view_name": "HTMLView",
       "description": "",
       "description_tooltip": null,
       "layout": "IPY_MODEL_309c73a101ef403ca9e58fdd20b957d3",
       "placeholder": "​",
       "style": "IPY_MODEL_2699fe70b4594f909128646c0f353bd8",
       "value": "Downloading: 100%"
      }
     },
     "b66b52b569eb4291bbe732111a505f09": {
      "model_module": "@jupyter-widgets/controls",
      "model_module_version": "1.5.0",
      "model_name": "DescriptionStyleModel",
      "state": {
       "_model_module": "@jupyter-widgets/controls",
       "_model_module_version": "1.5.0",
       "_model_name": "DescriptionStyleModel",
       "_view_count": null,
       "_view_module": "@jupyter-widgets/base",
       "_view_module_version": "1.2.0",
       "_view_name": "StyleView",
       "description_width": ""
      }
     },
     "bb042be1d06b4c5b9458e9580a6ad80e": {
      "model_module": "@jupyter-widgets/base",
      "model_module_version": "1.2.0",
      "model_name": "LayoutModel",
      "state": {
       "_model_module": "@jupyter-widgets/base",
       "_model_module_version": "1.2.0",
       "_model_name": "LayoutModel",
       "_view_count": null,
       "_view_module": "@jupyter-widgets/base",
       "_view_module_version": "1.2.0",
       "_view_name": "LayoutView",
       "align_content": null,
       "align_items": null,
       "align_self": null,
       "border": null,
       "bottom": null,
       "display": null,
       "flex": null,
       "flex_flow": null,
       "grid_area": null,
       "grid_auto_columns": null,
       "grid_auto_flow": null,
       "grid_auto_rows": null,
       "grid_column": null,
       "grid_gap": null,
       "grid_row": null,
       "grid_template_areas": null,
       "grid_template_columns": null,
       "grid_template_rows": null,
       "height": null,
       "justify_content": null,
       "justify_items": null,
       "left": null,
       "margin": null,
       "max_height": null,
       "max_width": null,
       "min_height": null,
       "min_width": null,
       "object_fit": null,
       "object_position": null,
       "order": null,
       "overflow": null,
       "overflow_x": null,
       "overflow_y": null,
       "padding": null,
       "right": null,
       "top": null,
       "visibility": null,
       "width": null
      }
     },
     "c15402f10fe04d5e83006e2b14e4ca34": {
      "model_module": "@jupyter-widgets/controls",
      "model_module_version": "1.5.0",
      "model_name": "HTMLModel",
      "state": {
       "_dom_classes": [],
       "_model_module": "@jupyter-widgets/controls",
       "_model_module_version": "1.5.0",
       "_model_name": "HTMLModel",
       "_view_count": null,
       "_view_module": "@jupyter-widgets/controls",
       "_view_module_version": "1.5.0",
       "_view_name": "HTMLView",
       "description": "",
       "description_tooltip": null,
       "layout": "IPY_MODEL_8ac41d2db5244798be55d0e80da2de84",
       "placeholder": "​",
       "style": "IPY_MODEL_39447716326e4c088fbd78166df0d215",
       "value": " 174/174 [00:00&lt;00:00, 5.21kB/s]"
      }
     },
     "c22d4b0aa7eb4a858621e00b140a4598": {
      "model_module": "@jupyter-widgets/controls",
      "model_module_version": "1.5.0",
      "model_name": "HTMLModel",
      "state": {
       "_dom_classes": [],
       "_model_module": "@jupyter-widgets/controls",
       "_model_module_version": "1.5.0",
       "_model_name": "HTMLModel",
       "_view_count": null,
       "_view_module": "@jupyter-widgets/controls",
       "_view_module_version": "1.5.0",
       "_view_name": "HTMLView",
       "description": "",
       "description_tooltip": null,
       "layout": "IPY_MODEL_56cd629926834ee3ad33d11465fd60d2",
       "placeholder": "​",
       "style": "IPY_MODEL_934e55d0f1e147e5a0cca226312d6730",
       "value": "Downloading: 100%"
      }
     },
     "c3cbd159148248d1b01010204eef7a4e": {
      "model_module": "@jupyter-widgets/controls",
      "model_module_version": "1.5.0",
      "model_name": "HBoxModel",
      "state": {
       "_dom_classes": [],
       "_model_module": "@jupyter-widgets/controls",
       "_model_module_version": "1.5.0",
       "_model_name": "HBoxModel",
       "_view_count": null,
       "_view_module": "@jupyter-widgets/controls",
       "_view_module_version": "1.5.0",
       "_view_name": "HBoxView",
       "box_style": "",
       "children": [
        "IPY_MODEL_fcd78897dac94c7ea0c221e6fbb56aad",
        "IPY_MODEL_0879750d99ed4b9a8f67318f4d8441a2",
        "IPY_MODEL_d160633161d64fa5b24a6fcb59f82433"
       ],
       "layout": "IPY_MODEL_ad6add14ff0a4fb28e2794062b48900e"
      }
     },
     "d160633161d64fa5b24a6fcb59f82433": {
      "model_module": "@jupyter-widgets/controls",
      "model_module_version": "1.5.0",
      "model_name": "HTMLModel",
      "state": {
       "_dom_classes": [],
       "_model_module": "@jupyter-widgets/controls",
       "_model_module_version": "1.5.0",
       "_model_name": "HTMLModel",
       "_view_count": null,
       "_view_module": "@jupyter-widgets/controls",
       "_view_module_version": "1.5.0",
       "_view_name": "HTMLView",
       "description": "",
       "description_tooltip": null,
       "layout": "IPY_MODEL_5be5e7e71f004291836d925df375b80e",
       "placeholder": "​",
       "style": "IPY_MODEL_3d5e479a61ba462492a359126775c40b",
       "value": " 159/159 [04:11&lt;00:00,  1.58s/it]"
      }
     },
     "dad3d70026684042b0940d89322b4860": {
      "model_module": "@jupyter-widgets/base",
      "model_module_version": "1.2.0",
      "model_name": "LayoutModel",
      "state": {
       "_model_module": "@jupyter-widgets/base",
       "_model_module_version": "1.2.0",
       "_model_name": "LayoutModel",
       "_view_count": null,
       "_view_module": "@jupyter-widgets/base",
       "_view_module_version": "1.2.0",
       "_view_name": "LayoutView",
       "align_content": null,
       "align_items": null,
       "align_self": null,
       "border": null,
       "bottom": null,
       "display": null,
       "flex": null,
       "flex_flow": null,
       "grid_area": null,
       "grid_auto_columns": null,
       "grid_auto_flow": null,
       "grid_auto_rows": null,
       "grid_column": null,
       "grid_gap": null,
       "grid_row": null,
       "grid_template_areas": null,
       "grid_template_columns": null,
       "grid_template_rows": null,
       "height": null,
       "justify_content": null,
       "justify_items": null,
       "left": null,
       "margin": null,
       "max_height": null,
       "max_width": null,
       "min_height": null,
       "min_width": null,
       "object_fit": null,
       "object_position": null,
       "order": null,
       "overflow": null,
       "overflow_x": null,
       "overflow_y": null,
       "padding": null,
       "right": null,
       "top": null,
       "visibility": null,
       "width": null
      }
     },
     "dce6c84731b241309b1082a4e05e814e": {
      "model_module": "@jupyter-widgets/base",
      "model_module_version": "1.2.0",
      "model_name": "LayoutModel",
      "state": {
       "_model_module": "@jupyter-widgets/base",
       "_model_module_version": "1.2.0",
       "_model_name": "LayoutModel",
       "_view_count": null,
       "_view_module": "@jupyter-widgets/base",
       "_view_module_version": "1.2.0",
       "_view_name": "LayoutView",
       "align_content": null,
       "align_items": null,
       "align_self": null,
       "border": null,
       "bottom": null,
       "display": null,
       "flex": null,
       "flex_flow": null,
       "grid_area": null,
       "grid_auto_columns": null,
       "grid_auto_flow": null,
       "grid_auto_rows": null,
       "grid_column": null,
       "grid_gap": null,
       "grid_row": null,
       "grid_template_areas": null,
       "grid_template_columns": null,
       "grid_template_rows": null,
       "height": null,
       "justify_content": null,
       "justify_items": null,
       "left": null,
       "margin": null,
       "max_height": null,
       "max_width": null,
       "min_height": null,
       "min_width": null,
       "object_fit": null,
       "object_position": null,
       "order": null,
       "overflow": null,
       "overflow_x": null,
       "overflow_y": null,
       "padding": null,
       "right": null,
       "top": null,
       "visibility": null,
       "width": null
      }
     },
     "de3fb85d024040cd92ba0a49f70d93e4": {
      "model_module": "@jupyter-widgets/controls",
      "model_module_version": "1.5.0",
      "model_name": "DescriptionStyleModel",
      "state": {
       "_model_module": "@jupyter-widgets/controls",
       "_model_module_version": "1.5.0",
       "_model_name": "DescriptionStyleModel",
       "_view_count": null,
       "_view_module": "@jupyter-widgets/base",
       "_view_module_version": "1.2.0",
       "_view_name": "StyleView",
       "description_width": ""
      }
     },
     "df7ac121bc8c4ab5ae06011713748274": {
      "model_module": "@jupyter-widgets/controls",
      "model_module_version": "1.5.0",
      "model_name": "ProgressStyleModel",
      "state": {
       "_model_module": "@jupyter-widgets/controls",
       "_model_module_version": "1.5.0",
       "_model_name": "ProgressStyleModel",
       "_view_count": null,
       "_view_module": "@jupyter-widgets/base",
       "_view_module_version": "1.2.0",
       "_view_name": "StyleView",
       "bar_color": null,
       "description_width": ""
      }
     },
     "e3e9f0066e1f4a9c8f27771725ab2d86": {
      "model_module": "@jupyter-widgets/controls",
      "model_module_version": "1.5.0",
      "model_name": "ProgressStyleModel",
      "state": {
       "_model_module": "@jupyter-widgets/controls",
       "_model_module_version": "1.5.0",
       "_model_name": "ProgressStyleModel",
       "_view_count": null,
       "_view_module": "@jupyter-widgets/base",
       "_view_module_version": "1.2.0",
       "_view_name": "StyleView",
       "bar_color": null,
       "description_width": ""
      }
     },
     "e73349a12f674960b6a79cba1194b394": {
      "model_module": "@jupyter-widgets/base",
      "model_module_version": "1.2.0",
      "model_name": "LayoutModel",
      "state": {
       "_model_module": "@jupyter-widgets/base",
       "_model_module_version": "1.2.0",
       "_model_name": "LayoutModel",
       "_view_count": null,
       "_view_module": "@jupyter-widgets/base",
       "_view_module_version": "1.2.0",
       "_view_name": "LayoutView",
       "align_content": null,
       "align_items": null,
       "align_self": null,
       "border": null,
       "bottom": null,
       "display": null,
       "flex": null,
       "flex_flow": null,
       "grid_area": null,
       "grid_auto_columns": null,
       "grid_auto_flow": null,
       "grid_auto_rows": null,
       "grid_column": null,
       "grid_gap": null,
       "grid_row": null,
       "grid_template_areas": null,
       "grid_template_columns": null,
       "grid_template_rows": null,
       "height": null,
       "justify_content": null,
       "justify_items": null,
       "left": null,
       "margin": null,
       "max_height": null,
       "max_width": null,
       "min_height": null,
       "min_width": null,
       "object_fit": null,
       "object_position": null,
       "order": null,
       "overflow": null,
       "overflow_x": null,
       "overflow_y": null,
       "padding": null,
       "right": null,
       "top": null,
       "visibility": null,
       "width": null
      }
     },
     "ed1c73a04b4b45fcbffea8c0a3a26867": {
      "model_module": "@jupyter-widgets/controls",
      "model_module_version": "1.5.0",
      "model_name": "HTMLModel",
      "state": {
       "_dom_classes": [],
       "_model_module": "@jupyter-widgets/controls",
       "_model_module_version": "1.5.0",
       "_model_name": "HTMLModel",
       "_view_count": null,
       "_view_module": "@jupyter-widgets/controls",
       "_view_module_version": "1.5.0",
       "_view_name": "HTMLView",
       "description": "",
       "description_tooltip": null,
       "layout": "IPY_MODEL_5849818636074920abb93e55e009ed57",
       "placeholder": "​",
       "style": "IPY_MODEL_de3fb85d024040cd92ba0a49f70d93e4",
       "value": " 112/112 [00:00&lt;00:00, 3.44kB/s]"
      }
     },
     "f185e19f812f4d2eab5c9af1e09d4604": {
      "model_module": "@jupyter-widgets/controls",
      "model_module_version": "1.5.0",
      "model_name": "DescriptionStyleModel",
      "state": {
       "_model_module": "@jupyter-widgets/controls",
       "_model_module_version": "1.5.0",
       "_model_name": "DescriptionStyleModel",
       "_view_count": null,
       "_view_module": "@jupyter-widgets/base",
       "_view_module_version": "1.2.0",
       "_view_name": "StyleView",
       "description_width": ""
      }
     },
     "f1ed8738f7404bb4b543ce2455bb218a": {
      "model_module": "@jupyter-widgets/base",
      "model_module_version": "1.2.0",
      "model_name": "LayoutModel",
      "state": {
       "_model_module": "@jupyter-widgets/base",
       "_model_module_version": "1.2.0",
       "_model_name": "LayoutModel",
       "_view_count": null,
       "_view_module": "@jupyter-widgets/base",
       "_view_module_version": "1.2.0",
       "_view_name": "LayoutView",
       "align_content": null,
       "align_items": null,
       "align_self": null,
       "border": null,
       "bottom": null,
       "display": null,
       "flex": null,
       "flex_flow": null,
       "grid_area": null,
       "grid_auto_columns": null,
       "grid_auto_flow": null,
       "grid_auto_rows": null,
       "grid_column": null,
       "grid_gap": null,
       "grid_row": null,
       "grid_template_areas": null,
       "grid_template_columns": null,
       "grid_template_rows": null,
       "height": null,
       "justify_content": null,
       "justify_items": null,
       "left": null,
       "margin": null,
       "max_height": null,
       "max_width": null,
       "min_height": null,
       "min_width": null,
       "object_fit": null,
       "object_position": null,
       "order": null,
       "overflow": null,
       "overflow_x": null,
       "overflow_y": null,
       "padding": null,
       "right": null,
       "top": null,
       "visibility": null,
       "width": null
      }
     },
     "f46c46ec9d7246aa9b09e9dfc03cfed4": {
      "model_module": "@jupyter-widgets/controls",
      "model_module_version": "1.5.0",
      "model_name": "HBoxModel",
      "state": {
       "_dom_classes": [],
       "_model_module": "@jupyter-widgets/controls",
       "_model_module_version": "1.5.0",
       "_model_name": "HBoxModel",
       "_view_count": null,
       "_view_module": "@jupyter-widgets/controls",
       "_view_module_version": "1.5.0",
       "_view_name": "HBoxView",
       "box_style": "",
       "children": [
        "IPY_MODEL_b07311f824d9414ba99c26290381b9ca",
        "IPY_MODEL_173d19ab0e84472ea70d596f891b7bb1",
        "IPY_MODEL_ed1c73a04b4b45fcbffea8c0a3a26867"
       ],
       "layout": "IPY_MODEL_dad3d70026684042b0940d89322b4860"
      }
     },
     "fcd78897dac94c7ea0c221e6fbb56aad": {
      "model_module": "@jupyter-widgets/controls",
      "model_module_version": "1.5.0",
      "model_name": "HTMLModel",
      "state": {
       "_dom_classes": [],
       "_model_module": "@jupyter-widgets/controls",
       "_model_module_version": "1.5.0",
       "_model_name": "HTMLModel",
       "_view_count": null,
       "_view_module": "@jupyter-widgets/controls",
       "_view_module_version": "1.5.0",
       "_view_name": "HTMLView",
       "description": "",
       "description_tooltip": null,
       "layout": "IPY_MODEL_5a9ef88c1f624832a313ba2bc2216293",
       "placeholder": "​",
       "style": "IPY_MODEL_aa4f3105fa1b49588c84d14b430b8463",
       "value": "100%"
      }
     }
    },
    "version_major": 2,
    "version_minor": 0
   }
  }
 },
 "nbformat": 4,
 "nbformat_minor": 5
}
