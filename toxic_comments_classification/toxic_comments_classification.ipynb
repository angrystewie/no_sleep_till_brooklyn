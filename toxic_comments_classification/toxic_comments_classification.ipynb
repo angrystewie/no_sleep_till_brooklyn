{
 "cells": [
  {
   "cell_type": "markdown",
   "id": "ccc8d95a",
   "metadata": {
    "id": "7gV1BIBXjrH_",
    "papermill": {
     "duration": 0.018899,
     "end_time": "2022-07-18T09:25:26.485036",
     "exception": false,
     "start_time": "2022-07-18T09:25:26.466137",
     "status": "completed"
    },
    "tags": []
   },
   "source": [
    "<h1>Содержание<span class=\"tocSkip\"></span></h1>\n",
    "<div class=\"toc\"><ul class=\"toc-item\"><li><span><a href=\"#Подготовка\" data-toc-modified-id=\"Подготовка-1\"><span class=\"toc-item-num\">1&nbsp;&nbsp;</span>Подготовка</a></span></li><li><span><a href=\"#Обучение\" data-toc-modified-id=\"Обучение-2\"><span class=\"toc-item-num\">2&nbsp;&nbsp;</span>Обучение</a></span></li><li><span><a href=\"#Выводы\" data-toc-modified-id=\"Выводы-3\"><span class=\"toc-item-num\">3&nbsp;&nbsp;</span>Выводы</a></span></li><li><span><a href=\"#Чек-лист-проверки\" data-toc-modified-id=\"Чек-лист-проверки-4\"><span class=\"toc-item-num\">4&nbsp;&nbsp;</span>Чек-лист проверки</a></span></li></ul></div>"
   ]
  },
  {
   "cell_type": "markdown",
   "id": "f56949ab",
   "metadata": {
    "id": "gKmJ0C2gjrIR",
    "papermill": {
     "duration": 0.019542,
     "end_time": "2022-07-18T09:25:26.523417",
     "exception": false,
     "start_time": "2022-07-18T09:25:26.503875",
     "status": "completed"
    },
    "tags": []
   },
   "source": [
    "# Классификация комментариев"
   ]
  },
  {
   "cell_type": "markdown",
   "id": "3e7ade9e",
   "metadata": {
    "id": "hnyT1CvZjrIm",
    "papermill": {
     "duration": 0.034193,
     "end_time": "2022-07-18T09:25:26.576771",
     "exception": false,
     "start_time": "2022-07-18T09:25:26.542578",
     "status": "completed"
    },
    "tags": []
   },
   "source": [
    "Необходимо обучить модель классифицировать комментарии на позитивные и негативные. Данные размечены\n",
    "\n",
    "**Описание данных**\n",
    "\n",
    "Столбец *text* в датасете содержит текст комментария, а *toxic* — целевой признак."
   ]
  },
  {
   "cell_type": "markdown",
   "id": "5e95310f",
   "metadata": {
    "papermill": {
     "duration": 0.027545,
     "end_time": "2022-07-18T09:25:26.632533",
     "exception": false,
     "start_time": "2022-07-18T09:25:26.604988",
     "status": "completed"
    },
    "tags": []
   },
   "source": [
    "## Введение\n",
    "Каждый раздел данного проекта будет поделен на четыре части, где будут производиться манипуляции для подготовки данных, обучения моделей и представление результатов для каждого из четырех выбранных способов решения задачи:\n",
    "* TF-IDF + Логистическая регрессия;\n",
    "* TF-IDF + CatBoost;\n",
    "* BERT + Логистическая регрессия;\n",
    "* BERT + CatBoost."
   ]
  },
  {
   "cell_type": "markdown",
   "id": "6e8bc577",
   "metadata": {
    "id": "rDTIj0vHjrI2",
    "papermill": {
     "duration": 0.018908,
     "end_time": "2022-07-18T09:25:26.717334",
     "exception": false,
     "start_time": "2022-07-18T09:25:26.698426",
     "status": "completed"
    },
    "tags": []
   },
   "source": [
    "## Подготовка"
   ]
  },
  {
   "cell_type": "markdown",
   "id": "bca64a6f",
   "metadata": {
    "papermill": {
     "duration": 0.019148,
     "end_time": "2022-07-18T09:25:26.835268",
     "exception": false,
     "start_time": "2022-07-18T09:25:26.816120",
     "status": "completed"
    },
    "tags": []
   },
   "source": [
    "Делаем фундаментальные заявления"
   ]
  },
  {
   "cell_type": "code",
   "execution_count": 1,
   "id": "9bd572e5",
   "metadata": {
    "execution": {
     "iopub.execute_input": "2022-07-18T09:25:26.876070Z",
     "iopub.status.busy": "2022-07-18T09:25:26.875560Z",
     "iopub.status.idle": "2022-07-18T09:25:31.871595Z",
     "shell.execute_reply": "2022-07-18T09:25:31.870667Z"
    },
    "id": "i4ozlmH0j149",
    "outputId": "35911de5-3d74-4ab8-a687-e4d1dea836c4",
    "papermill": {
     "duration": 5.01997,
     "end_time": "2022-07-18T09:25:31.874329",
     "exception": false,
     "start_time": "2022-07-18T09:25:26.854359",
     "status": "completed"
    },
    "tags": []
   },
   "outputs": [],
   "source": [
    "# импортируем магию\n",
    "import numpy as np\n",
    "import os\n",
    "import pandas as pd\n",
    "import re\n",
    "import spacy\n",
    "import torch\n",
    "import transformers\n",
    "\n",
    "from catboost import CatBoostClassifier\n",
    "from catboost import Pool\n",
    "from sklearn.feature_extraction.text import TfidfVectorizer \n",
    "from sklearn.linear_model import LogisticRegression\n",
    "from sklearn.metrics import f1_score\n",
    "from sklearn.model_selection import GridSearchCV\n",
    "from sklearn.model_selection import train_test_split\n",
    "from tqdm import notebook\n"
   ]
  },
  {
   "cell_type": "markdown",
   "id": "2343025d",
   "metadata": {
    "papermill": {
     "duration": 0.020191,
     "end_time": "2022-07-18T09:25:31.914455",
     "exception": false,
     "start_time": "2022-07-18T09:25:31.894264",
     "status": "completed"
    },
    "tags": []
   },
   "source": [
    "Загружаем датасет"
   ]
  },
  {
   "cell_type": "code",
   "execution_count": 2,
   "id": "9a24c209",
   "metadata": {
    "execution": {
     "iopub.execute_input": "2022-07-18T09:25:31.955204Z",
     "iopub.status.busy": "2022-07-18T09:25:31.954754Z",
     "iopub.status.idle": "2022-07-18T09:25:35.372626Z",
     "shell.execute_reply": "2022-07-18T09:25:35.371216Z"
    },
    "id": "1LfxHCRwkKyw",
    "outputId": "4747d4f6-3ca7-4bce-eb6e-c203ff1c5806",
    "papermill": {
     "duration": 3.442528,
     "end_time": "2022-07-18T09:25:35.376218",
     "exception": false,
     "start_time": "2022-07-18T09:25:31.933690",
     "status": "completed"
    },
    "tags": []
   },
   "outputs": [],
   "source": [
    "try:\n",
    "    df = pd.read_csv('')\n",
    "except:\n",
    "    df = pd.read_csv('')\n"
   ]
  },
  {
   "cell_type": "markdown",
   "id": "2aeb9919",
   "metadata": {
    "papermill": {
     "duration": 0.020566,
     "end_time": "2022-07-18T09:25:35.571178",
     "exception": false,
     "start_time": "2022-07-18T09:25:35.550612",
     "status": "completed"
    },
    "tags": []
   },
   "source": [
    "Посмотрим на данные"
   ]
  },
  {
   "cell_type": "code",
   "execution_count": 3,
   "id": "ea4bcd98",
   "metadata": {
    "execution": {
     "iopub.execute_input": "2022-07-18T09:25:35.614724Z",
     "iopub.status.busy": "2022-07-18T09:25:35.614247Z",
     "iopub.status.idle": "2022-07-18T09:25:35.643327Z",
     "shell.execute_reply": "2022-07-18T09:25:35.642117Z"
    },
    "id": "dZIWFscDmOs7",
    "outputId": "9dd95e38-4afe-492e-d2de-07e2a0baa5ba",
    "papermill": {
     "duration": 0.055184,
     "end_time": "2022-07-18T09:25:35.647168",
     "exception": false,
     "start_time": "2022-07-18T09:25:35.591984",
     "status": "completed"
    },
    "tags": []
   },
   "outputs": [
    {
     "data": {
      "text/html": [
       "<div>\n",
       "<style scoped>\n",
       "    .dataframe tbody tr th:only-of-type {\n",
       "        vertical-align: middle;\n",
       "    }\n",
       "\n",
       "    .dataframe tbody tr th {\n",
       "        vertical-align: top;\n",
       "    }\n",
       "\n",
       "    .dataframe thead th {\n",
       "        text-align: right;\n",
       "    }\n",
       "</style>\n",
       "<table border=\"1\" class=\"dataframe\">\n",
       "  <thead>\n",
       "    <tr style=\"text-align: right;\">\n",
       "      <th></th>\n",
       "      <th>text</th>\n",
       "      <th>toxic</th>\n",
       "    </tr>\n",
       "  </thead>\n",
       "  <tbody>\n",
       "    <tr>\n",
       "      <th>0</th>\n",
       "      <td>Explanation\\nWhy the edits made under my usern...</td>\n",
       "      <td>0</td>\n",
       "    </tr>\n",
       "    <tr>\n",
       "      <th>1</th>\n",
       "      <td>D'aww! He matches this background colour I'm s...</td>\n",
       "      <td>0</td>\n",
       "    </tr>\n",
       "    <tr>\n",
       "      <th>2</th>\n",
       "      <td>Hey man, I'm really not trying to edit war. It...</td>\n",
       "      <td>0</td>\n",
       "    </tr>\n",
       "    <tr>\n",
       "      <th>3</th>\n",
       "      <td>\"\\nMore\\nI can't make any real suggestions on ...</td>\n",
       "      <td>0</td>\n",
       "    </tr>\n",
       "    <tr>\n",
       "      <th>4</th>\n",
       "      <td>You, sir, are my hero. Any chance you remember...</td>\n",
       "      <td>0</td>\n",
       "    </tr>\n",
       "  </tbody>\n",
       "</table>\n",
       "</div>"
      ],
      "text/plain": [
       "                                                text  toxic\n",
       "0  Explanation\\nWhy the edits made under my usern...      0\n",
       "1  D'aww! He matches this background colour I'm s...      0\n",
       "2  Hey man, I'm really not trying to edit war. It...      0\n",
       "3  \"\\nMore\\nI can't make any real suggestions on ...      0\n",
       "4  You, sir, are my hero. Any chance you remember...      0"
      ]
     },
     "metadata": {},
     "output_type": "display_data"
    },
    {
     "name": "stdout",
     "output_type": "stream",
     "text": [
      "(159571, 2)\n"
     ]
    },
    {
     "data": {
      "text/plain": [
       "0    143346\n",
       "1     16225\n",
       "Name: toxic, dtype: int64"
      ]
     },
     "execution_count": 3,
     "metadata": {},
     "output_type": "execute_result"
    }
   ],
   "source": [
    "display(df.head())\n",
    "print(df.shape)\n",
    "df['toxic'].value_counts()"
   ]
  },
  {
   "cell_type": "markdown",
   "id": "01144111",
   "metadata": {
    "papermill": {
     "duration": 0.0209,
     "end_time": "2022-07-18T09:25:35.689219",
     "exception": false,
     "start_time": "2022-07-18T09:25:35.668319",
     "status": "completed"
    },
    "tags": []
   },
   "source": [
    "Классы даже близко не сбалансированы.\n",
    "\n",
    "Сократим выборку в 10 раз. После проверим, сохранились ли пропорции классов, необходимые для чистоты эксперимента."
   ]
  },
  {
   "cell_type": "code",
   "execution_count": 4,
   "id": "b49cbb65",
   "metadata": {
    "execution": {
     "iopub.execute_input": "2022-07-18T09:25:35.732998Z",
     "iopub.status.busy": "2022-07-18T09:25:35.732425Z",
     "iopub.status.idle": "2022-07-18T09:25:35.756730Z",
     "shell.execute_reply": "2022-07-18T09:25:35.755673Z"
    },
    "papermill": {
     "duration": 0.048973,
     "end_time": "2022-07-18T09:25:35.759105",
     "exception": false,
     "start_time": "2022-07-18T09:25:35.710132",
     "status": "completed"
    },
    "tags": []
   },
   "outputs": [
    {
     "data": {
      "text/html": [
       "<div>\n",
       "<style scoped>\n",
       "    .dataframe tbody tr th:only-of-type {\n",
       "        vertical-align: middle;\n",
       "    }\n",
       "\n",
       "    .dataframe tbody tr th {\n",
       "        vertical-align: top;\n",
       "    }\n",
       "\n",
       "    .dataframe thead th {\n",
       "        text-align: right;\n",
       "    }\n",
       "</style>\n",
       "<table border=\"1\" class=\"dataframe\">\n",
       "  <thead>\n",
       "    <tr style=\"text-align: right;\">\n",
       "      <th></th>\n",
       "      <th>text</th>\n",
       "      <th>toxic</th>\n",
       "    </tr>\n",
       "  </thead>\n",
       "  <tbody>\n",
       "    <tr>\n",
       "      <th>0</th>\n",
       "      <td>\"\\n\\n A Helpful Haiku \\nMeaneager, I've writte...</td>\n",
       "      <td>0</td>\n",
       "    </tr>\n",
       "    <tr>\n",
       "      <th>1</th>\n",
       "      <td>The injury of The Undertaker \\n\\nI think it's ...</td>\n",
       "      <td>0</td>\n",
       "    </tr>\n",
       "    <tr>\n",
       "      <th>2</th>\n",
       "      <td>\"\\n Deletion discussion about JD Lighting \\nHe...</td>\n",
       "      <td>0</td>\n",
       "    </tr>\n",
       "    <tr>\n",
       "      <th>3</th>\n",
       "      <td>\"\\nYou're welcome! Glad to help you.  talk &amp; c...</td>\n",
       "      <td>0</td>\n",
       "    </tr>\n",
       "    <tr>\n",
       "      <th>4</th>\n",
       "      <td>So you're trying to justify the block because ...</td>\n",
       "      <td>0</td>\n",
       "    </tr>\n",
       "  </tbody>\n",
       "</table>\n",
       "</div>"
      ],
      "text/plain": [
       "                                                text  toxic\n",
       "0  \"\\n\\n A Helpful Haiku \\nMeaneager, I've writte...      0\n",
       "1  The injury of The Undertaker \\n\\nI think it's ...      0\n",
       "2  \"\\n Deletion discussion about JD Lighting \\nHe...      0\n",
       "3  \"\\nYou're welcome! Glad to help you.  talk & c...      0\n",
       "4  So you're trying to justify the block because ...      0"
      ]
     },
     "metadata": {},
     "output_type": "display_data"
    },
    {
     "data": {
      "text/plain": [
       "0    14322\n",
       "1     1635\n",
       "Name: toxic, dtype: int64"
      ]
     },
     "execution_count": 4,
     "metadata": {},
     "output_type": "execute_result"
    }
   ],
   "source": [
    "short_df = df.sample(len(df)//10, random_state=2007)\n",
    "short_df = short_df.reset_index(drop=True)\n",
    "display(short_df.head())\n",
    "short_df['toxic'].value_counts()\n"
   ]
  },
  {
   "cell_type": "markdown",
   "id": "38b704c0",
   "metadata": {
    "papermill": {
     "duration": 0.021505,
     "end_time": "2022-07-18T09:25:35.891831",
     "exception": false,
     "start_time": "2022-07-18T09:25:35.870326",
     "status": "completed"
    },
    "tags": []
   },
   "source": [
    "Пропорции похожи.\n",
    "\n",
    "Приступим к работе по подготовке данных. "
   ]
  },
  {
   "cell_type": "markdown",
   "id": "eeb04a82",
   "metadata": {
    "papermill": {
     "duration": 0.021394,
     "end_time": "2022-07-18T09:25:35.979070",
     "exception": false,
     "start_time": "2022-07-18T09:25:35.957676",
     "status": "completed"
    },
    "tags": []
   },
   "source": [
    "### TF-IDF + Logit\n",
    "В первую очередь нам необходимо провести предобработку непосредственно текстов. Библиотека `Spacy` поможет это там сделать легко и непринужденно.\n",
    "\n",
    "Загрузим и сохраним словарь."
   ]
  },
  {
   "cell_type": "code",
   "execution_count": 5,
   "id": "032e906c",
   "metadata": {
    "execution": {
     "iopub.execute_input": "2022-07-18T09:25:36.025962Z",
     "iopub.status.busy": "2022-07-18T09:25:36.025039Z",
     "iopub.status.idle": "2022-07-18T09:25:37.300798Z",
     "shell.execute_reply": "2022-07-18T09:25:37.299690Z"
    },
    "papermill": {
     "duration": 1.302663,
     "end_time": "2022-07-18T09:25:37.303854",
     "exception": false,
     "start_time": "2022-07-18T09:25:36.001191",
     "status": "completed"
    },
    "scrolled": true,
    "tags": []
   },
   "outputs": [],
   "source": [
    "nlp = spacy.load(\"en_core_web_sm\")"
   ]
  },
  {
   "cell_type": "markdown",
   "id": "613303e6",
   "metadata": {
    "papermill": {
     "duration": 0.019973,
     "end_time": "2022-07-18T09:25:37.472161",
     "exception": false,
     "start_time": "2022-07-18T09:25:37.452188",
     "status": "completed"
    },
    "tags": []
   },
   "source": [
    "Проведем работу по лемматизации, забудем стоп-слова и удалим знаки препинания. Сначала принизим все буквы до строчных, иначе есть риск оставить стоп-слова."
   ]
  },
  {
   "cell_type": "code",
   "execution_count": 6,
   "id": "b14dc4d0",
   "metadata": {
    "execution": {
     "iopub.execute_input": "2022-07-18T09:25:37.513724Z",
     "iopub.status.busy": "2022-07-18T09:25:37.512894Z",
     "iopub.status.idle": "2022-07-18T09:25:37.542124Z",
     "shell.execute_reply": "2022-07-18T09:25:37.541232Z"
    },
    "papermill": {
     "duration": 0.051839,
     "end_time": "2022-07-18T09:25:37.544056",
     "exception": false,
     "start_time": "2022-07-18T09:25:37.492217",
     "status": "completed"
    },
    "tags": []
   },
   "outputs": [
    {
     "data": {
      "text/html": [
       "<div>\n",
       "<style scoped>\n",
       "    .dataframe tbody tr th:only-of-type {\n",
       "        vertical-align: middle;\n",
       "    }\n",
       "\n",
       "    .dataframe tbody tr th {\n",
       "        vertical-align: top;\n",
       "    }\n",
       "\n",
       "    .dataframe thead th {\n",
       "        text-align: right;\n",
       "    }\n",
       "</style>\n",
       "<table border=\"1\" class=\"dataframe\">\n",
       "  <thead>\n",
       "    <tr style=\"text-align: right;\">\n",
       "      <th></th>\n",
       "      <th>text</th>\n",
       "      <th>toxic</th>\n",
       "    </tr>\n",
       "  </thead>\n",
       "  <tbody>\n",
       "    <tr>\n",
       "      <th>15270</th>\n",
       "      <td>\"\\n - interview the 1 \"</td>\n",
       "      <td>0</td>\n",
       "    </tr>\n",
       "    <tr>\n",
       "      <th>6378</th>\n",
       "      <td>\"\\n\\n a barnstar for you! \\n\\n  the random act...</td>\n",
       "      <td>0</td>\n",
       "    </tr>\n",
       "    <tr>\n",
       "      <th>10463</th>\n",
       "      <td>former porn star turned p.i. paul barresi cond...</td>\n",
       "      <td>0</td>\n",
       "    </tr>\n",
       "    <tr>\n",
       "      <th>6194</th>\n",
       "      <td>you blocked me for a whole month? you said onl...</td>\n",
       "      <td>1</td>\n",
       "    </tr>\n",
       "    <tr>\n",
       "      <th>8336</th>\n",
       "      <td>the seasons are split but rugby league is a su...</td>\n",
       "      <td>0</td>\n",
       "    </tr>\n",
       "    <tr>\n",
       "      <th>1367</th>\n",
       "      <td>\"\\n\\n   \\nmongo, tell us. why did you do wtc? ...</td>\n",
       "      <td>1</td>\n",
       "    </tr>\n",
       "    <tr>\n",
       "      <th>9340</th>\n",
       "      <td>so... \\n\\nasking someone to mind their own bus...</td>\n",
       "      <td>0</td>\n",
       "    </tr>\n",
       "    <tr>\n",
       "      <th>1698</th>\n",
       "      <td>the us did not fight at 2nd battle of el alamein!</td>\n",
       "      <td>0</td>\n",
       "    </tr>\n",
       "    <tr>\n",
       "      <th>549</th>\n",
       "      <td>\"\\n\\n more information about the moschee \\n\\nm...</td>\n",
       "      <td>0</td>\n",
       "    </tr>\n",
       "    <tr>\n",
       "      <th>9081</th>\n",
       "      <td>sorry caden. i thank you for what you did on t...</td>\n",
       "      <td>0</td>\n",
       "    </tr>\n",
       "  </tbody>\n",
       "</table>\n",
       "</div>"
      ],
      "text/plain": [
       "                                                    text  toxic\n",
       "15270                            \"\\n - interview the 1 \"      0\n",
       "6378   \"\\n\\n a barnstar for you! \\n\\n  the random act...      0\n",
       "10463  former porn star turned p.i. paul barresi cond...      0\n",
       "6194   you blocked me for a whole month? you said onl...      1\n",
       "8336   the seasons are split but rugby league is a su...      0\n",
       "1367   \"\\n\\n   \\nmongo, tell us. why did you do wtc? ...      1\n",
       "9340   so... \\n\\nasking someone to mind their own bus...      0\n",
       "1698   the us did not fight at 2nd battle of el alamein!      0\n",
       "549    \"\\n\\n more information about the moschee \\n\\nm...      0\n",
       "9081   sorry caden. i thank you for what you did on t...      0"
      ]
     },
     "execution_count": 6,
     "metadata": {},
     "output_type": "execute_result"
    }
   ],
   "source": [
    "short_df['text'] = short_df['text'].apply(lambda text: text.lower())\n",
    "\n",
    "short_df.sample(10)"
   ]
  },
  {
   "cell_type": "markdown",
   "id": "6e760db0",
   "metadata": {
    "papermill": {
     "duration": 0.020174,
     "end_time": "2022-07-18T09:25:37.584197",
     "exception": false,
     "start_time": "2022-07-18T09:25:37.564023",
     "status": "completed"
    },
    "tags": []
   },
   "source": [
    "Теперь перейдем, непосредственно, к делу"
   ]
  },
  {
   "cell_type": "code",
   "execution_count": 7,
   "id": "8a7f73a4",
   "metadata": {
    "execution": {
     "iopub.execute_input": "2022-07-18T09:25:37.625930Z",
     "iopub.status.busy": "2022-07-18T09:25:37.625365Z",
     "iopub.status.idle": "2022-07-18T09:29:50.595694Z",
     "shell.execute_reply": "2022-07-18T09:29:50.594662Z"
    },
    "papermill": {
     "duration": 253.013144,
     "end_time": "2022-07-18T09:29:50.617892",
     "exception": false,
     "start_time": "2022-07-18T09:25:37.604748",
     "status": "completed"
    },
    "tags": []
   },
   "outputs": [
    {
     "name": "stdout",
     "output_type": "stream",
     "text": [
      "CPU times: user 4min 6s, sys: 5.71 s, total: 4min 12s\n",
      "Wall time: 4min 12s\n"
     ]
    }
   ],
   "source": [
    "%%time\n",
    "short_df['lemm_text'] = (short_df['text']\n",
    "                         .apply(lambda text: \n",
    "                                \" \".join(token.lemma_ for token in nlp(text) \n",
    "                                         if not (token.is_stop or token.is_punct or token.is_space or\n",
    "                                                token.like_url or token.like_email or token.like_num))))"
   ]
  },
  {
   "cell_type": "code",
   "execution_count": 8,
   "id": "05336e05",
   "metadata": {
    "execution": {
     "iopub.execute_input": "2022-07-18T09:29:50.659312Z",
     "iopub.status.busy": "2022-07-18T09:29:50.658613Z",
     "iopub.status.idle": "2022-07-18T09:29:50.672019Z",
     "shell.execute_reply": "2022-07-18T09:29:50.671149Z"
    },
    "papermill": {
     "duration": 0.036095,
     "end_time": "2022-07-18T09:29:50.673969",
     "exception": false,
     "start_time": "2022-07-18T09:29:50.637874",
     "status": "completed"
    },
    "tags": []
   },
   "outputs": [
    {
     "data": {
      "text/html": [
       "<div>\n",
       "<style scoped>\n",
       "    .dataframe tbody tr th:only-of-type {\n",
       "        vertical-align: middle;\n",
       "    }\n",
       "\n",
       "    .dataframe tbody tr th {\n",
       "        vertical-align: top;\n",
       "    }\n",
       "\n",
       "    .dataframe thead th {\n",
       "        text-align: right;\n",
       "    }\n",
       "</style>\n",
       "<table border=\"1\" class=\"dataframe\">\n",
       "  <thead>\n",
       "    <tr style=\"text-align: right;\">\n",
       "      <th></th>\n",
       "      <th>text</th>\n",
       "      <th>toxic</th>\n",
       "      <th>lemm_text</th>\n",
       "    </tr>\n",
       "  </thead>\n",
       "  <tbody>\n",
       "    <tr>\n",
       "      <th>3197</th>\n",
       "      <td>\"\\n\\nxkcd\\n\\nhey!  a fan pointed me over to wh...</td>\n",
       "      <td>0</td>\n",
       "      <td>xkcd hey fan point delete line working nasa sh...</td>\n",
       "    </tr>\n",
       "    <tr>\n",
       "      <th>10816</th>\n",
       "      <td>sineature \\n\\nhi slakr,\\nyou have a lovely robot.</td>\n",
       "      <td>0</td>\n",
       "      <td>sineature hi slakr lovely robot</td>\n",
       "    </tr>\n",
       "    <tr>\n",
       "      <th>3491</th>\n",
       "      <td>what they say about wikipedia is right. it's a...</td>\n",
       "      <td>1</td>\n",
       "      <td>wikipedia right mob mentality shit rule right ...</td>\n",
       "    </tr>\n",
       "    <tr>\n",
       "      <th>12551</th>\n",
       "      <td>all quiet at the moment - i will keep an eye o...</td>\n",
       "      <td>0</td>\n",
       "      <td>quiet moment eye bias channel tunnel number time</td>\n",
       "    </tr>\n",
       "    <tr>\n",
       "      <th>5338</th>\n",
       "      <td>just dumped this bit of pov commentary in the ...</td>\n",
       "      <td>0</td>\n",
       "      <td>dump bit pov commentary article revert subvers...</td>\n",
       "    </tr>\n",
       "    <tr>\n",
       "      <th>3613</th>\n",
       "      <td>\":the copyright-permitted obituary - permit se...</td>\n",
       "      <td>0</td>\n",
       "      <td>copyright permit obituary permit send wikipedi...</td>\n",
       "    </tr>\n",
       "    <tr>\n",
       "      <th>9011</th>\n",
       "      <td>re: grey currawong \\n\\nno (good) photos yet, a...</td>\n",
       "      <td>0</td>\n",
       "      <td>grey currawong good photo sun go pretty dark t...</td>\n",
       "    </tr>\n",
       "    <tr>\n",
       "      <th>10080</th>\n",
       "      <td>please read... \\n\\nplease read this.  ip users...</td>\n",
       "      <td>0</td>\n",
       "      <td>read read ip user bad discriminate</td>\n",
       "    </tr>\n",
       "    <tr>\n",
       "      <th>10203</th>\n",
       "      <td>\"\\nrama rao tatineni - a film director who has...</td>\n",
       "      <td>0</td>\n",
       "      <td>rama rao tatineni film director director film ...</td>\n",
       "    </tr>\n",
       "    <tr>\n",
       "      <th>7786</th>\n",
       "      <td>\"please stop vandalizing the article on \"\"the ...</td>\n",
       "      <td>0</td>\n",
       "      <td>stop vandalize article shocker people lot work...</td>\n",
       "    </tr>\n",
       "  </tbody>\n",
       "</table>\n",
       "</div>"
      ],
      "text/plain": [
       "                                                    text  toxic  \\\n",
       "3197   \"\\n\\nxkcd\\n\\nhey!  a fan pointed me over to wh...      0   \n",
       "10816  sineature \\n\\nhi slakr,\\nyou have a lovely robot.      0   \n",
       "3491   what they say about wikipedia is right. it's a...      1   \n",
       "12551  all quiet at the moment - i will keep an eye o...      0   \n",
       "5338   just dumped this bit of pov commentary in the ...      0   \n",
       "3613   \":the copyright-permitted obituary - permit se...      0   \n",
       "9011   re: grey currawong \\n\\nno (good) photos yet, a...      0   \n",
       "10080  please read... \\n\\nplease read this.  ip users...      0   \n",
       "10203  \"\\nrama rao tatineni - a film director who has...      0   \n",
       "7786   \"please stop vandalizing the article on \"\"the ...      0   \n",
       "\n",
       "                                               lemm_text  \n",
       "3197   xkcd hey fan point delete line working nasa sh...  \n",
       "10816                    sineature hi slakr lovely robot  \n",
       "3491   wikipedia right mob mentality shit rule right ...  \n",
       "12551   quiet moment eye bias channel tunnel number time  \n",
       "5338   dump bit pov commentary article revert subvers...  \n",
       "3613   copyright permit obituary permit send wikipedi...  \n",
       "9011   grey currawong good photo sun go pretty dark t...  \n",
       "10080                 read read ip user bad discriminate  \n",
       "10203  rama rao tatineni film director director film ...  \n",
       "7786   stop vandalize article shocker people lot work...  "
      ]
     },
     "execution_count": 8,
     "metadata": {},
     "output_type": "execute_result"
    }
   ],
   "source": [
    "short_df.sample(10)"
   ]
  },
  {
   "cell_type": "markdown",
   "id": "3d6fe1dc",
   "metadata": {
    "papermill": {
     "duration": 0.020562,
     "end_time": "2022-07-18T09:29:50.794795",
     "exception": false,
     "start_time": "2022-07-18T09:29:50.774233",
     "status": "completed"
    },
    "tags": []
   },
   "source": [
    "Обзначим фичи и таргет"
   ]
  },
  {
   "cell_type": "code",
   "execution_count": 9,
   "id": "d4b6ab7e",
   "metadata": {
    "execution": {
     "iopub.execute_input": "2022-07-18T09:29:50.836057Z",
     "iopub.status.busy": "2022-07-18T09:29:50.835726Z",
     "iopub.status.idle": "2022-07-18T09:29:50.842556Z",
     "shell.execute_reply": "2022-07-18T09:29:50.841669Z"
    },
    "papermill": {
     "duration": 0.029477,
     "end_time": "2022-07-18T09:29:50.844355",
     "exception": false,
     "start_time": "2022-07-18T09:29:50.814878",
     "status": "completed"
    },
    "tags": []
   },
   "outputs": [
    {
     "data": {
      "text/plain": [
       "((15957,), (15957,))"
      ]
     },
     "execution_count": 9,
     "metadata": {},
     "output_type": "execute_result"
    }
   ],
   "source": [
    "X_tfidf = short_df['lemm_text']\n",
    "y_tfidf = short_df['toxic']\n",
    "X_tfidf.shape, y_tfidf.shape"
   ]
  },
  {
   "cell_type": "markdown",
   "id": "26a56309",
   "metadata": {
    "papermill": {
     "duration": 0.019882,
     "end_time": "2022-07-18T09:29:50.884256",
     "exception": false,
     "start_time": "2022-07-18T09:29:50.864374",
     "status": "completed"
    },
    "tags": []
   },
   "source": [
    "Разобьем выборку на трейн и тест"
   ]
  },
  {
   "cell_type": "code",
   "execution_count": 10,
   "id": "8a55d86c",
   "metadata": {
    "execution": {
     "iopub.execute_input": "2022-07-18T09:29:50.966144Z",
     "iopub.status.busy": "2022-07-18T09:29:50.965877Z",
     "iopub.status.idle": "2022-07-18T09:29:50.976239Z",
     "shell.execute_reply": "2022-07-18T09:29:50.975257Z"
    },
    "papermill": {
     "duration": 0.034136,
     "end_time": "2022-07-18T09:29:50.978307",
     "exception": false,
     "start_time": "2022-07-18T09:29:50.944171",
     "status": "completed"
    },
    "tags": []
   },
   "outputs": [
    {
     "data": {
      "text/plain": [
       "((11967,), (3990,), (11967,), (3990,))"
      ]
     },
     "execution_count": 10,
     "metadata": {},
     "output_type": "execute_result"
    }
   ],
   "source": [
    "X_train_tfidf, X_test_tfidf, y_train_tfidf, y_test_tfidf = train_test_split(X_tfidf, \n",
    "                                                                            y_tfidf, \n",
    "                                                                            test_size=0.25, \n",
    "                                                                            random_state=2007)\n",
    "\n",
    "X_train_tfidf.shape, X_test_tfidf.shape, y_train_tfidf.shape, y_test_tfidf.shape"
   ]
  },
  {
   "cell_type": "markdown",
   "id": "aa2f93b2",
   "metadata": {
    "papermill": {
     "duration": 0.020176,
     "end_time": "2022-07-18T09:29:51.019125",
     "exception": false,
     "start_time": "2022-07-18T09:29:50.998949",
     "status": "completed"
    },
    "tags": []
   },
   "source": [
    "Превратим наш набор слов в векторы"
   ]
  },
  {
   "cell_type": "code",
   "execution_count": 11,
   "id": "4bb64a88",
   "metadata": {
    "execution": {
     "iopub.execute_input": "2022-07-18T09:29:51.060870Z",
     "iopub.status.busy": "2022-07-18T09:29:51.060616Z",
     "iopub.status.idle": "2022-07-18T09:29:51.663563Z",
     "shell.execute_reply": "2022-07-18T09:29:51.662540Z"
    },
    "papermill": {
     "duration": 0.626149,
     "end_time": "2022-07-18T09:29:51.665871",
     "exception": false,
     "start_time": "2022-07-18T09:29:51.039722",
     "status": "completed"
    },
    "tags": []
   },
   "outputs": [
    {
     "name": "stdout",
     "output_type": "stream",
     "text": [
      "CPU times: user 581 ms, sys: 12 ms, total: 593 ms\n",
      "Wall time: 598 ms\n"
     ]
    }
   ],
   "source": [
    "%%time\n",
    "vect = TfidfVectorizer()\n",
    "X_train_tfidf = vect.fit_transform(X_train_tfidf) \n",
    "X_test_tfidf = vect.transform(X_test_tfidf) "
   ]
  },
  {
   "cell_type": "markdown",
   "id": "bfaf31a2",
   "metadata": {
    "papermill": {
     "duration": 0.020189,
     "end_time": "2022-07-18T09:29:51.707572",
     "exception": false,
     "start_time": "2022-07-18T09:29:51.687383",
     "status": "completed"
    },
    "tags": []
   },
   "source": [
    "К обучению моделей все готово."
   ]
  },
  {
   "cell_type": "markdown",
   "id": "6fab4698",
   "metadata": {
    "papermill": {
     "duration": 0.020144,
     "end_time": "2022-07-18T09:29:51.789316",
     "exception": false,
     "start_time": "2022-07-18T09:29:51.769172",
     "status": "completed"
    },
    "tags": []
   },
   "source": [
    "### TF-IDF + CatBoost\n",
    "Настроем Pool и параметры, укажем вес классов"
   ]
  },
  {
   "cell_type": "markdown",
   "id": "29632f63",
   "metadata": {
    "papermill": {
     "duration": 0.020342,
     "end_time": "2022-07-18T09:29:51.829900",
     "exception": false,
     "start_time": "2022-07-18T09:29:51.809558",
     "status": "completed"
    },
    "tags": []
   },
   "source": [
    "Создаем Pool"
   ]
  },
  {
   "cell_type": "code",
   "execution_count": 12,
   "id": "9f8394db",
   "metadata": {
    "execution": {
     "iopub.execute_input": "2022-07-18T09:29:51.872464Z",
     "iopub.status.busy": "2022-07-18T09:29:51.872144Z",
     "iopub.status.idle": "2022-07-18T09:29:52.009796Z",
     "shell.execute_reply": "2022-07-18T09:29:52.008852Z"
    },
    "papermill": {
     "duration": 0.161606,
     "end_time": "2022-07-18T09:29:52.012149",
     "exception": false,
     "start_time": "2022-07-18T09:29:51.850543",
     "status": "completed"
    },
    "tags": []
   },
   "outputs": [],
   "source": [
    "train_data_cb = Pool(X_train_tfidf, \n",
    "                    y_train_tfidf)\n",
    "\n",
    "test_data_cb = Pool(X_test_tfidf, \n",
    "                    y_test_tfidf)"
   ]
  },
  {
   "cell_type": "markdown",
   "id": "1516c76b",
   "metadata": {
    "papermill": {
     "duration": 0.020183,
     "end_time": "2022-07-18T09:29:52.053710",
     "exception": false,
     "start_time": "2022-07-18T09:29:52.033527",
     "status": "completed"
    },
    "tags": []
   },
   "source": [
    "Взвесим классы, чтобы лучше настроить модель"
   ]
  },
  {
   "cell_type": "code",
   "execution_count": 13,
   "id": "f6c68d97",
   "metadata": {
    "execution": {
     "iopub.execute_input": "2022-07-18T09:29:52.096234Z",
     "iopub.status.busy": "2022-07-18T09:29:52.095928Z",
     "iopub.status.idle": "2022-07-18T09:29:52.103220Z",
     "shell.execute_reply": "2022-07-18T09:29:52.102353Z"
    },
    "papermill": {
     "duration": 0.030565,
     "end_time": "2022-07-18T09:29:52.105156",
     "exception": false,
     "start_time": "2022-07-18T09:29:52.074591",
     "status": "completed"
    },
    "tags": []
   },
   "outputs": [
    {
     "data": {
      "text/plain": [
       "[1, 8.543062200956937]"
      ]
     },
     "execution_count": 13,
     "metadata": {},
     "output_type": "execute_result"
    }
   ],
   "source": [
    "cw = [1,(y_train_tfidf==0).sum() / (y_train_tfidf==1).sum()]\n",
    "cw"
   ]
  },
  {
   "cell_type": "markdown",
   "id": "d6dcd5a3",
   "metadata": {
    "papermill": {
     "duration": 0.020115,
     "end_time": "2022-07-18T09:29:52.146557",
     "exception": false,
     "start_time": "2022-07-18T09:29:52.126442",
     "status": "completed"
    },
    "tags": []
   },
   "source": [
    "Объявим параметры модели"
   ]
  },
  {
   "cell_type": "code",
   "execution_count": 14,
   "id": "6ccce07f",
   "metadata": {
    "execution": {
     "iopub.execute_input": "2022-07-18T09:29:52.188301Z",
     "iopub.status.busy": "2022-07-18T09:29:52.188035Z",
     "iopub.status.idle": "2022-07-18T09:29:52.192852Z",
     "shell.execute_reply": "2022-07-18T09:29:52.191894Z"
    },
    "papermill": {
     "duration": 0.028379,
     "end_time": "2022-07-18T09:29:52.195238",
     "exception": false,
     "start_time": "2022-07-18T09:29:52.166859",
     "status": "completed"
    },
    "tags": []
   },
   "outputs": [],
   "source": [
    "params_cb = {'eval_metric': 'F1', \n",
    "             'loss_function': 'Logloss',\n",
    "             'learning_rate': 0.1,\n",
    "             'random_seed': 42,\n",
    "             'verbose':100,\n",
    "             'depth':10,\n",
    "             'l2_leaf_reg':9}"
   ]
  },
  {
   "cell_type": "markdown",
   "id": "ca4191d9",
   "metadata": {
    "papermill": {
     "duration": 0.020179,
     "end_time": "2022-07-18T09:29:52.236250",
     "exception": false,
     "start_time": "2022-07-18T09:29:52.216071",
     "status": "completed"
    },
    "tags": []
   },
   "source": [
    "Оcтавим дефолтное значение. Все готово к обучению!"
   ]
  },
  {
   "cell_type": "markdown",
   "id": "6b256aaa",
   "metadata": {
    "papermill": {
     "duration": 0.034412,
     "end_time": "2022-07-18T09:29:52.292945",
     "exception": false,
     "start_time": "2022-07-18T09:29:52.258533",
     "status": "completed"
    },
    "tags": []
   },
   "source": [
    "### BERT + Логит"
   ]
  },
  {
   "cell_type": "markdown",
   "id": "b363f7bb",
   "metadata": {
    "papermill": {
     "duration": 0.042982,
     "end_time": "2022-07-18T09:29:52.376152",
     "exception": false,
     "start_time": "2022-07-18T09:29:52.333170",
     "status": "completed"
    },
    "tags": []
   },
   "source": [
    "Оставим в предложениях только английские слова, используя регулярные выражения"
   ]
  },
  {
   "cell_type": "markdown",
   "id": "9e86f66a",
   "metadata": {
    "execution": {
     "iopub.execute_input": "2022-07-12T10:16:04.345338Z",
     "iopub.status.busy": "2022-07-12T10:16:04.344678Z",
     "iopub.status.idle": "2022-07-12T10:16:04.349551Z",
     "shell.execute_reply": "2022-07-12T10:16:04.348548Z",
     "shell.execute_reply.started": "2022-07-12T10:16:04.345301Z"
    },
    "id": "Nwzs-DGB1uQh",
    "papermill": {
     "duration": 0.035072,
     "end_time": "2022-07-18T09:29:52.446220",
     "exception": false,
     "start_time": "2022-07-18T09:29:52.411148",
     "status": "completed"
    },
    "tags": []
   },
   "source": [
    "Загрузим токенайзер"
   ]
  },
  {
   "cell_type": "code",
   "execution_count": 15,
   "id": "afa8ada0",
   "metadata": {
    "execution": {
     "iopub.execute_input": "2022-07-18T09:29:52.517828Z",
     "iopub.status.busy": "2022-07-18T09:29:52.517359Z",
     "iopub.status.idle": "2022-07-18T09:29:57.097990Z",
     "shell.execute_reply": "2022-07-18T09:29:57.097120Z"
    },
    "id": "IPV1qxTzmO4U",
    "outputId": "1fdff6be-f731-46e3-cc26-58234be126f8",
    "papermill": {
     "duration": 4.619039,
     "end_time": "2022-07-18T09:29:57.100135",
     "exception": false,
     "start_time": "2022-07-18T09:29:52.481096",
     "status": "completed"
    },
    "tags": []
   },
   "outputs": [
    {
     "data": {
      "application/vnd.jupyter.widget-view+json": {
       "model_id": "d09ac7cc1e7549e9b9ea48f13c74cdaf",
       "version_major": 2,
       "version_minor": 0
      },
      "text/plain": [
       "Downloading:   0%|          | 0.00/226k [00:00<?, ?B/s]"
      ]
     },
     "metadata": {},
     "output_type": "display_data"
    },
    {
     "data": {
      "application/vnd.jupyter.widget-view+json": {
       "model_id": "ddc21aeec6ae408488d10b01197692e9",
       "version_major": 2,
       "version_minor": 0
      },
      "text/plain": [
       "Downloading:   0%|          | 0.00/28.0 [00:00<?, ?B/s]"
      ]
     },
     "metadata": {},
     "output_type": "display_data"
    },
    {
     "data": {
      "application/vnd.jupyter.widget-view+json": {
       "model_id": "0c375722efa949e9a0d4530698b510a5",
       "version_major": 2,
       "version_minor": 0
      },
      "text/plain": [
       "Downloading:   0%|          | 0.00/570 [00:00<?, ?B/s]"
      ]
     },
     "metadata": {},
     "output_type": "display_data"
    }
   ],
   "source": [
    "tokenizer = transformers.BertTokenizer.from_pretrained('bert-base-uncased')"
   ]
  },
  {
   "cell_type": "markdown",
   "id": "03bb99d5",
   "metadata": {
    "execution": {
     "iopub.execute_input": "2022-07-14T10:07:37.399117Z",
     "iopub.status.busy": "2022-07-14T10:07:37.398684Z",
     "iopub.status.idle": "2022-07-14T10:07:37.493116Z",
     "shell.execute_reply": "2022-07-14T10:07:37.491301Z",
     "shell.execute_reply.started": "2022-07-14T10:07:37.399031Z"
    },
    "papermill": {
     "duration": 0.020919,
     "end_time": "2022-07-18T09:29:57.269587",
     "exception": false,
     "start_time": "2022-07-18T09:29:57.248668",
     "status": "completed"
    },
    "tags": []
   },
   "source": [
    "Собственно, токенизируем"
   ]
  },
  {
   "cell_type": "code",
   "execution_count": 16,
   "id": "da0eee28",
   "metadata": {
    "execution": {
     "iopub.execute_input": "2022-07-18T09:29:57.312802Z",
     "iopub.status.busy": "2022-07-18T09:29:57.312492Z",
     "iopub.status.idle": "2022-07-18T09:30:38.165137Z",
     "shell.execute_reply": "2022-07-18T09:30:38.164143Z"
    },
    "papermill": {
     "duration": 40.896801,
     "end_time": "2022-07-18T09:30:38.187581",
     "exception": false,
     "start_time": "2022-07-18T09:29:57.290780",
     "status": "completed"
    },
    "tags": []
   },
   "outputs": [
    {
     "name": "stdout",
     "output_type": "stream",
     "text": [
      "CPU times: user 40.5 s, sys: 131 ms, total: 40.7 s\n",
      "Wall time: 40.8 s\n"
     ]
    }
   ],
   "source": [
    "%%time\n",
    "tokenized = short_df['text'].apply(\n",
    "    lambda x: tokenizer.encode(x, \n",
    "                               add_special_tokens=True, \n",
    "                               max_length=512, \n",
    "                               truncation=True))"
   ]
  },
  {
   "cell_type": "markdown",
   "id": "c2461c2c",
   "metadata": {
    "papermill": {
     "duration": 0.020979,
     "end_time": "2022-07-18T09:30:38.484022",
     "exception": false,
     "start_time": "2022-07-18T09:30:38.463043",
     "status": "completed"
    },
    "tags": []
   },
   "source": [
    "Оставим только 15900 строк, т.к. батчи будут по 100 элементов, и нам необходимо иметь и фичи, и таргеты, кратными им"
   ]
  },
  {
   "cell_type": "code",
   "execution_count": 17,
   "id": "a18522df",
   "metadata": {
    "execution": {
     "iopub.execute_input": "2022-07-18T09:30:38.527521Z",
     "iopub.status.busy": "2022-07-18T09:30:38.527166Z",
     "iopub.status.idle": "2022-07-18T09:30:38.533986Z",
     "shell.execute_reply": "2022-07-18T09:30:38.533115Z"
    },
    "papermill": {
     "duration": 0.030631,
     "end_time": "2022-07-18T09:30:38.535828",
     "exception": false,
     "start_time": "2022-07-18T09:30:38.505197",
     "status": "completed"
    },
    "tags": []
   },
   "outputs": [
    {
     "data": {
      "text/plain": [
       "((15900, 3), (15900,))"
      ]
     },
     "execution_count": 17,
     "metadata": {},
     "output_type": "execute_result"
    }
   ],
   "source": [
    "short_df = short_df[0:15900]\n",
    "tokenized = tokenized[0:15900]\n",
    "short_df.shape, tokenized.shape"
   ]
  },
  {
   "cell_type": "markdown",
   "id": "28b80fc8",
   "metadata": {
    "papermill": {
     "duration": 0.020756,
     "end_time": "2022-07-18T09:30:38.577674",
     "exception": false,
     "start_time": "2022-07-18T09:30:38.556918",
     "status": "completed"
    },
    "tags": []
   },
   "source": [
    "Выровняем длины строк, добавив коротким строкам нули и сохраним в маску строки без них."
   ]
  },
  {
   "cell_type": "code",
   "execution_count": 18,
   "id": "96d7f646",
   "metadata": {
    "execution": {
     "iopub.execute_input": "2022-07-18T09:30:38.622254Z",
     "iopub.status.busy": "2022-07-18T09:30:38.621996Z",
     "iopub.status.idle": "2022-07-18T09:30:39.760090Z",
     "shell.execute_reply": "2022-07-18T09:30:39.759117Z"
    },
    "id": "-BEqi7fj0wGK",
    "papermill": {
     "duration": 1.162772,
     "end_time": "2022-07-18T09:30:39.762371",
     "exception": false,
     "start_time": "2022-07-18T09:30:38.599599",
     "status": "completed"
    },
    "tags": []
   },
   "outputs": [],
   "source": [
    "padded = np.array([i + [0]*(512 - len(i)) for i in tokenized.values])\n",
    "\n",
    "attention_mask = np.where(padded != 0, 1, 0)"
   ]
  },
  {
   "cell_type": "markdown",
   "id": "fb40670b",
   "metadata": {
    "papermill": {
     "duration": 0.021424,
     "end_time": "2022-07-18T09:30:39.890601",
     "exception": false,
     "start_time": "2022-07-18T09:30:39.869177",
     "status": "completed"
    },
    "tags": []
   },
   "source": [
    "Создадим копию класса модели и укажем, что будем работать с GPU"
   ]
  },
  {
   "cell_type": "code",
   "execution_count": 19,
   "id": "3d79d4a5",
   "metadata": {
    "execution": {
     "iopub.execute_input": "2022-07-18T09:30:39.934918Z",
     "iopub.status.busy": "2022-07-18T09:30:39.934311Z",
     "iopub.status.idle": "2022-07-18T09:31:25.039785Z",
     "shell.execute_reply": "2022-07-18T09:31:25.038826Z"
    },
    "papermill": {
     "duration": 45.130541,
     "end_time": "2022-07-18T09:31:25.042202",
     "exception": false,
     "start_time": "2022-07-18T09:30:39.911661",
     "status": "completed"
    },
    "tags": []
   },
   "outputs": [
    {
     "data": {
      "application/vnd.jupyter.widget-view+json": {
       "model_id": "8bad255dcf8c4104a8510e9efcef7804",
       "version_major": 2,
       "version_minor": 0
      },
      "text/plain": [
       "Downloading:   0%|          | 0.00/420M [00:00<?, ?B/s]"
      ]
     },
     "metadata": {},
     "output_type": "display_data"
    },
    {
     "name": "stderr",
     "output_type": "stream",
     "text": [
      "Some weights of the model checkpoint at bert-base-uncased were not used when initializing BertModel: ['cls.predictions.transform.LayerNorm.bias', 'cls.seq_relationship.bias', 'cls.predictions.transform.dense.bias', 'cls.seq_relationship.weight', 'cls.predictions.transform.LayerNorm.weight', 'cls.predictions.bias', 'cls.predictions.transform.dense.weight', 'cls.predictions.decoder.weight']\n",
      "- This IS expected if you are initializing BertModel from the checkpoint of a model trained on another task or with another architecture (e.g. initializing a BertForSequenceClassification model from a BertForPreTraining model).\n",
      "- This IS NOT expected if you are initializing BertModel from the checkpoint of a model that you expect to be exactly identical (initializing a BertForSequenceClassification model from a BertForSequenceClassification model).\n"
     ]
    }
   ],
   "source": [
    "device = torch.device(\"cuda:0\") if torch.cuda.is_available() else torch.device(\"cpu\")\n",
    "\n",
    "BERT_model = transformers.BertModel.from_pretrained(\"bert-base-uncased\")\n",
    "BERT_model = BERT_model.to(device)"
   ]
  },
  {
   "cell_type": "markdown",
   "id": "0acde462",
   "metadata": {
    "papermill": {
     "duration": 0.022109,
     "end_time": "2022-07-18T09:31:25.086198",
     "exception": false,
     "start_time": "2022-07-18T09:31:25.064089",
     "status": "completed"
    },
    "tags": []
   },
   "source": [
    "Нарежем батчей, создадим эмбеддинги"
   ]
  },
  {
   "cell_type": "code",
   "execution_count": 20,
   "id": "f9b9b5c1",
   "metadata": {
    "execution": {
     "iopub.execute_input": "2022-07-18T09:31:25.130906Z",
     "iopub.status.busy": "2022-07-18T09:31:25.129963Z",
     "iopub.status.idle": "2022-07-18T09:35:37.053248Z",
     "shell.execute_reply": "2022-07-18T09:35:37.052275Z"
    },
    "papermill": {
     "duration": 251.96596,
     "end_time": "2022-07-18T09:35:37.073150",
     "exception": false,
     "start_time": "2022-07-18T09:31:25.107190",
     "status": "completed"
    },
    "tags": []
   },
   "outputs": [
    {
     "data": {
      "application/vnd.jupyter.widget-view+json": {
       "model_id": "467929289421423fb36718e38458eb45",
       "version_major": 2,
       "version_minor": 0
      },
      "text/plain": [
       "  0%|          | 0/159 [00:00<?, ?it/s]"
      ]
     },
     "metadata": {},
     "output_type": "display_data"
    },
    {
     "name": "stdout",
     "output_type": "stream",
     "text": [
      "CPU times: user 4min 10s, sys: 312 ms, total: 4min 10s\n",
      "Wall time: 4min 11s\n"
     ]
    }
   ],
   "source": [
    "%%time\n",
    "batch_size = 100\n",
    "embeddings = [] \n",
    "for i in notebook.tqdm(range(padded.shape[0] // batch_size)):\n",
    "        batch = torch.LongTensor(padded[batch_size*i:batch_size*(i+1)]).to(device)\n",
    "        attention_mask_batch = torch.LongTensor(attention_mask[batch_size*i:batch_size*(i+1)]).to(device)\n",
    "\n",
    "        with torch.no_grad():\n",
    "            BERT_model\n",
    "            batch_embeddings = BERT_model(batch, attention_mask=attention_mask_batch)\n",
    "\n",
    "        embeddings.append(batch_embeddings[0][:,0,:].cpu().numpy())\n",
    "        \n",
    "        del batch\n",
    "        del attention_mask_batch\n",
    "        del batch_embeddings\n",
    "\n",
    "features = np.concatenate(embeddings) "
   ]
  },
  {
   "cell_type": "markdown",
   "id": "3169f129",
   "metadata": {
    "papermill": {
     "duration": 0.021212,
     "end_time": "2022-07-18T09:35:37.245401",
     "exception": false,
     "start_time": "2022-07-18T09:35:37.224189",
     "status": "completed"
    },
    "tags": []
   },
   "source": [
    "Объявим фичи и таргет"
   ]
  },
  {
   "cell_type": "code",
   "execution_count": 21,
   "id": "70d5e585",
   "metadata": {
    "execution": {
     "iopub.execute_input": "2022-07-18T09:35:37.290706Z",
     "iopub.status.busy": "2022-07-18T09:35:37.289876Z",
     "iopub.status.idle": "2022-07-18T09:35:37.312405Z",
     "shell.execute_reply": "2022-07-18T09:35:37.311353Z"
    },
    "papermill": {
     "duration": 0.047888,
     "end_time": "2022-07-18T09:35:37.314711",
     "exception": false,
     "start_time": "2022-07-18T09:35:37.266823",
     "status": "completed"
    },
    "tags": []
   },
   "outputs": [
    {
     "data": {
      "text/plain": [
       "((15900, 768), (15900,))"
      ]
     },
     "execution_count": 21,
     "metadata": {},
     "output_type": "execute_result"
    }
   ],
   "source": [
    "X_bert = np.concatenate(embeddings)\n",
    "y_bert = short_df['toxic']\n",
    "X_bert.shape, y_bert.shape"
   ]
  },
  {
   "cell_type": "markdown",
   "id": "7f398d22",
   "metadata": {
    "papermill": {
     "duration": 0.02122,
     "end_time": "2022-07-18T09:35:37.357765",
     "exception": false,
     "start_time": "2022-07-18T09:35:37.336545",
     "status": "completed"
    },
    "tags": []
   },
   "source": [
    "Раделим на трейн и тест"
   ]
  },
  {
   "cell_type": "code",
   "execution_count": 22,
   "id": "07cffd1a",
   "metadata": {
    "execution": {
     "iopub.execute_input": "2022-07-18T09:35:37.402279Z",
     "iopub.status.busy": "2022-07-18T09:35:37.401991Z",
     "iopub.status.idle": "2022-07-18T09:35:37.427377Z",
     "shell.execute_reply": "2022-07-18T09:35:37.426481Z"
    },
    "papermill": {
     "duration": 0.050187,
     "end_time": "2022-07-18T09:35:37.429529",
     "exception": false,
     "start_time": "2022-07-18T09:35:37.379342",
     "status": "completed"
    },
    "tags": []
   },
   "outputs": [
    {
     "data": {
      "text/plain": [
       "((11925, 768), (3975, 768), (11925,), (3975,))"
      ]
     },
     "execution_count": 22,
     "metadata": {},
     "output_type": "execute_result"
    }
   ],
   "source": [
    "X_train_bert, X_test_bert, y_train_bert, y_test_bert = train_test_split(X_bert, \n",
    "                                                           y_bert, \n",
    "                                                           test_size=0.25, \n",
    "                                                           random_state=2007)\n",
    "\n",
    "X_train_bert.shape, X_test_bert.shape, y_train_bert.shape, y_test_bert.shape"
   ]
  },
  {
   "cell_type": "markdown",
   "id": "eacf3c9a",
   "metadata": {
    "papermill": {
     "duration": 0.021466,
     "end_time": "2022-07-18T09:35:37.472896",
     "exception": false,
     "start_time": "2022-07-18T09:35:37.451430",
     "status": "completed"
    },
    "tags": []
   },
   "source": [
    "Можно на подиум"
   ]
  },
  {
   "cell_type": "markdown",
   "id": "fcca54c5",
   "metadata": {
    "papermill": {
     "duration": 0.021845,
     "end_time": "2022-07-18T09:35:37.516423",
     "exception": false,
     "start_time": "2022-07-18T09:35:37.494578",
     "status": "completed"
    },
    "tags": []
   },
   "source": [
    "### BERT + CatBoost\n",
    "Объявим Pool, зададим вес классов."
   ]
  },
  {
   "cell_type": "code",
   "execution_count": 23,
   "id": "52e81390",
   "metadata": {
    "execution": {
     "iopub.execute_input": "2022-07-18T09:35:37.561264Z",
     "iopub.status.busy": "2022-07-18T09:35:37.560975Z",
     "iopub.status.idle": "2022-07-18T09:35:38.037266Z",
     "shell.execute_reply": "2022-07-18T09:35:38.036306Z"
    },
    "papermill": {
     "duration": 0.501508,
     "end_time": "2022-07-18T09:35:38.039543",
     "exception": false,
     "start_time": "2022-07-18T09:35:37.538035",
     "status": "completed"
    },
    "tags": []
   },
   "outputs": [],
   "source": [
    "train_data_cb_bert = Pool(X_train_bert, \n",
    "                    y_train_bert)\n",
    "\n",
    "test_data_cb_bert = Pool(X_test_bert, \n",
    "                    y_test_bert)"
   ]
  },
  {
   "cell_type": "code",
   "execution_count": 24,
   "id": "b6b085ad",
   "metadata": {
    "execution": {
     "iopub.execute_input": "2022-07-18T09:35:38.084900Z",
     "iopub.status.busy": "2022-07-18T09:35:38.084323Z",
     "iopub.status.idle": "2022-07-18T09:35:38.092024Z",
     "shell.execute_reply": "2022-07-18T09:35:38.091044Z"
    },
    "papermill": {
     "duration": 0.032423,
     "end_time": "2022-07-18T09:35:38.093968",
     "exception": false,
     "start_time": "2022-07-18T09:35:38.061545",
     "status": "completed"
    },
    "tags": []
   },
   "outputs": [
    {
     "data": {
      "text/plain": [
       "[1, 8.750613246116108]"
      ]
     },
     "execution_count": 24,
     "metadata": {},
     "output_type": "execute_result"
    }
   ],
   "source": [
    "cw_bert = [1,(y_train_bert==0).sum() / (y_train_bert==1).sum()]\n",
    "cw_bert"
   ]
  },
  {
   "cell_type": "markdown",
   "id": "408c6805",
   "metadata": {
    "id": "Mgduok7jjrI-",
    "papermill": {
     "duration": 0.022324,
     "end_time": "2022-07-18T09:35:38.138248",
     "exception": false,
     "start_time": "2022-07-18T09:35:38.115924",
     "status": "completed"
    },
    "tags": []
   },
   "source": [
    "## Обучение"
   ]
  },
  {
   "cell_type": "markdown",
   "id": "dbba65d9",
   "metadata": {
    "papermill": {
     "duration": 0.021566,
     "end_time": "2022-07-18T09:35:38.181365",
     "exception": false,
     "start_time": "2022-07-18T09:35:38.159799",
     "status": "completed"
    },
    "tags": []
   },
   "source": [
    "### TF-IDF + Logit\n",
    "Обучим модель"
   ]
  },
  {
   "cell_type": "code",
   "execution_count": 25,
   "id": "26bc4f07",
   "metadata": {
    "execution": {
     "iopub.execute_input": "2022-07-18T09:35:38.226033Z",
     "iopub.status.busy": "2022-07-18T09:35:38.225749Z",
     "iopub.status.idle": "2022-07-18T09:35:38.574552Z",
     "shell.execute_reply": "2022-07-18T09:35:38.573527Z"
    },
    "papermill": {
     "duration": 0.374246,
     "end_time": "2022-07-18T09:35:38.577278",
     "exception": false,
     "start_time": "2022-07-18T09:35:38.203032",
     "status": "completed"
    },
    "tags": []
   },
   "outputs": [
    {
     "name": "stdout",
     "output_type": "stream",
     "text": [
      "CPU times: user 400 ms, sys: 235 ms, total: 635 ms\n",
      "Wall time: 339 ms\n"
     ]
    },
    {
     "data": {
      "text/plain": [
       "LogisticRegression(class_weight='balanced', max_iter=10000, random_state=2007)"
      ]
     },
     "execution_count": 25,
     "metadata": {},
     "output_type": "execute_result"
    }
   ],
   "source": [
    "%%time\n",
    "model_lr = LogisticRegression(max_iter=10000, class_weight='balanced', random_state=2007)\n",
    "model_lr.fit(X_train_tfidf, y_train_tfidf)"
   ]
  },
  {
   "cell_type": "markdown",
   "id": "23b075e6",
   "metadata": {
    "papermill": {
     "duration": 0.021783,
     "end_time": "2022-07-18T09:35:38.796777",
     "exception": false,
     "start_time": "2022-07-18T09:35:38.774994",
     "status": "completed"
    },
    "tags": []
   },
   "source": [
    "Применим модель на тестовой выборке и оценим метрику F1"
   ]
  },
  {
   "cell_type": "code",
   "execution_count": 26,
   "id": "df0fcfd0",
   "metadata": {
    "execution": {
     "iopub.execute_input": "2022-07-18T09:35:38.842550Z",
     "iopub.status.busy": "2022-07-18T09:35:38.842225Z",
     "iopub.status.idle": "2022-07-18T09:35:38.851245Z",
     "shell.execute_reply": "2022-07-18T09:35:38.850256Z"
    },
    "papermill": {
     "duration": 0.034339,
     "end_time": "2022-07-18T09:35:38.853416",
     "exception": false,
     "start_time": "2022-07-18T09:35:38.819077",
     "status": "completed"
    },
    "tags": []
   },
   "outputs": [
    {
     "name": "stdout",
     "output_type": "stream",
     "text": [
      "0.7254658385093168\n"
     ]
    }
   ],
   "source": [
    "y_pred_tfidf = model_lr.predict(X_test_tfidf)\n",
    "print(f1_score(y_test_tfidf, y_pred_tfidf))"
   ]
  },
  {
   "cell_type": "markdown",
   "id": "b78f4f26",
   "metadata": {
    "papermill": {
     "duration": 0.022279,
     "end_time": "2022-07-18T09:35:38.897980",
     "exception": false,
     "start_time": "2022-07-18T09:35:38.875701",
     "status": "completed"
    },
    "tags": []
   },
   "source": [
    "Почти хорошо"
   ]
  },
  {
   "cell_type": "markdown",
   "id": "d96acb3c",
   "metadata": {
    "papermill": {
     "duration": 0.021556,
     "end_time": "2022-07-18T09:35:38.941197",
     "exception": false,
     "start_time": "2022-07-18T09:35:38.919641",
     "status": "completed"
    },
    "tags": []
   },
   "source": [
    "### TF-IDF + CatBoost\n",
    "Теперь обучим кэтбуст и посмотрим на его результаты"
   ]
  },
  {
   "cell_type": "code",
   "execution_count": 27,
   "id": "c881c4b6",
   "metadata": {
    "execution": {
     "iopub.execute_input": "2022-07-18T09:35:38.987132Z",
     "iopub.status.busy": "2022-07-18T09:35:38.986837Z",
     "iopub.status.idle": "2022-07-18T10:17:19.640668Z",
     "shell.execute_reply": "2022-07-18T10:17:19.639706Z"
    },
    "papermill": {
     "duration": 2500.702864,
     "end_time": "2022-07-18T10:17:19.666879",
     "exception": false,
     "start_time": "2022-07-18T09:35:38.964015",
     "status": "completed"
    },
    "tags": []
   },
   "outputs": [
    {
     "name": "stdout",
     "output_type": "stream",
     "text": [
      "0:\tlearn: 0.7006650\ttotal: 2.44s\tremaining: 40m 38s\n",
      "100:\tlearn: 0.8788042\ttotal: 4m 12s\tremaining: 37m 28s\n",
      "200:\tlearn: 0.9473963\ttotal: 8m 22s\tremaining: 33m 16s\n",
      "300:\tlearn: 0.9913019\ttotal: 12m 30s\tremaining: 29m 3s\n",
      "400:\tlearn: 0.9932780\ttotal: 16m 40s\tremaining: 24m 53s\n",
      "500:\tlearn: 0.9946152\ttotal: 20m 48s\tremaining: 20m 43s\n",
      "600:\tlearn: 0.9958634\ttotal: 24m 57s\tremaining: 16m 34s\n",
      "700:\tlearn: 0.9967900\ttotal: 29m 8s\tremaining: 12m 25s\n",
      "800:\tlearn: 0.9977647\ttotal: 33m 17s\tremaining: 8m 16s\n",
      "900:\tlearn: 0.9986018\ttotal: 37m 28s\tremaining: 4m 7s\n",
      "999:\tlearn: 0.9999067\ttotal: 41m 39s\tremaining: 0us\n",
      "CPU times: user 1h 17min 54s, sys: 17.4 s, total: 1h 18min 11s\n",
      "Wall time: 41min 40s\n"
     ]
    },
    {
     "data": {
      "text/plain": [
       "<catboost.core.CatBoostClassifier at 0x7ff210503090>"
      ]
     },
     "execution_count": 27,
     "metadata": {},
     "output_type": "execute_result"
    }
   ],
   "source": [
    "%%time\n",
    "\n",
    "model_cb = CatBoostClassifier(**params_cb, \n",
    "                              class_weights=cw)\n",
    "model_cb.fit(train_data_cb)"
   ]
  },
  {
   "cell_type": "markdown",
   "id": "36dc30cc",
   "metadata": {
    "papermill": {
     "duration": 0.023075,
     "end_time": "2022-07-18T10:17:19.713121",
     "exception": false,
     "start_time": "2022-07-18T10:17:19.690046",
     "status": "completed"
    },
    "tags": []
   },
   "source": [
    "Применим модель на тестовой выборке, подберем threshhold и оценим метрику F1"
   ]
  },
  {
   "cell_type": "code",
   "execution_count": 28,
   "id": "4cdb4e91",
   "metadata": {
    "execution": {
     "iopub.execute_input": "2022-07-18T10:17:19.761545Z",
     "iopub.status.busy": "2022-07-18T10:17:19.761183Z",
     "iopub.status.idle": "2022-07-18T10:17:19.876748Z",
     "shell.execute_reply": "2022-07-18T10:17:19.875668Z"
    },
    "papermill": {
     "duration": 0.141938,
     "end_time": "2022-07-18T10:17:19.878947",
     "exception": false,
     "start_time": "2022-07-18T10:17:19.737009",
     "status": "completed"
    },
    "tags": []
   },
   "outputs": [
    {
     "name": "stdout",
     "output_type": "stream",
     "text": [
      "0.7560321715817694\n"
     ]
    }
   ],
   "source": [
    "y_pred_cb = model_cb.predict(X_test_tfidf)\n",
    "print(f1_score(y_test_tfidf, y_pred_cb))"
   ]
  },
  {
   "cell_type": "markdown",
   "id": "f7009863",
   "metadata": {
    "papermill": {
     "duration": 0.024093,
     "end_time": "2022-07-18T10:17:19.926933",
     "exception": false,
     "start_time": "2022-07-18T10:17:19.902840",
     "status": "completed"
    },
    "tags": []
   },
   "source": [
    "Вот это уже результат"
   ]
  },
  {
   "cell_type": "markdown",
   "id": "9aa41950",
   "metadata": {
    "papermill": {
     "duration": 0.023285,
     "end_time": "2022-07-18T10:17:20.020440",
     "exception": false,
     "start_time": "2022-07-18T10:17:19.997155",
     "status": "completed"
    },
    "tags": []
   },
   "source": [
    "### BERT + Logit\n",
    "Обучим логистическую регрессию на данных"
   ]
  },
  {
   "cell_type": "code",
   "execution_count": 29,
   "id": "36d2ef09",
   "metadata": {
    "execution": {
     "iopub.execute_input": "2022-07-18T10:17:20.069113Z",
     "iopub.status.busy": "2022-07-18T10:17:20.068774Z",
     "iopub.status.idle": "2022-07-18T10:17:24.773372Z",
     "shell.execute_reply": "2022-07-18T10:17:24.772163Z"
    },
    "papermill": {
     "duration": 4.731414,
     "end_time": "2022-07-18T10:17:24.775808",
     "exception": false,
     "start_time": "2022-07-18T10:17:20.044394",
     "status": "completed"
    },
    "tags": []
   },
   "outputs": [
    {
     "name": "stdout",
     "output_type": "stream",
     "text": [
      "CPU times: user 4.6 s, sys: 74.8 ms, total: 4.68 s\n",
      "Wall time: 4.7 s\n"
     ]
    },
    {
     "data": {
      "text/plain": [
       "LogisticRegression(random_state=2007, solver='liblinear')"
      ]
     },
     "execution_count": 29,
     "metadata": {},
     "output_type": "execute_result"
    }
   ],
   "source": [
    "%%time\n",
    "model_lr_bert = LogisticRegression(solver='liblinear', random_state=2007)\n",
    "model_lr_bert.fit(X_train_bert, y_train_bert)"
   ]
  },
  {
   "cell_type": "markdown",
   "id": "60ab7582",
   "metadata": {
    "papermill": {
     "duration": 0.023851,
     "end_time": "2022-07-18T10:17:24.823502",
     "exception": false,
     "start_time": "2022-07-18T10:17:24.799651",
     "status": "completed"
    },
    "tags": []
   },
   "source": [
    "Применим модель на тестовой выборке и оценим метрику F1"
   ]
  },
  {
   "cell_type": "code",
   "execution_count": 30,
   "id": "da419373",
   "metadata": {
    "execution": {
     "iopub.execute_input": "2022-07-18T10:17:24.870758Z",
     "iopub.status.busy": "2022-07-18T10:17:24.870460Z",
     "iopub.status.idle": "2022-07-18T10:17:24.893287Z",
     "shell.execute_reply": "2022-07-18T10:17:24.891923Z"
    },
    "papermill": {
     "duration": 0.050259,
     "end_time": "2022-07-18T10:17:24.896593",
     "exception": false,
     "start_time": "2022-07-18T10:17:24.846334",
     "status": "completed"
    },
    "tags": []
   },
   "outputs": [
    {
     "name": "stdout",
     "output_type": "stream",
     "text": [
      "0.6978021978021979\n"
     ]
    }
   ],
   "source": [
    "y_pred_bert = model_lr_bert.predict(X_test_bert)\n",
    "print(f1_score(y_test_bert, y_pred_bert))"
   ]
  },
  {
   "cell_type": "markdown",
   "id": "695c0178",
   "metadata": {
    "papermill": {
     "duration": 0.044982,
     "end_time": "2022-07-18T10:17:24.987005",
     "exception": false,
     "start_time": "2022-07-18T10:17:24.942023",
     "status": "completed"
    },
    "tags": []
   },
   "source": [
    "Разочарование."
   ]
  },
  {
   "cell_type": "markdown",
   "id": "e22b4186",
   "metadata": {
    "papermill": {
     "duration": 0.022824,
     "end_time": "2022-07-18T10:17:25.049105",
     "exception": false,
     "start_time": "2022-07-18T10:17:25.026281",
     "status": "completed"
    },
    "tags": []
   },
   "source": [
    "### BERT + CatBoost\n",
    "Обучим CatBoost на эмбеддингах"
   ]
  },
  {
   "cell_type": "code",
   "execution_count": 31,
   "id": "664dbc71",
   "metadata": {
    "execution": {
     "iopub.execute_input": "2022-07-18T10:17:25.121905Z",
     "iopub.status.busy": "2022-07-18T10:17:25.121323Z",
     "iopub.status.idle": "2022-07-18T10:47:12.067181Z",
     "shell.execute_reply": "2022-07-18T10:47:12.066243Z"
    },
    "papermill": {
     "duration": 1787.01641,
     "end_time": "2022-07-18T10:47:12.091511",
     "exception": false,
     "start_time": "2022-07-18T10:17:25.075101",
     "status": "completed"
    },
    "tags": []
   },
   "outputs": [
    {
     "name": "stdout",
     "output_type": "stream",
     "text": [
      "0:\tlearn: 0.8028789\ttotal: 1.82s\tremaining: 30m 19s\n",
      "100:\tlearn: 0.9966474\ttotal: 3m 2s\tremaining: 27m 7s\n",
      "200:\tlearn: 0.9999533\ttotal: 6m 2s\tremaining: 24m 1s\n",
      "300:\tlearn: 1.0000000\ttotal: 9m 1s\tremaining: 20m 56s\n",
      "400:\tlearn: 1.0000000\ttotal: 11m 59s\tremaining: 17m 55s\n",
      "500:\tlearn: 1.0000000\ttotal: 14m 57s\tremaining: 14m 54s\n",
      "600:\tlearn: 1.0000000\ttotal: 17m 55s\tremaining: 11m 54s\n",
      "700:\tlearn: 1.0000000\ttotal: 20m 53s\tremaining: 8m 54s\n",
      "800:\tlearn: 1.0000000\ttotal: 23m 50s\tremaining: 5m 55s\n",
      "900:\tlearn: 1.0000000\ttotal: 26m 50s\tremaining: 2m 56s\n",
      "999:\tlearn: 1.0000000\ttotal: 29m 45s\tremaining: 0us\n",
      "CPU times: user 56min 17s, sys: 8.33 s, total: 56min 25s\n",
      "Wall time: 29min 46s\n"
     ]
    },
    {
     "data": {
      "text/plain": [
       "<catboost.core.CatBoostClassifier at 0x7ff212a67a90>"
      ]
     },
     "execution_count": 31,
     "metadata": {},
     "output_type": "execute_result"
    }
   ],
   "source": [
    "%%time\n",
    "model_cb_bert = CatBoostClassifier(**params_cb, \n",
    "                                   class_weights=cw_bert)\n",
    "\n",
    "model_cb_bert.fit(train_data_cb_bert)"
   ]
  },
  {
   "cell_type": "markdown",
   "id": "b83602c0",
   "metadata": {
    "papermill": {
     "duration": 0.023659,
     "end_time": "2022-07-18T10:47:12.139392",
     "exception": false,
     "start_time": "2022-07-18T10:47:12.115733",
     "status": "completed"
    },
    "tags": []
   },
   "source": [
    "Применим модель на тестовой выборке и оценим метрику F1"
   ]
  },
  {
   "cell_type": "code",
   "execution_count": 32,
   "id": "21bbeb37",
   "metadata": {
    "execution": {
     "iopub.execute_input": "2022-07-18T10:47:12.189851Z",
     "iopub.status.busy": "2022-07-18T10:47:12.189566Z",
     "iopub.status.idle": "2022-07-18T10:47:12.354283Z",
     "shell.execute_reply": "2022-07-18T10:47:12.353205Z"
    },
    "papermill": {
     "duration": 0.192948,
     "end_time": "2022-07-18T10:47:12.356540",
     "exception": false,
     "start_time": "2022-07-18T10:47:12.163592",
     "status": "completed"
    },
    "tags": []
   },
   "outputs": [
    {
     "name": "stdout",
     "output_type": "stream",
     "text": [
      "0.664796633941094\n"
     ]
    }
   ],
   "source": [
    "y_pred_cb_bert = model_cb_bert.predict(X_test_bert)\n",
    "print(f1_score(y_test_bert, y_pred_cb_bert))"
   ]
  },
  {
   "cell_type": "markdown",
   "id": "f01042b6",
   "metadata": {
    "papermill": {
     "duration": 0.024525,
     "end_time": "2022-07-18T10:47:12.406051",
     "exception": false,
     "start_time": "2022-07-18T10:47:12.381526",
     "status": "completed"
    },
    "tags": []
   },
   "source": [
    "Совсем грустно!"
   ]
  },
  {
   "cell_type": "markdown",
   "id": "e2259a8e",
   "metadata": {
    "id": "qSBnrXAIjrJH",
    "papermill": {
     "duration": 0.023911,
     "end_time": "2022-07-18T10:47:12.454125",
     "exception": false,
     "start_time": "2022-07-18T10:47:12.430214",
     "status": "completed"
    },
    "tags": []
   },
   "source": [
    "## Выводы"
   ]
  },
  {
   "cell_type": "markdown",
   "id": "74e6686e",
   "metadata": {
    "id": "RJ4mQKt1jrJM",
    "papermill": {
     "duration": 0.024058,
     "end_time": "2022-07-18T10:47:12.502980",
     "exception": false,
     "start_time": "2022-07-18T10:47:12.478922",
     "status": "completed"
    },
    "tags": []
   },
   "source": [
    "Из всех путей решения задачи классификации текстов с точки зрения метрики F1, в данном проекте **наиболее эффективной** получилась комбинация **TF_IDF + Catboost**. Это единственный случай, где была достигнута целевая метрика F1 = 0.75. Наиболее близкий результат, равный 0.72 дали TF_IDF + Логистическая регрессия. Модели с BERT, на удивление, выдающихся результатов не продемонстрировали и максимальный F1-score составил 0.70."
   ]
  }
 ],
 "metadata": {
  "kernelspec": {
   "display_name": "Python 3 (ipykernel)",
   "language": "python",
   "name": "python3"
  },
  "language_info": {
   "codemirror_mode": {
    "name": "ipython",
    "version": 3
   },
   "file_extension": ".py",
   "mimetype": "text/x-python",
   "name": "python",
   "nbconvert_exporter": "python",
   "pygments_lexer": "ipython3",
   "version": "3.9.7"
  },
  "papermill": {
   "default_parameters": {},
   "duration": 4916.126243,
   "end_time": "2022-07-18T10:47:14.151442",
   "environment_variables": {},
   "exception": null,
   "input_path": "__notebook__.ipynb",
   "output_path": "__notebook__.ipynb",
   "parameters": {},
   "start_time": "2022-07-18T09:25:18.025199",
   "version": "2.3.4"
  },
  "toc": {
   "base_numbering": 1,
   "nav_menu": {},
   "number_sections": true,
   "sideBar": true,
   "skip_h1_title": false,
   "title_cell": "Table of Contents",
   "title_sidebar": "Contents",
   "toc_cell": false,
   "toc_position": {},
   "toc_section_display": true,
   "toc_window_display": false
  },
  "widgets": {
   "application/vnd.jupyter.widget-state+json": {
    "state": {
     "00528dcf354143adbcc88ed3e8f6797e": {
      "model_module": "@jupyter-widgets/controls",
      "model_module_version": "1.5.0",
      "model_name": "HTMLModel",
      "state": {
       "_dom_classes": [],
       "_model_module": "@jupyter-widgets/controls",
       "_model_module_version": "1.5.0",
       "_model_name": "HTMLModel",
       "_view_count": null,
       "_view_module": "@jupyter-widgets/controls",
       "_view_module_version": "1.5.0",
       "_view_name": "HTMLView",
       "description": "",
       "description_tooltip": null,
       "layout": "IPY_MODEL_9f015768360b42039d3fda250c5713e8",
       "placeholder": "​",
       "style": "IPY_MODEL_3e859e80f5d84ab8b6028f6644e770c2",
       "value": " 420M/420M [00:38&lt;00:00, 12.2MB/s]"
      }
     },
     "00ae2ade1dff44a5b8844acdf8ca2042": {
      "model_module": "@jupyter-widgets/controls",
      "model_module_version": "1.5.0",
      "model_name": "HTMLModel",
      "state": {
       "_dom_classes": [],
       "_model_module": "@jupyter-widgets/controls",
       "_model_module_version": "1.5.0",
       "_model_name": "HTMLModel",
       "_view_count": null,
       "_view_module": "@jupyter-widgets/controls",
       "_view_module_version": "1.5.0",
       "_view_name": "HTMLView",
       "description": "",
       "description_tooltip": null,
       "layout": "IPY_MODEL_31015bb8c6ae42c89d77fc2452966389",
       "placeholder": "​",
       "style": "IPY_MODEL_43d1d8d9efe84dda9ffc14d6535118e8",
       "value": "Downloading: 100%"
      }
     },
     "0c375722efa949e9a0d4530698b510a5": {
      "model_module": "@jupyter-widgets/controls",
      "model_module_version": "1.5.0",
      "model_name": "HBoxModel",
      "state": {
       "_dom_classes": [],
       "_model_module": "@jupyter-widgets/controls",
       "_model_module_version": "1.5.0",
       "_model_name": "HBoxModel",
       "_view_count": null,
       "_view_module": "@jupyter-widgets/controls",
       "_view_module_version": "1.5.0",
       "_view_name": "HBoxView",
       "box_style": "",
       "children": [
        "IPY_MODEL_00ae2ade1dff44a5b8844acdf8ca2042",
        "IPY_MODEL_55ca1f011bc34063b165e97f85b64798",
        "IPY_MODEL_a40fce44b04345f1a3549ae7183dcd14"
       ],
       "layout": "IPY_MODEL_1d4b3ad259344700ba2325d2897f9f5c"
      }
     },
     "1c9f495919bf48eca1e8b6822d73113d": {
      "model_module": "@jupyter-widgets/controls",
      "model_module_version": "1.5.0",
      "model_name": "DescriptionStyleModel",
      "state": {
       "_model_module": "@jupyter-widgets/controls",
       "_model_module_version": "1.5.0",
       "_model_name": "DescriptionStyleModel",
       "_view_count": null,
       "_view_module": "@jupyter-widgets/base",
       "_view_module_version": "1.2.0",
       "_view_name": "StyleView",
       "description_width": ""
      }
     },
     "1d4b3ad259344700ba2325d2897f9f5c": {
      "model_module": "@jupyter-widgets/base",
      "model_module_version": "1.2.0",
      "model_name": "LayoutModel",
      "state": {
       "_model_module": "@jupyter-widgets/base",
       "_model_module_version": "1.2.0",
       "_model_name": "LayoutModel",
       "_view_count": null,
       "_view_module": "@jupyter-widgets/base",
       "_view_module_version": "1.2.0",
       "_view_name": "LayoutView",
       "align_content": null,
       "align_items": null,
       "align_self": null,
       "border": null,
       "bottom": null,
       "display": null,
       "flex": null,
       "flex_flow": null,
       "grid_area": null,
       "grid_auto_columns": null,
       "grid_auto_flow": null,
       "grid_auto_rows": null,
       "grid_column": null,
       "grid_gap": null,
       "grid_row": null,
       "grid_template_areas": null,
       "grid_template_columns": null,
       "grid_template_rows": null,
       "height": null,
       "justify_content": null,
       "justify_items": null,
       "left": null,
       "margin": null,
       "max_height": null,
       "max_width": null,
       "min_height": null,
       "min_width": null,
       "object_fit": null,
       "object_position": null,
       "order": null,
       "overflow": null,
       "overflow_x": null,
       "overflow_y": null,
       "padding": null,
       "right": null,
       "top": null,
       "visibility": null,
       "width": null
      }
     },
     "2339cb40cc8b499da72efa620f2f0e3f": {
      "model_module": "@jupyter-widgets/controls",
      "model_module_version": "1.5.0",
      "model_name": "FloatProgressModel",
      "state": {
       "_dom_classes": [],
       "_model_module": "@jupyter-widgets/controls",
       "_model_module_version": "1.5.0",
       "_model_name": "FloatProgressModel",
       "_view_count": null,
       "_view_module": "@jupyter-widgets/controls",
       "_view_module_version": "1.5.0",
       "_view_name": "ProgressView",
       "bar_style": "success",
       "description": "",
       "description_tooltip": null,
       "layout": "IPY_MODEL_3d5e6d90d4714151860acaee08a8091c",
       "max": 159,
       "min": 0,
       "orientation": "horizontal",
       "style": "IPY_MODEL_f31df84cf2c848568d5a733fd75506d1",
       "value": 159
      }
     },
     "23746a29ce84405eb260086cb2b958de": {
      "model_module": "@jupyter-widgets/controls",
      "model_module_version": "1.5.0",
      "model_name": "FloatProgressModel",
      "state": {
       "_dom_classes": [],
       "_model_module": "@jupyter-widgets/controls",
       "_model_module_version": "1.5.0",
       "_model_name": "FloatProgressModel",
       "_view_count": null,
       "_view_module": "@jupyter-widgets/controls",
       "_view_module_version": "1.5.0",
       "_view_name": "ProgressView",
       "bar_style": "success",
       "description": "",
       "description_tooltip": null,
       "layout": "IPY_MODEL_f07d4d9e0c294b93aa85dff498173194",
       "max": 28,
       "min": 0,
       "orientation": "horizontal",
       "style": "IPY_MODEL_fb2c006b035c438bbdbb7510e631c359",
       "value": 28
      }
     },
     "26fa5a163a78424e837b30459f223b84": {
      "model_module": "@jupyter-widgets/controls",
      "model_module_version": "1.5.0",
      "model_name": "DescriptionStyleModel",
      "state": {
       "_model_module": "@jupyter-widgets/controls",
       "_model_module_version": "1.5.0",
       "_model_name": "DescriptionStyleModel",
       "_view_count": null,
       "_view_module": "@jupyter-widgets/base",
       "_view_module_version": "1.2.0",
       "_view_name": "StyleView",
       "description_width": ""
      }
     },
     "30dc85f6d39546549334eff1ecb5cea9": {
      "model_module": "@jupyter-widgets/controls",
      "model_module_version": "1.5.0",
      "model_name": "HTMLModel",
      "state": {
       "_dom_classes": [],
       "_model_module": "@jupyter-widgets/controls",
       "_model_module_version": "1.5.0",
       "_model_name": "HTMLModel",
       "_view_count": null,
       "_view_module": "@jupyter-widgets/controls",
       "_view_module_version": "1.5.0",
       "_view_name": "HTMLView",
       "description": "",
       "description_tooltip": null,
       "layout": "IPY_MODEL_c7c82cd3e221477cadf7642fdfed7129",
       "placeholder": "​",
       "style": "IPY_MODEL_bff517e69d064e2d8c3171f59942f590",
       "value": "Downloading: 100%"
      }
     },
     "31015bb8c6ae42c89d77fc2452966389": {
      "model_module": "@jupyter-widgets/base",
      "model_module_version": "1.2.0",
      "model_name": "LayoutModel",
      "state": {
       "_model_module": "@jupyter-widgets/base",
       "_model_module_version": "1.2.0",
       "_model_name": "LayoutModel",
       "_view_count": null,
       "_view_module": "@jupyter-widgets/base",
       "_view_module_version": "1.2.0",
       "_view_name": "LayoutView",
       "align_content": null,
       "align_items": null,
       "align_self": null,
       "border": null,
       "bottom": null,
       "display": null,
       "flex": null,
       "flex_flow": null,
       "grid_area": null,
       "grid_auto_columns": null,
       "grid_auto_flow": null,
       "grid_auto_rows": null,
       "grid_column": null,
       "grid_gap": null,
       "grid_row": null,
       "grid_template_areas": null,
       "grid_template_columns": null,
       "grid_template_rows": null,
       "height": null,
       "justify_content": null,
       "justify_items": null,
       "left": null,
       "margin": null,
       "max_height": null,
       "max_width": null,
       "min_height": null,
       "min_width": null,
       "object_fit": null,
       "object_position": null,
       "order": null,
       "overflow": null,
       "overflow_x": null,
       "overflow_y": null,
       "padding": null,
       "right": null,
       "top": null,
       "visibility": null,
       "width": null
      }
     },
     "3ba1eaf3c86942b8a52e906d44f20208": {
      "model_module": "@jupyter-widgets/base",
      "model_module_version": "1.2.0",
      "model_name": "LayoutModel",
      "state": {
       "_model_module": "@jupyter-widgets/base",
       "_model_module_version": "1.2.0",
       "_model_name": "LayoutModel",
       "_view_count": null,
       "_view_module": "@jupyter-widgets/base",
       "_view_module_version": "1.2.0",
       "_view_name": "LayoutView",
       "align_content": null,
       "align_items": null,
       "align_self": null,
       "border": null,
       "bottom": null,
       "display": null,
       "flex": null,
       "flex_flow": null,
       "grid_area": null,
       "grid_auto_columns": null,
       "grid_auto_flow": null,
       "grid_auto_rows": null,
       "grid_column": null,
       "grid_gap": null,
       "grid_row": null,
       "grid_template_areas": null,
       "grid_template_columns": null,
       "grid_template_rows": null,
       "height": null,
       "justify_content": null,
       "justify_items": null,
       "left": null,
       "margin": null,
       "max_height": null,
       "max_width": null,
       "min_height": null,
       "min_width": null,
       "object_fit": null,
       "object_position": null,
       "order": null,
       "overflow": null,
       "overflow_x": null,
       "overflow_y": null,
       "padding": null,
       "right": null,
       "top": null,
       "visibility": null,
       "width": null
      }
     },
     "3d5e6d90d4714151860acaee08a8091c": {
      "model_module": "@jupyter-widgets/base",
      "model_module_version": "1.2.0",
      "model_name": "LayoutModel",
      "state": {
       "_model_module": "@jupyter-widgets/base",
       "_model_module_version": "1.2.0",
       "_model_name": "LayoutModel",
       "_view_count": null,
       "_view_module": "@jupyter-widgets/base",
       "_view_module_version": "1.2.0",
       "_view_name": "LayoutView",
       "align_content": null,
       "align_items": null,
       "align_self": null,
       "border": null,
       "bottom": null,
       "display": null,
       "flex": null,
       "flex_flow": null,
       "grid_area": null,
       "grid_auto_columns": null,
       "grid_auto_flow": null,
       "grid_auto_rows": null,
       "grid_column": null,
       "grid_gap": null,
       "grid_row": null,
       "grid_template_areas": null,
       "grid_template_columns": null,
       "grid_template_rows": null,
       "height": null,
       "justify_content": null,
       "justify_items": null,
       "left": null,
       "margin": null,
       "max_height": null,
       "max_width": null,
       "min_height": null,
       "min_width": null,
       "object_fit": null,
       "object_position": null,
       "order": null,
       "overflow": null,
       "overflow_x": null,
       "overflow_y": null,
       "padding": null,
       "right": null,
       "top": null,
       "visibility": null,
       "width": null
      }
     },
     "3e859e80f5d84ab8b6028f6644e770c2": {
      "model_module": "@jupyter-widgets/controls",
      "model_module_version": "1.5.0",
      "model_name": "DescriptionStyleModel",
      "state": {
       "_model_module": "@jupyter-widgets/controls",
       "_model_module_version": "1.5.0",
       "_model_name": "DescriptionStyleModel",
       "_view_count": null,
       "_view_module": "@jupyter-widgets/base",
       "_view_module_version": "1.2.0",
       "_view_name": "StyleView",
       "description_width": ""
      }
     },
     "43d1d8d9efe84dda9ffc14d6535118e8": {
      "model_module": "@jupyter-widgets/controls",
      "model_module_version": "1.5.0",
      "model_name": "DescriptionStyleModel",
      "state": {
       "_model_module": "@jupyter-widgets/controls",
       "_model_module_version": "1.5.0",
       "_model_name": "DescriptionStyleModel",
       "_view_count": null,
       "_view_module": "@jupyter-widgets/base",
       "_view_module_version": "1.2.0",
       "_view_name": "StyleView",
       "description_width": ""
      }
     },
     "467929289421423fb36718e38458eb45": {
      "model_module": "@jupyter-widgets/controls",
      "model_module_version": "1.5.0",
      "model_name": "HBoxModel",
      "state": {
       "_dom_classes": [],
       "_model_module": "@jupyter-widgets/controls",
       "_model_module_version": "1.5.0",
       "_model_name": "HBoxModel",
       "_view_count": null,
       "_view_module": "@jupyter-widgets/controls",
       "_view_module_version": "1.5.0",
       "_view_name": "HBoxView",
       "box_style": "",
       "children": [
        "IPY_MODEL_b3965c0574e043d383ec507a9207288d",
        "IPY_MODEL_2339cb40cc8b499da72efa620f2f0e3f",
        "IPY_MODEL_62d30da8e74641cebd47d4ce5c0d3a3f"
       ],
       "layout": "IPY_MODEL_7cc7669ac9ba41c5b58afede32bfc35a"
      }
     },
     "5123bb9ac15c43baa6501aad6643ea4a": {
      "model_module": "@jupyter-widgets/controls",
      "model_module_version": "1.5.0",
      "model_name": "HTMLModel",
      "state": {
       "_dom_classes": [],
       "_model_module": "@jupyter-widgets/controls",
       "_model_module_version": "1.5.0",
       "_model_name": "HTMLModel",
       "_view_count": null,
       "_view_module": "@jupyter-widgets/controls",
       "_view_module_version": "1.5.0",
       "_view_name": "HTMLView",
       "description": "",
       "description_tooltip": null,
       "layout": "IPY_MODEL_eae011f5f41b43c4824368e700f8de05",
       "placeholder": "​",
       "style": "IPY_MODEL_e1efa3cdfef8466fa2ee10dde626f4c8",
       "value": " 28.0/28.0 [00:00&lt;00:00, 1.04kB/s]"
      }
     },
     "55ca1f011bc34063b165e97f85b64798": {
      "model_module": "@jupyter-widgets/controls",
      "model_module_version": "1.5.0",
      "model_name": "FloatProgressModel",
      "state": {
       "_dom_classes": [],
       "_model_module": "@jupyter-widgets/controls",
       "_model_module_version": "1.5.0",
       "_model_name": "FloatProgressModel",
       "_view_count": null,
       "_view_module": "@jupyter-widgets/controls",
       "_view_module_version": "1.5.0",
       "_view_name": "ProgressView",
       "bar_style": "success",
       "description": "",
       "description_tooltip": null,
       "layout": "IPY_MODEL_9caacb2cff204d3a9f7bfe1141d77d85",
       "max": 570,
       "min": 0,
       "orientation": "horizontal",
       "style": "IPY_MODEL_90ea801f122a48558a02f14b19407fed",
       "value": 570
      }
     },
     "5a68c629b81d4c1b9ffbd3a9248d207d": {
      "model_module": "@jupyter-widgets/base",
      "model_module_version": "1.2.0",
      "model_name": "LayoutModel",
      "state": {
       "_model_module": "@jupyter-widgets/base",
       "_model_module_version": "1.2.0",
       "_model_name": "LayoutModel",
       "_view_count": null,
       "_view_module": "@jupyter-widgets/base",
       "_view_module_version": "1.2.0",
       "_view_name": "LayoutView",
       "align_content": null,
       "align_items": null,
       "align_self": null,
       "border": null,
       "bottom": null,
       "display": null,
       "flex": null,
       "flex_flow": null,
       "grid_area": null,
       "grid_auto_columns": null,
       "grid_auto_flow": null,
       "grid_auto_rows": null,
       "grid_column": null,
       "grid_gap": null,
       "grid_row": null,
       "grid_template_areas": null,
       "grid_template_columns": null,
       "grid_template_rows": null,
       "height": null,
       "justify_content": null,
       "justify_items": null,
       "left": null,
       "margin": null,
       "max_height": null,
       "max_width": null,
       "min_height": null,
       "min_width": null,
       "object_fit": null,
       "object_position": null,
       "order": null,
       "overflow": null,
       "overflow_x": null,
       "overflow_y": null,
       "padding": null,
       "right": null,
       "top": null,
       "visibility": null,
       "width": null
      }
     },
     "5f92abce147447ebabbeb3339c7fd791": {
      "model_module": "@jupyter-widgets/controls",
      "model_module_version": "1.5.0",
      "model_name": "ProgressStyleModel",
      "state": {
       "_model_module": "@jupyter-widgets/controls",
       "_model_module_version": "1.5.0",
       "_model_name": "ProgressStyleModel",
       "_view_count": null,
       "_view_module": "@jupyter-widgets/base",
       "_view_module_version": "1.2.0",
       "_view_name": "StyleView",
       "bar_color": null,
       "description_width": ""
      }
     },
     "62d30da8e74641cebd47d4ce5c0d3a3f": {
      "model_module": "@jupyter-widgets/controls",
      "model_module_version": "1.5.0",
      "model_name": "HTMLModel",
      "state": {
       "_dom_classes": [],
       "_model_module": "@jupyter-widgets/controls",
       "_model_module_version": "1.5.0",
       "_model_name": "HTMLModel",
       "_view_count": null,
       "_view_module": "@jupyter-widgets/controls",
       "_view_module_version": "1.5.0",
       "_view_name": "HTMLView",
       "description": "",
       "description_tooltip": null,
       "layout": "IPY_MODEL_915fd5ba83434b52825d9eb20344b658",
       "placeholder": "​",
       "style": "IPY_MODEL_c425fca5d5f14b4b97bca6e9c582805f",
       "value": " 159/159 [04:11&lt;00:00,  1.58s/it]"
      }
     },
     "6ae55ca5314047eb9aa16c7136028aec": {
      "model_module": "@jupyter-widgets/controls",
      "model_module_version": "1.5.0",
      "model_name": "FloatProgressModel",
      "state": {
       "_dom_classes": [],
       "_model_module": "@jupyter-widgets/controls",
       "_model_module_version": "1.5.0",
       "_model_name": "FloatProgressModel",
       "_view_count": null,
       "_view_module": "@jupyter-widgets/controls",
       "_view_module_version": "1.5.0",
       "_view_name": "ProgressView",
       "bar_style": "success",
       "description": "",
       "description_tooltip": null,
       "layout": "IPY_MODEL_c6ef4852241c44b0875391d887936658",
       "max": 231508,
       "min": 0,
       "orientation": "horizontal",
       "style": "IPY_MODEL_ba031cdf68e04cfe956bf0f6dd3505ac",
       "value": 231508
      }
     },
     "70f03ee050a7429f8864f3831d7ae7f4": {
      "model_module": "@jupyter-widgets/base",
      "model_module_version": "1.2.0",
      "model_name": "LayoutModel",
      "state": {
       "_model_module": "@jupyter-widgets/base",
       "_model_module_version": "1.2.0",
       "_model_name": "LayoutModel",
       "_view_count": null,
       "_view_module": "@jupyter-widgets/base",
       "_view_module_version": "1.2.0",
       "_view_name": "LayoutView",
       "align_content": null,
       "align_items": null,
       "align_self": null,
       "border": null,
       "bottom": null,
       "display": null,
       "flex": null,
       "flex_flow": null,
       "grid_area": null,
       "grid_auto_columns": null,
       "grid_auto_flow": null,
       "grid_auto_rows": null,
       "grid_column": null,
       "grid_gap": null,
       "grid_row": null,
       "grid_template_areas": null,
       "grid_template_columns": null,
       "grid_template_rows": null,
       "height": null,
       "justify_content": null,
       "justify_items": null,
       "left": null,
       "margin": null,
       "max_height": null,
       "max_width": null,
       "min_height": null,
       "min_width": null,
       "object_fit": null,
       "object_position": null,
       "order": null,
       "overflow": null,
       "overflow_x": null,
       "overflow_y": null,
       "padding": null,
       "right": null,
       "top": null,
       "visibility": null,
       "width": null
      }
     },
     "7a8c8a86dd834771bfd5efaaf799c466": {
      "model_module": "@jupyter-widgets/controls",
      "model_module_version": "1.5.0",
      "model_name": "DescriptionStyleModel",
      "state": {
       "_model_module": "@jupyter-widgets/controls",
       "_model_module_version": "1.5.0",
       "_model_name": "DescriptionStyleModel",
       "_view_count": null,
       "_view_module": "@jupyter-widgets/base",
       "_view_module_version": "1.2.0",
       "_view_name": "StyleView",
       "description_width": ""
      }
     },
     "7cc7669ac9ba41c5b58afede32bfc35a": {
      "model_module": "@jupyter-widgets/base",
      "model_module_version": "1.2.0",
      "model_name": "LayoutModel",
      "state": {
       "_model_module": "@jupyter-widgets/base",
       "_model_module_version": "1.2.0",
       "_model_name": "LayoutModel",
       "_view_count": null,
       "_view_module": "@jupyter-widgets/base",
       "_view_module_version": "1.2.0",
       "_view_name": "LayoutView",
       "align_content": null,
       "align_items": null,
       "align_self": null,
       "border": null,
       "bottom": null,
       "display": null,
       "flex": null,
       "flex_flow": null,
       "grid_area": null,
       "grid_auto_columns": null,
       "grid_auto_flow": null,
       "grid_auto_rows": null,
       "grid_column": null,
       "grid_gap": null,
       "grid_row": null,
       "grid_template_areas": null,
       "grid_template_columns": null,
       "grid_template_rows": null,
       "height": null,
       "justify_content": null,
       "justify_items": null,
       "left": null,
       "margin": null,
       "max_height": null,
       "max_width": null,
       "min_height": null,
       "min_width": null,
       "object_fit": null,
       "object_position": null,
       "order": null,
       "overflow": null,
       "overflow_x": null,
       "overflow_y": null,
       "padding": null,
       "right": null,
       "top": null,
       "visibility": null,
       "width": null
      }
     },
     "886af4f0342f4440a5d242297062aa4f": {
      "model_module": "@jupyter-widgets/controls",
      "model_module_version": "1.5.0",
      "model_name": "HTMLModel",
      "state": {
       "_dom_classes": [],
       "_model_module": "@jupyter-widgets/controls",
       "_model_module_version": "1.5.0",
       "_model_name": "HTMLModel",
       "_view_count": null,
       "_view_module": "@jupyter-widgets/controls",
       "_view_module_version": "1.5.0",
       "_view_name": "HTMLView",
       "description": "",
       "description_tooltip": null,
       "layout": "IPY_MODEL_3ba1eaf3c86942b8a52e906d44f20208",
       "placeholder": "​",
       "style": "IPY_MODEL_bdc749b9c7cb44ac9db9b3454e36281b",
       "value": "Downloading: 100%"
      }
     },
     "8bad255dcf8c4104a8510e9efcef7804": {
      "model_module": "@jupyter-widgets/controls",
      "model_module_version": "1.5.0",
      "model_name": "HBoxModel",
      "state": {
       "_dom_classes": [],
       "_model_module": "@jupyter-widgets/controls",
       "_model_module_version": "1.5.0",
       "_model_name": "HBoxModel",
       "_view_count": null,
       "_view_module": "@jupyter-widgets/controls",
       "_view_module_version": "1.5.0",
       "_view_name": "HBoxView",
       "box_style": "",
       "children": [
        "IPY_MODEL_30dc85f6d39546549334eff1ecb5cea9",
        "IPY_MODEL_d1a77de03a814640aa01dc86e391a30e",
        "IPY_MODEL_00528dcf354143adbcc88ed3e8f6797e"
       ],
       "layout": "IPY_MODEL_cec5d8d293cd4b8e9325d57c57d11620"
      }
     },
     "90ea801f122a48558a02f14b19407fed": {
      "model_module": "@jupyter-widgets/controls",
      "model_module_version": "1.5.0",
      "model_name": "ProgressStyleModel",
      "state": {
       "_model_module": "@jupyter-widgets/controls",
       "_model_module_version": "1.5.0",
       "_model_name": "ProgressStyleModel",
       "_view_count": null,
       "_view_module": "@jupyter-widgets/base",
       "_view_module_version": "1.2.0",
       "_view_name": "StyleView",
       "bar_color": null,
       "description_width": ""
      }
     },
     "915fd5ba83434b52825d9eb20344b658": {
      "model_module": "@jupyter-widgets/base",
      "model_module_version": "1.2.0",
      "model_name": "LayoutModel",
      "state": {
       "_model_module": "@jupyter-widgets/base",
       "_model_module_version": "1.2.0",
       "_model_name": "LayoutModel",
       "_view_count": null,
       "_view_module": "@jupyter-widgets/base",
       "_view_module_version": "1.2.0",
       "_view_name": "LayoutView",
       "align_content": null,
       "align_items": null,
       "align_self": null,
       "border": null,
       "bottom": null,
       "display": null,
       "flex": null,
       "flex_flow": null,
       "grid_area": null,
       "grid_auto_columns": null,
       "grid_auto_flow": null,
       "grid_auto_rows": null,
       "grid_column": null,
       "grid_gap": null,
       "grid_row": null,
       "grid_template_areas": null,
       "grid_template_columns": null,
       "grid_template_rows": null,
       "height": null,
       "justify_content": null,
       "justify_items": null,
       "left": null,
       "margin": null,
       "max_height": null,
       "max_width": null,
       "min_height": null,
       "min_width": null,
       "object_fit": null,
       "object_position": null,
       "order": null,
       "overflow": null,
       "overflow_x": null,
       "overflow_y": null,
       "padding": null,
       "right": null,
       "top": null,
       "visibility": null,
       "width": null
      }
     },
     "92369bebc1f34f8588dc4e3763acb320": {
      "model_module": "@jupyter-widgets/controls",
      "model_module_version": "1.5.0",
      "model_name": "HTMLModel",
      "state": {
       "_dom_classes": [],
       "_model_module": "@jupyter-widgets/controls",
       "_model_module_version": "1.5.0",
       "_model_name": "HTMLModel",
       "_view_count": null,
       "_view_module": "@jupyter-widgets/controls",
       "_view_module_version": "1.5.0",
       "_view_name": "HTMLView",
       "description": "",
       "description_tooltip": null,
       "layout": "IPY_MODEL_c71c40ca1834439ebe0ca964a00b2620",
       "placeholder": "​",
       "style": "IPY_MODEL_f8caf859fd014c0ab89c29d2cfefd5c1",
       "value": " 226k/226k [00:00&lt;00:00, 644kB/s]"
      }
     },
     "9caacb2cff204d3a9f7bfe1141d77d85": {
      "model_module": "@jupyter-widgets/base",
      "model_module_version": "1.2.0",
      "model_name": "LayoutModel",
      "state": {
       "_model_module": "@jupyter-widgets/base",
       "_model_module_version": "1.2.0",
       "_model_name": "LayoutModel",
       "_view_count": null,
       "_view_module": "@jupyter-widgets/base",
       "_view_module_version": "1.2.0",
       "_view_name": "LayoutView",
       "align_content": null,
       "align_items": null,
       "align_self": null,
       "border": null,
       "bottom": null,
       "display": null,
       "flex": null,
       "flex_flow": null,
       "grid_area": null,
       "grid_auto_columns": null,
       "grid_auto_flow": null,
       "grid_auto_rows": null,
       "grid_column": null,
       "grid_gap": null,
       "grid_row": null,
       "grid_template_areas": null,
       "grid_template_columns": null,
       "grid_template_rows": null,
       "height": null,
       "justify_content": null,
       "justify_items": null,
       "left": null,
       "margin": null,
       "max_height": null,
       "max_width": null,
       "min_height": null,
       "min_width": null,
       "object_fit": null,
       "object_position": null,
       "order": null,
       "overflow": null,
       "overflow_x": null,
       "overflow_y": null,
       "padding": null,
       "right": null,
       "top": null,
       "visibility": null,
       "width": null
      }
     },
     "9f015768360b42039d3fda250c5713e8": {
      "model_module": "@jupyter-widgets/base",
      "model_module_version": "1.2.0",
      "model_name": "LayoutModel",
      "state": {
       "_model_module": "@jupyter-widgets/base",
       "_model_module_version": "1.2.0",
       "_model_name": "LayoutModel",
       "_view_count": null,
       "_view_module": "@jupyter-widgets/base",
       "_view_module_version": "1.2.0",
       "_view_name": "LayoutView",
       "align_content": null,
       "align_items": null,
       "align_self": null,
       "border": null,
       "bottom": null,
       "display": null,
       "flex": null,
       "flex_flow": null,
       "grid_area": null,
       "grid_auto_columns": null,
       "grid_auto_flow": null,
       "grid_auto_rows": null,
       "grid_column": null,
       "grid_gap": null,
       "grid_row": null,
       "grid_template_areas": null,
       "grid_template_columns": null,
       "grid_template_rows": null,
       "height": null,
       "justify_content": null,
       "justify_items": null,
       "left": null,
       "margin": null,
       "max_height": null,
       "max_width": null,
       "min_height": null,
       "min_width": null,
       "object_fit": null,
       "object_position": null,
       "order": null,
       "overflow": null,
       "overflow_x": null,
       "overflow_y": null,
       "padding": null,
       "right": null,
       "top": null,
       "visibility": null,
       "width": null
      }
     },
     "a40fce44b04345f1a3549ae7183dcd14": {
      "model_module": "@jupyter-widgets/controls",
      "model_module_version": "1.5.0",
      "model_name": "HTMLModel",
      "state": {
       "_dom_classes": [],
       "_model_module": "@jupyter-widgets/controls",
       "_model_module_version": "1.5.0",
       "_model_name": "HTMLModel",
       "_view_count": null,
       "_view_module": "@jupyter-widgets/controls",
       "_view_module_version": "1.5.0",
       "_view_name": "HTMLView",
       "description": "",
       "description_tooltip": null,
       "layout": "IPY_MODEL_70f03ee050a7429f8864f3831d7ae7f4",
       "placeholder": "​",
       "style": "IPY_MODEL_7a8c8a86dd834771bfd5efaaf799c466",
       "value": " 570/570 [00:00&lt;00:00, 21.1kB/s]"
      }
     },
     "a9e465cf5ed0445592b5d5f82fb26cfb": {
      "model_module": "@jupyter-widgets/base",
      "model_module_version": "1.2.0",
      "model_name": "LayoutModel",
      "state": {
       "_model_module": "@jupyter-widgets/base",
       "_model_module_version": "1.2.0",
       "_model_name": "LayoutModel",
       "_view_count": null,
       "_view_module": "@jupyter-widgets/base",
       "_view_module_version": "1.2.0",
       "_view_name": "LayoutView",
       "align_content": null,
       "align_items": null,
       "align_self": null,
       "border": null,
       "bottom": null,
       "display": null,
       "flex": null,
       "flex_flow": null,
       "grid_area": null,
       "grid_auto_columns": null,
       "grid_auto_flow": null,
       "grid_auto_rows": null,
       "grid_column": null,
       "grid_gap": null,
       "grid_row": null,
       "grid_template_areas": null,
       "grid_template_columns": null,
       "grid_template_rows": null,
       "height": null,
       "justify_content": null,
       "justify_items": null,
       "left": null,
       "margin": null,
       "max_height": null,
       "max_width": null,
       "min_height": null,
       "min_width": null,
       "object_fit": null,
       "object_position": null,
       "order": null,
       "overflow": null,
       "overflow_x": null,
       "overflow_y": null,
       "padding": null,
       "right": null,
       "top": null,
       "visibility": null,
       "width": null
      }
     },
     "b3965c0574e043d383ec507a9207288d": {
      "model_module": "@jupyter-widgets/controls",
      "model_module_version": "1.5.0",
      "model_name": "HTMLModel",
      "state": {
       "_dom_classes": [],
       "_model_module": "@jupyter-widgets/controls",
       "_model_module_version": "1.5.0",
       "_model_name": "HTMLModel",
       "_view_count": null,
       "_view_module": "@jupyter-widgets/controls",
       "_view_module_version": "1.5.0",
       "_view_name": "HTMLView",
       "description": "",
       "description_tooltip": null,
       "layout": "IPY_MODEL_f7a8ccc29d4d462bab477f59780c2930",
       "placeholder": "​",
       "style": "IPY_MODEL_1c9f495919bf48eca1e8b6822d73113d",
       "value": "100%"
      }
     },
     "ba031cdf68e04cfe956bf0f6dd3505ac": {
      "model_module": "@jupyter-widgets/controls",
      "model_module_version": "1.5.0",
      "model_name": "ProgressStyleModel",
      "state": {
       "_model_module": "@jupyter-widgets/controls",
       "_model_module_version": "1.5.0",
       "_model_name": "ProgressStyleModel",
       "_view_count": null,
       "_view_module": "@jupyter-widgets/base",
       "_view_module_version": "1.2.0",
       "_view_name": "StyleView",
       "bar_color": null,
       "description_width": ""
      }
     },
     "bc5f54598533451d82878bebec30891c": {
      "model_module": "@jupyter-widgets/base",
      "model_module_version": "1.2.0",
      "model_name": "LayoutModel",
      "state": {
       "_model_module": "@jupyter-widgets/base",
       "_model_module_version": "1.2.0",
       "_model_name": "LayoutModel",
       "_view_count": null,
       "_view_module": "@jupyter-widgets/base",
       "_view_module_version": "1.2.0",
       "_view_name": "LayoutView",
       "align_content": null,
       "align_items": null,
       "align_self": null,
       "border": null,
       "bottom": null,
       "display": null,
       "flex": null,
       "flex_flow": null,
       "grid_area": null,
       "grid_auto_columns": null,
       "grid_auto_flow": null,
       "grid_auto_rows": null,
       "grid_column": null,
       "grid_gap": null,
       "grid_row": null,
       "grid_template_areas": null,
       "grid_template_columns": null,
       "grid_template_rows": null,
       "height": null,
       "justify_content": null,
       "justify_items": null,
       "left": null,
       "margin": null,
       "max_height": null,
       "max_width": null,
       "min_height": null,
       "min_width": null,
       "object_fit": null,
       "object_position": null,
       "order": null,
       "overflow": null,
       "overflow_x": null,
       "overflow_y": null,
       "padding": null,
       "right": null,
       "top": null,
       "visibility": null,
       "width": null
      }
     },
     "bdc749b9c7cb44ac9db9b3454e36281b": {
      "model_module": "@jupyter-widgets/controls",
      "model_module_version": "1.5.0",
      "model_name": "DescriptionStyleModel",
      "state": {
       "_model_module": "@jupyter-widgets/controls",
       "_model_module_version": "1.5.0",
       "_model_name": "DescriptionStyleModel",
       "_view_count": null,
       "_view_module": "@jupyter-widgets/base",
       "_view_module_version": "1.2.0",
       "_view_name": "StyleView",
       "description_width": ""
      }
     },
     "bff517e69d064e2d8c3171f59942f590": {
      "model_module": "@jupyter-widgets/controls",
      "model_module_version": "1.5.0",
      "model_name": "DescriptionStyleModel",
      "state": {
       "_model_module": "@jupyter-widgets/controls",
       "_model_module_version": "1.5.0",
       "_model_name": "DescriptionStyleModel",
       "_view_count": null,
       "_view_module": "@jupyter-widgets/base",
       "_view_module_version": "1.2.0",
       "_view_name": "StyleView",
       "description_width": ""
      }
     },
     "c425fca5d5f14b4b97bca6e9c582805f": {
      "model_module": "@jupyter-widgets/controls",
      "model_module_version": "1.5.0",
      "model_name": "DescriptionStyleModel",
      "state": {
       "_model_module": "@jupyter-widgets/controls",
       "_model_module_version": "1.5.0",
       "_model_name": "DescriptionStyleModel",
       "_view_count": null,
       "_view_module": "@jupyter-widgets/base",
       "_view_module_version": "1.2.0",
       "_view_name": "StyleView",
       "description_width": ""
      }
     },
     "c6ef4852241c44b0875391d887936658": {
      "model_module": "@jupyter-widgets/base",
      "model_module_version": "1.2.0",
      "model_name": "LayoutModel",
      "state": {
       "_model_module": "@jupyter-widgets/base",
       "_model_module_version": "1.2.0",
       "_model_name": "LayoutModel",
       "_view_count": null,
       "_view_module": "@jupyter-widgets/base",
       "_view_module_version": "1.2.0",
       "_view_name": "LayoutView",
       "align_content": null,
       "align_items": null,
       "align_self": null,
       "border": null,
       "bottom": null,
       "display": null,
       "flex": null,
       "flex_flow": null,
       "grid_area": null,
       "grid_auto_columns": null,
       "grid_auto_flow": null,
       "grid_auto_rows": null,
       "grid_column": null,
       "grid_gap": null,
       "grid_row": null,
       "grid_template_areas": null,
       "grid_template_columns": null,
       "grid_template_rows": null,
       "height": null,
       "justify_content": null,
       "justify_items": null,
       "left": null,
       "margin": null,
       "max_height": null,
       "max_width": null,
       "min_height": null,
       "min_width": null,
       "object_fit": null,
       "object_position": null,
       "order": null,
       "overflow": null,
       "overflow_x": null,
       "overflow_y": null,
       "padding": null,
       "right": null,
       "top": null,
       "visibility": null,
       "width": null
      }
     },
     "c71c40ca1834439ebe0ca964a00b2620": {
      "model_module": "@jupyter-widgets/base",
      "model_module_version": "1.2.0",
      "model_name": "LayoutModel",
      "state": {
       "_model_module": "@jupyter-widgets/base",
       "_model_module_version": "1.2.0",
       "_model_name": "LayoutModel",
       "_view_count": null,
       "_view_module": "@jupyter-widgets/base",
       "_view_module_version": "1.2.0",
       "_view_name": "LayoutView",
       "align_content": null,
       "align_items": null,
       "align_self": null,
       "border": null,
       "bottom": null,
       "display": null,
       "flex": null,
       "flex_flow": null,
       "grid_area": null,
       "grid_auto_columns": null,
       "grid_auto_flow": null,
       "grid_auto_rows": null,
       "grid_column": null,
       "grid_gap": null,
       "grid_row": null,
       "grid_template_areas": null,
       "grid_template_columns": null,
       "grid_template_rows": null,
       "height": null,
       "justify_content": null,
       "justify_items": null,
       "left": null,
       "margin": null,
       "max_height": null,
       "max_width": null,
       "min_height": null,
       "min_width": null,
       "object_fit": null,
       "object_position": null,
       "order": null,
       "overflow": null,
       "overflow_x": null,
       "overflow_y": null,
       "padding": null,
       "right": null,
       "top": null,
       "visibility": null,
       "width": null
      }
     },
     "c7c82cd3e221477cadf7642fdfed7129": {
      "model_module": "@jupyter-widgets/base",
      "model_module_version": "1.2.0",
      "model_name": "LayoutModel",
      "state": {
       "_model_module": "@jupyter-widgets/base",
       "_model_module_version": "1.2.0",
       "_model_name": "LayoutModel",
       "_view_count": null,
       "_view_module": "@jupyter-widgets/base",
       "_view_module_version": "1.2.0",
       "_view_name": "LayoutView",
       "align_content": null,
       "align_items": null,
       "align_self": null,
       "border": null,
       "bottom": null,
       "display": null,
       "flex": null,
       "flex_flow": null,
       "grid_area": null,
       "grid_auto_columns": null,
       "grid_auto_flow": null,
       "grid_auto_rows": null,
       "grid_column": null,
       "grid_gap": null,
       "grid_row": null,
       "grid_template_areas": null,
       "grid_template_columns": null,
       "grid_template_rows": null,
       "height": null,
       "justify_content": null,
       "justify_items": null,
       "left": null,
       "margin": null,
       "max_height": null,
       "max_width": null,
       "min_height": null,
       "min_width": null,
       "object_fit": null,
       "object_position": null,
       "order": null,
       "overflow": null,
       "overflow_x": null,
       "overflow_y": null,
       "padding": null,
       "right": null,
       "top": null,
       "visibility": null,
       "width": null
      }
     },
     "cec5d8d293cd4b8e9325d57c57d11620": {
      "model_module": "@jupyter-widgets/base",
      "model_module_version": "1.2.0",
      "model_name": "LayoutModel",
      "state": {
       "_model_module": "@jupyter-widgets/base",
       "_model_module_version": "1.2.0",
       "_model_name": "LayoutModel",
       "_view_count": null,
       "_view_module": "@jupyter-widgets/base",
       "_view_module_version": "1.2.0",
       "_view_name": "LayoutView",
       "align_content": null,
       "align_items": null,
       "align_self": null,
       "border": null,
       "bottom": null,
       "display": null,
       "flex": null,
       "flex_flow": null,
       "grid_area": null,
       "grid_auto_columns": null,
       "grid_auto_flow": null,
       "grid_auto_rows": null,
       "grid_column": null,
       "grid_gap": null,
       "grid_row": null,
       "grid_template_areas": null,
       "grid_template_columns": null,
       "grid_template_rows": null,
       "height": null,
       "justify_content": null,
       "justify_items": null,
       "left": null,
       "margin": null,
       "max_height": null,
       "max_width": null,
       "min_height": null,
       "min_width": null,
       "object_fit": null,
       "object_position": null,
       "order": null,
       "overflow": null,
       "overflow_x": null,
       "overflow_y": null,
       "padding": null,
       "right": null,
       "top": null,
       "visibility": null,
       "width": null
      }
     },
     "d09ac7cc1e7549e9b9ea48f13c74cdaf": {
      "model_module": "@jupyter-widgets/controls",
      "model_module_version": "1.5.0",
      "model_name": "HBoxModel",
      "state": {
       "_dom_classes": [],
       "_model_module": "@jupyter-widgets/controls",
       "_model_module_version": "1.5.0",
       "_model_name": "HBoxModel",
       "_view_count": null,
       "_view_module": "@jupyter-widgets/controls",
       "_view_module_version": "1.5.0",
       "_view_name": "HBoxView",
       "box_style": "",
       "children": [
        "IPY_MODEL_886af4f0342f4440a5d242297062aa4f",
        "IPY_MODEL_6ae55ca5314047eb9aa16c7136028aec",
        "IPY_MODEL_92369bebc1f34f8588dc4e3763acb320"
       ],
       "layout": "IPY_MODEL_db910ee8ae754783b8e5909f89da74d1"
      }
     },
     "d1a77de03a814640aa01dc86e391a30e": {
      "model_module": "@jupyter-widgets/controls",
      "model_module_version": "1.5.0",
      "model_name": "FloatProgressModel",
      "state": {
       "_dom_classes": [],
       "_model_module": "@jupyter-widgets/controls",
       "_model_module_version": "1.5.0",
       "_model_name": "FloatProgressModel",
       "_view_count": null,
       "_view_module": "@jupyter-widgets/controls",
       "_view_module_version": "1.5.0",
       "_view_name": "ProgressView",
       "bar_style": "success",
       "description": "",
       "description_tooltip": null,
       "layout": "IPY_MODEL_a9e465cf5ed0445592b5d5f82fb26cfb",
       "max": 440473133,
       "min": 0,
       "orientation": "horizontal",
       "style": "IPY_MODEL_5f92abce147447ebabbeb3339c7fd791",
       "value": 440473133
      }
     },
     "db910ee8ae754783b8e5909f89da74d1": {
      "model_module": "@jupyter-widgets/base",
      "model_module_version": "1.2.0",
      "model_name": "LayoutModel",
      "state": {
       "_model_module": "@jupyter-widgets/base",
       "_model_module_version": "1.2.0",
       "_model_name": "LayoutModel",
       "_view_count": null,
       "_view_module": "@jupyter-widgets/base",
       "_view_module_version": "1.2.0",
       "_view_name": "LayoutView",
       "align_content": null,
       "align_items": null,
       "align_self": null,
       "border": null,
       "bottom": null,
       "display": null,
       "flex": null,
       "flex_flow": null,
       "grid_area": null,
       "grid_auto_columns": null,
       "grid_auto_flow": null,
       "grid_auto_rows": null,
       "grid_column": null,
       "grid_gap": null,
       "grid_row": null,
       "grid_template_areas": null,
       "grid_template_columns": null,
       "grid_template_rows": null,
       "height": null,
       "justify_content": null,
       "justify_items": null,
       "left": null,
       "margin": null,
       "max_height": null,
       "max_width": null,
       "min_height": null,
       "min_width": null,
       "object_fit": null,
       "object_position": null,
       "order": null,
       "overflow": null,
       "overflow_x": null,
       "overflow_y": null,
       "padding": null,
       "right": null,
       "top": null,
       "visibility": null,
       "width": null
      }
     },
     "ddc21aeec6ae408488d10b01197692e9": {
      "model_module": "@jupyter-widgets/controls",
      "model_module_version": "1.5.0",
      "model_name": "HBoxModel",
      "state": {
       "_dom_classes": [],
       "_model_module": "@jupyter-widgets/controls",
       "_model_module_version": "1.5.0",
       "_model_name": "HBoxModel",
       "_view_count": null,
       "_view_module": "@jupyter-widgets/controls",
       "_view_module_version": "1.5.0",
       "_view_name": "HBoxView",
       "box_style": "",
       "children": [
        "IPY_MODEL_f07dd21c7b644b8f9bf64b54574c6bb2",
        "IPY_MODEL_23746a29ce84405eb260086cb2b958de",
        "IPY_MODEL_5123bb9ac15c43baa6501aad6643ea4a"
       ],
       "layout": "IPY_MODEL_bc5f54598533451d82878bebec30891c"
      }
     },
     "e1efa3cdfef8466fa2ee10dde626f4c8": {
      "model_module": "@jupyter-widgets/controls",
      "model_module_version": "1.5.0",
      "model_name": "DescriptionStyleModel",
      "state": {
       "_model_module": "@jupyter-widgets/controls",
       "_model_module_version": "1.5.0",
       "_model_name": "DescriptionStyleModel",
       "_view_count": null,
       "_view_module": "@jupyter-widgets/base",
       "_view_module_version": "1.2.0",
       "_view_name": "StyleView",
       "description_width": ""
      }
     },
     "eae011f5f41b43c4824368e700f8de05": {
      "model_module": "@jupyter-widgets/base",
      "model_module_version": "1.2.0",
      "model_name": "LayoutModel",
      "state": {
       "_model_module": "@jupyter-widgets/base",
       "_model_module_version": "1.2.0",
       "_model_name": "LayoutModel",
       "_view_count": null,
       "_view_module": "@jupyter-widgets/base",
       "_view_module_version": "1.2.0",
       "_view_name": "LayoutView",
       "align_content": null,
       "align_items": null,
       "align_self": null,
       "border": null,
       "bottom": null,
       "display": null,
       "flex": null,
       "flex_flow": null,
       "grid_area": null,
       "grid_auto_columns": null,
       "grid_auto_flow": null,
       "grid_auto_rows": null,
       "grid_column": null,
       "grid_gap": null,
       "grid_row": null,
       "grid_template_areas": null,
       "grid_template_columns": null,
       "grid_template_rows": null,
       "height": null,
       "justify_content": null,
       "justify_items": null,
       "left": null,
       "margin": null,
       "max_height": null,
       "max_width": null,
       "min_height": null,
       "min_width": null,
       "object_fit": null,
       "object_position": null,
       "order": null,
       "overflow": null,
       "overflow_x": null,
       "overflow_y": null,
       "padding": null,
       "right": null,
       "top": null,
       "visibility": null,
       "width": null
      }
     },
     "f07d4d9e0c294b93aa85dff498173194": {
      "model_module": "@jupyter-widgets/base",
      "model_module_version": "1.2.0",
      "model_name": "LayoutModel",
      "state": {
       "_model_module": "@jupyter-widgets/base",
       "_model_module_version": "1.2.0",
       "_model_name": "LayoutModel",
       "_view_count": null,
       "_view_module": "@jupyter-widgets/base",
       "_view_module_version": "1.2.0",
       "_view_name": "LayoutView",
       "align_content": null,
       "align_items": null,
       "align_self": null,
       "border": null,
       "bottom": null,
       "display": null,
       "flex": null,
       "flex_flow": null,
       "grid_area": null,
       "grid_auto_columns": null,
       "grid_auto_flow": null,
       "grid_auto_rows": null,
       "grid_column": null,
       "grid_gap": null,
       "grid_row": null,
       "grid_template_areas": null,
       "grid_template_columns": null,
       "grid_template_rows": null,
       "height": null,
       "justify_content": null,
       "justify_items": null,
       "left": null,
       "margin": null,
       "max_height": null,
       "max_width": null,
       "min_height": null,
       "min_width": null,
       "object_fit": null,
       "object_position": null,
       "order": null,
       "overflow": null,
       "overflow_x": null,
       "overflow_y": null,
       "padding": null,
       "right": null,
       "top": null,
       "visibility": null,
       "width": null
      }
     },
     "f07dd21c7b644b8f9bf64b54574c6bb2": {
      "model_module": "@jupyter-widgets/controls",
      "model_module_version": "1.5.0",
      "model_name": "HTMLModel",
      "state": {
       "_dom_classes": [],
       "_model_module": "@jupyter-widgets/controls",
       "_model_module_version": "1.5.0",
       "_model_name": "HTMLModel",
       "_view_count": null,
       "_view_module": "@jupyter-widgets/controls",
       "_view_module_version": "1.5.0",
       "_view_name": "HTMLView",
       "description": "",
       "description_tooltip": null,
       "layout": "IPY_MODEL_5a68c629b81d4c1b9ffbd3a9248d207d",
       "placeholder": "​",
       "style": "IPY_MODEL_26fa5a163a78424e837b30459f223b84",
       "value": "Downloading: 100%"
      }
     },
     "f31df84cf2c848568d5a733fd75506d1": {
      "model_module": "@jupyter-widgets/controls",
      "model_module_version": "1.5.0",
      "model_name": "ProgressStyleModel",
      "state": {
       "_model_module": "@jupyter-widgets/controls",
       "_model_module_version": "1.5.0",
       "_model_name": "ProgressStyleModel",
       "_view_count": null,
       "_view_module": "@jupyter-widgets/base",
       "_view_module_version": "1.2.0",
       "_view_name": "StyleView",
       "bar_color": null,
       "description_width": ""
      }
     },
     "f7a8ccc29d4d462bab477f59780c2930": {
      "model_module": "@jupyter-widgets/base",
      "model_module_version": "1.2.0",
      "model_name": "LayoutModel",
      "state": {
       "_model_module": "@jupyter-widgets/base",
       "_model_module_version": "1.2.0",
       "_model_name": "LayoutModel",
       "_view_count": null,
       "_view_module": "@jupyter-widgets/base",
       "_view_module_version": "1.2.0",
       "_view_name": "LayoutView",
       "align_content": null,
       "align_items": null,
       "align_self": null,
       "border": null,
       "bottom": null,
       "display": null,
       "flex": null,
       "flex_flow": null,
       "grid_area": null,
       "grid_auto_columns": null,
       "grid_auto_flow": null,
       "grid_auto_rows": null,
       "grid_column": null,
       "grid_gap": null,
       "grid_row": null,
       "grid_template_areas": null,
       "grid_template_columns": null,
       "grid_template_rows": null,
       "height": null,
       "justify_content": null,
       "justify_items": null,
       "left": null,
       "margin": null,
       "max_height": null,
       "max_width": null,
       "min_height": null,
       "min_width": null,
       "object_fit": null,
       "object_position": null,
       "order": null,
       "overflow": null,
       "overflow_x": null,
       "overflow_y": null,
       "padding": null,
       "right": null,
       "top": null,
       "visibility": null,
       "width": null
      }
     },
     "f8caf859fd014c0ab89c29d2cfefd5c1": {
      "model_module": "@jupyter-widgets/controls",
      "model_module_version": "1.5.0",
      "model_name": "DescriptionStyleModel",
      "state": {
       "_model_module": "@jupyter-widgets/controls",
       "_model_module_version": "1.5.0",
       "_model_name": "DescriptionStyleModel",
       "_view_count": null,
       "_view_module": "@jupyter-widgets/base",
       "_view_module_version": "1.2.0",
       "_view_name": "StyleView",
       "description_width": ""
      }
     },
     "fb2c006b035c438bbdbb7510e631c359": {
      "model_module": "@jupyter-widgets/controls",
      "model_module_version": "1.5.0",
      "model_name": "ProgressStyleModel",
      "state": {
       "_model_module": "@jupyter-widgets/controls",
       "_model_module_version": "1.5.0",
       "_model_name": "ProgressStyleModel",
       "_view_count": null,
       "_view_module": "@jupyter-widgets/base",
       "_view_module_version": "1.2.0",
       "_view_name": "StyleView",
       "bar_color": null,
       "description_width": ""
      }
     }
    },
    "version_major": 2,
    "version_minor": 0
   }
  }
 },
 "nbformat": 4,
 "nbformat_minor": 5
}
